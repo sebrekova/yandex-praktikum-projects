{
 "cells": [
  {
   "cell_type": "markdown",
   "metadata": {},
   "source": [
    "# Выявление закономерностей, определяющих успешность компьютерных игр, для планирования рекламных кампаний на следующий год\n"
   ]
  },
  {
   "cell_type": "markdown",
   "metadata": {},
   "source": [
    "## Импорт библиотек"
   ]
  },
  {
   "cell_type": "code",
   "execution_count": 1,
   "metadata": {},
   "outputs": [],
   "source": [
    "import pandas as pd\n",
    "import numpy as np\n",
    "import matplotlib.pyplot as plt\n",
    "from scipy import stats as st\n",
    "import warnings\n",
    "warnings.filterwarnings('ignore')"
   ]
  },
  {
   "cell_type": "markdown",
   "metadata": {},
   "source": [
    "## Изучение данных"
   ]
  },
  {
   "cell_type": "code",
   "execution_count": 2,
   "metadata": {},
   "outputs": [],
   "source": [
    "games = pd.read_csv('/datasets/games.csv')\n",
    "#games.head(15)\n",
    "#games.info()"
   ]
  },
  {
   "cell_type": "markdown",
   "metadata": {},
   "source": [
    ">1. Датасет содержит 16715 строк и 11 столбцов. Объемно\n",
    ">2. Приведем названия к нижнему регистру, чтобы а)не путаться в дальнейшем б)для корректного поиска дубликатов.\n",
    ">3. Проверим данные на дубликаты.\n",
    ">4. Поищем странные и выбивающиеся значения\n",
    ">5. Обработаем пропуски в столбцах. Сейчас явно видно, что пропущено огромное количество данных в столбцах с рейтингом и оценками\n",
    ">6. Изменим тип данных в некоторых столбцах (сейчас явно нуждаются в замене Year_of_Release, Critic_Score, User_Score) \n",
    ">7. Удобно было бы также привести рейтинги к одному ранжированию. Например, от 0 до 10.  "
   ]
  },
  {
   "cell_type": "markdown",
   "metadata": {},
   "source": [
    "## Подготовка даных"
   ]
  },
  {
   "cell_type": "markdown",
   "metadata": {},
   "source": [
    "### Приведение названий к нижнему регистру"
   ]
  },
  {
   "cell_type": "code",
   "execution_count": 3,
   "metadata": {},
   "outputs": [
    {
     "data": {
      "text/html": [
       "<div>\n",
       "<style scoped>\n",
       "    .dataframe tbody tr th:only-of-type {\n",
       "        vertical-align: middle;\n",
       "    }\n",
       "\n",
       "    .dataframe tbody tr th {\n",
       "        vertical-align: top;\n",
       "    }\n",
       "\n",
       "    .dataframe thead th {\n",
       "        text-align: right;\n",
       "    }\n",
       "</style>\n",
       "<table border=\"1\" class=\"dataframe\">\n",
       "  <thead>\n",
       "    <tr style=\"text-align: right;\">\n",
       "      <th></th>\n",
       "      <th>name</th>\n",
       "      <th>platform</th>\n",
       "      <th>year_of_release</th>\n",
       "      <th>genre</th>\n",
       "      <th>na_sales</th>\n",
       "      <th>eu_sales</th>\n",
       "      <th>jp_sales</th>\n",
       "      <th>other_sales</th>\n",
       "      <th>critic_score</th>\n",
       "      <th>user_score</th>\n",
       "      <th>rating</th>\n",
       "    </tr>\n",
       "  </thead>\n",
       "  <tbody>\n",
       "    <tr>\n",
       "      <th>0</th>\n",
       "      <td>wii sports</td>\n",
       "      <td>wii</td>\n",
       "      <td>2006.0</td>\n",
       "      <td>sports</td>\n",
       "      <td>41.36</td>\n",
       "      <td>28.96</td>\n",
       "      <td>3.77</td>\n",
       "      <td>8.45</td>\n",
       "      <td>76.0</td>\n",
       "      <td>8</td>\n",
       "      <td>e</td>\n",
       "    </tr>\n",
       "    <tr>\n",
       "      <th>1</th>\n",
       "      <td>super mario bros.</td>\n",
       "      <td>nes</td>\n",
       "      <td>1985.0</td>\n",
       "      <td>platform</td>\n",
       "      <td>29.08</td>\n",
       "      <td>3.58</td>\n",
       "      <td>6.81</td>\n",
       "      <td>0.77</td>\n",
       "      <td>NaN</td>\n",
       "      <td>NaN</td>\n",
       "      <td>NaN</td>\n",
       "    </tr>\n",
       "    <tr>\n",
       "      <th>2</th>\n",
       "      <td>mario kart wii</td>\n",
       "      <td>wii</td>\n",
       "      <td>2008.0</td>\n",
       "      <td>racing</td>\n",
       "      <td>15.68</td>\n",
       "      <td>12.76</td>\n",
       "      <td>3.79</td>\n",
       "      <td>3.29</td>\n",
       "      <td>82.0</td>\n",
       "      <td>8.3</td>\n",
       "      <td>e</td>\n",
       "    </tr>\n",
       "    <tr>\n",
       "      <th>3</th>\n",
       "      <td>wii sports resort</td>\n",
       "      <td>wii</td>\n",
       "      <td>2009.0</td>\n",
       "      <td>sports</td>\n",
       "      <td>15.61</td>\n",
       "      <td>10.93</td>\n",
       "      <td>3.28</td>\n",
       "      <td>2.95</td>\n",
       "      <td>80.0</td>\n",
       "      <td>8</td>\n",
       "      <td>e</td>\n",
       "    </tr>\n",
       "    <tr>\n",
       "      <th>4</th>\n",
       "      <td>pokemon red/pokemon blue</td>\n",
       "      <td>gb</td>\n",
       "      <td>1996.0</td>\n",
       "      <td>role-playing</td>\n",
       "      <td>11.27</td>\n",
       "      <td>8.89</td>\n",
       "      <td>10.22</td>\n",
       "      <td>1.00</td>\n",
       "      <td>NaN</td>\n",
       "      <td>NaN</td>\n",
       "      <td>NaN</td>\n",
       "    </tr>\n",
       "    <tr>\n",
       "      <th>5</th>\n",
       "      <td>tetris</td>\n",
       "      <td>gb</td>\n",
       "      <td>1989.0</td>\n",
       "      <td>puzzle</td>\n",
       "      <td>23.20</td>\n",
       "      <td>2.26</td>\n",
       "      <td>4.22</td>\n",
       "      <td>0.58</td>\n",
       "      <td>NaN</td>\n",
       "      <td>NaN</td>\n",
       "      <td>NaN</td>\n",
       "    </tr>\n",
       "    <tr>\n",
       "      <th>6</th>\n",
       "      <td>new super mario bros.</td>\n",
       "      <td>ds</td>\n",
       "      <td>2006.0</td>\n",
       "      <td>platform</td>\n",
       "      <td>11.28</td>\n",
       "      <td>9.14</td>\n",
       "      <td>6.50</td>\n",
       "      <td>2.88</td>\n",
       "      <td>89.0</td>\n",
       "      <td>8.5</td>\n",
       "      <td>e</td>\n",
       "    </tr>\n",
       "    <tr>\n",
       "      <th>7</th>\n",
       "      <td>wii play</td>\n",
       "      <td>wii</td>\n",
       "      <td>2006.0</td>\n",
       "      <td>misc</td>\n",
       "      <td>13.96</td>\n",
       "      <td>9.18</td>\n",
       "      <td>2.93</td>\n",
       "      <td>2.84</td>\n",
       "      <td>58.0</td>\n",
       "      <td>6.6</td>\n",
       "      <td>e</td>\n",
       "    </tr>\n",
       "    <tr>\n",
       "      <th>8</th>\n",
       "      <td>new super mario bros. wii</td>\n",
       "      <td>wii</td>\n",
       "      <td>2009.0</td>\n",
       "      <td>platform</td>\n",
       "      <td>14.44</td>\n",
       "      <td>6.94</td>\n",
       "      <td>4.70</td>\n",
       "      <td>2.24</td>\n",
       "      <td>87.0</td>\n",
       "      <td>8.4</td>\n",
       "      <td>e</td>\n",
       "    </tr>\n",
       "    <tr>\n",
       "      <th>9</th>\n",
       "      <td>duck hunt</td>\n",
       "      <td>nes</td>\n",
       "      <td>1984.0</td>\n",
       "      <td>shooter</td>\n",
       "      <td>26.93</td>\n",
       "      <td>0.63</td>\n",
       "      <td>0.28</td>\n",
       "      <td>0.47</td>\n",
       "      <td>NaN</td>\n",
       "      <td>NaN</td>\n",
       "      <td>NaN</td>\n",
       "    </tr>\n",
       "    <tr>\n",
       "      <th>10</th>\n",
       "      <td>nintendogs</td>\n",
       "      <td>ds</td>\n",
       "      <td>2005.0</td>\n",
       "      <td>simulation</td>\n",
       "      <td>9.05</td>\n",
       "      <td>10.95</td>\n",
       "      <td>1.93</td>\n",
       "      <td>2.74</td>\n",
       "      <td>NaN</td>\n",
       "      <td>NaN</td>\n",
       "      <td>NaN</td>\n",
       "    </tr>\n",
       "    <tr>\n",
       "      <th>11</th>\n",
       "      <td>mario kart ds</td>\n",
       "      <td>ds</td>\n",
       "      <td>2005.0</td>\n",
       "      <td>racing</td>\n",
       "      <td>9.71</td>\n",
       "      <td>7.47</td>\n",
       "      <td>4.13</td>\n",
       "      <td>1.90</td>\n",
       "      <td>91.0</td>\n",
       "      <td>8.6</td>\n",
       "      <td>e</td>\n",
       "    </tr>\n",
       "    <tr>\n",
       "      <th>12</th>\n",
       "      <td>pokemon gold/pokemon silver</td>\n",
       "      <td>gb</td>\n",
       "      <td>1999.0</td>\n",
       "      <td>role-playing</td>\n",
       "      <td>9.00</td>\n",
       "      <td>6.18</td>\n",
       "      <td>7.20</td>\n",
       "      <td>0.71</td>\n",
       "      <td>NaN</td>\n",
       "      <td>NaN</td>\n",
       "      <td>NaN</td>\n",
       "    </tr>\n",
       "    <tr>\n",
       "      <th>13</th>\n",
       "      <td>wii fit</td>\n",
       "      <td>wii</td>\n",
       "      <td>2007.0</td>\n",
       "      <td>sports</td>\n",
       "      <td>8.92</td>\n",
       "      <td>8.03</td>\n",
       "      <td>3.60</td>\n",
       "      <td>2.15</td>\n",
       "      <td>80.0</td>\n",
       "      <td>7.7</td>\n",
       "      <td>e</td>\n",
       "    </tr>\n",
       "    <tr>\n",
       "      <th>14</th>\n",
       "      <td>kinect adventures!</td>\n",
       "      <td>x360</td>\n",
       "      <td>2010.0</td>\n",
       "      <td>misc</td>\n",
       "      <td>15.00</td>\n",
       "      <td>4.89</td>\n",
       "      <td>0.24</td>\n",
       "      <td>1.69</td>\n",
       "      <td>61.0</td>\n",
       "      <td>6.3</td>\n",
       "      <td>e</td>\n",
       "    </tr>\n",
       "  </tbody>\n",
       "</table>\n",
       "</div>"
      ],
      "text/plain": [
       "                           name platform  year_of_release         genre  \\\n",
       "0                    wii sports      wii           2006.0        sports   \n",
       "1             super mario bros.      nes           1985.0      platform   \n",
       "2                mario kart wii      wii           2008.0        racing   \n",
       "3             wii sports resort      wii           2009.0        sports   \n",
       "4      pokemon red/pokemon blue       gb           1996.0  role-playing   \n",
       "5                        tetris       gb           1989.0        puzzle   \n",
       "6         new super mario bros.       ds           2006.0      platform   \n",
       "7                      wii play      wii           2006.0          misc   \n",
       "8     new super mario bros. wii      wii           2009.0      platform   \n",
       "9                     duck hunt      nes           1984.0       shooter   \n",
       "10                   nintendogs       ds           2005.0    simulation   \n",
       "11                mario kart ds       ds           2005.0        racing   \n",
       "12  pokemon gold/pokemon silver       gb           1999.0  role-playing   \n",
       "13                      wii fit      wii           2007.0        sports   \n",
       "14           kinect adventures!     x360           2010.0          misc   \n",
       "\n",
       "    na_sales  eu_sales  jp_sales  other_sales  critic_score user_score rating  \n",
       "0      41.36     28.96      3.77         8.45          76.0          8      e  \n",
       "1      29.08      3.58      6.81         0.77           NaN        NaN    NaN  \n",
       "2      15.68     12.76      3.79         3.29          82.0        8.3      e  \n",
       "3      15.61     10.93      3.28         2.95          80.0          8      e  \n",
       "4      11.27      8.89     10.22         1.00           NaN        NaN    NaN  \n",
       "5      23.20      2.26      4.22         0.58           NaN        NaN    NaN  \n",
       "6      11.28      9.14      6.50         2.88          89.0        8.5      e  \n",
       "7      13.96      9.18      2.93         2.84          58.0        6.6      e  \n",
       "8      14.44      6.94      4.70         2.24          87.0        8.4      e  \n",
       "9      26.93      0.63      0.28         0.47           NaN        NaN    NaN  \n",
       "10      9.05     10.95      1.93         2.74           NaN        NaN    NaN  \n",
       "11      9.71      7.47      4.13         1.90          91.0        8.6      e  \n",
       "12      9.00      6.18      7.20         0.71           NaN        NaN    NaN  \n",
       "13      8.92      8.03      3.60         2.15          80.0        7.7      e  \n",
       "14     15.00      4.89      0.24         1.69          61.0        6.3      e  "
      ]
     },
     "execution_count": 3,
     "metadata": {},
     "output_type": "execute_result"
    }
   ],
   "source": [
    "games.columns = games.columns.str.lower() #приводим названия столбцов к нижнему регистру\n",
    "for names in games[['name', 'platform', 'genre', 'rating']]: #приводим все текстовые данные в датафрейме к нижнему регистру\n",
    "    games[names] = games[names].str.lower()\n",
    "    \n",
    "games.head(15)"
   ]
  },
  {
   "cell_type": "markdown",
   "metadata": {},
   "source": [
    "### Проверка на дубликаты"
   ]
  },
  {
   "cell_type": "code",
   "execution_count": 4,
   "metadata": {},
   "outputs": [
    {
     "name": "stdout",
     "output_type": "stream",
     "text": [
      "Количество дубликатов в датафрейме games: 0\n"
     ]
    }
   ],
   "source": [
    "print('Количество дубликатов в датафрейме games:', games.duplicated().sum())"
   ]
  },
  {
   "cell_type": "markdown",
   "metadata": {},
   "source": [
    "### Обработка данных в столбцах (поиск странных значений, обработка пропусков, замена типа данных)"
   ]
  },
  {
   "cell_type": "code",
   "execution_count": 5,
   "metadata": {},
   "outputs": [
    {
     "data": {
      "text/plain": [
       "name                  2\n",
       "platform              0\n",
       "year_of_release     269\n",
       "genre                 2\n",
       "na_sales              0\n",
       "eu_sales              0\n",
       "jp_sales              0\n",
       "other_sales           0\n",
       "critic_score       8578\n",
       "user_score         6701\n",
       "rating             6766\n",
       "dtype: int64"
      ]
     },
     "execution_count": 5,
     "metadata": {},
     "output_type": "execute_result"
    }
   ],
   "source": [
    "games.isnull().sum() #пропуски мы уже отметили ранее при изучении информации, повторим пропуски еще и таким образом, чтобы было удобнее работать"
   ]
  },
  {
   "cell_type": "markdown",
   "metadata": {},
   "source": [
    "#### Названия игр (name)"
   ]
  },
  {
   "cell_type": "markdown",
   "metadata": {},
   "source": [
    "В столбце name с названием игр, отсутствует 2 значения. Эти же 2 значения пропущены и в genre. Но есть значения в продажах и названии платформы. Чтобы не потерять их, оставим как есть. Тип данных верный"
   ]
  },
  {
   "cell_type": "code",
   "execution_count": 6,
   "metadata": {},
   "outputs": [
    {
     "data": {
      "text/html": [
       "<div>\n",
       "<style scoped>\n",
       "    .dataframe tbody tr th:only-of-type {\n",
       "        vertical-align: middle;\n",
       "    }\n",
       "\n",
       "    .dataframe tbody tr th {\n",
       "        vertical-align: top;\n",
       "    }\n",
       "\n",
       "    .dataframe thead th {\n",
       "        text-align: right;\n",
       "    }\n",
       "</style>\n",
       "<table border=\"1\" class=\"dataframe\">\n",
       "  <thead>\n",
       "    <tr style=\"text-align: right;\">\n",
       "      <th></th>\n",
       "      <th>name</th>\n",
       "      <th>platform</th>\n",
       "      <th>year_of_release</th>\n",
       "      <th>genre</th>\n",
       "      <th>na_sales</th>\n",
       "      <th>eu_sales</th>\n",
       "      <th>jp_sales</th>\n",
       "      <th>other_sales</th>\n",
       "      <th>critic_score</th>\n",
       "      <th>user_score</th>\n",
       "      <th>rating</th>\n",
       "    </tr>\n",
       "  </thead>\n",
       "  <tbody>\n",
       "    <tr>\n",
       "      <th>659</th>\n",
       "      <td>NaN</td>\n",
       "      <td>gen</td>\n",
       "      <td>1993.0</td>\n",
       "      <td>NaN</td>\n",
       "      <td>1.78</td>\n",
       "      <td>0.53</td>\n",
       "      <td>0.00</td>\n",
       "      <td>0.08</td>\n",
       "      <td>NaN</td>\n",
       "      <td>NaN</td>\n",
       "      <td>NaN</td>\n",
       "    </tr>\n",
       "    <tr>\n",
       "      <th>14244</th>\n",
       "      <td>NaN</td>\n",
       "      <td>gen</td>\n",
       "      <td>1993.0</td>\n",
       "      <td>NaN</td>\n",
       "      <td>0.00</td>\n",
       "      <td>0.00</td>\n",
       "      <td>0.03</td>\n",
       "      <td>0.00</td>\n",
       "      <td>NaN</td>\n",
       "      <td>NaN</td>\n",
       "      <td>NaN</td>\n",
       "    </tr>\n",
       "  </tbody>\n",
       "</table>\n",
       "</div>"
      ],
      "text/plain": [
       "      name platform  year_of_release genre  na_sales  eu_sales  jp_sales  \\\n",
       "659    NaN      gen           1993.0   NaN      1.78      0.53      0.00   \n",
       "14244  NaN      gen           1993.0   NaN      0.00      0.00      0.03   \n",
       "\n",
       "       other_sales  critic_score user_score rating  \n",
       "659           0.08           NaN        NaN    NaN  \n",
       "14244         0.00           NaN        NaN    NaN  "
      ]
     },
     "execution_count": 6,
     "metadata": {},
     "output_type": "execute_result"
    }
   ],
   "source": [
    "games[games['name'].isnull()]"
   ]
  },
  {
   "cell_type": "markdown",
   "metadata": {},
   "source": [
    "#### Платформа игры (platform)"
   ]
  },
  {
   "cell_type": "code",
   "execution_count": 7,
   "metadata": {},
   "outputs": [
    {
     "data": {
      "text/plain": [
       "array(['wii', 'nes', 'gb', 'ds', 'x360', 'ps3', 'ps2', 'snes', 'gba',\n",
       "       'ps4', '3ds', 'n64', 'ps', 'xb', 'pc', '2600', 'psp', 'xone',\n",
       "       'wiiu', 'gc', 'gen', 'dc', 'psv', 'sat', 'scd', 'ws', 'ng', 'tg16',\n",
       "       '3do', 'gg', 'pcfx'], dtype=object)"
      ]
     },
     "execution_count": 7,
     "metadata": {},
     "output_type": "execute_result"
    }
   ],
   "source": [
    "games['platform'].unique()"
   ]
  },
  {
   "cell_type": "markdown",
   "metadata": {},
   "source": [
    "Повторений нет, пропусков нет, тип данных верный"
   ]
  },
  {
   "cell_type": "markdown",
   "metadata": {},
   "source": [
    "#### Год релиза (year_of_release)"
   ]
  },
  {
   "cell_type": "markdown",
   "metadata": {},
   "source": [
    "269 пропущенных значений. Видимо, где-то забыли указать год или данные на сохранились. Это всего 1,6% данных от общего объема, не критично. Оставляем"
   ]
  },
  {
   "cell_type": "code",
   "execution_count": 8,
   "metadata": {},
   "outputs": [
    {
     "data": {
      "text/plain": [
       "array([2006., 1985., 2008., 2009., 1996., 1989., 1984., 2005., 1999.,\n",
       "       2007., 2010., 2013., 2004., 1990., 1988., 2002., 2001., 2011.,\n",
       "       1998., 2015., 2012., 2014., 1992., 1997., 1993., 1994., 1982.,\n",
       "       2016., 2003., 1986., 2000.,   nan, 1995., 1991., 1981., 1987.,\n",
       "       1980., 1983.])"
      ]
     },
     "execution_count": 8,
     "metadata": {},
     "output_type": "execute_result"
    }
   ],
   "source": [
    "games['year_of_release'].unique()"
   ]
  },
  {
   "cell_type": "markdown",
   "metadata": {},
   "source": [
    "Странных значений нет. Поменяем год на целое число"
   ]
  },
  {
   "cell_type": "code",
   "execution_count": 9,
   "metadata": {},
   "outputs": [],
   "source": [
    "games['year_of_release'] = (\n",
    "   games['year_of_release'].fillna(0)\n",
    "   .astype(int)\n",
    "   .astype(object)\n",
    "   .where(games['year_of_release'].notnull())\n",
    ")\n",
    "\n",
    "#games.head()"
   ]
  },
  {
   "cell_type": "markdown",
   "metadata": {},
   "source": [
    "#### Жанр (genre)"
   ]
  },
  {
   "cell_type": "markdown",
   "metadata": {},
   "source": [
    "2 значения пропущено. Оставляем как есть. Тип данных верный."
   ]
  },
  {
   "cell_type": "code",
   "execution_count": 10,
   "metadata": {},
   "outputs": [
    {
     "data": {
      "text/plain": [
       "array(['sports', 'platform', 'racing', 'role-playing', 'puzzle', 'misc',\n",
       "       'shooter', 'simulation', 'action', 'fighting', 'adventure',\n",
       "       'strategy', nan], dtype=object)"
      ]
     },
     "execution_count": 10,
     "metadata": {},
     "output_type": "execute_result"
    }
   ],
   "source": [
    "games['genre'].unique() #ищем странные значения"
   ]
  },
  {
   "cell_type": "markdown",
   "metadata": {},
   "source": [
    "#### Продажи (..._sales) "
   ]
  },
  {
   "cell_type": "markdown",
   "metadata": {},
   "source": [
    "Все 4 столбца с продажами не содержат пропусков. Тип данных верный. Посмотрим min на всякий случай. Вдруг есть отрицательные значения"
   ]
  },
  {
   "cell_type": "code",
   "execution_count": 11,
   "metadata": {},
   "outputs": [
    {
     "data": {
      "text/html": [
       "<div>\n",
       "<style scoped>\n",
       "    .dataframe tbody tr th:only-of-type {\n",
       "        vertical-align: middle;\n",
       "    }\n",
       "\n",
       "    .dataframe tbody tr th {\n",
       "        vertical-align: top;\n",
       "    }\n",
       "\n",
       "    .dataframe thead th {\n",
       "        text-align: right;\n",
       "    }\n",
       "</style>\n",
       "<table border=\"1\" class=\"dataframe\">\n",
       "  <thead>\n",
       "    <tr style=\"text-align: right;\">\n",
       "      <th></th>\n",
       "      <th>na_sales</th>\n",
       "      <th>eu_sales</th>\n",
       "      <th>jp_sales</th>\n",
       "      <th>other_sales</th>\n",
       "      <th>critic_score</th>\n",
       "    </tr>\n",
       "  </thead>\n",
       "  <tbody>\n",
       "    <tr>\n",
       "      <th>count</th>\n",
       "      <td>16715.000000</td>\n",
       "      <td>16715.000000</td>\n",
       "      <td>16715.000000</td>\n",
       "      <td>16715.000000</td>\n",
       "      <td>8137.000000</td>\n",
       "    </tr>\n",
       "    <tr>\n",
       "      <th>mean</th>\n",
       "      <td>0.263377</td>\n",
       "      <td>0.145060</td>\n",
       "      <td>0.077617</td>\n",
       "      <td>0.047342</td>\n",
       "      <td>68.967679</td>\n",
       "    </tr>\n",
       "    <tr>\n",
       "      <th>std</th>\n",
       "      <td>0.813604</td>\n",
       "      <td>0.503339</td>\n",
       "      <td>0.308853</td>\n",
       "      <td>0.186731</td>\n",
       "      <td>13.938165</td>\n",
       "    </tr>\n",
       "    <tr>\n",
       "      <th>min</th>\n",
       "      <td>0.000000</td>\n",
       "      <td>0.000000</td>\n",
       "      <td>0.000000</td>\n",
       "      <td>0.000000</td>\n",
       "      <td>13.000000</td>\n",
       "    </tr>\n",
       "    <tr>\n",
       "      <th>25%</th>\n",
       "      <td>0.000000</td>\n",
       "      <td>0.000000</td>\n",
       "      <td>0.000000</td>\n",
       "      <td>0.000000</td>\n",
       "      <td>60.000000</td>\n",
       "    </tr>\n",
       "    <tr>\n",
       "      <th>50%</th>\n",
       "      <td>0.080000</td>\n",
       "      <td>0.020000</td>\n",
       "      <td>0.000000</td>\n",
       "      <td>0.010000</td>\n",
       "      <td>71.000000</td>\n",
       "    </tr>\n",
       "    <tr>\n",
       "      <th>75%</th>\n",
       "      <td>0.240000</td>\n",
       "      <td>0.110000</td>\n",
       "      <td>0.040000</td>\n",
       "      <td>0.030000</td>\n",
       "      <td>79.000000</td>\n",
       "    </tr>\n",
       "    <tr>\n",
       "      <th>max</th>\n",
       "      <td>41.360000</td>\n",
       "      <td>28.960000</td>\n",
       "      <td>10.220000</td>\n",
       "      <td>10.570000</td>\n",
       "      <td>98.000000</td>\n",
       "    </tr>\n",
       "  </tbody>\n",
       "</table>\n",
       "</div>"
      ],
      "text/plain": [
       "           na_sales      eu_sales      jp_sales   other_sales  critic_score\n",
       "count  16715.000000  16715.000000  16715.000000  16715.000000   8137.000000\n",
       "mean       0.263377      0.145060      0.077617      0.047342     68.967679\n",
       "std        0.813604      0.503339      0.308853      0.186731     13.938165\n",
       "min        0.000000      0.000000      0.000000      0.000000     13.000000\n",
       "25%        0.000000      0.000000      0.000000      0.000000     60.000000\n",
       "50%        0.080000      0.020000      0.000000      0.010000     71.000000\n",
       "75%        0.240000      0.110000      0.040000      0.030000     79.000000\n",
       "max       41.360000     28.960000     10.220000     10.570000     98.000000"
      ]
     },
     "execution_count": 11,
     "metadata": {},
     "output_type": "execute_result"
    }
   ],
   "source": [
    "games.describe()"
   ]
  },
  {
   "cell_type": "markdown",
   "metadata": {},
   "source": [
    "Везде минимум  - нулевое значение, все в порядке"
   ]
  },
  {
   "cell_type": "markdown",
   "metadata": {},
   "source": [
    "#### Оценки критиков и пользователей  (critic_score и user_score) "
   ]
  },
  {
   "cell_type": "markdown",
   "metadata": {},
   "source": [
    "В critic_score почти 50% данных отсутствуют, в user_score все 60%. Предположим, что критики и юзеры не оценили игру вообще. В задаче нам требуется провести исследование по влиянию отзывов пользователей и критиков на продажи. Поэтому оставим пустые значения и в дальнейшем просто будет учитывать параметры \"с оценкой\" и \"без оценки\". Поищем странные значения и поменяем тип данных"
   ]
  },
  {
   "cell_type": "markdown",
   "metadata": {},
   "source": [
    "##### Critic_score"
   ]
  },
  {
   "cell_type": "code",
   "execution_count": 12,
   "metadata": {},
   "outputs": [
    {
     "data": {
      "text/plain": [
       "array([76., nan, 82., 80., 89., 58., 87., 91., 61., 97., 95., 77., 88.,\n",
       "       83., 94., 93., 85., 86., 98., 96., 90., 84., 73., 74., 78., 92.,\n",
       "       71., 72., 68., 62., 49., 67., 81., 66., 56., 79., 70., 59., 64.,\n",
       "       75., 60., 63., 69., 50., 25., 42., 44., 55., 48., 57., 29., 47.,\n",
       "       65., 54., 20., 53., 37., 38., 33., 52., 30., 32., 43., 45., 51.,\n",
       "       40., 46., 39., 34., 35., 41., 36., 28., 31., 27., 26., 19., 23.,\n",
       "       24., 21., 17., 22., 13.])"
      ]
     },
     "execution_count": 12,
     "metadata": {},
     "output_type": "execute_result"
    }
   ],
   "source": [
    "games['critic_score'].unique()"
   ]
  },
  {
   "cell_type": "markdown",
   "metadata": {},
   "source": [
    "Странных значений нет. Приведем данные к той же системе оценки, что и у user_score   "
   ]
  },
  {
   "cell_type": "code",
   "execution_count": 13,
   "metadata": {},
   "outputs": [
    {
     "data": {
      "text/html": [
       "<div>\n",
       "<style scoped>\n",
       "    .dataframe tbody tr th:only-of-type {\n",
       "        vertical-align: middle;\n",
       "    }\n",
       "\n",
       "    .dataframe tbody tr th {\n",
       "        vertical-align: top;\n",
       "    }\n",
       "\n",
       "    .dataframe thead th {\n",
       "        text-align: right;\n",
       "    }\n",
       "</style>\n",
       "<table border=\"1\" class=\"dataframe\">\n",
       "  <thead>\n",
       "    <tr style=\"text-align: right;\">\n",
       "      <th></th>\n",
       "      <th>name</th>\n",
       "      <th>platform</th>\n",
       "      <th>year_of_release</th>\n",
       "      <th>genre</th>\n",
       "      <th>na_sales</th>\n",
       "      <th>eu_sales</th>\n",
       "      <th>jp_sales</th>\n",
       "      <th>other_sales</th>\n",
       "      <th>critic_score</th>\n",
       "      <th>user_score</th>\n",
       "      <th>rating</th>\n",
       "    </tr>\n",
       "  </thead>\n",
       "  <tbody>\n",
       "    <tr>\n",
       "      <th>0</th>\n",
       "      <td>wii sports</td>\n",
       "      <td>wii</td>\n",
       "      <td>2006</td>\n",
       "      <td>sports</td>\n",
       "      <td>41.36</td>\n",
       "      <td>28.96</td>\n",
       "      <td>3.77</td>\n",
       "      <td>8.45</td>\n",
       "      <td>7.6</td>\n",
       "      <td>8</td>\n",
       "      <td>e</td>\n",
       "    </tr>\n",
       "    <tr>\n",
       "      <th>1</th>\n",
       "      <td>super mario bros.</td>\n",
       "      <td>nes</td>\n",
       "      <td>1985</td>\n",
       "      <td>platform</td>\n",
       "      <td>29.08</td>\n",
       "      <td>3.58</td>\n",
       "      <td>6.81</td>\n",
       "      <td>0.77</td>\n",
       "      <td>NaN</td>\n",
       "      <td>NaN</td>\n",
       "      <td>NaN</td>\n",
       "    </tr>\n",
       "    <tr>\n",
       "      <th>2</th>\n",
       "      <td>mario kart wii</td>\n",
       "      <td>wii</td>\n",
       "      <td>2008</td>\n",
       "      <td>racing</td>\n",
       "      <td>15.68</td>\n",
       "      <td>12.76</td>\n",
       "      <td>3.79</td>\n",
       "      <td>3.29</td>\n",
       "      <td>8.2</td>\n",
       "      <td>8.3</td>\n",
       "      <td>e</td>\n",
       "    </tr>\n",
       "    <tr>\n",
       "      <th>3</th>\n",
       "      <td>wii sports resort</td>\n",
       "      <td>wii</td>\n",
       "      <td>2009</td>\n",
       "      <td>sports</td>\n",
       "      <td>15.61</td>\n",
       "      <td>10.93</td>\n",
       "      <td>3.28</td>\n",
       "      <td>2.95</td>\n",
       "      <td>8.0</td>\n",
       "      <td>8</td>\n",
       "      <td>e</td>\n",
       "    </tr>\n",
       "    <tr>\n",
       "      <th>4</th>\n",
       "      <td>pokemon red/pokemon blue</td>\n",
       "      <td>gb</td>\n",
       "      <td>1996</td>\n",
       "      <td>role-playing</td>\n",
       "      <td>11.27</td>\n",
       "      <td>8.89</td>\n",
       "      <td>10.22</td>\n",
       "      <td>1.00</td>\n",
       "      <td>NaN</td>\n",
       "      <td>NaN</td>\n",
       "      <td>NaN</td>\n",
       "    </tr>\n",
       "  </tbody>\n",
       "</table>\n",
       "</div>"
      ],
      "text/plain": [
       "                       name platform year_of_release         genre  na_sales  \\\n",
       "0                wii sports      wii            2006        sports     41.36   \n",
       "1         super mario bros.      nes            1985      platform     29.08   \n",
       "2            mario kart wii      wii            2008        racing     15.68   \n",
       "3         wii sports resort      wii            2009        sports     15.61   \n",
       "4  pokemon red/pokemon blue       gb            1996  role-playing     11.27   \n",
       "\n",
       "   eu_sales  jp_sales  other_sales  critic_score user_score rating  \n",
       "0     28.96      3.77         8.45           7.6          8      e  \n",
       "1      3.58      6.81         0.77           NaN        NaN    NaN  \n",
       "2     12.76      3.79         3.29           8.2        8.3      e  \n",
       "3     10.93      3.28         2.95           8.0          8      e  \n",
       "4      8.89     10.22         1.00           NaN        NaN    NaN  "
      ]
     },
     "execution_count": 13,
     "metadata": {},
     "output_type": "execute_result"
    }
   ],
   "source": [
    "games['critic_score'] = games['critic_score'] / 10\n",
    "games.head()"
   ]
  },
  {
   "cell_type": "markdown",
   "metadata": {},
   "source": [
    "##### User_score"
   ]
  },
  {
   "cell_type": "code",
   "execution_count": 14,
   "metadata": {},
   "outputs": [
    {
     "data": {
      "text/plain": [
       "array(['8', nan, '8.3', '8.5', '6.6', '8.4', '8.6', '7.7', '6.3', '7.4',\n",
       "       '8.2', '9', '7.9', '8.1', '8.7', '7.1', '3.4', '5.3', '4.8', '3.2',\n",
       "       '8.9', '6.4', '7.8', '7.5', '2.6', '7.2', '9.2', '7', '7.3', '4.3',\n",
       "       '7.6', '5.7', '5', '9.1', '6.5', 'tbd', '8.8', '6.9', '9.4', '6.8',\n",
       "       '6.1', '6.7', '5.4', '4', '4.9', '4.5', '9.3', '6.2', '4.2', '6',\n",
       "       '3.7', '4.1', '5.8', '5.6', '5.5', '4.4', '4.6', '5.9', '3.9',\n",
       "       '3.1', '2.9', '5.2', '3.3', '4.7', '5.1', '3.5', '2.5', '1.9', '3',\n",
       "       '2.7', '2.2', '2', '9.5', '2.1', '3.6', '2.8', '1.8', '3.8', '0',\n",
       "       '1.6', '9.6', '2.4', '1.7', '1.1', '0.3', '1.5', '0.7', '1.2',\n",
       "       '2.3', '0.5', '1.3', '0.2', '0.6', '1.4', '0.9', '1', '9.7'],\n",
       "      dtype=object)"
      ]
     },
     "execution_count": 14,
     "metadata": {},
     "output_type": "execute_result"
    }
   ],
   "source": [
    "games['user_score'].unique()"
   ]
  },
  {
   "cell_type": "markdown",
   "metadata": {},
   "source": [
    "Странное значение tbd. Вероятно To Be Determined / To Be Discussed. Может быть эта оценка просто не определена, может быть подлежит проверке. Так ли иначе tbd можно спокойно заменить Nan  "
   ]
  },
  {
   "cell_type": "code",
   "execution_count": 15,
   "metadata": {},
   "outputs": [
    {
     "data": {
      "text/plain": [
       "array(['8', nan, '8.3', '8.5', '6.6', '8.4', '8.6', '7.7', '6.3', '7.4',\n",
       "       '8.2', '9', '7.9', '8.1', '8.7', '7.1', '3.4', '5.3', '4.8', '3.2',\n",
       "       '8.9', '6.4', '7.8', '7.5', '2.6', '7.2', '9.2', '7', '7.3', '4.3',\n",
       "       '7.6', '5.7', '5', '9.1', '6.5', '8.8', '6.9', '9.4', '6.8', '6.1',\n",
       "       '6.7', '5.4', '4', '4.9', '4.5', '9.3', '6.2', '4.2', '6', '3.7',\n",
       "       '4.1', '5.8', '5.6', '5.5', '4.4', '4.6', '5.9', '3.9', '3.1',\n",
       "       '2.9', '5.2', '3.3', '4.7', '5.1', '3.5', '2.5', '1.9', '3', '2.7',\n",
       "       '2.2', '2', '9.5', '2.1', '3.6', '2.8', '1.8', '3.8', '0', '1.6',\n",
       "       '9.6', '2.4', '1.7', '1.1', '0.3', '1.5', '0.7', '1.2', '2.3',\n",
       "       '0.5', '1.3', '0.2', '0.6', '1.4', '0.9', '1', '9.7'], dtype=object)"
      ]
     },
     "execution_count": 15,
     "metadata": {},
     "output_type": "execute_result"
    }
   ],
   "source": [
    "games['user_score'] = games['user_score'].replace('tbd', np.nan) # заменяем tbd на NaN\n",
    "games['user_score'].unique() # проверяем удачность замены"
   ]
  },
  {
   "cell_type": "code",
   "execution_count": 16,
   "metadata": {},
   "outputs": [
    {
     "name": "stdout",
     "output_type": "stream",
     "text": [
      "<class 'pandas.core.frame.DataFrame'>\n",
      "RangeIndex: 16715 entries, 0 to 16714\n",
      "Data columns (total 11 columns):\n",
      " #   Column           Non-Null Count  Dtype  \n",
      "---  ------           --------------  -----  \n",
      " 0   name             16713 non-null  object \n",
      " 1   platform         16715 non-null  object \n",
      " 2   year_of_release  16446 non-null  object \n",
      " 3   genre            16713 non-null  object \n",
      " 4   na_sales         16715 non-null  float64\n",
      " 5   eu_sales         16715 non-null  float64\n",
      " 6   jp_sales         16715 non-null  float64\n",
      " 7   other_sales      16715 non-null  float64\n",
      " 8   critic_score     8137 non-null   float64\n",
      " 9   user_score       7590 non-null   float64\n",
      " 10  rating           9949 non-null   object \n",
      "dtypes: float64(6), object(5)\n",
      "memory usage: 1.4+ MB\n"
     ]
    }
   ],
   "source": [
    "games['user_score'] = games['user_score'].astype(float) #приводим данные в users_score к типу float\n",
    "games.info() #проверяем удачность замены"
   ]
  },
  {
   "cell_type": "markdown",
   "metadata": {},
   "source": [
    "#### Рейтинг ESRB (rating) "
   ]
  },
  {
   "cell_type": "markdown",
   "metadata": {},
   "source": [
    "Пропущено 40% данных. Поскольку игровым компаниями не обязательно предоставлять игру для присовения рейтинга ESRB, думаю, что скорее всего пропуски означают отсутствие этого рейтинга в приниципе. В исследовании этот рейтинг будет важен единожды - нужно определить влияет ли его наличие на продажи или не влияет. Т.е. по сути дела нам важно 2 исхода - \"рейтинг есть\", \"рейтинга нет\". А какой именно будет рейтинг, нам не важно. Хотя в рабочей ситуации лучше было бы уточнить этот момент у коллег, кто собирал данные. Вдруг наличие рейтинга есть у большего числа игр, и эта информация просто не подгрузилась. \n",
    "\n",
    "В текущей ситуации оставим ячейки с отсутствием рейтинга и проведем дальнейшую проверку."
   ]
  },
  {
   "cell_type": "code",
   "execution_count": 17,
   "metadata": {},
   "outputs": [
    {
     "data": {
      "text/plain": [
       "array(['e', nan, 'm', 't', 'e10+', 'k-a', 'ao', 'ec', 'rp'], dtype=object)"
      ]
     },
     "execution_count": 17,
     "metadata": {},
     "output_type": "execute_result"
    }
   ],
   "source": [
    "games['rating'].unique() #поищем странные значения"
   ]
  },
  {
   "cell_type": "markdown",
   "metadata": {},
   "source": [
    "1. Значение k-a = значению e, посокольку до 1998 года использовалась фомулировка kids-to-adults, которая в 1998 году поменялась на everyone\n",
    "2. Значение rp - raiting pending, т.е. ожидание рейтинга. Данный логотип используется только на рекламных презентациях и в демо-версиях игр до официальной даты выпуска в продажу. То есть по факту возможно была только демоверсия игры, а полная игра так и не вышла. Но возможно и ситуация, когда рейтинг rp просто не поменяли. Посмотрим на данные с rp рейтингом"
   ]
  },
  {
   "cell_type": "code",
   "execution_count": 18,
   "metadata": {},
   "outputs": [
    {
     "data": {
      "text/html": [
       "<div>\n",
       "<style scoped>\n",
       "    .dataframe tbody tr th:only-of-type {\n",
       "        vertical-align: middle;\n",
       "    }\n",
       "\n",
       "    .dataframe tbody tr th {\n",
       "        vertical-align: top;\n",
       "    }\n",
       "\n",
       "    .dataframe thead th {\n",
       "        text-align: right;\n",
       "    }\n",
       "</style>\n",
       "<table border=\"1\" class=\"dataframe\">\n",
       "  <thead>\n",
       "    <tr style=\"text-align: right;\">\n",
       "      <th></th>\n",
       "      <th>name</th>\n",
       "      <th>platform</th>\n",
       "      <th>year_of_release</th>\n",
       "      <th>genre</th>\n",
       "      <th>na_sales</th>\n",
       "      <th>eu_sales</th>\n",
       "      <th>jp_sales</th>\n",
       "      <th>other_sales</th>\n",
       "      <th>critic_score</th>\n",
       "      <th>user_score</th>\n",
       "      <th>rating</th>\n",
       "    </tr>\n",
       "  </thead>\n",
       "  <tbody>\n",
       "    <tr>\n",
       "      <th>13672</th>\n",
       "      <td>clockwork empires</td>\n",
       "      <td>pc</td>\n",
       "      <td>NaN</td>\n",
       "      <td>strategy</td>\n",
       "      <td>0.0</td>\n",
       "      <td>0.04</td>\n",
       "      <td>0.0</td>\n",
       "      <td>0.00</td>\n",
       "      <td>5.8</td>\n",
       "      <td>3.8</td>\n",
       "      <td>rp</td>\n",
       "    </tr>\n",
       "    <tr>\n",
       "      <th>14270</th>\n",
       "      <td>supreme ruler: cold war</td>\n",
       "      <td>pc</td>\n",
       "      <td>2011</td>\n",
       "      <td>strategy</td>\n",
       "      <td>0.0</td>\n",
       "      <td>0.03</td>\n",
       "      <td>0.0</td>\n",
       "      <td>0.01</td>\n",
       "      <td>6.3</td>\n",
       "      <td>6.8</td>\n",
       "      <td>rp</td>\n",
       "    </tr>\n",
       "    <tr>\n",
       "      <th>16180</th>\n",
       "      <td>wrc: fia world rally championship</td>\n",
       "      <td>pc</td>\n",
       "      <td>NaN</td>\n",
       "      <td>racing</td>\n",
       "      <td>0.0</td>\n",
       "      <td>0.01</td>\n",
       "      <td>0.0</td>\n",
       "      <td>0.00</td>\n",
       "      <td>6.5</td>\n",
       "      <td>NaN</td>\n",
       "      <td>rp</td>\n",
       "    </tr>\n",
       "  </tbody>\n",
       "</table>\n",
       "</div>"
      ],
      "text/plain": [
       "                                    name platform year_of_release     genre  \\\n",
       "13672                  clockwork empires       pc             NaN  strategy   \n",
       "14270            supreme ruler: cold war       pc            2011  strategy   \n",
       "16180  wrc: fia world rally championship       pc             NaN    racing   \n",
       "\n",
       "       na_sales  eu_sales  jp_sales  other_sales  critic_score  user_score  \\\n",
       "13672       0.0      0.04       0.0         0.00           5.8         3.8   \n",
       "14270       0.0      0.03       0.0         0.01           6.3         6.8   \n",
       "16180       0.0      0.01       0.0         0.00           6.5         NaN   \n",
       "\n",
       "      rating  \n",
       "13672     rp  \n",
       "14270     rp  \n",
       "16180     rp  "
      ]
     },
     "metadata": {},
     "output_type": "display_data"
    }
   ],
   "source": [
    "display(games.query('rating == \"rp\"'))"
   ]
  },
  {
   "cell_type": "markdown",
   "metadata": {},
   "source": [
    "Объем продаж очень маленький, но он есть. Прогуглив эти игры, выясняем, что они на самом деле существуют не только в демо-версии и были на самом деле выпущены ранее 2016 года. То есть на момент выгрузки данных, скорее всего рейтинг был уже присвоен, но его не поменяли на актуальный. Будем считать, что rp - это тоже значение того, что рейтинг есть.  \n",
    "Менять k-a на e считаю не обязательным с целью экономия времени. По условию важно только наличие рейтинга или его отсутствие.  \n",
    "Тип данных в ячейках верный"
   ]
  },
  {
   "cell_type": "markdown",
   "metadata": {},
   "source": [
    "### Суммарные продажи во всех регионах"
   ]
  },
  {
   "cell_type": "markdown",
   "metadata": {},
   "source": [
    "Создадим отдельный столбец, в котором посчитаем суммарные продажи от каждой игры по всем регионам"
   ]
  },
  {
   "cell_type": "code",
   "execution_count": 19,
   "metadata": {},
   "outputs": [
    {
     "data": {
      "text/html": [
       "<div>\n",
       "<style scoped>\n",
       "    .dataframe tbody tr th:only-of-type {\n",
       "        vertical-align: middle;\n",
       "    }\n",
       "\n",
       "    .dataframe tbody tr th {\n",
       "        vertical-align: top;\n",
       "    }\n",
       "\n",
       "    .dataframe thead th {\n",
       "        text-align: right;\n",
       "    }\n",
       "</style>\n",
       "<table border=\"1\" class=\"dataframe\">\n",
       "  <thead>\n",
       "    <tr style=\"text-align: right;\">\n",
       "      <th></th>\n",
       "      <th>name</th>\n",
       "      <th>platform</th>\n",
       "      <th>year_of_release</th>\n",
       "      <th>genre</th>\n",
       "      <th>na_sales</th>\n",
       "      <th>eu_sales</th>\n",
       "      <th>jp_sales</th>\n",
       "      <th>other_sales</th>\n",
       "      <th>critic_score</th>\n",
       "      <th>user_score</th>\n",
       "      <th>rating</th>\n",
       "      <th>total_sales</th>\n",
       "    </tr>\n",
       "  </thead>\n",
       "  <tbody>\n",
       "    <tr>\n",
       "      <th>0</th>\n",
       "      <td>wii sports</td>\n",
       "      <td>wii</td>\n",
       "      <td>2006</td>\n",
       "      <td>sports</td>\n",
       "      <td>41.36</td>\n",
       "      <td>28.96</td>\n",
       "      <td>3.77</td>\n",
       "      <td>8.45</td>\n",
       "      <td>7.6</td>\n",
       "      <td>8.0</td>\n",
       "      <td>e</td>\n",
       "      <td>82.54</td>\n",
       "    </tr>\n",
       "    <tr>\n",
       "      <th>1</th>\n",
       "      <td>super mario bros.</td>\n",
       "      <td>nes</td>\n",
       "      <td>1985</td>\n",
       "      <td>platform</td>\n",
       "      <td>29.08</td>\n",
       "      <td>3.58</td>\n",
       "      <td>6.81</td>\n",
       "      <td>0.77</td>\n",
       "      <td>NaN</td>\n",
       "      <td>NaN</td>\n",
       "      <td>NaN</td>\n",
       "      <td>40.24</td>\n",
       "    </tr>\n",
       "    <tr>\n",
       "      <th>2</th>\n",
       "      <td>mario kart wii</td>\n",
       "      <td>wii</td>\n",
       "      <td>2008</td>\n",
       "      <td>racing</td>\n",
       "      <td>15.68</td>\n",
       "      <td>12.76</td>\n",
       "      <td>3.79</td>\n",
       "      <td>3.29</td>\n",
       "      <td>8.2</td>\n",
       "      <td>8.3</td>\n",
       "      <td>e</td>\n",
       "      <td>35.52</td>\n",
       "    </tr>\n",
       "    <tr>\n",
       "      <th>3</th>\n",
       "      <td>wii sports resort</td>\n",
       "      <td>wii</td>\n",
       "      <td>2009</td>\n",
       "      <td>sports</td>\n",
       "      <td>15.61</td>\n",
       "      <td>10.93</td>\n",
       "      <td>3.28</td>\n",
       "      <td>2.95</td>\n",
       "      <td>8.0</td>\n",
       "      <td>8.0</td>\n",
       "      <td>e</td>\n",
       "      <td>32.77</td>\n",
       "    </tr>\n",
       "    <tr>\n",
       "      <th>4</th>\n",
       "      <td>pokemon red/pokemon blue</td>\n",
       "      <td>gb</td>\n",
       "      <td>1996</td>\n",
       "      <td>role-playing</td>\n",
       "      <td>11.27</td>\n",
       "      <td>8.89</td>\n",
       "      <td>10.22</td>\n",
       "      <td>1.00</td>\n",
       "      <td>NaN</td>\n",
       "      <td>NaN</td>\n",
       "      <td>NaN</td>\n",
       "      <td>31.38</td>\n",
       "    </tr>\n",
       "  </tbody>\n",
       "</table>\n",
       "</div>"
      ],
      "text/plain": [
       "                       name platform year_of_release         genre  na_sales  \\\n",
       "0                wii sports      wii            2006        sports     41.36   \n",
       "1         super mario bros.      nes            1985      platform     29.08   \n",
       "2            mario kart wii      wii            2008        racing     15.68   \n",
       "3         wii sports resort      wii            2009        sports     15.61   \n",
       "4  pokemon red/pokemon blue       gb            1996  role-playing     11.27   \n",
       "\n",
       "   eu_sales  jp_sales  other_sales  critic_score  user_score rating  \\\n",
       "0     28.96      3.77         8.45           7.6         8.0      e   \n",
       "1      3.58      6.81         0.77           NaN         NaN    NaN   \n",
       "2     12.76      3.79         3.29           8.2         8.3      e   \n",
       "3     10.93      3.28         2.95           8.0         8.0      e   \n",
       "4      8.89     10.22         1.00           NaN         NaN    NaN   \n",
       "\n",
       "   total_sales  \n",
       "0        82.54  \n",
       "1        40.24  \n",
       "2        35.52  \n",
       "3        32.77  \n",
       "4        31.38  "
      ]
     },
     "execution_count": 19,
     "metadata": {},
     "output_type": "execute_result"
    }
   ],
   "source": [
    "games['total_sales'] = games['na_sales'] + games['eu_sales'] + games['jp_sales'] + games['other_sales']\n",
    "games.head()"
   ]
  },
  {
   "cell_type": "markdown",
   "metadata": {},
   "source": [
    "## Исследовательский анализ данных"
   ]
  },
  {
   "cell_type": "markdown",
   "metadata": {},
   "source": [
    "### Количество игр в разные годы выпуска"
   ]
  },
  {
   "cell_type": "code",
   "execution_count": 20,
   "metadata": {},
   "outputs": [],
   "source": [
    "games_quantity_in_year = games.groupby('year_of_release').agg({'name': ['count']}).reset_index()\n",
    "games_quantity_in_year.columns = ['year_of_release', 'games_quantity']\n",
    "#display(games_quantity_in_year)\n"
   ]
  },
  {
   "cell_type": "code",
   "execution_count": 21,
   "metadata": {},
   "outputs": [
    {
     "data": {
      "image/png": "[encoded data removed]",
      "text/plain": [
       "<Figure size 1080x360 with 1 Axes>"
      ]
     },
     "metadata": {
      "needs_background": "light"
     },
     "output_type": "display_data"
    }
   ],
   "source": [
    "games_quantity_in_year.plot(kind = 'bar', x='year_of_release', figsize = (15,5), grid = True)\n",
    "plt.title('Динамика количества выпускаемых игр')\n",
    "plt.xlabel('год выпуска')\n",
    "plt.ylabel('количество игр, шт')\n",
    "plt.show()"
   ]
  },
  {
   "cell_type": "markdown",
   "metadata": {},
   "source": [
    ">* В 1991 году выпускается в 2 раза больше игр, нежели, чем с 1983-1990.Возвращаемся к динамике выпуска в годы 1981 и 1982.  \n",
    ">* С 1994 года наблюдается стабильный рост релиза компьютерных игр. Есть небольшие спады в 1999-2000 и 2003-2004 годах. Но они совсем незначительны.Рост продолжается вплоть до 2008 года.    \n",
    ">* В 2008-2009 годах наблюдается пик выпуска игр. Выпущено более 1400 новых игр. Еще 10 лет назад, эта цифра быа менее 400. Рост более чем 250% (!)  \n",
    ">* С 2009 года все идет на спад.  \n",
    ">* В 2012-2013 мы видим сильный провал и вплоть до 2016 количество выпущенных игр колеблется примерно на отметке 2012-2013 года (500-600 игр)  \n",
    ">\n",
    ">Скорее всего лучше брать данные с 1994 года, когда выпуск игр уже набрал обороты и вплоть до 2016 года, поскольку в задаче мы строим прогноз на 2017 год. Посмотрим далее"
   ]
  },
  {
   "cell_type": "markdown",
   "metadata": {},
   "source": [
    "### Динамика продаж по платформам. "
   ]
  },
  {
   "cell_type": "code",
   "execution_count": 22,
   "metadata": {},
   "outputs": [
    {
     "data": {
      "image/png": "[encoded data removed]",
      "text/plain": [
       "<Figure size 1080x360 with 1 Axes>"
      ]
     },
     "metadata": {
      "needs_background": "light"
     },
     "output_type": "display_data"
    }
   ],
   "source": [
    "platform_top = games.pivot_table(index='platform', values='total_sales', aggfunc='sum').sort_values(by='total_sales', ascending = False)\n",
    "#print(platform_top)\n",
    "platform_top.plot(kind= 'bar', figsize = (15,5), grid = True)\n",
    "plt.title('Динамика продаж игр по платформам')\n",
    "plt.xlabel('платформа')\n",
    "plt.ylabel('суммарные продажи, млн.копий')\n",
    "plt.show()"
   ]
  },
  {
   "cell_type": "markdown",
   "metadata": {},
   "source": [
    "> У нас есть 6 лидеров: ps2, x360, ps3, wii, ds, ps. "
   ]
  },
  {
   "cell_type": "code",
   "execution_count": 23,
   "metadata": {},
   "outputs": [
    {
     "data": {
      "image/png": "[encoded data removed]",
      "text/plain": [
       "<Figure size 1080x360 with 1 Axes>"
      ]
     },
     "metadata": {
      "needs_background": "light"
     },
     "output_type": "display_data"
    }
   ],
   "source": [
    "#Построим распределение по годам\n",
    "\n",
    "platform_top_6 = games.query('platform == (\"ps2\", \"x360\", \"ps3\", \"wii\", \"ds\", \"ps\")') #делаем срез по 6 платформам\n",
    "platform_top_6_final = platform_top_6.pivot_table(index = ['year_of_release'], columns = 'platform', values = 'total_sales', aggfunc = 'sum') #строим график распределения продаж по каждой платформе за определенный год\n",
    "platform_top_6_final.plot(figsize = (15,5), grid=True)\n",
    "plt.title('Распределение продаж по каждой платформе за определенный год')\n",
    "plt.xlabel('год')\n",
    "plt.ylabel('продажи, млн. копий')\n",
    "plt.xticks(np.arange(1985, 2016, 1))\n",
    "plt.show()\n",
    "\n",
    "\n"
   ]
  },
  {
   "cell_type": "markdown",
   "metadata": {},
   "source": [
    ">Первая топовая платформа начала приносить продажи в 1994 году, последняя популярная платформа умерла в 2016.  \n",
    ">Подтвердилась первая догадка, о том, что нужно брать данные, начиная с  1994 года"
   ]
  },
  {
   "cell_type": "markdown",
   "metadata": {},
   "source": [
    "#### Расчет среднего срока исчезновения старых платформ (срок жизни платформы)"
   ]
  },
  {
   "cell_type": "code",
   "execution_count": 24,
   "metadata": {},
   "outputs": [],
   "source": [
    "platform_lifetime = games.pivot_table(index='platform', values='year_of_release', aggfunc=['min', 'max']) #определим год рождения популярных платформ и год, когда они ушли с рынка\n",
    "platform_lifetime.columns = ['start', 'end'] #переименовываем столбцы\n",
    "#display(platform_lifetime)\n"
   ]
  },
  {
   "cell_type": "code",
   "execution_count": 25,
   "metadata": {},
   "outputs": [
    {
     "data": {
      "text/html": [
       "<div>\n",
       "<style scoped>\n",
       "    .dataframe tbody tr th:only-of-type {\n",
       "        vertical-align: middle;\n",
       "    }\n",
       "\n",
       "    .dataframe tbody tr th {\n",
       "        vertical-align: top;\n",
       "    }\n",
       "\n",
       "    .dataframe thead th {\n",
       "        text-align: right;\n",
       "    }\n",
       "</style>\n",
       "<table border=\"1\" class=\"dataframe\">\n",
       "  <thead>\n",
       "    <tr style=\"text-align: right;\">\n",
       "      <th></th>\n",
       "      <th>start</th>\n",
       "      <th>end</th>\n",
       "      <th>lifetime</th>\n",
       "    </tr>\n",
       "    <tr>\n",
       "      <th>platform</th>\n",
       "      <th></th>\n",
       "      <th></th>\n",
       "      <th></th>\n",
       "    </tr>\n",
       "  </thead>\n",
       "  <tbody>\n",
       "    <tr>\n",
       "      <th>2600</th>\n",
       "      <td>1980</td>\n",
       "      <td>1989</td>\n",
       "      <td>9</td>\n",
       "    </tr>\n",
       "    <tr>\n",
       "      <th>3do</th>\n",
       "      <td>1994</td>\n",
       "      <td>1995</td>\n",
       "      <td>1</td>\n",
       "    </tr>\n",
       "    <tr>\n",
       "      <th>3ds</th>\n",
       "      <td>2011</td>\n",
       "      <td>2016</td>\n",
       "      <td>5</td>\n",
       "    </tr>\n",
       "    <tr>\n",
       "      <th>dc</th>\n",
       "      <td>1998</td>\n",
       "      <td>2008</td>\n",
       "      <td>10</td>\n",
       "    </tr>\n",
       "    <tr>\n",
       "      <th>ds</th>\n",
       "      <td>1985</td>\n",
       "      <td>2013</td>\n",
       "      <td>28</td>\n",
       "    </tr>\n",
       "    <tr>\n",
       "      <th>gb</th>\n",
       "      <td>1988</td>\n",
       "      <td>2001</td>\n",
       "      <td>13</td>\n",
       "    </tr>\n",
       "    <tr>\n",
       "      <th>gba</th>\n",
       "      <td>2000</td>\n",
       "      <td>2007</td>\n",
       "      <td>7</td>\n",
       "    </tr>\n",
       "    <tr>\n",
       "      <th>gc</th>\n",
       "      <td>2001</td>\n",
       "      <td>2007</td>\n",
       "      <td>6</td>\n",
       "    </tr>\n",
       "    <tr>\n",
       "      <th>gen</th>\n",
       "      <td>1990</td>\n",
       "      <td>1994</td>\n",
       "      <td>4</td>\n",
       "    </tr>\n",
       "    <tr>\n",
       "      <th>gg</th>\n",
       "      <td>1992</td>\n",
       "      <td>1992</td>\n",
       "      <td>0</td>\n",
       "    </tr>\n",
       "    <tr>\n",
       "      <th>n64</th>\n",
       "      <td>1996</td>\n",
       "      <td>2002</td>\n",
       "      <td>6</td>\n",
       "    </tr>\n",
       "    <tr>\n",
       "      <th>nes</th>\n",
       "      <td>1983</td>\n",
       "      <td>1994</td>\n",
       "      <td>11</td>\n",
       "    </tr>\n",
       "    <tr>\n",
       "      <th>ng</th>\n",
       "      <td>1993</td>\n",
       "      <td>1996</td>\n",
       "      <td>3</td>\n",
       "    </tr>\n",
       "    <tr>\n",
       "      <th>pc</th>\n",
       "      <td>1985</td>\n",
       "      <td>2016</td>\n",
       "      <td>31</td>\n",
       "    </tr>\n",
       "    <tr>\n",
       "      <th>pcfx</th>\n",
       "      <td>1996</td>\n",
       "      <td>1996</td>\n",
       "      <td>0</td>\n",
       "    </tr>\n",
       "    <tr>\n",
       "      <th>ps</th>\n",
       "      <td>1994</td>\n",
       "      <td>2003</td>\n",
       "      <td>9</td>\n",
       "    </tr>\n",
       "    <tr>\n",
       "      <th>ps2</th>\n",
       "      <td>2000</td>\n",
       "      <td>2011</td>\n",
       "      <td>11</td>\n",
       "    </tr>\n",
       "    <tr>\n",
       "      <th>ps3</th>\n",
       "      <td>2006</td>\n",
       "      <td>2016</td>\n",
       "      <td>10</td>\n",
       "    </tr>\n",
       "    <tr>\n",
       "      <th>ps4</th>\n",
       "      <td>2013</td>\n",
       "      <td>2016</td>\n",
       "      <td>3</td>\n",
       "    </tr>\n",
       "    <tr>\n",
       "      <th>psp</th>\n",
       "      <td>2004</td>\n",
       "      <td>2015</td>\n",
       "      <td>11</td>\n",
       "    </tr>\n",
       "    <tr>\n",
       "      <th>psv</th>\n",
       "      <td>2011</td>\n",
       "      <td>2016</td>\n",
       "      <td>5</td>\n",
       "    </tr>\n",
       "    <tr>\n",
       "      <th>sat</th>\n",
       "      <td>1994</td>\n",
       "      <td>1999</td>\n",
       "      <td>5</td>\n",
       "    </tr>\n",
       "    <tr>\n",
       "      <th>scd</th>\n",
       "      <td>1993</td>\n",
       "      <td>1994</td>\n",
       "      <td>1</td>\n",
       "    </tr>\n",
       "    <tr>\n",
       "      <th>snes</th>\n",
       "      <td>1990</td>\n",
       "      <td>1999</td>\n",
       "      <td>9</td>\n",
       "    </tr>\n",
       "    <tr>\n",
       "      <th>tg16</th>\n",
       "      <td>1995</td>\n",
       "      <td>1995</td>\n",
       "      <td>0</td>\n",
       "    </tr>\n",
       "    <tr>\n",
       "      <th>wii</th>\n",
       "      <td>2006</td>\n",
       "      <td>2016</td>\n",
       "      <td>10</td>\n",
       "    </tr>\n",
       "    <tr>\n",
       "      <th>wiiu</th>\n",
       "      <td>2012</td>\n",
       "      <td>2016</td>\n",
       "      <td>4</td>\n",
       "    </tr>\n",
       "    <tr>\n",
       "      <th>ws</th>\n",
       "      <td>1999</td>\n",
       "      <td>2001</td>\n",
       "      <td>2</td>\n",
       "    </tr>\n",
       "    <tr>\n",
       "      <th>x360</th>\n",
       "      <td>2005</td>\n",
       "      <td>2016</td>\n",
       "      <td>11</td>\n",
       "    </tr>\n",
       "    <tr>\n",
       "      <th>xb</th>\n",
       "      <td>2000</td>\n",
       "      <td>2008</td>\n",
       "      <td>8</td>\n",
       "    </tr>\n",
       "    <tr>\n",
       "      <th>xone</th>\n",
       "      <td>2013</td>\n",
       "      <td>2016</td>\n",
       "      <td>3</td>\n",
       "    </tr>\n",
       "  </tbody>\n",
       "</table>\n",
       "</div>"
      ],
      "text/plain": [
       "          start   end  lifetime\n",
       "platform                       \n",
       "2600       1980  1989         9\n",
       "3do        1994  1995         1\n",
       "3ds        2011  2016         5\n",
       "dc         1998  2008        10\n",
       "ds         1985  2013        28\n",
       "gb         1988  2001        13\n",
       "gba        2000  2007         7\n",
       "gc         2001  2007         6\n",
       "gen        1990  1994         4\n",
       "gg         1992  1992         0\n",
       "n64        1996  2002         6\n",
       "nes        1983  1994        11\n",
       "ng         1993  1996         3\n",
       "pc         1985  2016        31\n",
       "pcfx       1996  1996         0\n",
       "ps         1994  2003         9\n",
       "ps2        2000  2011        11\n",
       "ps3        2006  2016        10\n",
       "ps4        2013  2016         3\n",
       "psp        2004  2015        11\n",
       "psv        2011  2016         5\n",
       "sat        1994  1999         5\n",
       "scd        1993  1994         1\n",
       "snes       1990  1999         9\n",
       "tg16       1995  1995         0\n",
       "wii        2006  2016        10\n",
       "wiiu       2012  2016         4\n",
       "ws         1999  2001         2\n",
       "x360       2005  2016        11\n",
       "xb         2000  2008         8\n",
       "xone       2013  2016         3"
      ]
     },
     "metadata": {},
     "output_type": "display_data"
    }
   ],
   "source": [
    "platform_lifetime['lifetime'] = platform_lifetime['end'] - platform_lifetime['start'] #определяем срок жизни каждой платформ\n",
    "display(platform_lifetime)"
   ]
  },
  {
   "cell_type": "markdown",
   "metadata": {},
   "source": [
    ">У нас явно есть несколько доложителей. Например, pc - 31 год или, неожиданно, ds - 28 лет (1985 год), хотя приносить продажи она начала в 2004. Может быть ошибка, а может быть простой. Так или иначе, учитывать среднее будет не совсем верным. Посчитаем медиану."
   ]
  },
  {
   "cell_type": "code",
   "execution_count": 26,
   "metadata": {},
   "outputs": [
    {
     "name": "stdout",
     "output_type": "stream",
     "text": [
      "Старые платформы исчезают в среднем за: 6 лет\n",
      "Средняя продолжительность жизни платформы: 6 лет\n"
     ]
    }
   ],
   "source": [
    "print('Старые платформы исчезают в среднем за:', platform_lifetime['lifetime'].median().astype(int), 'лет') #считаем среднее\n",
    "print('Средняя продолжительность жизни платформы:', platform_lifetime['lifetime'].median().astype(int), 'лет')"
   ]
  },
  {
   "cell_type": "markdown",
   "metadata": {},
   "source": [
    "### Определение актуального периода"
   ]
  },
  {
   "cell_type": "markdown",
   "metadata": {},
   "source": [
    "Известно, что средняя продолжительность жизни платформы - около 6 лет, а новые платформы появляются в среднем ежегодно. Для определения актуального периода, на мой взгляд, будет полезным еще также посмотреть на отрезок около пика продаж платформы. То есть, за сколько лет в среднем платформа продает на макисмальном уровне.  \n",
    "\n",
    "Вернемся к нашему графику топ-6 платформ: распределения похожи на нормальные, платформа достигает пика продаж примерно через 3 года после своего появления. \n",
    "\n",
    "Для этого возьмем срез по топ-6 платформам, поскольку нам надо понять пик по самым популярным платформам. Этот пик может отличаться от менее популярных."
   ]
  },
  {
   "cell_type": "code",
   "execution_count": 27,
   "metadata": {},
   "outputs": [
    {
     "data": {
      "text/html": [
       "<div>\n",
       "<style scoped>\n",
       "    .dataframe tbody tr th:only-of-type {\n",
       "        vertical-align: middle;\n",
       "    }\n",
       "\n",
       "    .dataframe tbody tr th {\n",
       "        vertical-align: top;\n",
       "    }\n",
       "\n",
       "    .dataframe thead th {\n",
       "        text-align: right;\n",
       "    }\n",
       "</style>\n",
       "<table border=\"1\" class=\"dataframe\">\n",
       "  <thead>\n",
       "    <tr style=\"text-align: right;\">\n",
       "      <th>platform</th>\n",
       "      <th>ds</th>\n",
       "      <th>ps</th>\n",
       "      <th>ps2</th>\n",
       "      <th>ps3</th>\n",
       "      <th>wii</th>\n",
       "      <th>x360</th>\n",
       "    </tr>\n",
       "  </thead>\n",
       "  <tbody>\n",
       "    <tr>\n",
       "      <th>count</th>\n",
       "      <td>11.000000</td>\n",
       "      <td>10.000000</td>\n",
       "      <td>12.000000</td>\n",
       "      <td>11.000000</td>\n",
       "      <td>11.000000</td>\n",
       "      <td>12.000000</td>\n",
       "    </tr>\n",
       "    <tr>\n",
       "      <th>mean</th>\n",
       "      <td>72.980000</td>\n",
       "      <td>72.758000</td>\n",
       "      <td>102.796667</td>\n",
       "      <td>84.667273</td>\n",
       "      <td>81.016364</td>\n",
       "      <td>80.103333</td>\n",
       "    </tr>\n",
       "    <tr>\n",
       "      <th>std</th>\n",
       "      <td>61.673155</td>\n",
       "      <td>63.351713</td>\n",
       "      <td>79.405729</td>\n",
       "      <td>54.637565</td>\n",
       "      <td>79.136330</td>\n",
       "      <td>57.484408</td>\n",
       "    </tr>\n",
       "    <tr>\n",
       "      <th>min</th>\n",
       "      <td>0.020000</td>\n",
       "      <td>2.070000</td>\n",
       "      <td>0.450000</td>\n",
       "      <td>3.600000</td>\n",
       "      <td>0.180000</td>\n",
       "      <td>1.520000</td>\n",
       "    </tr>\n",
       "    <tr>\n",
       "      <th>25%</th>\n",
       "      <td>14.140000</td>\n",
       "      <td>13.900000</td>\n",
       "      <td>35.977500</td>\n",
       "      <td>34.360000</td>\n",
       "      <td>6.170000</td>\n",
       "      <td>29.045000</td>\n",
       "    </tr>\n",
       "    <tr>\n",
       "      <th>50%</th>\n",
       "      <td>85.020000</td>\n",
       "      <td>65.330000</td>\n",
       "      <td>89.705000</td>\n",
       "      <td>107.360000</td>\n",
       "      <td>59.650000</td>\n",
       "      <td>91.995000</td>\n",
       "    </tr>\n",
       "    <tr>\n",
       "      <th>75%</th>\n",
       "      <td>124.975000</td>\n",
       "      <td>126.220000</td>\n",
       "      <td>170.900000</td>\n",
       "      <td>124.725000</td>\n",
       "      <td>144.960000</td>\n",
       "      <td>124.032500</td>\n",
       "    </tr>\n",
       "    <tr>\n",
       "      <th>max</th>\n",
       "      <td>146.940000</td>\n",
       "      <td>169.490000</td>\n",
       "      <td>211.810000</td>\n",
       "      <td>156.780000</td>\n",
       "      <td>206.970000</td>\n",
       "      <td>170.030000</td>\n",
       "    </tr>\n",
       "  </tbody>\n",
       "</table>\n",
       "</div>"
      ],
      "text/plain": [
       "platform          ds          ps         ps2         ps3         wii  \\\n",
       "count      11.000000   10.000000   12.000000   11.000000   11.000000   \n",
       "mean       72.980000   72.758000  102.796667   84.667273   81.016364   \n",
       "std        61.673155   63.351713   79.405729   54.637565   79.136330   \n",
       "min         0.020000    2.070000    0.450000    3.600000    0.180000   \n",
       "25%        14.140000   13.900000   35.977500   34.360000    6.170000   \n",
       "50%        85.020000   65.330000   89.705000  107.360000   59.650000   \n",
       "75%       124.975000  126.220000  170.900000  124.725000  144.960000   \n",
       "max       146.940000  169.490000  211.810000  156.780000  206.970000   \n",
       "\n",
       "platform        x360  \n",
       "count      12.000000  \n",
       "mean       80.103333  \n",
       "std        57.484408  \n",
       "min         1.520000  \n",
       "25%        29.045000  \n",
       "50%        91.995000  \n",
       "75%       124.032500  \n",
       "max       170.030000  "
      ]
     },
     "execution_count": 27,
     "metadata": {},
     "output_type": "execute_result"
    }
   ],
   "source": [
    "platform_top_6_final.describe()"
   ]
  },
  {
   "cell_type": "markdown",
   "metadata": {},
   "source": [
    "Возьмем даные за третий квартиль. У платформ ds, ps, ps3, х360 это значение примерно одинаковое. \n",
    "Отдельно возьмем платформы wii и ps2  \n",
    "Отметим на нашем готовом графике"
   ]
  },
  {
   "cell_type": "code",
   "execution_count": 28,
   "metadata": {},
   "outputs": [
    {
     "data": {
      "image/png": "[encoded data removed]",
      "text/plain": [
       "<Figure size 1080x360 with 1 Axes>"
      ]
     },
     "metadata": {
      "needs_background": "light"
     },
     "output_type": "display_data"
    }
   ],
   "source": [
    "platform_top_6_final.plot(figsize = (15,5), grid=True, xlim=(1995,2016)) #вернемся к графику топовых платформ, уже с актуальным периодом\n",
    "plt.title('Распределение продаж по каждой платформе за определенный год')\n",
    "plt.xlabel('год')\n",
    "plt.ylabel('продажи, млн. копий')\n",
    "plt.xticks(np.arange(1995, 2016, 1))\n",
    "plt.hlines(124.0325, 1995, 2015, linestyle = ':')\n",
    "plt.hlines(170.9, 2000, 2006, color = 'm', linestyle = ':')\n",
    "plt.hlines(144.96, 2006, 2011,color = 'b', linestyle = ':')\n",
    "plt.show()"
   ]
  },
  {
   "cell_type": "markdown",
   "metadata": {},
   "source": [
    "Каждая платформа находится на максимуме продаж примерно 2,5 года, а достигает начала отрезка в среднем через 1,5 года"
   ]
  },
  {
   "cell_type": "markdown",
   "metadata": {},
   "source": [
    "> Исходя из всего вышеперечисиленного предлагаю взять за **актуальный, период с 2014 по 2016 год**. Скорее всего в 2017 году эти платформы продадут тот максимум, который они могут продать за срок своего существования, а некоторые даже достигнут пика"
   ]
  },
  {
   "cell_type": "code",
   "execution_count": 29,
   "metadata": {},
   "outputs": [
    {
     "name": "stdout",
     "output_type": "stream",
     "text": [
      "<class 'pandas.core.frame.DataFrame'>\n",
      "Int64Index: 1689 entries, 31 to 16714\n",
      "Data columns (total 12 columns):\n",
      " #   Column           Non-Null Count  Dtype  \n",
      "---  ------           --------------  -----  \n",
      " 0   name             1689 non-null   object \n",
      " 1   platform         1689 non-null   object \n",
      " 2   year_of_release  1689 non-null   object \n",
      " 3   genre            1689 non-null   object \n",
      " 4   na_sales         1689 non-null   float64\n",
      " 5   eu_sales         1689 non-null   float64\n",
      " 6   jp_sales         1689 non-null   float64\n",
      " 7   other_sales      1689 non-null   float64\n",
      " 8   critic_score     718 non-null    float64\n",
      " 9   user_score       888 non-null    float64\n",
      " 10  rating           940 non-null    object \n",
      " 11  total_sales      1689 non-null   float64\n",
      "dtypes: float64(7), object(5)\n",
      "memory usage: 171.5+ KB\n"
     ]
    }
   ],
   "source": [
    "games_actual = games.query('2014 <= year_of_release <= 2016') #создаем переменную со срезом для актуального времени\n",
    "games_actual.info()"
   ]
  },
  {
   "cell_type": "markdown",
   "metadata": {},
   "source": [
    "Получили выборку в 1689 строк"
   ]
  },
  {
   "cell_type": "markdown",
   "metadata": {},
   "source": [
    "### Выбор потенцально прибыльных платформ в 2017 году"
   ]
  },
  {
   "cell_type": "code",
   "execution_count": 30,
   "metadata": {},
   "outputs": [
    {
     "data": {
      "image/png": "[encoded data removed]",
      "text/plain": [
       "<Figure size 1080x360 with 1 Axes>"
      ]
     },
     "metadata": {
      "needs_background": "light"
     },
     "output_type": "display_data"
    }
   ],
   "source": [
    "platform_top_2017 = games_actual.pivot_table(index = ['year_of_release'], columns = 'platform',  values = 'total_sales', aggfunc = 'sum')  #строим график распределения продаж по каждой платформе за актуальный период\n",
    "platform_top_2017.plot(figsize = (15,5), grid=True)\n",
    "plt.title('Распределение продаж по каждой платформе за актуальный период')\n",
    "plt.xlabel('год')\n",
    "plt.ylabel('продажи, млн. копий')\n",
    "plt.xticks(np.arange(2014, 2017, 1))\n",
    "plt.show()"
   ]
  },
  {
   "cell_type": "markdown",
   "metadata": {},
   "source": [
    ">3 лидера:  \n",
    ">\n",
    ">1. PS4\n",
    ">2. Xone\n",
    ">3. 3ds  \n",
    ">\n",
    ">У PS4 есть пик в 2015 году, но скорее всего, это не максимальный пик. Все платформы показывают пока динамику спада, но скорее всего, даже если в 2017 году тенденция сохраниться, эти 3 все равно пока остануться на вершине. А в лучшем случае все же изменят вектор и пойдут вверх, достигая своего максимума"
   ]
  },
  {
   "cell_type": "markdown",
   "metadata": {},
   "source": [
    "### Диаграмма размаха глобальных продаж игр в разбивке по платформам."
   ]
  },
  {
   "cell_type": "code",
   "execution_count": 31,
   "metadata": {},
   "outputs": [
    {
     "data": {
      "text/plain": [
       "Text(0, 0.5, 'продажи, млн. копий')"
      ]
     },
     "execution_count": 31,
     "metadata": {},
     "output_type": "execute_result"
    },
    {
     "data": {
      "image/png": "[encoded data removed]",
      "text/plain": [
       "<Figure size 720x720 with 1 Axes>"
      ]
     },
     "metadata": {
      "needs_background": "light"
     },
     "output_type": "display_data"
    }
   ],
   "source": [
    "games_actual.boxplot(column='total_sales', by = 'platform', figsize=(10,10))\n",
    "plt.title('Глобальные продажи игр в разбивке по платформам')\n",
    "plt.xlabel('платформа')\n",
    "plt.ylabel('продажи, млн. копий')"
   ]
  },
  {
   "cell_type": "code",
   "execution_count": 32,
   "metadata": {},
   "outputs": [
    {
     "data": {
      "text/plain": [
       "Text(0, 0.5, 'продажи, млн. копий')"
      ]
     },
     "execution_count": 32,
     "metadata": {},
     "output_type": "execute_result"
    },
    {
     "data": {
      "image/png": "[encoded data removed]",
      "text/plain": [
       "<Figure size 720x720 with 1 Axes>"
      ]
     },
     "metadata": {
      "needs_background": "light"
     },
     "output_type": "display_data"
    }
   ],
   "source": [
    "games_actual.boxplot(column='total_sales', by = 'platform', figsize=(10,10))\n",
    "plt.ylim(0, 2)\n",
    "plt.title('Глобальные продажи игр в разбивке по платформам')\n",
    "plt.xlabel('платформа')\n",
    "plt.ylabel('продажи, млн. копий')\n"
   ]
  },
  {
   "cell_type": "code",
   "execution_count": 33,
   "metadata": {},
   "outputs": [
    {
     "data": {
      "text/html": [
       "<div>\n",
       "<style scoped>\n",
       "    .dataframe tbody tr th:only-of-type {\n",
       "        vertical-align: middle;\n",
       "    }\n",
       "\n",
       "    .dataframe tbody tr th {\n",
       "        vertical-align: top;\n",
       "    }\n",
       "\n",
       "    .dataframe thead th {\n",
       "        text-align: right;\n",
       "    }\n",
       "</style>\n",
       "<table border=\"1\" class=\"dataframe\">\n",
       "  <thead>\n",
       "    <tr style=\"text-align: right;\">\n",
       "      <th></th>\n",
       "      <th>count</th>\n",
       "      <th>mean</th>\n",
       "      <th>std</th>\n",
       "      <th>min</th>\n",
       "      <th>25%</th>\n",
       "      <th>50%</th>\n",
       "      <th>75%</th>\n",
       "      <th>max</th>\n",
       "    </tr>\n",
       "    <tr>\n",
       "      <th>platform</th>\n",
       "      <th></th>\n",
       "      <th></th>\n",
       "      <th></th>\n",
       "      <th></th>\n",
       "      <th></th>\n",
       "      <th></th>\n",
       "      <th></th>\n",
       "      <th></th>\n",
       "    </tr>\n",
       "  </thead>\n",
       "  <tbody>\n",
       "    <tr>\n",
       "      <th>3ds</th>\n",
       "      <td>212.0</td>\n",
       "      <td>0.408868</td>\n",
       "      <td>1.188368</td>\n",
       "      <td>0.01</td>\n",
       "      <td>0.0300</td>\n",
       "      <td>0.090</td>\n",
       "      <td>0.2500</td>\n",
       "      <td>11.68</td>\n",
       "    </tr>\n",
       "    <tr>\n",
       "      <th>pc</th>\n",
       "      <td>151.0</td>\n",
       "      <td>0.179139</td>\n",
       "      <td>0.329359</td>\n",
       "      <td>0.01</td>\n",
       "      <td>0.0200</td>\n",
       "      <td>0.060</td>\n",
       "      <td>0.2000</td>\n",
       "      <td>3.05</td>\n",
       "    </tr>\n",
       "    <tr>\n",
       "      <th>ps3</th>\n",
       "      <td>219.0</td>\n",
       "      <td>0.311324</td>\n",
       "      <td>0.633059</td>\n",
       "      <td>0.01</td>\n",
       "      <td>0.0400</td>\n",
       "      <td>0.110</td>\n",
       "      <td>0.3250</td>\n",
       "      <td>5.27</td>\n",
       "    </tr>\n",
       "    <tr>\n",
       "      <th>ps4</th>\n",
       "      <td>376.0</td>\n",
       "      <td>0.766356</td>\n",
       "      <td>1.614969</td>\n",
       "      <td>0.01</td>\n",
       "      <td>0.0575</td>\n",
       "      <td>0.185</td>\n",
       "      <td>0.6900</td>\n",
       "      <td>14.63</td>\n",
       "    </tr>\n",
       "    <tr>\n",
       "      <th>psp</th>\n",
       "      <td>13.0</td>\n",
       "      <td>0.027692</td>\n",
       "      <td>0.027735</td>\n",
       "      <td>0.01</td>\n",
       "      <td>0.0100</td>\n",
       "      <td>0.020</td>\n",
       "      <td>0.0200</td>\n",
       "      <td>0.09</td>\n",
       "    </tr>\n",
       "    <tr>\n",
       "      <th>psv</th>\n",
       "      <td>295.0</td>\n",
       "      <td>0.075932</td>\n",
       "      <td>0.141591</td>\n",
       "      <td>0.01</td>\n",
       "      <td>0.0200</td>\n",
       "      <td>0.040</td>\n",
       "      <td>0.0900</td>\n",
       "      <td>1.96</td>\n",
       "    </tr>\n",
       "    <tr>\n",
       "      <th>wii</th>\n",
       "      <td>11.0</td>\n",
       "      <td>0.460909</td>\n",
       "      <td>0.625451</td>\n",
       "      <td>0.01</td>\n",
       "      <td>0.0350</td>\n",
       "      <td>0.180</td>\n",
       "      <td>0.7550</td>\n",
       "      <td>2.01</td>\n",
       "    </tr>\n",
       "    <tr>\n",
       "      <th>wiiu</th>\n",
       "      <td>73.0</td>\n",
       "      <td>0.588767</td>\n",
       "      <td>1.161467</td>\n",
       "      <td>0.01</td>\n",
       "      <td>0.0500</td>\n",
       "      <td>0.190</td>\n",
       "      <td>0.5700</td>\n",
       "      <td>7.09</td>\n",
       "    </tr>\n",
       "    <tr>\n",
       "      <th>x360</th>\n",
       "      <td>111.0</td>\n",
       "      <td>0.434414</td>\n",
       "      <td>0.628967</td>\n",
       "      <td>0.01</td>\n",
       "      <td>0.0700</td>\n",
       "      <td>0.180</td>\n",
       "      <td>0.5050</td>\n",
       "      <td>4.28</td>\n",
       "    </tr>\n",
       "    <tr>\n",
       "      <th>xone</th>\n",
       "      <td>228.0</td>\n",
       "      <td>0.615614</td>\n",
       "      <td>1.046513</td>\n",
       "      <td>0.01</td>\n",
       "      <td>0.0500</td>\n",
       "      <td>0.205</td>\n",
       "      <td>0.6325</td>\n",
       "      <td>7.39</td>\n",
       "    </tr>\n",
       "  </tbody>\n",
       "</table>\n",
       "</div>"
      ],
      "text/plain": [
       "          count      mean       std   min     25%    50%     75%    max\n",
       "platform                                                               \n",
       "3ds       212.0  0.408868  1.188368  0.01  0.0300  0.090  0.2500  11.68\n",
       "pc        151.0  0.179139  0.329359  0.01  0.0200  0.060  0.2000   3.05\n",
       "ps3       219.0  0.311324  0.633059  0.01  0.0400  0.110  0.3250   5.27\n",
       "ps4       376.0  0.766356  1.614969  0.01  0.0575  0.185  0.6900  14.63\n",
       "psp        13.0  0.027692  0.027735  0.01  0.0100  0.020  0.0200   0.09\n",
       "psv       295.0  0.075932  0.141591  0.01  0.0200  0.040  0.0900   1.96\n",
       "wii        11.0  0.460909  0.625451  0.01  0.0350  0.180  0.7550   2.01\n",
       "wiiu       73.0  0.588767  1.161467  0.01  0.0500  0.190  0.5700   7.09\n",
       "x360      111.0  0.434414  0.628967  0.01  0.0700  0.180  0.5050   4.28\n",
       "xone      228.0  0.615614  1.046513  0.01  0.0500  0.205  0.6325   7.39"
      ]
     },
     "execution_count": 33,
     "metadata": {},
     "output_type": "execute_result"
    }
   ],
   "source": [
    "games_actual.groupby('platform')['total_sales'].describe()"
   ]
  },
  {
   "cell_type": "markdown",
   "metadata": {},
   "source": [
    "> По средним продажам лидирует ps4, и по максимальным она же. На 4 месте находиться платформа wiiu. Интересно, что ее количество игр на 70% ниже количества игр платформы-лидера (3 место) xone, при этом выручка всего на 5% ниже гиганта. Кажется, что ее игры настолько хороши, что в расчете на продажу одной игры, популярны у пользователей в разы больше. Думаю, стоит обратить на нее внимание при дальнейших выводах. Судя по предыдущему графику в 2017 она должна показать примерно одинаковые продажи с xone, возможно чуть меньше."
   ]
  },
  {
   "cell_type": "markdown",
   "metadata": {},
   "source": [
    "### Влияние отзывов пользователей и критиков на продажи внутри одной популярной платформы"
   ]
  },
  {
   "cell_type": "markdown",
   "metadata": {},
   "source": [
    "#### Влияние отзывов критиков на продажи"
   ]
  },
  {
   "cell_type": "markdown",
   "metadata": {},
   "source": [
    "Для примера возьмем платформу ps4, как самую популярную в актуальном периоде"
   ]
  },
  {
   "cell_type": "code",
   "execution_count": 34,
   "metadata": {},
   "outputs": [],
   "source": [
    "ps4_score = games_actual.query('platform == \"ps4\" and critic_score > 0') #делаем срез, включающий оценки критиков\n",
    "#ps4_score.head(10)\n",
    "ps4_score_grouped = ps4_score.pivot_table(index = 'critic_score', values = 'total_sales').reset_index()\n",
    "#ps4_score_grouped.head(15)"
   ]
  },
  {
   "cell_type": "code",
   "execution_count": 35,
   "metadata": {},
   "outputs": [
    {
     "data": {
      "image/png": "[encoded data removed]",
      "text/plain": [
       "<Figure size 1080x504 with 1 Axes>"
      ]
     },
     "metadata": {
      "needs_background": "light"
     },
     "output_type": "display_data"
    }
   ],
   "source": [
    "ps4_score.plot(x='critic_score', y='total_sales', kind='scatter', figsize=(15,7))\n",
    "plt.title('Влияние отзывов критиков на продажи')\n",
    "plt.xlabel('оценка критиков')\n",
    "plt.ylabel('продажи, млн. копий')\n",
    "plt.show()"
   ]
  },
  {
   "cell_type": "code",
   "execution_count": 36,
   "metadata": {},
   "outputs": [
    {
     "name": "stdout",
     "output_type": "stream",
     "text": [
      "Коэффициент корреляции между оценками критиков и продажами: 0.4026614106810408\n"
     ]
    }
   ],
   "source": [
    "print('Коэффициент корреляции между оценками критиков и продажами:', ps4_score['critic_score'].corr(ps4_score['total_sales']))"
   ]
  },
  {
   "cell_type": "markdown",
   "metadata": {},
   "source": [
    "> Зависимость есть, но она не очень большая. То есть далеко не всегда высокие оценки критиков обеспечивают высокие продажи."
   ]
  },
  {
   "cell_type": "markdown",
   "metadata": {},
   "source": [
    "Посмотрим на коэффициент корреляции у других платформ из актуального периода"
   ]
  },
  {
   "cell_type": "code",
   "execution_count": 37,
   "metadata": {},
   "outputs": [
    {
     "name": "stdout",
     "output_type": "stream",
     "text": [
      "3ds: 0.3141174928690511\n",
      "pc: 0.1746341376935004\n",
      "ps3: 0.44657460493190715\n",
      "psp: nan\n",
      "psv: 0.042664906570095265\n",
      "wii: nan\n",
      "wiiu: 0.37020141248088395\n",
      "x360: 0.5257228356581523\n",
      "xone: 0.4286769437033321\n"
     ]
    }
   ],
   "source": [
    "score_3ds = games_actual.query('platform == \"3ds\" and critic_score > 0')\n",
    "print('3ds:', score_3ds['critic_score'].corr(score_3ds['total_sales']))\n",
    "score_pc = games_actual.query('platform == \"pc\" and critic_score > 0')\n",
    "print('pc:', score_pc['critic_score'].corr(score_pc['total_sales']))\n",
    "score_ps3 = games_actual.query('platform == \"ps3\" and critic_score > 0')\n",
    "print('ps3:', score_ps3['critic_score'].corr(score_ps3['total_sales']))\n",
    "score_psp = games_actual.query('platform == \"psp\" and critic_score > 0')\n",
    "print('psp:', score_psp['critic_score'].corr(score_psp['total_sales']))\n",
    "score_psv = games_actual.query('platform == \"psv\" and critic_score > 0')\n",
    "print('psv:', score_psv['critic_score'].corr(score_psv['total_sales']))\n",
    "score_wii = games_actual.query('platform == \"wii\" and critic_score > 0')\n",
    "print('wii:', score_wii['critic_score'].corr(score_wii['total_sales']))\n",
    "score_wiiu = games_actual.query('platform == \"wiiu\" and critic_score > 0')\n",
    "print('wiiu:', score_wiiu['critic_score'].corr(score_wiiu['total_sales']))\n",
    "score_x360 = games_actual.query('platform == \"x360\" and critic_score > 0')\n",
    "print('x360:', score_x360['critic_score'].corr(score_x360['total_sales']))\n",
    "score_xone = games_actual.query('platform == \"xone\" and critic_score > 0')\n",
    "print('xone:', score_xone['critic_score'].corr(score_xone['total_sales']))"
   ]
  },
  {
   "cell_type": "markdown",
   "metadata": {},
   "source": [
    "> Продажи игр на других платформах также не всегда зависят от отзывов критиков. Зависмость есть, но не сильная. На наличие зависимости я бы обратила внимание только если у x360. У psp и wii, если в моих вычислениях нет ошибки вообще оценки критиков отстутсвуют вплоть с 2014 года"
   ]
  },
  {
   "cell_type": "markdown",
   "metadata": {},
   "source": [
    "#### Влияние отзывов пользователей на продажи"
   ]
  },
  {
   "cell_type": "markdown",
   "metadata": {},
   "source": [
    "Платформу оставляем ту же, ps4"
   ]
  },
  {
   "cell_type": "code",
   "execution_count": 38,
   "metadata": {},
   "outputs": [],
   "source": [
    "ps4_user_score = games_actual.query('platform == \"ps4\" and user_score > 0') #делаем срез, включающий оценки критиков\n",
    "ps4_user_score_grouped = ps4_user_score.pivot_table(index = 'user_score', values = 'total_sales')\n",
    "#ps4_user_score_grouped.head()"
   ]
  },
  {
   "cell_type": "code",
   "execution_count": 39,
   "metadata": {},
   "outputs": [
    {
     "data": {
      "image/png": "[encoded data removed]",
      "text/plain": [
       "<Figure size 1080x504 with 1 Axes>"
      ]
     },
     "metadata": {
      "needs_background": "light"
     },
     "output_type": "display_data"
    }
   ],
   "source": [
    "ps4_user_score.plot(x='user_score', y='total_sales', kind='scatter', figsize=(15,7)) #добавила диаграмму рассеяния\n",
    "plt.title('Влияние отзывов пользователей на продажи')\n",
    "plt.xlabel('оценка пользователей')\n",
    "plt.ylabel('продажи, млн. копий')\n",
    "plt.show()"
   ]
  },
  {
   "cell_type": "code",
   "execution_count": 40,
   "metadata": {},
   "outputs": [
    {
     "name": "stdout",
     "output_type": "stream",
     "text": [
      "Коэффициент корреляции между оценками пользователей и продажами: -0.040131589472697356\n"
     ]
    }
   ],
   "source": [
    "print('Коэффициент корреляции между оценками пользователей и продажами:', ps4_user_score['user_score'].corr(ps4_user_score['total_sales']))"
   ]
  },
  {
   "cell_type": "markdown",
   "metadata": {},
   "source": [
    ">Зависимости практически нет. Можно говорить о том, что оценки юзеров не влияют на продажи в мире игр. "
   ]
  },
  {
   "cell_type": "markdown",
   "metadata": {},
   "source": [
    "Посмотрим на коэффициент корреляции у других платформ из актуального периода"
   ]
  },
  {
   "cell_type": "code",
   "execution_count": 41,
   "metadata": {},
   "outputs": [
    {
     "name": "stdout",
     "output_type": "stream",
     "text": [
      "3ds: 0.2151932718527028\n",
      "pc: -0.07159665703472451\n",
      "ps3: -0.16676141347662118\n",
      "psp: nan\n",
      "psv: -0.16845504978064446\n",
      "wii: 1.0\n",
      "wiiu: 0.40792645792170773\n",
      "x360: -0.138444570945665\n",
      "xone: 0.42211185105557664\n"
     ]
    }
   ],
   "source": [
    "user_score_3ds = games_actual.query('platform == \"3ds\" and user_score > 0')\n",
    "print('3ds:', user_score_3ds['user_score'].corr(user_score_3ds['total_sales']))\n",
    "user_score_pc = games_actual.query('platform == \"pc\" and user_score > 0')\n",
    "print('pc:', user_score_pc['user_score'].corr(user_score_pc['total_sales']))\n",
    "user_score_ps3 = games_actual.query('platform == \"ps3\" and user_score > 0')\n",
    "print('ps3:', user_score_ps3['user_score'].corr(user_score_ps3['total_sales']))\n",
    "user_score_psp = games_actual.query('platform == \"psp\" and user_score > 0')\n",
    "print('psp:', user_score_psp['user_score'].corr(user_score_psp['total_sales']))\n",
    "user_score_psv = games_actual.query('platform == \"psv\" and user_score > 0')\n",
    "print('psv:', user_score_psv['user_score'].corr(user_score_psv['total_sales']))\n",
    "user_score_wii = games_actual.query('platform == \"wii\" and user_score > 0')\n",
    "print('wii:', user_score_wii['user_score'].corr(user_score_wii['total_sales']))\n",
    "user_score_wiiu = games_actual.query('platform == \"wiiu\" and user_score > 0')\n",
    "print('wiiu:', user_score_wiiu['user_score'].corr(user_score_wiiu['total_sales']))\n",
    "user_score_x360 = games_actual.query('platform == \"x360\" and user_score > 0')\n",
    "print('x360:', user_score_x360['user_score'].corr(user_score_x360['total_sales']))\n",
    "user_score_xone = games_actual.query('platform == \"xone\" and user_score > 0')\n",
    "print('xone:', user_score_xone['critic_score'].corr(user_score_xone['total_sales']))"
   ]
  },
  {
   "cell_type": "markdown",
   "metadata": {},
   "source": [
    "> Выводы подтверждаются. Более сильная корреляция у **wiiu** и **xone** (иногда, но не часто с высокой оценкой юзеров продажи растут), отрицательная корреляция у четырех платформ, включая и **ps4**. У **psp** нет оценок.  \n",
    "Интересно посмотреть на сильную зависимость у **wiiu**. По этой платформе точно можно сказать, что чем выше оценка пользователя, тем выше продажи. Это интересно, т.к. мы помним, что ей удается сделать прекрасный показатель продаж малым количеством игр. "
   ]
  },
  {
   "cell_type": "markdown",
   "metadata": {},
   "source": [
    "### Распределение игр по жанрам. "
   ]
  },
  {
   "cell_type": "code",
   "execution_count": 42,
   "metadata": {},
   "outputs": [
    {
     "data": {
      "text/html": [
       "<div>\n",
       "<style scoped>\n",
       "    .dataframe tbody tr th:only-of-type {\n",
       "        vertical-align: middle;\n",
       "    }\n",
       "\n",
       "    .dataframe tbody tr th {\n",
       "        vertical-align: top;\n",
       "    }\n",
       "\n",
       "    .dataframe thead th {\n",
       "        text-align: right;\n",
       "    }\n",
       "</style>\n",
       "<table border=\"1\" class=\"dataframe\">\n",
       "  <thead>\n",
       "    <tr style=\"text-align: right;\">\n",
       "      <th></th>\n",
       "      <th>genre</th>\n",
       "      <th>n_games</th>\n",
       "      <th>total_sales</th>\n",
       "    </tr>\n",
       "  </thead>\n",
       "  <tbody>\n",
       "    <tr>\n",
       "      <th>0</th>\n",
       "      <td>action</td>\n",
       "      <td>619</td>\n",
       "      <td>199.36</td>\n",
       "    </tr>\n",
       "    <tr>\n",
       "      <th>8</th>\n",
       "      <td>shooter</td>\n",
       "      <td>128</td>\n",
       "      <td>170.94</td>\n",
       "    </tr>\n",
       "    <tr>\n",
       "      <th>10</th>\n",
       "      <td>sports</td>\n",
       "      <td>161</td>\n",
       "      <td>109.48</td>\n",
       "    </tr>\n",
       "    <tr>\n",
       "      <th>7</th>\n",
       "      <td>role-playing</td>\n",
       "      <td>221</td>\n",
       "      <td>101.44</td>\n",
       "    </tr>\n",
       "    <tr>\n",
       "      <th>3</th>\n",
       "      <td>misc</td>\n",
       "      <td>113</td>\n",
       "      <td>37.55</td>\n",
       "    </tr>\n",
       "    <tr>\n",
       "      <th>2</th>\n",
       "      <td>fighting</td>\n",
       "      <td>60</td>\n",
       "      <td>28.22</td>\n",
       "    </tr>\n",
       "    <tr>\n",
       "      <th>6</th>\n",
       "      <td>racing</td>\n",
       "      <td>69</td>\n",
       "      <td>27.52</td>\n",
       "    </tr>\n",
       "    <tr>\n",
       "      <th>4</th>\n",
       "      <td>platform</td>\n",
       "      <td>38</td>\n",
       "      <td>18.09</td>\n",
       "    </tr>\n",
       "    <tr>\n",
       "      <th>1</th>\n",
       "      <td>adventure</td>\n",
       "      <td>185</td>\n",
       "      <td>17.55</td>\n",
       "    </tr>\n",
       "    <tr>\n",
       "      <th>9</th>\n",
       "      <td>simulation</td>\n",
       "      <td>44</td>\n",
       "      <td>13.13</td>\n",
       "    </tr>\n",
       "    <tr>\n",
       "      <th>11</th>\n",
       "      <td>strategy</td>\n",
       "      <td>37</td>\n",
       "      <td>3.96</td>\n",
       "    </tr>\n",
       "    <tr>\n",
       "      <th>5</th>\n",
       "      <td>puzzle</td>\n",
       "      <td>14</td>\n",
       "      <td>2.21</td>\n",
       "    </tr>\n",
       "  </tbody>\n",
       "</table>\n",
       "</div>"
      ],
      "text/plain": [
       "           genre  n_games  total_sales\n",
       "0         action      619       199.36\n",
       "8        shooter      128       170.94\n",
       "10        sports      161       109.48\n",
       "7   role-playing      221       101.44\n",
       "3           misc      113        37.55\n",
       "2       fighting       60        28.22\n",
       "6         racing       69        27.52\n",
       "4       platform       38        18.09\n",
       "1      adventure      185        17.55\n",
       "9     simulation       44        13.13\n",
       "11      strategy       37         3.96\n",
       "5         puzzle       14         2.21"
      ]
     },
     "metadata": {},
     "output_type": "display_data"
    }
   ],
   "source": [
    "games_genre = games_actual.groupby('genre').agg({'name': 'count', 'total_sales': 'sum'}).reset_index().sort_values(by='total_sales', ascending=False)\n",
    "games_genre.columns = ['genre', 'n_games', 'total_sales']\n",
    "display(games_genre)"
   ]
  },
  {
   "cell_type": "markdown",
   "metadata": {},
   "source": [
    ">4 самых прибыльных жанра:\n",
    ">* action  \n",
    ">* shooter  \n",
    ">* sports  \n",
    ">* role-playing  \n",
    ">\n",
    ">Интересно, что action продает всего на 14% больше, чем shooter, Хотя в shooter игр меньше практически в 5 раз. Интересно посмотреть на остальное соотношение"
   ]
  },
  {
   "cell_type": "code",
   "execution_count": 43,
   "metadata": {},
   "outputs": [
    {
     "data": {
      "text/html": [
       "<div>\n",
       "<style scoped>\n",
       "    .dataframe tbody tr th:only-of-type {\n",
       "        vertical-align: middle;\n",
       "    }\n",
       "\n",
       "    .dataframe tbody tr th {\n",
       "        vertical-align: top;\n",
       "    }\n",
       "\n",
       "    .dataframe thead th {\n",
       "        text-align: right;\n",
       "    }\n",
       "</style>\n",
       "<table border=\"1\" class=\"dataframe\">\n",
       "  <thead>\n",
       "    <tr style=\"text-align: right;\">\n",
       "      <th></th>\n",
       "      <th>genre</th>\n",
       "      <th>n_games</th>\n",
       "      <th>total_sales</th>\n",
       "      <th>ratio</th>\n",
       "    </tr>\n",
       "  </thead>\n",
       "  <tbody>\n",
       "    <tr>\n",
       "      <th>0</th>\n",
       "      <td>action</td>\n",
       "      <td>619</td>\n",
       "      <td>199.36</td>\n",
       "      <td>0.322068</td>\n",
       "    </tr>\n",
       "    <tr>\n",
       "      <th>8</th>\n",
       "      <td>shooter</td>\n",
       "      <td>128</td>\n",
       "      <td>170.94</td>\n",
       "      <td>1.335469</td>\n",
       "    </tr>\n",
       "    <tr>\n",
       "      <th>10</th>\n",
       "      <td>sports</td>\n",
       "      <td>161</td>\n",
       "      <td>109.48</td>\n",
       "      <td>0.680000</td>\n",
       "    </tr>\n",
       "    <tr>\n",
       "      <th>7</th>\n",
       "      <td>role-playing</td>\n",
       "      <td>221</td>\n",
       "      <td>101.44</td>\n",
       "      <td>0.459005</td>\n",
       "    </tr>\n",
       "    <tr>\n",
       "      <th>3</th>\n",
       "      <td>misc</td>\n",
       "      <td>113</td>\n",
       "      <td>37.55</td>\n",
       "      <td>0.332301</td>\n",
       "    </tr>\n",
       "    <tr>\n",
       "      <th>2</th>\n",
       "      <td>fighting</td>\n",
       "      <td>60</td>\n",
       "      <td>28.22</td>\n",
       "      <td>0.470333</td>\n",
       "    </tr>\n",
       "    <tr>\n",
       "      <th>6</th>\n",
       "      <td>racing</td>\n",
       "      <td>69</td>\n",
       "      <td>27.52</td>\n",
       "      <td>0.398841</td>\n",
       "    </tr>\n",
       "    <tr>\n",
       "      <th>4</th>\n",
       "      <td>platform</td>\n",
       "      <td>38</td>\n",
       "      <td>18.09</td>\n",
       "      <td>0.476053</td>\n",
       "    </tr>\n",
       "    <tr>\n",
       "      <th>1</th>\n",
       "      <td>adventure</td>\n",
       "      <td>185</td>\n",
       "      <td>17.55</td>\n",
       "      <td>0.094865</td>\n",
       "    </tr>\n",
       "    <tr>\n",
       "      <th>9</th>\n",
       "      <td>simulation</td>\n",
       "      <td>44</td>\n",
       "      <td>13.13</td>\n",
       "      <td>0.298409</td>\n",
       "    </tr>\n",
       "    <tr>\n",
       "      <th>11</th>\n",
       "      <td>strategy</td>\n",
       "      <td>37</td>\n",
       "      <td>3.96</td>\n",
       "      <td>0.107027</td>\n",
       "    </tr>\n",
       "    <tr>\n",
       "      <th>5</th>\n",
       "      <td>puzzle</td>\n",
       "      <td>14</td>\n",
       "      <td>2.21</td>\n",
       "      <td>0.157857</td>\n",
       "    </tr>\n",
       "  </tbody>\n",
       "</table>\n",
       "</div>"
      ],
      "text/plain": [
       "           genre  n_games  total_sales     ratio\n",
       "0         action      619       199.36  0.322068\n",
       "8        shooter      128       170.94  1.335469\n",
       "10        sports      161       109.48  0.680000\n",
       "7   role-playing      221       101.44  0.459005\n",
       "3           misc      113        37.55  0.332301\n",
       "2       fighting       60        28.22  0.470333\n",
       "6         racing       69        27.52  0.398841\n",
       "4       platform       38        18.09  0.476053\n",
       "1      adventure      185        17.55  0.094865\n",
       "9     simulation       44        13.13  0.298409\n",
       "11      strategy       37         3.96  0.107027\n",
       "5         puzzle       14         2.21  0.157857"
      ]
     },
     "metadata": {},
     "output_type": "display_data"
    }
   ],
   "source": [
    "games_genre['ratio'] = games_genre['total_sales'] / games_genre['n_games']\n",
    "display(games_genre)"
   ]
  },
  {
   "cell_type": "markdown",
   "metadata": {},
   "source": [
    ">Shooter явно лидер. Надо обратить внимание на него в первую очередь, ведь тогда мы можем сделать больший объем продаж меньшими затратами(игр нужно будет продать меньше). Из лидеров также идут sports и role playing, выделяется fighting и platform, и уже потом идет action.  \n",
    ">\n",
    ">Самый низкий показатель у puzzle, а в соотношение продаж к количеству игр проигрывает adventure и strategy."
   ]
  },
  {
   "cell_type": "markdown",
   "metadata": {},
   "source": [
    "## Портрет пользователя каждого региона"
   ]
  },
  {
   "cell_type": "markdown",
   "metadata": {},
   "source": [
    "### Популярные платформы (ТОП-5) для каждого региона. "
   ]
  },
  {
   "cell_type": "code",
   "execution_count": 44,
   "metadata": {},
   "outputs": [
    {
     "data": {
      "text/html": [
       "<div>\n",
       "<style scoped>\n",
       "    .dataframe tbody tr th:only-of-type {\n",
       "        vertical-align: middle;\n",
       "    }\n",
       "\n",
       "    .dataframe tbody tr th {\n",
       "        vertical-align: top;\n",
       "    }\n",
       "\n",
       "    .dataframe thead th {\n",
       "        text-align: right;\n",
       "    }\n",
       "</style>\n",
       "<table border=\"1\" class=\"dataframe\">\n",
       "  <thead>\n",
       "    <tr style=\"text-align: right;\">\n",
       "      <th></th>\n",
       "      <th>platform</th>\n",
       "      <th>na_sales</th>\n",
       "    </tr>\n",
       "  </thead>\n",
       "  <tbody>\n",
       "    <tr>\n",
       "      <th>3</th>\n",
       "      <td>ps4</td>\n",
       "      <td>98.61</td>\n",
       "    </tr>\n",
       "    <tr>\n",
       "      <th>9</th>\n",
       "      <td>xone</td>\n",
       "      <td>81.27</td>\n",
       "    </tr>\n",
       "    <tr>\n",
       "      <th>8</th>\n",
       "      <td>x360</td>\n",
       "      <td>28.30</td>\n",
       "    </tr>\n",
       "    <tr>\n",
       "      <th>0</th>\n",
       "      <td>3ds</td>\n",
       "      <td>22.64</td>\n",
       "    </tr>\n",
       "    <tr>\n",
       "      <th>2</th>\n",
       "      <td>ps3</td>\n",
       "      <td>22.05</td>\n",
       "    </tr>\n",
       "  </tbody>\n",
       "</table>\n",
       "</div>"
      ],
      "text/plain": [
       "  platform  na_sales\n",
       "3      ps4     98.61\n",
       "9     xone     81.27\n",
       "8     x360     28.30\n",
       "0      3ds     22.64\n",
       "2      ps3     22.05"
      ]
     },
     "execution_count": 44,
     "metadata": {},
     "output_type": "execute_result"
    }
   ],
   "source": [
    "platform_na = games_actual.groupby('platform').agg({'na_sales': 'sum'}).reset_index().sort_values(by='na_sales', ascending=False)\n",
    "platform_na.head()"
   ]
  },
  {
   "cell_type": "code",
   "execution_count": 45,
   "metadata": {},
   "outputs": [
    {
     "data": {
      "text/html": [
       "<div>\n",
       "<style scoped>\n",
       "    .dataframe tbody tr th:only-of-type {\n",
       "        vertical-align: middle;\n",
       "    }\n",
       "\n",
       "    .dataframe tbody tr th {\n",
       "        vertical-align: top;\n",
       "    }\n",
       "\n",
       "    .dataframe thead th {\n",
       "        text-align: right;\n",
       "    }\n",
       "</style>\n",
       "<table border=\"1\" class=\"dataframe\">\n",
       "  <thead>\n",
       "    <tr style=\"text-align: right;\">\n",
       "      <th></th>\n",
       "      <th>platform</th>\n",
       "      <th>eu_sales</th>\n",
       "    </tr>\n",
       "  </thead>\n",
       "  <tbody>\n",
       "    <tr>\n",
       "      <th>3</th>\n",
       "      <td>ps4</td>\n",
       "      <td>130.04</td>\n",
       "    </tr>\n",
       "    <tr>\n",
       "      <th>9</th>\n",
       "      <td>xone</td>\n",
       "      <td>46.25</td>\n",
       "    </tr>\n",
       "    <tr>\n",
       "      <th>2</th>\n",
       "      <td>ps3</td>\n",
       "      <td>25.54</td>\n",
       "    </tr>\n",
       "    <tr>\n",
       "      <th>1</th>\n",
       "      <td>pc</td>\n",
       "      <td>17.97</td>\n",
       "    </tr>\n",
       "    <tr>\n",
       "      <th>0</th>\n",
       "      <td>3ds</td>\n",
       "      <td>16.12</td>\n",
       "    </tr>\n",
       "  </tbody>\n",
       "</table>\n",
       "</div>"
      ],
      "text/plain": [
       "  platform  eu_sales\n",
       "3      ps4    130.04\n",
       "9     xone     46.25\n",
       "2      ps3     25.54\n",
       "1       pc     17.97\n",
       "0      3ds     16.12"
      ]
     },
     "execution_count": 45,
     "metadata": {},
     "output_type": "execute_result"
    }
   ],
   "source": [
    "platform_eu = games_actual.groupby('platform').agg({'eu_sales': 'sum'}).reset_index().sort_values(by='eu_sales', ascending=False)\n",
    "platform_eu.head()"
   ]
  },
  {
   "cell_type": "code",
   "execution_count": 46,
   "metadata": {},
   "outputs": [
    {
     "data": {
      "text/html": [
       "<div>\n",
       "<style scoped>\n",
       "    .dataframe tbody tr th:only-of-type {\n",
       "        vertical-align: middle;\n",
       "    }\n",
       "\n",
       "    .dataframe tbody tr th {\n",
       "        vertical-align: top;\n",
       "    }\n",
       "\n",
       "    .dataframe thead th {\n",
       "        text-align: right;\n",
       "    }\n",
       "</style>\n",
       "<table border=\"1\" class=\"dataframe\">\n",
       "  <thead>\n",
       "    <tr style=\"text-align: right;\">\n",
       "      <th></th>\n",
       "      <th>platform</th>\n",
       "      <th>jp_sales</th>\n",
       "    </tr>\n",
       "  </thead>\n",
       "  <tbody>\n",
       "    <tr>\n",
       "      <th>0</th>\n",
       "      <td>3ds</td>\n",
       "      <td>44.24</td>\n",
       "    </tr>\n",
       "    <tr>\n",
       "      <th>3</th>\n",
       "      <td>ps4</td>\n",
       "      <td>15.02</td>\n",
       "    </tr>\n",
       "    <tr>\n",
       "      <th>5</th>\n",
       "      <td>psv</td>\n",
       "      <td>14.54</td>\n",
       "    </tr>\n",
       "    <tr>\n",
       "      <th>2</th>\n",
       "      <td>ps3</td>\n",
       "      <td>11.22</td>\n",
       "    </tr>\n",
       "    <tr>\n",
       "      <th>7</th>\n",
       "      <td>wiiu</td>\n",
       "      <td>7.31</td>\n",
       "    </tr>\n",
       "  </tbody>\n",
       "</table>\n",
       "</div>"
      ],
      "text/plain": [
       "  platform  jp_sales\n",
       "0      3ds     44.24\n",
       "3      ps4     15.02\n",
       "5      psv     14.54\n",
       "2      ps3     11.22\n",
       "7     wiiu      7.31"
      ]
     },
     "execution_count": 46,
     "metadata": {},
     "output_type": "execute_result"
    }
   ],
   "source": [
    "platform_jp = games_actual.groupby('platform').agg({'jp_sales': 'sum'}).reset_index().sort_values(by='jp_sales', ascending=False)\n",
    "platform_jp.head()"
   ]
  },
  {
   "cell_type": "markdown",
   "metadata": {},
   "source": [
    ">В Европе и Северной Америке лидеры ps4 и xone. Четверка топов схожа с разнице в продажах, отличие в том, что в Европе в ТОП вырывается pc, а в америке x360.  \n",
    ">\n",
    ">В Японии ситуация другая. 3Ds в лидерах, хотя в других регионах он занимает последнее и предпоследнее место в топе-5. Продажи этой платформы превышают продажи Америки в 2 раза, а европейские еще больше. Эта платформа абсолютный лидер в Японии.  \n",
    ">\n",
    ">Ps4 продает в Японии меньше чем в 8 раз по сравнению с Европой. У ps4, psv и ps3 в Японии практически ровные показатели. В ТОПе появляется также wiiu. "
   ]
  },
  {
   "cell_type": "markdown",
   "metadata": {},
   "source": [
    "### Популярные жанры (топ-5) для каждого региона. Различия в долях продаж"
   ]
  },
  {
   "cell_type": "code",
   "execution_count": 47,
   "metadata": {},
   "outputs": [
    {
     "data": {
      "text/html": [
       "<div>\n",
       "<style scoped>\n",
       "    .dataframe tbody tr th:only-of-type {\n",
       "        vertical-align: middle;\n",
       "    }\n",
       "\n",
       "    .dataframe tbody tr th {\n",
       "        vertical-align: top;\n",
       "    }\n",
       "\n",
       "    .dataframe thead th {\n",
       "        text-align: right;\n",
       "    }\n",
       "</style>\n",
       "<table border=\"1\" class=\"dataframe\">\n",
       "  <thead>\n",
       "    <tr style=\"text-align: right;\">\n",
       "      <th></th>\n",
       "      <th>genre</th>\n",
       "      <th>na_sales</th>\n",
       "    </tr>\n",
       "  </thead>\n",
       "  <tbody>\n",
       "    <tr>\n",
       "      <th>8</th>\n",
       "      <td>shooter</td>\n",
       "      <td>79.02</td>\n",
       "    </tr>\n",
       "    <tr>\n",
       "      <th>0</th>\n",
       "      <td>action</td>\n",
       "      <td>72.53</td>\n",
       "    </tr>\n",
       "    <tr>\n",
       "      <th>10</th>\n",
       "      <td>sports</td>\n",
       "      <td>46.13</td>\n",
       "    </tr>\n",
       "    <tr>\n",
       "      <th>7</th>\n",
       "      <td>role-playing</td>\n",
       "      <td>33.47</td>\n",
       "    </tr>\n",
       "    <tr>\n",
       "      <th>3</th>\n",
       "      <td>misc</td>\n",
       "      <td>15.05</td>\n",
       "    </tr>\n",
       "  </tbody>\n",
       "</table>\n",
       "</div>"
      ],
      "text/plain": [
       "           genre  na_sales\n",
       "8        shooter     79.02\n",
       "0         action     72.53\n",
       "10        sports     46.13\n",
       "7   role-playing     33.47\n",
       "3           misc     15.05"
      ]
     },
     "execution_count": 47,
     "metadata": {},
     "output_type": "execute_result"
    }
   ],
   "source": [
    "genre_na = games_actual.groupby('genre').agg({'na_sales': 'sum'}).reset_index().sort_values(by='na_sales', ascending=False)\n",
    "genre_na.head()"
   ]
  },
  {
   "cell_type": "code",
   "execution_count": 48,
   "metadata": {},
   "outputs": [
    {
     "data": {
      "text/html": [
       "<div>\n",
       "<style scoped>\n",
       "    .dataframe tbody tr th:only-of-type {\n",
       "        vertical-align: middle;\n",
       "    }\n",
       "\n",
       "    .dataframe tbody tr th {\n",
       "        vertical-align: top;\n",
       "    }\n",
       "\n",
       "    .dataframe thead th {\n",
       "        text-align: right;\n",
       "    }\n",
       "</style>\n",
       "<table border=\"1\" class=\"dataframe\">\n",
       "  <thead>\n",
       "    <tr style=\"text-align: right;\">\n",
       "      <th></th>\n",
       "      <th>genre</th>\n",
       "      <th>eu_sales</th>\n",
       "    </tr>\n",
       "  </thead>\n",
       "  <tbody>\n",
       "    <tr>\n",
       "      <th>0</th>\n",
       "      <td>action</td>\n",
       "      <td>74.68</td>\n",
       "    </tr>\n",
       "    <tr>\n",
       "      <th>8</th>\n",
       "      <td>shooter</td>\n",
       "      <td>65.52</td>\n",
       "    </tr>\n",
       "    <tr>\n",
       "      <th>10</th>\n",
       "      <td>sports</td>\n",
       "      <td>45.73</td>\n",
       "    </tr>\n",
       "    <tr>\n",
       "      <th>7</th>\n",
       "      <td>role-playing</td>\n",
       "      <td>28.17</td>\n",
       "    </tr>\n",
       "    <tr>\n",
       "      <th>6</th>\n",
       "      <td>racing</td>\n",
       "      <td>14.13</td>\n",
       "    </tr>\n",
       "  </tbody>\n",
       "</table>\n",
       "</div>"
      ],
      "text/plain": [
       "           genre  eu_sales\n",
       "0         action     74.68\n",
       "8        shooter     65.52\n",
       "10        sports     45.73\n",
       "7   role-playing     28.17\n",
       "6         racing     14.13"
      ]
     },
     "execution_count": 48,
     "metadata": {},
     "output_type": "execute_result"
    }
   ],
   "source": [
    "genre_eu = games_actual.groupby('genre').agg({'eu_sales': 'sum'}).reset_index().sort_values(by='eu_sales', ascending=False)\n",
    "genre_eu.head()"
   ]
  },
  {
   "cell_type": "code",
   "execution_count": 49,
   "metadata": {},
   "outputs": [
    {
     "data": {
      "text/html": [
       "<div>\n",
       "<style scoped>\n",
       "    .dataframe tbody tr th:only-of-type {\n",
       "        vertical-align: middle;\n",
       "    }\n",
       "\n",
       "    .dataframe tbody tr th {\n",
       "        vertical-align: top;\n",
       "    }\n",
       "\n",
       "    .dataframe thead th {\n",
       "        text-align: right;\n",
       "    }\n",
       "</style>\n",
       "<table border=\"1\" class=\"dataframe\">\n",
       "  <thead>\n",
       "    <tr style=\"text-align: right;\">\n",
       "      <th></th>\n",
       "      <th>genre</th>\n",
       "      <th>jp_sales</th>\n",
       "    </tr>\n",
       "  </thead>\n",
       "  <tbody>\n",
       "    <tr>\n",
       "      <th>7</th>\n",
       "      <td>role-playing</td>\n",
       "      <td>31.16</td>\n",
       "    </tr>\n",
       "    <tr>\n",
       "      <th>0</th>\n",
       "      <td>action</td>\n",
       "      <td>29.58</td>\n",
       "    </tr>\n",
       "    <tr>\n",
       "      <th>2</th>\n",
       "      <td>fighting</td>\n",
       "      <td>6.37</td>\n",
       "    </tr>\n",
       "    <tr>\n",
       "      <th>3</th>\n",
       "      <td>misc</td>\n",
       "      <td>5.61</td>\n",
       "    </tr>\n",
       "    <tr>\n",
       "      <th>8</th>\n",
       "      <td>shooter</td>\n",
       "      <td>4.87</td>\n",
       "    </tr>\n",
       "  </tbody>\n",
       "</table>\n",
       "</div>"
      ],
      "text/plain": [
       "          genre  jp_sales\n",
       "7  role-playing     31.16\n",
       "0        action     29.58\n",
       "2      fighting      6.37\n",
       "3          misc      5.61\n",
       "8       shooter      4.87"
      ]
     },
     "execution_count": 49,
     "metadata": {},
     "output_type": "execute_result"
    }
   ],
   "source": [
    "genre_jp = games_actual.groupby('genre').agg({'jp_sales': 'sum'}).reset_index().sort_values(by='jp_sales', ascending=False)\n",
    "genre_jp.head()"
   ]
  },
  {
   "cell_type": "markdown",
   "metadata": {},
   "source": [
    ">В Америке популярны жанры shooter и action, в Японии role playing и action, в Европе в лидеры выбивается action и shooter. Интересно, что ТОП популярности в Америке и Европе shooter довольно не сильно популярен в Японии, хотя все равно входит в топ. И наоборот, на предпоследнем месте в Америке и Европе role playing, а в Японии этот жанр на первом. В Японии можем увидеть интерес к жанру fighting, а в Европе к racing."
   ]
  },
  {
   "cell_type": "markdown",
   "metadata": {},
   "source": [
    "### Влияет ли рейтинг ESRB на продажи в отдельном регионе?"
   ]
  },
  {
   "cell_type": "markdown",
   "metadata": {},
   "source": [
    "Для задачи нужно выяснить, влияет ли на продажи наличие рейтинга или не влияет. Определим, когда рейтинг есть и когда его нет. Для этого присвоим 1 - если рейтинг есть, и 0 - если его нет"
   ]
  },
  {
   "cell_type": "code",
   "execution_count": 50,
   "metadata": {},
   "outputs": [
    {
     "data": {
      "text/html": [
       "<div>\n",
       "<style scoped>\n",
       "    .dataframe tbody tr th:only-of-type {\n",
       "        vertical-align: middle;\n",
       "    }\n",
       "\n",
       "    .dataframe tbody tr th {\n",
       "        vertical-align: top;\n",
       "    }\n",
       "\n",
       "    .dataframe thead th {\n",
       "        text-align: right;\n",
       "    }\n",
       "</style>\n",
       "<table border=\"1\" class=\"dataframe\">\n",
       "  <thead>\n",
       "    <tr style=\"text-align: right;\">\n",
       "      <th></th>\n",
       "      <th>name</th>\n",
       "      <th>platform</th>\n",
       "      <th>year_of_release</th>\n",
       "      <th>genre</th>\n",
       "      <th>na_sales</th>\n",
       "      <th>eu_sales</th>\n",
       "      <th>jp_sales</th>\n",
       "      <th>other_sales</th>\n",
       "      <th>critic_score</th>\n",
       "      <th>user_score</th>\n",
       "      <th>rating</th>\n",
       "      <th>total_sales</th>\n",
       "      <th>id</th>\n",
       "    </tr>\n",
       "  </thead>\n",
       "  <tbody>\n",
       "    <tr>\n",
       "      <th>31</th>\n",
       "      <td>call of duty: black ops 3</td>\n",
       "      <td>ps4</td>\n",
       "      <td>2015</td>\n",
       "      <td>shooter</td>\n",
       "      <td>6.03</td>\n",
       "      <td>5.86</td>\n",
       "      <td>0.36</td>\n",
       "      <td>2.38</td>\n",
       "      <td>NaN</td>\n",
       "      <td>NaN</td>\n",
       "      <td>NaN</td>\n",
       "      <td>14.63</td>\n",
       "      <td>0</td>\n",
       "    </tr>\n",
       "    <tr>\n",
       "      <th>42</th>\n",
       "      <td>grand theft auto v</td>\n",
       "      <td>ps4</td>\n",
       "      <td>2014</td>\n",
       "      <td>action</td>\n",
       "      <td>3.96</td>\n",
       "      <td>6.31</td>\n",
       "      <td>0.38</td>\n",
       "      <td>1.97</td>\n",
       "      <td>9.7</td>\n",
       "      <td>8.3</td>\n",
       "      <td>m</td>\n",
       "      <td>12.62</td>\n",
       "      <td>1</td>\n",
       "    </tr>\n",
       "    <tr>\n",
       "      <th>47</th>\n",
       "      <td>pokemon omega ruby/pokemon alpha sapphire</td>\n",
       "      <td>3ds</td>\n",
       "      <td>2014</td>\n",
       "      <td>role-playing</td>\n",
       "      <td>4.35</td>\n",
       "      <td>3.49</td>\n",
       "      <td>3.10</td>\n",
       "      <td>0.74</td>\n",
       "      <td>NaN</td>\n",
       "      <td>NaN</td>\n",
       "      <td>NaN</td>\n",
       "      <td>11.68</td>\n",
       "      <td>0</td>\n",
       "    </tr>\n",
       "    <tr>\n",
       "      <th>77</th>\n",
       "      <td>fifa 16</td>\n",
       "      <td>ps4</td>\n",
       "      <td>2015</td>\n",
       "      <td>sports</td>\n",
       "      <td>1.12</td>\n",
       "      <td>6.12</td>\n",
       "      <td>0.06</td>\n",
       "      <td>1.28</td>\n",
       "      <td>8.2</td>\n",
       "      <td>4.3</td>\n",
       "      <td>e</td>\n",
       "      <td>8.58</td>\n",
       "      <td>1</td>\n",
       "    </tr>\n",
       "    <tr>\n",
       "      <th>87</th>\n",
       "      <td>star wars battlefront (2015)</td>\n",
       "      <td>ps4</td>\n",
       "      <td>2015</td>\n",
       "      <td>shooter</td>\n",
       "      <td>2.99</td>\n",
       "      <td>3.49</td>\n",
       "      <td>0.22</td>\n",
       "      <td>1.28</td>\n",
       "      <td>NaN</td>\n",
       "      <td>NaN</td>\n",
       "      <td>NaN</td>\n",
       "      <td>7.98</td>\n",
       "      <td>0</td>\n",
       "    </tr>\n",
       "    <tr>\n",
       "      <th>92</th>\n",
       "      <td>call of duty: advanced warfare</td>\n",
       "      <td>ps4</td>\n",
       "      <td>2014</td>\n",
       "      <td>shooter</td>\n",
       "      <td>2.81</td>\n",
       "      <td>3.48</td>\n",
       "      <td>0.14</td>\n",
       "      <td>1.23</td>\n",
       "      <td>8.3</td>\n",
       "      <td>5.7</td>\n",
       "      <td>m</td>\n",
       "      <td>7.66</td>\n",
       "      <td>1</td>\n",
       "    </tr>\n",
       "    <tr>\n",
       "      <th>94</th>\n",
       "      <td>fifa 17</td>\n",
       "      <td>ps4</td>\n",
       "      <td>2016</td>\n",
       "      <td>sports</td>\n",
       "      <td>0.66</td>\n",
       "      <td>5.75</td>\n",
       "      <td>0.08</td>\n",
       "      <td>1.11</td>\n",
       "      <td>8.5</td>\n",
       "      <td>5.0</td>\n",
       "      <td>e</td>\n",
       "      <td>7.60</td>\n",
       "      <td>1</td>\n",
       "    </tr>\n",
       "    <tr>\n",
       "      <th>96</th>\n",
       "      <td>super smash bros. for wii u and 3ds</td>\n",
       "      <td>3ds</td>\n",
       "      <td>2014</td>\n",
       "      <td>fighting</td>\n",
       "      <td>3.27</td>\n",
       "      <td>1.37</td>\n",
       "      <td>2.43</td>\n",
       "      <td>0.48</td>\n",
       "      <td>NaN</td>\n",
       "      <td>NaN</td>\n",
       "      <td>NaN</td>\n",
       "      <td>7.55</td>\n",
       "      <td>0</td>\n",
       "    </tr>\n",
       "    <tr>\n",
       "      <th>99</th>\n",
       "      <td>call of duty: black ops 3</td>\n",
       "      <td>xone</td>\n",
       "      <td>2015</td>\n",
       "      <td>shooter</td>\n",
       "      <td>4.59</td>\n",
       "      <td>2.11</td>\n",
       "      <td>0.01</td>\n",
       "      <td>0.68</td>\n",
       "      <td>NaN</td>\n",
       "      <td>NaN</td>\n",
       "      <td>NaN</td>\n",
       "      <td>7.39</td>\n",
       "      <td>0</td>\n",
       "    </tr>\n",
       "    <tr>\n",
       "      <th>105</th>\n",
       "      <td>fallout 4</td>\n",
       "      <td>ps4</td>\n",
       "      <td>2015</td>\n",
       "      <td>role-playing</td>\n",
       "      <td>2.53</td>\n",
       "      <td>3.27</td>\n",
       "      <td>0.24</td>\n",
       "      <td>1.13</td>\n",
       "      <td>8.7</td>\n",
       "      <td>6.5</td>\n",
       "      <td>m</td>\n",
       "      <td>7.17</td>\n",
       "      <td>1</td>\n",
       "    </tr>\n",
       "  </tbody>\n",
       "</table>\n",
       "</div>"
      ],
      "text/plain": [
       "                                          name platform year_of_release  \\\n",
       "31                   call of duty: black ops 3      ps4            2015   \n",
       "42                          grand theft auto v      ps4            2014   \n",
       "47   pokemon omega ruby/pokemon alpha sapphire      3ds            2014   \n",
       "77                                     fifa 16      ps4            2015   \n",
       "87                star wars battlefront (2015)      ps4            2015   \n",
       "92              call of duty: advanced warfare      ps4            2014   \n",
       "94                                     fifa 17      ps4            2016   \n",
       "96         super smash bros. for wii u and 3ds      3ds            2014   \n",
       "99                   call of duty: black ops 3     xone            2015   \n",
       "105                                  fallout 4      ps4            2015   \n",
       "\n",
       "            genre  na_sales  eu_sales  jp_sales  other_sales  critic_score  \\\n",
       "31        shooter      6.03      5.86      0.36         2.38           NaN   \n",
       "42         action      3.96      6.31      0.38         1.97           9.7   \n",
       "47   role-playing      4.35      3.49      3.10         0.74           NaN   \n",
       "77         sports      1.12      6.12      0.06         1.28           8.2   \n",
       "87        shooter      2.99      3.49      0.22         1.28           NaN   \n",
       "92        shooter      2.81      3.48      0.14         1.23           8.3   \n",
       "94         sports      0.66      5.75      0.08         1.11           8.5   \n",
       "96       fighting      3.27      1.37      2.43         0.48           NaN   \n",
       "99        shooter      4.59      2.11      0.01         0.68           NaN   \n",
       "105  role-playing      2.53      3.27      0.24         1.13           8.7   \n",
       "\n",
       "     user_score rating  total_sales  id  \n",
       "31          NaN    NaN        14.63   0  \n",
       "42          8.3      m        12.62   1  \n",
       "47          NaN    NaN        11.68   0  \n",
       "77          4.3      e         8.58   1  \n",
       "87          NaN    NaN         7.98   0  \n",
       "92          5.7      m         7.66   1  \n",
       "94          5.0      e         7.60   1  \n",
       "96          NaN    NaN         7.55   0  \n",
       "99          NaN    NaN         7.39   0  \n",
       "105         6.5      m         7.17   1  "
      ]
     },
     "execution_count": 50,
     "metadata": {},
     "output_type": "execute_result"
    }
   ],
   "source": [
    "games_actual['id'] = games_actual['rating']\n",
    "games_actual['id'] = games_actual.rating.notna().astype('int')\n",
    "games_actual.head(10)"
   ]
  },
  {
   "cell_type": "markdown",
   "metadata": {},
   "source": [
    "#### Влияние наличия рейтинга ESRB на продажи в отдельном регионе"
   ]
  },
  {
   "cell_type": "code",
   "execution_count": 51,
   "metadata": {},
   "outputs": [
    {
     "data": {
      "text/html": [
       "<div>\n",
       "<style scoped>\n",
       "    .dataframe tbody tr th:only-of-type {\n",
       "        vertical-align: middle;\n",
       "    }\n",
       "\n",
       "    .dataframe tbody tr th {\n",
       "        vertical-align: top;\n",
       "    }\n",
       "\n",
       "    .dataframe thead th {\n",
       "        text-align: right;\n",
       "    }\n",
       "</style>\n",
       "<table border=\"1\" class=\"dataframe\">\n",
       "  <thead>\n",
       "    <tr style=\"text-align: right;\">\n",
       "      <th></th>\n",
       "      <th>id</th>\n",
       "      <th>na_sales</th>\n",
       "    </tr>\n",
       "  </thead>\n",
       "  <tbody>\n",
       "    <tr>\n",
       "      <th>0</th>\n",
       "      <td>0</td>\n",
       "      <td>64.72</td>\n",
       "    </tr>\n",
       "    <tr>\n",
       "      <th>1</th>\n",
       "      <td>1</td>\n",
       "      <td>219.34</td>\n",
       "    </tr>\n",
       "  </tbody>\n",
       "</table>\n",
       "</div>"
      ],
      "text/plain": [
       "   id  na_sales\n",
       "0   0     64.72\n",
       "1   1    219.34"
      ]
     },
     "metadata": {},
     "output_type": "display_data"
    }
   ],
   "source": [
    "rating_na = games_actual.groupby('id').agg({'na_sales': 'sum'}).reset_index() #Северная Америка\n",
    "display(rating_na)"
   ]
  },
  {
   "cell_type": "code",
   "execution_count": 52,
   "metadata": {},
   "outputs": [
    {
     "data": {
      "text/html": [
       "<div>\n",
       "<style scoped>\n",
       "    .dataframe tbody tr th:only-of-type {\n",
       "        vertical-align: middle;\n",
       "    }\n",
       "\n",
       "    .dataframe tbody tr th {\n",
       "        vertical-align: top;\n",
       "    }\n",
       "\n",
       "    .dataframe thead th {\n",
       "        text-align: right;\n",
       "    }\n",
       "</style>\n",
       "<table border=\"1\" class=\"dataframe\">\n",
       "  <thead>\n",
       "    <tr style=\"text-align: right;\">\n",
       "      <th></th>\n",
       "      <th>id</th>\n",
       "      <th>eu_sales</th>\n",
       "    </tr>\n",
       "  </thead>\n",
       "  <tbody>\n",
       "    <tr>\n",
       "      <th>0</th>\n",
       "      <td>0</td>\n",
       "      <td>58.95</td>\n",
       "    </tr>\n",
       "    <tr>\n",
       "      <th>1</th>\n",
       "      <td>1</td>\n",
       "      <td>211.73</td>\n",
       "    </tr>\n",
       "  </tbody>\n",
       "</table>\n",
       "</div>"
      ],
      "text/plain": [
       "   id  eu_sales\n",
       "0   0     58.95\n",
       "1   1    211.73"
      ]
     },
     "metadata": {},
     "output_type": "display_data"
    }
   ],
   "source": [
    "rating_eu = games_actual.groupby('id').agg({'eu_sales': 'sum'}).reset_index() #Европа\n",
    "display(rating_eu)"
   ]
  },
  {
   "cell_type": "code",
   "execution_count": 53,
   "metadata": {},
   "outputs": [
    {
     "data": {
      "text/html": [
       "<div>\n",
       "<style scoped>\n",
       "    .dataframe tbody tr th:only-of-type {\n",
       "        vertical-align: middle;\n",
       "    }\n",
       "\n",
       "    .dataframe tbody tr th {\n",
       "        vertical-align: top;\n",
       "    }\n",
       "\n",
       "    .dataframe thead th {\n",
       "        text-align: right;\n",
       "    }\n",
       "</style>\n",
       "<table border=\"1\" class=\"dataframe\">\n",
       "  <thead>\n",
       "    <tr style=\"text-align: right;\">\n",
       "      <th></th>\n",
       "      <th>id</th>\n",
       "      <th>jp_sales</th>\n",
       "    </tr>\n",
       "  </thead>\n",
       "  <tbody>\n",
       "    <tr>\n",
       "      <th>0</th>\n",
       "      <td>0</td>\n",
       "      <td>56.90</td>\n",
       "    </tr>\n",
       "    <tr>\n",
       "      <th>1</th>\n",
       "      <td>1</td>\n",
       "      <td>36.19</td>\n",
       "    </tr>\n",
       "  </tbody>\n",
       "</table>\n",
       "</div>"
      ],
      "text/plain": [
       "   id  jp_sales\n",
       "0   0     56.90\n",
       "1   1     36.19"
      ]
     },
     "metadata": {},
     "output_type": "display_data"
    }
   ],
   "source": [
    "rating_jp = games_actual.groupby('id').agg({'jp_sales': 'sum'}).reset_index() #Япония\n",
    "display(rating_jp)"
   ]
  },
  {
   "cell_type": "markdown",
   "metadata": {},
   "source": [
    ">В Европе и Америке платформы с наличием рейтинга имеют более высокие продажи, практически в 3,5 раза, чем когда его нет. В Японии ситуация другая, продажи практически ровные. В Японии влияния на продажи наличия рейтинга нет\n"
   ]
  },
  {
   "cell_type": "markdown",
   "metadata": {},
   "source": [
    "### Популярные возрастные рейтинги в разных регионах"
   ]
  },
  {
   "cell_type": "code",
   "execution_count": 54,
   "metadata": {},
   "outputs": [
    {
     "data": {
      "text/plain": [
       "array([nan, 'm', 'e', 't', 'e10+'], dtype=object)"
      ]
     },
     "execution_count": 54,
     "metadata": {},
     "output_type": "execute_result"
    }
   ],
   "source": [
    "games_actual['rating'].unique() #изначально у нас были старые значения k-a равные e, проверим не попали ли они случайно к нам в выборку."
   ]
  },
  {
   "cell_type": "markdown",
   "metadata": {},
   "source": [
    "#### Северная Америка"
   ]
  },
  {
   "cell_type": "code",
   "execution_count": 55,
   "metadata": {},
   "outputs": [
    {
     "data": {
      "text/html": [
       "<div>\n",
       "<style scoped>\n",
       "    .dataframe tbody tr th:only-of-type {\n",
       "        vertical-align: middle;\n",
       "    }\n",
       "\n",
       "    .dataframe tbody tr th {\n",
       "        vertical-align: top;\n",
       "    }\n",
       "\n",
       "    .dataframe thead th {\n",
       "        text-align: right;\n",
       "    }\n",
       "</style>\n",
       "<table border=\"1\" class=\"dataframe\">\n",
       "  <thead>\n",
       "    <tr style=\"text-align: right;\">\n",
       "      <th></th>\n",
       "      <th>rating</th>\n",
       "      <th>na_sales</th>\n",
       "    </tr>\n",
       "  </thead>\n",
       "  <tbody>\n",
       "    <tr>\n",
       "      <th>2</th>\n",
       "      <td>m</td>\n",
       "      <td>96.42</td>\n",
       "    </tr>\n",
       "    <tr>\n",
       "      <th>3</th>\n",
       "      <td>nan</td>\n",
       "      <td>64.72</td>\n",
       "    </tr>\n",
       "    <tr>\n",
       "      <th>0</th>\n",
       "      <td>e</td>\n",
       "      <td>50.74</td>\n",
       "    </tr>\n",
       "    <tr>\n",
       "      <th>4</th>\n",
       "      <td>t</td>\n",
       "      <td>38.95</td>\n",
       "    </tr>\n",
       "    <tr>\n",
       "      <th>1</th>\n",
       "      <td>e10+</td>\n",
       "      <td>33.23</td>\n",
       "    </tr>\n",
       "  </tbody>\n",
       "</table>\n",
       "</div>"
      ],
      "text/plain": [
       "  rating  na_sales\n",
       "2      m     96.42\n",
       "3    nan     64.72\n",
       "0      e     50.74\n",
       "4      t     38.95\n",
       "1   e10+     33.23"
      ]
     },
     "metadata": {},
     "output_type": "display_data"
    }
   ],
   "source": [
    "games_actual['rating'] = games_actual['rating'].astype(str) \n",
    "age_rating_na = games_actual.groupby('rating').agg({'na_sales': 'sum'}).reset_index().sort_values(by='na_sales', ascending=False)\n",
    "display(age_rating_na)"
   ]
  },
  {
   "cell_type": "markdown",
   "metadata": {},
   "source": [
    ">В Северной Америке **в топ** выходит рейтинг **mature** для взрослых 17+ . Как сообщает Википедия, \"проекты с данным рейтингом могут содержать достаточно жестокое насилие, большое количество крови с расчленением, непристойные сексуальные сцены или грубую ненормативную лексику, нежелательную для младшей аудитории\". \n",
    ">\n",
    ">На **втором месте** по продажам - игры без рейтинга. Похоже, что, действительно в Америке рейтинг ESRB просто довольно частая вещь, и отношения к продажам она не имеет.  \n",
    ">\n",
    ">На втором месте, но почти в 2 раза менее популярным явлются игры с рейтингом **everyone** (от 6 лет, практически без насилия)  \n",
    " "
   ]
  },
  {
   "cell_type": "markdown",
   "metadata": {},
   "source": [
    "#### Европа"
   ]
  },
  {
   "cell_type": "code",
   "execution_count": 56,
   "metadata": {},
   "outputs": [
    {
     "data": {
      "text/html": [
       "<div>\n",
       "<style scoped>\n",
       "    .dataframe tbody tr th:only-of-type {\n",
       "        vertical-align: middle;\n",
       "    }\n",
       "\n",
       "    .dataframe tbody tr th {\n",
       "        vertical-align: top;\n",
       "    }\n",
       "\n",
       "    .dataframe thead th {\n",
       "        text-align: right;\n",
       "    }\n",
       "</style>\n",
       "<table border=\"1\" class=\"dataframe\">\n",
       "  <thead>\n",
       "    <tr style=\"text-align: right;\">\n",
       "      <th></th>\n",
       "      <th>rating</th>\n",
       "      <th>eu_sales</th>\n",
       "    </tr>\n",
       "  </thead>\n",
       "  <tbody>\n",
       "    <tr>\n",
       "      <th>2</th>\n",
       "      <td>m</td>\n",
       "      <td>93.44</td>\n",
       "    </tr>\n",
       "    <tr>\n",
       "      <th>3</th>\n",
       "      <td>nan</td>\n",
       "      <td>58.95</td>\n",
       "    </tr>\n",
       "    <tr>\n",
       "      <th>0</th>\n",
       "      <td>e</td>\n",
       "      <td>58.06</td>\n",
       "    </tr>\n",
       "    <tr>\n",
       "      <th>4</th>\n",
       "      <td>t</td>\n",
       "      <td>34.07</td>\n",
       "    </tr>\n",
       "    <tr>\n",
       "      <th>1</th>\n",
       "      <td>e10+</td>\n",
       "      <td>26.16</td>\n",
       "    </tr>\n",
       "  </tbody>\n",
       "</table>\n",
       "</div>"
      ],
      "text/plain": [
       "  rating  eu_sales\n",
       "2      m     93.44\n",
       "3    nan     58.95\n",
       "0      e     58.06\n",
       "4      t     34.07\n",
       "1   e10+     26.16"
      ]
     },
     "metadata": {},
     "output_type": "display_data"
    }
   ],
   "source": [
    "age_rating_eu = games_actual.groupby('rating').agg({'eu_sales': 'sum'}).reset_index().sort_values(by='eu_sales', ascending=False)\n",
    "display(age_rating_eu)"
   ]
  },
  {
   "cell_type": "markdown",
   "metadata": {},
   "source": [
    ">В Европе лидирующую позицию занимает также 17+. Популряные жанры также **shooter** и **action**, на втором месте **everyone**. Показатели кстати, приближенные к Америке. Отрывается от Северной Америки только 10+, но тоже не очень значительно. Видимо, в Европе \"мягкие\" игрушки любят чуть больше, или же просто больше детей в них играют"
   ]
  },
  {
   "cell_type": "markdown",
   "metadata": {},
   "source": [
    "#### Япония"
   ]
  },
  {
   "cell_type": "code",
   "execution_count": 57,
   "metadata": {},
   "outputs": [
    {
     "data": {
      "text/html": [
       "<div>\n",
       "<style scoped>\n",
       "    .dataframe tbody tr th:only-of-type {\n",
       "        vertical-align: middle;\n",
       "    }\n",
       "\n",
       "    .dataframe tbody tr th {\n",
       "        vertical-align: top;\n",
       "    }\n",
       "\n",
       "    .dataframe thead th {\n",
       "        text-align: right;\n",
       "    }\n",
       "</style>\n",
       "<table border=\"1\" class=\"dataframe\">\n",
       "  <thead>\n",
       "    <tr style=\"text-align: right;\">\n",
       "      <th></th>\n",
       "      <th>rating</th>\n",
       "      <th>jp_sales</th>\n",
       "    </tr>\n",
       "  </thead>\n",
       "  <tbody>\n",
       "    <tr>\n",
       "      <th>3</th>\n",
       "      <td>nan</td>\n",
       "      <td>56.90</td>\n",
       "    </tr>\n",
       "    <tr>\n",
       "      <th>4</th>\n",
       "      <td>t</td>\n",
       "      <td>14.78</td>\n",
       "    </tr>\n",
       "    <tr>\n",
       "      <th>0</th>\n",
       "      <td>e</td>\n",
       "      <td>8.94</td>\n",
       "    </tr>\n",
       "    <tr>\n",
       "      <th>2</th>\n",
       "      <td>m</td>\n",
       "      <td>8.01</td>\n",
       "    </tr>\n",
       "    <tr>\n",
       "      <th>1</th>\n",
       "      <td>e10+</td>\n",
       "      <td>4.46</td>\n",
       "    </tr>\n",
       "  </tbody>\n",
       "</table>\n",
       "</div>"
      ],
      "text/plain": [
       "  rating  jp_sales\n",
       "3    nan     56.90\n",
       "4      t     14.78\n",
       "0      e      8.94\n",
       "2      m      8.01\n",
       "1   e10+      4.46"
      ]
     },
     "metadata": {},
     "output_type": "display_data"
    }
   ],
   "source": [
    "age_rating_jp = games_actual.groupby('rating').agg({'jp_sales': 'sum'}).reset_index().sort_values(by='jp_sales', ascending=False)\n",
    "display(age_rating_jp)"
   ]
  },
  {
   "cell_type": "markdown",
   "metadata": {},
   "source": [
    ">В Японии ESRB вещь не очень популярная, топ продаж вообще без этого рейтинга. А самыми популярными яляются игры **teens**, \n",
    "его популярность в 2 раза превышает своих собратов на 2 и 3 месте. Вспомним, что топовым жанром оказался **role-playing**. По всей вероятности, японцы не только не склонны к насилию, но и взрослые не особенно покупают игры для себя"
   ]
  },
  {
   "cell_type": "markdown",
   "metadata": {},
   "source": [
    "## Проверка гипотез"
   ]
  },
  {
   "cell_type": "markdown",
   "metadata": {},
   "source": [
    "### Гипотеза №1 - Средние пользовательские рейтинги платформ Xbox One и PC одинаковые"
   ]
  },
  {
   "cell_type": "markdown",
   "metadata": {},
   "source": [
    "Нулевая гипотеза = средние пользовательские рейтинги платформ Xbox и PC одинаковые.  \n",
    "Альтернативная гипотеза = средние пользовательские рейтинги платформ Xbox и PC разные"
   ]
  },
  {
   "cell_type": "code",
   "execution_count": 58,
   "metadata": {
    "scrolled": false
   },
   "outputs": [],
   "source": [
    "xbox_one_rating = games_actual.query('platform == \"xone\" and user_score > 0')['user_score']\n",
    "pc_one_rating = games_actual.query('platform == \"pc\" and user_score > 0')['user_score']\n",
    "#xbox_one_rating.describe()\n",
    "#pc_one_rating.describe()"
   ]
  },
  {
   "cell_type": "code",
   "execution_count": 59,
   "metadata": {},
   "outputs": [
    {
     "name": "stdout",
     "output_type": "stream",
     "text": [
      "p-значение: 0.10450507919348415\n",
      "Не получилось отвергнуть нулевую гипотезу\n"
     ]
    }
   ],
   "source": [
    "alpha = 0.05\n",
    "\n",
    "results = st.ttest_ind(xbox_one_rating, pc_one_rating, equal_var = True)#выбираем параметр True, т.к.  стандартные отклоненяи выборок различаются не сильно\n",
    "print('p-значение:', results.pvalue)\n",
    "\n",
    "if results.pvalue < alpha:\n",
    "    print(\"Отвергаем нулевую гипотезу\")\n",
    "else:\n",
    "    print(\"Не получилось отвергнуть нулевую гипотезу\")\n"
   ]
  },
  {
   "cell_type": "markdown",
   "metadata": {},
   "source": [
    "> Подтвердилось, что средние пользовательские рейтинги платформ Xbox и PC одинаковые"
   ]
  },
  {
   "cell_type": "markdown",
   "metadata": {},
   "source": [
    "### Гипотеза №2 - Средние пользовательские рейтинги жанров Action и Sports разные"
   ]
  },
  {
   "cell_type": "markdown",
   "metadata": {},
   "source": [
    "Нулевая гипотеза = средние пользовательские рейтинги жанров Action и Sports одинаковые. Альтернативная гипотеза = средние пользовательские рейтинги жанров Action и Sports разные"
   ]
  },
  {
   "cell_type": "code",
   "execution_count": 60,
   "metadata": {},
   "outputs": [],
   "source": [
    "action_rating = games_actual.query('genre == \"action\" and user_score >0')['user_score']\n",
    "sports_rating = games_actual.query('genre == \"sports\" and user_score >0')['user_score']\n",
    "#action_rating.describe()\n",
    "#sports_rating.describe()"
   ]
  },
  {
   "cell_type": "code",
   "execution_count": 61,
   "metadata": {},
   "outputs": [
    {
     "name": "stdout",
     "output_type": "stream",
     "text": [
      "p-значение: 2.8711147985105864e-19\n",
      "Отвергаем нулевую гипотезу\n"
     ]
    }
   ],
   "source": [
    "alpha = 0.05\n",
    "\n",
    "results = st.ttest_ind(action_rating, sports_rating, equal_var = True) \n",
    "print('p-значение:', results.pvalue)\n",
    "\n",
    "if results.pvalue < alpha:\n",
    "    print(\"Отвергаем нулевую гипотезу\")\n",
    "else:\n",
    "    print(\"Не получилось отвергнуть нулевую гипотезу\")"
   ]
  },
  {
   "cell_type": "markdown",
   "metadata": {},
   "source": [
    "> Cредние пользовательские рейтинги жанров Action и Sports разные"
   ]
  },
  {
   "cell_type": "markdown",
   "metadata": {},
   "source": [
    "##  Результаты исследования"
   ]
  },
  {
   "cell_type": "markdown",
   "metadata": {},
   "source": [
    "Вам нужно выявить определяющие успешность игры закономерности. Это позволит сделать ставку на потенциально популярный продукт и спланировать рекламные кампании.\n",
    "\n",
    "1. Для прогнозирования успешных продуктов выбран период с 2014 по 2016 год, поскольку, как показало исследование, популярные игры, выпущенные в этих годах, станут наиболее популярными или вообще достигнут пика популярности именно в 2017 году. Поэтому период был взят, как наиболее актуальный.\n",
    "2. **Платформы.** 3 платформы-лидера: **PS4, Xone, 3ds**. Стоит сделать упор на игры, выпущенные именно на этих платформах. PS4 является абсолютным лидером, однако это достигается засчет количества игр. На 4 месте находиться платформа wiiu. Она же в топ 5 по Японии. Она же при количестве игр, которое на 70% ниже Ps4, дает выручку всего на 5% меньше тоже самого ps4. Если мы хотим выходить на японский рынок, стоит задуматься о ней в первую очередь. Но если только у игры хорошие отзывы, как показало исследование, на этой платформе все четко - хорошая оценка пользователя приводит к увеличению продаж. \n",
    "3. **Оценки критиков и рейтинги.** Об оценках критиков и рейтингах беспокоиться особенно не стоит. Конечно, если они есть, то делать ставку на игры с низкими оценками не нужно. Но если оценка от 6 баллов (по 10 бальной шкале), стоит обратить внимание на такую игру и усилить рекламную кампанию. Игры без оценки также подойдут, если другие показатели говорят об их перспективности.\n",
    "4.  **Рейтинг ESRB**. Продажи с рейтингом ESRB в Америке и Европе превышают продажи без рейтинга в 3,5 раза. В Японии результаты ровные, наличие рейтинга на продажи влиять не будет.\n",
    "5. Если мы хотим выйти на рынок Америки и Европы, ставку надо сделать на Ps4 и Xone. В Японии на 3Ds, и я бы включила в японские кампании wiiu.\n",
    "6. **Возраст и жанр.**  \n",
    "* **Америка.** Исходя из рейтинга ERSB бОльшая доля американских геймеров - это 17+, а самый популярный жанр **shooter** (на втором месте **action**). Это 33% рынка. Однако 22% рынка - это игры без рейтинга вообще (то есть с неопредленной категорией возраста). Если разобраться с реальными возрастами в ней, возможно она увеличит менее популярные категории и добавит нам новых. Но вряд ли перебьет лидера. Поэтому я бы делала упор на эти 2 жанра и 17+ для Америки. Однако не стоит снимать со счетов **everyone**. Дети тоже хотят играть, а с ними и мамы, которым игрушка тоже может подойти\n",
    "* **Европа.** Для Европы можно делать ставку на 17+, лидирует с сильным отрывом. Жанры те же, что и в Америке. Не забываем про everyone.  \n",
    "* **Япония.** В Японии картина совершенно другая. Можно сделать акцент на **teens**, но тут также придется разобраться с возрастами другим способом. Игры с ESRB встречаются редко. Топовый жанр **role-playing**. Думаю, есть смысл сместить рекламный бюджет в сторону японских подростков.  \n",
    "\n",
    "Также для Америки и Европы популярен жанр **Sports**. Я бы выбрала наиболее топовые игры и часть бюджета выделила бы и для них. Могут быть какие-то новые супер-популярные игрушки, которые будут хорошо продаваться. Этот жанр интересен для этих рынков. Вполне возможно, что тут будет кардинально другой портрет клиента. Но нужно проверять дополнительно\n"
   ]
  }
 ],
 "metadata": {
  "ExecuteTimeLog": [
   {
    "duration": 1094,
    "start_time": "2021-08-13T10:37:05.628Z"
   },
   {
    "duration": 113,
    "start_time": "2021-08-13T10:39:24.396Z"
   },
   {
    "duration": 124,
    "start_time": "2021-08-13T10:39:40.294Z"
   },
   {
    "duration": 89,
    "start_time": "2021-08-13T10:41:44.858Z"
   },
   {
    "duration": 8,
    "start_time": "2021-08-13T10:55:27.659Z"
   },
   {
    "duration": -44,
    "start_time": "2021-08-13T10:58:11.624Z"
   },
   {
    "duration": -48,
    "start_time": "2021-08-13T10:58:36.477Z"
   },
   {
    "duration": 8943,
    "start_time": "2021-08-13T10:58:36.438Z"
   },
   {
    "duration": 106,
    "start_time": "2021-08-13T10:58:50.766Z"
   },
   {
    "duration": 9496,
    "start_time": "2021-08-13T10:58:55.447Z"
   },
   {
    "duration": 53,
    "start_time": "2021-08-13T11:11:18.535Z"
   },
   {
    "duration": 52,
    "start_time": "2021-08-13T11:11:22.116Z"
   },
   {
    "duration": 57,
    "start_time": "2021-08-13T11:11:27.367Z"
   },
   {
    "duration": 60,
    "start_time": "2021-08-13T11:11:47.860Z"
   },
   {
    "duration": 66,
    "start_time": "2021-08-13T11:11:57.852Z"
   },
   {
    "duration": 84,
    "start_time": "2021-08-13T11:12:10.243Z"
   },
   {
    "duration": 131,
    "start_time": "2021-08-13T12:28:47.768Z"
   },
   {
    "duration": 22,
    "start_time": "2021-08-13T12:28:53.251Z"
   },
   {
    "duration": 860,
    "start_time": "2021-08-14T10:15:49.783Z"
   },
   {
    "duration": 36,
    "start_time": "2021-08-14T10:18:26.779Z"
   },
   {
    "duration": 33,
    "start_time": "2021-08-14T10:18:56.213Z"
   },
   {
    "duration": 35,
    "start_time": "2021-08-14T10:19:07.682Z"
   },
   {
    "duration": 35,
    "start_time": "2021-08-14T10:19:19.679Z"
   },
   {
    "duration": 448,
    "start_time": "2021-08-14T10:20:54.181Z"
   },
   {
    "duration": 381,
    "start_time": "2021-08-14T10:21:00.955Z"
   },
   {
    "duration": 322,
    "start_time": "2021-08-14T10:21:11.634Z"
   },
   {
    "duration": 15,
    "start_time": "2021-08-14T10:21:40.876Z"
   },
   {
    "duration": 77,
    "start_time": "2021-08-14T10:22:40.382Z"
   },
   {
    "duration": 317,
    "start_time": "2021-08-14T10:38:27.091Z"
   },
   {
    "duration": 3,
    "start_time": "2021-08-14T10:38:32.048Z"
   },
   {
    "duration": 79,
    "start_time": "2021-08-14T10:38:32.574Z"
   },
   {
    "duration": 345,
    "start_time": "2021-08-14T10:38:34.822Z"
   },
   {
    "duration": 313,
    "start_time": "2021-08-14T10:42:19.235Z"
   },
   {
    "duration": 340,
    "start_time": "2021-08-14T10:46:24.011Z"
   },
   {
    "duration": 4,
    "start_time": "2021-08-14T10:47:03.419Z"
   },
   {
    "duration": 80,
    "start_time": "2021-08-14T10:47:03.712Z"
   },
   {
    "duration": 319,
    "start_time": "2021-08-14T10:47:05.822Z"
   },
   {
    "duration": 304,
    "start_time": "2021-08-14T10:47:11.804Z"
   },
   {
    "duration": 4,
    "start_time": "2021-08-14T10:49:19.807Z"
   },
   {
    "duration": 7793,
    "start_time": "2021-08-14T10:52:15.836Z"
   },
   {
    "duration": 13,
    "start_time": "2021-08-14T10:52:56.717Z"
   },
   {
    "duration": 56,
    "start_time": "2021-08-14T10:55:28.107Z"
   },
   {
    "duration": 57,
    "start_time": "2021-08-14T10:58:54.392Z"
   },
   {
    "duration": 27,
    "start_time": "2021-08-14T10:59:59.144Z"
   },
   {
    "duration": 31,
    "start_time": "2021-08-14T11:06:22.290Z"
   },
   {
    "duration": 12,
    "start_time": "2021-08-14T11:06:37.295Z"
   },
   {
    "duration": 12,
    "start_time": "2021-08-14T11:07:56.193Z"
   },
   {
    "duration": 9,
    "start_time": "2021-08-14T11:10:56.729Z"
   },
   {
    "duration": 115,
    "start_time": "2021-08-14T11:13:41.869Z"
   },
   {
    "duration": 7,
    "start_time": "2021-08-14T11:14:54.230Z"
   },
   {
    "duration": 7,
    "start_time": "2021-08-14T11:23:54.641Z"
   },
   {
    "duration": 441,
    "start_time": "2021-08-14T11:26:06.116Z"
   },
   {
    "duration": 3,
    "start_time": "2021-08-14T11:26:20.199Z"
   },
   {
    "duration": 79,
    "start_time": "2021-08-14T11:26:20.430Z"
   },
   {
    "duration": 59,
    "start_time": "2021-08-14T11:26:21.645Z"
   },
   {
    "duration": 28,
    "start_time": "2021-08-14T11:26:23.021Z"
   },
   {
    "duration": 13,
    "start_time": "2021-08-14T11:26:24.554Z"
   },
   {
    "duration": 7,
    "start_time": "2021-08-14T11:26:26.608Z"
   },
   {
    "duration": 8,
    "start_time": "2021-08-14T11:26:28.856Z"
   },
   {
    "duration": 96,
    "start_time": "2021-08-14T11:26:29.137Z"
   },
   {
    "duration": 353,
    "start_time": "2021-08-14T11:26:29.401Z"
   },
   {
    "duration": 10,
    "start_time": "2021-08-14T11:31:39.735Z"
   },
   {
    "duration": 8,
    "start_time": "2021-08-14T11:32:20.060Z"
   },
   {
    "duration": 27,
    "start_time": "2021-08-14T11:33:32.886Z"
   },
   {
    "duration": 19,
    "start_time": "2021-08-14T11:33:52.340Z"
   },
   {
    "duration": 19,
    "start_time": "2021-08-14T11:37:30.890Z"
   },
   {
    "duration": 7,
    "start_time": "2021-08-14T11:48:42.662Z"
   },
   {
    "duration": 40,
    "start_time": "2021-08-14T11:54:59.705Z"
   },
   {
    "duration": 14,
    "start_time": "2021-08-14T11:56:17.213Z"
   },
   {
    "duration": 20,
    "start_time": "2021-08-14T11:56:18.070Z"
   },
   {
    "duration": 93,
    "start_time": "2021-08-14T11:56:18.708Z"
   },
   {
    "duration": 8,
    "start_time": "2021-08-14T11:56:39.781Z"
   },
   {
    "duration": 19,
    "start_time": "2021-08-14T11:56:43.259Z"
   },
   {
    "duration": 27,
    "start_time": "2021-08-14T12:01:34.369Z"
   },
   {
    "duration": 364,
    "start_time": "2021-08-14T12:20:07.317Z"
   },
   {
    "duration": 9,
    "start_time": "2021-08-14T12:21:17.045Z"
   },
   {
    "duration": 9391,
    "start_time": "2021-08-14T12:28:15.838Z"
   },
   {
    "duration": -39,
    "start_time": "2021-08-14T12:28:25.271Z"
   },
   {
    "duration": 7,
    "start_time": "2021-08-14T12:28:50.442Z"
   },
   {
    "duration": 104,
    "start_time": "2021-08-14T12:41:43.601Z"
   },
   {
    "duration": 324,
    "start_time": "2021-08-14T12:52:45.970Z"
   },
   {
    "duration": 318,
    "start_time": "2021-08-14T12:53:29.792Z"
   },
   {
    "duration": 339,
    "start_time": "2021-08-14T12:53:55.782Z"
   },
   {
    "duration": 278,
    "start_time": "2021-08-14T12:54:54.080Z"
   },
   {
    "duration": 3,
    "start_time": "2021-08-14T12:55:02.240Z"
   },
   {
    "duration": 79,
    "start_time": "2021-08-14T12:55:02.712Z"
   },
   {
    "duration": 61,
    "start_time": "2021-08-14T12:55:03.478Z"
   },
   {
    "duration": 28,
    "start_time": "2021-08-14T12:55:03.802Z"
   },
   {
    "duration": 12,
    "start_time": "2021-08-14T12:55:04.155Z"
   },
   {
    "duration": 9,
    "start_time": "2021-08-14T12:55:05.029Z"
   },
   {
    "duration": 7,
    "start_time": "2021-08-14T12:55:06.025Z"
   },
   {
    "duration": 9,
    "start_time": "2021-08-14T12:55:06.473Z"
   },
   {
    "duration": 19,
    "start_time": "2021-08-14T12:55:06.707Z"
   },
   {
    "duration": 7,
    "start_time": "2021-08-14T12:55:07.771Z"
   },
   {
    "duration": 41,
    "start_time": "2021-08-14T12:55:08.624Z"
   },
   {
    "duration": 114,
    "start_time": "2021-08-14T12:55:08.835Z"
   },
   {
    "duration": 11,
    "start_time": "2021-08-14T12:55:09.677Z"
   },
   {
    "duration": 3,
    "start_time": "2021-08-14T12:55:10.425Z"
   },
   {
    "duration": 7,
    "start_time": "2021-08-14T12:55:10.614Z"
   },
   {
    "duration": 318,
    "start_time": "2021-08-14T12:55:11.420Z"
   },
   {
    "duration": 1332,
    "start_time": "2021-08-14T12:55:20.284Z"
   },
   {
    "duration": 3,
    "start_time": "2021-08-14T12:56:04.964Z"
   },
   {
    "duration": 88,
    "start_time": "2021-08-14T12:56:04.970Z"
   },
   {
    "duration": 67,
    "start_time": "2021-08-14T12:56:05.060Z"
   },
   {
    "duration": 52,
    "start_time": "2021-08-14T12:56:05.129Z"
   },
   {
    "duration": 15,
    "start_time": "2021-08-14T12:56:05.183Z"
   },
   {
    "duration": 6,
    "start_time": "2021-08-14T12:56:05.201Z"
   },
   {
    "duration": 8,
    "start_time": "2021-08-14T12:56:05.209Z"
   },
   {
    "duration": 49,
    "start_time": "2021-08-14T12:56:05.220Z"
   },
   {
    "duration": 19,
    "start_time": "2021-08-14T12:56:05.272Z"
   },
   {
    "duration": 9,
    "start_time": "2021-08-14T12:56:05.294Z"
   },
   {
    "duration": 68,
    "start_time": "2021-08-14T12:56:05.306Z"
   },
   {
    "duration": 124,
    "start_time": "2021-08-14T12:56:05.376Z"
   },
   {
    "duration": -48,
    "start_time": "2021-08-14T12:56:05.550Z"
   },
   {
    "duration": -51,
    "start_time": "2021-08-14T12:56:05.555Z"
   },
   {
    "duration": -52,
    "start_time": "2021-08-14T12:56:05.557Z"
   },
   {
    "duration": -53,
    "start_time": "2021-08-14T12:56:05.560Z"
   },
   {
    "duration": 324,
    "start_time": "2021-08-14T12:57:02.353Z"
   },
   {
    "duration": 3,
    "start_time": "2021-08-14T12:57:05.277Z"
   },
   {
    "duration": 4,
    "start_time": "2021-08-14T12:57:07.631Z"
   },
   {
    "duration": 4,
    "start_time": "2021-08-14T12:57:18.211Z"
   },
   {
    "duration": 84,
    "start_time": "2021-08-14T12:57:18.505Z"
   },
   {
    "duration": 67,
    "start_time": "2021-08-14T12:57:19.920Z"
   },
   {
    "duration": 27,
    "start_time": "2021-08-14T12:57:20.760Z"
   },
   {
    "duration": 14,
    "start_time": "2021-08-14T12:57:21.794Z"
   },
   {
    "duration": 7,
    "start_time": "2021-08-14T12:57:23.442Z"
   },
   {
    "duration": 7,
    "start_time": "2021-08-14T12:57:25.331Z"
   },
   {
    "duration": 10,
    "start_time": "2021-08-14T12:57:25.826Z"
   },
   {
    "duration": 20,
    "start_time": "2021-08-14T12:57:26.109Z"
   },
   {
    "duration": 7,
    "start_time": "2021-08-14T12:57:27.417Z"
   },
   {
    "duration": 43,
    "start_time": "2021-08-14T12:57:28.275Z"
   },
   {
    "duration": 92,
    "start_time": "2021-08-14T12:57:28.684Z"
   },
   {
    "duration": 8,
    "start_time": "2021-08-14T12:57:36.225Z"
   },
   {
    "duration": 3,
    "start_time": "2021-08-14T12:57:36.921Z"
   },
   {
    "duration": 7,
    "start_time": "2021-08-14T12:57:37.504Z"
   },
   {
    "duration": 330,
    "start_time": "2021-08-14T12:57:39.837Z"
   },
   {
    "duration": 6,
    "start_time": "2021-08-14T12:58:20.148Z"
   },
   {
    "duration": 29,
    "start_time": "2021-08-14T12:58:45.962Z"
   },
   {
    "duration": 339,
    "start_time": "2021-08-14T12:59:13.289Z"
   },
   {
    "duration": 10,
    "start_time": "2021-08-14T12:59:59.311Z"
   },
   {
    "duration": 45,
    "start_time": "2021-08-14T13:03:01.724Z"
   },
   {
    "duration": 33,
    "start_time": "2021-08-14T13:04:15.342Z"
   },
   {
    "duration": 29,
    "start_time": "2021-08-14T13:05:07.648Z"
   },
   {
    "duration": 3,
    "start_time": "2021-08-14T13:05:19.234Z"
   },
   {
    "duration": 87,
    "start_time": "2021-08-14T13:05:19.692Z"
   },
   {
    "duration": 56,
    "start_time": "2021-08-14T13:05:20.694Z"
   },
   {
    "duration": 25,
    "start_time": "2021-08-14T13:05:21.207Z"
   },
   {
    "duration": 13,
    "start_time": "2021-08-14T13:05:21.947Z"
   },
   {
    "duration": 6,
    "start_time": "2021-08-14T13:05:23.312Z"
   },
   {
    "duration": 7,
    "start_time": "2021-08-14T13:05:24.400Z"
   },
   {
    "duration": 9,
    "start_time": "2021-08-14T13:05:24.751Z"
   },
   {
    "duration": 20,
    "start_time": "2021-08-14T13:05:24.924Z"
   },
   {
    "duration": 7,
    "start_time": "2021-08-14T13:05:26.187Z"
   },
   {
    "duration": 40,
    "start_time": "2021-08-14T13:05:26.886Z"
   },
   {
    "duration": 8,
    "start_time": "2021-08-14T13:05:28.060Z"
   },
   {
    "duration": 3,
    "start_time": "2021-08-14T13:05:28.579Z"
   },
   {
    "duration": 7,
    "start_time": "2021-08-14T13:05:28.980Z"
   },
   {
    "duration": 29,
    "start_time": "2021-08-14T13:05:29.654Z"
   },
   {
    "duration": 32,
    "start_time": "2021-08-14T13:06:43.069Z"
   },
   {
    "duration": 50,
    "start_time": "2021-08-14T13:09:42.770Z"
   },
   {
    "duration": 61,
    "start_time": "2021-08-14T13:13:58.308Z"
   },
   {
    "duration": 25,
    "start_time": "2021-08-14T13:13:58.588Z"
   },
   {
    "duration": 13,
    "start_time": "2021-08-14T13:13:58.876Z"
   },
   {
    "duration": 7,
    "start_time": "2021-08-14T13:13:59.488Z"
   },
   {
    "duration": 9,
    "start_time": "2021-08-14T13:14:00.311Z"
   },
   {
    "duration": 12,
    "start_time": "2021-08-14T13:14:00.627Z"
   },
   {
    "duration": 19,
    "start_time": "2021-08-14T13:14:00.786Z"
   },
   {
    "duration": 7,
    "start_time": "2021-08-14T13:14:01.426Z"
   },
   {
    "duration": 42,
    "start_time": "2021-08-14T13:14:01.979Z"
   },
   {
    "duration": 7,
    "start_time": "2021-08-14T13:14:02.877Z"
   },
   {
    "duration": 3,
    "start_time": "2021-08-14T13:14:03.220Z"
   },
   {
    "duration": 8,
    "start_time": "2021-08-14T13:14:03.381Z"
   },
   {
    "duration": 45,
    "start_time": "2021-08-14T13:14:03.928Z"
   },
   {
    "duration": 6,
    "start_time": "2021-08-14T13:14:34.002Z"
   },
   {
    "duration": 334,
    "start_time": "2021-08-14T13:26:13.771Z"
   },
   {
    "duration": 1295,
    "start_time": "2021-08-14T13:26:21.061Z"
   },
   {
    "duration": 13,
    "start_time": "2021-08-14T13:27:12.565Z"
   },
   {
    "duration": 13,
    "start_time": "2021-08-14T13:28:29.496Z"
   },
   {
    "duration": 18,
    "start_time": "2021-08-14T13:34:28.728Z"
   },
   {
    "duration": 26,
    "start_time": "2021-08-14T13:34:38.886Z"
   },
   {
    "duration": 4253,
    "start_time": "2021-08-14T13:36:13.597Z"
   },
   {
    "duration": -124,
    "start_time": "2021-08-14T13:36:17.976Z"
   },
   {
    "duration": 4609,
    "start_time": "2021-08-14T13:36:43.079Z"
   },
   {
    "duration": 4083,
    "start_time": "2021-08-14T13:37:07.500Z"
   },
   {
    "duration": 4354,
    "start_time": "2021-08-14T13:37:26.520Z"
   },
   {
    "duration": 4,
    "start_time": "2021-08-14T13:37:42.800Z"
   },
   {
    "duration": 112,
    "start_time": "2021-08-14T13:37:43.025Z"
   },
   {
    "duration": 88,
    "start_time": "2021-08-14T13:37:44.085Z"
   },
   {
    "duration": 37,
    "start_time": "2021-08-14T13:37:45.477Z"
   },
   {
    "duration": 17,
    "start_time": "2021-08-14T13:37:45.992Z"
   },
   {
    "duration": 8,
    "start_time": "2021-08-14T13:37:46.808Z"
   },
   {
    "duration": 9,
    "start_time": "2021-08-14T13:37:48.253Z"
   },
   {
    "duration": 10,
    "start_time": "2021-08-14T13:37:48.576Z"
   },
   {
    "duration": 21,
    "start_time": "2021-08-14T13:37:48.855Z"
   },
   {
    "duration": 8,
    "start_time": "2021-08-14T13:37:49.911Z"
   },
   {
    "duration": 42,
    "start_time": "2021-08-14T13:37:50.553Z"
   },
   {
    "duration": 7,
    "start_time": "2021-08-14T13:37:51.755Z"
   },
   {
    "duration": 3,
    "start_time": "2021-08-14T13:37:52.492Z"
   },
   {
    "duration": 9,
    "start_time": "2021-08-14T13:37:52.758Z"
   },
   {
    "duration": 47,
    "start_time": "2021-08-14T13:37:53.463Z"
   },
   {
    "duration": 8,
    "start_time": "2021-08-14T13:37:54.359Z"
   },
   {
    "duration": 19,
    "start_time": "2021-08-14T13:37:54.959Z"
   },
   {
    "duration": 26,
    "start_time": "2021-08-14T13:37:55.151Z"
   },
   {
    "duration": 5,
    "start_time": "2021-08-14T13:38:25.955Z"
   },
   {
    "duration": 4100,
    "start_time": "2021-08-14T13:38:44.920Z"
   },
   {
    "duration": 4285,
    "start_time": "2021-08-14T13:40:26.094Z"
   },
   {
    "duration": 4203,
    "start_time": "2021-08-14T13:43:40.268Z"
   },
   {
    "duration": 7,
    "start_time": "2021-08-14T13:43:47.683Z"
   },
   {
    "duration": 7,
    "start_time": "2021-08-14T13:44:11.644Z"
   },
   {
    "duration": 4142,
    "start_time": "2021-08-14T13:44:13.146Z"
   },
   {
    "duration": 498,
    "start_time": "2021-08-15T08:26:44.044Z"
   },
   {
    "duration": 59,
    "start_time": "2021-08-15T08:26:44.543Z"
   },
   {
    "duration": 15,
    "start_time": "2021-08-15T08:27:12.626Z"
   },
   {
    "duration": 8,
    "start_time": "2021-08-15T08:27:13.990Z"
   },
   {
    "duration": 5492,
    "start_time": "2021-08-15T08:27:16.038Z"
   },
   {
    "duration": -862,
    "start_time": "2021-08-15T08:27:22.394Z"
   },
   {
    "duration": -865,
    "start_time": "2021-08-15T08:27:22.397Z"
   },
   {
    "duration": 5553,
    "start_time": "2021-08-15T08:27:35.313Z"
   },
   {
    "duration": 3,
    "start_time": "2021-08-15T08:27:53.876Z"
   },
   {
    "duration": 53,
    "start_time": "2021-08-15T08:27:54.171Z"
   },
   {
    "duration": 35,
    "start_time": "2021-08-15T08:28:04.779Z"
   },
   {
    "duration": 16,
    "start_time": "2021-08-15T08:28:08.999Z"
   },
   {
    "duration": 8,
    "start_time": "2021-08-15T08:28:11.742Z"
   },
   {
    "duration": 5,
    "start_time": "2021-08-15T08:28:39.749Z"
   },
   {
    "duration": 12,
    "start_time": "2021-08-15T08:30:01.262Z"
   },
   {
    "duration": 11,
    "start_time": "2021-08-15T08:35:20.538Z"
   },
   {
    "duration": 5,
    "start_time": "2021-08-15T08:35:22.662Z"
   },
   {
    "duration": 5,
    "start_time": "2021-08-15T08:35:24.955Z"
   },
   {
    "duration": 9,
    "start_time": "2021-08-15T08:35:25.812Z"
   },
   {
    "duration": 12,
    "start_time": "2021-08-15T08:35:26.085Z"
   },
   {
    "duration": 5,
    "start_time": "2021-08-15T08:35:27.726Z"
   },
   {
    "duration": 27,
    "start_time": "2021-08-15T08:35:36.098Z"
   },
   {
    "duration": 4,
    "start_time": "2021-08-15T08:37:59.257Z"
   },
   {
    "duration": 2,
    "start_time": "2021-08-15T08:38:13.137Z"
   },
   {
    "duration": 4,
    "start_time": "2021-08-15T08:38:21.051Z"
   },
   {
    "duration": 5,
    "start_time": "2021-08-15T08:39:01.645Z"
   },
   {
    "duration": 231,
    "start_time": "2021-08-15T08:50:34.464Z"
   },
   {
    "duration": 229,
    "start_time": "2021-08-15T08:52:29.970Z"
   },
   {
    "duration": 3,
    "start_time": "2021-08-15T08:53:00.883Z"
   },
   {
    "duration": 55,
    "start_time": "2021-08-15T08:53:01.541Z"
   },
   {
    "duration": 34,
    "start_time": "2021-08-15T08:53:02.444Z"
   },
   {
    "duration": 18,
    "start_time": "2021-08-15T08:53:02.752Z"
   },
   {
    "duration": 9,
    "start_time": "2021-08-15T08:53:03.105Z"
   },
   {
    "duration": 12,
    "start_time": "2021-08-15T08:53:03.990Z"
   },
   {
    "duration": 5,
    "start_time": "2021-08-15T08:53:04.419Z"
   },
   {
    "duration": 5,
    "start_time": "2021-08-15T08:53:05.268Z"
   },
   {
    "duration": 6,
    "start_time": "2021-08-15T08:53:05.874Z"
   },
   {
    "duration": 11,
    "start_time": "2021-08-15T08:53:06.105Z"
   },
   {
    "duration": 5,
    "start_time": "2021-08-15T08:53:07.611Z"
   },
   {
    "duration": 24,
    "start_time": "2021-08-15T08:53:08.292Z"
   },
   {
    "duration": 5,
    "start_time": "2021-08-15T08:53:09.821Z"
   },
   {
    "duration": 5,
    "start_time": "2021-08-15T08:53:10.515Z"
   },
   {
    "duration": 5,
    "start_time": "2021-08-15T08:53:10.962Z"
   },
   {
    "duration": 27,
    "start_time": "2021-08-15T08:53:11.208Z"
   },
   {
    "duration": 18,
    "start_time": "2021-08-15T08:56:02.774Z"
   },
   {
    "duration": 8,
    "start_time": "2021-08-15T08:58:12.078Z"
   },
   {
    "duration": 10,
    "start_time": "2021-08-15T08:59:15.137Z"
   },
   {
    "duration": 5,
    "start_time": "2021-08-15T09:05:06.444Z"
   },
   {
    "duration": 224,
    "start_time": "2021-08-15T09:09:29.405Z"
   },
   {
    "duration": 17,
    "start_time": "2021-08-15T09:09:40.281Z"
   },
   {
    "duration": 12,
    "start_time": "2021-08-15T09:09:52.491Z"
   },
   {
    "duration": 12,
    "start_time": "2021-08-15T09:12:58.658Z"
   },
   {
    "duration": 11,
    "start_time": "2021-08-15T09:17:41.719Z"
   },
   {
    "duration": 13,
    "start_time": "2021-08-15T09:20:06.784Z"
   },
   {
    "duration": 111,
    "start_time": "2021-08-15T09:33:30.318Z"
   },
   {
    "duration": 304,
    "start_time": "2021-08-15T09:34:02.664Z"
   },
   {
    "duration": 13,
    "start_time": "2021-08-15T09:34:09.750Z"
   },
   {
    "duration": 16,
    "start_time": "2021-08-15T09:36:02.375Z"
   },
   {
    "duration": 13,
    "start_time": "2021-08-15T09:36:09.854Z"
   },
   {
    "duration": 22,
    "start_time": "2021-08-15T09:50:22.744Z"
   },
   {
    "duration": 14,
    "start_time": "2021-08-15T09:51:14.519Z"
   },
   {
    "duration": 13,
    "start_time": "2021-08-15T09:51:32.839Z"
   },
   {
    "duration": 76,
    "start_time": "2021-08-15T09:55:42.084Z"
   },
   {
    "duration": 244,
    "start_time": "2021-08-15T09:55:50.422Z"
   },
   {
    "duration": 80,
    "start_time": "2021-08-15T09:58:39.467Z"
   },
   {
    "duration": 227,
    "start_time": "2021-08-15T09:59:02.670Z"
   },
   {
    "duration": 74,
    "start_time": "2021-08-15T09:59:39.138Z"
   },
   {
    "duration": 400,
    "start_time": "2021-08-15T09:59:57.051Z"
   },
   {
    "duration": 14,
    "start_time": "2021-08-15T10:00:06.771Z"
   },
   {
    "duration": 14,
    "start_time": "2021-08-15T10:02:31.078Z"
   },
   {
    "duration": 494,
    "start_time": "2021-08-15T10:08:12.413Z"
   },
   {
    "duration": 3,
    "start_time": "2021-08-15T10:09:12.809Z"
   },
   {
    "duration": 53,
    "start_time": "2021-08-15T10:09:13.098Z"
   },
   {
    "duration": 34,
    "start_time": "2021-08-15T10:09:13.797Z"
   },
   {
    "duration": 17,
    "start_time": "2021-08-15T10:09:14.098Z"
   },
   {
    "duration": 8,
    "start_time": "2021-08-15T10:09:14.485Z"
   },
   {
    "duration": 12,
    "start_time": "2021-08-15T10:09:15.080Z"
   },
   {
    "duration": 4,
    "start_time": "2021-08-15T10:09:15.636Z"
   },
   {
    "duration": 4,
    "start_time": "2021-08-15T10:09:16.706Z"
   },
   {
    "duration": 5,
    "start_time": "2021-08-15T10:09:17.092Z"
   },
   {
    "duration": 11,
    "start_time": "2021-08-15T10:09:17.421Z"
   },
   {
    "duration": 5,
    "start_time": "2021-08-15T10:09:18.368Z"
   },
   {
    "duration": 26,
    "start_time": "2021-08-15T10:09:19.032Z"
   },
   {
    "duration": 6,
    "start_time": "2021-08-15T10:09:20.210Z"
   },
   {
    "duration": 16,
    "start_time": "2021-08-15T10:09:20.693Z"
   },
   {
    "duration": 6,
    "start_time": "2021-08-15T10:09:21.166Z"
   },
   {
    "duration": 7,
    "start_time": "2021-08-15T10:09:21.653Z"
   },
   {
    "duration": 13,
    "start_time": "2021-08-15T10:09:22.223Z"
   },
   {
    "duration": 5,
    "start_time": "2021-08-15T10:09:23.392Z"
   },
   {
    "duration": 13,
    "start_time": "2021-08-15T10:09:23.893Z"
   },
   {
    "duration": 14,
    "start_time": "2021-08-15T10:09:25.077Z"
   },
   {
    "duration": 204,
    "start_time": "2021-08-15T10:09:32.661Z"
   },
   {
    "duration": 200,
    "start_time": "2021-08-15T10:09:51.722Z"
   },
   {
    "duration": 16,
    "start_time": "2021-08-15T10:11:03.615Z"
   },
   {
    "duration": 252,
    "start_time": "2021-08-15T10:11:30.319Z"
   },
   {
    "duration": 18,
    "start_time": "2021-08-15T10:11:37.487Z"
   },
   {
    "duration": 12,
    "start_time": "2021-08-15T10:14:06.917Z"
   },
   {
    "duration": 251,
    "start_time": "2021-08-15T10:14:31.949Z"
   },
   {
    "duration": 202,
    "start_time": "2021-08-15T10:14:45.177Z"
   },
   {
    "duration": 3,
    "start_time": "2021-08-15T10:14:55.857Z"
   },
   {
    "duration": 55,
    "start_time": "2021-08-15T10:14:56.590Z"
   },
   {
    "duration": 33,
    "start_time": "2021-08-15T10:14:57.682Z"
   },
   {
    "duration": 17,
    "start_time": "2021-08-15T10:14:58.170Z"
   },
   {
    "duration": 9,
    "start_time": "2021-08-15T10:14:58.630Z"
   },
   {
    "duration": 12,
    "start_time": "2021-08-15T10:14:59.300Z"
   },
   {
    "duration": 5,
    "start_time": "2021-08-15T10:14:59.739Z"
   },
   {
    "duration": 5,
    "start_time": "2021-08-15T10:15:00.582Z"
   },
   {
    "duration": 6,
    "start_time": "2021-08-15T10:15:01.038Z"
   },
   {
    "duration": 12,
    "start_time": "2021-08-15T10:15:01.271Z"
   },
   {
    "duration": 5,
    "start_time": "2021-08-15T10:15:02.262Z"
   },
   {
    "duration": 28,
    "start_time": "2021-08-15T10:15:02.859Z"
   },
   {
    "duration": 5,
    "start_time": "2021-08-15T10:15:03.999Z"
   },
   {
    "duration": 17,
    "start_time": "2021-08-15T10:15:04.421Z"
   },
   {
    "duration": 5,
    "start_time": "2021-08-15T10:15:05.043Z"
   },
   {
    "duration": 7,
    "start_time": "2021-08-15T10:15:05.467Z"
   },
   {
    "duration": 15,
    "start_time": "2021-08-15T10:15:05.927Z"
   },
   {
    "duration": 6,
    "start_time": "2021-08-15T10:15:06.793Z"
   },
   {
    "duration": 15,
    "start_time": "2021-08-15T10:15:07.331Z"
   },
   {
    "duration": 14,
    "start_time": "2021-08-15T10:15:08.342Z"
   },
   {
    "duration": 207,
    "start_time": "2021-08-15T10:15:09.398Z"
   },
   {
    "duration": 3,
    "start_time": "2021-08-15T10:16:21.949Z"
   },
   {
    "duration": 53,
    "start_time": "2021-08-15T10:16:22.863Z"
   },
   {
    "duration": 35,
    "start_time": "2021-08-15T10:16:23.639Z"
   },
   {
    "duration": 18,
    "start_time": "2021-08-15T10:16:23.952Z"
   },
   {
    "duration": 10,
    "start_time": "2021-08-15T10:16:24.258Z"
   },
   {
    "duration": 12,
    "start_time": "2021-08-15T10:16:24.866Z"
   },
   {
    "duration": 5,
    "start_time": "2021-08-15T10:16:25.273Z"
   },
   {
    "duration": 5,
    "start_time": "2021-08-15T10:16:26.110Z"
   },
   {
    "duration": 6,
    "start_time": "2021-08-15T10:16:26.472Z"
   },
   {
    "duration": 12,
    "start_time": "2021-08-15T10:16:26.648Z"
   },
   {
    "duration": 5,
    "start_time": "2021-08-15T10:16:27.603Z"
   },
   {
    "duration": 26,
    "start_time": "2021-08-15T10:16:28.273Z"
   },
   {
    "duration": 5,
    "start_time": "2021-08-15T10:16:29.098Z"
   },
   {
    "duration": 16,
    "start_time": "2021-08-15T10:16:29.623Z"
   },
   {
    "duration": 5,
    "start_time": "2021-08-15T10:16:29.979Z"
   },
   {
    "duration": 7,
    "start_time": "2021-08-15T10:16:30.365Z"
   },
   {
    "duration": 14,
    "start_time": "2021-08-15T10:16:30.741Z"
   },
   {
    "duration": 6,
    "start_time": "2021-08-15T10:16:31.482Z"
   },
   {
    "duration": 13,
    "start_time": "2021-08-15T10:16:31.840Z"
   },
   {
    "duration": 13,
    "start_time": "2021-08-15T10:16:33.013Z"
   },
   {
    "duration": 204,
    "start_time": "2021-08-15T10:16:33.971Z"
   },
   {
    "duration": 166,
    "start_time": "2021-08-15T10:17:03.430Z"
   },
   {
    "duration": 3,
    "start_time": "2021-08-15T10:21:33.114Z"
   },
   {
    "duration": 53,
    "start_time": "2021-08-15T10:21:33.297Z"
   },
   {
    "duration": 3,
    "start_time": "2021-08-15T10:21:45.526Z"
   },
   {
    "duration": 52,
    "start_time": "2021-08-15T10:21:45.718Z"
   },
   {
    "duration": 35,
    "start_time": "2021-08-15T10:21:46.507Z"
   },
   {
    "duration": 17,
    "start_time": "2021-08-15T10:21:46.820Z"
   },
   {
    "duration": 10,
    "start_time": "2021-08-15T10:21:47.143Z"
   },
   {
    "duration": 12,
    "start_time": "2021-08-15T10:21:48.081Z"
   },
   {
    "duration": 5,
    "start_time": "2021-08-15T10:21:48.498Z"
   },
   {
    "duration": 5,
    "start_time": "2021-08-15T10:21:49.202Z"
   },
   {
    "duration": 6,
    "start_time": "2021-08-15T10:21:49.642Z"
   },
   {
    "duration": 13,
    "start_time": "2021-08-15T10:21:49.723Z"
   },
   {
    "duration": 6,
    "start_time": "2021-08-15T10:21:50.461Z"
   },
   {
    "duration": 24,
    "start_time": "2021-08-15T10:21:51.225Z"
   },
   {
    "duration": 5,
    "start_time": "2021-08-15T10:21:52.130Z"
   },
   {
    "duration": 15,
    "start_time": "2021-08-15T10:21:52.482Z"
   },
   {
    "duration": 6,
    "start_time": "2021-08-15T10:21:52.823Z"
   },
   {
    "duration": 7,
    "start_time": "2021-08-15T10:21:53.292Z"
   },
   {
    "duration": 13,
    "start_time": "2021-08-15T10:21:53.682Z"
   },
   {
    "duration": 5,
    "start_time": "2021-08-15T10:21:54.418Z"
   },
   {
    "duration": 14,
    "start_time": "2021-08-15T10:21:54.757Z"
   },
   {
    "duration": 14,
    "start_time": "2021-08-15T10:21:55.688Z"
   },
   {
    "duration": 3,
    "start_time": "2021-08-15T10:21:59.641Z"
   },
   {
    "duration": 17,
    "start_time": "2021-08-15T10:23:39.241Z"
   },
   {
    "duration": 892,
    "start_time": "2021-08-15T10:25:27.202Z"
   },
   {
    "duration": 227,
    "start_time": "2021-08-15T10:26:32.954Z"
   },
   {
    "duration": 13,
    "start_time": "2021-08-15T10:28:53.423Z"
   },
   {
    "duration": 364,
    "start_time": "2021-08-15T10:30:59.195Z"
   },
   {
    "duration": 560,
    "start_time": "2021-08-15T10:34:14.161Z"
   },
   {
    "duration": 101,
    "start_time": "2021-08-15T10:37:45.265Z"
   },
   {
    "duration": 483,
    "start_time": "2021-08-15T10:37:50.608Z"
   },
   {
    "duration": 522,
    "start_time": "2021-08-15T11:04:46.811Z"
   },
   {
    "duration": 221,
    "start_time": "2021-08-15T11:27:18.033Z"
   },
   {
    "duration": 12,
    "start_time": "2021-08-15T11:27:38.272Z"
   },
   {
    "duration": 480,
    "start_time": "2021-08-15T11:33:13.172Z"
   },
   {
    "duration": 271,
    "start_time": "2021-08-15T11:33:33.976Z"
   },
   {
    "duration": 3,
    "start_time": "2021-08-15T11:33:49.441Z"
   },
   {
    "duration": 53,
    "start_time": "2021-08-15T11:33:49.656Z"
   },
   {
    "duration": 35,
    "start_time": "2021-08-15T11:33:50.585Z"
   },
   {
    "duration": 17,
    "start_time": "2021-08-15T11:33:50.900Z"
   },
   {
    "duration": 9,
    "start_time": "2021-08-15T11:33:51.242Z"
   },
   {
    "duration": 12,
    "start_time": "2021-08-15T11:33:51.751Z"
   },
   {
    "duration": 6,
    "start_time": "2021-08-15T11:33:52.102Z"
   },
   {
    "duration": 5,
    "start_time": "2021-08-15T11:33:52.845Z"
   },
   {
    "duration": 6,
    "start_time": "2021-08-15T11:33:53.167Z"
   },
   {
    "duration": 11,
    "start_time": "2021-08-15T11:33:53.347Z"
   },
   {
    "duration": 5,
    "start_time": "2021-08-15T11:33:54.211Z"
   },
   {
    "duration": 25,
    "start_time": "2021-08-15T11:33:54.712Z"
   },
   {
    "duration": 5,
    "start_time": "2021-08-15T11:33:55.817Z"
   },
   {
    "duration": 17,
    "start_time": "2021-08-15T11:33:56.500Z"
   },
   {
    "duration": 6,
    "start_time": "2021-08-15T11:33:56.907Z"
   },
   {
    "duration": 8,
    "start_time": "2021-08-15T11:33:57.297Z"
   },
   {
    "duration": 14,
    "start_time": "2021-08-15T11:33:57.674Z"
   },
   {
    "duration": 5,
    "start_time": "2021-08-15T11:33:58.520Z"
   },
   {
    "duration": 13,
    "start_time": "2021-08-15T11:33:58.909Z"
   },
   {
    "duration": 13,
    "start_time": "2021-08-15T11:34:00.104Z"
   },
   {
    "duration": 3,
    "start_time": "2021-08-15T11:34:01.088Z"
   },
   {
    "duration": 14,
    "start_time": "2021-08-15T11:34:01.416Z"
   },
   {
    "duration": 362,
    "start_time": "2021-08-15T11:34:01.640Z"
   },
   {
    "duration": 243,
    "start_time": "2021-08-15T11:34:02.546Z"
   },
   {
    "duration": 6185,
    "start_time": "2021-08-15T11:34:14.752Z"
   },
   {
    "duration": 5605,
    "start_time": "2021-08-15T11:34:43.992Z"
   },
   {
    "duration": 5669,
    "start_time": "2021-08-15T11:35:25.920Z"
   },
   {
    "duration": -359,
    "start_time": "2021-08-15T11:35:44.219Z"
   },
   {
    "duration": 3,
    "start_time": "2021-08-15T11:36:18.690Z"
   },
   {
    "duration": 52,
    "start_time": "2021-08-15T11:36:18.870Z"
   },
   {
    "duration": 33,
    "start_time": "2021-08-15T11:36:19.999Z"
   },
   {
    "duration": 18,
    "start_time": "2021-08-15T11:36:20.419Z"
   },
   {
    "duration": 9,
    "start_time": "2021-08-15T11:36:20.887Z"
   },
   {
    "duration": 12,
    "start_time": "2021-08-15T11:36:21.493Z"
   },
   {
    "duration": 5,
    "start_time": "2021-08-15T11:36:21.891Z"
   },
   {
    "duration": 5,
    "start_time": "2021-08-15T11:36:22.559Z"
   },
   {
    "duration": 6,
    "start_time": "2021-08-15T11:36:22.926Z"
   },
   {
    "duration": 11,
    "start_time": "2021-08-15T11:36:23.124Z"
   },
   {
    "duration": 6,
    "start_time": "2021-08-15T11:36:24.135Z"
   },
   {
    "duration": 25,
    "start_time": "2021-08-15T11:36:24.946Z"
   },
   {
    "duration": 6,
    "start_time": "2021-08-15T11:36:26.401Z"
   },
   {
    "duration": 16,
    "start_time": "2021-08-15T11:36:27.002Z"
   },
   {
    "duration": 5,
    "start_time": "2021-08-15T11:36:28.518Z"
   },
   {
    "duration": 7,
    "start_time": "2021-08-15T11:36:29.154Z"
   },
   {
    "duration": 13,
    "start_time": "2021-08-15T11:36:29.572Z"
   },
   {
    "duration": 6,
    "start_time": "2021-08-15T11:36:30.491Z"
   },
   {
    "duration": 13,
    "start_time": "2021-08-15T11:36:31.016Z"
   },
   {
    "duration": 13,
    "start_time": "2021-08-15T11:36:32.322Z"
   },
   {
    "duration": 2,
    "start_time": "2021-08-15T11:36:35.041Z"
   },
   {
    "duration": 14,
    "start_time": "2021-08-15T11:36:35.360Z"
   },
   {
    "duration": 355,
    "start_time": "2021-08-15T11:36:35.869Z"
   },
   {
    "duration": 5524,
    "start_time": "2021-08-15T11:36:37.194Z"
   },
   {
    "duration": 257,
    "start_time": "2021-08-15T11:37:04.905Z"
   },
   {
    "duration": 5567,
    "start_time": "2021-08-15T11:37:16.274Z"
   },
   {
    "duration": 317,
    "start_time": "2021-08-15T11:37:40.318Z"
   },
   {
    "duration": 734,
    "start_time": "2021-08-15T17:13:28.178Z"
   },
   {
    "duration": 93,
    "start_time": "2021-08-15T17:13:28.915Z"
   },
   {
    "duration": 57,
    "start_time": "2021-08-15T17:13:29.614Z"
   },
   {
    "duration": 27,
    "start_time": "2021-08-15T17:13:30.061Z"
   },
   {
    "duration": 12,
    "start_time": "2021-08-15T17:13:30.398Z"
   },
   {
    "duration": 20,
    "start_time": "2021-08-15T17:13:31.016Z"
   },
   {
    "duration": 6,
    "start_time": "2021-08-15T17:13:31.388Z"
   },
   {
    "duration": 6,
    "start_time": "2021-08-15T17:13:32.806Z"
   },
   {
    "duration": 14,
    "start_time": "2021-08-15T17:13:33.148Z"
   },
   {
    "duration": 20,
    "start_time": "2021-08-15T17:13:33.325Z"
   },
   {
    "duration": 7,
    "start_time": "2021-08-15T17:13:34.292Z"
   },
   {
    "duration": 41,
    "start_time": "2021-08-15T17:13:34.836Z"
   },
   {
    "duration": 7,
    "start_time": "2021-08-15T17:13:35.877Z"
   },
   {
    "duration": 26,
    "start_time": "2021-08-15T17:13:36.694Z"
   },
   {
    "duration": 7,
    "start_time": "2021-08-15T17:13:37.268Z"
   },
   {
    "duration": 10,
    "start_time": "2021-08-15T17:13:37.731Z"
   },
   {
    "duration": 18,
    "start_time": "2021-08-15T17:13:38.389Z"
   },
   {
    "duration": 7,
    "start_time": "2021-08-15T17:13:40.515Z"
   },
   {
    "duration": 21,
    "start_time": "2021-08-15T17:13:41.026Z"
   },
   {
    "duration": 23,
    "start_time": "2021-08-15T17:13:42.189Z"
   },
   {
    "duration": 112,
    "start_time": "2021-08-15T17:13:43.671Z"
   },
   {
    "duration": 22,
    "start_time": "2021-08-15T17:13:44.877Z"
   },
   {
    "duration": 675,
    "start_time": "2021-08-15T17:13:45.315Z"
   },
   {
    "duration": 596,
    "start_time": "2021-08-15T17:13:46.421Z"
   },
   {
    "duration": 2087,
    "start_time": "2021-08-15T17:32:46.732Z"
   },
   {
    "duration": 35,
    "start_time": "2021-08-15T17:34:55.513Z"
   },
   {
    "duration": 14,
    "start_time": "2021-08-15T17:35:43.401Z"
   },
   {
    "duration": 69,
    "start_time": "2021-08-15T17:38:59.909Z"
   },
   {
    "duration": 276,
    "start_time": "2021-08-15T17:44:30.901Z"
   },
   {
    "duration": 23,
    "start_time": "2021-08-15T17:44:40.386Z"
   },
   {
    "duration": 21,
    "start_time": "2021-08-15T17:45:04.726Z"
   },
   {
    "duration": 4,
    "start_time": "2021-08-15T17:45:23.314Z"
   },
   {
    "duration": 76,
    "start_time": "2021-08-15T17:45:23.541Z"
   },
   {
    "duration": 57,
    "start_time": "2021-08-15T17:45:24.884Z"
   },
   {
    "duration": 25,
    "start_time": "2021-08-15T17:45:25.581Z"
   },
   {
    "duration": 15,
    "start_time": "2021-08-15T17:45:25.949Z"
   },
   {
    "duration": 19,
    "start_time": "2021-08-15T17:45:26.694Z"
   },
   {
    "duration": 7,
    "start_time": "2021-08-15T17:45:27.219Z"
   },
   {
    "duration": 6,
    "start_time": "2021-08-15T17:45:27.908Z"
   },
   {
    "duration": 9,
    "start_time": "2021-08-15T17:45:28.347Z"
   },
   {
    "duration": 19,
    "start_time": "2021-08-15T17:45:28.543Z"
   },
   {
    "duration": 7,
    "start_time": "2021-08-15T17:45:29.670Z"
   },
   {
    "duration": 40,
    "start_time": "2021-08-15T17:45:30.515Z"
   },
   {
    "duration": 7,
    "start_time": "2021-08-15T17:45:31.731Z"
   },
   {
    "duration": 37,
    "start_time": "2021-08-15T17:45:32.096Z"
   },
   {
    "duration": 7,
    "start_time": "2021-08-15T17:45:32.934Z"
   },
   {
    "duration": 10,
    "start_time": "2021-08-15T17:45:33.366Z"
   },
   {
    "duration": 18,
    "start_time": "2021-08-15T17:45:33.664Z"
   },
   {
    "duration": 6,
    "start_time": "2021-08-15T17:45:34.350Z"
   },
   {
    "duration": 21,
    "start_time": "2021-08-15T17:45:34.884Z"
   },
   {
    "duration": 23,
    "start_time": "2021-08-15T17:45:35.925Z"
   },
   {
    "duration": 4,
    "start_time": "2021-08-15T17:45:36.679Z"
   },
   {
    "duration": 21,
    "start_time": "2021-08-15T17:45:36.939Z"
   },
   {
    "duration": 652,
    "start_time": "2021-08-15T17:45:37.096Z"
   },
   {
    "duration": 592,
    "start_time": "2021-08-15T17:45:37.816Z"
   },
   {
    "duration": 25,
    "start_time": "2021-08-15T17:45:38.699Z"
   },
   {
    "duration": 35,
    "start_time": "2021-08-15T17:46:37.538Z"
   },
   {
    "duration": 32,
    "start_time": "2021-08-15T17:48:03.721Z"
   },
   {
    "duration": 34,
    "start_time": "2021-08-15T17:49:26.275Z"
   },
   {
    "duration": 33,
    "start_time": "2021-08-15T17:51:44.460Z"
   },
   {
    "duration": 90,
    "start_time": "2021-08-15T17:52:20.293Z"
   },
   {
    "duration": 99,
    "start_time": "2021-08-15T17:52:34.663Z"
   },
   {
    "duration": 107,
    "start_time": "2021-08-15T17:53:04.768Z"
   },
   {
    "duration": 363,
    "start_time": "2021-08-15T17:53:32.969Z"
   },
   {
    "duration": 34,
    "start_time": "2021-08-15T17:53:59.513Z"
   },
   {
    "duration": 610,
    "start_time": "2021-08-15T18:07:44.967Z"
   },
   {
    "duration": 586,
    "start_time": "2021-08-15T18:08:19.503Z"
   },
   {
    "duration": 483,
    "start_time": "2021-08-15T18:09:17.706Z"
   },
   {
    "duration": 667,
    "start_time": "2021-08-15T18:09:32.936Z"
   },
   {
    "duration": 408,
    "start_time": "2021-08-15T18:10:12.102Z"
   },
   {
    "duration": 451,
    "start_time": "2021-08-15T18:13:26.551Z"
   },
   {
    "duration": 634,
    "start_time": "2021-08-15T18:20:53.374Z"
   },
   {
    "duration": 11,
    "start_time": "2021-08-15T18:21:07.975Z"
   },
   {
    "duration": 534,
    "start_time": "2021-08-15T18:28:49.011Z"
   },
   {
    "duration": 92,
    "start_time": "2021-08-15T18:34:59.139Z"
   },
   {
    "duration": 477,
    "start_time": "2021-08-15T18:35:34.749Z"
   },
   {
    "duration": 471,
    "start_time": "2021-08-15T18:36:32.072Z"
   },
   {
    "duration": 499,
    "start_time": "2021-08-15T18:37:25.457Z"
   },
   {
    "duration": 619,
    "start_time": "2021-08-15T18:37:40.584Z"
   },
   {
    "duration": 843,
    "start_time": "2021-08-15T18:42:55.219Z"
   },
   {
    "duration": 532,
    "start_time": "2021-08-15T18:43:36.049Z"
   },
   {
    "duration": 533,
    "start_time": "2021-08-15T18:43:56.041Z"
   },
   {
    "duration": 297,
    "start_time": "2021-08-15T18:52:11.902Z"
   },
   {
    "duration": 429,
    "start_time": "2021-08-15T18:52:30.812Z"
   },
   {
    "duration": 63,
    "start_time": "2021-08-15T18:53:33.787Z"
   },
   {
    "duration": 595,
    "start_time": "2021-08-15T18:55:54.978Z"
   },
   {
    "duration": 576,
    "start_time": "2021-08-15T18:56:15.625Z"
   },
   {
    "duration": 58,
    "start_time": "2021-08-15T19:05:59.908Z"
   },
   {
    "duration": 58,
    "start_time": "2021-08-15T19:06:25.261Z"
   },
   {
    "duration": 57,
    "start_time": "2021-08-15T19:06:46.344Z"
   },
   {
    "duration": 56,
    "start_time": "2021-08-15T19:07:45.161Z"
   },
   {
    "duration": 59,
    "start_time": "2021-08-15T19:08:15.715Z"
   },
   {
    "duration": 590,
    "start_time": "2021-08-15T19:10:15.510Z"
   },
   {
    "duration": 60,
    "start_time": "2021-08-15T19:10:19.371Z"
   },
   {
    "duration": 261,
    "start_time": "2021-08-15T19:12:45.548Z"
   },
   {
    "duration": 58,
    "start_time": "2021-08-15T19:13:30.564Z"
   },
   {
    "duration": 1217,
    "start_time": "2021-08-15T19:18:13.866Z"
   },
   {
    "duration": 60,
    "start_time": "2021-08-15T19:18:56.442Z"
   },
   {
    "duration": 281,
    "start_time": "2021-08-15T19:23:16.961Z"
   },
   {
    "duration": 284,
    "start_time": "2021-08-15T19:24:23.209Z"
   },
   {
    "duration": 279,
    "start_time": "2021-08-15T19:24:41.893Z"
   },
   {
    "duration": 1317,
    "start_time": "2021-08-15T19:24:52.140Z"
   },
   {
    "duration": 37,
    "start_time": "2021-08-15T19:25:29.473Z"
   },
   {
    "duration": 75,
    "start_time": "2021-08-15T19:27:52.988Z"
   },
   {
    "duration": 276,
    "start_time": "2021-08-15T19:30:02.784Z"
   },
   {
    "duration": 7146,
    "start_time": "2021-08-15T19:30:21.389Z"
   },
   {
    "duration": 7,
    "start_time": "2021-08-15T19:32:44.884Z"
   },
   {
    "duration": 300,
    "start_time": "2021-08-15T19:48:59.488Z"
   },
   {
    "duration": 281,
    "start_time": "2021-08-15T19:49:37.089Z"
   },
   {
    "duration": 11,
    "start_time": "2021-08-15T19:50:29.222Z"
   },
   {
    "duration": 8,
    "start_time": "2021-08-15T19:56:56.958Z"
   },
   {
    "duration": 590,
    "start_time": "2021-08-15T20:02:44.803Z"
   },
   {
    "duration": 606,
    "start_time": "2021-08-15T20:04:42.530Z"
   },
   {
    "duration": 841,
    "start_time": "2021-08-15T20:04:43.203Z"
   },
   {
    "duration": 96,
    "start_time": "2021-08-15T20:04:44.056Z"
   },
   {
    "duration": -173,
    "start_time": "2021-08-15T20:04:44.328Z"
   },
   {
    "duration": 91,
    "start_time": "2021-08-15T20:04:44.509Z"
   },
   {
    "duration": 6,
    "start_time": "2021-08-15T20:10:08.039Z"
   },
   {
    "duration": 309,
    "start_time": "2021-08-15T20:11:33.045Z"
   },
   {
    "duration": 7,
    "start_time": "2021-08-15T20:11:59.928Z"
   },
   {
    "duration": 7228,
    "start_time": "2021-08-15T20:13:04.347Z"
   },
   {
    "duration": 7103,
    "start_time": "2021-08-15T20:13:11.980Z"
   },
   {
    "duration": 7205,
    "start_time": "2021-08-15T20:14:39.099Z"
   },
   {
    "duration": 92,
    "start_time": "2021-08-15T20:15:06.712Z"
   },
   {
    "duration": 106,
    "start_time": "2021-08-15T20:15:19.932Z"
   },
   {
    "duration": 9,
    "start_time": "2021-08-15T20:15:36.622Z"
   },
   {
    "duration": 275,
    "start_time": "2021-08-15T20:16:22.966Z"
   },
   {
    "duration": 7,
    "start_time": "2021-08-15T20:17:19.024Z"
   },
   {
    "duration": 278,
    "start_time": "2021-08-15T20:19:25.552Z"
   },
   {
    "duration": 85,
    "start_time": "2021-08-15T20:25:05.033Z"
   },
   {
    "duration": 361,
    "start_time": "2021-08-15T20:25:45.552Z"
   },
   {
    "duration": 86,
    "start_time": "2021-08-15T20:26:29.972Z"
   },
   {
    "duration": 9,
    "start_time": "2021-08-15T20:27:15.387Z"
   },
   {
    "duration": 8,
    "start_time": "2021-08-15T20:28:57.025Z"
   },
   {
    "duration": 8,
    "start_time": "2021-08-15T20:29:11.737Z"
   },
   {
    "duration": 9,
    "start_time": "2021-08-15T20:30:32.954Z"
   },
   {
    "duration": 8,
    "start_time": "2021-08-15T20:35:09.418Z"
   },
   {
    "duration": 518,
    "start_time": "2021-08-15T20:46:20.265Z"
   },
   {
    "duration": 84,
    "start_time": "2021-08-15T20:57:45.585Z"
   },
   {
    "duration": 3,
    "start_time": "2021-08-15T21:00:16.876Z"
   },
   {
    "duration": 82,
    "start_time": "2021-08-15T21:00:17.076Z"
   },
   {
    "duration": 55,
    "start_time": "2021-08-15T21:00:17.961Z"
   },
   {
    "duration": 27,
    "start_time": "2021-08-15T21:00:18.292Z"
   },
   {
    "duration": 12,
    "start_time": "2021-08-15T21:00:18.609Z"
   },
   {
    "duration": 20,
    "start_time": "2021-08-15T21:00:19.115Z"
   },
   {
    "duration": 6,
    "start_time": "2021-08-15T21:00:19.636Z"
   },
   {
    "duration": 8,
    "start_time": "2021-08-15T21:00:20.678Z"
   },
   {
    "duration": 9,
    "start_time": "2021-08-15T21:00:21.053Z"
   },
   {
    "duration": 20,
    "start_time": "2021-08-15T21:00:21.190Z"
   },
   {
    "duration": 10,
    "start_time": "2021-08-15T21:00:22.097Z"
   },
   {
    "duration": 39,
    "start_time": "2021-08-15T21:00:22.780Z"
   },
   {
    "duration": 7,
    "start_time": "2021-08-15T21:00:23.876Z"
   },
   {
    "duration": 26,
    "start_time": "2021-08-15T21:00:24.215Z"
   },
   {
    "duration": 9,
    "start_time": "2021-08-15T21:00:25.745Z"
   },
   {
    "duration": 10,
    "start_time": "2021-08-15T21:00:26.131Z"
   },
   {
    "duration": 19,
    "start_time": "2021-08-15T21:00:26.529Z"
   },
   {
    "duration": 7,
    "start_time": "2021-08-15T21:00:27.571Z"
   },
   {
    "duration": 21,
    "start_time": "2021-08-15T21:00:28.268Z"
   },
   {
    "duration": 22,
    "start_time": "2021-08-15T21:00:29.708Z"
   },
   {
    "duration": 4,
    "start_time": "2021-08-15T21:00:30.933Z"
   },
   {
    "duration": 23,
    "start_time": "2021-08-15T21:00:31.485Z"
   },
   {
    "duration": 692,
    "start_time": "2021-08-15T21:00:32.170Z"
   },
   {
    "duration": 588,
    "start_time": "2021-08-15T21:00:33.471Z"
   },
   {
    "duration": 597,
    "start_time": "2021-08-15T21:00:34.901Z"
   },
   {
    "duration": 87,
    "start_time": "2021-08-15T21:00:37.892Z"
   },
   {
    "duration": 8,
    "start_time": "2021-08-15T21:00:39.041Z"
   },
   {
    "duration": 8,
    "start_time": "2021-08-15T21:01:02.990Z"
   },
   {
    "duration": 14,
    "start_time": "2021-08-15T21:02:41.123Z"
   },
   {
    "duration": 8,
    "start_time": "2021-08-15T21:03:25.107Z"
   },
   {
    "duration": 88,
    "start_time": "2021-08-15T21:10:49.709Z"
   },
   {
    "duration": 91,
    "start_time": "2021-08-15T21:11:11.614Z"
   },
   {
    "duration": 92,
    "start_time": "2021-08-15T21:11:51.214Z"
   },
   {
    "duration": 105,
    "start_time": "2021-08-15T21:12:02.913Z"
   },
   {
    "duration": 29,
    "start_time": "2021-08-15T21:12:24.692Z"
   },
   {
    "duration": 21,
    "start_time": "2021-08-15T21:13:06.311Z"
   },
   {
    "duration": 120,
    "start_time": "2021-08-15T21:14:41.162Z"
   },
   {
    "duration": 294,
    "start_time": "2021-08-15T21:17:31.965Z"
   },
   {
    "duration": 17,
    "start_time": "2021-08-15T21:17:36.224Z"
   },
   {
    "duration": 51,
    "start_time": "2021-08-15T21:19:51.454Z"
   },
   {
    "duration": 63,
    "start_time": "2021-08-15T21:20:39.715Z"
   },
   {
    "duration": 46,
    "start_time": "2021-08-15T21:21:08.254Z"
   },
   {
    "duration": 38,
    "start_time": "2021-08-15T21:21:43.647Z"
   },
   {
    "duration": 8,
    "start_time": "2021-08-15T21:22:04.653Z"
   },
   {
    "duration": 274,
    "start_time": "2021-08-15T21:23:08.702Z"
   },
   {
    "duration": 17,
    "start_time": "2021-08-15T21:23:45.890Z"
   },
   {
    "duration": 1028,
    "start_time": "2021-08-15T21:25:45.687Z"
   },
   {
    "duration": 17,
    "start_time": "2021-08-15T21:26:56.827Z"
   },
   {
    "duration": 18,
    "start_time": "2021-08-15T21:29:03.291Z"
   },
   {
    "duration": 4,
    "start_time": "2021-08-15T21:29:09.457Z"
   },
   {
    "duration": 7,
    "start_time": "2021-08-15T21:29:19.034Z"
   },
   {
    "duration": 329,
    "start_time": "2021-08-15T21:30:27.286Z"
   },
   {
    "duration": 16,
    "start_time": "2021-08-15T21:31:06.116Z"
   },
   {
    "duration": 274,
    "start_time": "2021-08-15T21:32:33.670Z"
   },
   {
    "duration": 284,
    "start_time": "2021-08-15T21:32:39.303Z"
   },
   {
    "duration": 17,
    "start_time": "2021-08-15T21:33:09.264Z"
   },
   {
    "duration": 22,
    "start_time": "2021-08-15T21:33:23.531Z"
   },
   {
    "duration": 23,
    "start_time": "2021-08-15T21:34:33.878Z"
   },
   {
    "duration": 8,
    "start_time": "2021-08-15T21:34:41.169Z"
   },
   {
    "duration": 26,
    "start_time": "2021-08-15T21:34:55.759Z"
   },
   {
    "duration": 27,
    "start_time": "2021-08-15T21:35:14.853Z"
   },
   {
    "duration": 24,
    "start_time": "2021-08-15T21:35:24.561Z"
   },
   {
    "duration": 32,
    "start_time": "2021-08-15T21:37:50.784Z"
   },
   {
    "duration": 27,
    "start_time": "2021-08-15T21:38:02.454Z"
   },
   {
    "duration": 27,
    "start_time": "2021-08-15T21:38:41.286Z"
   },
   {
    "duration": 535,
    "start_time": "2021-08-15T21:38:43.753Z"
   },
   {
    "duration": 74,
    "start_time": "2021-08-15T21:40:44.252Z"
   },
   {
    "duration": 649,
    "start_time": "2021-08-15T21:41:48.241Z"
   },
   {
    "duration": 33,
    "start_time": "2021-08-15T21:42:12.848Z"
   },
   {
    "duration": 30,
    "start_time": "2021-08-15T21:44:18.547Z"
   },
   {
    "duration": 117,
    "start_time": "2021-08-15T21:47:30.197Z"
   },
   {
    "duration": 90,
    "start_time": "2021-08-15T21:47:46.097Z"
   },
   {
    "duration": 99,
    "start_time": "2021-08-15T21:48:10.129Z"
   },
   {
    "duration": 94,
    "start_time": "2021-08-15T21:48:21.557Z"
   },
   {
    "duration": 341,
    "start_time": "2021-08-15T21:48:53.298Z"
   },
   {
    "duration": 24,
    "start_time": "2021-08-15T21:49:22.596Z"
   },
   {
    "duration": 315,
    "start_time": "2021-08-15T21:52:25.440Z"
   },
   {
    "duration": 103,
    "start_time": "2021-08-15T21:54:05.382Z"
   },
   {
    "duration": 13,
    "start_time": "2021-08-15T21:54:17.294Z"
   },
   {
    "duration": 21,
    "start_time": "2021-08-15T21:56:43.775Z"
   },
   {
    "duration": 15,
    "start_time": "2021-08-15T22:06:40.206Z"
   },
   {
    "duration": 24,
    "start_time": "2021-08-15T22:07:43.366Z"
   },
   {
    "duration": 27,
    "start_time": "2021-08-15T22:08:16.330Z"
   },
   {
    "duration": 32,
    "start_time": "2021-08-15T22:09:44.679Z"
   },
   {
    "duration": 15,
    "start_time": "2021-08-15T22:10:21.713Z"
   },
   {
    "duration": 263,
    "start_time": "2021-08-15T22:12:16.433Z"
   },
   {
    "duration": 14,
    "start_time": "2021-08-15T22:12:37.296Z"
   },
   {
    "duration": 20,
    "start_time": "2021-08-15T22:20:12.342Z"
   },
   {
    "duration": 104,
    "start_time": "2021-08-15T22:30:04.931Z"
   },
   {
    "duration": 102,
    "start_time": "2021-08-15T22:30:30.581Z"
   },
   {
    "duration": 93,
    "start_time": "2021-08-15T22:30:40.355Z"
   },
   {
    "duration": 106,
    "start_time": "2021-08-15T22:30:59.814Z"
   },
   {
    "duration": 104,
    "start_time": "2021-08-15T22:32:04.523Z"
   },
   {
    "duration": 86,
    "start_time": "2021-08-15T22:32:53.284Z"
   },
   {
    "duration": 655,
    "start_time": "2021-08-15T22:33:15.630Z"
   },
   {
    "duration": 98,
    "start_time": "2021-08-15T22:33:24.237Z"
   },
   {
    "duration": 32,
    "start_time": "2021-08-15T22:42:11.305Z"
   },
   {
    "duration": 355,
    "start_time": "2021-08-15T22:43:33.599Z"
   },
   {
    "duration": 326,
    "start_time": "2021-08-15T22:45:16.267Z"
   },
   {
    "duration": 38,
    "start_time": "2021-08-15T22:45:44.357Z"
   },
   {
    "duration": 331,
    "start_time": "2021-08-15T22:46:02.678Z"
   },
   {
    "duration": 40,
    "start_time": "2021-08-15T22:46:07.146Z"
   },
   {
    "duration": 6,
    "start_time": "2021-08-15T22:47:03.952Z"
   },
   {
    "duration": 574,
    "start_time": "2021-08-16T04:52:07.858Z"
   },
   {
    "duration": 66,
    "start_time": "2021-08-16T04:52:08.434Z"
   },
   {
    "duration": 39,
    "start_time": "2021-08-16T04:52:09.171Z"
   },
   {
    "duration": 19,
    "start_time": "2021-08-16T04:52:09.572Z"
   },
   {
    "duration": 10,
    "start_time": "2021-08-16T04:52:09.988Z"
   },
   {
    "duration": 14,
    "start_time": "2021-08-16T04:52:10.503Z"
   },
   {
    "duration": 4,
    "start_time": "2021-08-16T04:52:10.782Z"
   },
   {
    "duration": 5,
    "start_time": "2021-08-16T04:52:11.604Z"
   },
   {
    "duration": 9,
    "start_time": "2021-08-16T04:52:11.963Z"
   },
   {
    "duration": 12,
    "start_time": "2021-08-16T04:52:12.365Z"
   },
   {
    "duration": 6,
    "start_time": "2021-08-16T04:52:13.263Z"
   },
   {
    "duration": 28,
    "start_time": "2021-08-16T04:52:13.792Z"
   },
   {
    "duration": 5,
    "start_time": "2021-08-16T04:52:14.618Z"
   },
   {
    "duration": 17,
    "start_time": "2021-08-16T04:52:14.916Z"
   },
   {
    "duration": 5,
    "start_time": "2021-08-16T04:52:15.583Z"
   },
   {
    "duration": 7,
    "start_time": "2021-08-16T04:52:16.002Z"
   },
   {
    "duration": 14,
    "start_time": "2021-08-16T04:52:16.572Z"
   },
   {
    "duration": 5,
    "start_time": "2021-08-16T04:52:17.197Z"
   },
   {
    "duration": 15,
    "start_time": "2021-08-16T04:52:17.568Z"
   },
   {
    "duration": 15,
    "start_time": "2021-08-16T04:52:18.450Z"
   },
   {
    "duration": 71,
    "start_time": "2021-08-16T04:52:19.225Z"
   },
   {
    "duration": 16,
    "start_time": "2021-08-16T04:52:19.400Z"
   },
   {
    "duration": 443,
    "start_time": "2021-08-16T04:52:19.585Z"
   },
   {
    "duration": 382,
    "start_time": "2021-08-16T04:52:20.218Z"
   },
   {
    "duration": 436,
    "start_time": "2021-08-16T04:52:20.602Z"
   },
   {
    "duration": 54,
    "start_time": "2021-08-16T04:52:21.237Z"
   },
   {
    "duration": 7,
    "start_time": "2021-08-16T04:52:22.748Z"
   },
   {
    "duration": 9,
    "start_time": "2021-08-16T04:53:11.658Z"
   },
   {
    "duration": 6,
    "start_time": "2021-08-16T04:59:23.182Z"
   },
   {
    "duration": 5,
    "start_time": "2021-08-16T04:59:37.195Z"
   },
   {
    "duration": 9,
    "start_time": "2021-08-16T04:59:43.307Z"
   },
   {
    "duration": 6,
    "start_time": "2021-08-16T04:59:43.620Z"
   },
   {
    "duration": 323,
    "start_time": "2021-08-16T04:59:45.329Z"
   },
   {
    "duration": 31,
    "start_time": "2021-08-16T05:06:48.262Z"
   },
   {
    "duration": 338,
    "start_time": "2021-08-16T05:23:47.446Z"
   },
   {
    "duration": 346,
    "start_time": "2021-08-16T05:24:41.125Z"
   },
   {
    "duration": 339,
    "start_time": "2021-08-16T05:31:29.614Z"
   },
   {
    "duration": 345,
    "start_time": "2021-08-16T05:31:58.598Z"
   },
   {
    "duration": 25,
    "start_time": "2021-08-16T05:45:26.080Z"
   },
   {
    "duration": 11,
    "start_time": "2021-08-16T05:46:39.487Z"
   },
   {
    "duration": 257,
    "start_time": "2021-08-16T05:48:36.780Z"
   },
   {
    "duration": 13,
    "start_time": "2021-08-16T05:48:41.995Z"
   },
   {
    "duration": 11,
    "start_time": "2021-08-16T05:50:53.740Z"
   },
   {
    "duration": 13,
    "start_time": "2021-08-16T05:51:48.146Z"
   },
   {
    "duration": 188,
    "start_time": "2021-08-16T05:53:57.621Z"
   },
   {
    "duration": 195,
    "start_time": "2021-08-16T05:54:19.756Z"
   },
   {
    "duration": 14,
    "start_time": "2021-08-16T05:54:45.346Z"
   },
   {
    "duration": 15,
    "start_time": "2021-08-16T05:55:10.586Z"
   },
   {
    "duration": 11,
    "start_time": "2021-08-16T05:55:20.917Z"
   },
   {
    "duration": 205,
    "start_time": "2021-08-16T05:56:57.372Z"
   },
   {
    "duration": 14,
    "start_time": "2021-08-16T05:57:21.845Z"
   },
   {
    "duration": 302,
    "start_time": "2021-08-16T06:04:04.140Z"
   },
   {
    "duration": 300,
    "start_time": "2021-08-16T06:08:25.431Z"
   },
   {
    "duration": 832,
    "start_time": "2021-08-16T06:25:07.965Z"
   },
   {
    "duration": 392,
    "start_time": "2021-08-16T06:27:40.403Z"
   },
   {
    "duration": 460,
    "start_time": "2021-08-16T06:32:19.457Z"
   },
   {
    "duration": 207,
    "start_time": "2021-08-16T06:35:28.237Z"
   },
   {
    "duration": 186,
    "start_time": "2021-08-16T06:35:59.829Z"
   },
   {
    "duration": 459,
    "start_time": "2021-08-16T06:37:39.905Z"
   },
   {
    "duration": 454,
    "start_time": "2021-08-16T06:39:00.705Z"
   },
   {
    "duration": 225,
    "start_time": "2021-08-16T06:40:36.490Z"
   },
   {
    "duration": 186,
    "start_time": "2021-08-16T06:41:13.526Z"
   },
   {
    "duration": 458,
    "start_time": "2021-08-16T06:41:29.643Z"
   },
   {
    "duration": 297,
    "start_time": "2021-08-16T06:43:15.163Z"
   },
   {
    "duration": 287,
    "start_time": "2021-08-16T06:44:00.913Z"
   },
   {
    "duration": 183,
    "start_time": "2021-08-16T06:44:49.463Z"
   },
   {
    "duration": 211,
    "start_time": "2021-08-16T06:44:55.077Z"
   },
   {
    "duration": 14,
    "start_time": "2021-08-16T06:45:38.334Z"
   },
   {
    "duration": 373,
    "start_time": "2021-08-16T06:46:31.299Z"
   },
   {
    "duration": 457,
    "start_time": "2021-08-16T06:47:03.846Z"
   },
   {
    "duration": 469,
    "start_time": "2021-08-16T06:48:26.002Z"
   },
   {
    "duration": 464,
    "start_time": "2021-08-16T06:48:36.335Z"
   },
   {
    "duration": 217,
    "start_time": "2021-08-16T06:49:30.738Z"
   },
   {
    "duration": 624,
    "start_time": "2021-08-16T06:50:08.778Z"
   },
   {
    "duration": 61,
    "start_time": "2021-08-16T06:51:31.406Z"
   },
   {
    "duration": 191,
    "start_time": "2021-08-16T06:51:44.967Z"
   },
   {
    "duration": 189,
    "start_time": "2021-08-16T06:53:23.117Z"
   },
   {
    "duration": 182,
    "start_time": "2021-08-16T06:53:33.225Z"
   },
   {
    "duration": 196,
    "start_time": "2021-08-16T06:54:02.509Z"
   },
   {
    "duration": 200,
    "start_time": "2021-08-16T06:54:14.328Z"
   },
   {
    "duration": 183,
    "start_time": "2021-08-16T06:54:25.044Z"
   },
   {
    "duration": 534,
    "start_time": "2021-08-16T06:54:56.530Z"
   },
   {
    "duration": 3706,
    "start_time": "2021-08-16T06:57:21.622Z"
   },
   {
    "duration": 3800,
    "start_time": "2021-08-16T06:58:12.708Z"
   },
   {
    "duration": 468,
    "start_time": "2021-08-16T06:58:46.862Z"
   },
   {
    "duration": 73,
    "start_time": "2021-08-16T07:04:31.625Z"
   },
   {
    "duration": 438,
    "start_time": "2021-08-16T07:04:38.702Z"
   },
   {
    "duration": 597,
    "start_time": "2021-08-16T07:06:18.616Z"
   },
   {
    "duration": 654,
    "start_time": "2021-08-16T07:07:00.650Z"
   },
   {
    "duration": 471,
    "start_time": "2021-08-16T07:08:00.508Z"
   },
   {
    "duration": 459,
    "start_time": "2021-08-16T07:08:11.989Z"
   },
   {
    "duration": 442,
    "start_time": "2021-08-16T07:08:52.996Z"
   },
   {
    "duration": 636,
    "start_time": "2021-08-16T07:12:09.187Z"
   },
   {
    "duration": 614,
    "start_time": "2021-08-16T07:12:39.776Z"
   },
   {
    "duration": 606,
    "start_time": "2021-08-16T07:13:05.604Z"
   },
   {
    "duration": 60,
    "start_time": "2021-08-16T07:14:49.078Z"
   },
   {
    "duration": 66,
    "start_time": "2021-08-16T07:15:13.967Z"
   },
   {
    "duration": 423,
    "start_time": "2021-08-16T07:15:27.696Z"
   },
   {
    "duration": 36,
    "start_time": "2021-08-16T07:18:57.364Z"
   },
   {
    "duration": 570,
    "start_time": "2021-08-16T16:34:47.800Z"
   },
   {
    "duration": 67,
    "start_time": "2021-08-16T16:34:48.372Z"
   },
   {
    "duration": 40,
    "start_time": "2021-08-16T16:34:50.331Z"
   },
   {
    "duration": 19,
    "start_time": "2021-08-16T16:34:50.904Z"
   },
   {
    "duration": 10,
    "start_time": "2021-08-16T16:34:51.583Z"
   },
   {
    "duration": 13,
    "start_time": "2021-08-16T16:34:52.440Z"
   },
   {
    "duration": 5,
    "start_time": "2021-08-16T16:34:53.528Z"
   },
   {
    "duration": 6,
    "start_time": "2021-08-16T16:34:54.560Z"
   },
   {
    "duration": 8,
    "start_time": "2021-08-16T16:34:54.899Z"
   },
   {
    "duration": 13,
    "start_time": "2021-08-16T16:34:55.237Z"
   },
   {
    "duration": 6,
    "start_time": "2021-08-16T16:34:56.483Z"
   },
   {
    "duration": 29,
    "start_time": "2021-08-16T16:34:57.209Z"
   },
   {
    "duration": 5,
    "start_time": "2021-08-16T16:34:58.232Z"
   },
   {
    "duration": 18,
    "start_time": "2021-08-16T16:34:58.647Z"
   },
   {
    "duration": 5,
    "start_time": "2021-08-16T16:34:59.066Z"
   },
   {
    "duration": 8,
    "start_time": "2021-08-16T16:34:59.430Z"
   },
   {
    "duration": 15,
    "start_time": "2021-08-16T16:35:00.033Z"
   },
   {
    "duration": 5,
    "start_time": "2021-08-16T16:35:00.988Z"
   },
   {
    "duration": 15,
    "start_time": "2021-08-16T16:35:01.433Z"
   },
   {
    "duration": 14,
    "start_time": "2021-08-16T16:35:02.540Z"
   },
   {
    "duration": 70,
    "start_time": "2021-08-16T16:35:03.449Z"
   },
   {
    "duration": 16,
    "start_time": "2021-08-16T16:35:03.739Z"
   },
   {
    "duration": 445,
    "start_time": "2021-08-16T16:35:04.062Z"
   },
   {
    "duration": 393,
    "start_time": "2021-08-16T16:35:04.912Z"
   },
   {
    "duration": 449,
    "start_time": "2021-08-16T16:35:05.695Z"
   },
   {
    "duration": 55,
    "start_time": "2021-08-16T16:35:06.953Z"
   },
   {
    "duration": 10,
    "start_time": "2021-08-16T16:35:07.619Z"
   },
   {
    "duration": 6,
    "start_time": "2021-08-16T16:35:08.967Z"
   },
   {
    "duration": 10,
    "start_time": "2021-08-16T16:35:10.022Z"
   },
   {
    "duration": 5,
    "start_time": "2021-08-16T16:35:10.235Z"
   },
   {
    "duration": 25,
    "start_time": "2021-08-16T16:35:11.228Z"
   },
   {
    "duration": 337,
    "start_time": "2021-08-16T16:35:11.885Z"
   },
   {
    "duration": 14,
    "start_time": "2021-08-16T16:35:13.333Z"
   },
   {
    "duration": 301,
    "start_time": "2021-08-16T16:35:14.359Z"
   },
   {
    "duration": 37,
    "start_time": "2021-08-16T16:36:30.427Z"
   },
   {
    "duration": 7,
    "start_time": "2021-08-16T16:50:16.523Z"
   },
   {
    "duration": 267,
    "start_time": "2021-08-16T16:51:38.713Z"
   },
   {
    "duration": 7,
    "start_time": "2021-08-16T16:52:06.112Z"
   },
   {
    "duration": 195,
    "start_time": "2021-08-16T16:52:28.461Z"
   },
   {
    "duration": 197,
    "start_time": "2021-08-16T16:53:01.998Z"
   },
   {
    "duration": 11,
    "start_time": "2021-08-16T16:53:27.051Z"
   },
   {
    "duration": 11,
    "start_time": "2021-08-16T16:53:49.384Z"
   },
   {
    "duration": 12,
    "start_time": "2021-08-16T16:54:00.901Z"
   },
   {
    "duration": 184,
    "start_time": "2021-08-16T16:55:53.351Z"
   },
   {
    "duration": 205,
    "start_time": "2021-08-16T16:56:00.540Z"
   },
   {
    "duration": 3,
    "start_time": "2021-08-16T16:56:04.677Z"
   },
   {
    "duration": 183,
    "start_time": "2021-08-16T16:56:15.141Z"
   },
   {
    "duration": 168,
    "start_time": "2021-08-16T16:56:46.524Z"
   },
   {
    "duration": 186,
    "start_time": "2021-08-16T17:00:46.633Z"
   },
   {
    "duration": 11,
    "start_time": "2021-08-16T17:00:54.070Z"
   },
   {
    "duration": 13,
    "start_time": "2021-08-16T17:01:49.153Z"
   },
   {
    "duration": 12,
    "start_time": "2021-08-16T17:02:16.402Z"
   },
   {
    "duration": 195,
    "start_time": "2021-08-16T17:05:41.770Z"
   },
   {
    "duration": 13,
    "start_time": "2021-08-16T17:06:11.715Z"
   },
   {
    "duration": 180,
    "start_time": "2021-08-16T17:09:19.081Z"
   },
   {
    "duration": 13,
    "start_time": "2021-08-16T17:09:32.149Z"
   },
   {
    "duration": 193,
    "start_time": "2021-08-16T17:12:25.824Z"
   },
   {
    "duration": 15,
    "start_time": "2021-08-16T17:12:48.426Z"
   },
   {
    "duration": 17,
    "start_time": "2021-08-16T17:13:37.949Z"
   },
   {
    "duration": 16,
    "start_time": "2021-08-16T17:14:36.781Z"
   },
   {
    "duration": 13,
    "start_time": "2021-08-16T17:17:38.014Z"
   },
   {
    "duration": 43,
    "start_time": "2021-08-16T17:30:00.358Z"
   },
   {
    "duration": 38,
    "start_time": "2021-08-16T17:30:19.475Z"
   },
   {
    "duration": 191,
    "start_time": "2021-08-16T17:38:50.326Z"
   },
   {
    "duration": 203,
    "start_time": "2021-08-16T17:39:44.464Z"
   },
   {
    "duration": 60,
    "start_time": "2021-08-16T17:41:57.088Z"
   },
   {
    "duration": 55,
    "start_time": "2021-08-16T17:42:20.791Z"
   },
   {
    "duration": 7,
    "start_time": "2021-08-16T17:42:38.543Z"
   },
   {
    "duration": 197,
    "start_time": "2021-08-16T17:42:45.147Z"
   },
   {
    "duration": 198,
    "start_time": "2021-08-16T17:43:20.774Z"
   },
   {
    "duration": 175,
    "start_time": "2021-08-16T17:44:51.701Z"
   },
   {
    "duration": 182,
    "start_time": "2021-08-16T17:45:08.436Z"
   },
   {
    "duration": 249,
    "start_time": "2021-08-16T17:45:12.661Z"
   },
   {
    "duration": 5,
    "start_time": "2021-08-16T17:47:19.352Z"
   },
   {
    "duration": 4,
    "start_time": "2021-08-16T17:47:53.810Z"
   },
   {
    "duration": 343,
    "start_time": "2021-08-16T17:50:05.670Z"
   },
   {
    "duration": 191,
    "start_time": "2021-08-16T17:52:17.481Z"
   },
   {
    "duration": 185,
    "start_time": "2021-08-16T17:52:24.933Z"
   },
   {
    "duration": 182,
    "start_time": "2021-08-16T17:52:50.023Z"
   },
   {
    "duration": 2,
    "start_time": "2021-08-16T17:52:51.293Z"
   },
   {
    "duration": 3,
    "start_time": "2021-08-16T17:52:58.586Z"
   },
   {
    "duration": 57,
    "start_time": "2021-08-16T17:52:58.840Z"
   },
   {
    "duration": 38,
    "start_time": "2021-08-16T17:53:00.430Z"
   },
   {
    "duration": 17,
    "start_time": "2021-08-16T17:53:00.966Z"
   },
   {
    "duration": 9,
    "start_time": "2021-08-16T17:53:01.338Z"
   },
   {
    "duration": 14,
    "start_time": "2021-08-16T17:53:01.897Z"
   },
   {
    "duration": 6,
    "start_time": "2021-08-16T17:53:02.510Z"
   },
   {
    "duration": 6,
    "start_time": "2021-08-16T17:53:03.280Z"
   },
   {
    "duration": 7,
    "start_time": "2021-08-16T17:53:03.711Z"
   },
   {
    "duration": 13,
    "start_time": "2021-08-16T17:53:03.888Z"
   },
   {
    "duration": 6,
    "start_time": "2021-08-16T17:53:05.500Z"
   },
   {
    "duration": 29,
    "start_time": "2021-08-16T17:53:06.356Z"
   },
   {
    "duration": 6,
    "start_time": "2021-08-16T17:53:07.957Z"
   },
   {
    "duration": 18,
    "start_time": "2021-08-16T17:53:08.464Z"
   },
   {
    "duration": 6,
    "start_time": "2021-08-16T17:53:08.791Z"
   },
   {
    "duration": 7,
    "start_time": "2021-08-16T17:53:09.296Z"
   },
   {
    "duration": 13,
    "start_time": "2021-08-16T17:53:09.745Z"
   },
   {
    "duration": 5,
    "start_time": "2021-08-16T17:53:10.866Z"
   },
   {
    "duration": 15,
    "start_time": "2021-08-16T17:53:11.295Z"
   },
   {
    "duration": 16,
    "start_time": "2021-08-16T17:53:12.916Z"
   },
   {
    "duration": 4,
    "start_time": "2021-08-16T17:53:14.082Z"
   },
   {
    "duration": 16,
    "start_time": "2021-08-16T17:53:14.267Z"
   },
   {
    "duration": 446,
    "start_time": "2021-08-16T17:53:14.429Z"
   },
   {
    "duration": 402,
    "start_time": "2021-08-16T17:53:15.029Z"
   },
   {
    "duration": 398,
    "start_time": "2021-08-16T17:53:15.498Z"
   },
   {
    "duration": 53,
    "start_time": "2021-08-16T17:53:16.078Z"
   },
   {
    "duration": 9,
    "start_time": "2021-08-16T17:53:16.289Z"
   },
   {
    "duration": 6,
    "start_time": "2021-08-16T17:53:16.868Z"
   },
   {
    "duration": 9,
    "start_time": "2021-08-16T17:53:17.247Z"
   },
   {
    "duration": 5,
    "start_time": "2021-08-16T17:53:17.422Z"
   },
   {
    "duration": 28,
    "start_time": "2021-08-16T17:53:18.366Z"
   },
   {
    "duration": 342,
    "start_time": "2021-08-16T17:53:18.900Z"
   },
   {
    "duration": 13,
    "start_time": "2021-08-16T17:53:19.598Z"
   },
   {
    "duration": 361,
    "start_time": "2021-08-16T17:53:20.241Z"
   },
   {
    "duration": 421,
    "start_time": "2021-08-16T17:53:21.737Z"
   },
   {
    "duration": 425,
    "start_time": "2021-08-16T17:53:22.160Z"
   },
   {
    "duration": 35,
    "start_time": "2021-08-16T17:53:22.587Z"
   },
   {
    "duration": 180,
    "start_time": "2021-08-16T17:53:25.848Z"
   },
   {
    "duration": 17,
    "start_time": "2021-08-16T17:53:55.268Z"
   },
   {
    "duration": 20,
    "start_time": "2021-08-16T17:55:22.374Z"
   },
   {
    "duration": 11,
    "start_time": "2021-08-16T17:56:51.348Z"
   },
   {
    "duration": 178,
    "start_time": "2021-08-16T17:57:06.729Z"
   },
   {
    "duration": 20,
    "start_time": "2021-08-16T17:58:41.219Z"
   },
   {
    "duration": 208,
    "start_time": "2021-08-16T17:59:31.364Z"
   },
   {
    "duration": 686,
    "start_time": "2021-08-16T18:00:56.853Z"
   },
   {
    "duration": 807,
    "start_time": "2021-08-16T18:01:14.281Z"
   },
   {
    "duration": 21,
    "start_time": "2021-08-16T18:01:33.446Z"
   },
   {
    "duration": 466,
    "start_time": "2021-08-16T18:03:31.877Z"
   },
   {
    "duration": 21,
    "start_time": "2021-08-16T18:03:44.205Z"
   },
   {
    "duration": 258,
    "start_time": "2021-08-16T18:04:15.363Z"
   },
   {
    "duration": 9,
    "start_time": "2021-08-16T18:05:47.889Z"
   },
   {
    "duration": 20,
    "start_time": "2021-08-16T18:06:30.984Z"
   },
   {
    "duration": 260,
    "start_time": "2021-08-16T18:06:42.325Z"
   },
   {
    "duration": 21,
    "start_time": "2021-08-16T18:10:01.557Z"
   },
   {
    "duration": 16,
    "start_time": "2021-08-16T18:10:45.977Z"
   },
   {
    "duration": 21,
    "start_time": "2021-08-16T18:11:26.083Z"
   },
   {
    "duration": 493,
    "start_time": "2021-08-16T18:11:46.706Z"
   },
   {
    "duration": 60,
    "start_time": "2021-08-16T18:16:19.938Z"
   },
   {
    "duration": 54,
    "start_time": "2021-08-16T18:17:32.356Z"
   },
   {
    "duration": 61,
    "start_time": "2021-08-16T18:17:44.662Z"
   },
   {
    "duration": 9,
    "start_time": "2021-08-16T18:18:00.692Z"
   },
   {
    "duration": 9,
    "start_time": "2021-08-16T18:18:29.654Z"
   },
   {
    "duration": 8,
    "start_time": "2021-08-16T18:18:49.744Z"
   },
   {
    "duration": 9,
    "start_time": "2021-08-16T18:19:01.548Z"
   },
   {
    "duration": 8,
    "start_time": "2021-08-16T18:19:08.056Z"
   },
   {
    "duration": 13,
    "start_time": "2021-08-16T18:19:49.895Z"
   },
   {
    "duration": 19,
    "start_time": "2021-08-16T18:20:27.332Z"
   },
   {
    "duration": 22,
    "start_time": "2021-08-16T18:20:54.469Z"
   },
   {
    "duration": 38,
    "start_time": "2021-08-16T18:21:14.703Z"
   },
   {
    "duration": 28,
    "start_time": "2021-08-16T18:21:41.691Z"
   },
   {
    "duration": 34,
    "start_time": "2021-08-16T18:22:13.801Z"
   },
   {
    "duration": 39,
    "start_time": "2021-08-16T18:22:35.839Z"
   },
   {
    "duration": 42,
    "start_time": "2021-08-16T18:23:04.469Z"
   },
   {
    "duration": 45,
    "start_time": "2021-08-16T18:23:38.415Z"
   },
   {
    "duration": 17,
    "start_time": "2021-08-16T18:27:18.464Z"
   },
   {
    "duration": 5,
    "start_time": "2021-08-16T18:29:08.651Z"
   },
   {
    "duration": 56,
    "start_time": "2021-08-16T18:30:40.889Z"
   },
   {
    "duration": 45,
    "start_time": "2021-08-16T18:35:22.751Z"
   },
   {
    "duration": 12,
    "start_time": "2021-08-16T18:44:53.305Z"
   },
   {
    "duration": 13,
    "start_time": "2021-08-16T18:45:39.504Z"
   },
   {
    "duration": 10,
    "start_time": "2021-08-16T18:50:45.516Z"
   },
   {
    "duration": 10,
    "start_time": "2021-08-16T19:04:17.865Z"
   },
   {
    "duration": 12,
    "start_time": "2021-08-16T19:04:50.051Z"
   },
   {
    "duration": 187,
    "start_time": "2021-08-16T19:08:38.301Z"
   },
   {
    "duration": 13,
    "start_time": "2021-08-16T19:08:57.718Z"
   },
   {
    "duration": 13,
    "start_time": "2021-08-16T19:10:36.261Z"
   },
   {
    "duration": 186,
    "start_time": "2021-08-16T19:10:49.176Z"
   },
   {
    "duration": 11,
    "start_time": "2021-08-16T19:10:56.527Z"
   },
   {
    "duration": 209,
    "start_time": "2021-08-16T19:11:34.775Z"
   },
   {
    "duration": 14,
    "start_time": "2021-08-16T19:11:43.617Z"
   },
   {
    "duration": 18,
    "start_time": "2021-08-16T19:12:55.487Z"
   },
   {
    "duration": 12,
    "start_time": "2021-08-16T19:13:26.058Z"
   },
   {
    "duration": 13,
    "start_time": "2021-08-16T19:13:39.651Z"
   },
   {
    "duration": 13,
    "start_time": "2021-08-16T19:14:00.955Z"
   },
   {
    "duration": 18,
    "start_time": "2021-08-16T19:14:15.779Z"
   },
   {
    "duration": 275,
    "start_time": "2021-08-16T19:25:59.797Z"
   },
   {
    "duration": 415,
    "start_time": "2021-08-16T19:26:18.822Z"
   },
   {
    "duration": 358,
    "start_time": "2021-08-16T19:27:10.997Z"
   },
   {
    "duration": 356,
    "start_time": "2021-08-16T19:28:04.507Z"
   },
   {
    "duration": 363,
    "start_time": "2021-08-16T19:28:22.677Z"
   },
   {
    "duration": 473,
    "start_time": "2021-08-16T19:28:32.382Z"
   },
   {
    "duration": 483,
    "start_time": "2021-08-16T19:29:22.744Z"
   },
   {
    "duration": 489,
    "start_time": "2021-08-16T19:29:45.289Z"
   },
   {
    "duration": 186,
    "start_time": "2021-08-16T19:33:01.017Z"
   },
   {
    "duration": 13,
    "start_time": "2021-08-16T19:33:13.739Z"
   },
   {
    "duration": 15,
    "start_time": "2021-08-16T19:33:59.914Z"
   },
   {
    "duration": 12,
    "start_time": "2021-08-16T19:34:59.160Z"
   },
   {
    "duration": 12,
    "start_time": "2021-08-16T19:35:23.554Z"
   },
   {
    "duration": 12,
    "start_time": "2021-08-16T19:36:14.434Z"
   },
   {
    "duration": 13,
    "start_time": "2021-08-16T19:36:32.560Z"
   },
   {
    "duration": 100,
    "start_time": "2021-08-16T19:43:42.376Z"
   },
   {
    "duration": 12,
    "start_time": "2021-08-16T19:43:43.168Z"
   },
   {
    "duration": 14,
    "start_time": "2021-08-16T19:43:44.766Z"
   },
   {
    "duration": 398,
    "start_time": "2021-08-16T19:45:08.002Z"
   },
   {
    "duration": 4,
    "start_time": "2021-08-16T19:45:29.324Z"
   },
   {
    "duration": 75,
    "start_time": "2021-08-16T19:47:18.466Z"
   },
   {
    "duration": 63,
    "start_time": "2021-08-16T19:47:39.684Z"
   },
   {
    "duration": 56,
    "start_time": "2021-08-16T19:48:00.787Z"
   },
   {
    "duration": 27,
    "start_time": "2021-08-16T19:50:31.140Z"
   },
   {
    "duration": 26,
    "start_time": "2021-08-16T19:51:25.580Z"
   },
   {
    "duration": 24,
    "start_time": "2021-08-16T19:53:04.427Z"
   },
   {
    "duration": 178,
    "start_time": "2021-08-16T19:53:58.700Z"
   },
   {
    "duration": 23,
    "start_time": "2021-08-16T19:54:11.850Z"
   },
   {
    "duration": 4,
    "start_time": "2021-08-16T19:55:45.552Z"
   },
   {
    "duration": 25,
    "start_time": "2021-08-16T19:56:38.130Z"
   },
   {
    "duration": 36,
    "start_time": "2021-08-16T19:58:18.388Z"
   },
   {
    "duration": 22,
    "start_time": "2021-08-16T19:58:38.163Z"
   },
   {
    "duration": 4,
    "start_time": "2021-08-16T19:59:51.845Z"
   },
   {
    "duration": 24,
    "start_time": "2021-08-16T19:59:52.721Z"
   },
   {
    "duration": 11,
    "start_time": "2021-08-16T20:01:50.254Z"
   },
   {
    "duration": 10,
    "start_time": "2021-08-16T20:02:13.216Z"
   },
   {
    "duration": 10,
    "start_time": "2021-08-16T20:02:54.605Z"
   },
   {
    "duration": 10,
    "start_time": "2021-08-16T20:03:14.425Z"
   },
   {
    "duration": 12,
    "start_time": "2021-08-16T20:06:50.492Z"
   },
   {
    "duration": 10,
    "start_time": "2021-08-16T20:07:58.607Z"
   },
   {
    "duration": 195,
    "start_time": "2021-08-16T20:10:28.321Z"
   },
   {
    "duration": 172,
    "start_time": "2021-08-16T20:11:20.089Z"
   },
   {
    "duration": 9,
    "start_time": "2021-08-16T20:11:35.689Z"
   },
   {
    "duration": 4,
    "start_time": "2021-08-16T20:12:14.130Z"
   },
   {
    "duration": 2189,
    "start_time": "2021-08-16T20:12:32.187Z"
   },
   {
    "duration": 2210,
    "start_time": "2021-08-16T20:12:35.715Z"
   },
   {
    "duration": 2177,
    "start_time": "2021-08-16T20:12:39.013Z"
   },
   {
    "duration": 170,
    "start_time": "2021-08-16T20:20:33.228Z"
   },
   {
    "duration": 171,
    "start_time": "2021-08-16T20:20:51.486Z"
   },
   {
    "duration": 261,
    "start_time": "2021-08-16T20:21:16.187Z"
   },
   {
    "duration": 200,
    "start_time": "2021-08-16T20:21:32.051Z"
   },
   {
    "duration": 164,
    "start_time": "2021-08-16T20:24:38.449Z"
   },
   {
    "duration": 3,
    "start_time": "2021-08-16T20:28:14.067Z"
   },
   {
    "duration": 64,
    "start_time": "2021-08-16T20:28:14.074Z"
   },
   {
    "duration": 63,
    "start_time": "2021-08-16T20:28:14.140Z"
   },
   {
    "duration": 22,
    "start_time": "2021-08-16T20:28:14.205Z"
   },
   {
    "duration": 12,
    "start_time": "2021-08-16T20:28:14.229Z"
   },
   {
    "duration": 54,
    "start_time": "2021-08-16T20:28:14.243Z"
   },
   {
    "duration": 6,
    "start_time": "2021-08-16T20:28:14.299Z"
   },
   {
    "duration": 6,
    "start_time": "2021-08-16T20:28:14.307Z"
   },
   {
    "duration": 7,
    "start_time": "2021-08-16T20:28:14.317Z"
   },
   {
    "duration": 14,
    "start_time": "2021-08-16T20:28:14.326Z"
   },
   {
    "duration": 6,
    "start_time": "2021-08-16T20:28:14.385Z"
   },
   {
    "duration": 31,
    "start_time": "2021-08-16T20:28:14.393Z"
   },
   {
    "duration": 6,
    "start_time": "2021-08-16T20:28:14.427Z"
   },
   {
    "duration": 22,
    "start_time": "2021-08-16T20:28:14.435Z"
   },
   {
    "duration": 6,
    "start_time": "2021-08-16T20:28:14.486Z"
   },
   {
    "duration": 9,
    "start_time": "2021-08-16T20:28:14.494Z"
   },
   {
    "duration": 19,
    "start_time": "2021-08-16T20:28:14.505Z"
   },
   {
    "duration": 6,
    "start_time": "2021-08-16T20:28:14.526Z"
   },
   {
    "duration": 55,
    "start_time": "2021-08-16T20:28:14.534Z"
   },
   {
    "duration": 23,
    "start_time": "2021-08-16T20:28:14.592Z"
   },
   {
    "duration": 2,
    "start_time": "2021-08-16T20:28:14.617Z"
   },
   {
    "duration": 18,
    "start_time": "2021-08-16T20:28:14.621Z"
   },
   {
    "duration": 472,
    "start_time": "2021-08-16T20:28:14.640Z"
   },
   {
    "duration": 420,
    "start_time": "2021-08-16T20:28:15.115Z"
   },
   {
    "duration": 404,
    "start_time": "2021-08-16T20:28:15.537Z"
   },
   {
    "duration": 64,
    "start_time": "2021-08-16T20:28:15.942Z"
   },
   {
    "duration": 9,
    "start_time": "2021-08-16T20:28:16.007Z"
   },
   {
    "duration": 8,
    "start_time": "2021-08-16T20:28:16.017Z"
   },
   {
    "duration": 16,
    "start_time": "2021-08-16T20:28:16.027Z"
   },
   {
    "duration": 7,
    "start_time": "2021-08-16T20:28:16.044Z"
   },
   {
    "duration": 44,
    "start_time": "2021-08-16T20:28:16.052Z"
   },
   {
    "duration": 347,
    "start_time": "2021-08-16T20:28:16.098Z"
   },
   {
    "duration": 14,
    "start_time": "2021-08-16T20:28:16.447Z"
   },
   {
    "duration": 312,
    "start_time": "2021-08-16T20:28:16.463Z"
   },
   {
    "duration": 435,
    "start_time": "2021-08-16T20:28:16.777Z"
   },
   {
    "duration": 425,
    "start_time": "2021-08-16T20:28:17.214Z"
   },
   {
    "duration": 49,
    "start_time": "2021-08-16T20:28:17.641Z"
   },
   {
    "duration": 20,
    "start_time": "2021-08-16T20:28:17.692Z"
   },
   {
    "duration": 188,
    "start_time": "2021-08-16T20:28:17.714Z"
   },
   {
    "duration": -171,
    "start_time": "2021-08-16T20:28:18.075Z"
   },
   {
    "duration": -176,
    "start_time": "2021-08-16T20:28:18.081Z"
   },
   {
    "duration": -186,
    "start_time": "2021-08-16T20:28:18.092Z"
   },
   {
    "duration": -191,
    "start_time": "2021-08-16T20:28:18.098Z"
   },
   {
    "duration": -196,
    "start_time": "2021-08-16T20:28:18.104Z"
   },
   {
    "duration": -200,
    "start_time": "2021-08-16T20:28:18.109Z"
   },
   {
    "duration": -205,
    "start_time": "2021-08-16T20:28:18.115Z"
   },
   {
    "duration": -209,
    "start_time": "2021-08-16T20:28:18.120Z"
   },
   {
    "duration": -304,
    "start_time": "2021-08-16T20:28:18.216Z"
   },
   {
    "duration": -212,
    "start_time": "2021-08-16T20:28:18.221Z"
   },
   {
    "duration": -217,
    "start_time": "2021-08-16T20:28:18.227Z"
   },
   {
    "duration": -222,
    "start_time": "2021-08-16T20:28:18.233Z"
   },
   {
    "duration": -228,
    "start_time": "2021-08-16T20:28:18.240Z"
   },
   {
    "duration": -232,
    "start_time": "2021-08-16T20:28:18.245Z"
   },
   {
    "duration": -237,
    "start_time": "2021-08-16T20:28:18.251Z"
   },
   {
    "duration": -242,
    "start_time": "2021-08-16T20:28:18.257Z"
   },
   {
    "duration": -248,
    "start_time": "2021-08-16T20:28:18.264Z"
   },
   {
    "duration": -253,
    "start_time": "2021-08-16T20:28:18.270Z"
   },
   {
    "duration": -267,
    "start_time": "2021-08-16T20:28:18.285Z"
   },
   {
    "duration": -284,
    "start_time": "2021-08-16T20:28:18.303Z"
   },
   {
    "duration": 19,
    "start_time": "2021-08-16T20:29:12.396Z"
   },
   {
    "duration": 188,
    "start_time": "2021-08-16T20:29:12.656Z"
   },
   {
    "duration": 5,
    "start_time": "2021-08-16T20:29:13.118Z"
   },
   {
    "duration": 47,
    "start_time": "2021-08-16T20:29:13.897Z"
   },
   {
    "duration": 23,
    "start_time": "2021-08-16T20:29:14.578Z"
   },
   {
    "duration": 5,
    "start_time": "2021-08-16T20:29:14.982Z"
   },
   {
    "duration": 48,
    "start_time": "2021-08-16T20:29:15.553Z"
   },
   {
    "duration": 14,
    "start_time": "2021-08-16T20:29:16.288Z"
   },
   {
    "duration": 9,
    "start_time": "2021-08-16T20:29:16.598Z"
   },
   {
    "duration": 13,
    "start_time": "2021-08-16T20:29:17.227Z"
   },
   {
    "duration": 14,
    "start_time": "2021-08-16T20:29:17.452Z"
   },
   {
    "duration": 13,
    "start_time": "2021-08-16T20:29:17.568Z"
   },
   {
    "duration": 12,
    "start_time": "2021-08-16T20:29:18.070Z"
   },
   {
    "duration": 15,
    "start_time": "2021-08-16T20:29:18.254Z"
   },
   {
    "duration": 14,
    "start_time": "2021-08-16T20:29:18.502Z"
   },
   {
    "duration": 4,
    "start_time": "2021-08-16T20:29:19.327Z"
   },
   {
    "duration": 23,
    "start_time": "2021-08-16T20:29:19.457Z"
   },
   {
    "duration": 12,
    "start_time": "2021-08-16T20:29:19.624Z"
   },
   {
    "duration": 10,
    "start_time": "2021-08-16T20:29:19.798Z"
   },
   {
    "duration": 11,
    "start_time": "2021-08-16T20:29:20.129Z"
   },
   {
    "duration": 19,
    "start_time": "2021-08-16T20:29:21.266Z"
   },
   {
    "duration": 71,
    "start_time": "2021-08-16T20:29:21.405Z"
   },
   {
    "duration": 511,
    "start_time": "2021-08-16T20:31:56.906Z"
   },
   {
    "duration": 7,
    "start_time": "2021-08-16T20:32:18.443Z"
   },
   {
    "duration": 294,
    "start_time": "2021-08-16T20:32:19.850Z"
   },
   {
    "duration": 9,
    "start_time": "2021-08-16T20:35:36.380Z"
   },
   {
    "duration": 287,
    "start_time": "2021-08-16T20:36:09.406Z"
   },
   {
    "duration": 7,
    "start_time": "2021-08-16T20:38:17.797Z"
   },
   {
    "duration": 5,
    "start_time": "2021-08-16T20:38:18.537Z"
   },
   {
    "duration": 8,
    "start_time": "2021-08-16T20:41:22.749Z"
   },
   {
    "duration": 5,
    "start_time": "2021-08-16T20:41:54.555Z"
   },
   {
    "duration": 56,
    "start_time": "2021-08-16T20:43:24.858Z"
   },
   {
    "duration": 898,
    "start_time": "2021-08-17T07:27:45.658Z"
   },
   {
    "duration": 98,
    "start_time": "2021-08-17T07:27:46.559Z"
   },
   {
    "duration": 65,
    "start_time": "2021-08-17T07:27:46.661Z"
   },
   {
    "duration": 62,
    "start_time": "2021-08-17T07:27:46.730Z"
   },
   {
    "duration": 19,
    "start_time": "2021-08-17T07:27:46.795Z"
   },
   {
    "duration": 54,
    "start_time": "2021-08-17T07:27:46.817Z"
   },
   {
    "duration": 18,
    "start_time": "2021-08-17T07:27:46.876Z"
   },
   {
    "duration": 13,
    "start_time": "2021-08-17T07:27:46.898Z"
   },
   {
    "duration": 22,
    "start_time": "2021-08-17T07:27:46.914Z"
   },
   {
    "duration": 49,
    "start_time": "2021-08-17T07:27:46.938Z"
   },
   {
    "duration": 9,
    "start_time": "2021-08-17T07:27:46.991Z"
   },
   {
    "duration": 78,
    "start_time": "2021-08-17T07:27:47.003Z"
   },
   {
    "duration": 7,
    "start_time": "2021-08-17T07:27:47.084Z"
   },
   {
    "duration": 48,
    "start_time": "2021-08-17T07:27:47.094Z"
   },
   {
    "duration": 15,
    "start_time": "2021-08-17T07:27:47.145Z"
   },
   {
    "duration": 30,
    "start_time": "2021-08-17T07:27:47.163Z"
   },
   {
    "duration": 23,
    "start_time": "2021-08-17T07:27:47.196Z"
   },
   {
    "duration": 7,
    "start_time": "2021-08-17T07:27:47.222Z"
   },
   {
    "duration": 63,
    "start_time": "2021-08-17T07:27:47.231Z"
   },
   {
    "duration": 42,
    "start_time": "2021-08-17T07:27:47.297Z"
   },
   {
    "duration": 157,
    "start_time": "2021-08-17T07:27:47.342Z"
   },
   {
    "duration": 23,
    "start_time": "2021-08-17T07:27:47.501Z"
   },
   {
    "duration": 1024,
    "start_time": "2021-08-17T07:27:47.532Z"
   },
   {
    "duration": 882,
    "start_time": "2021-08-17T07:27:48.560Z"
   },
   {
    "duration": 740,
    "start_time": "2021-08-17T07:27:49.445Z"
   },
   {
    "duration": 109,
    "start_time": "2021-08-17T07:27:50.189Z"
   },
   {
    "duration": 19,
    "start_time": "2021-08-17T07:27:50.301Z"
   },
   {
    "duration": 36,
    "start_time": "2021-08-17T07:27:50.323Z"
   },
   {
    "duration": 32,
    "start_time": "2021-08-17T07:27:50.362Z"
   },
   {
    "duration": 11,
    "start_time": "2021-08-17T07:27:50.396Z"
   },
   {
    "duration": 54,
    "start_time": "2021-08-17T07:27:50.409Z"
   },
   {
    "duration": 791,
    "start_time": "2021-08-17T07:27:50.466Z"
   },
   {
    "duration": 30,
    "start_time": "2021-08-17T07:27:51.260Z"
   },
   {
    "duration": 576,
    "start_time": "2021-08-17T07:27:51.293Z"
   },
   {
    "duration": 743,
    "start_time": "2021-08-17T07:27:51.872Z"
   },
   {
    "duration": 714,
    "start_time": "2021-08-17T07:27:52.617Z"
   },
   {
    "duration": 76,
    "start_time": "2021-08-17T07:27:53.333Z"
   },
   {
    "duration": 25,
    "start_time": "2021-08-17T07:27:53.412Z"
   },
   {
    "duration": 786,
    "start_time": "2021-08-17T07:27:53.457Z"
   },
   {
    "duration": -157,
    "start_time": "2021-08-17T07:27:54.402Z"
   },
   {
    "duration": -161,
    "start_time": "2021-08-17T07:27:54.408Z"
   },
   {
    "duration": -164,
    "start_time": "2021-08-17T07:27:54.412Z"
   },
   {
    "duration": -166,
    "start_time": "2021-08-17T07:27:54.416Z"
   },
   {
    "duration": -169,
    "start_time": "2021-08-17T07:27:54.420Z"
   },
   {
    "duration": -171,
    "start_time": "2021-08-17T07:27:54.424Z"
   },
   {
    "duration": -174,
    "start_time": "2021-08-17T07:27:54.428Z"
   },
   {
    "duration": -178,
    "start_time": "2021-08-17T07:27:54.434Z"
   },
   {
    "duration": -180,
    "start_time": "2021-08-17T07:27:54.438Z"
   },
   {
    "duration": -182,
    "start_time": "2021-08-17T07:27:54.442Z"
   },
   {
    "duration": -190,
    "start_time": "2021-08-17T07:27:54.451Z"
   },
   {
    "duration": -191,
    "start_time": "2021-08-17T07:27:54.455Z"
   },
   {
    "duration": -193,
    "start_time": "2021-08-17T07:27:54.458Z"
   },
   {
    "duration": -195,
    "start_time": "2021-08-17T07:27:54.462Z"
   },
   {
    "duration": -198,
    "start_time": "2021-08-17T07:27:54.467Z"
   },
   {
    "duration": -200,
    "start_time": "2021-08-17T07:27:54.471Z"
   },
   {
    "duration": -203,
    "start_time": "2021-08-17T07:27:54.476Z"
   },
   {
    "duration": -205,
    "start_time": "2021-08-17T07:27:54.480Z"
   },
   {
    "duration": -208,
    "start_time": "2021-08-17T07:27:54.484Z"
   },
   {
    "duration": -209,
    "start_time": "2021-08-17T07:27:54.487Z"
   },
   {
    "duration": -211,
    "start_time": "2021-08-17T07:27:54.491Z"
   },
   {
    "duration": -220,
    "start_time": "2021-08-17T07:27:54.501Z"
   },
   {
    "duration": -218,
    "start_time": "2021-08-17T07:27:54.505Z"
   },
   {
    "duration": 14,
    "start_time": "2021-08-17T08:12:10.330Z"
   },
   {
    "duration": 6,
    "start_time": "2021-08-17T08:21:09.426Z"
   },
   {
    "duration": 69,
    "start_time": "2021-08-17T08:21:09.438Z"
   },
   {
    "duration": 58,
    "start_time": "2021-08-17T08:21:09.509Z"
   },
   {
    "duration": 6,
    "start_time": "2021-08-17T08:21:09.571Z"
   },
   {
    "duration": 86,
    "start_time": "2021-08-17T08:21:09.579Z"
   },
   {
    "duration": 25,
    "start_time": "2021-08-17T08:21:09.668Z"
   },
   {
    "duration": 13,
    "start_time": "2021-08-17T08:21:09.695Z"
   },
   {
    "duration": 53,
    "start_time": "2021-08-17T08:21:09.711Z"
   },
   {
    "duration": 21,
    "start_time": "2021-08-17T08:21:09.769Z"
   },
   {
    "duration": 16,
    "start_time": "2021-08-17T08:21:09.793Z"
   },
   {
    "duration": 52,
    "start_time": "2021-08-17T08:21:09.812Z"
   },
   {
    "duration": 22,
    "start_time": "2021-08-17T08:21:09.866Z"
   },
   {
    "duration": 17,
    "start_time": "2021-08-17T08:21:09.891Z"
   },
   {
    "duration": 6,
    "start_time": "2021-08-17T08:21:09.910Z"
   },
   {
    "duration": 38,
    "start_time": "2021-08-17T08:21:09.957Z"
   },
   {
    "duration": 14,
    "start_time": "2021-08-17T08:21:09.997Z"
   },
   {
    "duration": 44,
    "start_time": "2021-08-17T08:21:10.013Z"
   },
   {
    "duration": 16,
    "start_time": "2021-08-17T08:21:10.060Z"
   },
   {
    "duration": 12,
    "start_time": "2021-08-17T08:21:10.079Z"
   },
   {
    "duration": 556,
    "start_time": "2021-08-17T08:21:10.094Z"
   },
   {
    "duration": 13,
    "start_time": "2021-08-17T08:21:10.656Z"
   },
   {
    "duration": 11,
    "start_time": "2021-08-17T08:21:10.673Z"
   },
   {
    "duration": 124,
    "start_time": "2021-08-17T08:21:10.687Z"
   },
   {
    "duration": 6,
    "start_time": "2021-08-17T08:59:23.746Z"
   },
   {
    "duration": 11,
    "start_time": "2021-08-17T09:15:44.703Z"
   },
   {
    "duration": 352,
    "start_time": "2021-08-17T09:16:12.072Z"
   },
   {
    "duration": 294,
    "start_time": "2021-08-17T09:16:23.664Z"
   },
   {
    "duration": 12,
    "start_time": "2021-08-17T09:16:50.787Z"
   },
   {
    "duration": 15,
    "start_time": "2021-08-17T09:16:56.426Z"
   },
   {
    "duration": 289,
    "start_time": "2021-08-17T09:17:38.430Z"
   },
   {
    "duration": 301,
    "start_time": "2021-08-17T09:17:47.117Z"
   },
   {
    "duration": 6668,
    "start_time": "2021-08-17T09:18:20.358Z"
   },
   {
    "duration": 282,
    "start_time": "2021-08-17T09:18:42.917Z"
   },
   {
    "duration": 392,
    "start_time": "2021-08-17T09:19:05.069Z"
   },
   {
    "duration": 308,
    "start_time": "2021-08-17T09:30:56.344Z"
   },
   {
    "duration": 295,
    "start_time": "2021-08-17T09:31:10.392Z"
   },
   {
    "duration": 410,
    "start_time": "2021-08-17T09:31:16.216Z"
   },
   {
    "duration": 26,
    "start_time": "2021-08-17T09:36:03.459Z"
   },
   {
    "duration": 8573,
    "start_time": "2021-08-17T09:36:09.153Z"
   },
   {
    "duration": 7543,
    "start_time": "2021-08-17T09:36:19.874Z"
   },
   {
    "duration": 21,
    "start_time": "2021-08-17T09:36:28.545Z"
   },
   {
    "duration": 2660,
    "start_time": "2021-08-17T09:36:38.585Z"
   },
   {
    "duration": 1881,
    "start_time": "2021-08-17T09:36:43.191Z"
   },
   {
    "duration": 2004,
    "start_time": "2021-08-17T09:36:46.879Z"
   },
   {
    "duration": 13,
    "start_time": "2021-08-17T09:37:01.675Z"
   },
   {
    "duration": 210,
    "start_time": "2021-08-17T09:37:53.548Z"
   },
   {
    "duration": 228,
    "start_time": "2021-08-17T09:38:09.168Z"
   },
   {
    "duration": 206,
    "start_time": "2021-08-17T09:40:06.285Z"
   },
   {
    "duration": 198,
    "start_time": "2021-08-17T09:40:31.111Z"
   },
   {
    "duration": 286,
    "start_time": "2021-08-17T09:40:41.704Z"
   },
   {
    "duration": 199,
    "start_time": "2021-08-17T09:40:44.572Z"
   },
   {
    "duration": 181,
    "start_time": "2021-08-17T09:40:54.469Z"
   },
   {
    "duration": 30,
    "start_time": "2021-08-17T09:46:16.255Z"
   },
   {
    "duration": 35,
    "start_time": "2021-08-17T09:46:41.744Z"
   },
   {
    "duration": 6,
    "start_time": "2021-08-17T09:47:01.143Z"
   },
   {
    "duration": 37,
    "start_time": "2021-08-17T09:47:04.062Z"
   },
   {
    "duration": 119,
    "start_time": "2021-08-18T16:20:40.674Z"
   },
   {
    "duration": 860,
    "start_time": "2021-08-18T16:21:09.516Z"
   },
   {
    "duration": 112,
    "start_time": "2021-08-18T16:21:10.378Z"
   },
   {
    "duration": 82,
    "start_time": "2021-08-18T16:21:11.679Z"
   },
   {
    "duration": 35,
    "start_time": "2021-08-18T16:21:13.200Z"
   },
   {
    "duration": 16,
    "start_time": "2021-08-18T16:21:13.887Z"
   },
   {
    "duration": 20,
    "start_time": "2021-08-18T16:21:15.100Z"
   },
   {
    "duration": 8,
    "start_time": "2021-08-18T16:21:15.920Z"
   },
   {
    "duration": 10,
    "start_time": "2021-08-18T16:21:17.169Z"
   },
   {
    "duration": 15,
    "start_time": "2021-08-18T16:21:17.807Z"
   },
   {
    "duration": 19,
    "start_time": "2021-08-18T16:21:18.022Z"
   },
   {
    "duration": 8,
    "start_time": "2021-08-18T16:21:19.127Z"
   },
   {
    "duration": 39,
    "start_time": "2021-08-18T16:21:19.762Z"
   },
   {
    "duration": 8,
    "start_time": "2021-08-18T16:21:20.995Z"
   },
   {
    "duration": 41,
    "start_time": "2021-08-18T16:21:21.450Z"
   },
   {
    "duration": 7,
    "start_time": "2021-08-18T16:21:21.849Z"
   },
   {
    "duration": 10,
    "start_time": "2021-08-18T16:21:22.308Z"
   },
   {
    "duration": 17,
    "start_time": "2021-08-18T16:21:22.898Z"
   },
   {
    "duration": 8,
    "start_time": "2021-08-18T16:21:24.579Z"
   },
   {
    "duration": 21,
    "start_time": "2021-08-18T16:21:25.394Z"
   },
   {
    "duration": 23,
    "start_time": "2021-08-18T16:21:26.833Z"
   },
   {
    "duration": 113,
    "start_time": "2021-08-18T16:21:41.262Z"
   },
   {
    "duration": 614,
    "start_time": "2021-08-18T16:25:48.247Z"
   },
   {
    "duration": 560,
    "start_time": "2021-08-18T16:25:49.661Z"
   },
   {
    "duration": 79,
    "start_time": "2021-08-18T16:25:51.171Z"
   },
   {
    "duration": 13,
    "start_time": "2021-08-18T16:25:51.702Z"
   },
   {
    "duration": 7,
    "start_time": "2021-08-18T16:25:52.851Z"
   },
   {
    "duration": 13,
    "start_time": "2021-08-18T16:25:54.260Z"
   },
   {
    "duration": 8,
    "start_time": "2021-08-18T16:25:55.162Z"
   },
   {
    "duration": 42,
    "start_time": "2021-08-18T16:33:57.658Z"
   },
   {
    "duration": 529,
    "start_time": "2021-08-18T16:33:59.337Z"
   },
   {
    "duration": 21,
    "start_time": "2021-08-18T16:34:01.683Z"
   },
   {
    "duration": 40,
    "start_time": "2021-08-18T16:35:44.384Z"
   },
   {
    "duration": 699,
    "start_time": "2021-08-18T16:35:44.872Z"
   },
   {
    "duration": 23,
    "start_time": "2021-08-18T16:35:45.738Z"
   },
   {
    "duration": 552,
    "start_time": "2021-08-18T16:35:47.465Z"
   },
   {
    "duration": 720,
    "start_time": "2021-08-18T16:35:51.806Z"
   },
   {
    "duration": 712,
    "start_time": "2021-08-18T16:35:52.984Z"
   },
   {
    "duration": 18,
    "start_time": "2021-08-18T16:38:31.069Z"
   },
   {
    "duration": 21,
    "start_time": "2021-08-18T16:39:05.613Z"
   },
   {
    "duration": 19,
    "start_time": "2021-08-18T16:39:33.503Z"
   },
   {
    "duration": 17,
    "start_time": "2021-08-18T16:40:43.291Z"
   },
   {
    "duration": 22,
    "start_time": "2021-08-18T16:42:39.834Z"
   },
   {
    "duration": 26,
    "start_time": "2021-08-18T16:42:49.265Z"
   },
   {
    "duration": 26,
    "start_time": "2021-08-18T16:43:18.302Z"
   },
   {
    "duration": 27,
    "start_time": "2021-08-18T16:43:43.600Z"
   },
   {
    "duration": 28,
    "start_time": "2021-08-18T16:45:48.488Z"
   },
   {
    "duration": 391,
    "start_time": "2021-08-18T16:46:00.439Z"
   },
   {
    "duration": 673,
    "start_time": "2021-08-18T16:48:10.734Z"
   },
   {
    "duration": 447,
    "start_time": "2021-08-18T16:48:44.822Z"
   },
   {
    "duration": 601,
    "start_time": "2021-08-18T16:48:54.976Z"
   },
   {
    "duration": 453,
    "start_time": "2021-08-18T16:49:06.060Z"
   },
   {
    "duration": 27,
    "start_time": "2021-08-18T16:49:35.814Z"
   },
   {
    "duration": 502,
    "start_time": "2021-08-18T16:49:36.576Z"
   },
   {
    "duration": 452,
    "start_time": "2021-08-18T16:51:04.662Z"
   },
   {
    "duration": 566,
    "start_time": "2021-08-18T16:51:12.639Z"
   },
   {
    "duration": 7,
    "start_time": "2021-08-18T16:53:46.043Z"
   },
   {
    "duration": 29,
    "start_time": "2021-08-18T16:55:34.359Z"
   },
   {
    "duration": 541,
    "start_time": "2021-08-18T16:55:35.356Z"
   },
   {
    "duration": 6,
    "start_time": "2021-08-18T16:56:33.799Z"
   },
   {
    "duration": 369,
    "start_time": "2021-08-18T16:57:16.944Z"
   },
   {
    "duration": 61,
    "start_time": "2021-08-18T17:00:00.384Z"
   },
   {
    "duration": 28,
    "start_time": "2021-08-18T17:03:03.792Z"
   },
   {
    "duration": 562,
    "start_time": "2021-08-18T17:04:40.063Z"
   },
   {
    "duration": 6,
    "start_time": "2021-08-18T17:05:01.278Z"
   },
   {
    "duration": 51,
    "start_time": "2021-08-18T17:07:17.150Z"
   },
   {
    "duration": 18,
    "start_time": "2021-08-18T17:13:23.628Z"
   },
   {
    "duration": 14,
    "start_time": "2021-08-18T17:13:33.431Z"
   },
   {
    "duration": 19,
    "start_time": "2021-08-18T17:14:46.156Z"
   },
   {
    "duration": 18,
    "start_time": "2021-08-18T17:15:04.362Z"
   },
   {
    "duration": 19,
    "start_time": "2021-08-18T17:15:41.535Z"
   },
   {
    "duration": 13,
    "start_time": "2021-08-18T17:15:50.320Z"
   },
   {
    "duration": 15,
    "start_time": "2021-08-18T17:18:13.390Z"
   },
   {
    "duration": 339,
    "start_time": "2021-08-18T17:19:20.309Z"
   },
   {
    "duration": 18,
    "start_time": "2021-08-18T17:19:25.507Z"
   },
   {
    "duration": 19,
    "start_time": "2021-08-18T17:19:52.768Z"
   },
   {
    "duration": 16,
    "start_time": "2021-08-18T17:20:53.844Z"
   },
   {
    "duration": 19,
    "start_time": "2021-08-18T17:21:27.041Z"
   },
   {
    "duration": 19,
    "start_time": "2021-08-18T17:22:36.477Z"
   },
   {
    "duration": 356,
    "start_time": "2021-08-18T17:22:55.023Z"
   },
   {
    "duration": 16,
    "start_time": "2021-08-18T17:23:00.930Z"
   },
   {
    "duration": 16,
    "start_time": "2021-08-18T17:23:25.636Z"
   },
   {
    "duration": 8,
    "start_time": "2021-08-18T17:23:46.092Z"
   },
   {
    "duration": 40,
    "start_time": "2021-08-18T17:23:47.870Z"
   },
   {
    "duration": 6,
    "start_time": "2021-08-18T17:24:38.153Z"
   },
   {
    "duration": 7,
    "start_time": "2021-08-18T17:26:35.219Z"
   },
   {
    "duration": 30,
    "start_time": "2021-08-18T17:26:38.979Z"
   },
   {
    "duration": 5,
    "start_time": "2021-08-18T17:29:19.867Z"
   },
   {
    "duration": 24,
    "start_time": "2021-08-18T17:29:20.240Z"
   },
   {
    "duration": 3,
    "start_time": "2021-08-18T17:29:47.928Z"
   },
   {
    "duration": 12,
    "start_time": "2021-08-18T17:29:53.182Z"
   },
   {
    "duration": 12,
    "start_time": "2021-08-18T17:29:54.350Z"
   },
   {
    "duration": 13,
    "start_time": "2021-08-18T17:29:56.364Z"
   },
   {
    "duration": 326,
    "start_time": "2021-08-18T17:32:29.885Z"
   },
   {
    "duration": 6,
    "start_time": "2021-08-18T17:32:49.078Z"
   },
   {
    "duration": 6,
    "start_time": "2021-08-18T17:35:47.057Z"
   },
   {
    "duration": 15,
    "start_time": "2021-08-18T17:37:25.600Z"
   },
   {
    "duration": 375,
    "start_time": "2021-08-18T17:37:40.637Z"
   },
   {
    "duration": 16,
    "start_time": "2021-08-18T17:37:48.668Z"
   },
   {
    "duration": 375,
    "start_time": "2021-08-18T17:41:51.189Z"
   },
   {
    "duration": 17,
    "start_time": "2021-08-18T17:42:06.683Z"
   },
   {
    "duration": 19,
    "start_time": "2021-08-18T17:48:54.211Z"
   },
   {
    "duration": 3,
    "start_time": "2021-08-18T17:52:20.950Z"
   },
   {
    "duration": 15,
    "start_time": "2021-08-18T17:53:13.214Z"
   },
   {
    "duration": 20,
    "start_time": "2021-08-18T17:54:21.878Z"
   },
   {
    "duration": 13,
    "start_time": "2021-08-18T18:11:18.239Z"
   },
   {
    "duration": 7,
    "start_time": "2021-08-18T18:11:19.921Z"
   },
   {
    "duration": 22,
    "start_time": "2021-08-18T18:11:21.110Z"
   },
   {
    "duration": 444,
    "start_time": "2021-08-18T18:12:25.487Z"
   },
   {
    "duration": 95,
    "start_time": "2021-08-18T18:12:25.933Z"
   },
   {
    "duration": 61,
    "start_time": "2021-08-18T18:12:27.636Z"
   },
   {
    "duration": 25,
    "start_time": "2021-08-18T18:12:28.475Z"
   },
   {
    "duration": 12,
    "start_time": "2021-08-18T18:12:28.839Z"
   },
   {
    "duration": 19,
    "start_time": "2021-08-18T18:12:29.434Z"
   },
   {
    "duration": 7,
    "start_time": "2021-08-18T18:12:29.975Z"
   },
   {
    "duration": 7,
    "start_time": "2021-08-18T18:12:30.886Z"
   },
   {
    "duration": 9,
    "start_time": "2021-08-18T18:12:31.341Z"
   },
   {
    "duration": 18,
    "start_time": "2021-08-18T18:12:31.520Z"
   },
   {
    "duration": 8,
    "start_time": "2021-08-18T18:12:32.212Z"
   },
   {
    "duration": 40,
    "start_time": "2021-08-18T18:12:32.710Z"
   },
   {
    "duration": 10,
    "start_time": "2021-08-18T18:12:34.598Z"
   },
   {
    "duration": 25,
    "start_time": "2021-08-18T18:12:34.968Z"
   },
   {
    "duration": 7,
    "start_time": "2021-08-18T18:12:35.345Z"
   },
   {
    "duration": 9,
    "start_time": "2021-08-18T18:12:35.823Z"
   },
   {
    "duration": 17,
    "start_time": "2021-08-18T18:12:36.385Z"
   },
   {
    "duration": 7,
    "start_time": "2021-08-18T18:12:37.384Z"
   },
   {
    "duration": 22,
    "start_time": "2021-08-18T18:12:37.774Z"
   },
   {
    "duration": 24,
    "start_time": "2021-08-18T18:12:39.173Z"
   },
   {
    "duration": 22,
    "start_time": "2021-08-18T18:12:40.485Z"
   },
   {
    "duration": 703,
    "start_time": "2021-08-18T18:12:40.663Z"
   },
   {
    "duration": 814,
    "start_time": "2021-08-18T18:12:41.893Z"
   },
   {
    "duration": 578,
    "start_time": "2021-08-18T18:12:42.710Z"
   },
   {
    "duration": 102,
    "start_time": "2021-08-18T18:12:43.292Z"
   },
   {
    "duration": 12,
    "start_time": "2021-08-18T18:12:43.396Z"
   },
   {
    "duration": 14,
    "start_time": "2021-08-18T18:12:43.413Z"
   },
   {
    "duration": 13,
    "start_time": "2021-08-18T18:12:43.997Z"
   },
   {
    "duration": 8,
    "start_time": "2021-08-18T18:12:44.281Z"
   },
   {
    "duration": 41,
    "start_time": "2021-08-18T18:12:46.251Z"
   },
   {
    "duration": 574,
    "start_time": "2021-08-18T18:12:52.576Z"
   },
   {
    "duration": 17,
    "start_time": "2021-08-18T18:12:53.236Z"
   },
   {
    "duration": 435,
    "start_time": "2021-08-18T18:12:53.807Z"
   },
   {
    "duration": 627,
    "start_time": "2021-08-18T18:12:54.918Z"
   },
   {
    "duration": 643,
    "start_time": "2021-08-18T18:12:55.548Z"
   },
   {
    "duration": 51,
    "start_time": "2021-08-18T18:12:56.194Z"
   },
   {
    "duration": 32,
    "start_time": "2021-08-18T18:12:57.670Z"
   },
   {
    "duration": 546,
    "start_time": "2021-08-18T18:12:57.950Z"
   },
   {
    "duration": 6,
    "start_time": "2021-08-18T18:12:59.370Z"
   },
   {
    "duration": 150,
    "start_time": "2021-08-18T18:13:00.172Z"
   },
   {
    "duration": 26,
    "start_time": "2021-08-18T18:13:01.478Z"
   },
   {
    "duration": 504,
    "start_time": "2021-08-18T18:13:01.713Z"
   },
   {
    "duration": 5,
    "start_time": "2021-08-18T18:13:02.220Z"
   },
   {
    "duration": 54,
    "start_time": "2021-08-18T18:13:02.579Z"
   },
   {
    "duration": 18,
    "start_time": "2021-08-18T18:13:03.367Z"
   },
   {
    "duration": 14,
    "start_time": "2021-08-18T18:13:03.769Z"
   },
   {
    "duration": 16,
    "start_time": "2021-08-18T18:13:05.335Z"
   },
   {
    "duration": 16,
    "start_time": "2021-08-18T18:13:06.822Z"
   },
   {
    "duration": 16,
    "start_time": "2021-08-18T18:13:07.061Z"
   },
   {
    "duration": 21,
    "start_time": "2021-08-18T18:13:08.062Z"
   },
   {
    "duration": 16,
    "start_time": "2021-08-18T18:13:08.656Z"
   },
   {
    "duration": 15,
    "start_time": "2021-08-18T18:13:08.877Z"
   },
   {
    "duration": 6,
    "start_time": "2021-08-18T18:13:10.196Z"
   },
   {
    "duration": 25,
    "start_time": "2021-08-18T18:13:10.575Z"
   },
   {
    "duration": 14,
    "start_time": "2021-08-18T18:13:11.742Z"
   },
   {
    "duration": 13,
    "start_time": "2021-08-18T18:13:11.991Z"
   },
   {
    "duration": 13,
    "start_time": "2021-08-18T18:13:12.321Z"
   },
   {
    "duration": 6,
    "start_time": "2021-08-18T18:13:13.133Z"
   },
   {
    "duration": 19,
    "start_time": "2021-08-18T18:13:13.890Z"
   },
   {
    "duration": 16,
    "start_time": "2021-08-18T18:13:15.566Z"
   },
   {
    "duration": 15,
    "start_time": "2021-08-18T18:13:17.317Z"
   },
   {
    "duration": 390,
    "start_time": "2021-08-18T18:16:34.731Z"
   },
   {
    "duration": 292,
    "start_time": "2021-08-18T18:16:52.271Z"
   },
   {
    "duration": 12,
    "start_time": "2021-08-18T18:17:01.406Z"
   },
   {
    "duration": 21,
    "start_time": "2021-08-18T18:20:22.162Z"
   },
   {
    "duration": 56,
    "start_time": "2021-08-18T18:21:20.217Z"
   },
   {
    "duration": 80,
    "start_time": "2021-08-18T18:21:41.786Z"
   },
   {
    "duration": 694,
    "start_time": "2021-08-18T18:22:32.081Z"
   },
   {
    "duration": 650,
    "start_time": "2021-08-18T18:23:33.564Z"
   },
   {
    "duration": 5,
    "start_time": "2021-08-18T18:24:47.648Z"
   },
   {
    "duration": 366,
    "start_time": "2021-08-18T18:25:00.419Z"
   },
   {
    "duration": 397,
    "start_time": "2021-08-18T18:25:58.302Z"
   },
   {
    "duration": 4419,
    "start_time": "2021-08-18T18:26:01.735Z"
   },
   {
    "duration": 375,
    "start_time": "2021-08-18T18:26:22.745Z"
   },
   {
    "duration": 4,
    "start_time": "2021-08-18T18:26:36.065Z"
   },
   {
    "duration": 98,
    "start_time": "2021-08-18T18:26:36.382Z"
   },
   {
    "duration": 81,
    "start_time": "2021-08-18T18:26:38.430Z"
   },
   {
    "duration": 35,
    "start_time": "2021-08-18T18:26:39.263Z"
   },
   {
    "duration": 17,
    "start_time": "2021-08-18T18:26:39.800Z"
   },
   {
    "duration": 20,
    "start_time": "2021-08-18T18:26:40.675Z"
   },
   {
    "duration": 7,
    "start_time": "2021-08-18T18:26:41.112Z"
   },
   {
    "duration": 7,
    "start_time": "2021-08-18T18:26:42.575Z"
   },
   {
    "duration": 10,
    "start_time": "2021-08-18T18:26:43.463Z"
   },
   {
    "duration": 18,
    "start_time": "2021-08-18T18:26:43.691Z"
   },
   {
    "duration": 7,
    "start_time": "2021-08-18T18:26:44.764Z"
   },
   {
    "duration": 41,
    "start_time": "2021-08-18T18:26:45.650Z"
   },
   {
    "duration": 8,
    "start_time": "2021-08-18T18:26:46.960Z"
   },
   {
    "duration": 26,
    "start_time": "2021-08-18T18:26:47.516Z"
   },
   {
    "duration": 7,
    "start_time": "2021-08-18T18:26:48.165Z"
   },
   {
    "duration": 10,
    "start_time": "2021-08-18T18:26:48.787Z"
   },
   {
    "duration": 18,
    "start_time": "2021-08-18T18:26:49.187Z"
   },
   {
    "duration": 7,
    "start_time": "2021-08-18T18:26:50.437Z"
   },
   {
    "duration": 21,
    "start_time": "2021-08-18T18:26:50.843Z"
   },
   {
    "duration": 22,
    "start_time": "2021-08-18T18:26:51.791Z"
   },
   {
    "duration": 22,
    "start_time": "2021-08-18T18:26:54.034Z"
   },
   {
    "duration": 647,
    "start_time": "2021-08-18T18:26:54.462Z"
   },
   {
    "duration": 579,
    "start_time": "2021-08-18T18:26:56.309Z"
   },
   {
    "duration": 605,
    "start_time": "2021-08-18T18:26:56.957Z"
   },
   {
    "duration": 86,
    "start_time": "2021-08-18T18:26:57.813Z"
   },
   {
    "duration": 14,
    "start_time": "2021-08-18T18:26:58.062Z"
   },
   {
    "duration": 7,
    "start_time": "2021-08-18T18:26:58.699Z"
   },
   {
    "duration": 13,
    "start_time": "2021-08-18T18:26:59.888Z"
   },
   {
    "duration": 9,
    "start_time": "2021-08-18T18:27:00.260Z"
   },
   {
    "duration": 35,
    "start_time": "2021-08-18T18:27:02.381Z"
   },
   {
    "duration": 692,
    "start_time": "2021-08-18T18:27:03.138Z"
   },
   {
    "duration": 17,
    "start_time": "2021-08-18T18:27:04.359Z"
   },
   {
    "duration": 443,
    "start_time": "2021-08-18T18:27:05.691Z"
   },
   {
    "duration": 656,
    "start_time": "2021-08-18T18:27:06.878Z"
   },
   {
    "duration": 649,
    "start_time": "2021-08-18T18:27:07.537Z"
   },
   {
    "duration": 66,
    "start_time": "2021-08-18T18:27:08.811Z"
   },
   {
    "duration": 37,
    "start_time": "2021-08-18T18:27:11.133Z"
   },
   {
    "duration": 793,
    "start_time": "2021-08-18T18:27:11.478Z"
   },
   {
    "duration": 7,
    "start_time": "2021-08-18T18:27:12.825Z"
   },
   {
    "duration": 67,
    "start_time": "2021-08-18T18:27:13.919Z"
   },
   {
    "duration": 35,
    "start_time": "2021-08-18T18:27:15.593Z"
   },
   {
    "duration": 674,
    "start_time": "2021-08-18T18:27:15.923Z"
   },
   {
    "duration": 7,
    "start_time": "2021-08-18T18:27:16.601Z"
   },
   {
    "duration": 70,
    "start_time": "2021-08-18T18:27:17.452Z"
   },
   {
    "duration": 24,
    "start_time": "2021-08-18T18:27:19.032Z"
   },
   {
    "duration": 18,
    "start_time": "2021-08-18T18:27:19.992Z"
   },
   {
    "duration": 21,
    "start_time": "2021-08-18T18:27:21.675Z"
   },
   {
    "duration": 18,
    "start_time": "2021-08-18T18:27:23.473Z"
   },
   {
    "duration": 17,
    "start_time": "2021-08-18T18:27:23.999Z"
   },
   {
    "duration": 19,
    "start_time": "2021-08-18T18:27:25.044Z"
   },
   {
    "duration": 20,
    "start_time": "2021-08-18T18:27:25.460Z"
   },
   {
    "duration": 20,
    "start_time": "2021-08-18T18:27:25.767Z"
   },
   {
    "duration": 6,
    "start_time": "2021-08-18T18:27:27.571Z"
   },
   {
    "duration": 36,
    "start_time": "2021-08-18T18:27:28.450Z"
   },
   {
    "duration": 17,
    "start_time": "2021-08-18T18:27:29.591Z"
   },
   {
    "duration": 14,
    "start_time": "2021-08-18T18:27:29.901Z"
   },
   {
    "duration": 17,
    "start_time": "2021-08-18T18:27:30.170Z"
   },
   {
    "duration": 9,
    "start_time": "2021-08-18T18:27:31.103Z"
   },
   {
    "duration": 24,
    "start_time": "2021-08-18T18:27:31.728Z"
   },
   {
    "duration": 18,
    "start_time": "2021-08-18T18:27:32.928Z"
   },
   {
    "duration": 18,
    "start_time": "2021-08-18T18:27:33.495Z"
   },
   {
    "duration": 5,
    "start_time": "2021-08-18T18:27:37.723Z"
   },
   {
    "duration": 11,
    "start_time": "2021-08-18T18:27:39.987Z"
   },
   {
    "duration": 12,
    "start_time": "2021-08-18T18:28:07.891Z"
   },
   {
    "duration": 7,
    "start_time": "2021-08-18T18:28:08.871Z"
   },
   {
    "duration": 11,
    "start_time": "2021-08-18T18:29:28.989Z"
   },
   {
    "duration": 120,
    "start_time": "2021-08-18T18:35:16.206Z"
   },
   {
    "duration": 403,
    "start_time": "2021-08-18T18:37:17.408Z"
   },
   {
    "duration": 29,
    "start_time": "2021-08-18T18:38:40.772Z"
   },
   {
    "duration": 33,
    "start_time": "2021-08-18T18:38:58.473Z"
   },
   {
    "duration": 6,
    "start_time": "2021-08-18T18:39:35.126Z"
   },
   {
    "duration": 1080,
    "start_time": "2021-08-18T19:10:24.689Z"
   },
   {
    "duration": 5,
    "start_time": "2021-08-18T19:10:37.090Z"
   },
   {
    "duration": 89,
    "start_time": "2021-08-18T19:10:37.114Z"
   },
   {
    "duration": 83,
    "start_time": "2021-08-18T19:10:37.206Z"
   },
   {
    "duration": 39,
    "start_time": "2021-08-18T19:10:37.293Z"
   },
   {
    "duration": 13,
    "start_time": "2021-08-18T19:10:37.335Z"
   },
   {
    "duration": 35,
    "start_time": "2021-08-18T19:10:37.388Z"
   },
   {
    "duration": 6,
    "start_time": "2021-08-18T19:10:37.426Z"
   },
   {
    "duration": 9,
    "start_time": "2021-08-18T19:10:37.434Z"
   },
   {
    "duration": 44,
    "start_time": "2021-08-18T19:10:37.449Z"
   },
   {
    "duration": 25,
    "start_time": "2021-08-18T19:10:37.499Z"
   },
   {
    "duration": 9,
    "start_time": "2021-08-18T19:10:37.527Z"
   },
   {
    "duration": 88,
    "start_time": "2021-08-18T19:10:37.539Z"
   },
   {
    "duration": 8,
    "start_time": "2021-08-18T19:10:37.630Z"
   },
   {
    "duration": 58,
    "start_time": "2021-08-18T19:10:37.641Z"
   },
   {
    "duration": 10,
    "start_time": "2021-08-18T19:10:37.702Z"
   },
   {
    "duration": 22,
    "start_time": "2021-08-18T19:10:37.715Z"
   },
   {
    "duration": 64,
    "start_time": "2021-08-18T19:10:37.741Z"
   },
   {
    "duration": 8,
    "start_time": "2021-08-18T19:10:37.835Z"
   },
   {
    "duration": 25,
    "start_time": "2021-08-18T19:10:37.845Z"
   },
   {
    "duration": 47,
    "start_time": "2021-08-18T19:10:37.872Z"
   },
   {
    "duration": 22,
    "start_time": "2021-08-18T19:10:37.922Z"
   },
   {
    "duration": 776,
    "start_time": "2021-08-18T19:10:37.946Z"
   },
   {
    "duration": 677,
    "start_time": "2021-08-18T19:10:38.724Z"
   },
   {
    "duration": 674,
    "start_time": "2021-08-18T19:10:39.411Z"
   },
   {
    "duration": 121,
    "start_time": "2021-08-18T19:10:40.091Z"
   },
   {
    "duration": 16,
    "start_time": "2021-08-18T19:10:40.216Z"
   },
   {
    "duration": 17,
    "start_time": "2021-08-18T19:10:40.235Z"
   },
   {
    "duration": 44,
    "start_time": "2021-08-18T19:10:40.254Z"
   },
   {
    "duration": 16,
    "start_time": "2021-08-18T19:10:40.303Z"
   },
   {
    "duration": 64,
    "start_time": "2021-08-18T19:10:40.325Z"
   },
   {
    "duration": 631,
    "start_time": "2021-08-18T19:10:40.395Z"
   },
   {
    "duration": 17,
    "start_time": "2021-08-18T19:10:41.028Z"
   },
   {
    "duration": 545,
    "start_time": "2021-08-18T19:10:41.048Z"
   },
   {
    "duration": 1243,
    "start_time": "2021-08-18T19:10:41.597Z"
   },
   {
    "duration": -79,
    "start_time": "2021-08-18T19:10:42.922Z"
   },
   {
    "duration": -86,
    "start_time": "2021-08-18T19:10:42.930Z"
   },
   {
    "duration": -92,
    "start_time": "2021-08-18T19:10:42.937Z"
   },
   {
    "duration": -99,
    "start_time": "2021-08-18T19:10:42.946Z"
   },
   {
    "duration": -156,
    "start_time": "2021-08-18T19:10:43.004Z"
   },
   {
    "duration": -164,
    "start_time": "2021-08-18T19:10:43.013Z"
   },
   {
    "duration": -214,
    "start_time": "2021-08-18T19:10:43.065Z"
   },
   {
    "duration": -220,
    "start_time": "2021-08-18T19:10:43.072Z"
   },
   {
    "duration": -226,
    "start_time": "2021-08-18T19:10:43.079Z"
   },
   {
    "duration": -231,
    "start_time": "2021-08-18T19:10:43.086Z"
   },
   {
    "duration": -236,
    "start_time": "2021-08-18T19:10:43.092Z"
   },
   {
    "duration": -237,
    "start_time": "2021-08-18T19:10:43.119Z"
   },
   {
    "duration": -243,
    "start_time": "2021-08-18T19:10:43.127Z"
   },
   {
    "duration": -247,
    "start_time": "2021-08-18T19:10:43.134Z"
   },
   {
    "duration": -251,
    "start_time": "2021-08-18T19:10:43.141Z"
   },
   {
    "duration": -298,
    "start_time": "2021-08-18T19:10:43.190Z"
   },
   {
    "duration": -300,
    "start_time": "2021-08-18T19:10:43.197Z"
   },
   {
    "duration": -305,
    "start_time": "2021-08-18T19:10:43.204Z"
   },
   {
    "duration": -312,
    "start_time": "2021-08-18T19:10:43.214Z"
   },
   {
    "duration": -382,
    "start_time": "2021-08-18T19:10:43.286Z"
   },
   {
    "duration": -388,
    "start_time": "2021-08-18T19:10:43.294Z"
   },
   {
    "duration": -396,
    "start_time": "2021-08-18T19:10:43.304Z"
   },
   {
    "duration": -401,
    "start_time": "2021-08-18T19:10:43.311Z"
   },
   {
    "duration": -407,
    "start_time": "2021-08-18T19:10:43.319Z"
   },
   {
    "duration": -458,
    "start_time": "2021-08-18T19:10:43.373Z"
   },
   {
    "duration": -489,
    "start_time": "2021-08-18T19:10:43.406Z"
   },
   {
    "duration": -494,
    "start_time": "2021-08-18T19:10:43.413Z"
   },
   {
    "duration": -539,
    "start_time": "2021-08-18T19:10:43.460Z"
   },
   {
    "duration": -544,
    "start_time": "2021-08-18T19:10:43.466Z"
   },
   {
    "duration": -549,
    "start_time": "2021-08-18T19:10:43.473Z"
   },
   {
    "duration": -554,
    "start_time": "2021-08-18T19:10:43.479Z"
   },
   {
    "duration": -559,
    "start_time": "2021-08-18T19:10:43.486Z"
   },
   {
    "duration": 668,
    "start_time": "2021-08-18T19:11:14.235Z"
   },
   {
    "duration": 5,
    "start_time": "2021-08-18T19:13:40.822Z"
   },
   {
    "duration": 82,
    "start_time": "2021-08-18T19:13:41.013Z"
   },
   {
    "duration": 84,
    "start_time": "2021-08-18T19:13:41.827Z"
   },
   {
    "duration": 27,
    "start_time": "2021-08-18T19:13:42.347Z"
   },
   {
    "duration": 15,
    "start_time": "2021-08-18T19:13:42.697Z"
   },
   {
    "duration": 29,
    "start_time": "2021-08-18T19:13:43.473Z"
   },
   {
    "duration": 7,
    "start_time": "2021-08-18T19:13:44.119Z"
   },
   {
    "duration": 7,
    "start_time": "2021-08-18T19:13:44.771Z"
   },
   {
    "duration": 10,
    "start_time": "2021-08-18T19:13:45.244Z"
   },
   {
    "duration": 19,
    "start_time": "2021-08-18T19:13:45.517Z"
   },
   {
    "duration": 8,
    "start_time": "2021-08-18T19:13:46.527Z"
   },
   {
    "duration": 53,
    "start_time": "2021-08-18T19:13:47.054Z"
   },
   {
    "duration": 7,
    "start_time": "2021-08-18T19:13:48.008Z"
   },
   {
    "duration": 27,
    "start_time": "2021-08-18T19:13:48.514Z"
   },
   {
    "duration": 8,
    "start_time": "2021-08-18T19:13:48.888Z"
   },
   {
    "duration": 9,
    "start_time": "2021-08-18T19:13:49.260Z"
   },
   {
    "duration": 23,
    "start_time": "2021-08-18T19:13:49.596Z"
   },
   {
    "duration": 8,
    "start_time": "2021-08-18T19:13:50.495Z"
   },
   {
    "duration": 24,
    "start_time": "2021-08-18T19:13:51.187Z"
   },
   {
    "duration": 26,
    "start_time": "2021-08-18T19:13:52.088Z"
   },
   {
    "duration": 30,
    "start_time": "2021-08-18T19:13:53.349Z"
   },
   {
    "duration": 696,
    "start_time": "2021-08-18T19:13:53.534Z"
   },
   {
    "duration": 638,
    "start_time": "2021-08-18T19:13:54.430Z"
   },
   {
    "duration": 627,
    "start_time": "2021-08-18T19:13:55.070Z"
   },
   {
    "duration": 118,
    "start_time": "2021-08-18T19:13:55.700Z"
   },
   {
    "duration": 13,
    "start_time": "2021-08-18T19:13:55.820Z"
   },
   {
    "duration": 7,
    "start_time": "2021-08-18T19:13:55.948Z"
   },
   {
    "duration": 17,
    "start_time": "2021-08-18T19:13:56.699Z"
   },
   {
    "duration": 8,
    "start_time": "2021-08-18T19:13:56.874Z"
   },
   {
    "duration": 41,
    "start_time": "2021-08-18T19:13:57.942Z"
   },
   {
    "duration": 553,
    "start_time": "2021-08-18T19:13:58.309Z"
   },
   {
    "duration": 22,
    "start_time": "2021-08-18T19:13:58.889Z"
   },
   {
    "duration": 496,
    "start_time": "2021-08-18T19:14:00.015Z"
   },
   {
    "duration": 979,
    "start_time": "2021-08-18T19:14:00.761Z"
   },
   {
    "duration": 893,
    "start_time": "2021-08-18T19:14:01.743Z"
   },
   {
    "duration": 81,
    "start_time": "2021-08-18T19:14:02.640Z"
   },
   {
    "duration": 39,
    "start_time": "2021-08-18T19:14:05.023Z"
   },
   {
    "duration": 606,
    "start_time": "2021-08-18T19:14:05.155Z"
   },
   {
    "duration": 6,
    "start_time": "2021-08-18T19:14:06.022Z"
   },
   {
    "duration": 57,
    "start_time": "2021-08-18T19:14:06.830Z"
   },
   {
    "duration": 26,
    "start_time": "2021-08-18T19:14:07.750Z"
   },
   {
    "duration": 589,
    "start_time": "2021-08-18T19:14:07.984Z"
   },
   {
    "duration": 9,
    "start_time": "2021-08-18T19:14:08.582Z"
   },
   {
    "duration": 62,
    "start_time": "2021-08-18T19:14:10.295Z"
   },
   {
    "duration": 19,
    "start_time": "2021-08-18T19:14:21.111Z"
   },
   {
    "duration": 20,
    "start_time": "2021-08-18T19:14:21.587Z"
   },
   {
    "duration": 17,
    "start_time": "2021-08-18T19:14:22.842Z"
   },
   {
    "duration": 15,
    "start_time": "2021-08-18T19:14:23.726Z"
   },
   {
    "duration": 17,
    "start_time": "2021-08-18T19:14:23.941Z"
   },
   {
    "duration": 19,
    "start_time": "2021-08-18T19:14:24.565Z"
   },
   {
    "duration": 20,
    "start_time": "2021-08-18T19:14:24.997Z"
   },
   {
    "duration": 21,
    "start_time": "2021-08-18T19:14:25.217Z"
   },
   {
    "duration": 5,
    "start_time": "2021-08-18T19:14:26.070Z"
   },
   {
    "duration": 27,
    "start_time": "2021-08-18T19:14:26.297Z"
   },
   {
    "duration": 13,
    "start_time": "2021-08-18T19:14:27.152Z"
   },
   {
    "duration": 24,
    "start_time": "2021-08-18T19:14:27.382Z"
   },
   {
    "duration": 13,
    "start_time": "2021-08-18T19:14:27.620Z"
   },
   {
    "duration": 7,
    "start_time": "2021-08-18T19:14:28.350Z"
   },
   {
    "duration": 17,
    "start_time": "2021-08-18T19:14:29.015Z"
   },
   {
    "duration": 17,
    "start_time": "2021-08-18T19:14:29.796Z"
   },
   {
    "duration": 16,
    "start_time": "2021-08-18T19:14:31.047Z"
   },
   {
    "duration": 16,
    "start_time": "2021-08-18T19:14:33.179Z"
   },
   {
    "duration": 16,
    "start_time": "2021-08-18T19:14:33.390Z"
   },
   {
    "duration": 9,
    "start_time": "2021-08-18T19:14:33.589Z"
   },
   {
    "duration": 17,
    "start_time": "2021-08-18T19:14:36.404Z"
   },
   {
    "duration": 6,
    "start_time": "2021-08-18T19:14:36.834Z"
   },
   {
    "duration": 637,
    "start_time": "2021-08-18T19:16:11.103Z"
   },
   {
    "duration": 53,
    "start_time": "2021-08-18T19:16:58.767Z"
   },
   {
    "duration": 29,
    "start_time": "2021-08-18T19:17:00.931Z"
   },
   {
    "duration": 592,
    "start_time": "2021-08-18T19:17:01.171Z"
   },
   {
    "duration": 17,
    "start_time": "2021-08-18T19:17:01.767Z"
   },
   {
    "duration": 54,
    "start_time": "2021-08-18T19:17:02.277Z"
   },
   {
    "duration": 37,
    "start_time": "2021-08-18T19:17:02.941Z"
   },
   {
    "duration": 564,
    "start_time": "2021-08-18T19:17:03.147Z"
   },
   {
    "duration": 5,
    "start_time": "2021-08-18T19:17:03.714Z"
   },
   {
    "duration": 56,
    "start_time": "2021-08-18T19:17:04.275Z"
   },
   {
    "duration": 18,
    "start_time": "2021-08-18T19:17:05.366Z"
   },
   {
    "duration": 14,
    "start_time": "2021-08-18T19:17:06.028Z"
   },
   {
    "duration": 16,
    "start_time": "2021-08-18T19:17:07.466Z"
   },
   {
    "duration": 16,
    "start_time": "2021-08-18T19:17:08.248Z"
   },
   {
    "duration": 17,
    "start_time": "2021-08-18T19:17:09.097Z"
   },
   {
    "duration": 16,
    "start_time": "2021-08-18T19:17:09.591Z"
   },
   {
    "duration": 15,
    "start_time": "2021-08-18T19:17:09.769Z"
   },
   {
    "duration": 16,
    "start_time": "2021-08-18T19:17:09.915Z"
   },
   {
    "duration": 5,
    "start_time": "2021-08-18T19:17:10.727Z"
   },
   {
    "duration": 24,
    "start_time": "2021-08-18T19:17:10.943Z"
   },
   {
    "duration": 13,
    "start_time": "2021-08-18T19:17:11.600Z"
   },
   {
    "duration": 13,
    "start_time": "2021-08-18T19:17:11.821Z"
   },
   {
    "duration": 13,
    "start_time": "2021-08-18T19:17:11.993Z"
   },
   {
    "duration": 6,
    "start_time": "2021-08-18T19:17:12.516Z"
   },
   {
    "duration": 18,
    "start_time": "2021-08-18T19:17:12.910Z"
   },
   {
    "duration": 16,
    "start_time": "2021-08-18T19:17:13.608Z"
   },
   {
    "duration": 17,
    "start_time": "2021-08-18T19:17:14.151Z"
   },
   {
    "duration": 12,
    "start_time": "2021-08-18T19:17:16.123Z"
   },
   {
    "duration": 13,
    "start_time": "2021-08-18T19:17:16.755Z"
   },
   {
    "duration": 7,
    "start_time": "2021-08-18T19:17:17.351Z"
   },
   {
    "duration": 13,
    "start_time": "2021-08-18T19:17:20.276Z"
   },
   {
    "duration": 7,
    "start_time": "2021-08-18T19:17:20.497Z"
   },
   {
    "duration": 102,
    "start_time": "2021-08-18T20:05:07.959Z"
   },
   {
    "duration": 1410,
    "start_time": "2021-08-19T15:06:52.673Z"
   },
   {
    "duration": 83,
    "start_time": "2021-08-19T15:06:54.085Z"
   },
   {
    "duration": 65,
    "start_time": "2021-08-19T15:06:54.171Z"
   },
   {
    "duration": 49,
    "start_time": "2021-08-19T15:06:54.239Z"
   },
   {
    "duration": 11,
    "start_time": "2021-08-19T15:06:54.291Z"
   },
   {
    "duration": 22,
    "start_time": "2021-08-19T15:06:54.304Z"
   },
   {
    "duration": 13,
    "start_time": "2021-08-19T15:06:54.329Z"
   },
   {
    "duration": 42,
    "start_time": "2021-08-19T15:06:54.348Z"
   },
   {
    "duration": 10,
    "start_time": "2021-08-19T15:06:54.393Z"
   },
   {
    "duration": 21,
    "start_time": "2021-08-19T15:06:54.406Z"
   },
   {
    "duration": 15,
    "start_time": "2021-08-19T15:06:54.430Z"
   },
   {
    "duration": 76,
    "start_time": "2021-08-19T15:06:54.448Z"
   },
   {
    "duration": 8,
    "start_time": "2021-08-19T15:06:54.527Z"
   },
   {
    "duration": 59,
    "start_time": "2021-08-19T15:06:54.538Z"
   },
   {
    "duration": 7,
    "start_time": "2021-08-19T15:06:54.600Z"
   },
   {
    "duration": 14,
    "start_time": "2021-08-19T15:06:54.610Z"
   },
   {
    "duration": 63,
    "start_time": "2021-08-19T15:06:54.627Z"
   },
   {
    "duration": 9,
    "start_time": "2021-08-19T15:06:54.693Z"
   },
   {
    "duration": 39,
    "start_time": "2021-08-19T15:06:54.705Z"
   },
   {
    "duration": 40,
    "start_time": "2021-08-19T15:06:54.747Z"
   },
   {
    "duration": 21,
    "start_time": "2021-08-19T15:06:54.789Z"
   },
   {
    "duration": 688,
    "start_time": "2021-08-19T15:06:54.813Z"
   },
   {
    "duration": 614,
    "start_time": "2021-08-19T15:06:55.507Z"
   },
   {
    "duration": 578,
    "start_time": "2021-08-19T15:06:56.125Z"
   },
   {
    "duration": 104,
    "start_time": "2021-08-19T15:06:56.706Z"
   },
   {
    "duration": 14,
    "start_time": "2021-08-19T15:06:56.813Z"
   },
   {
    "duration": 11,
    "start_time": "2021-08-19T15:06:56.830Z"
   },
   {
    "duration": 45,
    "start_time": "2021-08-19T15:06:56.843Z"
   },
   {
    "duration": 8,
    "start_time": "2021-08-19T15:06:56.890Z"
   },
   {
    "duration": 47,
    "start_time": "2021-08-19T15:06:56.900Z"
   },
   {
    "duration": 543,
    "start_time": "2021-08-19T15:06:56.949Z"
   },
   {
    "duration": 17,
    "start_time": "2021-08-19T15:06:57.494Z"
   },
   {
    "duration": 506,
    "start_time": "2021-08-19T15:06:57.514Z"
   },
   {
    "duration": 630,
    "start_time": "2021-08-19T15:06:58.023Z"
   },
   {
    "duration": 711,
    "start_time": "2021-08-19T15:06:58.657Z"
   },
   {
    "duration": 61,
    "start_time": "2021-08-19T15:06:59.371Z"
   },
   {
    "duration": 51,
    "start_time": "2021-08-19T15:06:59.435Z"
   },
   {
    "duration": 534,
    "start_time": "2021-08-19T15:06:59.488Z"
   },
   {
    "duration": 7,
    "start_time": "2021-08-19T15:07:00.024Z"
   },
   {
    "duration": 76,
    "start_time": "2021-08-19T15:07:00.033Z"
   },
   {
    "duration": 27,
    "start_time": "2021-08-19T15:07:00.112Z"
   },
   {
    "duration": 593,
    "start_time": "2021-08-19T15:07:00.142Z"
   },
   {
    "duration": 6,
    "start_time": "2021-08-19T15:07:00.738Z"
   },
   {
    "duration": 71,
    "start_time": "2021-08-19T15:07:00.747Z"
   },
   {
    "duration": 18,
    "start_time": "2021-08-19T15:07:00.821Z"
   },
   {
    "duration": 41,
    "start_time": "2021-08-19T15:07:00.842Z"
   },
   {
    "duration": 17,
    "start_time": "2021-08-19T15:07:00.885Z"
   },
   {
    "duration": 25,
    "start_time": "2021-08-19T15:07:00.905Z"
   },
   {
    "duration": 29,
    "start_time": "2021-08-19T15:07:00.933Z"
   },
   {
    "duration": 42,
    "start_time": "2021-08-19T15:07:00.965Z"
   },
   {
    "duration": 22,
    "start_time": "2021-08-19T15:07:01.010Z"
   },
   {
    "duration": 55,
    "start_time": "2021-08-19T15:07:01.035Z"
   },
   {
    "duration": 10,
    "start_time": "2021-08-19T15:07:01.092Z"
   },
   {
    "duration": 34,
    "start_time": "2021-08-19T15:07:01.105Z"
   },
   {
    "duration": 30,
    "start_time": "2021-08-19T15:07:01.141Z"
   },
   {
    "duration": 13,
    "start_time": "2021-08-19T15:07:01.183Z"
   },
   {
    "duration": 31,
    "start_time": "2021-08-19T15:07:01.198Z"
   },
   {
    "duration": 24,
    "start_time": "2021-08-19T15:07:01.232Z"
   },
   {
    "duration": 33,
    "start_time": "2021-08-19T15:07:01.260Z"
   },
   {
    "duration": 44,
    "start_time": "2021-08-19T15:07:01.296Z"
   },
   {
    "duration": 29,
    "start_time": "2021-08-19T15:07:01.343Z"
   },
   {
    "duration": 14,
    "start_time": "2021-08-19T15:07:01.375Z"
   },
   {
    "duration": 26,
    "start_time": "2021-08-19T15:07:01.392Z"
   },
   {
    "duration": 15,
    "start_time": "2021-08-19T15:07:01.421Z"
   },
   {
    "duration": 31,
    "start_time": "2021-08-19T15:07:01.438Z"
   },
   {
    "duration": 16,
    "start_time": "2021-08-19T15:07:01.472Z"
   },
   {
    "duration": 99,
    "start_time": "2021-08-19T15:22:12.922Z"
   },
   {
    "duration": 16,
    "start_time": "2021-08-19T15:22:24.430Z"
   },
   {
    "duration": 1336,
    "start_time": "2022-04-11T11:54:29.257Z"
   },
   {
    "duration": 67,
    "start_time": "2022-04-11T11:54:49.408Z"
   },
   {
    "duration": 50,
    "start_time": "2022-04-11T11:54:55.864Z"
   },
   {
    "duration": 63,
    "start_time": "2022-04-11T11:55:49.844Z"
   },
   {
    "duration": 26,
    "start_time": "2022-04-11T11:56:16.553Z"
   },
   {
    "duration": 19,
    "start_time": "2022-04-11T11:57:58.883Z"
   },
   {
    "duration": 7,
    "start_time": "2022-04-11T11:58:02.969Z"
   },
   {
    "duration": 6,
    "start_time": "2022-04-11T11:58:11.556Z"
   },
   {
    "duration": 12,
    "start_time": "2022-04-11T11:58:19.329Z"
   },
   {
    "duration": 20,
    "start_time": "2022-04-11T11:58:20.728Z"
   },
   {
    "duration": 32,
    "start_time": "2022-04-11T11:58:38.817Z"
   },
   {
    "duration": 14,
    "start_time": "2022-04-11T11:58:55.027Z"
   },
   {
    "duration": 8,
    "start_time": "2022-04-11T11:58:59.253Z"
   },
   {
    "duration": 36,
    "start_time": "2022-04-11T11:59:06.736Z"
   },
   {
    "duration": 6,
    "start_time": "2022-04-11T11:59:18.310Z"
   },
   {
    "duration": 20,
    "start_time": "2022-04-11T11:59:32.868Z"
   },
   {
    "duration": 7,
    "start_time": "2022-04-11T11:59:51.778Z"
   },
   {
    "duration": 11,
    "start_time": "2022-04-11T12:00:38.153Z"
   },
   {
    "duration": 23,
    "start_time": "2022-04-11T12:00:51.933Z"
   },
   {
    "duration": 6,
    "start_time": "2022-04-11T12:04:21.191Z"
   },
   {
    "duration": 28,
    "start_time": "2022-04-11T12:04:52.596Z"
   },
   {
    "duration": 24,
    "start_time": "2022-04-11T12:06:47.896Z"
   },
   {
    "duration": 14,
    "start_time": "2022-04-11T12:07:39.721Z"
   },
   {
    "duration": 548,
    "start_time": "2022-04-11T12:07:46.610Z"
   },
   {
    "duration": 4,
    "start_time": "2022-04-11T12:18:22.034Z"
   },
   {
    "duration": 49,
    "start_time": "2022-04-11T12:18:22.474Z"
   },
   {
    "duration": 57,
    "start_time": "2022-04-11T12:18:23.283Z"
   },
   {
    "duration": 25,
    "start_time": "2022-04-11T12:18:23.618Z"
   },
   {
    "duration": 13,
    "start_time": "2022-04-11T12:18:23.948Z"
   },
   {
    "duration": 21,
    "start_time": "2022-04-11T12:18:24.437Z"
   },
   {
    "duration": 7,
    "start_time": "2022-04-11T12:18:24.848Z"
   },
   {
    "duration": 7,
    "start_time": "2022-04-11T12:18:26.029Z"
   },
   {
    "duration": 8,
    "start_time": "2022-04-11T12:18:26.449Z"
   },
   {
    "duration": 8,
    "start_time": "2022-04-11T12:18:27.135Z"
   },
   {
    "duration": 37,
    "start_time": "2022-04-11T12:18:27.981Z"
   },
   {
    "duration": 8,
    "start_time": "2022-04-11T12:18:30.150Z"
   },
   {
    "duration": 22,
    "start_time": "2022-04-11T12:18:30.546Z"
   },
   {
    "duration": 7,
    "start_time": "2022-04-11T12:18:31.520Z"
   },
   {
    "duration": 11,
    "start_time": "2022-04-11T12:18:31.878Z"
   },
   {
    "duration": 24,
    "start_time": "2022-04-11T12:18:32.161Z"
   },
   {
    "duration": 10,
    "start_time": "2022-04-11T12:18:34.366Z"
   },
   {
    "duration": 35,
    "start_time": "2022-04-11T12:18:35.172Z"
   },
   {
    "duration": 26,
    "start_time": "2022-04-11T12:18:37.269Z"
   },
   {
    "duration": 15,
    "start_time": "2022-04-11T12:18:39.866Z"
   },
   {
    "duration": 535,
    "start_time": "2022-04-11T12:18:40.085Z"
   },
   {
    "duration": 470,
    "start_time": "2022-04-11T12:18:42.022Z"
   },
   {
    "duration": 518,
    "start_time": "2022-04-11T12:19:02.901Z"
   },
   {
    "duration": 517,
    "start_time": "2022-04-11T12:19:44.936Z"
   },
   {
    "duration": 78,
    "start_time": "2022-04-11T12:20:10.816Z"
   },
   {
    "duration": 44,
    "start_time": "2022-04-11T12:20:25.845Z"
   },
   {
    "duration": 6,
    "start_time": "2022-04-11T12:20:43.520Z"
   },
   {
    "duration": 13,
    "start_time": "2022-04-11T12:21:01.291Z"
   },
   {
    "duration": 7,
    "start_time": "2022-04-11T12:21:44.457Z"
   },
   {
    "duration": 15,
    "start_time": "2022-04-11T12:22:24.820Z"
   },
   {
    "duration": 5,
    "start_time": "2022-04-11T12:22:53.066Z"
   },
   {
    "duration": 7,
    "start_time": "2022-04-11T12:26:04.722Z"
   },
   {
    "duration": 40,
    "start_time": "2022-04-11T12:27:01.563Z"
   },
   {
    "duration": 428,
    "start_time": "2022-04-11T12:27:14.636Z"
   },
   {
    "duration": 23,
    "start_time": "2022-04-11T12:28:24.825Z"
   },
   {
    "duration": 487,
    "start_time": "2022-04-11T12:29:10.044Z"
   },
   {
    "duration": 505,
    "start_time": "2022-04-11T12:31:10.588Z"
   },
   {
    "duration": 410,
    "start_time": "2022-04-11T12:31:36.468Z"
   },
   {
    "duration": 49,
    "start_time": "2022-04-11T12:32:19.316Z"
   },
   {
    "duration": 25,
    "start_time": "2022-04-11T12:34:02.799Z"
   },
   {
    "duration": 16,
    "start_time": "2022-04-11T12:34:11.347Z"
   },
   {
    "duration": 299,
    "start_time": "2022-04-11T12:34:26.987Z"
   },
   {
    "duration": 421,
    "start_time": "2022-04-11T12:34:50.866Z"
   },
   {
    "duration": 435,
    "start_time": "2022-04-11T12:34:58.519Z"
   },
   {
    "duration": 6,
    "start_time": "2022-04-11T12:36:06.900Z"
   },
   {
    "duration": 51,
    "start_time": "2022-04-11T12:36:37.469Z"
   },
   {
    "duration": 16,
    "start_time": "2022-04-11T12:37:09.232Z"
   },
   {
    "duration": 283,
    "start_time": "2022-04-11T12:37:20.461Z"
   },
   {
    "duration": 6,
    "start_time": "2022-04-11T12:37:23.773Z"
   },
   {
    "duration": 133,
    "start_time": "2022-04-11T12:37:57.950Z"
   },
   {
    "duration": 21,
    "start_time": "2022-04-11T12:38:25.143Z"
   },
   {
    "duration": 17,
    "start_time": "2022-04-11T12:39:47.048Z"
   },
   {
    "duration": 18,
    "start_time": "2022-04-11T12:42:09.404Z"
   },
   {
    "duration": 20,
    "start_time": "2022-04-11T12:42:33.132Z"
   },
   {
    "duration": 22,
    "start_time": "2022-04-11T12:44:18.759Z"
   },
   {
    "duration": 21,
    "start_time": "2022-04-11T12:44:36.191Z"
   },
   {
    "duration": 21,
    "start_time": "2022-04-11T12:44:47.051Z"
   },
   {
    "duration": 15,
    "start_time": "2022-04-11T12:45:11.132Z"
   },
   {
    "duration": 24,
    "start_time": "2022-04-11T12:46:15.248Z"
   },
   {
    "duration": 24,
    "start_time": "2022-04-11T12:46:31.530Z"
   },
   {
    "duration": 21,
    "start_time": "2022-04-11T12:46:36.540Z"
   },
   {
    "duration": 17,
    "start_time": "2022-04-11T12:48:00.535Z"
   },
   {
    "duration": 16,
    "start_time": "2022-04-11T12:48:05.576Z"
   },
   {
    "duration": 16,
    "start_time": "2022-04-11T12:48:12.667Z"
   },
   {
    "duration": 40,
    "start_time": "2022-04-11T12:50:58.806Z"
   },
   {
    "duration": 4,
    "start_time": "2022-04-11T12:51:42.041Z"
   },
   {
    "duration": 49,
    "start_time": "2022-04-11T12:51:42.771Z"
   },
   {
    "duration": 54,
    "start_time": "2022-04-11T12:51:44.169Z"
   },
   {
    "duration": 25,
    "start_time": "2022-04-11T12:51:45.178Z"
   },
   {
    "duration": 22,
    "start_time": "2022-04-11T12:51:52.727Z"
   },
   {
    "duration": 13,
    "start_time": "2022-04-11T12:51:53.080Z"
   },
   {
    "duration": 19,
    "start_time": "2022-04-11T12:51:53.742Z"
   },
   {
    "duration": 7,
    "start_time": "2022-04-11T12:51:54.141Z"
   },
   {
    "duration": 7,
    "start_time": "2022-04-11T12:51:54.825Z"
   },
   {
    "duration": 8,
    "start_time": "2022-04-11T12:51:55.179Z"
   },
   {
    "duration": 8,
    "start_time": "2022-04-11T12:51:56.086Z"
   },
   {
    "duration": 36,
    "start_time": "2022-04-11T12:51:56.632Z"
   },
   {
    "duration": 8,
    "start_time": "2022-04-11T12:51:58.248Z"
   },
   {
    "duration": 21,
    "start_time": "2022-04-11T12:51:58.641Z"
   },
   {
    "duration": 7,
    "start_time": "2022-04-11T12:51:59.035Z"
   },
   {
    "duration": 11,
    "start_time": "2022-04-11T12:51:59.439Z"
   },
   {
    "duration": 22,
    "start_time": "2022-04-11T12:51:59.675Z"
   },
   {
    "duration": 8,
    "start_time": "2022-04-11T12:52:00.270Z"
   },
   {
    "duration": 23,
    "start_time": "2022-04-11T12:52:01.064Z"
   },
   {
    "duration": 24,
    "start_time": "2022-04-11T12:52:01.994Z"
   },
   {
    "duration": 14,
    "start_time": "2022-04-11T12:52:02.818Z"
   },
   {
    "duration": 538,
    "start_time": "2022-04-11T12:52:03.083Z"
   },
   {
    "duration": 475,
    "start_time": "2022-04-11T12:52:04.390Z"
   },
   {
    "duration": 495,
    "start_time": "2022-04-11T12:52:05.480Z"
   },
   {
    "duration": 42,
    "start_time": "2022-04-11T12:52:06.741Z"
   },
   {
    "duration": 14,
    "start_time": "2022-04-11T12:52:07.517Z"
   },
   {
    "duration": 14,
    "start_time": "2022-04-11T12:52:18.846Z"
   },
   {
    "duration": 7,
    "start_time": "2022-04-11T12:52:19.786Z"
   },
   {
    "duration": 37,
    "start_time": "2022-04-11T12:52:20.484Z"
   },
   {
    "duration": 443,
    "start_time": "2022-04-11T12:52:21.333Z"
   },
   {
    "duration": 22,
    "start_time": "2022-04-11T12:52:22.430Z"
   },
   {
    "duration": 398,
    "start_time": "2022-04-11T12:52:23.472Z"
   },
   {
    "duration": 407,
    "start_time": "2022-04-11T12:52:24.906Z"
   },
   {
    "duration": 522,
    "start_time": "2022-04-11T12:52:25.399Z"
   },
   {
    "duration": 61,
    "start_time": "2022-04-11T12:52:25.923Z"
   },
   {
    "duration": 16,
    "start_time": "2022-04-11T12:52:27.796Z"
   },
   {
    "duration": 292,
    "start_time": "2022-04-11T12:52:28.007Z"
   },
   {
    "duration": 6,
    "start_time": "2022-04-11T12:52:28.350Z"
   },
   {
    "duration": 48,
    "start_time": "2022-04-11T12:52:29.812Z"
   },
   {
    "duration": 16,
    "start_time": "2022-04-11T12:52:31.494Z"
   },
   {
    "duration": 288,
    "start_time": "2022-04-11T12:52:31.746Z"
   },
   {
    "duration": 6,
    "start_time": "2022-04-11T12:52:32.200Z"
   },
   {
    "duration": 51,
    "start_time": "2022-04-11T12:52:33.602Z"
   },
   {
    "duration": 24,
    "start_time": "2022-04-11T12:52:34.934Z"
   },
   {
    "duration": 23,
    "start_time": "2022-04-11T12:52:35.863Z"
   },
   {
    "duration": 18,
    "start_time": "2022-04-11T12:52:37.707Z"
   },
   {
    "duration": 17,
    "start_time": "2022-04-11T12:52:38.347Z"
   },
   {
    "duration": 18,
    "start_time": "2022-04-11T12:52:38.527Z"
   },
   {
    "duration": 18,
    "start_time": "2022-04-11T12:52:39.343Z"
   },
   {
    "duration": 18,
    "start_time": "2022-04-11T12:52:39.580Z"
   },
   {
    "duration": 16,
    "start_time": "2022-04-11T12:52:39.816Z"
   },
   {
    "duration": 30,
    "start_time": "2022-04-11T12:52:43.251Z"
   },
   {
    "duration": 14,
    "start_time": "2022-04-11T12:53:10.177Z"
   },
   {
    "duration": 14,
    "start_time": "2022-04-11T12:53:17.265Z"
   },
   {
    "duration": 14,
    "start_time": "2022-04-11T12:53:18.104Z"
   },
   {
    "duration": 6,
    "start_time": "2022-04-11T12:55:10.033Z"
   },
   {
    "duration": 7,
    "start_time": "2022-04-11T12:55:28.807Z"
   },
   {
    "duration": 18,
    "start_time": "2022-04-11T12:55:31.137Z"
   },
   {
    "duration": 16,
    "start_time": "2022-04-11T12:56:34.693Z"
   },
   {
    "duration": 18,
    "start_time": "2022-04-11T12:56:53.505Z"
   },
   {
    "duration": 17,
    "start_time": "2022-04-11T12:58:13.161Z"
   },
   {
    "duration": 12,
    "start_time": "2022-04-11T12:58:48.452Z"
   },
   {
    "duration": 6,
    "start_time": "2022-04-11T12:58:50.269Z"
   },
   {
    "duration": 6,
    "start_time": "2022-04-11T13:00:08.990Z"
   },
   {
    "duration": 17,
    "start_time": "2022-04-11T13:00:47.040Z"
   },
   {
    "duration": 12,
    "start_time": "2022-04-11T13:02:08.073Z"
   },
   {
    "duration": 7,
    "start_time": "2022-04-11T13:02:15.208Z"
   },
   {
    "duration": 20,
    "start_time": "2022-04-11T13:02:24.147Z"
   },
   {
    "duration": 13,
    "start_time": "2022-04-11T13:02:30.510Z"
   },
   {
    "duration": 20,
    "start_time": "2022-04-11T13:02:59.591Z"
   },
   {
    "duration": 13,
    "start_time": "2022-04-11T13:03:04.047Z"
   },
   {
    "duration": 7,
    "start_time": "2022-04-11T13:03:32.685Z"
   },
   {
    "duration": 17,
    "start_time": "2022-04-11T13:03:43.476Z"
   },
   {
    "duration": 7,
    "start_time": "2022-04-11T13:03:44.230Z"
   },
   {
    "duration": 1478,
    "start_time": "2022-04-11T13:13:18.019Z"
   },
   {
    "duration": 54,
    "start_time": "2022-04-11T13:13:19.499Z"
   },
   {
    "duration": 62,
    "start_time": "2022-04-11T13:13:19.555Z"
   },
   {
    "duration": 38,
    "start_time": "2022-04-11T13:13:19.620Z"
   },
   {
    "duration": 12,
    "start_time": "2022-04-11T13:13:19.660Z"
   },
   {
    "duration": 18,
    "start_time": "2022-04-11T13:13:19.675Z"
   },
   {
    "duration": 10,
    "start_time": "2022-04-11T13:13:19.696Z"
   },
   {
    "duration": 6,
    "start_time": "2022-04-11T13:13:19.743Z"
   },
   {
    "duration": 16,
    "start_time": "2022-04-11T13:13:19.751Z"
   },
   {
    "duration": 10,
    "start_time": "2022-04-11T13:13:19.771Z"
   },
   {
    "duration": 40,
    "start_time": "2022-04-11T13:13:19.784Z"
   },
   {
    "duration": 8,
    "start_time": "2022-04-11T13:13:19.843Z"
   },
   {
    "duration": 27,
    "start_time": "2022-04-11T13:13:19.853Z"
   },
   {
    "duration": 6,
    "start_time": "2022-04-11T13:13:19.882Z"
   },
   {
    "duration": 14,
    "start_time": "2022-04-11T13:13:19.890Z"
   },
   {
    "duration": 52,
    "start_time": "2022-04-11T13:13:19.906Z"
   },
   {
    "duration": 7,
    "start_time": "2022-04-11T13:13:19.960Z"
   },
   {
    "duration": 26,
    "start_time": "2022-04-11T13:13:19.969Z"
   },
   {
    "duration": 49,
    "start_time": "2022-04-11T13:13:19.997Z"
   },
   {
    "duration": 22,
    "start_time": "2022-04-11T13:13:20.048Z"
   },
   {
    "duration": 555,
    "start_time": "2022-04-11T13:13:20.072Z"
   },
   {
    "duration": 489,
    "start_time": "2022-04-11T13:13:20.630Z"
   },
   {
    "duration": 511,
    "start_time": "2022-04-11T13:13:21.121Z"
   },
   {
    "duration": 47,
    "start_time": "2022-04-11T13:13:21.634Z"
   },
   {
    "duration": 14,
    "start_time": "2022-04-11T13:13:21.683Z"
   },
   {
    "duration": 10,
    "start_time": "2022-04-11T13:13:21.699Z"
   },
   {
    "duration": 60,
    "start_time": "2022-04-11T13:13:21.711Z"
   },
   {
    "duration": 457,
    "start_time": "2022-04-11T13:13:21.777Z"
   },
   {
    "duration": 27,
    "start_time": "2022-04-11T13:13:22.237Z"
   },
   {
    "duration": 421,
    "start_time": "2022-04-11T13:13:22.267Z"
   },
   {
    "duration": 424,
    "start_time": "2022-04-11T13:13:22.690Z"
   },
   {
    "duration": 522,
    "start_time": "2022-04-11T13:13:23.117Z"
   },
   {
    "duration": 49,
    "start_time": "2022-04-11T13:13:23.643Z"
   },
   {
    "duration": 16,
    "start_time": "2022-04-11T13:13:23.695Z"
   },
   {
    "duration": 327,
    "start_time": "2022-04-11T13:13:23.713Z"
   },
   {
    "duration": 6,
    "start_time": "2022-04-11T13:13:24.043Z"
   },
   {
    "duration": 48,
    "start_time": "2022-04-11T13:13:24.052Z"
   },
   {
    "duration": 48,
    "start_time": "2022-04-11T13:13:24.102Z"
   },
   {
    "duration": 308,
    "start_time": "2022-04-11T13:13:24.152Z"
   },
   {
    "duration": 7,
    "start_time": "2022-04-11T13:13:24.462Z"
   },
   {
    "duration": 76,
    "start_time": "2022-04-11T13:13:24.471Z"
   },
   {
    "duration": 20,
    "start_time": "2022-04-11T13:13:24.550Z"
   },
   {
    "duration": 22,
    "start_time": "2022-04-11T13:13:24.572Z"
   },
   {
    "duration": 44,
    "start_time": "2022-04-11T13:13:24.596Z"
   },
   {
    "duration": 18,
    "start_time": "2022-04-11T13:13:24.643Z"
   },
   {
    "duration": 17,
    "start_time": "2022-04-11T13:13:24.664Z"
   },
   {
    "duration": 16,
    "start_time": "2022-04-11T13:13:24.683Z"
   },
   {
    "duration": 53,
    "start_time": "2022-04-11T13:13:24.701Z"
   },
   {
    "duration": 29,
    "start_time": "2022-04-11T13:13:24.756Z"
   },
   {
    "duration": 46,
    "start_time": "2022-04-11T13:13:24.788Z"
   },
   {
    "duration": 21,
    "start_time": "2022-04-11T13:13:24.837Z"
   },
   {
    "duration": 16,
    "start_time": "2022-04-11T13:13:24.860Z"
   },
   {
    "duration": 22,
    "start_time": "2022-04-11T13:13:24.878Z"
   },
   {
    "duration": 18,
    "start_time": "2022-04-11T13:13:24.902Z"
   },
   {
    "duration": 31,
    "start_time": "2022-04-11T13:13:24.922Z"
   },
   {
    "duration": 17,
    "start_time": "2022-04-11T13:13:24.955Z"
   },
   {
    "duration": 24,
    "start_time": "2022-04-11T13:13:24.974Z"
   },
   {
    "duration": 42,
    "start_time": "2022-04-11T13:13:25.001Z"
   },
   {
    "duration": 6,
    "start_time": "2022-04-11T13:13:25.045Z"
   },
   {
    "duration": 27,
    "start_time": "2022-04-11T13:13:25.054Z"
   },
   {
    "duration": 10,
    "start_time": "2022-04-11T13:13:25.084Z"
   },
   {
    "duration": 55,
    "start_time": "2022-04-13T09:36:07.059Z"
   },
   {
    "duration": 1210,
    "start_time": "2022-04-13T09:36:23.990Z"
   },
   {
    "duration": 55,
    "start_time": "2022-04-13T09:36:26.038Z"
   },
   {
    "duration": 56,
    "start_time": "2022-04-13T09:36:27.698Z"
   },
   {
    "duration": 30,
    "start_time": "2022-04-13T09:36:28.142Z"
   },
   {
    "duration": 17,
    "start_time": "2022-04-13T09:36:28.539Z"
   },
   {
    "duration": 23,
    "start_time": "2022-04-13T09:36:29.325Z"
   },
   {
    "duration": 7,
    "start_time": "2022-04-13T09:36:29.852Z"
   },
   {
    "duration": 7,
    "start_time": "2022-04-13T09:36:30.730Z"
   },
   {
    "duration": 10,
    "start_time": "2022-04-13T09:36:31.703Z"
   },
   {
    "duration": 8,
    "start_time": "2022-04-13T09:36:32.562Z"
   },
   {
    "duration": 32,
    "start_time": "2022-04-13T09:36:33.269Z"
   },
   {
    "duration": 6,
    "start_time": "2022-04-13T09:36:34.684Z"
   },
   {
    "duration": 17,
    "start_time": "2022-04-13T09:36:35.173Z"
   },
   {
    "duration": 7,
    "start_time": "2022-04-13T09:36:35.655Z"
   },
   {
    "duration": 10,
    "start_time": "2022-04-13T09:36:36.325Z"
   },
   {
    "duration": 26,
    "start_time": "2022-04-13T09:36:36.497Z"
   },
   {
    "duration": 8,
    "start_time": "2022-04-13T09:36:37.267Z"
   },
   {
    "duration": 27,
    "start_time": "2022-04-13T09:36:37.786Z"
   },
   {
    "duration": 25,
    "start_time": "2022-04-13T09:36:38.848Z"
   },
   {
    "duration": 15,
    "start_time": "2022-04-13T09:36:39.660Z"
   },
   {
    "duration": 442,
    "start_time": "2022-04-13T09:36:39.961Z"
   },
   {
    "duration": 367,
    "start_time": "2022-04-13T09:36:41.095Z"
   },
   {
    "duration": 372,
    "start_time": "2022-04-13T09:36:41.768Z"
   },
   {
    "duration": 51,
    "start_time": "2022-04-13T09:36:42.441Z"
   },
   {
    "duration": 15,
    "start_time": "2022-04-13T09:36:42.652Z"
   },
   {
    "duration": 7,
    "start_time": "2022-04-13T09:36:43.109Z"
   },
   {
    "duration": 29,
    "start_time": "2022-04-13T09:36:43.770Z"
   },
   {
    "duration": 325,
    "start_time": "2022-04-13T09:36:44.333Z"
   },
   {
    "duration": 28,
    "start_time": "2022-04-13T09:36:45.158Z"
   },
   {
    "duration": 318,
    "start_time": "2022-04-13T09:36:46.163Z"
   },
   {
    "duration": 304,
    "start_time": "2022-04-13T09:36:47.452Z"
   },
   {
    "duration": 394,
    "start_time": "2022-04-13T09:36:47.813Z"
   },
   {
    "duration": 58,
    "start_time": "2022-04-13T09:36:48.398Z"
   },
   {
    "duration": 14,
    "start_time": "2022-04-13T09:36:49.912Z"
   },
   {
    "duration": 199,
    "start_time": "2022-04-13T09:36:50.359Z"
   },
   {
    "duration": 4,
    "start_time": "2022-04-13T09:36:50.738Z"
   },
   {
    "duration": 50,
    "start_time": "2022-04-13T09:36:51.763Z"
   },
   {
    "duration": 13,
    "start_time": "2022-04-13T09:36:53.077Z"
   },
   {
    "duration": 194,
    "start_time": "2022-04-13T09:36:53.393Z"
   },
   {
    "duration": 6,
    "start_time": "2022-04-13T09:36:53.889Z"
   },
   {
    "duration": 60,
    "start_time": "2022-04-13T09:36:54.830Z"
   },
   {
    "duration": 23,
    "start_time": "2022-04-13T09:36:55.911Z"
   },
   {
    "duration": 12,
    "start_time": "2022-04-13T09:36:56.474Z"
   },
   {
    "duration": 16,
    "start_time": "2022-04-13T09:36:57.613Z"
   },
   {
    "duration": 13,
    "start_time": "2022-04-13T09:36:57.893Z"
   },
   {
    "duration": 13,
    "start_time": "2022-04-13T09:36:58.472Z"
   },
   {
    "duration": 14,
    "start_time": "2022-04-13T09:37:00.052Z"
   },
   {
    "duration": 13,
    "start_time": "2022-04-13T09:37:00.309Z"
   },
   {
    "duration": 13,
    "start_time": "2022-04-13T09:37:00.533Z"
   },
   {
    "duration": 23,
    "start_time": "2022-04-13T09:37:01.876Z"
   },
   {
    "duration": 11,
    "start_time": "2022-04-13T09:37:04.248Z"
   },
   {
    "duration": 9,
    "start_time": "2022-04-13T09:37:04.868Z"
   },
   {
    "duration": 7,
    "start_time": "2022-04-13T09:38:02.637Z"
   },
   {
    "duration": 1203,
    "start_time": "2022-04-13T09:45:44.880Z"
   },
   {
    "duration": 44,
    "start_time": "2022-04-13T09:45:46.085Z"
   },
   {
    "duration": 47,
    "start_time": "2022-04-13T09:45:46.131Z"
   },
   {
    "duration": 20,
    "start_time": "2022-04-13T09:45:46.180Z"
   },
   {
    "duration": 33,
    "start_time": "2022-04-13T09:45:46.202Z"
   },
   {
    "duration": 20,
    "start_time": "2022-04-13T09:45:46.237Z"
   },
   {
    "duration": 7,
    "start_time": "2022-04-13T09:45:46.260Z"
   },
   {
    "duration": 7,
    "start_time": "2022-04-13T09:45:46.269Z"
   },
   {
    "duration": 9,
    "start_time": "2022-04-13T09:45:46.278Z"
   },
   {
    "duration": 6,
    "start_time": "2022-04-13T09:45:46.289Z"
   },
   {
    "duration": 66,
    "start_time": "2022-04-13T09:45:46.296Z"
   },
   {
    "duration": 6,
    "start_time": "2022-04-13T09:45:46.364Z"
   },
   {
    "duration": 21,
    "start_time": "2022-04-13T09:45:46.372Z"
   },
   {
    "duration": 37,
    "start_time": "2022-04-13T09:45:46.397Z"
   },
   {
    "duration": 11,
    "start_time": "2022-04-13T09:45:46.436Z"
   },
   {
    "duration": 21,
    "start_time": "2022-04-13T09:45:46.448Z"
   },
   {
    "duration": 6,
    "start_time": "2022-04-13T09:45:46.471Z"
   },
   {
    "duration": 28,
    "start_time": "2022-04-13T09:45:46.479Z"
   },
   {
    "duration": 20,
    "start_time": "2022-04-13T09:45:46.533Z"
   },
   {
    "duration": 16,
    "start_time": "2022-04-13T09:45:46.554Z"
   },
   {
    "duration": 430,
    "start_time": "2022-04-13T09:45:46.572Z"
   },
   {
    "duration": 369,
    "start_time": "2022-04-13T09:45:47.004Z"
   },
   {
    "duration": 386,
    "start_time": "2022-04-13T09:45:47.375Z"
   },
   {
    "duration": 31,
    "start_time": "2022-04-13T09:45:47.763Z"
   },
   {
    "duration": 11,
    "start_time": "2022-04-13T09:45:47.796Z"
   },
   {
    "duration": 7,
    "start_time": "2022-04-13T09:45:47.833Z"
   },
   {
    "duration": 32,
    "start_time": "2022-04-13T09:45:47.842Z"
   },
   {
    "duration": 342,
    "start_time": "2022-04-13T09:45:47.876Z"
   },
   {
    "duration": 29,
    "start_time": "2022-04-13T09:45:48.220Z"
   },
   {
    "duration": 321,
    "start_time": "2022-04-13T09:45:48.251Z"
   },
   {
    "duration": 316,
    "start_time": "2022-04-13T09:45:48.575Z"
   },
   {
    "duration": 379,
    "start_time": "2022-04-13T09:45:48.893Z"
   },
   {
    "duration": 39,
    "start_time": "2022-04-13T09:45:49.274Z"
   },
   {
    "duration": 14,
    "start_time": "2022-04-13T09:45:49.333Z"
   },
   {
    "duration": 217,
    "start_time": "2022-04-13T09:45:49.349Z"
   },
   {
    "duration": 5,
    "start_time": "2022-04-13T09:45:49.568Z"
   },
   {
    "duration": 59,
    "start_time": "2022-04-13T09:45:49.576Z"
   },
   {
    "duration": 42,
    "start_time": "2022-04-13T09:45:49.638Z"
   },
   {
    "duration": 268,
    "start_time": "2022-04-13T09:45:49.693Z"
   },
   {
    "duration": 6,
    "start_time": "2022-04-13T09:45:49.963Z"
   },
   {
    "duration": 71,
    "start_time": "2022-04-13T09:45:49.975Z"
   },
   {
    "duration": 23,
    "start_time": "2022-04-13T09:45:50.049Z"
   },
   {
    "duration": 16,
    "start_time": "2022-04-13T09:45:50.075Z"
   },
   {
    "duration": 41,
    "start_time": "2022-04-13T09:45:50.093Z"
   },
   {
    "duration": 15,
    "start_time": "2022-04-13T09:45:50.136Z"
   },
   {
    "duration": 17,
    "start_time": "2022-04-13T09:45:50.154Z"
   },
   {
    "duration": 17,
    "start_time": "2022-04-13T09:45:50.173Z"
   },
   {
    "duration": 44,
    "start_time": "2022-04-13T09:45:50.192Z"
   },
   {
    "duration": 17,
    "start_time": "2022-04-13T09:45:50.238Z"
   },
   {
    "duration": 24,
    "start_time": "2022-04-13T09:45:50.257Z"
   },
   {
    "duration": 14,
    "start_time": "2022-04-13T09:45:50.283Z"
   },
   {
    "duration": 36,
    "start_time": "2022-04-13T09:45:50.299Z"
   },
   {
    "duration": 12,
    "start_time": "2022-04-13T09:45:50.337Z"
   },
   {
    "duration": 8,
    "start_time": "2022-04-13T09:45:50.351Z"
   },
   {
    "duration": 18,
    "start_time": "2022-04-13T09:45:50.362Z"
   },
   {
    "duration": 14,
    "start_time": "2022-04-13T09:45:50.383Z"
   },
   {
    "duration": 47,
    "start_time": "2022-04-13T09:45:50.399Z"
   },
   {
    "duration": 17,
    "start_time": "2022-04-13T09:45:50.448Z"
   },
   {
    "duration": 11,
    "start_time": "2022-04-13T09:45:50.467Z"
   },
   {
    "duration": 15,
    "start_time": "2022-04-13T09:45:50.480Z"
   },
   {
    "duration": 8,
    "start_time": "2022-04-13T09:45:50.497Z"
   }
  ],
  "kernelspec": {
   "display_name": "Python 3 (ipykernel)",
   "language": "python",
   "name": "python3"
  },
  "language_info": {
   "codemirror_mode": {
    "name": "ipython",
    "version": 3
   },
   "file_extension": ".py",
   "mimetype": "text/x-python",
   "name": "python",
   "nbconvert_exporter": "python",
   "pygments_lexer": "ipython3",
   "version": "3.9.5"
  },
  "toc": {
   "base_numbering": 1,
   "nav_menu": {},
   "number_sections": true,
   "sideBar": true,
   "skip_h1_title": true,
   "title_cell": "Table of Contents",
   "title_sidebar": "Contents",
   "toc_cell": false,
   "toc_position": {},
   "toc_section_display": true,
   "toc_window_display": false
  }
 },
 "nbformat": 4,
 "nbformat_minor": 2
}
