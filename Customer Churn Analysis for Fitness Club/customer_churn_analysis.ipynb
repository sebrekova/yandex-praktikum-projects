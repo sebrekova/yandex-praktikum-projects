{
 "cells": [
  {
   "cell_type": "markdown",
   "metadata": {},
   "source": [
    "# Исследование оттока клиентов сети фитнес-центров "
   ]
  },
  {
   "cell_type": "markdown",
   "metadata": {},
   "source": [
    "## Импорт библиотек"
   ]
  },
  {
   "cell_type": "code",
   "execution_count": 1,
   "metadata": {},
   "outputs": [],
   "source": [
    "import pandas as pd\n",
    "import seaborn as sns\n",
    "import matplotlib.pyplot as plt\n",
    "import numpy as np\n",
    "from sklearn.model_selection import train_test_split\n",
    "from sklearn.linear_model import LogisticRegression\n",
    "from sklearn.ensemble import RandomForestClassifier\n",
    "from sklearn.metrics import accuracy_score, precision_score, recall_score\n",
    "from sklearn.preprocessing import StandardScaler\n",
    "from scipy.cluster.hierarchy import dendrogram, linkage \n",
    "from sklearn.cluster import KMeans"
   ]
  },
  {
   "cell_type": "markdown",
   "metadata": {},
   "source": [
    "## Изучение и предобработка данных"
   ]
  },
  {
   "cell_type": "code",
   "execution_count": 2,
   "metadata": {},
   "outputs": [
    {
     "data": {
      "text/html": [
       "<div>\n",
       "<style scoped>\n",
       "    .dataframe tbody tr th:only-of-type {\n",
       "        vertical-align: middle;\n",
       "    }\n",
       "\n",
       "    .dataframe tbody tr th {\n",
       "        vertical-align: top;\n",
       "    }\n",
       "\n",
       "    .dataframe thead th {\n",
       "        text-align: right;\n",
       "    }\n",
       "</style>\n",
       "<table border=\"1\" class=\"dataframe\">\n",
       "  <thead>\n",
       "    <tr style=\"text-align: right;\">\n",
       "      <th></th>\n",
       "      <th>gender</th>\n",
       "      <th>Near_Location</th>\n",
       "      <th>Partner</th>\n",
       "      <th>Promo_friends</th>\n",
       "      <th>Phone</th>\n",
       "      <th>Contract_period</th>\n",
       "      <th>Group_visits</th>\n",
       "      <th>Age</th>\n",
       "      <th>Avg_additional_charges_total</th>\n",
       "      <th>Month_to_end_contract</th>\n",
       "      <th>Lifetime</th>\n",
       "      <th>Avg_class_frequency_total</th>\n",
       "      <th>Avg_class_frequency_current_month</th>\n",
       "      <th>Churn</th>\n",
       "    </tr>\n",
       "  </thead>\n",
       "  <tbody>\n",
       "    <tr>\n",
       "      <th>0</th>\n",
       "      <td>1</td>\n",
       "      <td>1</td>\n",
       "      <td>1</td>\n",
       "      <td>1</td>\n",
       "      <td>0</td>\n",
       "      <td>6</td>\n",
       "      <td>1</td>\n",
       "      <td>29</td>\n",
       "      <td>14.227470</td>\n",
       "      <td>5.0</td>\n",
       "      <td>3</td>\n",
       "      <td>0.020398</td>\n",
       "      <td>0.000000</td>\n",
       "      <td>0</td>\n",
       "    </tr>\n",
       "    <tr>\n",
       "      <th>1</th>\n",
       "      <td>0</td>\n",
       "      <td>1</td>\n",
       "      <td>0</td>\n",
       "      <td>0</td>\n",
       "      <td>1</td>\n",
       "      <td>12</td>\n",
       "      <td>1</td>\n",
       "      <td>31</td>\n",
       "      <td>113.202938</td>\n",
       "      <td>12.0</td>\n",
       "      <td>7</td>\n",
       "      <td>1.922936</td>\n",
       "      <td>1.910244</td>\n",
       "      <td>0</td>\n",
       "    </tr>\n",
       "    <tr>\n",
       "      <th>2</th>\n",
       "      <td>0</td>\n",
       "      <td>1</td>\n",
       "      <td>1</td>\n",
       "      <td>0</td>\n",
       "      <td>1</td>\n",
       "      <td>1</td>\n",
       "      <td>0</td>\n",
       "      <td>28</td>\n",
       "      <td>129.448479</td>\n",
       "      <td>1.0</td>\n",
       "      <td>2</td>\n",
       "      <td>1.859098</td>\n",
       "      <td>1.736502</td>\n",
       "      <td>0</td>\n",
       "    </tr>\n",
       "    <tr>\n",
       "      <th>3</th>\n",
       "      <td>0</td>\n",
       "      <td>1</td>\n",
       "      <td>1</td>\n",
       "      <td>1</td>\n",
       "      <td>1</td>\n",
       "      <td>12</td>\n",
       "      <td>1</td>\n",
       "      <td>33</td>\n",
       "      <td>62.669863</td>\n",
       "      <td>12.0</td>\n",
       "      <td>2</td>\n",
       "      <td>3.205633</td>\n",
       "      <td>3.357215</td>\n",
       "      <td>0</td>\n",
       "    </tr>\n",
       "    <tr>\n",
       "      <th>4</th>\n",
       "      <td>1</td>\n",
       "      <td>1</td>\n",
       "      <td>1</td>\n",
       "      <td>1</td>\n",
       "      <td>1</td>\n",
       "      <td>1</td>\n",
       "      <td>0</td>\n",
       "      <td>26</td>\n",
       "      <td>198.362265</td>\n",
       "      <td>1.0</td>\n",
       "      <td>3</td>\n",
       "      <td>1.113884</td>\n",
       "      <td>1.120078</td>\n",
       "      <td>0</td>\n",
       "    </tr>\n",
       "    <tr>\n",
       "      <th>5</th>\n",
       "      <td>1</td>\n",
       "      <td>1</td>\n",
       "      <td>0</td>\n",
       "      <td>0</td>\n",
       "      <td>1</td>\n",
       "      <td>1</td>\n",
       "      <td>1</td>\n",
       "      <td>34</td>\n",
       "      <td>450.743960</td>\n",
       "      <td>1.0</td>\n",
       "      <td>3</td>\n",
       "      <td>2.623477</td>\n",
       "      <td>2.637007</td>\n",
       "      <td>0</td>\n",
       "    </tr>\n",
       "    <tr>\n",
       "      <th>6</th>\n",
       "      <td>1</td>\n",
       "      <td>1</td>\n",
       "      <td>1</td>\n",
       "      <td>1</td>\n",
       "      <td>0</td>\n",
       "      <td>6</td>\n",
       "      <td>1</td>\n",
       "      <td>32</td>\n",
       "      <td>94.266389</td>\n",
       "      <td>6.0</td>\n",
       "      <td>2</td>\n",
       "      <td>1.138941</td>\n",
       "      <td>1.277242</td>\n",
       "      <td>0</td>\n",
       "    </tr>\n",
       "    <tr>\n",
       "      <th>7</th>\n",
       "      <td>0</td>\n",
       "      <td>1</td>\n",
       "      <td>0</td>\n",
       "      <td>0</td>\n",
       "      <td>1</td>\n",
       "      <td>1</td>\n",
       "      <td>0</td>\n",
       "      <td>30</td>\n",
       "      <td>217.786641</td>\n",
       "      <td>1.0</td>\n",
       "      <td>0</td>\n",
       "      <td>1.213502</td>\n",
       "      <td>1.049387</td>\n",
       "      <td>1</td>\n",
       "    </tr>\n",
       "    <tr>\n",
       "      <th>8</th>\n",
       "      <td>1</td>\n",
       "      <td>1</td>\n",
       "      <td>1</td>\n",
       "      <td>1</td>\n",
       "      <td>1</td>\n",
       "      <td>1</td>\n",
       "      <td>1</td>\n",
       "      <td>23</td>\n",
       "      <td>45.409909</td>\n",
       "      <td>1.0</td>\n",
       "      <td>1</td>\n",
       "      <td>1.106239</td>\n",
       "      <td>1.059333</td>\n",
       "      <td>0</td>\n",
       "    </tr>\n",
       "    <tr>\n",
       "      <th>9</th>\n",
       "      <td>0</td>\n",
       "      <td>1</td>\n",
       "      <td>0</td>\n",
       "      <td>0</td>\n",
       "      <td>1</td>\n",
       "      <td>1</td>\n",
       "      <td>0</td>\n",
       "      <td>31</td>\n",
       "      <td>65.310836</td>\n",
       "      <td>1.0</td>\n",
       "      <td>11</td>\n",
       "      <td>1.810852</td>\n",
       "      <td>1.951368</td>\n",
       "      <td>0</td>\n",
       "    </tr>\n",
       "    <tr>\n",
       "      <th>10</th>\n",
       "      <td>0</td>\n",
       "      <td>1</td>\n",
       "      <td>0</td>\n",
       "      <td>0</td>\n",
       "      <td>0</td>\n",
       "      <td>6</td>\n",
       "      <td>1</td>\n",
       "      <td>32</td>\n",
       "      <td>229.708945</td>\n",
       "      <td>6.0</td>\n",
       "      <td>3</td>\n",
       "      <td>1.641180</td>\n",
       "      <td>1.367714</td>\n",
       "      <td>0</td>\n",
       "    </tr>\n",
       "    <tr>\n",
       "      <th>11</th>\n",
       "      <td>1</td>\n",
       "      <td>1</td>\n",
       "      <td>1</td>\n",
       "      <td>0</td>\n",
       "      <td>1</td>\n",
       "      <td>1</td>\n",
       "      <td>0</td>\n",
       "      <td>27</td>\n",
       "      <td>266.783824</td>\n",
       "      <td>1.0</td>\n",
       "      <td>2</td>\n",
       "      <td>2.348535</td>\n",
       "      <td>1.584316</td>\n",
       "      <td>1</td>\n",
       "    </tr>\n",
       "    <tr>\n",
       "      <th>12</th>\n",
       "      <td>0</td>\n",
       "      <td>1</td>\n",
       "      <td>1</td>\n",
       "      <td>1</td>\n",
       "      <td>1</td>\n",
       "      <td>1</td>\n",
       "      <td>1</td>\n",
       "      <td>33</td>\n",
       "      <td>148.418053</td>\n",
       "      <td>1.0</td>\n",
       "      <td>4</td>\n",
       "      <td>3.368606</td>\n",
       "      <td>3.391853</td>\n",
       "      <td>0</td>\n",
       "    </tr>\n",
       "    <tr>\n",
       "      <th>13</th>\n",
       "      <td>1</td>\n",
       "      <td>1</td>\n",
       "      <td>0</td>\n",
       "      <td>0</td>\n",
       "      <td>1</td>\n",
       "      <td>1</td>\n",
       "      <td>1</td>\n",
       "      <td>27</td>\n",
       "      <td>152.748668</td>\n",
       "      <td>1.0</td>\n",
       "      <td>1</td>\n",
       "      <td>0.000000</td>\n",
       "      <td>0.000000</td>\n",
       "      <td>1</td>\n",
       "    </tr>\n",
       "    <tr>\n",
       "      <th>14</th>\n",
       "      <td>0</td>\n",
       "      <td>1</td>\n",
       "      <td>0</td>\n",
       "      <td>0</td>\n",
       "      <td>1</td>\n",
       "      <td>6</td>\n",
       "      <td>0</td>\n",
       "      <td>35</td>\n",
       "      <td>209.888133</td>\n",
       "      <td>3.0</td>\n",
       "      <td>8</td>\n",
       "      <td>1.978084</td>\n",
       "      <td>2.117349</td>\n",
       "      <td>0</td>\n",
       "    </tr>\n",
       "  </tbody>\n",
       "</table>\n",
       "</div>"
      ],
      "text/plain": [
       "    gender  Near_Location  Partner  Promo_friends  Phone  Contract_period  \\\n",
       "0        1              1        1              1      0                6   \n",
       "1        0              1        0              0      1               12   \n",
       "2        0              1        1              0      1                1   \n",
       "3        0              1        1              1      1               12   \n",
       "4        1              1        1              1      1                1   \n",
       "5        1              1        0              0      1                1   \n",
       "6        1              1        1              1      0                6   \n",
       "7        0              1        0              0      1                1   \n",
       "8        1              1        1              1      1                1   \n",
       "9        0              1        0              0      1                1   \n",
       "10       0              1        0              0      0                6   \n",
       "11       1              1        1              0      1                1   \n",
       "12       0              1        1              1      1                1   \n",
       "13       1              1        0              0      1                1   \n",
       "14       0              1        0              0      1                6   \n",
       "\n",
       "    Group_visits  Age  Avg_additional_charges_total  Month_to_end_contract  \\\n",
       "0              1   29                     14.227470                    5.0   \n",
       "1              1   31                    113.202938                   12.0   \n",
       "2              0   28                    129.448479                    1.0   \n",
       "3              1   33                     62.669863                   12.0   \n",
       "4              0   26                    198.362265                    1.0   \n",
       "5              1   34                    450.743960                    1.0   \n",
       "6              1   32                     94.266389                    6.0   \n",
       "7              0   30                    217.786641                    1.0   \n",
       "8              1   23                     45.409909                    1.0   \n",
       "9              0   31                     65.310836                    1.0   \n",
       "10             1   32                    229.708945                    6.0   \n",
       "11             0   27                    266.783824                    1.0   \n",
       "12             1   33                    148.418053                    1.0   \n",
       "13             1   27                    152.748668                    1.0   \n",
       "14             0   35                    209.888133                    3.0   \n",
       "\n",
       "    Lifetime  Avg_class_frequency_total  Avg_class_frequency_current_month  \\\n",
       "0          3                   0.020398                           0.000000   \n",
       "1          7                   1.922936                           1.910244   \n",
       "2          2                   1.859098                           1.736502   \n",
       "3          2                   3.205633                           3.357215   \n",
       "4          3                   1.113884                           1.120078   \n",
       "5          3                   2.623477                           2.637007   \n",
       "6          2                   1.138941                           1.277242   \n",
       "7          0                   1.213502                           1.049387   \n",
       "8          1                   1.106239                           1.059333   \n",
       "9         11                   1.810852                           1.951368   \n",
       "10         3                   1.641180                           1.367714   \n",
       "11         2                   2.348535                           1.584316   \n",
       "12         4                   3.368606                           3.391853   \n",
       "13         1                   0.000000                           0.000000   \n",
       "14         8                   1.978084                           2.117349   \n",
       "\n",
       "    Churn  \n",
       "0       0  \n",
       "1       0  \n",
       "2       0  \n",
       "3       0  \n",
       "4       0  \n",
       "5       0  \n",
       "6       0  \n",
       "7       1  \n",
       "8       0  \n",
       "9       0  \n",
       "10      0  \n",
       "11      1  \n",
       "12      0  \n",
       "13      1  \n",
       "14      0  "
      ]
     },
     "execution_count": 2,
     "metadata": {},
     "output_type": "execute_result"
    }
   ],
   "source": [
    "churn = pd.read_csv('/datasets/gym_churn.csv')\n",
    "churn.head(15)"
   ]
  },
  {
   "cell_type": "code",
   "execution_count": 3,
   "metadata": {},
   "outputs": [
    {
     "name": "stdout",
     "output_type": "stream",
     "text": [
      "<class 'pandas.core.frame.DataFrame'>\n",
      "RangeIndex: 4000 entries, 0 to 3999\n",
      "Data columns (total 14 columns):\n",
      " #   Column                             Non-Null Count  Dtype  \n",
      "---  ------                             --------------  -----  \n",
      " 0   gender                             4000 non-null   int64  \n",
      " 1   Near_Location                      4000 non-null   int64  \n",
      " 2   Partner                            4000 non-null   int64  \n",
      " 3   Promo_friends                      4000 non-null   int64  \n",
      " 4   Phone                              4000 non-null   int64  \n",
      " 5   Contract_period                    4000 non-null   int64  \n",
      " 6   Group_visits                       4000 non-null   int64  \n",
      " 7   Age                                4000 non-null   int64  \n",
      " 8   Avg_additional_charges_total       4000 non-null   float64\n",
      " 9   Month_to_end_contract              4000 non-null   float64\n",
      " 10  Lifetime                           4000 non-null   int64  \n",
      " 11  Avg_class_frequency_total          4000 non-null   float64\n",
      " 12  Avg_class_frequency_current_month  4000 non-null   float64\n",
      " 13  Churn                              4000 non-null   int64  \n",
      "dtypes: float64(4), int64(10)\n",
      "memory usage: 437.6 KB\n",
      "(4000, 14)\n"
     ]
    }
   ],
   "source": [
    "churn.info()\n",
    "print(churn.shape)\n"
   ]
  },
  {
   "cell_type": "code",
   "execution_count": 4,
   "metadata": {},
   "outputs": [
    {
     "data": {
      "text/plain": [
       "gender                               0\n",
       "Near_Location                        0\n",
       "Partner                              0\n",
       "Promo_friends                        0\n",
       "Phone                                0\n",
       "Contract_period                      0\n",
       "Group_visits                         0\n",
       "Age                                  0\n",
       "Avg_additional_charges_total         0\n",
       "Month_to_end_contract                0\n",
       "Lifetime                             0\n",
       "Avg_class_frequency_total            0\n",
       "Avg_class_frequency_current_month    0\n",
       "Churn                                0\n",
       "dtype: int64"
      ]
     },
     "execution_count": 4,
     "metadata": {},
     "output_type": "execute_result"
    }
   ],
   "source": [
    "#поищем пропуски\n",
    "churn.isnull().sum()"
   ]
  },
  {
   "cell_type": "markdown",
   "metadata": {},
   "source": [
    ">1. В датасете всего 14 признаков и 4000 наблюдений  \n",
    ">2. В признаках нет пропусков  \n",
    ">3. Формат данных везде указан верный  \n",
    ">4. Стоит привести названия признаков к нижнему регистру, проверить данные на дубликаты"
   ]
  },
  {
   "cell_type": "code",
   "execution_count": 5,
   "metadata": {},
   "outputs": [],
   "source": [
    "#приведем названия признаков к нижнему регистру\n",
    "churn.columns = churn.columns.str.lower()\n",
    "#churn.head()"
   ]
  },
  {
   "cell_type": "code",
   "execution_count": 6,
   "metadata": {},
   "outputs": [
    {
     "name": "stdout",
     "output_type": "stream",
     "text": [
      "Количество дубликатов в датасете churn: 0\n"
     ]
    }
   ],
   "source": [
    "#проверим данные на дубликаты\n",
    "print('Количество дубликатов в датасете churn:', churn.duplicated().sum())"
   ]
  },
  {
   "cell_type": "markdown",
   "metadata": {},
   "source": [
    "## Исследовательский анализ данных"
   ]
  },
  {
   "cell_type": "code",
   "execution_count": 7,
   "metadata": {},
   "outputs": [
    {
     "data": {
      "text/html": [
       "<div>\n",
       "<style scoped>\n",
       "    .dataframe tbody tr th:only-of-type {\n",
       "        vertical-align: middle;\n",
       "    }\n",
       "\n",
       "    .dataframe tbody tr th {\n",
       "        vertical-align: top;\n",
       "    }\n",
       "\n",
       "    .dataframe thead th {\n",
       "        text-align: right;\n",
       "    }\n",
       "</style>\n",
       "<table border=\"1\" class=\"dataframe\">\n",
       "  <thead>\n",
       "    <tr style=\"text-align: right;\">\n",
       "      <th></th>\n",
       "      <th>gender</th>\n",
       "      <th>near_location</th>\n",
       "      <th>partner</th>\n",
       "      <th>promo_friends</th>\n",
       "      <th>phone</th>\n",
       "      <th>contract_period</th>\n",
       "      <th>group_visits</th>\n",
       "      <th>age</th>\n",
       "      <th>avg_additional_charges_total</th>\n",
       "      <th>month_to_end_contract</th>\n",
       "      <th>lifetime</th>\n",
       "      <th>avg_class_frequency_total</th>\n",
       "      <th>avg_class_frequency_current_month</th>\n",
       "      <th>churn</th>\n",
       "    </tr>\n",
       "  </thead>\n",
       "  <tbody>\n",
       "    <tr>\n",
       "      <th>count</th>\n",
       "      <td>4000.000000</td>\n",
       "      <td>4000.000000</td>\n",
       "      <td>4000.000000</td>\n",
       "      <td>4000.000000</td>\n",
       "      <td>4000.000000</td>\n",
       "      <td>4000.000000</td>\n",
       "      <td>4000.000000</td>\n",
       "      <td>4000.000000</td>\n",
       "      <td>4000.000000</td>\n",
       "      <td>4000.000000</td>\n",
       "      <td>4000.000000</td>\n",
       "      <td>4000.000000</td>\n",
       "      <td>4000.000000</td>\n",
       "      <td>4000.000000</td>\n",
       "    </tr>\n",
       "    <tr>\n",
       "      <th>mean</th>\n",
       "      <td>0.510250</td>\n",
       "      <td>0.845250</td>\n",
       "      <td>0.486750</td>\n",
       "      <td>0.308500</td>\n",
       "      <td>0.903500</td>\n",
       "      <td>4.681250</td>\n",
       "      <td>0.412250</td>\n",
       "      <td>29.184250</td>\n",
       "      <td>146.943728</td>\n",
       "      <td>4.322750</td>\n",
       "      <td>3.724750</td>\n",
       "      <td>1.879020</td>\n",
       "      <td>1.767052</td>\n",
       "      <td>0.265250</td>\n",
       "    </tr>\n",
       "    <tr>\n",
       "      <th>std</th>\n",
       "      <td>0.499957</td>\n",
       "      <td>0.361711</td>\n",
       "      <td>0.499887</td>\n",
       "      <td>0.461932</td>\n",
       "      <td>0.295313</td>\n",
       "      <td>4.549706</td>\n",
       "      <td>0.492301</td>\n",
       "      <td>3.258367</td>\n",
       "      <td>96.355602</td>\n",
       "      <td>4.191297</td>\n",
       "      <td>3.749267</td>\n",
       "      <td>0.972245</td>\n",
       "      <td>1.052906</td>\n",
       "      <td>0.441521</td>\n",
       "    </tr>\n",
       "    <tr>\n",
       "      <th>min</th>\n",
       "      <td>0.000000</td>\n",
       "      <td>0.000000</td>\n",
       "      <td>0.000000</td>\n",
       "      <td>0.000000</td>\n",
       "      <td>0.000000</td>\n",
       "      <td>1.000000</td>\n",
       "      <td>0.000000</td>\n",
       "      <td>18.000000</td>\n",
       "      <td>0.148205</td>\n",
       "      <td>1.000000</td>\n",
       "      <td>0.000000</td>\n",
       "      <td>0.000000</td>\n",
       "      <td>0.000000</td>\n",
       "      <td>0.000000</td>\n",
       "    </tr>\n",
       "    <tr>\n",
       "      <th>25%</th>\n",
       "      <td>0.000000</td>\n",
       "      <td>1.000000</td>\n",
       "      <td>0.000000</td>\n",
       "      <td>0.000000</td>\n",
       "      <td>1.000000</td>\n",
       "      <td>1.000000</td>\n",
       "      <td>0.000000</td>\n",
       "      <td>27.000000</td>\n",
       "      <td>68.868830</td>\n",
       "      <td>1.000000</td>\n",
       "      <td>1.000000</td>\n",
       "      <td>1.180875</td>\n",
       "      <td>0.963003</td>\n",
       "      <td>0.000000</td>\n",
       "    </tr>\n",
       "    <tr>\n",
       "      <th>50%</th>\n",
       "      <td>1.000000</td>\n",
       "      <td>1.000000</td>\n",
       "      <td>0.000000</td>\n",
       "      <td>0.000000</td>\n",
       "      <td>1.000000</td>\n",
       "      <td>1.000000</td>\n",
       "      <td>0.000000</td>\n",
       "      <td>29.000000</td>\n",
       "      <td>136.220159</td>\n",
       "      <td>1.000000</td>\n",
       "      <td>3.000000</td>\n",
       "      <td>1.832768</td>\n",
       "      <td>1.719574</td>\n",
       "      <td>0.000000</td>\n",
       "    </tr>\n",
       "    <tr>\n",
       "      <th>75%</th>\n",
       "      <td>1.000000</td>\n",
       "      <td>1.000000</td>\n",
       "      <td>1.000000</td>\n",
       "      <td>1.000000</td>\n",
       "      <td>1.000000</td>\n",
       "      <td>6.000000</td>\n",
       "      <td>1.000000</td>\n",
       "      <td>31.000000</td>\n",
       "      <td>210.949625</td>\n",
       "      <td>6.000000</td>\n",
       "      <td>5.000000</td>\n",
       "      <td>2.536078</td>\n",
       "      <td>2.510336</td>\n",
       "      <td>1.000000</td>\n",
       "    </tr>\n",
       "    <tr>\n",
       "      <th>max</th>\n",
       "      <td>1.000000</td>\n",
       "      <td>1.000000</td>\n",
       "      <td>1.000000</td>\n",
       "      <td>1.000000</td>\n",
       "      <td>1.000000</td>\n",
       "      <td>12.000000</td>\n",
       "      <td>1.000000</td>\n",
       "      <td>41.000000</td>\n",
       "      <td>552.590740</td>\n",
       "      <td>12.000000</td>\n",
       "      <td>31.000000</td>\n",
       "      <td>6.023668</td>\n",
       "      <td>6.146783</td>\n",
       "      <td>1.000000</td>\n",
       "    </tr>\n",
       "  </tbody>\n",
       "</table>\n",
       "</div>"
      ],
      "text/plain": [
       "            gender  near_location      partner  promo_friends        phone  \\\n",
       "count  4000.000000    4000.000000  4000.000000    4000.000000  4000.000000   \n",
       "mean      0.510250       0.845250     0.486750       0.308500     0.903500   \n",
       "std       0.499957       0.361711     0.499887       0.461932     0.295313   \n",
       "min       0.000000       0.000000     0.000000       0.000000     0.000000   \n",
       "25%       0.000000       1.000000     0.000000       0.000000     1.000000   \n",
       "50%       1.000000       1.000000     0.000000       0.000000     1.000000   \n",
       "75%       1.000000       1.000000     1.000000       1.000000     1.000000   \n",
       "max       1.000000       1.000000     1.000000       1.000000     1.000000   \n",
       "\n",
       "       contract_period  group_visits          age  \\\n",
       "count      4000.000000   4000.000000  4000.000000   \n",
       "mean          4.681250      0.412250    29.184250   \n",
       "std           4.549706      0.492301     3.258367   \n",
       "min           1.000000      0.000000    18.000000   \n",
       "25%           1.000000      0.000000    27.000000   \n",
       "50%           1.000000      0.000000    29.000000   \n",
       "75%           6.000000      1.000000    31.000000   \n",
       "max          12.000000      1.000000    41.000000   \n",
       "\n",
       "       avg_additional_charges_total  month_to_end_contract     lifetime  \\\n",
       "count                   4000.000000            4000.000000  4000.000000   \n",
       "mean                     146.943728               4.322750     3.724750   \n",
       "std                       96.355602               4.191297     3.749267   \n",
       "min                        0.148205               1.000000     0.000000   \n",
       "25%                       68.868830               1.000000     1.000000   \n",
       "50%                      136.220159               1.000000     3.000000   \n",
       "75%                      210.949625               6.000000     5.000000   \n",
       "max                      552.590740              12.000000    31.000000   \n",
       "\n",
       "       avg_class_frequency_total  avg_class_frequency_current_month  \\\n",
       "count                4000.000000                        4000.000000   \n",
       "mean                    1.879020                           1.767052   \n",
       "std                     0.972245                           1.052906   \n",
       "min                     0.000000                           0.000000   \n",
       "25%                     1.180875                           0.963003   \n",
       "50%                     1.832768                           1.719574   \n",
       "75%                     2.536078                           2.510336   \n",
       "max                     6.023668                           6.146783   \n",
       "\n",
       "             churn  \n",
       "count  4000.000000  \n",
       "mean      0.265250  \n",
       "std       0.441521  \n",
       "min       0.000000  \n",
       "25%       0.000000  \n",
       "50%       0.000000  \n",
       "75%       1.000000  \n",
       "max       1.000000  "
      ]
     },
     "execution_count": 7,
     "metadata": {},
     "output_type": "execute_result"
    }
   ],
   "source": [
    "#изучим датасет глубже\n",
    "churn.describe()"
   ]
  },
  {
   "cell_type": "markdown",
   "metadata": {},
   "source": [
    ">1. В среднем фитнес-клуб посещает примерно поровну мужчин и женщин  \n",
    ">2. Больше 80% посетителей фитнес-клуба проживает поблизости клуба  \n",
    ">3. Почти половина посетителей клуба приходит в клуб по партнерской программе и имеет скидки на абонементы  \n",
    ">4. Контактный телефон в анкете указан в 90% случаях. В остальных 10% вероятнее всего его не указали сами клиенты, заполнявшие анкету. Возможно это семейная пара, приобретающая абонемент совместно или родитель и ребенок, которые часто посещают клуб вместе.  \n",
    ">5. Более 50% клиентов клуба выбирают абонементы сроком всего на 1 месяц  \n",
    ">6. 41% посетителей клуба посещают групповые занятия, остальные занимаются в зале или, возможно, персонально с тренером  \n",
    ">7. Средний возраст посетителей клуба 26-32 года, минимальный возраст - 27 лет, максимальный - 41 год  \n",
    ">8. Средняя суммарная выручна от дополнительнях услуг фитнес-центра от 50 до 242 у.е. Очень большой разброс. Посетители тратят очень по-разному  \n",
    ">9. Вероятнее всего мы исследуем выборку людей со свежими абонементами  \n",
    ">10. С момента первого обращения в фитнес-центр в среднем проходит 3 месяца, минимальной 1 месяц, а самый максимум показывает более 2,5 лет. \n",
    ">11. Чаще всего люди посещают клуб 1-2 раза в неделю  \n",
    ">12. В текущем месяце ушло порядка 26% клиентов \n",
    ">13. 30% клиентов приходят по программе \"Приведи друга\"  \n",
    ">14. У переменных разные средние отклонения, возможно нужно будет стандартизировать данные\n"
   ]
  },
  {
   "cell_type": "code",
   "execution_count": 8,
   "metadata": {},
   "outputs": [
    {
     "data": {
      "text/html": [
       "<div>\n",
       "<style scoped>\n",
       "    .dataframe tbody tr th:only-of-type {\n",
       "        vertical-align: middle;\n",
       "    }\n",
       "\n",
       "    .dataframe tbody tr th {\n",
       "        vertical-align: top;\n",
       "    }\n",
       "\n",
       "    .dataframe thead th {\n",
       "        text-align: right;\n",
       "    }\n",
       "</style>\n",
       "<table border=\"1\" class=\"dataframe\">\n",
       "  <thead>\n",
       "    <tr style=\"text-align: right;\">\n",
       "      <th></th>\n",
       "      <th>churn</th>\n",
       "      <th>gender</th>\n",
       "      <th>near_location</th>\n",
       "      <th>partner</th>\n",
       "      <th>promo_friends</th>\n",
       "      <th>phone</th>\n",
       "      <th>contract_period</th>\n",
       "      <th>group_visits</th>\n",
       "      <th>age</th>\n",
       "      <th>avg_additional_charges_total</th>\n",
       "      <th>month_to_end_contract</th>\n",
       "      <th>lifetime</th>\n",
       "      <th>avg_class_frequency_total</th>\n",
       "      <th>avg_class_frequency_current_month</th>\n",
       "    </tr>\n",
       "  </thead>\n",
       "  <tbody>\n",
       "    <tr>\n",
       "      <th>0</th>\n",
       "      <td>0</td>\n",
       "      <td>0.510037</td>\n",
       "      <td>0.873086</td>\n",
       "      <td>0.534195</td>\n",
       "      <td>0.353522</td>\n",
       "      <td>0.903709</td>\n",
       "      <td>5.747193</td>\n",
       "      <td>0.464103</td>\n",
       "      <td>29.976523</td>\n",
       "      <td>158.445715</td>\n",
       "      <td>5.283089</td>\n",
       "      <td>4.711807</td>\n",
       "      <td>2.024876</td>\n",
       "      <td>2.027882</td>\n",
       "    </tr>\n",
       "    <tr>\n",
       "      <th>1</th>\n",
       "      <td>1</td>\n",
       "      <td>0.510839</td>\n",
       "      <td>0.768143</td>\n",
       "      <td>0.355325</td>\n",
       "      <td>0.183789</td>\n",
       "      <td>0.902922</td>\n",
       "      <td>1.728558</td>\n",
       "      <td>0.268615</td>\n",
       "      <td>26.989632</td>\n",
       "      <td>115.082899</td>\n",
       "      <td>1.662582</td>\n",
       "      <td>0.990575</td>\n",
       "      <td>1.474995</td>\n",
       "      <td>1.044546</td>\n",
       "    </tr>\n",
       "  </tbody>\n",
       "</table>\n",
       "</div>"
      ],
      "text/plain": [
       "   churn    gender  near_location   partner  promo_friends     phone  \\\n",
       "0      0  0.510037       0.873086  0.534195       0.353522  0.903709   \n",
       "1      1  0.510839       0.768143  0.355325       0.183789  0.902922   \n",
       "\n",
       "   contract_period  group_visits        age  avg_additional_charges_total  \\\n",
       "0         5.747193      0.464103  29.976523                    158.445715   \n",
       "1         1.728558      0.268615  26.989632                    115.082899   \n",
       "\n",
       "   month_to_end_contract  lifetime  avg_class_frequency_total  \\\n",
       "0               5.283089  4.711807                   2.024876   \n",
       "1               1.662582  0.990575                   1.474995   \n",
       "\n",
       "   avg_class_frequency_current_month  \n",
       "0                           2.027882  \n",
       "1                           1.044546  "
      ]
     },
     "execution_count": 8,
     "metadata": {},
     "output_type": "execute_result"
    }
   ],
   "source": [
    "#посмотрим на средние значения признаков в двух группах - тех, кто ушел в отток и тех, кто остался\n",
    "churn.groupby('churn').mean().reset_index()\n"
   ]
  },
  {
   "cell_type": "markdown",
   "metadata": {},
   "source": [
    ">1. Женщин и мужчин уходит и остается практически поровну, нет сильных перевесов. Отток клиентов от гендера не зависит. \n",
    ">2. Уходит больше клиентов, которые не проживают рядом с фитнес-клубом. Но перевес не так велик, всего 10%  \n",
    ">3. Те, кто ходит в клуб по партнерской программме имеют большую тенденцию оставаться в клубе.  \n",
    ">4. Те, кто пришел по совету друга имеют большую тенденцию оставаться в клубе.  \n",
    ">5. В основном уходят те, у кого срок действия абонемента составляет 1 месяц. Учитывая, что большинство абонементов, которые мы исследуем имеют срок в 1 месяц, скорее всего это самые минимальные \"пробные\" абонементы, после которых клиенты просто не заинтересованы продолжать тренироки. Тенденцию оставаться в клубе имеют клиенты с длительным сроком действия абонемента. В нашем случае, от 6 месяцев  \n",
    ">6. Отток клиентов, посещающих групповые занятия всего у 26% клиентов. У тех, кто групповые занятия не посещает, отток больше. Но, как мы выяснили основная масса клиентов клуба групповые занятия не посещает в принципе. Возможно, что большинство клиентов клуба занимается не персонально с тренером, а самостоятельно, поэтому им быстро становится скучно в зале, без должного руководства. \n",
    ">7. Остаются клиенты со средним возрастом 29-30 лет, а уходят 26-27. Можно сосредоточиться на более целевом возрасте.  \n",
    ">8. Те, кто тратят меньше, уходят чаще.  \n",
    ">9. Время с момента первого обращения в фитнес-центр у тех, кто остается почти 5 месяцев. Учитывая длительность абонементов, они ходят регулярно. \n",
    ">10. Те, кто чаще остаются, ходят 2 раза в неделю, те, кто уходит, чуть реже. Но в целом разница в посещениях не так велика. \n",
    ">11. У тех, кто уходит, есть тенденция к тому, что они реже начинают посещать тренировки примерно на 45%"
   ]
  },
  {
   "cell_type": "code",
   "execution_count": 9,
   "metadata": {},
   "outputs": [
    {
     "data": {
      "image/png": "[encoded data removed]",
      "text/plain": [
       "<Figure size 432x288 with 1 Axes>"
      ]
     },
     "metadata": {
      "needs_background": "light"
     },
     "output_type": "display_data"
    },
    {
     "data": {
      "image/png": "[encoded data removed]",
      "text/plain": [
       "<Figure size 432x288 with 1 Axes>"
      ]
     },
     "metadata": {
      "needs_background": "light"
     },
     "output_type": "display_data"
    },
    {
     "data": {
      "image/png": "[encoded data removed]",
      "text/plain": [
       "<Figure size 432x288 with 1 Axes>"
      ]
     },
     "metadata": {
      "needs_background": "light"
     },
     "output_type": "display_data"
    },
    {
     "data": {
      "image/png": "[encoded data removed]",
      "text/plain": [
       "<Figure size 432x288 with 1 Axes>"
      ]
     },
     "metadata": {
      "needs_background": "light"
     },
     "output_type": "display_data"
    },
    {
     "data": {
      "image/png": "[encoded data removed]",
      "text/plain": [
       "<Figure size 432x288 with 1 Axes>"
      ]
     },
     "metadata": {
      "needs_background": "light"
     },
     "output_type": "display_data"
    },
    {
     "data": {
      "image/png": "[encoded data removed]",
      "text/plain": [
       "<Figure size 432x288 with 1 Axes>"
      ]
     },
     "metadata": {
      "needs_background": "light"
     },
     "output_type": "display_data"
    },
    {
     "data": {
      "image/png": "[encoded data removed]",
      "text/plain": [
       "<Figure size 432x288 with 1 Axes>"
      ]
     },
     "metadata": {
      "needs_background": "light"
     },
     "output_type": "display_data"
    },
    {
     "data": {
      "image/png": "[encoded data removed]",
      "text/plain": [
       "<Figure size 432x288 with 1 Axes>"
      ]
     },
     "metadata": {
      "needs_background": "light"
     },
     "output_type": "display_data"
    },
    {
     "data": {
      "image/png": "[encoded data removed]",
      "text/plain": [
       "<Figure size 432x288 with 1 Axes>"
      ]
     },
     "metadata": {
      "needs_background": "light"
     },
     "output_type": "display_data"
    },
    {
     "data": {
      "image/png": "[encoded data removed]",
      "text/plain": [
       "<Figure size 432x288 with 1 Axes>"
      ]
     },
     "metadata": {
      "needs_background": "light"
     },
     "output_type": "display_data"
    },
    {
     "data": {
      "image/png": "[encoded data removed]",
      "text/plain": [
       "<Figure size 432x288 with 1 Axes>"
      ]
     },
     "metadata": {
      "needs_background": "light"
     },
     "output_type": "display_data"
    },
    {
     "data": {
      "image/png": "[encoded data removed]",
      "text/plain": [
       "<Figure size 432x288 with 1 Axes>"
      ]
     },
     "metadata": {
      "needs_background": "light"
     },
     "output_type": "display_data"
    },
    {
     "data": {
      "image/png": "[encoded data removed]",
      "text/plain": [
       "<Figure size 432x288 with 1 Axes>"
      ]
     },
     "metadata": {
      "needs_background": "light"
     },
     "output_type": "display_data"
    }
   ],
   "source": [
    "#построим столбчатые гистограммы и распределения признаков для тех, кто ушёл (отток) и тех, кто остался (не попали в отток)\n",
    "for column in ['gender', 'near_location', 'partner', 'promo_friends', 'phone', 'group_visits']:\n",
    "    churn.groupby('churn')[column].hist(bins=5, range=(0, 1), alpha=0.3)\n",
    "    plt.title(column)\n",
    "    plt.xlabel(column)\n",
    "    plt.ylabel('кол-во клиентов')\n",
    "    plt.legend(['остались', 'ушли'])\n",
    "    plt.show()\n",
    "    \n",
    "for column in ['contract_period', 'age', 'month_to_end_contract', 'lifetime']:\n",
    "    churn.groupby('churn')[column].hist(bins=10, range=(0, 41), alpha=0.3)\n",
    "    plt.title(column)\n",
    "    plt.xlabel(column)\n",
    "    plt.ylabel('кол-во клиентов')\n",
    "    plt.legend(['остались', 'ушли'])\n",
    "    plt.show()\n",
    "    \n",
    "for column in ['avg_additional_charges_total', 'avg_class_frequency_total', 'avg_class_frequency_current_month']:\n",
    "    sns.boxplot(x = 'churn', y = churn[column], data = churn)\n",
    "    plt.show()"
   ]
  },
  {
   "cell_type": "markdown",
   "metadata": {},
   "source": [
    ">1. Гендер не влияет на отток клиентов фитнес-клуба. Уходят как женщины, так и мужчины в равной степени  \n",
    ">2. Большинство клиентов клуба проживают рядом с клубом, остается больше клиентов, которые проживают рядом. Тем, кто живет дальше уйти легче  \n",
    ">3. Те, кто приходят в клуб по партнерской программе остаются чаще тех, кто не пользуется этими привилегиями. Из тех, кто не имеет отношения к партнерской программе, уходит практически каждый 2ой, в то время как те, кто в программе участвуют остаются практически 4 к 1 >4. Большинство клиентов клуба пришли не по акции \"приведи друга\". Таких клиентов больше практически в 2 раза. Зато те, кто пришел с друзьями остаются чаще. Процент ушедших из программы \"приведи друга\" всего около 20%, в то время как почти половина из тех, кто не пользовался этой акцией бросают тренировки  \n",
    ">5. Наличие телефонного номера никак не влияет на отток клиентов. Тенденция одинакова.  \n",
    ">6. Тех, кто посещает групповые тренировки немного меньше, тем тех, кто их не посещает. Из тех, кто групповые тренировки посещает, остается практически каждый 4й, а из тех, кто не посещает, только каждый второй. Скорее всего гипотеза о том, что людям становится скучно тренироваться самостоятельно, подтверждается.  \n",
    ">7. Больше всего абонементов по 1 месяцу, на втором месте - абонементы длительностью 1 год. Месяные абонементы очень невыгодны для клуба - из тех, кто приобрел такой абонемент почти 70% уходят. А вот годовые абонементы довольно выгодны - по ним уходит около 5% людей. Примерно тоже самое можно сказать и о полугодовых абонементах - уходит только 15%  \n",
    ">8. Клиенты до 25 лет самые непостоянные. Их уходит почти в 2 раза больше чем остаются. От 25 до 29 лет тенденция меняется, но все равно около 60% таких клиентов имеют тенденцию уходить. Клиентов возвраста 29-33 лет можно назвать устойчивыми. Всего 30% таких клиентов уходит. Стоит заметить, что у клуба большинство клиентов именно такого возраста. Возраст 33-37 лет можно назвать самым интереснм для клуба. Меньше 10% таких клиентов покидают клуб. Вероятнее всего стоит получше рассмотреть эту аудиторию и возможно, увеличить ее численность  \n",
    ">9. Больше остается людей, у которых до окончания действия абонемента еще довольно много времени. Те, у кого остается до 3х месяцев уходят больше. Вероятнее всего здесь имеет влияние и тот факт, что у нас в принципе больше всего людей со сроком действия абонемента в 1 месяц. И это же как мы выяснили самая ненадежная группа  \n",
    ">10. Чаще уходят те, у кого с момента первого обращения в фитнес-центр прошло до 3х месяцев. После 3х месяцев тенденция меняется. С увеличением срока жизни клиента, снижается и отток  \n",
    ">11. Видна тенденция больщего ухода клиентов, которые не пользуются дополнительными услугами. Это обосновано, ведь лояльные клиенты чаще приходят в клуб не только на тренировку, но и просто хорошо провести время. Выпить коктейль в фитнес-баре, поболтать с товарищами, сходить на массаж и тп  \n",
    ">12. Те, кто ходит регулярно около 2х раз в неделю чаще остаются, сохраняя тенденцию регулярности месяц за месяцем, а вот нерегулярные клиенты со временем становытся еще нерегулярней и в скором времени уходят  "
   ]
  },
  {
   "cell_type": "code",
   "execution_count": 10,
   "metadata": {},
   "outputs": [
    {
     "data": {
      "text/plain": [
       "<AxesSubplot:title={'center':'Матрица корелляций'}>"
      ]
     },
     "execution_count": 10,
     "metadata": {},
     "output_type": "execute_result"
    },
    {
     "data": {
      "image/png": "[encoded data removed]",
      "text/plain": [
       "<Figure size 936x648 with 2 Axes>"
      ]
     },
     "metadata": {},
     "output_type": "display_data"
    }
   ],
   "source": [
    "#строим матрицу корреляций\n",
    "cm = churn.corr()\n",
    "sns.set(style='white')\n",
    "plt.figure(figsize=(13, 9))\n",
    "plt.title('Матрица корелляций')\n",
    "sns.heatmap(cm, annot=True, fmt='.2f', linewidths=1, linecolor='gray')"
   ]
  },
  {
   "cell_type": "markdown",
   "metadata": {},
   "source": [
    ">Большинство признаков коррелирует с целевой переменной за исключением признаков 'phone' и 'gender'. Корреляция с целевой переменной у них нулевая. Никакой зависимости нет.  \n",
    "В данных есть 2 пары признаков с высокой корреляцией (contract_period / month_to_end+contract и avg_class_grequency_current_month / avg_class_grequency_current_total), в рамках задачи делать с ними ничего не будем\n",
    ">\n",
    ">* Чем ближе к клубу, тем больше вероятность того, что клиент останется в клубе. \n",
    ">* Чем старше клиент, тем он постояннее\n",
    ">* Чем больше клиент участвует в акциях (партнерская, а также приведи друга), тем чаще он остается  \n",
    ">* Чем больше длительность абонемента у клиента и выше lifetime, тем чаще он остается \n",
    ">* Это же касается и частоты посещения клуба, и количества месяцев, оставшихся до истечения абонемента, а также дополнительных трат. "
   ]
  },
  {
   "cell_type": "markdown",
   "metadata": {},
   "source": [
    "## Модель прогнозирования оттока клиентов"
   ]
  },
  {
   "cell_type": "markdown",
   "metadata": {},
   "source": [
    "Строим модель бинарной классификации клиентов, где целевой признак — **факт оттока клиента в следующем месяце**"
   ]
  },
  {
   "cell_type": "code",
   "execution_count": 11,
   "metadata": {},
   "outputs": [],
   "source": [
    "#разделяем данные на признаки (матрица X) и целевую переменную (y)\n",
    "X = churn.drop('churn', axis = 1)\n",
    "y = churn['churn']\n",
    "\n",
    "#разбиваем данные на обучающую и валидационную выборку \n",
    "X_train, X_test, y_train, y_test = train_test_split(X, y, test_size=0.2, stratify = y, random_state=0)"
   ]
  },
  {
   "cell_type": "code",
   "execution_count": 12,
   "metadata": {},
   "outputs": [
    {
     "name": "stdout",
     "output_type": "stream",
     "text": [
      "LogisticRegression(solver='liblinear')\n",
      "Accuracy:0.93 Precision:0.89 Recall:0.83 \n",
      "RandomForestClassifier(random_state=0)\n",
      "Accuracy:0.92 Precision:0.88 Recall:0.83 \n"
     ]
    }
   ],
   "source": [
    "#обучаем модель на train-выборке методами логистической регрессии и случайного леса, выводим метрики\n",
    "models = [\n",
    "    LogisticRegression(solver='liblinear'),\n",
    "    RandomForestClassifier(n_estimators = 100, random_state=0),\n",
    "]\n",
    "\n",
    "\n",
    "def make_prediction(m, X_train, y_train, X_test, y_test):\n",
    "    model = m\n",
    "    model.fit(X_train, y_train)\n",
    "    y_pred = model.predict(X_test)\n",
    "    print(\n",
    "        'Accuracy:{:.2f} Precision:{:.2f} Recall:{:.2f} '.format(\n",
    "            accuracy_score(y_test, y_pred),\n",
    "            precision_score(y_test, y_pred),\n",
    "            recall_score(y_test, y_pred),\n",
    "        )\n",
    "    )\n",
    "    \n",
    "for i in models:\n",
    "    print(i)\n",
    "    make_prediction(m=i, X_train=X_train, y_train=y_train,\n",
    "                    X_test=X_test, y_test=y_test)\n"
   ]
  },
  {
   "cell_type": "markdown",
   "metadata": {},
   "source": [
    ">1. Доля правильных ответов (метрика Accuracy) у логистической регрессии немного лучше, хотя у обеих моделей довольно высокий результат. Правильно прогнозируем 93% с помощью логистической регрессии и 92% ответов с помощью случайного леса\n",
    ">2. Доля верных прогнозов (метрика Precision) также у логистической регрессии лучше. \n",
    ">3. Метрика Recall (минимизация противоположных рисков) у обеих моделей одинакова\n",
    ">\n",
    ">**Вывод:** модель логистической регрессии прогнозирует лучше"
   ]
  },
  {
   "cell_type": "markdown",
   "metadata": {},
   "source": [
    "## Кластеризация клиентов"
   ]
  },
  {
   "cell_type": "code",
   "execution_count": 13,
   "metadata": {},
   "outputs": [],
   "source": [
    "#избавимся от столбца churn\n",
    "no_churn = churn.drop(['churn'], axis=1)"
   ]
  },
  {
   "cell_type": "code",
   "execution_count": 14,
   "metadata": {},
   "outputs": [],
   "source": [
    "#стандартизируем данные\n",
    "sc = StandardScaler()\n",
    "x_sc = sc.fit_transform(no_churn)"
   ]
  },
  {
   "cell_type": "code",
   "execution_count": 15,
   "metadata": {},
   "outputs": [
    {
     "data": {
      "image/png": "[encoded data removed]",
      "text/plain": [
       "<Figure size 1080x720 with 1 Axes>"
      ]
     },
     "metadata": {},
     "output_type": "display_data"
    }
   ],
   "source": [
    "#строим матрицу расстояний функцией linkage() на стандартизованной матрице признаков и рисуем дендрограмму\n",
    "linked = linkage(x_sc, method = 'ward') \n",
    "\n",
    "plt.figure(figsize=(15, 10))  \n",
    "dendrogram(linked, orientation='top')\n",
    "plt.show()"
   ]
  },
  {
   "cell_type": "markdown",
   "metadata": {},
   "source": [
    ">Число кластеров по дендрограмме - 4"
   ]
  },
  {
   "cell_type": "code",
   "execution_count": 16,
   "metadata": {},
   "outputs": [],
   "source": [
    "#Обучаем модель кластеризации на основании алгоритма K-Means и прогнозируем кластеры клиентов. Число кластеров n=5 (по требованию, указанному в условии задачи)\n",
    "km = KMeans(n_clusters = 5, random_state=0)\n",
    "labels = km.fit_predict(x_sc)\n",
    "churn['cluster'] = labels"
   ]
  },
  {
   "cell_type": "code",
   "execution_count": 17,
   "metadata": {},
   "outputs": [
    {
     "data": {
      "text/html": [
       "<div>\n",
       "<style scoped>\n",
       "    .dataframe tbody tr th:only-of-type {\n",
       "        vertical-align: middle;\n",
       "    }\n",
       "\n",
       "    .dataframe tbody tr th {\n",
       "        vertical-align: top;\n",
       "    }\n",
       "\n",
       "    .dataframe thead th {\n",
       "        text-align: right;\n",
       "    }\n",
       "</style>\n",
       "<table border=\"1\" class=\"dataframe\">\n",
       "  <thead>\n",
       "    <tr style=\"text-align: right;\">\n",
       "      <th></th>\n",
       "      <th>gender</th>\n",
       "      <th>near_location</th>\n",
       "      <th>partner</th>\n",
       "      <th>promo_friends</th>\n",
       "      <th>phone</th>\n",
       "      <th>contract_period</th>\n",
       "      <th>group_visits</th>\n",
       "      <th>age</th>\n",
       "      <th>avg_additional_charges_total</th>\n",
       "      <th>month_to_end_contract</th>\n",
       "      <th>lifetime</th>\n",
       "      <th>avg_class_frequency_total</th>\n",
       "      <th>avg_class_frequency_current_month</th>\n",
       "      <th>churn</th>\n",
       "    </tr>\n",
       "    <tr>\n",
       "      <th>cluster</th>\n",
       "      <th></th>\n",
       "      <th></th>\n",
       "      <th></th>\n",
       "      <th></th>\n",
       "      <th></th>\n",
       "      <th></th>\n",
       "      <th></th>\n",
       "      <th></th>\n",
       "      <th></th>\n",
       "      <th></th>\n",
       "      <th></th>\n",
       "      <th></th>\n",
       "      <th></th>\n",
       "      <th></th>\n",
       "    </tr>\n",
       "  </thead>\n",
       "  <tbody>\n",
       "    <tr>\n",
       "      <th>0</th>\n",
       "      <td>0.502970</td>\n",
       "      <td>0.959406</td>\n",
       "      <td>0.783168</td>\n",
       "      <td>0.574257</td>\n",
       "      <td>1.000000</td>\n",
       "      <td>10.889109</td>\n",
       "      <td>0.542574</td>\n",
       "      <td>29.982178</td>\n",
       "      <td>160.761016</td>\n",
       "      <td>9.954455</td>\n",
       "      <td>4.736634</td>\n",
       "      <td>1.982055</td>\n",
       "      <td>1.974789</td>\n",
       "      <td>0.027723</td>\n",
       "    </tr>\n",
       "    <tr>\n",
       "      <th>1</th>\n",
       "      <td>0.522078</td>\n",
       "      <td>0.862338</td>\n",
       "      <td>0.470130</td>\n",
       "      <td>0.306494</td>\n",
       "      <td>0.000000</td>\n",
       "      <td>4.787013</td>\n",
       "      <td>0.425974</td>\n",
       "      <td>29.301299</td>\n",
       "      <td>143.957664</td>\n",
       "      <td>4.475325</td>\n",
       "      <td>3.924675</td>\n",
       "      <td>1.847220</td>\n",
       "      <td>1.716369</td>\n",
       "      <td>0.267532</td>\n",
       "    </tr>\n",
       "    <tr>\n",
       "      <th>2</th>\n",
       "      <td>0.495050</td>\n",
       "      <td>0.000000</td>\n",
       "      <td>0.463366</td>\n",
       "      <td>0.079208</td>\n",
       "      <td>1.000000</td>\n",
       "      <td>2.352475</td>\n",
       "      <td>0.215842</td>\n",
       "      <td>28.477228</td>\n",
       "      <td>135.457501</td>\n",
       "      <td>2.198020</td>\n",
       "      <td>2.809901</td>\n",
       "      <td>1.660461</td>\n",
       "      <td>1.477324</td>\n",
       "      <td>0.443564</td>\n",
       "    </tr>\n",
       "    <tr>\n",
       "      <th>3</th>\n",
       "      <td>0.485737</td>\n",
       "      <td>1.000000</td>\n",
       "      <td>0.350238</td>\n",
       "      <td>0.240095</td>\n",
       "      <td>1.000000</td>\n",
       "      <td>1.948494</td>\n",
       "      <td>0.341521</td>\n",
       "      <td>28.167987</td>\n",
       "      <td>131.622204</td>\n",
       "      <td>1.856577</td>\n",
       "      <td>2.440571</td>\n",
       "      <td>1.247634</td>\n",
       "      <td>1.012983</td>\n",
       "      <td>0.514263</td>\n",
       "    </tr>\n",
       "    <tr>\n",
       "      <th>4</th>\n",
       "      <td>0.559666</td>\n",
       "      <td>0.976134</td>\n",
       "      <td>0.356802</td>\n",
       "      <td>0.230310</td>\n",
       "      <td>0.998807</td>\n",
       "      <td>2.669451</td>\n",
       "      <td>0.473747</td>\n",
       "      <td>30.125298</td>\n",
       "      <td>161.657905</td>\n",
       "      <td>2.459427</td>\n",
       "      <td>4.898568</td>\n",
       "      <td>2.852002</td>\n",
       "      <td>2.850161</td>\n",
       "      <td>0.068019</td>\n",
       "    </tr>\n",
       "  </tbody>\n",
       "</table>\n",
       "</div>"
      ],
      "text/plain": [
       "           gender  near_location   partner  promo_friends     phone  \\\n",
       "cluster                                                               \n",
       "0        0.502970       0.959406  0.783168       0.574257  1.000000   \n",
       "1        0.522078       0.862338  0.470130       0.306494  0.000000   \n",
       "2        0.495050       0.000000  0.463366       0.079208  1.000000   \n",
       "3        0.485737       1.000000  0.350238       0.240095  1.000000   \n",
       "4        0.559666       0.976134  0.356802       0.230310  0.998807   \n",
       "\n",
       "         contract_period  group_visits        age  \\\n",
       "cluster                                             \n",
       "0              10.889109      0.542574  29.982178   \n",
       "1               4.787013      0.425974  29.301299   \n",
       "2               2.352475      0.215842  28.477228   \n",
       "3               1.948494      0.341521  28.167987   \n",
       "4               2.669451      0.473747  30.125298   \n",
       "\n",
       "         avg_additional_charges_total  month_to_end_contract  lifetime  \\\n",
       "cluster                                                                  \n",
       "0                          160.761016               9.954455  4.736634   \n",
       "1                          143.957664               4.475325  3.924675   \n",
       "2                          135.457501               2.198020  2.809901   \n",
       "3                          131.622204               1.856577  2.440571   \n",
       "4                          161.657905               2.459427  4.898568   \n",
       "\n",
       "         avg_class_frequency_total  avg_class_frequency_current_month  \\\n",
       "cluster                                                                 \n",
       "0                         1.982055                           1.974789   \n",
       "1                         1.847220                           1.716369   \n",
       "2                         1.660461                           1.477324   \n",
       "3                         1.247634                           1.012983   \n",
       "4                         2.852002                           2.850161   \n",
       "\n",
       "            churn  \n",
       "cluster            \n",
       "0        0.027723  \n",
       "1        0.267532  \n",
       "2        0.443564  \n",
       "3        0.514263  \n",
       "4        0.068019  "
      ]
     },
     "execution_count": 17,
     "metadata": {},
     "output_type": "execute_result"
    }
   ],
   "source": [
    "#Cмотрим на средние значения признаков для кластеров\n",
    "churn.groupby('cluster').mean()"
   ]
  },
  {
   "cell_type": "markdown",
   "metadata": {},
   "source": [
    "> Уже сейчас можно сказать, что из разных кластеров разный отток клиентов. Например, кластеры 2 и 3 с самым высоким оттоком клиентов, а кластеры 0 и 4 с самым низким.  \n",
    ">\n",
    ">Также у кластеров с высоким оттоком клиентов не все признаки схожи. Например, клиенты кластера 2 проживают близко к фитнес-клубу, а клиенты кластера 3 далеко от него. Основные клиенты второго кластера пришли по акции \"приведи друга\", а клиенты кластера 3 в большинстве своем не пользовались этим предложением. Зато хорошо совпадают возрастные группы и посещение групповых занятий. В других признаках есть разница, но в целом она не очень большая, поэтому эти признаки также можно считать схожими.  \n",
    ">\n",
    ">Кластеры 0 и 4 с низким оттоком клиентов также различаются. Например, у кластера 4 практически с нулевым оттоком клиентов есть большая зависимость от принадлжености к партнерской программе. 78% клиентов пришли именно оттуда, тогда как в кластере 0 примерно такой же процент людей в программе не участвовало. В нулевом кластере также только 27% тех, кто пришел по акции приведи друга, в то время как в 4 кластере таких людей больше 57%.  \n",
    ">В четвертом кластере люди с самыми длительными абонементами.  \n",
    ">Возрастная группа у обоих кластеров похожа. В среднем это люди 30 лет.\n",
    ">Остальные показатели у кластеров 0 и 4 схожи, есть различия только в сроке окончания контракта, но это связано и с длительностью абонемента.  \n",
    "\n",
    ">Самый низкий отток у клиентов кластера 4 с самыми высокими признаками. Можно сказать, что чем выше/ дольше / больше признак, тем меньше клиентов уходит из фитнес-центра"
   ]
  },
  {
   "cell_type": "code",
   "execution_count": 18,
   "metadata": {},
   "outputs": [
    {
     "data": {
      "image/png": "[encoded data removed]",
      "text/plain": [
       "<Figure size 432x288 with 1 Axes>"
      ]
     },
     "metadata": {},
     "output_type": "display_data"
    },
    {
     "data": {
      "image/png": "[encoded data removed]",
      "text/plain": [
       "<Figure size 432x288 with 1 Axes>"
      ]
     },
     "metadata": {},
     "output_type": "display_data"
    },
    {
     "data": {
      "image/png": "[encoded data removed]",
      "text/plain": [
       "<Figure size 432x288 with 1 Axes>"
      ]
     },
     "metadata": {},
     "output_type": "display_data"
    },
    {
     "data": {
      "image/png": "[encoded data removed]",
      "text/plain": [
       "<Figure size 432x288 with 1 Axes>"
      ]
     },
     "metadata": {},
     "output_type": "display_data"
    },
    {
     "data": {
      "image/png": "[encoded data removed]",
      "text/plain": [
       "<Figure size 432x288 with 1 Axes>"
      ]
     },
     "metadata": {},
     "output_type": "display_data"
    },
    {
     "data": {
      "image/png": "[encoded data removed]",
      "text/plain": [
       "<Figure size 432x288 with 1 Axes>"
      ]
     },
     "metadata": {},
     "output_type": "display_data"
    },
    {
     "data": {
      "image/png": "[encoded data removed]",
      "text/plain": [
       "<Figure size 432x288 with 1 Axes>"
      ]
     },
     "metadata": {},
     "output_type": "display_data"
    },
    {
     "data": {
      "image/png": "[encoded data removed]",
      "text/plain": [
       "<Figure size 432x288 with 1 Axes>"
      ]
     },
     "metadata": {},
     "output_type": "display_data"
    },
    {
     "data": {
      "image/png": "[encoded data removed]",
      "text/plain": [
       "<Figure size 432x288 with 1 Axes>"
      ]
     },
     "metadata": {},
     "output_type": "display_data"
    },
    {
     "data": {
      "image/png": "[encoded data removed]",
      "text/plain": [
       "<Figure size 432x288 with 1 Axes>"
      ]
     },
     "metadata": {},
     "output_type": "display_data"
    },
    {
     "data": {
      "image/png": "[encoded data removed]",
      "text/plain": [
       "<Figure size 432x288 with 1 Axes>"
      ]
     },
     "metadata": {},
     "output_type": "display_data"
    },
    {
     "data": {
      "image/png": "[encoded data removed]",
      "text/plain": [
       "<Figure size 432x288 with 1 Axes>"
      ]
     },
     "metadata": {},
     "output_type": "display_data"
    }
   ],
   "source": [
    "# построим распределения признаков для кластеров\n",
    "\n",
    "for column in ['gender', 'near_location', 'partner', 'promo_friends', 'phone', 'group_visits']:\n",
    "    sns.countplot(x = churn[column], hue='cluster', data=churn)\n",
    "    plt.title(column)\n",
    "    plt.show()\n",
    "    \n",
    "for column in ['month_to_end_contract', 'age', 'lifetime', 'avg_additional_charges_total', 'avg_class_frequency_total', 'avg_class_frequency_current_month']:\n",
    "    sns.boxplot(x = 'cluster', y = churn[column], data = churn)\n",
    "    plt.show()"
   ]
  },
  {
   "cell_type": "markdown",
   "metadata": {},
   "source": [
    ">1. Во всех кластерах примерно одинаковое кол-во мужчин и женщин  \n",
    ">2. Во всех кластерах значительно превалируют клиенты, живущие рядом с фитнес-центром. Только в 3м кластере перевес клиентов в сторону тех, кто живет дальше  \n",
    ">3. В 4 кластере явное большинство клиентов пришли по партнерской программе. Во втором кластере перевес в сторону людей, в программе не участвующих  \n",
    ">4. В 3, 2 и 0 кластере значительно больше тех, кто не слышал о программе \"приведи друга\". В целом людей, которые программой не пользуются - больше  \n",
    ">5. В первый кластер попали люди, не оставившие номера телефонов. Во всех остальных кластерах люди с телефонами. Стоит ли вообще принимать во внимание этот кластер?  \n",
    ">6. Во втором и третьем кластерах больше всего людей, которые не посещают групповые занятия. В остальных клстерах таких клиентов примерно поровну  \n",
    ">7. В 4 кластер попали люди, у которых больше 70% абонементов сроком на 12 месяцев, а остальные сроком на 6 месяцев. В этом кластере вообще нет людей, у которых абонемент длится месяц. Во втором же кластере, наоборот, находятся клиенты, у которых около 70% абонементов всего на месяц. В певом кластере собрано число абонемнетов с разными сроками действия  \n",
    ">8. В 4м кластере у большинства людей до окончания абонемента осталось порядка 12 месяцев, то есть как будто бы они только начали ходить, но уже купили годовой абонемень. Во втором кластере собрались те, у кого абонемент скоро заканчиватеся. Учитывая, что во втором кластере больше всего людей с абонементами сроком действия всего месяц, то можно считать, что и они только начали ходить, но взяли не очень длительный абонемент\n",
    ">9. Большая часть клиентов 26-33 лет. В 0 и 4 кластере аудитория постарше, от 28 до 33. \n",
    ">10. Самый большой срок жизни клиентов  в 0 и 4 кластерах, самый маленький во 2м  \n",
    ">11. Суммы трат немного перевешивают в 0 и 4м кластере, но в целом можно сказать, что во всех кластерах клиенты примерно одинаково тратят \n",
    ">12. Чаще всего посещают занятия люди из 0 кластера, на втором месте 4. Второй кластер можно назвать самым нерегулярным. "
   ]
  },
  {
   "cell_type": "code",
   "execution_count": 19,
   "metadata": {},
   "outputs": [
    {
     "data": {
      "text/plain": [
       "cluster\n",
       "0     2.772277\n",
       "1    26.753247\n",
       "2    44.356436\n",
       "3    51.426307\n",
       "4     6.801909\n",
       "Name: churn, dtype: float64"
      ]
     },
     "execution_count": 19,
     "metadata": {},
     "output_type": "execute_result"
    }
   ],
   "source": [
    "# для каждого полученного кластера посчитаем долю оттока \n",
    "churn.groupby('cluster')['churn'].mean()*100"
   ]
  },
  {
   "cell_type": "markdown",
   "metadata": {},
   "source": [
    ">1. Самый надежный - кластер номер 4, меньше 3% оттока клиентов. \n",
    ">2. На втором месте кластер 0 с долей оттока всего 6,8%\n",
    ">3. Больше половины клиентов уходят из кластера 3, немногим лучше кластер 2 - высокий отток клиентов\n",
    ">4. Кластер 1 можно считать средним по оттоку клиентов. "
   ]
  },
  {
   "cell_type": "markdown",
   "metadata": {},
   "source": [
    "## Результаты и базовые рекомендации по работе с клиентами"
   ]
  },
  {
   "cell_type": "markdown",
   "metadata": {},
   "source": [
    "1. Кластер №4 - минимальный отток клиентов (меньше 3%)  \n",
    "2. Кластер 0 - низкий отток клиентов (6,8%)  \n",
    "3. Кластера 2 и 3 - высокий отток клиентов (44% и 51% сответственно) \n",
    "4. Кластер 1 - средний отток клиентов (26% оттока)  \n",
    "\n",
    "\n",
    "**Признаки, наиболее сильно влияющие на отток клиентов:**  \n",
    "1. Возраст. Клиентам до 30 лет менее интересно заниматься в фитнес-клубах этой сети  \n",
    "2. Посещение групповых занятий. Клиенты, не посещающие групповые занятия уходят чаще  \n",
    "3. Удаленность от фитнес-центра. Самый низкий отток клиентов в кластерах, где больше 95% людей проживают рядом с фитнес-клубом. Хотя есть кластер 3 с высоким оттоком клиентов проживающих рядом с фитнес клубом, все же стоит учитывать этот фактор при разработке программ лояльности. \n",
    "\n",
    "**Рекомендации по работе с клиентами:**\n",
    "\n",
    "Клубу стоит сконцентрироваться на аудитории 30-33 лет, проживающих вблизи фитнес-клуба. Сработают также программы лояльности, куда будут включены предложения по интересным дополнительным услугам для лояльных клиентов. \n",
    "\n",
    "Возможно стоит рассмотреть расширение предложения по партнерским программам, но стоит провести дополнительное исследование, чтобы точно понять, насколько выгодны клубы такие клиенты. Возможно, скидка слишком велика. \n",
    "\n",
    "Также стоит рассмотреть механики, которые помогут оказать клиенту наставничество тренера, увлечь и позволить ему увидеть цель от своих занятий. Поскольку много клиентов, выбирающих зал, можно расмотреть интересные тренировки именно в зале или с тренером.  \n",
    "\n",
    "Повысить увеличение интереса клиента к групповым занятиям. Это могут быть дополнительные занятия после основной тренировки, игровые виды спорта и другие программы, которые заинтересуют клиента\n",
    "\n",
    "Cтоит рассмотреть интересные предложения, переводящие клиента, взявшего абонемент на месяц в более \"длительного\" клиента. Например, это могут быть специальные программы для участников клуба со сроком 5 недель. Это же обеспечит и регулярность посещений, а также поможет клиенту настроиться на регулярность занятий и вовлечь его в процесс.  \n",
    "\n",
    "Для более молодой аудитории стоит сделать также предложения, которые позволят оставить именно их. Здесь нужно выполнить более глубокий анализ, возможно молодые клиенты уходят, поскольку программы клуба устарели. Можно открыть интересные драйвовые программы с использованием VR, технологий, купить супер-современные тренажеры и тп, чтобы молодой аудитории также было инетерсно. \n"
   ]
  }
 ],
 "metadata": {
  "ExecuteTimeLog": [
   {
    "duration": 676,
    "start_time": "2022-01-27T17:58:02.550Z"
   },
   {
    "duration": 1016,
    "start_time": "2022-01-28T12:42:40.547Z"
   },
   {
    "duration": 53,
    "start_time": "2022-01-28T12:44:02.982Z"
   },
   {
    "duration": 77,
    "start_time": "2022-01-28T12:46:03.157Z"
   },
   {
    "duration": 374,
    "start_time": "2022-01-28T12:46:32.021Z"
   },
   {
    "duration": 81,
    "start_time": "2022-01-28T12:46:38.480Z"
   },
   {
    "duration": 76,
    "start_time": "2022-01-28T12:47:45.835Z"
   },
   {
    "duration": 76,
    "start_time": "2022-01-28T12:47:55.439Z"
   },
   {
    "duration": 84,
    "start_time": "2022-01-28T12:48:07.260Z"
   },
   {
    "duration": 76,
    "start_time": "2022-01-28T12:50:04.296Z"
   },
   {
    "duration": 3,
    "start_time": "2022-01-28T12:50:11.628Z"
   },
   {
    "duration": 53,
    "start_time": "2022-01-28T12:50:12.340Z"
   },
   {
    "duration": 79,
    "start_time": "2022-01-28T12:50:18.170Z"
   },
   {
    "duration": 77,
    "start_time": "2022-01-28T12:50:52.464Z"
   },
   {
    "duration": 76,
    "start_time": "2022-01-28T12:51:31.796Z"
   },
   {
    "duration": 9,
    "start_time": "2022-01-28T12:56:08.117Z"
   },
   {
    "duration": 101,
    "start_time": "2022-01-28T12:58:09.566Z"
   },
   {
    "duration": 312,
    "start_time": "2022-01-28T13:03:23.404Z"
   },
   {
    "duration": 4,
    "start_time": "2022-01-28T13:03:37.317Z"
   },
   {
    "duration": 18,
    "start_time": "2022-01-28T13:03:51.230Z"
   },
   {
    "duration": 76,
    "start_time": "2022-01-28T13:05:44.801Z"
   },
   {
    "duration": 77,
    "start_time": "2022-01-28T13:06:28.103Z"
   },
   {
    "duration": 3,
    "start_time": "2022-01-28T13:06:56.001Z"
   },
   {
    "duration": 40,
    "start_time": "2022-01-28T13:06:58.071Z"
   },
   {
    "duration": 4,
    "start_time": "2022-01-28T13:07:26.497Z"
   },
   {
    "duration": 4,
    "start_time": "2022-01-28T13:07:44.601Z"
   },
   {
    "duration": 4,
    "start_time": "2022-01-28T13:08:01.614Z"
   },
   {
    "duration": 41,
    "start_time": "2022-01-28T13:08:03.062Z"
   },
   {
    "duration": 81,
    "start_time": "2022-01-28T13:08:04.544Z"
   },
   {
    "duration": 4,
    "start_time": "2022-01-28T13:08:07.193Z"
   },
   {
    "duration": 12,
    "start_time": "2022-01-28T13:11:51.948Z"
   },
   {
    "duration": 330,
    "start_time": "2022-01-28T13:13:12.255Z"
   },
   {
    "duration": 8,
    "start_time": "2022-01-28T13:13:21.398Z"
   },
   {
    "duration": 11,
    "start_time": "2022-01-28T13:14:08.413Z"
   },
   {
    "duration": 75,
    "start_time": "2022-01-28T13:14:50.786Z"
   },
   {
    "duration": 25,
    "start_time": "2022-01-28T14:09:31.449Z"
   },
   {
    "duration": 748,
    "start_time": "2022-01-28T14:39:42.591Z"
   },
   {
    "duration": 42,
    "start_time": "2022-01-28T14:39:43.541Z"
   },
   {
    "duration": 11,
    "start_time": "2022-01-28T14:39:43.964Z"
   },
   {
    "duration": 8,
    "start_time": "2022-01-28T14:39:44.196Z"
   },
   {
    "duration": 5,
    "start_time": "2022-01-28T14:39:44.646Z"
   },
   {
    "duration": 12,
    "start_time": "2022-01-28T14:39:44.792Z"
   },
   {
    "duration": 72,
    "start_time": "2022-01-28T14:39:45.003Z"
   },
   {
    "duration": 26,
    "start_time": "2022-01-28T14:39:45.567Z"
   },
   {
    "duration": 4,
    "start_time": "2022-01-28T14:44:50.981Z"
   },
   {
    "duration": 39,
    "start_time": "2022-01-28T14:44:51.560Z"
   },
   {
    "duration": 11,
    "start_time": "2022-01-28T14:44:51.884Z"
   },
   {
    "duration": 8,
    "start_time": "2022-01-28T14:44:52.149Z"
   },
   {
    "duration": 5,
    "start_time": "2022-01-28T14:44:52.698Z"
   },
   {
    "duration": 12,
    "start_time": "2022-01-28T14:44:53.111Z"
   },
   {
    "duration": 75,
    "start_time": "2022-01-28T14:44:53.385Z"
   },
   {
    "duration": 24,
    "start_time": "2022-01-28T14:44:54.547Z"
   },
   {
    "duration": 618,
    "start_time": "2022-01-28T14:48:37.953Z"
   },
   {
    "duration": 294,
    "start_time": "2022-01-28T14:49:44.305Z"
   },
   {
    "duration": 295,
    "start_time": "2022-01-28T14:49:49.279Z"
   },
   {
    "duration": 306,
    "start_time": "2022-01-28T14:49:54.653Z"
   },
   {
    "duration": 18,
    "start_time": "2022-01-28T14:50:10.475Z"
   },
   {
    "duration": 25,
    "start_time": "2022-01-28T14:50:28.545Z"
   },
   {
    "duration": 578,
    "start_time": "2022-01-28T14:50:39.577Z"
   },
   {
    "duration": 24,
    "start_time": "2022-01-28T14:52:10.522Z"
   },
   {
    "duration": 27,
    "start_time": "2022-01-28T14:53:55.197Z"
   },
   {
    "duration": 34,
    "start_time": "2022-01-28T14:54:06.228Z"
   },
   {
    "duration": 25,
    "start_time": "2022-01-28T17:27:34.830Z"
   },
   {
    "duration": 23,
    "start_time": "2022-01-28T17:32:12.710Z"
   },
   {
    "duration": 608,
    "start_time": "2022-01-28T17:34:36.125Z"
   },
   {
    "duration": 4,
    "start_time": "2022-01-28T17:35:00.995Z"
   },
   {
    "duration": 41,
    "start_time": "2022-01-28T17:35:01.626Z"
   },
   {
    "duration": 11,
    "start_time": "2022-01-28T17:35:02.487Z"
   },
   {
    "duration": 8,
    "start_time": "2022-01-28T17:35:02.772Z"
   },
   {
    "duration": 5,
    "start_time": "2022-01-28T17:35:03.647Z"
   },
   {
    "duration": 13,
    "start_time": "2022-01-28T17:35:04.105Z"
   },
   {
    "duration": 71,
    "start_time": "2022-01-28T17:35:04.402Z"
   },
   {
    "duration": 25,
    "start_time": "2022-01-28T17:35:04.979Z"
   },
   {
    "duration": 541,
    "start_time": "2022-01-28T17:35:06.276Z"
   },
   {
    "duration": 7,
    "start_time": "2022-01-28T17:36:27.438Z"
   },
   {
    "duration": 25,
    "start_time": "2022-01-28T17:37:58.563Z"
   },
   {
    "duration": 7,
    "start_time": "2022-01-28T17:38:01.603Z"
   },
   {
    "duration": 5239,
    "start_time": "2022-01-28T17:39:21.502Z"
   },
   {
    "duration": 6,
    "start_time": "2022-01-28T17:40:11.168Z"
   },
   {
    "duration": 314,
    "start_time": "2022-01-28T17:40:53.140Z"
   },
   {
    "duration": 1498,
    "start_time": "2022-01-28T17:41:46.634Z"
   },
   {
    "duration": 5309,
    "start_time": "2022-01-28T17:41:59.683Z"
   },
   {
    "duration": 406,
    "start_time": "2022-01-28T17:47:23.160Z"
   },
   {
    "duration": 511,
    "start_time": "2022-01-28T17:47:46.716Z"
   },
   {
    "duration": 411,
    "start_time": "2022-01-28T17:50:37.984Z"
   },
   {
    "duration": 703,
    "start_time": "2022-01-28T17:56:34.881Z"
   },
   {
    "duration": 405,
    "start_time": "2022-01-28T17:56:50.844Z"
   },
   {
    "duration": 384,
    "start_time": "2022-01-28T17:58:43.814Z"
   },
   {
    "duration": 398,
    "start_time": "2022-01-28T17:59:07.909Z"
   },
   {
    "duration": 384,
    "start_time": "2022-01-28T17:59:21.088Z"
   },
   {
    "duration": 393,
    "start_time": "2022-01-28T17:59:48.579Z"
   },
   {
    "duration": 393,
    "start_time": "2022-01-28T17:59:56.241Z"
   },
   {
    "duration": 404,
    "start_time": "2022-01-28T18:00:17.334Z"
   },
   {
    "duration": 396,
    "start_time": "2022-01-28T18:02:39.160Z"
   },
   {
    "duration": 5799,
    "start_time": "2022-01-28T18:04:29.097Z"
   },
   {
    "duration": 5269,
    "start_time": "2022-01-28T18:07:14.991Z"
   },
   {
    "duration": 1894,
    "start_time": "2022-01-28T18:11:28.567Z"
   },
   {
    "duration": 1884,
    "start_time": "2022-01-28T18:11:43.728Z"
   },
   {
    "duration": 2357,
    "start_time": "2022-01-28T18:15:02.615Z"
   },
   {
    "duration": 1975,
    "start_time": "2022-01-28T18:18:41.284Z"
   },
   {
    "duration": 2049,
    "start_time": "2022-01-28T18:19:17.288Z"
   },
   {
    "duration": 2023,
    "start_time": "2022-01-28T18:19:25.305Z"
   },
   {
    "duration": 1048,
    "start_time": "2022-01-28T18:19:57.664Z"
   },
   {
    "duration": 1229,
    "start_time": "2022-01-28T18:22:10.814Z"
   },
   {
    "duration": 1506,
    "start_time": "2022-01-28T18:23:16.083Z"
   },
   {
    "duration": 1558,
    "start_time": "2022-01-28T18:24:17.561Z"
   },
   {
    "duration": 827,
    "start_time": "2022-01-28T18:27:21.412Z"
   },
   {
    "duration": 3585,
    "start_time": "2022-01-28T18:28:36.001Z"
   },
   {
    "duration": 4313,
    "start_time": "2022-01-28T18:29:33.199Z"
   },
   {
    "duration": 1582,
    "start_time": "2022-01-28T19:13:12.749Z"
   },
   {
    "duration": 1487,
    "start_time": "2022-01-28T19:15:17.896Z"
   },
   {
    "duration": 1602,
    "start_time": "2022-01-28T19:15:35.142Z"
   },
   {
    "duration": 1560,
    "start_time": "2022-01-28T19:15:48.018Z"
   },
   {
    "duration": 1792,
    "start_time": "2022-01-28T19:15:58.134Z"
   },
   {
    "duration": 1487,
    "start_time": "2022-01-28T19:16:09.454Z"
   },
   {
    "duration": 1696,
    "start_time": "2022-01-28T19:16:21.351Z"
   },
   {
    "duration": 1620,
    "start_time": "2022-01-28T19:16:38.316Z"
   },
   {
    "duration": 2014,
    "start_time": "2022-01-28T19:19:18.255Z"
   },
   {
    "duration": 1903,
    "start_time": "2022-01-28T19:20:19.103Z"
   },
   {
    "duration": 2023,
    "start_time": "2022-01-28T19:22:34.317Z"
   },
   {
    "duration": 2047,
    "start_time": "2022-01-28T19:27:56.117Z"
   },
   {
    "duration": 1887,
    "start_time": "2022-01-28T19:28:20.933Z"
   },
   {
    "duration": 45,
    "start_time": "2022-01-28T19:44:51.448Z"
   },
   {
    "duration": 61,
    "start_time": "2022-01-28T19:44:53.160Z"
   },
   {
    "duration": 16,
    "start_time": "2022-01-28T19:44:53.634Z"
   },
   {
    "duration": 11,
    "start_time": "2022-01-28T19:44:54.003Z"
   },
   {
    "duration": 6,
    "start_time": "2022-01-28T19:44:54.492Z"
   },
   {
    "duration": 14,
    "start_time": "2022-01-28T19:44:54.636Z"
   },
   {
    "duration": 76,
    "start_time": "2022-01-28T19:44:54.835Z"
   },
   {
    "duration": 25,
    "start_time": "2022-01-28T19:44:55.134Z"
   },
   {
    "duration": 7965,
    "start_time": "2022-01-28T19:44:55.458Z"
   },
   {
    "duration": 1977,
    "start_time": "2022-01-28T19:45:03.426Z"
   },
   {
    "duration": 4,
    "start_time": "2022-01-28T19:45:05.407Z"
   },
   {
    "duration": 6,
    "start_time": "2022-01-28T19:46:48.562Z"
   },
   {
    "duration": 9,
    "start_time": "2022-01-28T19:48:31.299Z"
   },
   {
    "duration": 10,
    "start_time": "2022-01-28T19:49:59.070Z"
   },
   {
    "duration": 48,
    "start_time": "2022-01-28T19:54:27.489Z"
   },
   {
    "duration": 45,
    "start_time": "2022-01-28T19:54:27.540Z"
   },
   {
    "duration": 11,
    "start_time": "2022-01-28T19:54:27.588Z"
   },
   {
    "duration": 8,
    "start_time": "2022-01-28T19:54:27.601Z"
   },
   {
    "duration": 4,
    "start_time": "2022-01-28T19:54:27.612Z"
   },
   {
    "duration": 13,
    "start_time": "2022-01-28T19:54:27.618Z"
   },
   {
    "duration": 234,
    "start_time": "2022-01-28T19:54:27.670Z"
   },
   {
    "duration": 27,
    "start_time": "2022-01-28T19:54:27.908Z"
   },
   {
    "duration": 6304,
    "start_time": "2022-01-28T19:54:27.939Z"
   },
   {
    "duration": 1894,
    "start_time": "2022-01-28T19:54:34.246Z"
   },
   {
    "duration": 27,
    "start_time": "2022-01-28T19:54:36.143Z"
   },
   {
    "duration": 5,
    "start_time": "2022-01-28T19:54:36.173Z"
   },
   {
    "duration": 309,
    "start_time": "2022-01-28T20:11:27.276Z"
   },
   {
    "duration": 6,
    "start_time": "2022-01-28T20:13:57.395Z"
   },
   {
    "duration": 594,
    "start_time": "2022-01-28T20:16:33.486Z"
   },
   {
    "duration": 585,
    "start_time": "2022-01-28T20:18:45.905Z"
   },
   {
    "duration": 620,
    "start_time": "2022-01-28T20:21:09.559Z"
   },
   {
    "duration": 6,
    "start_time": "2022-01-28T20:23:14.510Z"
   },
   {
    "duration": 44,
    "start_time": "2022-01-28T20:23:15.821Z"
   },
   {
    "duration": 12,
    "start_time": "2022-01-28T20:23:16.475Z"
   },
   {
    "duration": 8,
    "start_time": "2022-01-28T20:23:17.031Z"
   },
   {
    "duration": 4,
    "start_time": "2022-01-28T20:23:17.837Z"
   },
   {
    "duration": 12,
    "start_time": "2022-01-28T20:23:18.043Z"
   },
   {
    "duration": 70,
    "start_time": "2022-01-28T20:23:18.559Z"
   },
   {
    "duration": 25,
    "start_time": "2022-01-28T20:23:19.220Z"
   },
   {
    "duration": 7848,
    "start_time": "2022-01-28T20:23:19.739Z"
   },
   {
    "duration": 2905,
    "start_time": "2022-01-28T20:23:27.591Z"
   },
   {
    "duration": 13,
    "start_time": "2022-01-28T20:23:30.501Z"
   },
   {
    "duration": 325,
    "start_time": "2022-01-28T20:23:30.517Z"
   },
   {
    "duration": 4,
    "start_time": "2022-01-28T20:34:35.541Z"
   },
   {
    "duration": 50,
    "start_time": "2022-01-28T20:34:35.548Z"
   },
   {
    "duration": 11,
    "start_time": "2022-01-28T20:34:35.602Z"
   },
   {
    "duration": 9,
    "start_time": "2022-01-28T20:34:35.617Z"
   },
   {
    "duration": 5,
    "start_time": "2022-01-28T20:34:35.629Z"
   },
   {
    "duration": 14,
    "start_time": "2022-01-28T20:34:35.669Z"
   },
   {
    "duration": 100,
    "start_time": "2022-01-28T20:34:35.686Z"
   },
   {
    "duration": 26,
    "start_time": "2022-01-28T20:34:35.788Z"
   },
   {
    "duration": 6070,
    "start_time": "2022-01-28T20:34:35.817Z"
   },
   {
    "duration": 1886,
    "start_time": "2022-01-28T20:34:41.890Z"
   },
   {
    "duration": 14,
    "start_time": "2022-01-28T20:34:43.779Z"
   },
   {
    "duration": 325,
    "start_time": "2022-01-28T20:34:43.796Z"
   },
   {
    "duration": 10,
    "start_time": "2022-01-28T20:43:34.788Z"
   },
   {
    "duration": 3,
    "start_time": "2022-01-28T20:48:48.991Z"
   },
   {
    "duration": 337,
    "start_time": "2022-01-28T20:53:33.786Z"
   },
   {
    "duration": 5,
    "start_time": "2022-01-28T20:54:04.092Z"
   },
   {
    "duration": 49,
    "start_time": "2022-01-28T20:54:04.100Z"
   },
   {
    "duration": 9,
    "start_time": "2022-01-28T20:54:04.152Z"
   },
   {
    "duration": 8,
    "start_time": "2022-01-28T20:54:04.163Z"
   },
   {
    "duration": 4,
    "start_time": "2022-01-28T20:54:04.174Z"
   },
   {
    "duration": 20,
    "start_time": "2022-01-28T20:54:04.181Z"
   },
   {
    "duration": 94,
    "start_time": "2022-01-28T20:54:04.203Z"
   },
   {
    "duration": 24,
    "start_time": "2022-01-28T20:54:04.301Z"
   },
   {
    "duration": 5943,
    "start_time": "2022-01-28T20:54:04.328Z"
   },
   {
    "duration": 1873,
    "start_time": "2022-01-28T20:54:10.274Z"
   },
   {
    "duration": 21,
    "start_time": "2022-01-28T20:54:12.150Z"
   },
   {
    "duration": 246,
    "start_time": "2022-01-28T20:54:12.174Z"
   },
   {
    "duration": 6,
    "start_time": "2022-01-28T20:54:12.422Z"
   },
   {
    "duration": 14,
    "start_time": "2022-01-28T20:54:12.430Z"
   },
   {
    "duration": 298,
    "start_time": "2022-01-28T20:54:12.446Z"
   },
   {
    "duration": 824,
    "start_time": "2022-01-28T20:54:33.776Z"
   },
   {
    "duration": 13,
    "start_time": "2022-01-28T21:05:55.739Z"
   },
   {
    "duration": 42,
    "start_time": "2022-01-28T21:05:55.754Z"
   },
   {
    "duration": 10,
    "start_time": "2022-01-28T21:05:55.798Z"
   },
   {
    "duration": 8,
    "start_time": "2022-01-28T21:05:55.810Z"
   },
   {
    "duration": 4,
    "start_time": "2022-01-28T21:05:55.821Z"
   },
   {
    "duration": 50,
    "start_time": "2022-01-28T21:05:55.828Z"
   },
   {
    "duration": 94,
    "start_time": "2022-01-28T21:05:55.881Z"
   },
   {
    "duration": 26,
    "start_time": "2022-01-28T21:05:55.978Z"
   },
   {
    "duration": 5893,
    "start_time": "2022-01-28T21:05:56.006Z"
   },
   {
    "duration": 2367,
    "start_time": "2022-01-28T21:06:01.902Z"
   },
   {
    "duration": 10,
    "start_time": "2022-01-28T21:06:04.271Z"
   },
   {
    "duration": 244,
    "start_time": "2022-01-28T21:06:04.283Z"
   },
   {
    "duration": 40,
    "start_time": "2022-01-28T21:06:04.530Z"
   },
   {
    "duration": 8,
    "start_time": "2022-01-28T21:06:04.573Z"
   },
   {
    "duration": 145647,
    "start_time": "2022-01-28T21:06:04.584Z"
   },
   {
    "duration": 3,
    "start_time": "2022-01-28T21:08:30.233Z"
   },
   {
    "duration": 363,
    "start_time": "2022-01-28T21:08:45.166Z"
   },
   {
    "duration": 24,
    "start_time": "2022-01-28T21:08:57.154Z"
   },
   {
    "duration": 5,
    "start_time": "2022-01-28T21:09:04.380Z"
   },
   {
    "duration": 41,
    "start_time": "2022-01-28T21:09:05.619Z"
   },
   {
    "duration": 10,
    "start_time": "2022-01-28T21:09:07.402Z"
   },
   {
    "duration": 9,
    "start_time": "2022-01-28T21:09:07.998Z"
   },
   {
    "duration": 4,
    "start_time": "2022-01-28T21:09:08.885Z"
   },
   {
    "duration": 13,
    "start_time": "2022-01-28T21:09:09.347Z"
   },
   {
    "duration": 72,
    "start_time": "2022-01-28T21:09:09.770Z"
   },
   {
    "duration": 25,
    "start_time": "2022-01-28T21:09:10.624Z"
   },
   {
    "duration": 5830,
    "start_time": "2022-01-28T21:09:11.520Z"
   },
   {
    "duration": 1893,
    "start_time": "2022-01-28T21:09:17.353Z"
   },
   {
    "duration": 23,
    "start_time": "2022-01-28T21:09:19.249Z"
   },
   {
    "duration": 319,
    "start_time": "2022-01-28T21:09:19.275Z"
   },
   {
    "duration": 5,
    "start_time": "2022-01-28T21:09:19.596Z"
   },
   {
    "duration": 10,
    "start_time": "2022-01-28T21:09:19.603Z"
   },
   {
    "duration": 144621,
    "start_time": "2022-01-28T21:09:19.942Z"
   },
   {
    "duration": 1699,
    "start_time": "2022-01-28T21:11:44.570Z"
   },
   {
    "duration": 27,
    "start_time": "2022-01-28T21:13:05.155Z"
   },
   {
    "duration": 1115,
    "start_time": "2022-01-29T08:31:00.568Z"
   },
   {
    "duration": 31,
    "start_time": "2022-01-29T08:31:01.684Z"
   },
   {
    "duration": 7,
    "start_time": "2022-01-29T08:31:01.716Z"
   },
   {
    "duration": 7,
    "start_time": "2022-01-29T08:31:01.725Z"
   },
   {
    "duration": 2,
    "start_time": "2022-01-29T08:31:01.734Z"
   },
   {
    "duration": 13,
    "start_time": "2022-01-29T08:31:01.738Z"
   },
   {
    "duration": 65,
    "start_time": "2022-01-29T08:31:01.753Z"
   },
   {
    "duration": 15,
    "start_time": "2022-01-29T08:31:01.820Z"
   },
   {
    "duration": 2585,
    "start_time": "2022-01-29T08:31:01.837Z"
   },
   {
    "duration": 1307,
    "start_time": "2022-01-29T08:31:04.424Z"
   },
   {
    "duration": 6,
    "start_time": "2022-01-29T08:31:05.733Z"
   },
   {
    "duration": 197,
    "start_time": "2022-01-29T08:31:05.741Z"
   },
   {
    "duration": 3,
    "start_time": "2022-01-29T08:31:05.940Z"
   },
   {
    "duration": 11,
    "start_time": "2022-01-29T08:31:05.944Z"
   },
   {
    "duration": 86981,
    "start_time": "2022-01-29T08:31:05.956Z"
   },
   {
    "duration": 1574,
    "start_time": "2022-01-29T08:32:32.938Z"
   },
   {
    "duration": 16,
    "start_time": "2022-01-29T08:32:34.514Z"
   },
   {
    "duration": 2009,
    "start_time": "2022-01-29T09:07:23.882Z"
   },
   {
    "duration": 2319,
    "start_time": "2022-01-29T09:08:15.385Z"
   },
   {
    "duration": 2048,
    "start_time": "2022-01-29T09:09:21.447Z"
   },
   {
    "duration": 85,
    "start_time": "2022-01-29T09:10:12.202Z"
   },
   {
    "duration": 2172,
    "start_time": "2022-01-29T09:10:19.090Z"
   },
   {
    "duration": 2046,
    "start_time": "2022-01-29T09:10:25.738Z"
   },
   {
    "duration": 4180,
    "start_time": "2022-01-29T09:10:44.183Z"
   },
   {
    "duration": 4314,
    "start_time": "2022-01-29T09:11:51.168Z"
   },
   {
    "duration": 4838,
    "start_time": "2022-01-29T09:18:19.194Z"
   },
   {
    "duration": 4502,
    "start_time": "2022-01-29T09:19:24.257Z"
   },
   {
    "duration": 4454,
    "start_time": "2022-01-29T09:19:41.708Z"
   },
   {
    "duration": 330,
    "start_time": "2022-01-29T09:23:11.836Z"
   },
   {
    "duration": 3726,
    "start_time": "2022-01-29T09:23:34.405Z"
   },
   {
    "duration": 2407,
    "start_time": "2022-01-29T09:43:26.848Z"
   },
   {
    "duration": 2597,
    "start_time": "2022-01-29T09:44:39.391Z"
   },
   {
    "duration": 5,
    "start_time": "2022-01-29T09:54:12.469Z"
   },
   {
    "duration": 3,
    "start_time": "2022-01-29T09:54:24.841Z"
   },
   {
    "duration": 6,
    "start_time": "2022-01-29T09:55:03.545Z"
   },
   {
    "duration": 6,
    "start_time": "2022-01-29T09:57:03.557Z"
   },
   {
    "duration": 7,
    "start_time": "2022-01-29T09:58:26.998Z"
   },
   {
    "duration": 71,
    "start_time": "2022-01-29T09:59:08.166Z"
   },
   {
    "duration": 71,
    "start_time": "2022-01-29T09:59:58.595Z"
   },
   {
    "duration": 242,
    "start_time": "2022-01-29T10:05:01.549Z"
   },
   {
    "duration": 226,
    "start_time": "2022-01-29T10:05:29.495Z"
   },
   {
    "duration": 248,
    "start_time": "2022-01-29T10:05:48.914Z"
   },
   {
    "duration": 7,
    "start_time": "2022-01-29T10:06:13.195Z"
   },
   {
    "duration": 74,
    "start_time": "2022-01-29T10:06:38.809Z"
   },
   {
    "duration": 79,
    "start_time": "2022-01-29T10:06:56.303Z"
   },
   {
    "duration": 7,
    "start_time": "2022-01-29T10:07:04.123Z"
   },
   {
    "duration": 81,
    "start_time": "2022-01-29T10:07:18.568Z"
   },
   {
    "duration": 7,
    "start_time": "2022-01-29T10:07:24.718Z"
   },
   {
    "duration": 78,
    "start_time": "2022-01-29T10:08:55.371Z"
   },
   {
    "duration": 250,
    "start_time": "2022-01-29T10:09:16.620Z"
   },
   {
    "duration": 6,
    "start_time": "2022-01-29T10:09:30.771Z"
   },
   {
    "duration": 7,
    "start_time": "2022-01-29T10:10:20.858Z"
   },
   {
    "duration": 6,
    "start_time": "2022-01-29T10:10:36.366Z"
   },
   {
    "duration": 6,
    "start_time": "2022-01-29T10:10:48.822Z"
   },
   {
    "duration": 3,
    "start_time": "2022-01-29T10:58:04.831Z"
   },
   {
    "duration": 27,
    "start_time": "2022-01-29T10:58:04.842Z"
   },
   {
    "duration": 6,
    "start_time": "2022-01-29T10:58:04.871Z"
   },
   {
    "duration": 6,
    "start_time": "2022-01-29T10:58:04.878Z"
   },
   {
    "duration": 3,
    "start_time": "2022-01-29T10:58:04.885Z"
   },
   {
    "duration": 10,
    "start_time": "2022-01-29T10:58:04.889Z"
   },
   {
    "duration": 47,
    "start_time": "2022-01-29T10:58:04.900Z"
   },
   {
    "duration": 15,
    "start_time": "2022-01-29T10:58:04.948Z"
   },
   {
    "duration": 3547,
    "start_time": "2022-01-29T10:58:04.965Z"
   },
   {
    "duration": 1202,
    "start_time": "2022-01-29T10:58:08.514Z"
   },
   {
    "duration": 8,
    "start_time": "2022-01-29T10:58:09.718Z"
   },
   {
    "duration": 213,
    "start_time": "2022-01-29T10:58:09.727Z"
   },
   {
    "duration": 4,
    "start_time": "2022-01-29T10:58:09.942Z"
   },
   {
    "duration": 6,
    "start_time": "2022-01-29T10:58:09.948Z"
   },
   {
    "duration": 86939,
    "start_time": "2022-01-29T10:58:09.956Z"
   },
   {
    "duration": 1522,
    "start_time": "2022-01-29T10:59:36.897Z"
   },
   {
    "duration": 15,
    "start_time": "2022-01-29T10:59:38.421Z"
   },
   {
    "duration": 2678,
    "start_time": "2022-01-29T10:59:38.438Z"
   },
   {
    "duration": 7,
    "start_time": "2022-01-29T10:59:41.118Z"
   },
   {
    "duration": 3,
    "start_time": "2022-01-29T11:00:29.768Z"
   },
   {
    "duration": 3,
    "start_time": "2022-01-29T11:00:40.518Z"
   },
   {
    "duration": 1083,
    "start_time": "2022-01-29T14:48:28.680Z"
   },
   {
    "duration": 30,
    "start_time": "2022-01-29T14:48:29.765Z"
   },
   {
    "duration": 5,
    "start_time": "2022-01-29T14:48:29.797Z"
   },
   {
    "duration": 6,
    "start_time": "2022-01-29T14:48:29.804Z"
   },
   {
    "duration": 4,
    "start_time": "2022-01-29T14:48:29.811Z"
   },
   {
    "duration": 16,
    "start_time": "2022-01-29T14:48:29.816Z"
   },
   {
    "duration": 36,
    "start_time": "2022-01-29T14:48:29.833Z"
   },
   {
    "duration": 12,
    "start_time": "2022-01-29T14:48:29.871Z"
   },
   {
    "duration": 2224,
    "start_time": "2022-01-29T14:48:29.884Z"
   },
   {
    "duration": 1117,
    "start_time": "2022-01-29T14:48:32.110Z"
   },
   {
    "duration": 6,
    "start_time": "2022-01-29T14:48:33.229Z"
   },
   {
    "duration": 213,
    "start_time": "2022-01-29T14:48:33.236Z"
   },
   {
    "duration": 3,
    "start_time": "2022-01-29T14:48:33.450Z"
   },
   {
    "duration": 7,
    "start_time": "2022-01-29T14:48:33.454Z"
   },
   {
    "duration": 73449,
    "start_time": "2022-01-29T14:48:33.463Z"
   },
   {
    "duration": 1517,
    "start_time": "2022-01-29T14:49:46.914Z"
   },
   {
    "duration": 22,
    "start_time": "2022-01-29T14:49:48.433Z"
   },
   {
    "duration": 3498,
    "start_time": "2022-01-29T14:49:48.457Z"
   },
   {
    "duration": 7,
    "start_time": "2022-01-29T14:49:51.956Z"
   },
   {
    "duration": 412,
    "start_time": "2022-01-30T12:20:54.415Z"
   },
   {
    "duration": 1671,
    "start_time": "2022-01-30T12:21:14.511Z"
   },
   {
    "duration": 110,
    "start_time": "2022-01-30T12:21:16.227Z"
   },
   {
    "duration": 11,
    "start_time": "2022-01-30T12:21:17.972Z"
   },
   {
    "duration": 7,
    "start_time": "2022-01-30T12:21:18.880Z"
   },
   {
    "duration": 4,
    "start_time": "2022-01-30T12:21:20.475Z"
   },
   {
    "duration": 12,
    "start_time": "2022-01-30T12:21:21.155Z"
   },
   {
    "duration": 110,
    "start_time": "2022-01-30T12:21:22.617Z"
   },
   {
    "duration": 28,
    "start_time": "2022-01-30T12:21:26.058Z"
   },
   {
    "duration": 4415,
    "start_time": "2022-01-30T12:21:27.489Z"
   },
   {
    "duration": 2027,
    "start_time": "2022-01-30T12:21:31.907Z"
   },
   {
    "duration": 9,
    "start_time": "2022-01-30T12:21:37.492Z"
   },
   {
    "duration": 239,
    "start_time": "2022-01-30T12:21:39.039Z"
   },
   {
    "duration": 240,
    "start_time": "2022-01-30T12:23:12.331Z"
   },
   {
    "duration": 6,
    "start_time": "2022-01-30T12:23:17.316Z"
   },
   {
    "duration": 8,
    "start_time": "2022-01-30T12:23:18.088Z"
   },
   {
    "duration": 140630,
    "start_time": "2022-01-30T12:23:20.602Z"
   },
   {
    "duration": 1854,
    "start_time": "2022-01-30T12:27:37.170Z"
   },
   {
    "duration": 27,
    "start_time": "2022-01-30T12:27:39.026Z"
   },
   {
    "duration": 4118,
    "start_time": "2022-01-30T12:27:42.928Z"
   },
   {
    "duration": 9,
    "start_time": "2022-01-30T12:27:49.859Z"
   },
   {
    "duration": 6,
    "start_time": "2022-01-30T12:30:49.064Z"
   },
   {
    "duration": 45,
    "start_time": "2022-01-30T12:30:49.077Z"
   },
   {
    "duration": 13,
    "start_time": "2022-01-30T12:30:49.126Z"
   },
   {
    "duration": 9,
    "start_time": "2022-01-30T12:30:49.144Z"
   },
   {
    "duration": 4,
    "start_time": "2022-01-30T12:30:49.157Z"
   },
   {
    "duration": 66,
    "start_time": "2022-01-30T12:30:49.164Z"
   },
   {
    "duration": 69,
    "start_time": "2022-01-30T12:30:49.233Z"
   },
   {
    "duration": 23,
    "start_time": "2022-01-30T12:30:49.323Z"
   },
   {
    "duration": 5383,
    "start_time": "2022-01-30T12:30:49.348Z"
   },
   {
    "duration": 1843,
    "start_time": "2022-01-30T12:30:54.735Z"
   },
   {
    "duration": 11,
    "start_time": "2022-01-30T12:30:56.581Z"
   },
   {
    "duration": 280,
    "start_time": "2022-01-30T12:30:56.594Z"
   },
   {
    "duration": 5,
    "start_time": "2022-01-30T12:30:56.876Z"
   },
   {
    "duration": 9,
    "start_time": "2022-01-30T12:30:56.884Z"
   },
   {
    "duration": 139435,
    "start_time": "2022-01-30T12:30:56.895Z"
   },
   {
    "duration": 1995,
    "start_time": "2022-01-30T12:33:16.333Z"
   },
   {
    "duration": 27,
    "start_time": "2022-01-30T12:33:18.330Z"
   },
   {
    "duration": 4231,
    "start_time": "2022-01-30T12:33:18.359Z"
   },
   {
    "duration": 10,
    "start_time": "2022-01-30T12:33:22.592Z"
   },
   {
    "duration": 47,
    "start_time": "2022-04-08T12:11:31.261Z"
   },
   {
    "duration": 1452,
    "start_time": "2022-04-08T12:11:36.802Z"
   },
   {
    "duration": 57,
    "start_time": "2022-04-08T12:11:39.526Z"
   },
   {
    "duration": 12,
    "start_time": "2022-04-08T12:12:09.196Z"
   },
   {
    "duration": 7,
    "start_time": "2022-04-08T12:12:18.554Z"
   },
   {
    "duration": 4,
    "start_time": "2022-04-08T12:12:50.931Z"
   },
   {
    "duration": 9,
    "start_time": "2022-04-08T12:12:52.131Z"
   },
   {
    "duration": 41,
    "start_time": "2022-04-08T12:13:30.111Z"
   },
   {
    "duration": 1334,
    "start_time": "2022-04-08T12:18:04.467Z"
   },
   {
    "duration": 8,
    "start_time": "2022-04-08T12:30:33.009Z"
   },
   {
    "duration": 1409,
    "start_time": "2022-04-08T12:31:34.416Z"
   },
   {
    "duration": 7,
    "start_time": "2022-04-08T12:34:31.137Z"
   },
   {
    "duration": 83,
    "start_time": "2022-04-08T12:34:31.957Z"
   },
   {
    "duration": 1228,
    "start_time": "2022-04-08T12:34:39.980Z"
   },
   {
    "duration": 7,
    "start_time": "2022-04-08T12:35:14.812Z"
   },
   {
    "duration": 1153,
    "start_time": "2022-04-08T12:35:15.338Z"
   },
   {
    "duration": 4,
    "start_time": "2022-04-08T12:38:06.481Z"
   },
   {
    "duration": 8,
    "start_time": "2022-04-08T12:38:07.258Z"
   },
   {
    "duration": 94955,
    "start_time": "2022-04-08T12:38:10.109Z"
   },
   {
    "duration": 479,
    "start_time": "2022-04-08T12:40:28.318Z"
   },
   {
    "duration": 535,
    "start_time": "2022-04-08T12:42:23.169Z"
   },
   {
    "duration": 7,
    "start_time": "2022-04-08T12:43:46.084Z"
   },
   {
    "duration": 514,
    "start_time": "2022-04-08T12:43:47.778Z"
   },
   {
    "duration": 1206,
    "start_time": "2022-04-08T12:49:44.478Z"
   },
   {
    "duration": 17,
    "start_time": "2022-04-08T12:49:50.845Z"
   },
   {
    "duration": 1165,
    "start_time": "2022-04-08T12:49:58.519Z"
   },
   {
    "duration": 17,
    "start_time": "2022-04-08T12:50:01.658Z"
   },
   {
    "duration": 1261,
    "start_time": "2022-04-08T13:36:52.318Z"
   },
   {
    "duration": 103,
    "start_time": "2022-04-08T13:36:53.582Z"
   },
   {
    "duration": 8,
    "start_time": "2022-04-08T13:40:13.438Z"
   },
   {
    "duration": 16,
    "start_time": "2022-04-08T13:51:15.238Z"
   },
   {
    "duration": 17,
    "start_time": "2022-04-08T14:13:05.546Z"
   },
   {
    "duration": 3,
    "start_time": "2022-04-08T14:35:55.747Z"
   },
   {
    "duration": 38,
    "start_time": "2022-04-08T14:35:55.752Z"
   },
   {
    "duration": 11,
    "start_time": "2022-04-08T14:35:55.792Z"
   },
   {
    "duration": 7,
    "start_time": "2022-04-08T14:35:55.805Z"
   },
   {
    "duration": 4,
    "start_time": "2022-04-08T14:35:55.815Z"
   },
   {
    "duration": 9,
    "start_time": "2022-04-08T14:35:55.820Z"
   },
   {
    "duration": 65,
    "start_time": "2022-04-08T14:35:55.831Z"
   },
   {
    "duration": 15,
    "start_time": "2022-04-08T14:35:55.897Z"
   },
   {
    "duration": 2101,
    "start_time": "2022-04-08T14:35:55.914Z"
   },
   {
    "duration": 1290,
    "start_time": "2022-04-08T14:35:58.017Z"
   },
   {
    "duration": 7,
    "start_time": "2022-04-08T14:35:59.309Z"
   },
   {
    "duration": 483,
    "start_time": "2022-04-08T14:35:59.317Z"
   },
   {
    "duration": 4,
    "start_time": "2022-04-08T14:35:59.803Z"
   },
   {
    "duration": 9,
    "start_time": "2022-04-08T14:35:59.809Z"
   },
   {
    "duration": 96790,
    "start_time": "2022-04-08T14:35:59.820Z"
   },
   {
    "duration": 975,
    "start_time": "2022-04-08T14:37:36.611Z"
   },
   {
    "duration": 113,
    "start_time": "2022-04-08T14:37:37.591Z"
   },
   {
    "duration": 2136,
    "start_time": "2022-04-08T14:37:37.705Z"
   },
   {
    "duration": 7,
    "start_time": "2022-04-08T14:37:39.843Z"
   },
   {
    "duration": 1566,
    "start_time": "2022-04-08T14:39:22.233Z"
   },
   {
    "duration": 40,
    "start_time": "2022-04-08T14:39:23.801Z"
   },
   {
    "duration": 13,
    "start_time": "2022-04-08T14:39:23.843Z"
   },
   {
    "duration": 21,
    "start_time": "2022-04-08T14:39:23.859Z"
   },
   {
    "duration": 3,
    "start_time": "2022-04-08T14:39:23.882Z"
   },
   {
    "duration": 10,
    "start_time": "2022-04-08T14:39:23.887Z"
   },
   {
    "duration": 39,
    "start_time": "2022-04-08T14:39:23.899Z"
   },
   {
    "duration": 40,
    "start_time": "2022-04-08T14:39:23.940Z"
   },
   {
    "duration": 1852,
    "start_time": "2022-04-08T14:39:23.982Z"
   },
   {
    "duration": 1447,
    "start_time": "2022-04-08T14:39:25.836Z"
   },
   {
    "duration": 9,
    "start_time": "2022-04-08T14:39:27.286Z"
   },
   {
    "duration": 509,
    "start_time": "2022-04-08T14:39:27.297Z"
   },
   {
    "duration": 4,
    "start_time": "2022-04-08T14:39:27.807Z"
   },
   {
    "duration": 10,
    "start_time": "2022-04-08T14:39:27.813Z"
   },
   {
    "duration": 98624,
    "start_time": "2022-04-08T14:39:27.825Z"
   },
   {
    "duration": 1429,
    "start_time": "2022-04-08T14:41:06.451Z"
   },
   {
    "duration": 17,
    "start_time": "2022-04-08T14:41:07.882Z"
   },
   {
    "duration": 1799,
    "start_time": "2022-04-08T14:41:07.902Z"
   },
   {
    "duration": 7,
    "start_time": "2022-04-08T14:41:09.703Z"
   }
  ],
  "kernelspec": {
   "display_name": "Python 3 (ipykernel)",
   "language": "python",
   "name": "python3"
  },
  "language_info": {
   "codemirror_mode": {
    "name": "ipython",
    "version": 3
   },
   "file_extension": ".py",
   "mimetype": "text/x-python",
   "name": "python",
   "nbconvert_exporter": "python",
   "pygments_lexer": "ipython3",
   "version": "3.9.12"
  },
  "toc": {
   "base_numbering": 1,
   "nav_menu": {},
   "number_sections": true,
   "sideBar": true,
   "skip_h1_title": true,
   "title_cell": "Table of Contents",
   "title_sidebar": "Contents",
   "toc_cell": false,
   "toc_position": {},
   "toc_section_display": true,
   "toc_window_display": false
  }
 },
 "nbformat": 4,
 "nbformat_minor": 4
}
