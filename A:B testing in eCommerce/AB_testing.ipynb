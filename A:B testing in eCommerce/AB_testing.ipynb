{
 "cells": [
  {
   "cell_type": "markdown",
   "metadata": {},
   "source": [
    "# Приоритизация гипотез по увеличению выручки интернет-магазина и анализ результатов проведенного А/В теста"
   ]
  },
  {
   "cell_type": "markdown",
   "metadata": {},
   "source": [
    "## Импорт библиотек"
   ]
  },
  {
   "cell_type": "code",
   "execution_count": 1,
   "metadata": {},
   "outputs": [],
   "source": [
    "import pandas as pd\n",
    "import datetime as dt\n",
    "import numpy as np\n",
    "import matplotlib.pyplot as plt\n",
    "import scipy.stats as stats"
   ]
  },
  {
   "cell_type": "markdown",
   "metadata": {},
   "source": [
    "## Изучение данных и предобработка"
   ]
  },
  {
   "cell_type": "markdown",
   "metadata": {},
   "source": [
    "### Датасет с гипотезами"
   ]
  },
  {
   "cell_type": "code",
   "execution_count": 2,
   "metadata": {},
   "outputs": [
    {
     "data": {
      "text/html": [
       "<div>\n",
       "<style scoped>\n",
       "    .dataframe tbody tr th:only-of-type {\n",
       "        vertical-align: middle;\n",
       "    }\n",
       "\n",
       "    .dataframe tbody tr th {\n",
       "        vertical-align: top;\n",
       "    }\n",
       "\n",
       "    .dataframe thead th {\n",
       "        text-align: right;\n",
       "    }\n",
       "</style>\n",
       "<table border=\"1\" class=\"dataframe\">\n",
       "  <thead>\n",
       "    <tr style=\"text-align: right;\">\n",
       "      <th></th>\n",
       "      <th>Hypothesis</th>\n",
       "      <th>Reach</th>\n",
       "      <th>Impact</th>\n",
       "      <th>Confidence</th>\n",
       "      <th>Efforts</th>\n",
       "    </tr>\n",
       "  </thead>\n",
       "  <tbody>\n",
       "    <tr>\n",
       "      <th>0</th>\n",
       "      <td>Добавить два новых канала привлечения трафика,...</td>\n",
       "      <td>3</td>\n",
       "      <td>10</td>\n",
       "      <td>8</td>\n",
       "      <td>6</td>\n",
       "    </tr>\n",
       "    <tr>\n",
       "      <th>1</th>\n",
       "      <td>Запустить собственную службу доставки, что сок...</td>\n",
       "      <td>2</td>\n",
       "      <td>5</td>\n",
       "      <td>4</td>\n",
       "      <td>10</td>\n",
       "    </tr>\n",
       "    <tr>\n",
       "      <th>2</th>\n",
       "      <td>Добавить блоки рекомендаций товаров на сайт ин...</td>\n",
       "      <td>8</td>\n",
       "      <td>3</td>\n",
       "      <td>7</td>\n",
       "      <td>3</td>\n",
       "    </tr>\n",
       "    <tr>\n",
       "      <th>3</th>\n",
       "      <td>Изменить структура категорий, что увеличит кон...</td>\n",
       "      <td>8</td>\n",
       "      <td>3</td>\n",
       "      <td>3</td>\n",
       "      <td>8</td>\n",
       "    </tr>\n",
       "    <tr>\n",
       "      <th>4</th>\n",
       "      <td>Изменить цвет фона главной страницы, чтобы уве...</td>\n",
       "      <td>3</td>\n",
       "      <td>1</td>\n",
       "      <td>1</td>\n",
       "      <td>1</td>\n",
       "    </tr>\n",
       "    <tr>\n",
       "      <th>5</th>\n",
       "      <td>Добавить страницу отзывов клиентов о магазине,...</td>\n",
       "      <td>3</td>\n",
       "      <td>2</td>\n",
       "      <td>2</td>\n",
       "      <td>3</td>\n",
       "    </tr>\n",
       "    <tr>\n",
       "      <th>6</th>\n",
       "      <td>Показать на главной странице баннеры с актуаль...</td>\n",
       "      <td>5</td>\n",
       "      <td>3</td>\n",
       "      <td>8</td>\n",
       "      <td>3</td>\n",
       "    </tr>\n",
       "    <tr>\n",
       "      <th>7</th>\n",
       "      <td>Добавить форму подписки на все основные страни...</td>\n",
       "      <td>10</td>\n",
       "      <td>7</td>\n",
       "      <td>8</td>\n",
       "      <td>5</td>\n",
       "    </tr>\n",
       "    <tr>\n",
       "      <th>8</th>\n",
       "      <td>Запустить акцию, дающую скидку на товар в день...</td>\n",
       "      <td>1</td>\n",
       "      <td>9</td>\n",
       "      <td>9</td>\n",
       "      <td>5</td>\n",
       "    </tr>\n",
       "  </tbody>\n",
       "</table>\n",
       "</div>"
      ],
      "text/plain": [
       "                                          Hypothesis  Reach  Impact  \\\n",
       "0  Добавить два новых канала привлечения трафика,...      3      10   \n",
       "1  Запустить собственную службу доставки, что сок...      2       5   \n",
       "2  Добавить блоки рекомендаций товаров на сайт ин...      8       3   \n",
       "3  Изменить структура категорий, что увеличит кон...      8       3   \n",
       "4  Изменить цвет фона главной страницы, чтобы уве...      3       1   \n",
       "5  Добавить страницу отзывов клиентов о магазине,...      3       2   \n",
       "6  Показать на главной странице баннеры с актуаль...      5       3   \n",
       "7  Добавить форму подписки на все основные страни...     10       7   \n",
       "8  Запустить акцию, дающую скидку на товар в день...      1       9   \n",
       "\n",
       "   Confidence  Efforts  \n",
       "0           8        6  \n",
       "1           4       10  \n",
       "2           7        3  \n",
       "3           3        8  \n",
       "4           1        1  \n",
       "5           2        3  \n",
       "6           8        3  \n",
       "7           8        5  \n",
       "8           9        5  "
      ]
     },
     "metadata": {},
     "output_type": "display_data"
    },
    {
     "name": "stdout",
     "output_type": "stream",
     "text": [
      "<class 'pandas.core.frame.DataFrame'>\n",
      "RangeIndex: 9 entries, 0 to 8\n",
      "Data columns (total 5 columns):\n",
      " #   Column      Non-Null Count  Dtype \n",
      "---  ------      --------------  ----- \n",
      " 0   Hypothesis  9 non-null      object\n",
      " 1   Reach       9 non-null      int64 \n",
      " 2   Impact      9 non-null      int64 \n",
      " 3   Confidence  9 non-null      int64 \n",
      " 4   Efforts     9 non-null      int64 \n",
      "dtypes: int64(4), object(1)\n",
      "memory usage: 488.0+ bytes\n"
     ]
    }
   ],
   "source": [
    "hypothesis = pd.read_csv('/datasets/hypothesis.csv', sep=',')\n",
    "display(hypothesis)\n",
    "hypothesis.info()"
   ]
  },
  {
   "cell_type": "markdown",
   "metadata": {},
   "source": [
    "> Датасет совсем небольшой, его легко изучить визуально.  \n",
    ">* Пропусков нет, дубликатов нет, странных значений нет  \n",
    ">* Имеет смысл привести заголовки к нижнему регистру, чтобы было удобнее работать"
   ]
  },
  {
   "cell_type": "code",
   "execution_count": 4,
   "metadata": {},
   "outputs": [],
   "source": [
    "#приведем заголовки столбцов к нижнему регистру\n",
    "hypothesis.columns = hypothesis.columns.str.lower() \n",
    "#display(hypothesis)"
   ]
  },
  {
   "cell_type": "markdown",
   "metadata": {},
   "source": [
    "### Датасет с заказами"
   ]
  },
  {
   "cell_type": "code",
   "execution_count": 7,
   "metadata": {},
   "outputs": [
    {
     "data": {
      "text/html": [
       "<div>\n",
       "<style scoped>\n",
       "    .dataframe tbody tr th:only-of-type {\n",
       "        vertical-align: middle;\n",
       "    }\n",
       "\n",
       "    .dataframe tbody tr th {\n",
       "        vertical-align: top;\n",
       "    }\n",
       "\n",
       "    .dataframe thead th {\n",
       "        text-align: right;\n",
       "    }\n",
       "</style>\n",
       "<table border=\"1\" class=\"dataframe\">\n",
       "  <thead>\n",
       "    <tr style=\"text-align: right;\">\n",
       "      <th></th>\n",
       "      <th>transactionId</th>\n",
       "      <th>visitorId</th>\n",
       "      <th>date</th>\n",
       "      <th>revenue</th>\n",
       "      <th>group</th>\n",
       "    </tr>\n",
       "  </thead>\n",
       "  <tbody>\n",
       "    <tr>\n",
       "      <th>0</th>\n",
       "      <td>3667963787</td>\n",
       "      <td>3312258926</td>\n",
       "      <td>2019-08-15</td>\n",
       "      <td>1650</td>\n",
       "      <td>B</td>\n",
       "    </tr>\n",
       "    <tr>\n",
       "      <th>1</th>\n",
       "      <td>2804400009</td>\n",
       "      <td>3642806036</td>\n",
       "      <td>2019-08-15</td>\n",
       "      <td>730</td>\n",
       "      <td>B</td>\n",
       "    </tr>\n",
       "    <tr>\n",
       "      <th>2</th>\n",
       "      <td>2961555356</td>\n",
       "      <td>4069496402</td>\n",
       "      <td>2019-08-15</td>\n",
       "      <td>400</td>\n",
       "      <td>A</td>\n",
       "    </tr>\n",
       "    <tr>\n",
       "      <th>3</th>\n",
       "      <td>3797467345</td>\n",
       "      <td>1196621759</td>\n",
       "      <td>2019-08-15</td>\n",
       "      <td>9759</td>\n",
       "      <td>B</td>\n",
       "    </tr>\n",
       "    <tr>\n",
       "      <th>4</th>\n",
       "      <td>2282983706</td>\n",
       "      <td>2322279887</td>\n",
       "      <td>2019-08-15</td>\n",
       "      <td>2308</td>\n",
       "      <td>B</td>\n",
       "    </tr>\n",
       "    <tr>\n",
       "      <th>5</th>\n",
       "      <td>182168103</td>\n",
       "      <td>935554773</td>\n",
       "      <td>2019-08-15</td>\n",
       "      <td>2210</td>\n",
       "      <td>B</td>\n",
       "    </tr>\n",
       "    <tr>\n",
       "      <th>6</th>\n",
       "      <td>398296753</td>\n",
       "      <td>2900797465</td>\n",
       "      <td>2019-08-15</td>\n",
       "      <td>1860</td>\n",
       "      <td>B</td>\n",
       "    </tr>\n",
       "    <tr>\n",
       "      <th>7</th>\n",
       "      <td>2626614568</td>\n",
       "      <td>78758296</td>\n",
       "      <td>2019-08-15</td>\n",
       "      <td>1044</td>\n",
       "      <td>A</td>\n",
       "    </tr>\n",
       "    <tr>\n",
       "      <th>8</th>\n",
       "      <td>1576988021</td>\n",
       "      <td>295230930</td>\n",
       "      <td>2019-08-15</td>\n",
       "      <td>13710</td>\n",
       "      <td>A</td>\n",
       "    </tr>\n",
       "    <tr>\n",
       "      <th>9</th>\n",
       "      <td>1506739906</td>\n",
       "      <td>1882260405</td>\n",
       "      <td>2019-08-15</td>\n",
       "      <td>1855</td>\n",
       "      <td>B</td>\n",
       "    </tr>\n",
       "  </tbody>\n",
       "</table>\n",
       "</div>"
      ],
      "text/plain": [
       "   transactionId   visitorId        date  revenue group\n",
       "0     3667963787  3312258926  2019-08-15     1650     B\n",
       "1     2804400009  3642806036  2019-08-15      730     B\n",
       "2     2961555356  4069496402  2019-08-15      400     A\n",
       "3     3797467345  1196621759  2019-08-15     9759     B\n",
       "4     2282983706  2322279887  2019-08-15     2308     B\n",
       "5      182168103   935554773  2019-08-15     2210     B\n",
       "6      398296753  2900797465  2019-08-15     1860     B\n",
       "7     2626614568    78758296  2019-08-15     1044     A\n",
       "8     1576988021   295230930  2019-08-15    13710     A\n",
       "9     1506739906  1882260405  2019-08-15     1855     B"
      ]
     },
     "execution_count": 7,
     "metadata": {},
     "output_type": "execute_result"
    }
   ],
   "source": [
    "orders = pd.read_csv('/datasets/orders.csv', sep=',')\n",
    "orders.head(10)\n"
   ]
  },
  {
   "cell_type": "code",
   "execution_count": 8,
   "metadata": {},
   "outputs": [
    {
     "name": "stdout",
     "output_type": "stream",
     "text": [
      "<class 'pandas.core.frame.DataFrame'>\n",
      "RangeIndex: 1197 entries, 0 to 1196\n",
      "Data columns (total 5 columns):\n",
      " #   Column         Non-Null Count  Dtype \n",
      "---  ------         --------------  ----- \n",
      " 0   transactionId  1197 non-null   int64 \n",
      " 1   visitorId      1197 non-null   int64 \n",
      " 2   date           1197 non-null   object\n",
      " 3   revenue        1197 non-null   int64 \n",
      " 4   group          1197 non-null   object\n",
      "dtypes: int64(3), object(2)\n",
      "memory usage: 46.9+ KB\n"
     ]
    }
   ],
   "source": [
    "orders.info()"
   ]
  },
  {
   "cell_type": "markdown",
   "metadata": {},
   "source": [
    ">1. Попусков нет \n",
    ">2. Стоит проверить данные на дубликаты и поискать выбивающиеся значения (например, отрицательные в столбце revenue)  \n",
    ">3. Тип данных в date привести к временному типу  \n",
    ">4. Можно переименовать колонки для удобства "
   ]
  },
  {
   "cell_type": "code",
   "execution_count": 15,
   "metadata": {},
   "outputs": [
    {
     "name": "stdout",
     "output_type": "stream",
     "text": [
      "Количество дубликатов в датасете orders: 0\n"
     ]
    }
   ],
   "source": [
    "#проверяем данные на дубликаты\n",
    "print('Количество дубликатов в датасете orders:', orders.duplicated().sum()) "
   ]
  },
  {
   "cell_type": "code",
   "execution_count": 16,
   "metadata": {},
   "outputs": [
    {
     "data": {
      "text/html": [
       "<div>\n",
       "<style scoped>\n",
       "    .dataframe tbody tr th:only-of-type {\n",
       "        vertical-align: middle;\n",
       "    }\n",
       "\n",
       "    .dataframe tbody tr th {\n",
       "        vertical-align: top;\n",
       "    }\n",
       "\n",
       "    .dataframe thead th {\n",
       "        text-align: right;\n",
       "    }\n",
       "</style>\n",
       "<table border=\"1\" class=\"dataframe\">\n",
       "  <thead>\n",
       "    <tr style=\"text-align: right;\">\n",
       "      <th></th>\n",
       "      <th>transaction_id</th>\n",
       "      <th>visitor_id</th>\n",
       "      <th>revenue</th>\n",
       "    </tr>\n",
       "  </thead>\n",
       "  <tbody>\n",
       "    <tr>\n",
       "      <th>count</th>\n",
       "      <td>1.197000e+03</td>\n",
       "      <td>1.197000e+03</td>\n",
       "      <td>1.197000e+03</td>\n",
       "    </tr>\n",
       "    <tr>\n",
       "      <th>mean</th>\n",
       "      <td>2.155621e+09</td>\n",
       "      <td>2.165960e+09</td>\n",
       "      <td>8.348006e+03</td>\n",
       "    </tr>\n",
       "    <tr>\n",
       "      <th>std</th>\n",
       "      <td>1.229085e+09</td>\n",
       "      <td>1.236014e+09</td>\n",
       "      <td>3.919113e+04</td>\n",
       "    </tr>\n",
       "    <tr>\n",
       "      <th>min</th>\n",
       "      <td>1.062393e+06</td>\n",
       "      <td>5.114589e+06</td>\n",
       "      <td>5.000000e+01</td>\n",
       "    </tr>\n",
       "    <tr>\n",
       "      <th>25%</th>\n",
       "      <td>1.166776e+09</td>\n",
       "      <td>1.111826e+09</td>\n",
       "      <td>1.220000e+03</td>\n",
       "    </tr>\n",
       "    <tr>\n",
       "      <th>50%</th>\n",
       "      <td>2.145194e+09</td>\n",
       "      <td>2.217985e+09</td>\n",
       "      <td>2.978000e+03</td>\n",
       "    </tr>\n",
       "    <tr>\n",
       "      <th>75%</th>\n",
       "      <td>3.237740e+09</td>\n",
       "      <td>3.177606e+09</td>\n",
       "      <td>8.290000e+03</td>\n",
       "    </tr>\n",
       "    <tr>\n",
       "      <th>max</th>\n",
       "      <td>4.293856e+09</td>\n",
       "      <td>4.283872e+09</td>\n",
       "      <td>1.294500e+06</td>\n",
       "    </tr>\n",
       "  </tbody>\n",
       "</table>\n",
       "</div>"
      ],
      "text/plain": [
       "       transaction_id    visitor_id       revenue\n",
       "count    1.197000e+03  1.197000e+03  1.197000e+03\n",
       "mean     2.155621e+09  2.165960e+09  8.348006e+03\n",
       "std      1.229085e+09  1.236014e+09  3.919113e+04\n",
       "min      1.062393e+06  5.114589e+06  5.000000e+01\n",
       "25%      1.166776e+09  1.111826e+09  1.220000e+03\n",
       "50%      2.145194e+09  2.217985e+09  2.978000e+03\n",
       "75%      3.237740e+09  3.177606e+09  8.290000e+03\n",
       "max      4.293856e+09  4.283872e+09  1.294500e+06"
      ]
     },
     "execution_count": 16,
     "metadata": {},
     "output_type": "execute_result"
    }
   ],
   "source": [
    "#поищем отрицательные значения в revenue\n",
    "orders.describe() "
   ]
  },
  {
   "cell_type": "code",
   "execution_count": 17,
   "metadata": {},
   "outputs": [],
   "source": [
    "#переименуем столбцы, чтобы было удобнее\n",
    "orders.columns = ['transaction_id', 'visitor_id', 'date', 'revenue', 'group'] \n",
    "#orders.head()\n"
   ]
  },
  {
   "cell_type": "code",
   "execution_count": 36,
   "metadata": {},
   "outputs": [],
   "source": [
    "#приведем данные в столбце с датой к временному типу\n",
    "orders['date'] = orders['date'].astype('datetime64[D]') \n",
    "#orders.info()"
   ]
  },
  {
   "cell_type": "markdown",
   "metadata": {},
   "source": [
    "### Датасет с пользователями"
   ]
  },
  {
   "cell_type": "code",
   "execution_count": 37,
   "metadata": {},
   "outputs": [
    {
     "data": {
      "text/html": [
       "<div>\n",
       "<style scoped>\n",
       "    .dataframe tbody tr th:only-of-type {\n",
       "        vertical-align: middle;\n",
       "    }\n",
       "\n",
       "    .dataframe tbody tr th {\n",
       "        vertical-align: top;\n",
       "    }\n",
       "\n",
       "    .dataframe thead th {\n",
       "        text-align: right;\n",
       "    }\n",
       "</style>\n",
       "<table border=\"1\" class=\"dataframe\">\n",
       "  <thead>\n",
       "    <tr style=\"text-align: right;\">\n",
       "      <th></th>\n",
       "      <th>date</th>\n",
       "      <th>group</th>\n",
       "      <th>visitors</th>\n",
       "    </tr>\n",
       "  </thead>\n",
       "  <tbody>\n",
       "    <tr>\n",
       "      <th>0</th>\n",
       "      <td>2019-08-01</td>\n",
       "      <td>A</td>\n",
       "      <td>719</td>\n",
       "    </tr>\n",
       "    <tr>\n",
       "      <th>1</th>\n",
       "      <td>2019-08-02</td>\n",
       "      <td>A</td>\n",
       "      <td>619</td>\n",
       "    </tr>\n",
       "    <tr>\n",
       "      <th>2</th>\n",
       "      <td>2019-08-03</td>\n",
       "      <td>A</td>\n",
       "      <td>507</td>\n",
       "    </tr>\n",
       "    <tr>\n",
       "      <th>3</th>\n",
       "      <td>2019-08-04</td>\n",
       "      <td>A</td>\n",
       "      <td>717</td>\n",
       "    </tr>\n",
       "    <tr>\n",
       "      <th>4</th>\n",
       "      <td>2019-08-05</td>\n",
       "      <td>A</td>\n",
       "      <td>756</td>\n",
       "    </tr>\n",
       "    <tr>\n",
       "      <th>...</th>\n",
       "      <td>...</td>\n",
       "      <td>...</td>\n",
       "      <td>...</td>\n",
       "    </tr>\n",
       "    <tr>\n",
       "      <th>57</th>\n",
       "      <td>2019-08-27</td>\n",
       "      <td>B</td>\n",
       "      <td>720</td>\n",
       "    </tr>\n",
       "    <tr>\n",
       "      <th>58</th>\n",
       "      <td>2019-08-28</td>\n",
       "      <td>B</td>\n",
       "      <td>654</td>\n",
       "    </tr>\n",
       "    <tr>\n",
       "      <th>59</th>\n",
       "      <td>2019-08-29</td>\n",
       "      <td>B</td>\n",
       "      <td>531</td>\n",
       "    </tr>\n",
       "    <tr>\n",
       "      <th>60</th>\n",
       "      <td>2019-08-30</td>\n",
       "      <td>B</td>\n",
       "      <td>490</td>\n",
       "    </tr>\n",
       "    <tr>\n",
       "      <th>61</th>\n",
       "      <td>2019-08-31</td>\n",
       "      <td>B</td>\n",
       "      <td>718</td>\n",
       "    </tr>\n",
       "  </tbody>\n",
       "</table>\n",
       "<p>62 rows × 3 columns</p>\n",
       "</div>"
      ],
      "text/plain": [
       "          date group  visitors\n",
       "0   2019-08-01     A       719\n",
       "1   2019-08-02     A       619\n",
       "2   2019-08-03     A       507\n",
       "3   2019-08-04     A       717\n",
       "4   2019-08-05     A       756\n",
       "..         ...   ...       ...\n",
       "57  2019-08-27     B       720\n",
       "58  2019-08-28     B       654\n",
       "59  2019-08-29     B       531\n",
       "60  2019-08-30     B       490\n",
       "61  2019-08-31     B       718\n",
       "\n",
       "[62 rows x 3 columns]"
      ]
     },
     "metadata": {},
     "output_type": "display_data"
    },
    {
     "name": "stdout",
     "output_type": "stream",
     "text": [
      "<class 'pandas.core.frame.DataFrame'>\n",
      "RangeIndex: 62 entries, 0 to 61\n",
      "Data columns (total 3 columns):\n",
      " #   Column    Non-Null Count  Dtype \n",
      "---  ------    --------------  ----- \n",
      " 0   date      62 non-null     object\n",
      " 1   group     62 non-null     object\n",
      " 2   visitors  62 non-null     int64 \n",
      "dtypes: int64(1), object(2)\n",
      "memory usage: 1.6+ KB\n"
     ]
    },
    {
     "data": {
      "text/html": [
       "<div>\n",
       "<style scoped>\n",
       "    .dataframe tbody tr th:only-of-type {\n",
       "        vertical-align: middle;\n",
       "    }\n",
       "\n",
       "    .dataframe tbody tr th {\n",
       "        vertical-align: top;\n",
       "    }\n",
       "\n",
       "    .dataframe thead th {\n",
       "        text-align: right;\n",
       "    }\n",
       "</style>\n",
       "<table border=\"1\" class=\"dataframe\">\n",
       "  <thead>\n",
       "    <tr style=\"text-align: right;\">\n",
       "      <th></th>\n",
       "      <th>visitors</th>\n",
       "    </tr>\n",
       "  </thead>\n",
       "  <tbody>\n",
       "    <tr>\n",
       "      <th>count</th>\n",
       "      <td>62.000000</td>\n",
       "    </tr>\n",
       "    <tr>\n",
       "      <th>mean</th>\n",
       "      <td>607.290323</td>\n",
       "    </tr>\n",
       "    <tr>\n",
       "      <th>std</th>\n",
       "      <td>114.400560</td>\n",
       "    </tr>\n",
       "    <tr>\n",
       "      <th>min</th>\n",
       "      <td>361.000000</td>\n",
       "    </tr>\n",
       "    <tr>\n",
       "      <th>25%</th>\n",
       "      <td>534.000000</td>\n",
       "    </tr>\n",
       "    <tr>\n",
       "      <th>50%</th>\n",
       "      <td>624.500000</td>\n",
       "    </tr>\n",
       "    <tr>\n",
       "      <th>75%</th>\n",
       "      <td>710.500000</td>\n",
       "    </tr>\n",
       "    <tr>\n",
       "      <th>max</th>\n",
       "      <td>770.000000</td>\n",
       "    </tr>\n",
       "  </tbody>\n",
       "</table>\n",
       "</div>"
      ],
      "text/plain": [
       "         visitors\n",
       "count   62.000000\n",
       "mean   607.290323\n",
       "std    114.400560\n",
       "min    361.000000\n",
       "25%    534.000000\n",
       "50%    624.500000\n",
       "75%    710.500000\n",
       "max    770.000000"
      ]
     },
     "execution_count": 37,
     "metadata": {},
     "output_type": "execute_result"
    }
   ],
   "source": [
    "visitors = pd.read_csv('/datasets/visitors.csv', sep=',')\n",
    "display(visitors)\n",
    "visitors.info()\n",
    "visitors.describe()"
   ]
  },
  {
   "cell_type": "code",
   "execution_count": 38,
   "metadata": {},
   "outputs": [
    {
     "name": "stdout",
     "output_type": "stream",
     "text": [
      "Количество дубликатов в датасете visitors: 0\n"
     ]
    }
   ],
   "source": [
    "#проверяем данные на дубликаты\n",
    "print('Количество дубликатов в датасете visitors:', visitors.duplicated().sum())"
   ]
  },
  {
   "cell_type": "code",
   "execution_count": 39,
   "metadata": {},
   "outputs": [
    {
     "name": "stdout",
     "output_type": "stream",
     "text": [
      "<class 'pandas.core.frame.DataFrame'>\n",
      "RangeIndex: 62 entries, 0 to 61\n",
      "Data columns (total 3 columns):\n",
      " #   Column    Non-Null Count  Dtype         \n",
      "---  ------    --------------  -----         \n",
      " 0   date      62 non-null     datetime64[ns]\n",
      " 1   group     62 non-null     object        \n",
      " 2   visitors  62 non-null     int64         \n",
      "dtypes: datetime64[ns](1), int64(1), object(1)\n",
      "memory usage: 1.6+ KB\n"
     ]
    }
   ],
   "source": [
    "#приведем данные в столбце с датой к временному типу\n",
    "visitors['date'] = visitors['date'].astype('datetime64[D]') \n",
    "visitors.info()"
   ]
  },
  {
   "cell_type": "markdown",
   "metadata": {},
   "source": [
    "> Пропусков нет, странных значений нет, дубликатов нет  \n",
    "> Данные в столбце с датой приведены к временному типу"
   ]
  },
  {
   "cell_type": "markdown",
   "metadata": {},
   "source": [
    "## Приоритизация гипотез."
   ]
  },
  {
   "cell_type": "markdown",
   "metadata": {},
   "source": [
    "### Применение фреймворка ICE для приоритизации гипотез. "
   ]
  },
  {
   "cell_type": "code",
   "execution_count": 13,
   "metadata": {},
   "outputs": [
    {
     "data": {
      "text/html": [
       "<div>\n",
       "<style scoped>\n",
       "    .dataframe tbody tr th:only-of-type {\n",
       "        vertical-align: middle;\n",
       "    }\n",
       "\n",
       "    .dataframe tbody tr th {\n",
       "        vertical-align: top;\n",
       "    }\n",
       "\n",
       "    .dataframe thead th {\n",
       "        text-align: right;\n",
       "    }\n",
       "</style>\n",
       "<table border=\"1\" class=\"dataframe\">\n",
       "  <thead>\n",
       "    <tr style=\"text-align: right;\">\n",
       "      <th></th>\n",
       "      <th>hypothesis</th>\n",
       "      <th>reach</th>\n",
       "      <th>impact</th>\n",
       "      <th>confidence</th>\n",
       "      <th>efforts</th>\n",
       "    </tr>\n",
       "  </thead>\n",
       "  <tbody>\n",
       "    <tr>\n",
       "      <td>0</td>\n",
       "      <td>Добавить два новых канала привлечения трафика,...</td>\n",
       "      <td>3</td>\n",
       "      <td>10</td>\n",
       "      <td>8</td>\n",
       "      <td>6</td>\n",
       "    </tr>\n",
       "    <tr>\n",
       "      <td>1</td>\n",
       "      <td>Запустить собственную службу доставки, что сок...</td>\n",
       "      <td>2</td>\n",
       "      <td>5</td>\n",
       "      <td>4</td>\n",
       "      <td>10</td>\n",
       "    </tr>\n",
       "    <tr>\n",
       "      <td>2</td>\n",
       "      <td>Добавить блоки рекомендаций товаров на сайт ин...</td>\n",
       "      <td>8</td>\n",
       "      <td>3</td>\n",
       "      <td>7</td>\n",
       "      <td>3</td>\n",
       "    </tr>\n",
       "    <tr>\n",
       "      <td>3</td>\n",
       "      <td>Изменить структура категорий, что увеличит кон...</td>\n",
       "      <td>8</td>\n",
       "      <td>3</td>\n",
       "      <td>3</td>\n",
       "      <td>8</td>\n",
       "    </tr>\n",
       "    <tr>\n",
       "      <td>4</td>\n",
       "      <td>Изменить цвет фона главной страницы, чтобы уве...</td>\n",
       "      <td>3</td>\n",
       "      <td>1</td>\n",
       "      <td>1</td>\n",
       "      <td>1</td>\n",
       "    </tr>\n",
       "    <tr>\n",
       "      <td>5</td>\n",
       "      <td>Добавить страницу отзывов клиентов о магазине,...</td>\n",
       "      <td>3</td>\n",
       "      <td>2</td>\n",
       "      <td>2</td>\n",
       "      <td>3</td>\n",
       "    </tr>\n",
       "    <tr>\n",
       "      <td>6</td>\n",
       "      <td>Показать на главной странице баннеры с актуаль...</td>\n",
       "      <td>5</td>\n",
       "      <td>3</td>\n",
       "      <td>8</td>\n",
       "      <td>3</td>\n",
       "    </tr>\n",
       "    <tr>\n",
       "      <td>7</td>\n",
       "      <td>Добавить форму подписки на все основные страни...</td>\n",
       "      <td>10</td>\n",
       "      <td>7</td>\n",
       "      <td>8</td>\n",
       "      <td>5</td>\n",
       "    </tr>\n",
       "    <tr>\n",
       "      <td>8</td>\n",
       "      <td>Запустить акцию, дающую скидку на товар в день...</td>\n",
       "      <td>1</td>\n",
       "      <td>9</td>\n",
       "      <td>9</td>\n",
       "      <td>5</td>\n",
       "    </tr>\n",
       "  </tbody>\n",
       "</table>\n",
       "</div>"
      ],
      "text/plain": [
       "                                          hypothesis  reach  impact  \\\n",
       "0  Добавить два новых канала привлечения трафика,...      3      10   \n",
       "1  Запустить собственную службу доставки, что сок...      2       5   \n",
       "2  Добавить блоки рекомендаций товаров на сайт ин...      8       3   \n",
       "3  Изменить структура категорий, что увеличит кон...      8       3   \n",
       "4  Изменить цвет фона главной страницы, чтобы уве...      3       1   \n",
       "5  Добавить страницу отзывов клиентов о магазине,...      3       2   \n",
       "6  Показать на главной странице баннеры с актуаль...      5       3   \n",
       "7  Добавить форму подписки на все основные страни...     10       7   \n",
       "8  Запустить акцию, дающую скидку на товар в день...      1       9   \n",
       "\n",
       "   confidence  efforts  \n",
       "0           8        6  \n",
       "1           4       10  \n",
       "2           7        3  \n",
       "3           3        8  \n",
       "4           1        1  \n",
       "5           2        3  \n",
       "6           8        3  \n",
       "7           8        5  \n",
       "8           9        5  "
      ]
     },
     "metadata": {},
     "output_type": "display_data"
    }
   ],
   "source": [
    "display(hypothesis)"
   ]
  },
  {
   "cell_type": "code",
   "execution_count": 14,
   "metadata": {},
   "outputs": [
    {
     "data": {
      "text/html": [
       "<div>\n",
       "<style scoped>\n",
       "    .dataframe tbody tr th:only-of-type {\n",
       "        vertical-align: middle;\n",
       "    }\n",
       "\n",
       "    .dataframe tbody tr th {\n",
       "        vertical-align: top;\n",
       "    }\n",
       "\n",
       "    .dataframe thead th {\n",
       "        text-align: right;\n",
       "    }\n",
       "</style>\n",
       "<table border=\"1\" class=\"dataframe\">\n",
       "  <thead>\n",
       "    <tr style=\"text-align: right;\">\n",
       "      <th></th>\n",
       "      <th>hypothesis</th>\n",
       "      <th>ICE</th>\n",
       "    </tr>\n",
       "  </thead>\n",
       "  <tbody>\n",
       "    <tr>\n",
       "      <td>8</td>\n",
       "      <td>Запустить акцию, дающую скидку на товар в день...</td>\n",
       "      <td>16.200000</td>\n",
       "    </tr>\n",
       "    <tr>\n",
       "      <td>0</td>\n",
       "      <td>Добавить два новых канала привлечения трафика,...</td>\n",
       "      <td>13.333333</td>\n",
       "    </tr>\n",
       "    <tr>\n",
       "      <td>7</td>\n",
       "      <td>Добавить форму подписки на все основные страни...</td>\n",
       "      <td>11.200000</td>\n",
       "    </tr>\n",
       "    <tr>\n",
       "      <td>6</td>\n",
       "      <td>Показать на главной странице баннеры с актуаль...</td>\n",
       "      <td>8.000000</td>\n",
       "    </tr>\n",
       "    <tr>\n",
       "      <td>2</td>\n",
       "      <td>Добавить блоки рекомендаций товаров на сайт ин...</td>\n",
       "      <td>7.000000</td>\n",
       "    </tr>\n",
       "    <tr>\n",
       "      <td>1</td>\n",
       "      <td>Запустить собственную службу доставки, что сок...</td>\n",
       "      <td>2.000000</td>\n",
       "    </tr>\n",
       "    <tr>\n",
       "      <td>5</td>\n",
       "      <td>Добавить страницу отзывов клиентов о магазине,...</td>\n",
       "      <td>1.333333</td>\n",
       "    </tr>\n",
       "    <tr>\n",
       "      <td>3</td>\n",
       "      <td>Изменить структура категорий, что увеличит кон...</td>\n",
       "      <td>1.125000</td>\n",
       "    </tr>\n",
       "    <tr>\n",
       "      <td>4</td>\n",
       "      <td>Изменить цвет фона главной страницы, чтобы уве...</td>\n",
       "      <td>1.000000</td>\n",
       "    </tr>\n",
       "  </tbody>\n",
       "</table>\n",
       "</div>"
      ],
      "text/plain": [
       "                                          hypothesis        ICE\n",
       "8  Запустить акцию, дающую скидку на товар в день...  16.200000\n",
       "0  Добавить два новых канала привлечения трафика,...  13.333333\n",
       "7  Добавить форму подписки на все основные страни...  11.200000\n",
       "6  Показать на главной странице баннеры с актуаль...   8.000000\n",
       "2  Добавить блоки рекомендаций товаров на сайт ин...   7.000000\n",
       "1  Запустить собственную службу доставки, что сок...   2.000000\n",
       "5  Добавить страницу отзывов клиентов о магазине,...   1.333333\n",
       "3  Изменить структура категорий, что увеличит кон...   1.125000\n",
       "4  Изменить цвет фона главной страницы, чтобы уве...   1.000000"
      ]
     },
     "metadata": {},
     "output_type": "display_data"
    }
   ],
   "source": [
    "#Приоритезируем по ICE\n",
    "hypothesis['ICE'] = hypothesis['impact'] * hypothesis['confidence'] / hypothesis['efforts']\n",
    "display(hypothesis[['hypothesis', 'ICE']].sort_values(by='ICE', ascending=False))"
   ]
  },
  {
   "cell_type": "markdown",
   "metadata": {},
   "source": [
    "По **ICE** самые приоритетные гипотезы под индексами 8, 0, 7 "
   ]
  },
  {
   "cell_type": "code",
   "execution_count": 15,
   "metadata": {},
   "outputs": [
    {
     "data": {
      "text/html": [
       "<div>\n",
       "<style scoped>\n",
       "    .dataframe tbody tr th:only-of-type {\n",
       "        vertical-align: middle;\n",
       "    }\n",
       "\n",
       "    .dataframe tbody tr th {\n",
       "        vertical-align: top;\n",
       "    }\n",
       "\n",
       "    .dataframe thead th {\n",
       "        text-align: right;\n",
       "    }\n",
       "</style>\n",
       "<table border=\"1\" class=\"dataframe\">\n",
       "  <thead>\n",
       "    <tr style=\"text-align: right;\">\n",
       "      <th></th>\n",
       "      <th>hypothesis</th>\n",
       "      <th>RICE</th>\n",
       "    </tr>\n",
       "  </thead>\n",
       "  <tbody>\n",
       "    <tr>\n",
       "      <td>7</td>\n",
       "      <td>Добавить форму подписки на все основные страни...</td>\n",
       "      <td>112.0</td>\n",
       "    </tr>\n",
       "    <tr>\n",
       "      <td>2</td>\n",
       "      <td>Добавить блоки рекомендаций товаров на сайт ин...</td>\n",
       "      <td>56.0</td>\n",
       "    </tr>\n",
       "    <tr>\n",
       "      <td>0</td>\n",
       "      <td>Добавить два новых канала привлечения трафика,...</td>\n",
       "      <td>40.0</td>\n",
       "    </tr>\n",
       "    <tr>\n",
       "      <td>6</td>\n",
       "      <td>Показать на главной странице баннеры с актуаль...</td>\n",
       "      <td>40.0</td>\n",
       "    </tr>\n",
       "    <tr>\n",
       "      <td>8</td>\n",
       "      <td>Запустить акцию, дающую скидку на товар в день...</td>\n",
       "      <td>16.2</td>\n",
       "    </tr>\n",
       "    <tr>\n",
       "      <td>3</td>\n",
       "      <td>Изменить структура категорий, что увеличит кон...</td>\n",
       "      <td>9.0</td>\n",
       "    </tr>\n",
       "    <tr>\n",
       "      <td>1</td>\n",
       "      <td>Запустить собственную службу доставки, что сок...</td>\n",
       "      <td>4.0</td>\n",
       "    </tr>\n",
       "    <tr>\n",
       "      <td>5</td>\n",
       "      <td>Добавить страницу отзывов клиентов о магазине,...</td>\n",
       "      <td>4.0</td>\n",
       "    </tr>\n",
       "    <tr>\n",
       "      <td>4</td>\n",
       "      <td>Изменить цвет фона главной страницы, чтобы уве...</td>\n",
       "      <td>3.0</td>\n",
       "    </tr>\n",
       "  </tbody>\n",
       "</table>\n",
       "</div>"
      ],
      "text/plain": [
       "                                          hypothesis   RICE\n",
       "7  Добавить форму подписки на все основные страни...  112.0\n",
       "2  Добавить блоки рекомендаций товаров на сайт ин...   56.0\n",
       "0  Добавить два новых канала привлечения трафика,...   40.0\n",
       "6  Показать на главной странице баннеры с актуаль...   40.0\n",
       "8  Запустить акцию, дающую скидку на товар в день...   16.2\n",
       "3  Изменить структура категорий, что увеличит кон...    9.0\n",
       "1  Запустить собственную службу доставки, что сок...    4.0\n",
       "5  Добавить страницу отзывов клиентов о магазине,...    4.0\n",
       "4  Изменить цвет фона главной страницы, чтобы уве...    3.0"
      ]
     },
     "metadata": {},
     "output_type": "display_data"
    }
   ],
   "source": [
    "#Приоритезируем по RICE\n",
    "hypothesis['RICE'] = (hypothesis['reach'] * hypothesis['impact'] * hypothesis['confidence']) / hypothesis['efforts']\n",
    "display(hypothesis[['hypothesis', 'RICE']].sort_values(by='RICE', ascending=False))"
   ]
  },
  {
   "cell_type": "markdown",
   "metadata": {},
   "source": [
    "По **RICE** самые приоритетные гипотезы под индексами 7, 2, 0 и 6"
   ]
  },
  {
   "cell_type": "markdown",
   "metadata": {},
   "source": [
    ">RICE дал нам отличные от ICE показатели, поскольку в ICE мы не учитывали охват пользователей, которых изменения затронут. Поскольку целью проекта является увеличение выручки, считаю, что показатель Reach является важнейшей составляющей приоритезации, поэтому при составлении приоритетов будем учитывать именно этот метод.  \n",
    ">\n",
    ">Приоритетные гипотезы:  \n",
    ">1. Добавить форму подписки на все основные страницы, чтобы собрать базу клиентов для email-рассылок - индекс 7\n",
    ">2. Добавить блоки рекомендаций товаров на сайт интернет магазина, чтобы повысить конверсию и средний чек заказа - индекс 2  \n",
    ">3. Добавить два новых канала привлечения трафика, что позволит привлекать на 30% больше пользователей - индекс 0  \n",
    ">4. Показать на главной странице баннеры с актуальными акциями и распродажами, чтобы увеличить конверсию - индекс 6  \n",
    ">\n",
    ">Самой приритетной гипотезой является **гипотеза 7-Добавить форму подписки на все основные страницы**  - параметр RICE у нее сильно выбивается от остальных и состаялет 112 баллов, что в 2 раза выше, второй по приоритету гипотезы. Стоит сосредоточить усилия на ней"
   ]
  },
  {
   "cell_type": "markdown",
   "metadata": {},
   "source": [
    "## Анализ A/B-теста"
   ]
  },
  {
   "cell_type": "markdown",
   "metadata": {},
   "source": [
    "### Изучение кумулятивной выручки, среднего чека и конверсии. Анализ изменений показателей. "
   ]
  },
  {
   "cell_type": "markdown",
   "metadata": {},
   "source": [
    "Объявим датафрейм cumulative со столбцами:  \n",
    "\n",
    "date — дата;  \n",
    "group — группа A/B-теста (A или B);  \n",
    "orders — кумулятивное количество заказов на указанную дату в указанной группе;  \n",
    "buyers — кумулятивное количество пользователей, совершивших хотя бы один заказ, на указанную дату в указанной группе;\n",
    "revenue — кумулятивная выручка на указанную дату в указанной группе (средний чек);  \n",
    "visitors — кумулятивное количество посетителей интернет-магазина на указанную дату в определённой группе.  "
   ]
  },
  {
   "cell_type": "code",
   "execution_count": 40,
   "metadata": {},
   "outputs": [
    {
     "data": {
      "text/html": [
       "<div>\n",
       "<style scoped>\n",
       "    .dataframe tbody tr th:only-of-type {\n",
       "        vertical-align: middle;\n",
       "    }\n",
       "\n",
       "    .dataframe tbody tr th {\n",
       "        vertical-align: top;\n",
       "    }\n",
       "\n",
       "    .dataframe thead th {\n",
       "        text-align: right;\n",
       "    }\n",
       "</style>\n",
       "<table border=\"1\" class=\"dataframe\">\n",
       "  <thead>\n",
       "    <tr style=\"text-align: right;\">\n",
       "      <th></th>\n",
       "      <th>date</th>\n",
       "      <th>group</th>\n",
       "    </tr>\n",
       "  </thead>\n",
       "  <tbody>\n",
       "    <tr>\n",
       "      <th>0</th>\n",
       "      <td>2019-08-15</td>\n",
       "      <td>B</td>\n",
       "    </tr>\n",
       "    <tr>\n",
       "      <th>2</th>\n",
       "      <td>2019-08-15</td>\n",
       "      <td>A</td>\n",
       "    </tr>\n",
       "    <tr>\n",
       "      <th>45</th>\n",
       "      <td>2019-08-16</td>\n",
       "      <td>A</td>\n",
       "    </tr>\n",
       "    <tr>\n",
       "      <th>47</th>\n",
       "      <td>2019-08-16</td>\n",
       "      <td>B</td>\n",
       "    </tr>\n",
       "    <tr>\n",
       "      <th>55</th>\n",
       "      <td>2019-08-01</td>\n",
       "      <td>A</td>\n",
       "    </tr>\n",
       "  </tbody>\n",
       "</table>\n",
       "</div>"
      ],
      "text/plain": [
       "         date group\n",
       "0  2019-08-15     B\n",
       "2  2019-08-15     A\n",
       "45 2019-08-16     A\n",
       "47 2019-08-16     B\n",
       "55 2019-08-01     A"
      ]
     },
     "execution_count": 40,
     "metadata": {},
     "output_type": "execute_result"
    }
   ],
   "source": [
    "#создаем массив уникальных пар значений дат и групп теста\n",
    "datesGroups = orders[['date','group']].drop_duplicates()\n",
    "datesGroups.head()"
   ]
  },
  {
   "cell_type": "code",
   "execution_count": 41,
   "metadata": {},
   "outputs": [
    {
     "data": {
      "text/html": [
       "<div>\n",
       "<style scoped>\n",
       "    .dataframe tbody tr th:only-of-type {\n",
       "        vertical-align: middle;\n",
       "    }\n",
       "\n",
       "    .dataframe tbody tr th {\n",
       "        vertical-align: top;\n",
       "    }\n",
       "\n",
       "    .dataframe thead th {\n",
       "        text-align: right;\n",
       "    }\n",
       "</style>\n",
       "<table border=\"1\" class=\"dataframe\">\n",
       "  <thead>\n",
       "    <tr style=\"text-align: right;\">\n",
       "      <th></th>\n",
       "      <th>date</th>\n",
       "      <th>group</th>\n",
       "      <th>transaction_id</th>\n",
       "      <th>visitor_id</th>\n",
       "      <th>revenue</th>\n",
       "    </tr>\n",
       "  </thead>\n",
       "  <tbody>\n",
       "    <tr>\n",
       "      <th>55</th>\n",
       "      <td>2019-08-01</td>\n",
       "      <td>A</td>\n",
       "      <td>24</td>\n",
       "      <td>20</td>\n",
       "      <td>148579</td>\n",
       "    </tr>\n",
       "    <tr>\n",
       "      <th>66</th>\n",
       "      <td>2019-08-01</td>\n",
       "      <td>B</td>\n",
       "      <td>21</td>\n",
       "      <td>20</td>\n",
       "      <td>101217</td>\n",
       "    </tr>\n",
       "    <tr>\n",
       "      <th>175</th>\n",
       "      <td>2019-08-02</td>\n",
       "      <td>A</td>\n",
       "      <td>44</td>\n",
       "      <td>38</td>\n",
       "      <td>242401</td>\n",
       "    </tr>\n",
       "    <tr>\n",
       "      <th>173</th>\n",
       "      <td>2019-08-02</td>\n",
       "      <td>B</td>\n",
       "      <td>45</td>\n",
       "      <td>43</td>\n",
       "      <td>266748</td>\n",
       "    </tr>\n",
       "    <tr>\n",
       "      <th>291</th>\n",
       "      <td>2019-08-03</td>\n",
       "      <td>A</td>\n",
       "      <td>68</td>\n",
       "      <td>62</td>\n",
       "      <td>354874</td>\n",
       "    </tr>\n",
       "    <tr>\n",
       "      <th>310</th>\n",
       "      <td>2019-08-03</td>\n",
       "      <td>B</td>\n",
       "      <td>61</td>\n",
       "      <td>59</td>\n",
       "      <td>380996</td>\n",
       "    </tr>\n",
       "    <tr>\n",
       "      <th>499</th>\n",
       "      <td>2019-08-04</td>\n",
       "      <td>A</td>\n",
       "      <td>84</td>\n",
       "      <td>77</td>\n",
       "      <td>425699</td>\n",
       "    </tr>\n",
       "    <tr>\n",
       "      <th>498</th>\n",
       "      <td>2019-08-04</td>\n",
       "      <td>B</td>\n",
       "      <td>78</td>\n",
       "      <td>75</td>\n",
       "      <td>489567</td>\n",
       "    </tr>\n",
       "    <tr>\n",
       "      <th>698</th>\n",
       "      <td>2019-08-05</td>\n",
       "      <td>A</td>\n",
       "      <td>109</td>\n",
       "      <td>100</td>\n",
       "      <td>549917</td>\n",
       "    </tr>\n",
       "    <tr>\n",
       "      <th>699</th>\n",
       "      <td>2019-08-05</td>\n",
       "      <td>B</td>\n",
       "      <td>101</td>\n",
       "      <td>98</td>\n",
       "      <td>581995</td>\n",
       "    </tr>\n",
       "  </tbody>\n",
       "</table>\n",
       "</div>"
      ],
      "text/plain": [
       "          date group  transaction_id  visitor_id  revenue\n",
       "55  2019-08-01     A              24          20   148579\n",
       "66  2019-08-01     B              21          20   101217\n",
       "175 2019-08-02     A              44          38   242401\n",
       "173 2019-08-02     B              45          43   266748\n",
       "291 2019-08-03     A              68          62   354874\n",
       "310 2019-08-03     B              61          59   380996\n",
       "499 2019-08-04     A              84          77   425699\n",
       "498 2019-08-04     B              78          75   489567\n",
       "698 2019-08-05     A             109         100   549917\n",
       "699 2019-08-05     B             101          98   581995"
      ]
     },
     "execution_count": 41,
     "metadata": {},
     "output_type": "execute_result"
    }
   ],
   "source": [
    "#Соберём агрегированные кумулятивные по дням данные о заказах\n",
    "ordersAggregated = datesGroups.apply(lambda x: orders[np.logical_and(orders['date'] <= x['date'], orders['group'] == x['group'])]\\\n",
    ".agg({'date' : 'max', 'group' : 'max', 'transaction_id' : pd.Series.nunique, 'visitor_id' : pd.Series.nunique, 'revenue' : 'sum'}), axis=1).sort_values(by=['date','group'])\n",
    "ordersAggregated.head(10)\n",
    "\n"
   ]
  },
  {
   "cell_type": "code",
   "execution_count": 42,
   "metadata": {},
   "outputs": [
    {
     "data": {
      "text/html": [
       "<div>\n",
       "<style scoped>\n",
       "    .dataframe tbody tr th:only-of-type {\n",
       "        vertical-align: middle;\n",
       "    }\n",
       "\n",
       "    .dataframe tbody tr th {\n",
       "        vertical-align: top;\n",
       "    }\n",
       "\n",
       "    .dataframe thead th {\n",
       "        text-align: right;\n",
       "    }\n",
       "</style>\n",
       "<table border=\"1\" class=\"dataframe\">\n",
       "  <thead>\n",
       "    <tr style=\"text-align: right;\">\n",
       "      <th></th>\n",
       "      <th>date</th>\n",
       "      <th>group</th>\n",
       "      <th>visitors</th>\n",
       "    </tr>\n",
       "  </thead>\n",
       "  <tbody>\n",
       "    <tr>\n",
       "      <th>55</th>\n",
       "      <td>2019-08-01</td>\n",
       "      <td>A</td>\n",
       "      <td>719</td>\n",
       "    </tr>\n",
       "    <tr>\n",
       "      <th>66</th>\n",
       "      <td>2019-08-01</td>\n",
       "      <td>B</td>\n",
       "      <td>713</td>\n",
       "    </tr>\n",
       "    <tr>\n",
       "      <th>175</th>\n",
       "      <td>2019-08-02</td>\n",
       "      <td>A</td>\n",
       "      <td>1338</td>\n",
       "    </tr>\n",
       "    <tr>\n",
       "      <th>173</th>\n",
       "      <td>2019-08-02</td>\n",
       "      <td>B</td>\n",
       "      <td>1294</td>\n",
       "    </tr>\n",
       "    <tr>\n",
       "      <th>291</th>\n",
       "      <td>2019-08-03</td>\n",
       "      <td>A</td>\n",
       "      <td>1845</td>\n",
       "    </tr>\n",
       "    <tr>\n",
       "      <th>310</th>\n",
       "      <td>2019-08-03</td>\n",
       "      <td>B</td>\n",
       "      <td>1803</td>\n",
       "    </tr>\n",
       "    <tr>\n",
       "      <th>499</th>\n",
       "      <td>2019-08-04</td>\n",
       "      <td>A</td>\n",
       "      <td>2562</td>\n",
       "    </tr>\n",
       "    <tr>\n",
       "      <th>498</th>\n",
       "      <td>2019-08-04</td>\n",
       "      <td>B</td>\n",
       "      <td>2573</td>\n",
       "    </tr>\n",
       "    <tr>\n",
       "      <th>698</th>\n",
       "      <td>2019-08-05</td>\n",
       "      <td>A</td>\n",
       "      <td>3318</td>\n",
       "    </tr>\n",
       "    <tr>\n",
       "      <th>699</th>\n",
       "      <td>2019-08-05</td>\n",
       "      <td>B</td>\n",
       "      <td>3280</td>\n",
       "    </tr>\n",
       "  </tbody>\n",
       "</table>\n",
       "</div>"
      ],
      "text/plain": [
       "          date group  visitors\n",
       "55  2019-08-01     A       719\n",
       "66  2019-08-01     B       713\n",
       "175 2019-08-02     A      1338\n",
       "173 2019-08-02     B      1294\n",
       "291 2019-08-03     A      1845\n",
       "310 2019-08-03     B      1803\n",
       "499 2019-08-04     A      2562\n",
       "498 2019-08-04     B      2573\n",
       "698 2019-08-05     A      3318\n",
       "699 2019-08-05     B      3280"
      ]
     },
     "execution_count": 42,
     "metadata": {},
     "output_type": "execute_result"
    }
   ],
   "source": [
    "#Соберём агрегированные кумулятивные по дням данные о пользователях\n",
    "visitorsAggregated = datesGroups.apply(lambda x: visitors[np.logical_and(visitors['date'] <= x['date'], visitors['group'] == x['group'])].agg({'date' : 'max', 'group' : 'max', 'visitors' : 'sum'}), axis=1).sort_values(by=['date','group'])\n",
    "visitorsAggregated.head(10)\n"
   ]
  },
  {
   "cell_type": "code",
   "execution_count": 43,
   "metadata": {},
   "outputs": [
    {
     "data": {
      "text/html": [
       "<div>\n",
       "<style scoped>\n",
       "    .dataframe tbody tr th:only-of-type {\n",
       "        vertical-align: middle;\n",
       "    }\n",
       "\n",
       "    .dataframe tbody tr th {\n",
       "        vertical-align: top;\n",
       "    }\n",
       "\n",
       "    .dataframe thead th {\n",
       "        text-align: right;\n",
       "    }\n",
       "</style>\n",
       "<table border=\"1\" class=\"dataframe\">\n",
       "  <thead>\n",
       "    <tr style=\"text-align: right;\">\n",
       "      <th></th>\n",
       "      <th>date</th>\n",
       "      <th>group</th>\n",
       "      <th>orders</th>\n",
       "      <th>buyers</th>\n",
       "      <th>revenue</th>\n",
       "      <th>visitors</th>\n",
       "    </tr>\n",
       "  </thead>\n",
       "  <tbody>\n",
       "    <tr>\n",
       "      <th>0</th>\n",
       "      <td>2019-08-01</td>\n",
       "      <td>A</td>\n",
       "      <td>24</td>\n",
       "      <td>20</td>\n",
       "      <td>148579</td>\n",
       "      <td>719</td>\n",
       "    </tr>\n",
       "    <tr>\n",
       "      <th>1</th>\n",
       "      <td>2019-08-01</td>\n",
       "      <td>B</td>\n",
       "      <td>21</td>\n",
       "      <td>20</td>\n",
       "      <td>101217</td>\n",
       "      <td>713</td>\n",
       "    </tr>\n",
       "    <tr>\n",
       "      <th>2</th>\n",
       "      <td>2019-08-02</td>\n",
       "      <td>A</td>\n",
       "      <td>44</td>\n",
       "      <td>38</td>\n",
       "      <td>242401</td>\n",
       "      <td>1338</td>\n",
       "    </tr>\n",
       "    <tr>\n",
       "      <th>3</th>\n",
       "      <td>2019-08-02</td>\n",
       "      <td>B</td>\n",
       "      <td>45</td>\n",
       "      <td>43</td>\n",
       "      <td>266748</td>\n",
       "      <td>1294</td>\n",
       "    </tr>\n",
       "    <tr>\n",
       "      <th>4</th>\n",
       "      <td>2019-08-03</td>\n",
       "      <td>A</td>\n",
       "      <td>68</td>\n",
       "      <td>62</td>\n",
       "      <td>354874</td>\n",
       "      <td>1845</td>\n",
       "    </tr>\n",
       "  </tbody>\n",
       "</table>\n",
       "</div>"
      ],
      "text/plain": [
       "        date group  orders  buyers  revenue  visitors\n",
       "0 2019-08-01     A      24      20   148579       719\n",
       "1 2019-08-01     B      21      20   101217       713\n",
       "2 2019-08-02     A      44      38   242401      1338\n",
       "3 2019-08-02     B      45      43   266748      1294\n",
       "4 2019-08-03     A      68      62   354874      1845"
      ]
     },
     "execution_count": 43,
     "metadata": {},
     "output_type": "execute_result"
    }
   ],
   "source": [
    "# объединяем кумулятивные данные в одной таблице и присваиваем ее столбцам понятные названия\n",
    "cumulativeData = ordersAggregated.merge(visitorsAggregated, left_on=['date', 'group'], right_on=['date', 'group'])\n",
    "cumulativeData.columns = ['date', 'group', 'orders', 'buyers', 'revenue', 'visitors']\n",
    "cumulativeData.head()\n"
   ]
  },
  {
   "cell_type": "markdown",
   "metadata": {},
   "source": [
    "#### Графики"
   ]
  },
  {
   "cell_type": "code",
   "execution_count": 44,
   "metadata": {},
   "outputs": [
    {
     "data": {
      "text/html": [
       "<div>\n",
       "<style scoped>\n",
       "    .dataframe tbody tr th:only-of-type {\n",
       "        vertical-align: middle;\n",
       "    }\n",
       "\n",
       "    .dataframe tbody tr th {\n",
       "        vertical-align: top;\n",
       "    }\n",
       "\n",
       "    .dataframe thead th {\n",
       "        text-align: right;\n",
       "    }\n",
       "</style>\n",
       "<table border=\"1\" class=\"dataframe\">\n",
       "  <thead>\n",
       "    <tr style=\"text-align: right;\">\n",
       "      <th></th>\n",
       "      <th>date</th>\n",
       "      <th>revenue</th>\n",
       "      <th>orders</th>\n",
       "    </tr>\n",
       "  </thead>\n",
       "  <tbody>\n",
       "    <tr>\n",
       "      <th>0</th>\n",
       "      <td>2019-08-01</td>\n",
       "      <td>148579</td>\n",
       "      <td>24</td>\n",
       "    </tr>\n",
       "    <tr>\n",
       "      <th>2</th>\n",
       "      <td>2019-08-02</td>\n",
       "      <td>242401</td>\n",
       "      <td>44</td>\n",
       "    </tr>\n",
       "    <tr>\n",
       "      <th>4</th>\n",
       "      <td>2019-08-03</td>\n",
       "      <td>354874</td>\n",
       "      <td>68</td>\n",
       "    </tr>\n",
       "    <tr>\n",
       "      <th>6</th>\n",
       "      <td>2019-08-04</td>\n",
       "      <td>425699</td>\n",
       "      <td>84</td>\n",
       "    </tr>\n",
       "    <tr>\n",
       "      <th>8</th>\n",
       "      <td>2019-08-05</td>\n",
       "      <td>549917</td>\n",
       "      <td>109</td>\n",
       "    </tr>\n",
       "  </tbody>\n",
       "</table>\n",
       "</div>"
      ],
      "text/plain": [
       "        date  revenue  orders\n",
       "0 2019-08-01   148579      24\n",
       "2 2019-08-02   242401      44\n",
       "4 2019-08-03   354874      68\n",
       "6 2019-08-04   425699      84\n",
       "8 2019-08-05   549917     109"
      ]
     },
     "execution_count": 44,
     "metadata": {},
     "output_type": "execute_result"
    }
   ],
   "source": [
    "# создаем датафрейм с кумулятивным количеством заказов и кумулятивной выручкой по дням в группе А\n",
    "cumulativeRevenueA = cumulativeData[cumulativeData['group']=='A'][['date','revenue', 'orders']]\n",
    "cumulativeRevenueA.head()"
   ]
  },
  {
   "cell_type": "code",
   "execution_count": 45,
   "metadata": {},
   "outputs": [
    {
     "data": {
      "text/html": [
       "<div>\n",
       "<style scoped>\n",
       "    .dataframe tbody tr th:only-of-type {\n",
       "        vertical-align: middle;\n",
       "    }\n",
       "\n",
       "    .dataframe tbody tr th {\n",
       "        vertical-align: top;\n",
       "    }\n",
       "\n",
       "    .dataframe thead th {\n",
       "        text-align: right;\n",
       "    }\n",
       "</style>\n",
       "<table border=\"1\" class=\"dataframe\">\n",
       "  <thead>\n",
       "    <tr style=\"text-align: right;\">\n",
       "      <th></th>\n",
       "      <th>date</th>\n",
       "      <th>revenue</th>\n",
       "      <th>orders</th>\n",
       "    </tr>\n",
       "  </thead>\n",
       "  <tbody>\n",
       "    <tr>\n",
       "      <th>1</th>\n",
       "      <td>2019-08-01</td>\n",
       "      <td>101217</td>\n",
       "      <td>21</td>\n",
       "    </tr>\n",
       "    <tr>\n",
       "      <th>3</th>\n",
       "      <td>2019-08-02</td>\n",
       "      <td>266748</td>\n",
       "      <td>45</td>\n",
       "    </tr>\n",
       "    <tr>\n",
       "      <th>5</th>\n",
       "      <td>2019-08-03</td>\n",
       "      <td>380996</td>\n",
       "      <td>61</td>\n",
       "    </tr>\n",
       "    <tr>\n",
       "      <th>7</th>\n",
       "      <td>2019-08-04</td>\n",
       "      <td>489567</td>\n",
       "      <td>78</td>\n",
       "    </tr>\n",
       "    <tr>\n",
       "      <th>9</th>\n",
       "      <td>2019-08-05</td>\n",
       "      <td>581995</td>\n",
       "      <td>101</td>\n",
       "    </tr>\n",
       "  </tbody>\n",
       "</table>\n",
       "</div>"
      ],
      "text/plain": [
       "        date  revenue  orders\n",
       "1 2019-08-01   101217      21\n",
       "3 2019-08-02   266748      45\n",
       "5 2019-08-03   380996      61\n",
       "7 2019-08-04   489567      78\n",
       "9 2019-08-05   581995     101"
      ]
     },
     "execution_count": 45,
     "metadata": {},
     "output_type": "execute_result"
    }
   ],
   "source": [
    "# создаем датафрейм с кумулятивным количеством заказов и кумулятивной выручкой по дням в группе B\n",
    "cumulativeRevenueB = cumulativeData[cumulativeData['group']=='B'][['date','revenue', 'orders']]\n",
    "cumulativeRevenueB.head()"
   ]
  },
  {
   "cell_type": "markdown",
   "metadata": {},
   "source": [
    "##### График кумулятивной выручки по группам. Выводы и предположения"
   ]
  },
  {
   "cell_type": "code",
   "execution_count": 46,
   "metadata": {},
   "outputs": [
    {
     "data": {
      "text/plain": [
       "(array([18109., 18113., 18117., 18121., 18125., 18129., 18133., 18137.,\n",
       "        18140.]),\n",
       " [Text(0, 0, ''),\n",
       "  Text(0, 0, ''),\n",
       "  Text(0, 0, ''),\n",
       "  Text(0, 0, ''),\n",
       "  Text(0, 0, ''),\n",
       "  Text(0, 0, ''),\n",
       "  Text(0, 0, ''),\n",
       "  Text(0, 0, ''),\n",
       "  Text(0, 0, '')])"
      ]
     },
     "execution_count": 46,
     "metadata": {},
     "output_type": "execute_result"
    },
    {
     "data": {
      "image/png": "[encoded data removed]",
      "text/plain": [
       "<Figure size 432x288 with 1 Axes>"
      ]
     },
     "metadata": {
      "needs_background": "light"
     },
     "output_type": "display_data"
    }
   ],
   "source": [
    "# Строим график кумулятивной выручки по группам\n",
    "plt.plot(cumulativeRevenueA['date'], cumulativeRevenueA['revenue'], label='A') #график кумулятивной выручки группы А\n",
    "plt.plot(cumulativeRevenueB['date'], cumulativeRevenueB['revenue'], label='B') #график кумулятивной выручки группы B\n",
    "plt.legend()\n",
    "plt.title('Кумулятивная выручка по группам')\n",
    "plt.xlabel('дата')\n",
    "plt.ylabel('выручка')\n",
    "plt.xticks(rotation=90)"
   ]
  },
  {
   "cell_type": "markdown",
   "metadata": {},
   "source": [
    ">Выручка в обеих группах теста довольно равномерно увеличивается на протяжении всего периода теста. Оба графика имеют точки резкого роста выручки. В группе А можно выделить 3 таких точки, а в группе В одну. В групе А увеличения не сильно значительны, а вот в группе B рост огромен. С 250 тысяч рост был до 400 тысяч буквально за день и, кстати, потом, график все еще растет до самого завершения теста.  \n",
    "В групее В выручка явно лучше"
   ]
  },
  {
   "cell_type": "markdown",
   "metadata": {},
   "source": [
    "##### График кумулятивнго среднего чека по группам. Выводы и предположения"
   ]
  },
  {
   "cell_type": "code",
   "execution_count": 47,
   "metadata": {},
   "outputs": [
    {
     "data": {
      "text/plain": [
       "(array([18109., 18113., 18117., 18121., 18125., 18129., 18133., 18137.,\n",
       "        18140.]),\n",
       " [Text(0, 0, ''),\n",
       "  Text(0, 0, ''),\n",
       "  Text(0, 0, ''),\n",
       "  Text(0, 0, ''),\n",
       "  Text(0, 0, ''),\n",
       "  Text(0, 0, ''),\n",
       "  Text(0, 0, ''),\n",
       "  Text(0, 0, ''),\n",
       "  Text(0, 0, '')])"
      ]
     },
     "execution_count": 47,
     "metadata": {},
     "output_type": "execute_result"
    },
    {
     "data": {
      "image/png": "[encoded data removed]",
      "text/plain": [
       "<Figure size 432x288 with 1 Axes>"
      ]
     },
     "metadata": {
      "needs_background": "light"
     },
     "output_type": "display_data"
    }
   ],
   "source": [
    "# Строим график кумулятивного среднего чека по группам\n",
    "plt.plot(cumulativeRevenueA['date'], cumulativeRevenueA['revenue']/cumulativeRevenueA['orders'], label='A') #график кумулятивного среднего чека группы А\n",
    "plt.plot(cumulativeRevenueB['date'], cumulativeRevenueB['revenue']/cumulativeRevenueB['orders'], label='B') #график кумулятивного среднего чека группы B\n",
    "plt.legend()\n",
    "plt.title('Кумулятивный средний чек по группам')\n",
    "plt.xlabel('дата')\n",
    "plt.ylabel('средний чек')\n",
    "plt.xticks(rotation=90)"
   ]
  },
  {
   "cell_type": "markdown",
   "metadata": {},
   "source": [
    ">В группе А средний чек в начале теста с 6 тысяч упал примерно до 4,5, за 8 дней показывал стабильный рост и увеличился до 7,5 тысяч, упал до 6,8 и до самого конца теста показывал довольно стабильный результат, в какие-то дни увеличиваясь, в какие-то дни уменьшаясь. Стабильность началась примерно через 2 недели (половина от всего времени проведения теста)  \n",
    ">\n",
    ">В группе B твориться хаос. В начале теста эта группа наоборот, показаывала, не очень хороший средний чек, потом резко возросла, упала и через неделю поднялась до первого пика в 7 тысяч (рост с 4х), плавно упав к середине теста, пошла вверх и примерно через 4 дня резко подскочила с 7 до 10.5 тысяч, до самого конца теста наблюдается плавный спад. Хотелось бы разобраться еще сильнее с этой группой. Во-первых, средний чек продолжает падать к концу теста и мы не знаем на какой отметке он выровняется. Во-вторых кажется, что кто-то прикупил дорогих товаров, новинок, запасся \"впрок\". Так или иначе группа B не очень стабильна.  \n",
    ">\n",
    ">Однако средний чек в группе B все же держится выше, чем в группе А. "
   ]
  },
  {
   "cell_type": "markdown",
   "metadata": {},
   "source": [
    "##### График относительного изменения кумулятивного среднего чека группы B к группе А. Выводы и предположения"
   ]
  },
  {
   "cell_type": "code",
   "execution_count": 48,
   "metadata": {},
   "outputs": [
    {
     "data": {
      "text/plain": [
       "(array([18109., 18113., 18117., 18121., 18125., 18129., 18133., 18137.,\n",
       "        18140.]),\n",
       " [Text(0, 0, ''),\n",
       "  Text(0, 0, ''),\n",
       "  Text(0, 0, ''),\n",
       "  Text(0, 0, ''),\n",
       "  Text(0, 0, ''),\n",
       "  Text(0, 0, ''),\n",
       "  Text(0, 0, ''),\n",
       "  Text(0, 0, ''),\n",
       "  Text(0, 0, '')])"
      ]
     },
     "execution_count": 48,
     "metadata": {},
     "output_type": "execute_result"
    },
    {
     "data": {
      "image/png": "[encoded data removed]",
      "text/plain": [
       "<Figure size 432x288 with 1 Axes>"
      ]
     },
     "metadata": {
      "needs_background": "light"
     },
     "output_type": "display_data"
    }
   ],
   "source": [
    "# Строим график относительного изменения кумулятивного среднего чека группы B к группе A\n",
    "mergedCumulativeRevenue = cumulativeRevenueA.merge(cumulativeRevenueB, left_on='date', right_on='date', how='left', suffixes=['A', 'B']) #соберем данные в одном датафрейме\n",
    "#mergedCumulativeRevenue.head()\n",
    "plt.plot(mergedCumulativeRevenue['date'], (mergedCumulativeRevenue['revenueB']/mergedCumulativeRevenue['ordersB'])/(mergedCumulativeRevenue['revenueA']/mergedCumulativeRevenue['ordersA'])-1) # cтроим отношение средних чеков\n",
    "plt.axhline(y=0, color='black', linestyle='--')\n",
    "plt.title('Относительное изменение кумулятивного среднего чека группы B к группе A')\n",
    "plt.xlabel('дата')\n",
    "plt.ylabel('коэффициент относительного изменения')\n",
    "plt.xticks(rotation=90)\n"
   ]
  },
  {
   "cell_type": "markdown",
   "metadata": {},
   "source": [
    "Довольно много точек различия между средними чеками групп. Точно стоит поискать дорогие заказы и выбросы"
   ]
  },
  {
   "cell_type": "markdown",
   "metadata": {},
   "source": [
    "##### График кумулятивной конверсии по группам. Выводы и предположения"
   ]
  },
  {
   "cell_type": "code",
   "execution_count": 49,
   "metadata": {},
   "outputs": [
    {
     "data": {
      "text/html": [
       "<div>\n",
       "<style scoped>\n",
       "    .dataframe tbody tr th:only-of-type {\n",
       "        vertical-align: middle;\n",
       "    }\n",
       "\n",
       "    .dataframe tbody tr th {\n",
       "        vertical-align: top;\n",
       "    }\n",
       "\n",
       "    .dataframe thead th {\n",
       "        text-align: right;\n",
       "    }\n",
       "</style>\n",
       "<table border=\"1\" class=\"dataframe\">\n",
       "  <thead>\n",
       "    <tr style=\"text-align: right;\">\n",
       "      <th></th>\n",
       "      <th>date</th>\n",
       "      <th>group</th>\n",
       "      <th>orders</th>\n",
       "      <th>buyers</th>\n",
       "      <th>revenue</th>\n",
       "      <th>visitors</th>\n",
       "      <th>conversion</th>\n",
       "    </tr>\n",
       "  </thead>\n",
       "  <tbody>\n",
       "    <tr>\n",
       "      <th>0</th>\n",
       "      <td>2019-08-01</td>\n",
       "      <td>A</td>\n",
       "      <td>24</td>\n",
       "      <td>20</td>\n",
       "      <td>148579</td>\n",
       "      <td>719</td>\n",
       "      <td>0.033380</td>\n",
       "    </tr>\n",
       "    <tr>\n",
       "      <th>1</th>\n",
       "      <td>2019-08-01</td>\n",
       "      <td>B</td>\n",
       "      <td>21</td>\n",
       "      <td>20</td>\n",
       "      <td>101217</td>\n",
       "      <td>713</td>\n",
       "      <td>0.029453</td>\n",
       "    </tr>\n",
       "    <tr>\n",
       "      <th>2</th>\n",
       "      <td>2019-08-02</td>\n",
       "      <td>A</td>\n",
       "      <td>44</td>\n",
       "      <td>38</td>\n",
       "      <td>242401</td>\n",
       "      <td>1338</td>\n",
       "      <td>0.032885</td>\n",
       "    </tr>\n",
       "    <tr>\n",
       "      <th>3</th>\n",
       "      <td>2019-08-02</td>\n",
       "      <td>B</td>\n",
       "      <td>45</td>\n",
       "      <td>43</td>\n",
       "      <td>266748</td>\n",
       "      <td>1294</td>\n",
       "      <td>0.034776</td>\n",
       "    </tr>\n",
       "    <tr>\n",
       "      <th>4</th>\n",
       "      <td>2019-08-03</td>\n",
       "      <td>A</td>\n",
       "      <td>68</td>\n",
       "      <td>62</td>\n",
       "      <td>354874</td>\n",
       "      <td>1845</td>\n",
       "      <td>0.036856</td>\n",
       "    </tr>\n",
       "  </tbody>\n",
       "</table>\n",
       "</div>"
      ],
      "text/plain": [
       "        date group  orders  buyers  revenue  visitors  conversion\n",
       "0 2019-08-01     A      24      20   148579       719    0.033380\n",
       "1 2019-08-01     B      21      20   101217       713    0.029453\n",
       "2 2019-08-02     A      44      38   242401      1338    0.032885\n",
       "3 2019-08-02     B      45      43   266748      1294    0.034776\n",
       "4 2019-08-03     A      68      62   354874      1845    0.036856"
      ]
     },
     "execution_count": 49,
     "metadata": {},
     "output_type": "execute_result"
    }
   ],
   "source": [
    "# считаем кумулятивную конверсию\n",
    "cumulativeData['conversion'] = cumulativeData['orders']/cumulativeData['visitors']\n",
    "cumulativeData.head()\n",
    "\n"
   ]
  },
  {
   "cell_type": "code",
   "execution_count": 50,
   "metadata": {},
   "outputs": [
    {
     "data": {
      "text/html": [
       "<div>\n",
       "<style scoped>\n",
       "    .dataframe tbody tr th:only-of-type {\n",
       "        vertical-align: middle;\n",
       "    }\n",
       "\n",
       "    .dataframe tbody tr th {\n",
       "        vertical-align: top;\n",
       "    }\n",
       "\n",
       "    .dataframe thead th {\n",
       "        text-align: right;\n",
       "    }\n",
       "</style>\n",
       "<table border=\"1\" class=\"dataframe\">\n",
       "  <thead>\n",
       "    <tr style=\"text-align: right;\">\n",
       "      <th></th>\n",
       "      <th>date</th>\n",
       "      <th>group</th>\n",
       "      <th>orders</th>\n",
       "      <th>buyers</th>\n",
       "      <th>revenue</th>\n",
       "      <th>visitors</th>\n",
       "      <th>conversion</th>\n",
       "    </tr>\n",
       "  </thead>\n",
       "  <tbody>\n",
       "    <tr>\n",
       "      <th>0</th>\n",
       "      <td>2019-08-01</td>\n",
       "      <td>A</td>\n",
       "      <td>24</td>\n",
       "      <td>20</td>\n",
       "      <td>148579</td>\n",
       "      <td>719</td>\n",
       "      <td>0.033380</td>\n",
       "    </tr>\n",
       "    <tr>\n",
       "      <th>2</th>\n",
       "      <td>2019-08-02</td>\n",
       "      <td>A</td>\n",
       "      <td>44</td>\n",
       "      <td>38</td>\n",
       "      <td>242401</td>\n",
       "      <td>1338</td>\n",
       "      <td>0.032885</td>\n",
       "    </tr>\n",
       "    <tr>\n",
       "      <th>4</th>\n",
       "      <td>2019-08-03</td>\n",
       "      <td>A</td>\n",
       "      <td>68</td>\n",
       "      <td>62</td>\n",
       "      <td>354874</td>\n",
       "      <td>1845</td>\n",
       "      <td>0.036856</td>\n",
       "    </tr>\n",
       "    <tr>\n",
       "      <th>6</th>\n",
       "      <td>2019-08-04</td>\n",
       "      <td>A</td>\n",
       "      <td>84</td>\n",
       "      <td>77</td>\n",
       "      <td>425699</td>\n",
       "      <td>2562</td>\n",
       "      <td>0.032787</td>\n",
       "    </tr>\n",
       "    <tr>\n",
       "      <th>8</th>\n",
       "      <td>2019-08-05</td>\n",
       "      <td>A</td>\n",
       "      <td>109</td>\n",
       "      <td>100</td>\n",
       "      <td>549917</td>\n",
       "      <td>3318</td>\n",
       "      <td>0.032851</td>\n",
       "    </tr>\n",
       "  </tbody>\n",
       "</table>\n",
       "</div>"
      ],
      "text/plain": [
       "        date group  orders  buyers  revenue  visitors  conversion\n",
       "0 2019-08-01     A      24      20   148579       719    0.033380\n",
       "2 2019-08-02     A      44      38   242401      1338    0.032885\n",
       "4 2019-08-03     A      68      62   354874      1845    0.036856\n",
       "6 2019-08-04     A      84      77   425699      2562    0.032787\n",
       "8 2019-08-05     A     109     100   549917      3318    0.032851"
      ]
     },
     "execution_count": 50,
     "metadata": {},
     "output_type": "execute_result"
    }
   ],
   "source": [
    "# отделяем данные по группе A\n",
    "cumulativeDataA = cumulativeData[cumulativeData['group']=='A']\n",
    "cumulativeDataA.head()\n"
   ]
  },
  {
   "cell_type": "code",
   "execution_count": 51,
   "metadata": {},
   "outputs": [
    {
     "data": {
      "text/html": [
       "<div>\n",
       "<style scoped>\n",
       "    .dataframe tbody tr th:only-of-type {\n",
       "        vertical-align: middle;\n",
       "    }\n",
       "\n",
       "    .dataframe tbody tr th {\n",
       "        vertical-align: top;\n",
       "    }\n",
       "\n",
       "    .dataframe thead th {\n",
       "        text-align: right;\n",
       "    }\n",
       "</style>\n",
       "<table border=\"1\" class=\"dataframe\">\n",
       "  <thead>\n",
       "    <tr style=\"text-align: right;\">\n",
       "      <th></th>\n",
       "      <th>date</th>\n",
       "      <th>group</th>\n",
       "      <th>orders</th>\n",
       "      <th>buyers</th>\n",
       "      <th>revenue</th>\n",
       "      <th>visitors</th>\n",
       "      <th>conversion</th>\n",
       "    </tr>\n",
       "  </thead>\n",
       "  <tbody>\n",
       "    <tr>\n",
       "      <th>1</th>\n",
       "      <td>2019-08-01</td>\n",
       "      <td>B</td>\n",
       "      <td>21</td>\n",
       "      <td>20</td>\n",
       "      <td>101217</td>\n",
       "      <td>713</td>\n",
       "      <td>0.029453</td>\n",
       "    </tr>\n",
       "    <tr>\n",
       "      <th>3</th>\n",
       "      <td>2019-08-02</td>\n",
       "      <td>B</td>\n",
       "      <td>45</td>\n",
       "      <td>43</td>\n",
       "      <td>266748</td>\n",
       "      <td>1294</td>\n",
       "      <td>0.034776</td>\n",
       "    </tr>\n",
       "    <tr>\n",
       "      <th>5</th>\n",
       "      <td>2019-08-03</td>\n",
       "      <td>B</td>\n",
       "      <td>61</td>\n",
       "      <td>59</td>\n",
       "      <td>380996</td>\n",
       "      <td>1803</td>\n",
       "      <td>0.033833</td>\n",
       "    </tr>\n",
       "    <tr>\n",
       "      <th>7</th>\n",
       "      <td>2019-08-04</td>\n",
       "      <td>B</td>\n",
       "      <td>78</td>\n",
       "      <td>75</td>\n",
       "      <td>489567</td>\n",
       "      <td>2573</td>\n",
       "      <td>0.030315</td>\n",
       "    </tr>\n",
       "    <tr>\n",
       "      <th>9</th>\n",
       "      <td>2019-08-05</td>\n",
       "      <td>B</td>\n",
       "      <td>101</td>\n",
       "      <td>98</td>\n",
       "      <td>581995</td>\n",
       "      <td>3280</td>\n",
       "      <td>0.030793</td>\n",
       "    </tr>\n",
       "  </tbody>\n",
       "</table>\n",
       "</div>"
      ],
      "text/plain": [
       "        date group  orders  buyers  revenue  visitors  conversion\n",
       "1 2019-08-01     B      21      20   101217       713    0.029453\n",
       "3 2019-08-02     B      45      43   266748      1294    0.034776\n",
       "5 2019-08-03     B      61      59   380996      1803    0.033833\n",
       "7 2019-08-04     B      78      75   489567      2573    0.030315\n",
       "9 2019-08-05     B     101      98   581995      3280    0.030793"
      ]
     },
     "execution_count": 51,
     "metadata": {},
     "output_type": "execute_result"
    }
   ],
   "source": [
    "# отделяем данные по группе B\n",
    "cumulativeDataB = cumulativeData[cumulativeData['group']=='B']\n",
    "cumulativeDataB.head()"
   ]
  },
  {
   "cell_type": "code",
   "execution_count": 52,
   "metadata": {},
   "outputs": [
    {
     "data": {
      "text/plain": [
       "(array([18109., 18113., 18117., 18121., 18125., 18129., 18133., 18137.,\n",
       "        18140.]),\n",
       " [Text(0, 0, ''),\n",
       "  Text(0, 0, ''),\n",
       "  Text(0, 0, ''),\n",
       "  Text(0, 0, ''),\n",
       "  Text(0, 0, ''),\n",
       "  Text(0, 0, ''),\n",
       "  Text(0, 0, ''),\n",
       "  Text(0, 0, ''),\n",
       "  Text(0, 0, '')])"
      ]
     },
     "execution_count": 52,
     "metadata": {},
     "output_type": "execute_result"
    },
    {
     "data": {
      "image/png": "[encoded data removed]",
      "text/plain": [
       "<Figure size 432x288 with 1 Axes>"
      ]
     },
     "metadata": {
      "needs_background": "light"
     },
     "output_type": "display_data"
    }
   ],
   "source": [
    "# Строим график кумулятивной конверсии по группам\n",
    "plt.plot(cumulativeDataA['date'], cumulativeDataA['conversion'], label='A') #график кумулятивной конверсии в группе А\n",
    "plt.plot(cumulativeDataB['date'], cumulativeDataB['conversion'], label='B') #график кумулятивной конверсии в группе В\n",
    "plt.legend()\n",
    "plt.title('Кумулятивныя конверсия по группам')\n",
    "plt.xlabel('дата')\n",
    "plt.ylabel('конверсия')\n",
    "plt.xticks(rotation=90)"
   ]
  },
  {
   "cell_type": "markdown",
   "metadata": {},
   "source": [
    ">В самом начале в обеих группах были сильные перпады в конверсии, конверсия группы А в один день вырсола сильно вверх и на следюущий уже также стремительно упала и продолжила падать. На 9й день теста конверсия не то, чтобы стабилизировалась, но продолжила динамику примерно в одном диапазоне. Хотя постоянной ее назвать нельзя.  \n",
    ">\n",
    ">В группе В в начале теста мы также можем наблюдать такой же резкий скачок и падение. Однако, в отличии от группы А, конверсия в этой группе растет. Достигнув пика еще пару раз растет и падает и дальше продолжает вести себя перемнчиво, падая и возрастая. За пару дне до окончания теста конверсия вдруг опять поползла вверх, а в день окончания упала. Продолжит ли она падать не понятно, т.к. все же тест в жтой групе хочется продлить.  \n",
    ">\n",
    ">Зато понятно, что коверсия группы В выше конверсии группы А, а графики скачут, как будто бы каждый день ситуация на сайте меняется и магазин проводит какие-то акции, увеличивающие конверсию в покупателя"
   ]
  },
  {
   "cell_type": "markdown",
   "metadata": {},
   "source": [
    "##### График относительного изменения кумулятивной конверсии группы B к группе А. Выводы и предположения"
   ]
  },
  {
   "cell_type": "code",
   "execution_count": 54,
   "metadata": {},
   "outputs": [
    {
     "data": {
      "text/plain": [
       "(array([18109., 18113., 18117., 18121., 18125., 18129., 18133., 18137.,\n",
       "        18140.]),\n",
       " [Text(0, 0, ''),\n",
       "  Text(0, 0, ''),\n",
       "  Text(0, 0, ''),\n",
       "  Text(0, 0, ''),\n",
       "  Text(0, 0, ''),\n",
       "  Text(0, 0, ''),\n",
       "  Text(0, 0, ''),\n",
       "  Text(0, 0, ''),\n",
       "  Text(0, 0, '')])"
      ]
     },
     "execution_count": 54,
     "metadata": {},
     "output_type": "execute_result"
    },
    {
     "data": {
      "image/png": "[encoded data removed]",
      "text/plain": [
       "<Figure size 432x288 with 1 Axes>"
      ]
     },
     "metadata": {
      "needs_background": "light"
     },
     "output_type": "display_data"
    }
   ],
   "source": [
    "# Строим график \n",
    "mergedCumulativeConversion = cumulativeDataA[['date','conversion']].merge(cumulativeDataB[['date','conversion']], left_on='date', right_on='date', how='left', suffixes=['A', 'B']) #соберем данные в одном датафрейме\n",
    "#mergedCumulativeConversion.head()\n",
    "plt.plot(mergedCumulativeConversion['date'], mergedCumulativeConversion['conversionB']/mergedCumulativeConversion['conversionA']-1)\n",
    "plt.axhline(y=0, color='black', linestyle='--')\n",
    "plt.title('Относительное изменение кумулятивной конверсии группы B к группе A')\n",
    "plt.xlabel('дата')\n",
    "plt.ylabel('коэффициент относительного изменения')\n",
    "plt.xticks(rotation=90)\n"
   ]
  },
  {
   "cell_type": "markdown",
   "metadata": {},
   "source": [
    ">В начале теста группа B сильно проигрывала группе А, потом ее конверсия резко возросла и также резко упала за 2 дня. Далее стабильно росла и достигнув своего пика плавно пошла на спад, а сейчас опять растет"
   ]
  },
  {
   "cell_type": "markdown",
   "metadata": {},
   "source": [
    "##### Точечный график количества заказов по пользователям. Выводы и предположения"
   ]
  },
  {
   "cell_type": "code",
   "execution_count": 55,
   "metadata": {},
   "outputs": [],
   "source": [
    "#orders.head()"
   ]
  },
  {
   "cell_type": "code",
   "execution_count": 56,
   "metadata": {},
   "outputs": [
    {
     "data": {
      "text/html": [
       "<div>\n",
       "<style scoped>\n",
       "    .dataframe tbody tr th:only-of-type {\n",
       "        vertical-align: middle;\n",
       "    }\n",
       "\n",
       "    .dataframe tbody tr th {\n",
       "        vertical-align: top;\n",
       "    }\n",
       "\n",
       "    .dataframe thead th {\n",
       "        text-align: right;\n",
       "    }\n",
       "</style>\n",
       "<table border=\"1\" class=\"dataframe\">\n",
       "  <thead>\n",
       "    <tr style=\"text-align: right;\">\n",
       "      <th></th>\n",
       "      <th>visitor_id</th>\n",
       "      <th>orders</th>\n",
       "    </tr>\n",
       "  </thead>\n",
       "  <tbody>\n",
       "    <tr>\n",
       "      <th>1023</th>\n",
       "      <td>4256040402</td>\n",
       "      <td>11</td>\n",
       "    </tr>\n",
       "    <tr>\n",
       "      <th>591</th>\n",
       "      <td>2458001652</td>\n",
       "      <td>11</td>\n",
       "    </tr>\n",
       "    <tr>\n",
       "      <th>569</th>\n",
       "      <td>2378935119</td>\n",
       "      <td>9</td>\n",
       "    </tr>\n",
       "    <tr>\n",
       "      <th>487</th>\n",
       "      <td>2038680547</td>\n",
       "      <td>8</td>\n",
       "    </tr>\n",
       "    <tr>\n",
       "      <th>44</th>\n",
       "      <td>199603092</td>\n",
       "      <td>5</td>\n",
       "    </tr>\n",
       "    <tr>\n",
       "      <th>744</th>\n",
       "      <td>3062433592</td>\n",
       "      <td>5</td>\n",
       "    </tr>\n",
       "    <tr>\n",
       "      <th>55</th>\n",
       "      <td>237748145</td>\n",
       "      <td>5</td>\n",
       "    </tr>\n",
       "    <tr>\n",
       "      <th>917</th>\n",
       "      <td>3803269165</td>\n",
       "      <td>5</td>\n",
       "    </tr>\n",
       "    <tr>\n",
       "      <th>299</th>\n",
       "      <td>1230306981</td>\n",
       "      <td>5</td>\n",
       "    </tr>\n",
       "    <tr>\n",
       "      <th>897</th>\n",
       "      <td>3717692402</td>\n",
       "      <td>5</td>\n",
       "    </tr>\n",
       "  </tbody>\n",
       "</table>\n",
       "</div>"
      ],
      "text/plain": [
       "      visitor_id  orders\n",
       "1023  4256040402      11\n",
       "591   2458001652      11\n",
       "569   2378935119       9\n",
       "487   2038680547       8\n",
       "44     199603092       5\n",
       "744   3062433592       5\n",
       "55     237748145       5\n",
       "917   3803269165       5\n",
       "299   1230306981       5\n",
       "897   3717692402       5"
      ]
     },
     "execution_count": 56,
     "metadata": {},
     "output_type": "execute_result"
    }
   ],
   "source": [
    "# считаем количество заказов на пользователя\n",
    "ordersByUsers = (\n",
    "    orders.drop(['group', 'revenue', 'date'], axis=1)\n",
    "    .groupby('visitor_id', as_index=False)\n",
    "    .agg({'transaction_id': pd.Series.nunique})\n",
    ")\n",
    "\n",
    "ordersByUsers.columns = ['visitor_id', 'orders']\n",
    "\n",
    "ordersByUsers.sort_values(by='orders', ascending=False).head(10)"
   ]
  },
  {
   "cell_type": "code",
   "execution_count": 57,
   "metadata": {},
   "outputs": [
    {
     "data": {
      "text/plain": [
       "<matplotlib.collections.PathCollection at 0x7f4131ab5940>"
      ]
     },
     "execution_count": 57,
     "metadata": {},
     "output_type": "execute_result"
    },
    {
     "data": {
      "image/png": "[encoded data removed]",
      "text/plain": [
       "<Figure size 432x288 with 1 Axes>"
      ]
     },
     "metadata": {
      "needs_background": "light"
     },
     "output_type": "display_data"
    }
   ],
   "source": [
    "x_values = pd.Series(range(0,len(ordersByUsers)))\n",
    "\n",
    "plt.scatter(x_values, ordersByUsers['orders']) "
   ]
  },
  {
   "cell_type": "markdown",
   "metadata": {},
   "source": [
    ">Большинство пользователей совершали по 1 заказу, но также много пользователей, кто делал 2 и даже 3 заказа. Нужно понять сколько таких пользователей. Больше трех заказов делали редко, это точно аномальные заказы"
   ]
  },
  {
   "cell_type": "markdown",
   "metadata": {},
   "source": [
    "##### Перцентили количества заказов на пользователя"
   ]
  },
  {
   "cell_type": "code",
   "execution_count": 33,
   "metadata": {},
   "outputs": [
    {
     "name": "stdout",
     "output_type": "stream",
     "text": [
      "[2. 4.]\n"
     ]
    }
   ],
   "source": [
    "print(np.percentile(ordersByUsers['orders'], [95, 99]))"
   ]
  },
  {
   "cell_type": "markdown",
   "metadata": {},
   "source": [
    ">Не более 5% пользователей заказывали в нашем магазине более 2х раз, и всего 1% сделал более 4х заказов. Думаю, стоит установить границу в 2 заказа и остеять аномальных пользователей по ней. "
   ]
  },
  {
   "cell_type": "markdown",
   "metadata": {},
   "source": [
    "##### Точечный график стоимостей заказов. Выводы и предположения"
   ]
  },
  {
   "cell_type": "code",
   "execution_count": 58,
   "metadata": {},
   "outputs": [
    {
     "data": {
      "text/plain": [
       "<matplotlib.collections.PathCollection at 0x7f4131a15bb0>"
      ]
     },
     "execution_count": 58,
     "metadata": {},
     "output_type": "execute_result"
    },
    {
     "data": {
      "image/png": "[encoded data removed]",
      "text/plain": [
       "<Figure size 432x288 with 1 Axes>"
      ]
     },
     "metadata": {
      "needs_background": "light"
     },
     "output_type": "display_data"
    }
   ],
   "source": [
    "x_values = pd.Series(range(0,len(orders['revenue'])))\n",
    "plt.scatter(x_values, orders['revenue'])"
   ]
  },
  {
   "cell_type": "markdown",
   "metadata": {},
   "source": [
    "Кажется, что аномальных заказов у нас совсем немного. "
   ]
  },
  {
   "cell_type": "markdown",
   "metadata": {},
   "source": [
    "##### Перцентили стоимостей заказов"
   ]
  },
  {
   "cell_type": "code",
   "execution_count": 59,
   "metadata": {},
   "outputs": [
    {
     "name": "stdout",
     "output_type": "stream",
     "text": [
      "[28000.  58233.2]\n"
     ]
    }
   ],
   "source": [
    "print(np.percentile(orders['revenue'], [95, 99]))"
   ]
  },
  {
   "cell_type": "markdown",
   "metadata": {},
   "source": [
    ">Не более 5% пользователей совершали заказы стоимостью более 28000 рублей, и всего 1 % покупал товары более 58233 тысячи рублей. Планка в этом случае устанавливается в 28 000. "
   ]
  },
  {
   "cell_type": "markdown",
   "metadata": {},
   "source": [
    "#### Cтатистическая значимость"
   ]
  },
  {
   "cell_type": "markdown",
   "metadata": {},
   "source": [
    "##### Расчет статистической значимости различий в конверсии между группами по «сырым» данным. Выводы и предположения"
   ]
  },
  {
   "cell_type": "code",
   "execution_count": 60,
   "metadata": {},
   "outputs": [],
   "source": [
    "# Создадим переменные ordersByUsersA и ordersByUsersB со столбцами ['userId', 'orders']. В них для пользователей, которые заказывали хотя бы 1 раз, укажем число совершённых заказов\n",
    "\n",
    "ordersByUsersA = (\n",
    "    orders[orders['group'] == 'A']\n",
    "    .groupby('visitor_id', as_index=False)\n",
    "    .agg({'transaction_id': pd.Series.nunique})\n",
    ")\n",
    "ordersByUsersA.columns = ['visitor_id', 'orders']\n",
    "#ordersByUsersA.head()\n",
    "\n",
    "ordersByUsersB = (\n",
    "    orders[orders['group'] == 'B']\n",
    "    .groupby('visitor_id', as_index=False)\n",
    "    .agg({'transaction_id': pd.Series.nunique})\n",
    ")\n",
    "ordersByUsersB.columns = ['visitor_id', 'orders']\n",
    "#ordersByUsersB.head()\n"
   ]
  },
  {
   "cell_type": "code",
   "execution_count": 61,
   "metadata": {},
   "outputs": [],
   "source": [
    "# Создадим переменные с количеством пользователей каждой группы на каждую дату\n",
    "\n",
    "visitorsADaily = visitors[visitors['group'] == 'A'][['date', 'visitors']]\n",
    "visitorsADaily.columns = ['date', 'visitorsPerDateA']\n",
    "#visitorsADaily.head()\n",
    "visitorsBDaily = visitors[visitors['group'] == 'B'][['date', 'visitors']]\n",
    "visitorsBDaily.columns = ['date', 'visitorsPerDateB']\n",
    "#visitorsBDaily.head()"
   ]
  },
  {
   "cell_type": "code",
   "execution_count": 62,
   "metadata": {},
   "outputs": [],
   "source": [
    "#Объявим переменные sampleA и sampleB, в которых пользователям из разных групп будет соответствовать количество заказов\n",
    "\n",
    "sampleA = pd.concat(\n",
    "    [\n",
    "        ordersByUsersA['orders'],\n",
    "        pd.Series(\n",
    "            0,\n",
    "            index=np.arange(\n",
    "                visitorsADaily['visitorsPerDateA'].sum() - len(ordersByUsersA['orders'])\n",
    "            ),\n",
    "            name='orders',\n",
    "        ),\n",
    "    ],\n",
    "    axis=0,\n",
    ")\n",
    "#sampleA.head()\n",
    "\n",
    "sampleB = pd.concat(\n",
    "    [\n",
    "        ordersByUsersB['orders'],\n",
    "        pd.Series(\n",
    "            0,\n",
    "            index=np.arange(\n",
    "                visitorsBDaily['visitorsPerDateB'].sum() - len(ordersByUsersB['orders'])\n",
    "            ),\n",
    "            name='orders',\n",
    "        ),\n",
    "    ],\n",
    "    axis=0,\n",
    ")\n",
    "\n",
    "#sampleB.head()"
   ]
  },
  {
   "cell_type": "code",
   "execution_count": 39,
   "metadata": {},
   "outputs": [
    {
     "name": "stdout",
     "output_type": "stream",
     "text": [
      "0.017\n"
     ]
    }
   ],
   "source": [
    "#Применяем критерий Манна-Уитни\n",
    "print(\"{0:.3f}\".format(stats.mannwhitneyu(sampleA, sampleB, alternative = 'two-sided')[1])) #p-value"
   ]
  },
  {
   "cell_type": "markdown",
   "metadata": {},
   "source": [
    ">Статистистически значимые раздличия между группами есть"
   ]
  },
  {
   "cell_type": "code",
   "execution_count": 63,
   "metadata": {},
   "outputs": [
    {
     "name": "stdout",
     "output_type": "stream",
     "text": [
      "0.138\n"
     ]
    }
   ],
   "source": [
    "print(\"{0:.3f}\".format(sampleB.mean() / sampleA.mean() - 1))"
   ]
  },
  {
   "cell_type": "markdown",
   "metadata": {},
   "source": [
    ">Группа B выигрывает по конверсии с группой А почти на 14%"
   ]
  },
  {
   "cell_type": "markdown",
   "metadata": {},
   "source": [
    "##### Расчет статистической значимости различий в среднем чеке заказа между группами по «сырым» данным. Выводы и предположения"
   ]
  },
  {
   "cell_type": "code",
   "execution_count": 64,
   "metadata": {},
   "outputs": [
    {
     "name": "stdout",
     "output_type": "stream",
     "text": [
      "0.729\n",
      "0.259\n"
     ]
    }
   ],
   "source": [
    "print('{0:.3f}'.format(stats.mannwhitneyu(orders[orders['group']=='A']['revenue'], orders[orders['group']=='B']['revenue'])[1]))\n",
    "print('{0:.3f}'.format(orders[orders['group']=='B']['revenue'].mean()/orders[orders['group']=='A']['revenue'].mean()-1))"
   ]
  },
  {
   "cell_type": "markdown",
   "metadata": {},
   "source": [
    "> Cтатистических различий в среднем чеке по двум группам нет. Хотя средний чек группы B больще среднео чека группы А почти на 26%"
   ]
  },
  {
   "cell_type": "markdown",
   "metadata": {},
   "source": [
    "##### Расчет статистической значимости различий в конверсии между группами по «очищенным» данным. Выводы и предположения"
   ]
  },
  {
   "cell_type": "code",
   "execution_count": 65,
   "metadata": {},
   "outputs": [
    {
     "data": {
      "text/plain": [
       "227    2038680547\n",
       "278    2458001652\n",
       "499    4256040402\n",
       "326    2378935119\n",
       "340    2458001652\n",
       "Name: visitor_id, dtype: int64"
      ]
     },
     "execution_count": 65,
     "metadata": {},
     "output_type": "execute_result"
    }
   ],
   "source": [
    "#собираем пользователей с большим количеством заказов\n",
    "usersWithManyOrders = pd.concat(\n",
    "    [\n",
    "        ordersByUsersA[ordersByUsersA['orders'] > 4]['visitor_id'],\n",
    "        ordersByUsersB[ordersByUsersB['orders'] > 4]['visitor_id'],\n",
    "    ],\n",
    "    axis=0,\n",
    ")\n",
    "\n",
    "usersWithManyOrders.head()"
   ]
  },
  {
   "cell_type": "code",
   "execution_count": 66,
   "metadata": {},
   "outputs": [
    {
     "data": {
      "text/plain": [
       "34     834683205\n",
       "60    4256040402\n",
       "73    2947100995\n",
       "77     787824685\n",
       "78    3288820196\n",
       "Name: visitor_id, dtype: int64"
      ]
     },
     "execution_count": 66,
     "metadata": {},
     "output_type": "execute_result"
    }
   ],
   "source": [
    "#собираем пользователей со слишком дорогими заказами\n",
    "usersWithExpensiveOrders = orders[orders['revenue'] > 20000]['visitor_id']\n",
    "usersWithExpensiveOrders.head()"
   ]
  },
  {
   "cell_type": "code",
   "execution_count": 67,
   "metadata": {},
   "outputs": [
    {
     "name": "stdout",
     "output_type": "stream",
     "text": [
      "568     113298937\n",
      "1099    148427295\n",
      "461     154576532\n",
      "928     204675465\n",
      "684     358944393\n",
      "Name: visitor_id, dtype: int64\n",
      "(86,)\n"
     ]
    }
   ],
   "source": [
    "#объединяем пользователей\n",
    "abnormalUsers = (\n",
    "    pd.concat([usersWithManyOrders, usersWithExpensiveOrders], axis=0)\n",
    "    .drop_duplicates()\n",
    "    .sort_values()\n",
    ")\n",
    "print(abnormalUsers.head(5))\n",
    "print(abnormalUsers.shape)"
   ]
  },
  {
   "cell_type": "markdown",
   "metadata": {},
   "source": [
    "Всего 86 аномальных пользователей"
   ]
  },
  {
   "cell_type": "code",
   "execution_count": 68,
   "metadata": {},
   "outputs": [],
   "source": [
    "#Объявим переменные sampleAFiltred и sampleBFiltred\n",
    "\n",
    "sampleAFiltered = pd.concat(\n",
    "    [\n",
    "        ordersByUsersA[\n",
    "            np.logical_not(ordersByUsersA['visitor_id'].isin(abnormalUsers))\n",
    "        ]['orders'],\n",
    "        pd.Series(\n",
    "            0,\n",
    "            index=np.arange(\n",
    "                visitorsADaily['visitorsPerDateA'].sum() - len(ordersByUsersA['orders'])\n",
    "            ),\n",
    "            name='orders',\n",
    "        ),\n",
    "    ],\n",
    "    axis=0,\n",
    ")\n",
    "\n",
    "#sampleAFiltered.head()\n",
    "\n",
    "sampleBFiltered = pd.concat(\n",
    "    [\n",
    "        ordersByUsersB[\n",
    "            np.logical_not(ordersByUsersB['visitor_id'].isin(abnormalUsers))\n",
    "        ]['orders'],\n",
    "        pd.Series(\n",
    "            0,\n",
    "            index=np.arange(\n",
    "                visitorsBDaily['visitorsPerDateB'].sum() - len(ordersByUsersB['orders'])\n",
    "            ),\n",
    "            name='orders',\n",
    "        ),\n",
    "    ],\n",
    "    axis=0,\n",
    ")\n",
    "#sampleBFiltered.head()"
   ]
  },
  {
   "cell_type": "markdown",
   "metadata": {},
   "source": [
    "**Формулировка гипотез:**  \n",
    "Нулевая гипотеза - статистически значимых различий между конверсиями групп А и В нет   \n",
    "Альтернативная гипотеза - статистически значимые различия между конверсиями групп А и В есть\n"
   ]
  },
  {
   "cell_type": "code",
   "execution_count": 69,
   "metadata": {},
   "outputs": [
    {
     "name": "stdout",
     "output_type": "stream",
     "text": [
      "0.023\n"
     ]
    }
   ],
   "source": [
    "#Применяем критерий Манна-Уитни\n",
    "print(\"{0:.3f}\".format(stats.mannwhitneyu(sampleAFiltered, sampleBFiltered, alternative = 'two-sided')[1])) #p-value"
   ]
  },
  {
   "cell_type": "markdown",
   "metadata": {},
   "source": [
    ">P-value меньше 0.05, значит нулевую гипотезу отвергаем. Статистически значимые различия между конверсиями групп А и В есть"
   ]
  },
  {
   "cell_type": "code",
   "execution_count": 47,
   "metadata": {},
   "outputs": [
    {
     "name": "stdout",
     "output_type": "stream",
     "text": [
      "0.149\n"
     ]
    }
   ],
   "source": [
    "print(\"{0:.3f}\".format(sampleBFiltered.mean() / sampleAFiltered.mean() - 1))"
   ]
  },
  {
   "cell_type": "markdown",
   "metadata": {},
   "source": [
    ">Конверсия группы B выше конверсии группы А почти на 15%"
   ]
  },
  {
   "cell_type": "markdown",
   "metadata": {},
   "source": [
    "##### Расчет статистической значимости различий в среднем чеке заказа между группами по «очищенным» данным. Выводы и предположения"
   ]
  },
  {
   "cell_type": "markdown",
   "metadata": {},
   "source": [
    "**Формулировка гипотез:**  \n",
    "Нулевая гипотеза - статистически значимых различий между средними чеками групп А и В нет \n",
    "Альтернативная гипотеза - статистически значимые различия между средними чеками групп А и В есть"
   ]
  },
  {
   "cell_type": "code",
   "execution_count": 70,
   "metadata": {},
   "outputs": [
    {
     "name": "stdout",
     "output_type": "stream",
     "text": [
      "0.866\n",
      "-0.002\n"
     ]
    }
   ],
   "source": [
    "print(\n",
    "    '{0:.3f}'.format(\n",
    "        stats.mannwhitneyu(\n",
    "            orders[\n",
    "                np.logical_and(\n",
    "                    orders['group'] == 'A',\n",
    "                    np.logical_not(orders['visitor_id'].isin(abnormalUsers)),\n",
    "                )\n",
    "            ]['revenue'],\n",
    "            orders[\n",
    "                np.logical_and(\n",
    "                    orders['group'] == 'B',\n",
    "                    np.logical_not(orders['visitor_id'].isin(abnormalUsers)),\n",
    "                )\n",
    "            ]['revenue'],\n",
    "        )[1]\n",
    "    )\n",
    ")\n",
    "\n",
    "print(\n",
    "    \"{0:.3f}\".format(\n",
    "        orders[\n",
    "            np.logical_and(\n",
    "                orders['group'] == 'B',\n",
    "                np.logical_not(orders['visitor_id'].isin(abnormalUsers)),\n",
    "            )\n",
    "        ]['revenue'].mean()\n",
    "        / orders[\n",
    "            np.logical_and(\n",
    "                orders['group'] == 'A',\n",
    "                np.logical_not(orders['visitor_id'].isin(abnormalUsers)),\n",
    "            )\n",
    "        ]['revenue'].mean()\n",
    "        - 1\n",
    "    )\n",
    ")"
   ]
  },
  {
   "cell_type": "markdown",
   "metadata": {},
   "source": [
    "P-value не сильно увеличился, статистической разницы между средними чеками нет. Но теперь группа B проигрывает группе А на 0,2% Не особенно много"
   ]
  },
  {
   "cell_type": "markdown",
   "metadata": {},
   "source": [
    "## Результаты анализа"
   ]
  },
  {
   "cell_type": "markdown",
   "metadata": {},
   "source": [
    "1. Статистической разницы между средним чеком групп А и В ни по сырым, ни по очищенным данным нет  \n",
    "2. Статистичесая разница между конверсиями групп А и В есть и по сырым, и по очищенным данным  \n",
    "3. Группа В выигрывает в конверсии на 15%  \n",
    "4. График относительного изменения среднего чека группы В по отношению к группе А не очень стабилен, но показал сильный рост и имеет тенденцию к стабилизации в самом конце  \n",
    "5. График относительного изменения кумулятивной конверсии группы В по отношению к группе А растет в концу теста"
   ]
  },
  {
   "cell_type": "markdown",
   "metadata": {},
   "source": [
    ">Стоит остановить тест и зафиксировать лучший результат у групппы B"
   ]
  }
 ],
 "metadata": {
  "ExecuteTimeLog": [
   {
    "duration": 930,
    "start_time": "2021-10-16T11:12:35.853Z"
   },
   {
    "duration": 19,
    "start_time": "2021-10-16T11:13:55.582Z"
   },
   {
    "duration": 35,
    "start_time": "2021-10-16T11:14:16.661Z"
   },
   {
    "duration": 25,
    "start_time": "2021-10-16T11:15:38.089Z"
   },
   {
    "duration": 25,
    "start_time": "2021-10-16T11:21:42.458Z"
   },
   {
    "duration": 385,
    "start_time": "2021-10-16T11:29:58.020Z"
   },
   {
    "duration": 15,
    "start_time": "2021-10-16T11:30:13.800Z"
   },
   {
    "duration": 669,
    "start_time": "2021-10-16T11:31:49.740Z"
   },
   {
    "duration": 25,
    "start_time": "2021-10-16T11:32:02.077Z"
   },
   {
    "duration": 30,
    "start_time": "2021-10-16T11:32:49.415Z"
   },
   {
    "duration": 4,
    "start_time": "2021-10-16T11:35:07.637Z"
   },
   {
    "duration": 14,
    "start_time": "2021-10-16T11:35:21.236Z"
   },
   {
    "duration": 73,
    "start_time": "2021-10-16T11:38:08.678Z"
   },
   {
    "duration": 21,
    "start_time": "2021-10-16T11:39:11.665Z"
   },
   {
    "duration": 7465,
    "start_time": "2021-10-16T11:41:36.229Z"
   },
   {
    "duration": 1334,
    "start_time": "2021-10-16T11:42:53.212Z"
   },
   {
    "duration": 1172,
    "start_time": "2021-10-16T11:43:09.374Z"
   },
   {
    "duration": 14,
    "start_time": "2021-10-16T11:43:39.163Z"
   },
   {
    "duration": 8,
    "start_time": "2021-10-16T11:44:24.526Z"
   },
   {
    "duration": 44,
    "start_time": "2021-10-16T11:44:40.333Z"
   },
   {
    "duration": 17,
    "start_time": "2021-10-16T11:48:02.839Z"
   },
   {
    "duration": 23,
    "start_time": "2021-10-16T11:50:21.238Z"
   },
   {
    "duration": 22,
    "start_time": "2021-10-16T11:50:35.595Z"
   },
   {
    "duration": 3,
    "start_time": "2021-10-16T11:50:46.354Z"
   },
   {
    "duration": 30,
    "start_time": "2021-10-16T11:50:46.774Z"
   },
   {
    "duration": 12,
    "start_time": "2021-10-16T11:50:47.273Z"
   },
   {
    "duration": 54,
    "start_time": "2021-10-16T11:50:48.353Z"
   },
   {
    "duration": 16,
    "start_time": "2021-10-16T11:50:48.574Z"
   },
   {
    "duration": 12,
    "start_time": "2021-10-16T11:50:48.825Z"
   },
   {
    "duration": 8,
    "start_time": "2021-10-16T11:50:49.017Z"
   },
   {
    "duration": 27,
    "start_time": "2021-10-16T11:50:49.177Z"
   },
   {
    "duration": 14,
    "start_time": "2021-10-16T11:50:49.353Z"
   },
   {
    "duration": 22,
    "start_time": "2021-10-16T11:50:50.013Z"
   },
   {
    "duration": 31,
    "start_time": "2021-10-16T11:51:12.901Z"
   },
   {
    "duration": 23,
    "start_time": "2021-10-16T11:51:23.163Z"
   },
   {
    "duration": 31,
    "start_time": "2021-10-16T11:51:34.343Z"
   },
   {
    "duration": 44,
    "start_time": "2021-10-16T11:52:13.432Z"
   },
   {
    "duration": 6,
    "start_time": "2021-10-16T11:53:23.302Z"
   },
   {
    "duration": 11,
    "start_time": "2021-10-16T11:53:53.198Z"
   },
   {
    "duration": 96,
    "start_time": "2021-10-16T11:54:27.078Z"
   },
   {
    "duration": 15,
    "start_time": "2021-10-16T11:55:18.065Z"
   },
   {
    "duration": 12,
    "start_time": "2021-10-16T11:58:34.494Z"
   },
   {
    "duration": 157,
    "start_time": "2021-10-16T11:59:07.328Z"
   },
   {
    "duration": 15,
    "start_time": "2021-10-16T12:00:41.549Z"
   },
   {
    "duration": 15,
    "start_time": "2021-10-16T12:31:39.703Z"
   },
   {
    "duration": 118,
    "start_time": "2021-10-16T12:33:29.942Z"
   },
   {
    "duration": 4,
    "start_time": "2021-10-16T12:33:35.217Z"
   },
   {
    "duration": 35,
    "start_time": "2021-10-16T12:33:35.223Z"
   },
   {
    "duration": 16,
    "start_time": "2021-10-16T12:33:35.261Z"
   },
   {
    "duration": 83,
    "start_time": "2021-10-16T12:33:35.279Z"
   },
   {
    "duration": 17,
    "start_time": "2021-10-16T12:33:35.364Z"
   },
   {
    "duration": 21,
    "start_time": "2021-10-16T12:33:35.384Z"
   },
   {
    "duration": 10,
    "start_time": "2021-10-16T12:33:35.408Z"
   },
   {
    "duration": 59,
    "start_time": "2021-10-16T12:33:35.421Z"
   },
   {
    "duration": 13,
    "start_time": "2021-10-16T12:33:35.482Z"
   },
   {
    "duration": 64,
    "start_time": "2021-10-16T12:33:35.498Z"
   },
   {
    "duration": 8,
    "start_time": "2021-10-16T12:33:35.565Z"
   },
   {
    "duration": 13,
    "start_time": "2021-10-16T12:33:35.575Z"
   },
   {
    "duration": 19,
    "start_time": "2021-10-16T12:33:35.590Z"
   },
   {
    "duration": 51,
    "start_time": "2021-10-16T12:33:35.612Z"
   },
   {
    "duration": 32,
    "start_time": "2021-10-16T12:33:35.665Z"
   },
   {
    "duration": 19,
    "start_time": "2021-10-16T12:33:35.700Z"
   },
   {
    "duration": 14,
    "start_time": "2021-10-16T12:33:35.721Z"
   },
   {
    "duration": 377,
    "start_time": "2021-10-16T12:35:57.459Z"
   },
   {
    "duration": 9186,
    "start_time": "2021-10-16T12:39:36.493Z"
   },
   {
    "duration": 95,
    "start_time": "2021-10-16T12:40:18.288Z"
   },
   {
    "duration": 11914,
    "start_time": "2021-10-16T12:41:43.991Z"
   },
   {
    "duration": 322,
    "start_time": "2021-10-16T12:42:37.559Z"
   },
   {
    "duration": 277,
    "start_time": "2021-10-16T12:43:11.998Z"
   },
   {
    "duration": 15,
    "start_time": "2021-10-16T12:49:25.899Z"
   },
   {
    "duration": 357,
    "start_time": "2021-10-16T12:49:25.916Z"
   },
   {
    "duration": 289,
    "start_time": "2021-10-16T12:49:26.276Z"
   },
   {
    "duration": 1077,
    "start_time": "2021-10-16T12:49:26.568Z"
   },
   {
    "duration": 19,
    "start_time": "2021-10-16T12:49:38.847Z"
   },
   {
    "duration": 299,
    "start_time": "2021-10-16T12:52:26.437Z"
   },
   {
    "duration": 305,
    "start_time": "2021-10-16T12:52:40.391Z"
   },
   {
    "duration": 15,
    "start_time": "2021-10-16T12:53:06.188Z"
   },
   {
    "duration": 13,
    "start_time": "2021-10-16T12:53:40.347Z"
   },
   {
    "duration": 317,
    "start_time": "2021-10-16T12:56:20.600Z"
   },
   {
    "duration": 546,
    "start_time": "2021-10-16T12:58:37.072Z"
   },
   {
    "duration": 421,
    "start_time": "2021-10-16T12:58:51.494Z"
   },
   {
    "duration": 339,
    "start_time": "2021-10-16T13:00:41.125Z"
   },
   {
    "duration": 637,
    "start_time": "2021-10-16T13:01:50.385Z"
   },
   {
    "duration": 330,
    "start_time": "2021-10-16T13:02:19.495Z"
   },
   {
    "duration": 315,
    "start_time": "2021-10-16T13:02:28.293Z"
   },
   {
    "duration": 629,
    "start_time": "2021-10-16T13:02:35.427Z"
   },
   {
    "duration": 351,
    "start_time": "2021-10-16T13:04:01.211Z"
   },
   {
    "duration": 753,
    "start_time": "2021-10-16T13:05:50.125Z"
   },
   {
    "duration": 808,
    "start_time": "2021-10-16T13:05:57.384Z"
   },
   {
    "duration": 401,
    "start_time": "2021-10-16T13:06:39.491Z"
   },
   {
    "duration": 350,
    "start_time": "2021-10-16T13:22:48.953Z"
   },
   {
    "duration": 4,
    "start_time": "2021-10-16T13:40:33.487Z"
   },
   {
    "duration": 17,
    "start_time": "2021-10-16T13:43:03.503Z"
   },
   {
    "duration": 480,
    "start_time": "2021-10-16T13:44:28.316Z"
   },
   {
    "duration": 458,
    "start_time": "2021-10-16T13:46:17.618Z"
   },
   {
    "duration": 4,
    "start_time": "2021-10-16T13:51:15.387Z"
   },
   {
    "duration": 281,
    "start_time": "2021-10-16T13:53:57.907Z"
   },
   {
    "duration": 14,
    "start_time": "2021-10-16T13:54:03.159Z"
   },
   {
    "duration": 20,
    "start_time": "2021-10-16T13:54:50.321Z"
   },
   {
    "duration": 15,
    "start_time": "2021-10-16T13:55:07.113Z"
   },
   {
    "duration": 17,
    "start_time": "2021-10-16T13:55:15.518Z"
   },
   {
    "duration": 7431,
    "start_time": "2021-10-16T13:57:33.339Z"
   },
   {
    "duration": 7995,
    "start_time": "2021-10-16T13:59:17.414Z"
   },
   {
    "duration": 355,
    "start_time": "2021-10-16T14:00:34.826Z"
   },
   {
    "duration": 291,
    "start_time": "2021-10-16T14:18:02.385Z"
   },
   {
    "duration": 12,
    "start_time": "2021-10-16T14:20:20.655Z"
   },
   {
    "duration": 221,
    "start_time": "2021-10-16T14:22:05.227Z"
   },
   {
    "duration": 387,
    "start_time": "2021-10-16T14:22:58.835Z"
   },
   {
    "duration": 6,
    "start_time": "2021-10-16T14:28:38.386Z"
   },
   {
    "duration": 376,
    "start_time": "2021-10-16T14:33:06.089Z"
   },
   {
    "duration": 6,
    "start_time": "2021-10-16T14:35:42.736Z"
   },
   {
    "duration": 6,
    "start_time": "2021-10-16T14:38:51.244Z"
   },
   {
    "duration": 6,
    "start_time": "2021-10-16T14:39:53.699Z"
   },
   {
    "duration": 99,
    "start_time": "2021-10-16T14:44:56.869Z"
   },
   {
    "duration": 11,
    "start_time": "2021-10-16T14:53:32.176Z"
   },
   {
    "duration": 10,
    "start_time": "2021-10-16T14:53:45.619Z"
   },
   {
    "duration": 101,
    "start_time": "2021-10-16T14:53:56.354Z"
   },
   {
    "duration": 13,
    "start_time": "2021-10-16T14:54:01.591Z"
   },
   {
    "duration": 11,
    "start_time": "2021-10-16T14:54:10.457Z"
   },
   {
    "duration": 15,
    "start_time": "2021-10-16T14:57:44.916Z"
   },
   {
    "duration": 97,
    "start_time": "2021-10-16T14:59:57.711Z"
   },
   {
    "duration": 108,
    "start_time": "2021-10-16T15:00:49.158Z"
   },
   {
    "duration": 14,
    "start_time": "2021-10-16T15:01:00.045Z"
   },
   {
    "duration": 98,
    "start_time": "2021-10-16T15:01:35.673Z"
   },
   {
    "duration": 31,
    "start_time": "2021-10-16T15:04:28.691Z"
   },
   {
    "duration": 109,
    "start_time": "2021-10-16T15:07:01.022Z"
   },
   {
    "duration": 33,
    "start_time": "2021-10-16T15:07:51.199Z"
   },
   {
    "duration": 109,
    "start_time": "2021-10-16T15:08:23.715Z"
   },
   {
    "duration": 56,
    "start_time": "2021-10-16T15:09:07.071Z"
   },
   {
    "duration": 51,
    "start_time": "2021-10-16T15:09:12.493Z"
   },
   {
    "duration": 52,
    "start_time": "2021-10-16T15:09:38.359Z"
   },
   {
    "duration": 108,
    "start_time": "2021-10-16T15:21:46.833Z"
   },
   {
    "duration": 111,
    "start_time": "2021-10-16T15:21:56.263Z"
   },
   {
    "duration": 229,
    "start_time": "2021-10-16T15:23:00.941Z"
   },
   {
    "duration": 11,
    "start_time": "2021-10-16T15:26:25.778Z"
   },
   {
    "duration": 8,
    "start_time": "2021-10-16T15:27:02.990Z"
   },
   {
    "duration": 13,
    "start_time": "2021-10-16T15:27:15.497Z"
   },
   {
    "duration": 379,
    "start_time": "2021-10-16T15:31:57.693Z"
   },
   {
    "duration": 387,
    "start_time": "2021-10-16T15:32:11.238Z"
   },
   {
    "duration": 305,
    "start_time": "2021-10-16T15:32:55.620Z"
   },
   {
    "duration": 551,
    "start_time": "2021-10-16T15:33:47.722Z"
   },
   {
    "duration": 382,
    "start_time": "2021-10-16T15:33:53.255Z"
   },
   {
    "duration": 578,
    "start_time": "2021-10-16T15:35:50.836Z"
   },
   {
    "duration": 34,
    "start_time": "2021-10-16T15:35:51.417Z"
   },
   {
    "duration": 13,
    "start_time": "2021-10-16T15:35:51.463Z"
   },
   {
    "duration": 59,
    "start_time": "2021-10-16T15:35:51.480Z"
   },
   {
    "duration": 23,
    "start_time": "2021-10-16T15:35:51.541Z"
   },
   {
    "duration": 31,
    "start_time": "2021-10-16T15:35:51.566Z"
   },
   {
    "duration": 12,
    "start_time": "2021-10-16T15:35:51.599Z"
   },
   {
    "duration": 42,
    "start_time": "2021-10-16T15:35:51.615Z"
   },
   {
    "duration": 27,
    "start_time": "2021-10-16T15:35:51.662Z"
   },
   {
    "duration": 58,
    "start_time": "2021-10-16T15:35:51.693Z"
   },
   {
    "duration": 8,
    "start_time": "2021-10-16T15:35:51.754Z"
   },
   {
    "duration": 15,
    "start_time": "2021-10-16T15:35:51.765Z"
   },
   {
    "duration": 14,
    "start_time": "2021-10-16T15:35:51.783Z"
   },
   {
    "duration": 23,
    "start_time": "2021-10-16T15:35:51.800Z"
   },
   {
    "duration": 27,
    "start_time": "2021-10-16T15:35:51.862Z"
   },
   {
    "duration": 17,
    "start_time": "2021-10-16T15:35:51.893Z"
   },
   {
    "duration": 390,
    "start_time": "2021-10-16T15:35:51.913Z"
   },
   {
    "duration": 292,
    "start_time": "2021-10-16T15:35:52.306Z"
   },
   {
    "duration": 19,
    "start_time": "2021-10-16T15:35:52.600Z"
   },
   {
    "duration": 16,
    "start_time": "2021-10-16T15:35:52.621Z"
   },
   {
    "duration": 15,
    "start_time": "2021-10-16T15:35:52.662Z"
   },
   {
    "duration": 364,
    "start_time": "2021-10-16T15:35:52.679Z"
   },
   {
    "duration": 355,
    "start_time": "2021-10-16T15:35:53.048Z"
   },
   {
    "duration": 456,
    "start_time": "2021-10-16T15:35:53.406Z"
   },
   {
    "duration": 16,
    "start_time": "2021-10-16T15:35:53.865Z"
   },
   {
    "duration": 20,
    "start_time": "2021-10-16T15:35:53.883Z"
   },
   {
    "duration": 15,
    "start_time": "2021-10-16T15:35:53.905Z"
   },
   {
    "duration": 392,
    "start_time": "2021-10-16T15:35:53.923Z"
   },
   {
    "duration": 3,
    "start_time": "2021-10-16T15:35:54.317Z"
   },
   {
    "duration": 254,
    "start_time": "2021-10-16T15:35:54.323Z"
   },
   {
    "duration": 373,
    "start_time": "2021-10-16T15:35:54.579Z"
   },
   {
    "duration": 10,
    "start_time": "2021-10-16T15:35:54.954Z"
   },
   {
    "duration": 396,
    "start_time": "2021-10-16T15:35:54.966Z"
   },
   {
    "duration": 8,
    "start_time": "2021-10-16T15:35:55.365Z"
   },
   {
    "duration": 14,
    "start_time": "2021-10-16T15:35:55.376Z"
   },
   {
    "duration": 12,
    "start_time": "2021-10-16T15:35:55.393Z"
   },
   {
    "duration": 64,
    "start_time": "2021-10-16T15:35:55.408Z"
   },
   {
    "duration": 114,
    "start_time": "2021-10-16T15:35:55.475Z"
   },
   {
    "duration": 16,
    "start_time": "2021-10-16T15:35:55.592Z"
   },
   {
    "duration": 126,
    "start_time": "2021-10-16T15:35:55.611Z"
   },
   {
    "duration": 44,
    "start_time": "2021-10-16T15:35:55.740Z"
   },
   {
    "duration": 128,
    "start_time": "2021-10-16T15:35:55.787Z"
   },
   {
    "duration": 49,
    "start_time": "2021-10-16T15:35:55.918Z"
   },
   {
    "duration": 119,
    "start_time": "2021-10-16T15:35:55.969Z"
   },
   {
    "duration": 50,
    "start_time": "2021-10-16T15:35:56.090Z"
   },
   {
    "duration": 52,
    "start_time": "2021-10-16T15:35:56.162Z"
   },
   {
    "duration": 262,
    "start_time": "2021-10-16T15:35:56.216Z"
   },
   {
    "duration": 8,
    "start_time": "2021-10-16T15:35:56.481Z"
   },
   {
    "duration": 10,
    "start_time": "2021-10-16T15:35:56.492Z"
   },
   {
    "duration": 103,
    "start_time": "2021-10-16T15:35:56.505Z"
   },
   {
    "duration": 10,
    "start_time": "2021-10-16T15:36:18.872Z"
   },
   {
    "duration": 6,
    "start_time": "2021-10-16T15:40:36.053Z"
   },
   {
    "duration": 113,
    "start_time": "2021-10-16T15:41:17.603Z"
   },
   {
    "duration": 15,
    "start_time": "2021-10-16T15:42:50.117Z"
   },
   {
    "duration": 97,
    "start_time": "2021-10-16T15:43:52.992Z"
   },
   {
    "duration": 200,
    "start_time": "2021-10-16T15:44:58.130Z"
   },
   {
    "duration": 9,
    "start_time": "2021-10-16T15:44:58.724Z"
   },
   {
    "duration": 9,
    "start_time": "2021-10-16T15:44:59.877Z"
   },
   {
    "duration": 10,
    "start_time": "2021-10-16T15:46:10.574Z"
   },
   {
    "duration": 310,
    "start_time": "2021-10-16T15:49:12.215Z"
   },
   {
    "duration": 14,
    "start_time": "2021-10-16T15:50:20.241Z"
   },
   {
    "duration": 316,
    "start_time": "2021-10-16T15:50:48.031Z"
   },
   {
    "duration": 16,
    "start_time": "2021-10-16T15:50:52.352Z"
   },
   {
    "duration": 16,
    "start_time": "2021-10-16T15:51:04.016Z"
   },
   {
    "duration": 16,
    "start_time": "2021-10-16T15:51:21.626Z"
   },
   {
    "duration": 15,
    "start_time": "2021-10-16T15:52:56.229Z"
   },
   {
    "duration": 10,
    "start_time": "2021-10-16T15:54:12.885Z"
   },
   {
    "duration": 9,
    "start_time": "2021-10-16T15:54:51.214Z"
   },
   {
    "duration": 14,
    "start_time": "2021-10-16T15:56:02.937Z"
   },
   {
    "duration": 17,
    "start_time": "2021-10-16T15:56:27.085Z"
   },
   {
    "duration": 17,
    "start_time": "2021-10-16T15:56:34.514Z"
   },
   {
    "duration": 9,
    "start_time": "2021-10-16T15:57:12.235Z"
   },
   {
    "duration": 5,
    "start_time": "2021-10-16T15:58:39.427Z"
   },
   {
    "duration": 21,
    "start_time": "2021-10-16T16:01:38.243Z"
   },
   {
    "duration": 1353,
    "start_time": "2021-10-16T19:39:28.539Z"
   },
   {
    "duration": 38,
    "start_time": "2021-10-16T19:39:29.895Z"
   },
   {
    "duration": 12,
    "start_time": "2021-10-16T19:39:30.311Z"
   },
   {
    "duration": 59,
    "start_time": "2021-10-16T19:39:30.929Z"
   },
   {
    "duration": 16,
    "start_time": "2021-10-16T19:39:31.194Z"
   },
   {
    "duration": 19,
    "start_time": "2021-10-16T19:39:31.918Z"
   },
   {
    "duration": 8,
    "start_time": "2021-10-16T19:39:32.210Z"
   },
   {
    "duration": 27,
    "start_time": "2021-10-16T19:39:32.441Z"
   },
   {
    "duration": 13,
    "start_time": "2021-10-16T19:39:32.661Z"
   },
   {
    "duration": 45,
    "start_time": "2021-10-16T19:39:33.131Z"
   },
   {
    "duration": 7,
    "start_time": "2021-10-16T19:39:33.349Z"
   },
   {
    "duration": 10,
    "start_time": "2021-10-16T19:39:33.563Z"
   },
   {
    "duration": 10,
    "start_time": "2021-10-16T19:39:34.357Z"
   },
   {
    "duration": 20,
    "start_time": "2021-10-16T19:39:34.559Z"
   },
   {
    "duration": 16,
    "start_time": "2021-10-16T19:39:34.975Z"
   },
   {
    "duration": 21,
    "start_time": "2021-10-16T19:39:36.900Z"
   },
   {
    "duration": 353,
    "start_time": "2021-10-16T19:39:38.013Z"
   },
   {
    "duration": 286,
    "start_time": "2021-10-16T19:39:38.573Z"
   },
   {
    "duration": 18,
    "start_time": "2021-10-16T19:39:38.949Z"
   },
   {
    "duration": 13,
    "start_time": "2021-10-16T19:39:39.701Z"
   },
   {
    "duration": 13,
    "start_time": "2021-10-16T19:39:40.091Z"
   },
   {
    "duration": 371,
    "start_time": "2021-10-16T19:39:41.435Z"
   },
   {
    "duration": 348,
    "start_time": "2021-10-16T19:39:43.394Z"
   },
   {
    "duration": 461,
    "start_time": "2021-10-16T19:39:45.726Z"
   },
   {
    "duration": 15,
    "start_time": "2021-10-16T19:39:48.542Z"
   },
   {
    "duration": 16,
    "start_time": "2021-10-16T19:39:53.457Z"
   },
   {
    "duration": 20,
    "start_time": "2021-10-16T19:39:54.345Z"
   },
   {
    "duration": 373,
    "start_time": "2021-10-16T19:39:56.711Z"
   },
   {
    "duration": 390,
    "start_time": "2021-10-16T19:43:22.853Z"
   },
   {
    "duration": 20,
    "start_time": "2021-10-16T19:44:19.367Z"
   },
   {
    "duration": 279,
    "start_time": "2021-10-16T19:45:55.960Z"
   },
   {
    "duration": 476,
    "start_time": "2021-10-16T19:46:21.509Z"
   },
   {
    "duration": 498,
    "start_time": "2021-10-16T19:52:32.299Z"
   },
   {
    "duration": 4,
    "start_time": "2021-10-16T19:52:39.114Z"
   },
   {
    "duration": 201,
    "start_time": "2021-10-16T19:52:39.646Z"
   },
   {
    "duration": 401,
    "start_time": "2021-10-16T19:52:40.101Z"
   },
   {
    "duration": 6,
    "start_time": "2021-10-16T19:52:41.112Z"
   },
   {
    "duration": 424,
    "start_time": "2021-10-16T19:52:42.003Z"
   },
   {
    "duration": 6,
    "start_time": "2021-10-16T19:52:42.928Z"
   },
   {
    "duration": 11,
    "start_time": "2021-10-16T19:52:44.593Z"
   },
   {
    "duration": 15,
    "start_time": "2021-10-16T19:52:44.822Z"
   },
   {
    "duration": 14,
    "start_time": "2021-10-16T19:52:45.034Z"
   },
   {
    "duration": 105,
    "start_time": "2021-10-16T19:52:45.232Z"
   },
   {
    "duration": 13,
    "start_time": "2021-10-16T19:52:45.434Z"
   },
   {
    "duration": 105,
    "start_time": "2021-10-16T19:52:45.865Z"
   },
   {
    "duration": 29,
    "start_time": "2021-10-16T19:52:46.257Z"
   },
   {
    "duration": 123,
    "start_time": "2021-10-16T19:52:46.716Z"
   },
   {
    "duration": 27,
    "start_time": "2021-10-16T19:52:46.946Z"
   },
   {
    "duration": 114,
    "start_time": "2021-10-16T19:52:47.130Z"
   },
   {
    "duration": 51,
    "start_time": "2021-10-16T19:52:47.329Z"
   },
   {
    "duration": 54,
    "start_time": "2021-10-16T19:52:47.511Z"
   },
   {
    "duration": 266,
    "start_time": "2021-10-16T19:52:48.092Z"
   },
   {
    "duration": 8,
    "start_time": "2021-10-16T19:52:48.360Z"
   },
   {
    "duration": 11,
    "start_time": "2021-10-16T19:52:48.630Z"
   },
   {
    "duration": 9,
    "start_time": "2021-10-16T19:52:49.126Z"
   },
   {
    "duration": 13,
    "start_time": "2021-10-16T19:52:49.744Z"
   },
   {
    "duration": 9,
    "start_time": "2021-10-16T19:52:50.360Z"
   },
   {
    "duration": 8,
    "start_time": "2021-10-16T19:52:50.849Z"
   },
   {
    "duration": 9,
    "start_time": "2021-10-16T19:52:51.061Z"
   },
   {
    "duration": 12,
    "start_time": "2021-10-16T19:52:51.478Z"
   },
   {
    "duration": 8,
    "start_time": "2021-10-16T19:52:51.690Z"
   },
   {
    "duration": 7,
    "start_time": "2021-10-16T19:52:52.129Z"
   },
   {
    "duration": 25,
    "start_time": "2021-10-16T19:52:52.721Z"
   },
   {
    "duration": 490,
    "start_time": "2021-10-16T19:55:46.811Z"
   },
   {
    "duration": 130,
    "start_time": "2021-10-16T19:58:47.922Z"
   },
   {
    "duration": 209,
    "start_time": "2021-10-16T20:02:33.681Z"
   },
   {
    "duration": 8,
    "start_time": "2021-10-16T20:02:34.753Z"
   },
   {
    "duration": 12,
    "start_time": "2021-10-16T20:02:35.719Z"
   },
   {
    "duration": 5,
    "start_time": "2021-10-16T20:02:37.391Z"
   },
   {
    "duration": 13,
    "start_time": "2021-10-16T20:02:38.835Z"
   },
   {
    "duration": 10,
    "start_time": "2021-10-16T20:02:40.074Z"
   },
   {
    "duration": 9,
    "start_time": "2021-10-16T20:02:40.676Z"
   },
   {
    "duration": 10,
    "start_time": "2021-10-16T20:02:41.037Z"
   },
   {
    "duration": 20,
    "start_time": "2021-10-16T20:02:41.720Z"
   },
   {
    "duration": 8,
    "start_time": "2021-10-16T20:02:42.504Z"
   },
   {
    "duration": 5,
    "start_time": "2021-10-16T20:02:43.734Z"
   },
   {
    "duration": 79,
    "start_time": "2021-10-16T20:02:45.453Z"
   },
   {
    "duration": 235,
    "start_time": "2021-10-16T20:03:59.946Z"
   },
   {
    "duration": 10,
    "start_time": "2021-10-16T20:04:00.812Z"
   },
   {
    "duration": 9,
    "start_time": "2021-10-16T20:04:01.494Z"
   },
   {
    "duration": 8,
    "start_time": "2021-10-16T20:04:03.342Z"
   },
   {
    "duration": 13,
    "start_time": "2021-10-16T20:04:03.976Z"
   },
   {
    "duration": 10,
    "start_time": "2021-10-16T20:04:05.167Z"
   },
   {
    "duration": 8,
    "start_time": "2021-10-16T20:04:05.414Z"
   },
   {
    "duration": 9,
    "start_time": "2021-10-16T20:04:05.634Z"
   },
   {
    "duration": 13,
    "start_time": "2021-10-16T20:04:06.456Z"
   },
   {
    "duration": 8,
    "start_time": "2021-10-16T20:04:06.752Z"
   },
   {
    "duration": 7,
    "start_time": "2021-10-16T20:04:07.530Z"
   },
   {
    "duration": 22,
    "start_time": "2021-10-16T20:04:08.430Z"
   },
   {
    "duration": 269,
    "start_time": "2021-10-16T20:04:57.510Z"
   },
   {
    "duration": 9,
    "start_time": "2021-10-16T20:04:58.006Z"
   },
   {
    "duration": 9,
    "start_time": "2021-10-16T20:04:58.439Z"
   },
   {
    "duration": 12,
    "start_time": "2021-10-16T20:04:59.328Z"
   },
   {
    "duration": 16,
    "start_time": "2021-10-16T20:05:00.804Z"
   },
   {
    "duration": 11,
    "start_time": "2021-10-16T20:05:01.691Z"
   },
   {
    "duration": 14,
    "start_time": "2021-10-16T20:05:02.224Z"
   },
   {
    "duration": 12,
    "start_time": "2021-10-16T20:05:02.520Z"
   },
   {
    "duration": 24,
    "start_time": "2021-10-16T20:05:03.022Z"
   },
   {
    "duration": 8,
    "start_time": "2021-10-16T20:05:03.614Z"
   },
   {
    "duration": 5,
    "start_time": "2021-10-16T20:05:03.949Z"
   },
   {
    "duration": 23,
    "start_time": "2021-10-16T20:05:04.410Z"
   },
   {
    "duration": 1075,
    "start_time": "2021-10-17T10:21:06.667Z"
   },
   {
    "duration": 28,
    "start_time": "2021-10-17T10:21:07.743Z"
   },
   {
    "duration": 6,
    "start_time": "2021-10-17T10:21:07.774Z"
   },
   {
    "duration": 66,
    "start_time": "2021-10-17T10:21:07.782Z"
   },
   {
    "duration": 10,
    "start_time": "2021-10-17T10:21:07.850Z"
   },
   {
    "duration": 8,
    "start_time": "2021-10-17T10:21:07.862Z"
   },
   {
    "duration": 9,
    "start_time": "2021-10-17T10:21:07.871Z"
   },
   {
    "duration": 16,
    "start_time": "2021-10-17T10:21:07.882Z"
   },
   {
    "duration": 8,
    "start_time": "2021-10-17T10:21:07.900Z"
   },
   {
    "duration": 44,
    "start_time": "2021-10-17T10:21:07.909Z"
   },
   {
    "duration": 5,
    "start_time": "2021-10-17T10:21:07.955Z"
   },
   {
    "duration": 15,
    "start_time": "2021-10-17T10:21:07.962Z"
   },
   {
    "duration": 13,
    "start_time": "2021-10-17T10:21:07.979Z"
   },
   {
    "duration": 18,
    "start_time": "2021-10-17T10:21:07.994Z"
   },
   {
    "duration": 9,
    "start_time": "2021-10-17T10:21:08.013Z"
   },
   {
    "duration": 14,
    "start_time": "2021-10-17T10:21:08.024Z"
   },
   {
    "duration": 209,
    "start_time": "2021-10-17T10:21:08.040Z"
   },
   {
    "duration": 142,
    "start_time": "2021-10-17T10:21:08.251Z"
   },
   {
    "duration": 11,
    "start_time": "2021-10-17T10:21:08.394Z"
   },
   {
    "duration": 14,
    "start_time": "2021-10-17T10:21:08.406Z"
   },
   {
    "duration": 8,
    "start_time": "2021-10-17T10:21:08.422Z"
   },
   {
    "duration": 214,
    "start_time": "2021-10-17T10:21:08.432Z"
   },
   {
    "duration": 198,
    "start_time": "2021-10-17T10:21:08.649Z"
   },
   {
    "duration": 355,
    "start_time": "2021-10-17T10:21:08.849Z"
   },
   {
    "duration": 10,
    "start_time": "2021-10-17T10:21:09.205Z"
   },
   {
    "duration": 17,
    "start_time": "2021-10-17T10:21:09.216Z"
   },
   {
    "duration": 18,
    "start_time": "2021-10-17T10:21:09.234Z"
   },
   {
    "duration": 207,
    "start_time": "2021-10-17T10:21:09.254Z"
   },
   {
    "duration": 353,
    "start_time": "2021-10-17T10:21:09.462Z"
   },
   {
    "duration": 2,
    "start_time": "2021-10-17T10:21:09.817Z"
   },
   {
    "duration": 111,
    "start_time": "2021-10-17T10:21:09.820Z"
   },
   {
    "duration": 245,
    "start_time": "2021-10-17T10:21:09.932Z"
   },
   {
    "duration": 3,
    "start_time": "2021-10-17T10:21:10.179Z"
   },
   {
    "duration": 280,
    "start_time": "2021-10-17T10:21:10.184Z"
   },
   {
    "duration": 12,
    "start_time": "2021-10-17T10:21:10.466Z"
   },
   {
    "duration": 112,
    "start_time": "2021-10-17T10:21:10.480Z"
   },
   {
    "duration": 414,
    "start_time": "2021-10-17T10:21:10.593Z"
   },
   {
    "duration": 23,
    "start_time": "2021-10-17T10:21:10.986Z"
   },
   {
    "duration": 19,
    "start_time": "2021-10-17T10:21:10.990Z"
   },
   {
    "duration": 17,
    "start_time": "2021-10-17T10:21:10.993Z"
   },
   {
    "duration": 15,
    "start_time": "2021-10-17T10:21:10.996Z"
   },
   {
    "duration": 12,
    "start_time": "2021-10-17T10:21:11.000Z"
   },
   {
    "duration": 9,
    "start_time": "2021-10-17T10:21:11.003Z"
   },
   {
    "duration": 7,
    "start_time": "2021-10-17T10:21:11.006Z"
   },
   {
    "duration": 5,
    "start_time": "2021-10-17T10:21:11.009Z"
   },
   {
    "duration": 2,
    "start_time": "2021-10-17T10:21:11.013Z"
   },
   {
    "duration": 0,
    "start_time": "2021-10-17T10:21:11.016Z"
   },
   {
    "duration": 201,
    "start_time": "2021-10-17T17:39:54.409Z"
   },
   {
    "duration": 972,
    "start_time": "2021-10-17T17:40:08.014Z"
   },
   {
    "duration": 3,
    "start_time": "2021-10-17T17:41:01.917Z"
   },
   {
    "duration": 27,
    "start_time": "2021-10-17T17:41:02.794Z"
   },
   {
    "duration": 8,
    "start_time": "2021-10-17T17:41:03.624Z"
   },
   {
    "duration": 80,
    "start_time": "2021-10-17T17:41:04.229Z"
   },
   {
    "duration": 11,
    "start_time": "2021-10-17T17:41:04.405Z"
   },
   {
    "duration": 7,
    "start_time": "2021-10-17T17:41:04.742Z"
   },
   {
    "duration": 6,
    "start_time": "2021-10-17T17:41:05.497Z"
   },
   {
    "duration": 18,
    "start_time": "2021-10-17T17:41:05.770Z"
   },
   {
    "duration": 10,
    "start_time": "2021-10-17T17:41:05.974Z"
   },
   {
    "duration": 32,
    "start_time": "2021-10-17T17:41:06.359Z"
   },
   {
    "duration": 5,
    "start_time": "2021-10-17T17:41:06.711Z"
   },
   {
    "duration": 7,
    "start_time": "2021-10-17T17:41:06.903Z"
   },
   {
    "duration": 7,
    "start_time": "2021-10-17T17:41:08.457Z"
   },
   {
    "duration": 12,
    "start_time": "2021-10-17T17:41:08.829Z"
   },
   {
    "duration": 11,
    "start_time": "2021-10-17T17:41:09.289Z"
   },
   {
    "duration": 10,
    "start_time": "2021-10-17T17:41:11.175Z"
   },
   {
    "duration": 201,
    "start_time": "2021-10-17T17:41:11.392Z"
   },
   {
    "duration": 155,
    "start_time": "2021-10-17T17:41:11.601Z"
   },
   {
    "duration": 12,
    "start_time": "2021-10-17T17:41:11.846Z"
   },
   {
    "duration": 10,
    "start_time": "2021-10-17T17:41:12.448Z"
   },
   {
    "duration": 9,
    "start_time": "2021-10-17T17:41:12.874Z"
   },
   {
    "duration": 208,
    "start_time": "2021-10-17T17:41:13.322Z"
   },
   {
    "duration": 207,
    "start_time": "2021-10-17T17:41:14.348Z"
   },
   {
    "duration": 334,
    "start_time": "2021-10-17T17:41:15.000Z"
   },
   {
    "duration": 12,
    "start_time": "2021-10-17T17:41:15.623Z"
   },
   {
    "duration": 11,
    "start_time": "2021-10-17T17:41:15.874Z"
   },
   {
    "duration": 10,
    "start_time": "2021-10-17T17:41:16.079Z"
   },
   {
    "duration": 211,
    "start_time": "2021-10-17T17:41:16.336Z"
   },
   {
    "duration": 341,
    "start_time": "2021-10-17T17:41:17.602Z"
   },
   {
    "duration": 2,
    "start_time": "2021-10-17T17:41:18.946Z"
   },
   {
    "duration": 108,
    "start_time": "2021-10-17T17:41:19.215Z"
   },
   {
    "duration": 267,
    "start_time": "2021-10-17T17:41:19.457Z"
   },
   {
    "duration": 4,
    "start_time": "2021-10-17T17:41:20.985Z"
   },
   {
    "duration": 278,
    "start_time": "2021-10-17T17:41:22.166Z"
   },
   {
    "duration": 4,
    "start_time": "2021-10-17T17:41:23.818Z"
   },
   {
    "duration": 108,
    "start_time": "2021-10-17T17:41:28.385Z"
   },
   {
    "duration": 113,
    "start_time": "2021-10-17T17:41:37.193Z"
   },
   {
    "duration": 12,
    "start_time": "2021-10-17T17:41:38.098Z"
   },
   {
    "duration": 13,
    "start_time": "2021-10-17T17:43:18.655Z"
   },
   {
    "duration": 205,
    "start_time": "2021-10-17T17:43:32.538Z"
   },
   {
    "duration": 7,
    "start_time": "2021-10-17T17:44:21.739Z"
   },
   {
    "duration": 6,
    "start_time": "2021-10-17T17:44:45.020Z"
   },
   {
    "duration": 8,
    "start_time": "2021-10-17T17:44:46.379Z"
   },
   {
    "duration": 4,
    "start_time": "2021-10-17T17:44:51.704Z"
   },
   {
    "duration": 10,
    "start_time": "2021-10-17T17:44:58.575Z"
   },
   {
    "duration": 7,
    "start_time": "2021-10-17T17:45:21.196Z"
   },
   {
    "duration": 6,
    "start_time": "2021-10-17T17:45:21.967Z"
   },
   {
    "duration": 6,
    "start_time": "2021-10-17T17:45:22.956Z"
   },
   {
    "duration": 177,
    "start_time": "2021-10-17T17:45:24.311Z"
   },
   {
    "duration": 9,
    "start_time": "2021-10-17T17:46:02.667Z"
   },
   {
    "duration": 6,
    "start_time": "2021-10-17T17:46:03.716Z"
   },
   {
    "duration": 4,
    "start_time": "2021-10-17T17:46:11.842Z"
   },
   {
    "duration": 13,
    "start_time": "2021-10-17T17:46:16.026Z"
   },
   {
    "duration": 7,
    "start_time": "2021-10-17T17:46:55.439Z"
   },
   {
    "duration": 4,
    "start_time": "2021-10-17T17:46:56.188Z"
   },
   {
    "duration": 10,
    "start_time": "2021-10-17T17:46:56.703Z"
   },
   {
    "duration": 7,
    "start_time": "2021-10-17T17:46:57.543Z"
   },
   {
    "duration": 6,
    "start_time": "2021-10-17T17:46:57.743Z"
   },
   {
    "duration": 6,
    "start_time": "2021-10-17T17:46:58.015Z"
   },
   {
    "duration": 8,
    "start_time": "2021-10-17T17:46:58.855Z"
   },
   {
    "duration": 7,
    "start_time": "2021-10-17T17:46:59.465Z"
   },
   {
    "duration": 5,
    "start_time": "2021-10-17T17:47:00.423Z"
   },
   {
    "duration": 13,
    "start_time": "2021-10-17T17:47:00.966Z"
   },
   {
    "duration": 7,
    "start_time": "2021-10-17T17:52:23.224Z"
   },
   {
    "duration": 6,
    "start_time": "2021-10-17T17:53:08.147Z"
   },
   {
    "duration": 4,
    "start_time": "2021-10-17T17:53:09.820Z"
   },
   {
    "duration": 13,
    "start_time": "2021-10-17T17:53:12.646Z"
   },
   {
    "duration": 13,
    "start_time": "2021-10-17T17:54:30.722Z"
   },
   {
    "duration": 1025,
    "start_time": "2021-10-18T05:32:59.201Z"
   },
   {
    "duration": 29,
    "start_time": "2021-10-18T05:33:00.228Z"
   },
   {
    "duration": 8,
    "start_time": "2021-10-18T05:33:00.259Z"
   },
   {
    "duration": 53,
    "start_time": "2021-10-18T05:33:00.269Z"
   },
   {
    "duration": 11,
    "start_time": "2021-10-18T05:33:00.324Z"
   },
   {
    "duration": 18,
    "start_time": "2021-10-18T05:33:00.337Z"
   },
   {
    "duration": 10,
    "start_time": "2021-10-18T05:33:00.357Z"
   },
   {
    "duration": 22,
    "start_time": "2021-10-18T05:33:00.369Z"
   },
   {
    "duration": 9,
    "start_time": "2021-10-18T05:33:00.393Z"
   },
   {
    "duration": 41,
    "start_time": "2021-10-18T05:33:00.403Z"
   },
   {
    "duration": 5,
    "start_time": "2021-10-18T05:33:00.446Z"
   },
   {
    "duration": 19,
    "start_time": "2021-10-18T05:33:00.453Z"
   },
   {
    "duration": 22,
    "start_time": "2021-10-18T05:33:00.474Z"
   },
   {
    "duration": 21,
    "start_time": "2021-10-18T05:33:00.498Z"
   },
   {
    "duration": 10,
    "start_time": "2021-10-18T05:33:00.521Z"
   },
   {
    "duration": 17,
    "start_time": "2021-10-18T05:33:00.533Z"
   },
   {
    "duration": 217,
    "start_time": "2021-10-18T05:33:00.552Z"
   },
   {
    "duration": 159,
    "start_time": "2021-10-18T05:33:00.771Z"
   },
   {
    "duration": 20,
    "start_time": "2021-10-18T05:33:00.932Z"
   },
   {
    "duration": 20,
    "start_time": "2021-10-18T05:33:00.954Z"
   },
   {
    "duration": 16,
    "start_time": "2021-10-18T05:33:00.976Z"
   },
   {
    "duration": 212,
    "start_time": "2021-10-18T05:33:00.993Z"
   },
   {
    "duration": 218,
    "start_time": "2021-10-18T05:33:01.208Z"
   },
   {
    "duration": 338,
    "start_time": "2021-10-18T05:33:01.428Z"
   },
   {
    "duration": 10,
    "start_time": "2021-10-18T05:33:01.767Z"
   },
   {
    "duration": 23,
    "start_time": "2021-10-18T05:33:01.779Z"
   },
   {
    "duration": 24,
    "start_time": "2021-10-18T05:33:01.803Z"
   },
   {
    "duration": 222,
    "start_time": "2021-10-18T05:33:01.829Z"
   },
   {
    "duration": 342,
    "start_time": "2021-10-18T05:33:02.052Z"
   },
   {
    "duration": 3,
    "start_time": "2021-10-18T05:33:02.396Z"
   },
   {
    "duration": 117,
    "start_time": "2021-10-18T05:33:02.401Z"
   },
   {
    "duration": 302,
    "start_time": "2021-10-18T05:33:02.521Z"
   },
   {
    "duration": 4,
    "start_time": "2021-10-18T05:33:02.825Z"
   },
   {
    "duration": 316,
    "start_time": "2021-10-18T05:33:02.831Z"
   },
   {
    "duration": 4,
    "start_time": "2021-10-18T05:33:03.149Z"
   },
   {
    "duration": 122,
    "start_time": "2021-10-18T05:33:03.154Z"
   },
   {
    "duration": 7,
    "start_time": "2021-10-18T05:33:03.278Z"
   },
   {
    "duration": 7,
    "start_time": "2021-10-18T05:33:03.287Z"
   },
   {
    "duration": 12,
    "start_time": "2021-10-18T05:33:03.296Z"
   },
   {
    "duration": 5,
    "start_time": "2021-10-18T05:33:03.310Z"
   },
   {
    "duration": 34,
    "start_time": "2021-10-18T05:33:03.317Z"
   },
   {
    "duration": 7,
    "start_time": "2021-10-18T05:33:03.353Z"
   },
   {
    "duration": 7,
    "start_time": "2021-10-18T05:33:03.362Z"
   },
   {
    "duration": 7,
    "start_time": "2021-10-18T05:33:03.371Z"
   },
   {
    "duration": 9,
    "start_time": "2021-10-18T05:33:03.380Z"
   },
   {
    "duration": 8,
    "start_time": "2021-10-18T05:33:03.390Z"
   },
   {
    "duration": 4,
    "start_time": "2021-10-18T05:33:03.400Z"
   },
   {
    "duration": 14,
    "start_time": "2021-10-18T05:33:03.445Z"
   },
   {
    "duration": 390,
    "start_time": "2021-10-28T08:26:24.314Z"
   },
   {
    "duration": 505,
    "start_time": "2022-02-19T10:11:42.573Z"
   },
   {
    "duration": 1509,
    "start_time": "2022-02-19T10:11:57.668Z"
   },
   {
    "duration": 32,
    "start_time": "2022-02-19T10:11:59.180Z"
   },
   {
    "duration": 31,
    "start_time": "2022-02-19T10:12:16.853Z"
   },
   {
    "duration": 1007,
    "start_time": "2022-04-08T09:28:59.580Z"
   },
   {
    "duration": 36,
    "start_time": "2022-04-08T09:30:15.913Z"
   },
   {
    "duration": 9,
    "start_time": "2022-04-08T09:31:36.594Z"
   },
   {
    "duration": 3,
    "start_time": "2022-04-08T09:31:43.474Z"
   },
   {
    "duration": 27,
    "start_time": "2022-04-08T09:32:00.476Z"
   },
   {
    "duration": 26,
    "start_time": "2022-04-08T09:32:12.824Z"
   },
   {
    "duration": 25,
    "start_time": "2022-04-08T09:32:16.814Z"
   },
   {
    "duration": 10,
    "start_time": "2022-04-08T09:32:22.481Z"
   },
   {
    "duration": 5,
    "start_time": "2022-04-08T09:33:55.920Z"
   },
   {
    "duration": 17,
    "start_time": "2022-04-08T09:34:33.617Z"
   },
   {
    "duration": 5,
    "start_time": "2022-04-08T09:38:17.385Z"
   },
   {
    "duration": 16,
    "start_time": "2022-04-08T09:38:19.023Z"
   },
   {
    "duration": 3,
    "start_time": "2022-04-08T09:38:33.722Z"
   },
   {
    "duration": 15,
    "start_time": "2022-04-08T09:39:02.014Z"
   },
   {
    "duration": 6,
    "start_time": "2022-04-08T09:39:22.926Z"
   },
   {
    "duration": 17,
    "start_time": "2022-04-08T09:39:23.443Z"
   },
   {
    "duration": 3,
    "start_time": "2022-04-08T09:39:23.960Z"
   },
   {
    "duration": 11,
    "start_time": "2022-04-08T09:39:24.544Z"
   },
   {
    "duration": 4,
    "start_time": "2022-04-08T09:39:35.026Z"
   },
   {
    "duration": 34,
    "start_time": "2022-04-08T09:39:40.330Z"
   },
   {
    "duration": 5,
    "start_time": "2022-04-08T09:40:19.431Z"
   },
   {
    "duration": 11,
    "start_time": "2022-04-08T09:40:27.007Z"
   },
   {
    "duration": 8,
    "start_time": "2022-04-08T09:48:46.176Z"
   },
   {
    "duration": 90,
    "start_time": "2022-04-08T09:50:33.037Z"
   },
   {
    "duration": 7,
    "start_time": "2022-04-08T09:50:37.853Z"
   },
   {
    "duration": 9,
    "start_time": "2022-04-08T09:51:13.098Z"
   },
   {
    "duration": 6,
    "start_time": "2022-04-08T09:51:28.023Z"
   },
   {
    "duration": 31,
    "start_time": "2022-04-08T09:53:39.260Z"
   },
   {
    "duration": 4,
    "start_time": "2022-04-08T09:53:41.637Z"
   },
   {
    "duration": 11,
    "start_time": "2022-04-08T09:53:42.382Z"
   },
   {
    "duration": 13,
    "start_time": "2022-04-08T09:56:09.710Z"
   },
   {
    "duration": 10,
    "start_time": "2022-04-08T09:56:22.371Z"
   },
   {
    "duration": 10,
    "start_time": "2022-04-08T09:57:18.133Z"
   },
   {
    "duration": 8,
    "start_time": "2022-04-08T09:57:41.010Z"
   },
   {
    "duration": 4,
    "start_time": "2022-04-08T09:57:57.989Z"
   },
   {
    "duration": 4,
    "start_time": "2022-04-08T10:01:31.961Z"
   },
   {
    "duration": 29,
    "start_time": "2022-04-08T10:01:34.098Z"
   },
   {
    "duration": 5,
    "start_time": "2022-04-08T10:01:34.671Z"
   },
   {
    "duration": 11,
    "start_time": "2022-04-08T10:01:35.812Z"
   },
   {
    "duration": 10,
    "start_time": "2022-04-08T10:12:35.061Z"
   },
   {
    "duration": 174,
    "start_time": "2022-04-08T10:12:39.494Z"
   },
   {
    "duration": 122,
    "start_time": "2022-04-08T10:12:40.770Z"
   },
   {
    "duration": 13,
    "start_time": "2022-04-08T10:12:41.615Z"
   },
   {
    "duration": 10,
    "start_time": "2022-04-08T10:12:43.206Z"
   },
   {
    "duration": 9,
    "start_time": "2022-04-08T10:12:44.096Z"
   },
   {
    "duration": 245,
    "start_time": "2022-04-08T10:12:46.791Z"
   },
   {
    "duration": 167,
    "start_time": "2022-04-08T10:12:54.381Z"
   },
   {
    "duration": 269,
    "start_time": "2022-04-08T10:12:56.252Z"
   },
   {
    "duration": 10,
    "start_time": "2022-04-08T10:12:59.899Z"
   },
   {
    "duration": 10,
    "start_time": "2022-04-08T10:13:00.976Z"
   },
   {
    "duration": 10,
    "start_time": "2022-04-08T10:13:01.773Z"
   },
   {
    "duration": 201,
    "start_time": "2022-04-08T10:13:02.499Z"
   },
   {
    "duration": 258,
    "start_time": "2022-04-08T10:14:10.475Z"
   },
   {
    "duration": 272,
    "start_time": "2022-04-08T10:14:35.963Z"
   },
   {
    "duration": 2,
    "start_time": "2022-04-08T10:15:29.225Z"
   },
   {
    "duration": 130,
    "start_time": "2022-04-08T10:15:29.677Z"
   },
   {
    "duration": 102,
    "start_time": "2022-04-08T10:15:32.157Z"
   },
   {
    "duration": 126,
    "start_time": "2022-04-08T10:15:49.326Z"
   },
   {
    "duration": 4,
    "start_time": "2022-04-08T10:15:52.261Z"
   },
   {
    "duration": 144,
    "start_time": "2022-04-08T10:16:48.493Z"
   },
   {
    "duration": 7,
    "start_time": "2022-04-08T10:16:49.218Z"
   },
   {
    "duration": 7,
    "start_time": "2022-04-08T10:16:53.284Z"
   },
   {
    "duration": 5,
    "start_time": "2022-04-08T10:17:32.273Z"
   },
   {
    "duration": 11,
    "start_time": "2022-04-08T10:17:39.961Z"
   },
   {
    "duration": 7,
    "start_time": "2022-04-08T10:17:56.112Z"
   },
   {
    "duration": 6,
    "start_time": "2022-04-08T10:17:57.270Z"
   },
   {
    "duration": 6,
    "start_time": "2022-04-08T10:17:58.436Z"
   },
   {
    "duration": 10,
    "start_time": "2022-04-08T10:18:00.004Z"
   },
   {
    "duration": 23,
    "start_time": "2022-04-08T10:18:04.817Z"
   },
   {
    "duration": 13,
    "start_time": "2022-04-08T10:18:21.363Z"
   }
  ],
  "kernelspec": {
   "display_name": "Python 3 (ipykernel)",
   "language": "python",
   "name": "python3"
  },
  "language_info": {
   "codemirror_mode": {
    "name": "ipython",
    "version": 3
   },
   "file_extension": ".py",
   "mimetype": "text/x-python",
   "name": "python",
   "nbconvert_exporter": "python",
   "pygments_lexer": "ipython3",
   "version": "3.9.12"
  },
  "toc": {
   "base_numbering": 1,
   "nav_menu": {},
   "number_sections": true,
   "sideBar": true,
   "skip_h1_title": true,
   "title_cell": "Table of Contents",
   "title_sidebar": "Contents",
   "toc_cell": false,
   "toc_position": {},
   "toc_section_display": true,
   "toc_window_display": false
  }
 },
 "nbformat": 4,
 "nbformat_minor": 4
}
