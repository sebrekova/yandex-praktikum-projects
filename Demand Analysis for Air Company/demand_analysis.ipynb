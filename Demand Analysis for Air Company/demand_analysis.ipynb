{
 "cells": [
  {
   "cell_type": "markdown",
   "metadata": {},
   "source": [
    " # Анализ спроса пассажиров российской авиакомпании на рейсы в города, где проходят крупнейшие фестивали"
   ]
  },
  {
   "cell_type": "markdown",
   "metadata": {},
   "source": [
    "## Импорт библиотек"
   ]
  },
  {
   "cell_type": "code",
   "execution_count": 1,
   "metadata": {},
   "outputs": [],
   "source": [
    "import pandas as pd\n",
    "import matplotlib.pyplot as plt"
   ]
  },
  {
   "cell_type": "markdown",
   "metadata": {},
   "source": [
    "## Изучение данных из файлов и предобработка"
   ]
  },
  {
   "cell_type": "markdown",
   "metadata": {},
   "source": [
    "### Датасет с информацией о самолетах"
   ]
  },
  {
   "cell_type": "code",
   "execution_count": 2,
   "metadata": {},
   "outputs": [
    {
     "data": {
      "text/html": [
       "<div>\n",
       "<style scoped>\n",
       "    .dataframe tbody tr th:only-of-type {\n",
       "        vertical-align: middle;\n",
       "    }\n",
       "\n",
       "    .dataframe tbody tr th {\n",
       "        vertical-align: top;\n",
       "    }\n",
       "\n",
       "    .dataframe thead th {\n",
       "        text-align: right;\n",
       "    }\n",
       "</style>\n",
       "<table border=\"1\" class=\"dataframe\">\n",
       "  <thead>\n",
       "    <tr style=\"text-align: right;\">\n",
       "      <th></th>\n",
       "      <th>model</th>\n",
       "      <th>flights_amount</th>\n",
       "    </tr>\n",
       "  </thead>\n",
       "  <tbody>\n",
       "    <tr>\n",
       "      <th>0</th>\n",
       "      <td>Airbus A319-100</td>\n",
       "      <td>607</td>\n",
       "    </tr>\n",
       "    <tr>\n",
       "      <th>1</th>\n",
       "      <td>Airbus A321-200</td>\n",
       "      <td>960</td>\n",
       "    </tr>\n",
       "    <tr>\n",
       "      <th>2</th>\n",
       "      <td>Boeing 737-300</td>\n",
       "      <td>630</td>\n",
       "    </tr>\n",
       "    <tr>\n",
       "      <th>3</th>\n",
       "      <td>Boeing 767-300</td>\n",
       "      <td>600</td>\n",
       "    </tr>\n",
       "    <tr>\n",
       "      <th>4</th>\n",
       "      <td>Boeing 777-300</td>\n",
       "      <td>300</td>\n",
       "    </tr>\n",
       "    <tr>\n",
       "      <th>5</th>\n",
       "      <td>Bombardier CRJ-200</td>\n",
       "      <td>4446</td>\n",
       "    </tr>\n",
       "    <tr>\n",
       "      <th>6</th>\n",
       "      <td>Cessna 208 Caravan</td>\n",
       "      <td>4557</td>\n",
       "    </tr>\n",
       "    <tr>\n",
       "      <th>7</th>\n",
       "      <td>Sukhoi SuperJet-100</td>\n",
       "      <td>4185</td>\n",
       "    </tr>\n",
       "  </tbody>\n",
       "</table>\n",
       "</div>"
      ],
      "text/plain": [
       "                 model  flights_amount\n",
       "0      Airbus A319-100             607\n",
       "1      Airbus A321-200             960\n",
       "2       Boeing 737-300             630\n",
       "3       Boeing 767-300             600\n",
       "4       Boeing 777-300             300\n",
       "5   Bombardier CRJ-200            4446\n",
       "6   Cessna 208 Caravan            4557\n",
       "7  Sukhoi SuperJet-100            4185"
      ]
     },
     "metadata": {},
     "output_type": "display_data"
    },
    {
     "name": "stdout",
     "output_type": "stream",
     "text": [
      "<class 'pandas.core.frame.DataFrame'>\n",
      "RangeIndex: 8 entries, 0 to 7\n",
      "Data columns (total 2 columns):\n",
      " #   Column          Non-Null Count  Dtype \n",
      "---  ------          --------------  ----- \n",
      " 0   model           8 non-null      object\n",
      " 1   flights_amount  8 non-null      int64 \n",
      "dtypes: int64(1), object(1)\n",
      "memory usage: 256.0+ bytes\n"
     ]
    }
   ],
   "source": [
    "query_1 = pd.read_csv('/datasets/query_1.csv')\n",
    "display(query_1)\n",
    "query_1.info()"
   ]
  },
  {
   "cell_type": "code",
   "execution_count": 3,
   "metadata": {},
   "outputs": [
    {
     "name": "stdout",
     "output_type": "stream",
     "text": [
      "Количество дубликатов в query_1: 0\n"
     ]
    }
   ],
   "source": [
    "#проверяем на дубликаты\n",
    "print('Количество дубликатов в query_1:', query_1.duplicated().sum())"
   ]
  },
  {
   "cell_type": "markdown",
   "metadata": {},
   "source": [
    ">* Пропуски в данных отсутствуют.  \n",
    ">* Типы данных соответствуют действительности, менять не надо  \n",
    ">* Дубликатов нет  \n",
    ">* Странных или выбивающихся значений не обнаружено"
   ]
  },
  {
   "cell_type": "markdown",
   "metadata": {},
   "source": [
    "### Датасет с информацией о городах и среднем количестве рейсов, прибывающих в каждый город"
   ]
  },
  {
   "cell_type": "code",
   "execution_count": 4,
   "metadata": {},
   "outputs": [
    {
     "data": {
      "text/html": [
       "<div>\n",
       "<style scoped>\n",
       "    .dataframe tbody tr th:only-of-type {\n",
       "        vertical-align: middle;\n",
       "    }\n",
       "\n",
       "    .dataframe tbody tr th {\n",
       "        vertical-align: top;\n",
       "    }\n",
       "\n",
       "    .dataframe thead th {\n",
       "        text-align: right;\n",
       "    }\n",
       "</style>\n",
       "<table border=\"1\" class=\"dataframe\">\n",
       "  <thead>\n",
       "    <tr style=\"text-align: right;\">\n",
       "      <th></th>\n",
       "      <th>city</th>\n",
       "      <th>average_flights</th>\n",
       "    </tr>\n",
       "  </thead>\n",
       "  <tbody>\n",
       "    <tr>\n",
       "      <th>0</th>\n",
       "      <td>Абакан</td>\n",
       "      <td>3.870968</td>\n",
       "    </tr>\n",
       "    <tr>\n",
       "      <th>1</th>\n",
       "      <td>Анадырь</td>\n",
       "      <td>1.000000</td>\n",
       "    </tr>\n",
       "    <tr>\n",
       "      <th>2</th>\n",
       "      <td>Анапа</td>\n",
       "      <td>2.161290</td>\n",
       "    </tr>\n",
       "    <tr>\n",
       "      <th>3</th>\n",
       "      <td>Архангельск</td>\n",
       "      <td>5.354839</td>\n",
       "    </tr>\n",
       "    <tr>\n",
       "      <th>4</th>\n",
       "      <td>Астрахань</td>\n",
       "      <td>2.451613</td>\n",
       "    </tr>\n",
       "    <tr>\n",
       "      <th>5</th>\n",
       "      <td>Барнаул</td>\n",
       "      <td>2.612903</td>\n",
       "    </tr>\n",
       "    <tr>\n",
       "      <th>6</th>\n",
       "      <td>Белгород</td>\n",
       "      <td>6.000000</td>\n",
       "    </tr>\n",
       "    <tr>\n",
       "      <th>7</th>\n",
       "      <td>Белоярский</td>\n",
       "      <td>2.000000</td>\n",
       "    </tr>\n",
       "    <tr>\n",
       "      <th>8</th>\n",
       "      <td>Благовещенск</td>\n",
       "      <td>1.000000</td>\n",
       "    </tr>\n",
       "    <tr>\n",
       "      <th>9</th>\n",
       "      <td>Братск</td>\n",
       "      <td>1.000000</td>\n",
       "    </tr>\n",
       "    <tr>\n",
       "      <th>10</th>\n",
       "      <td>Брянск</td>\n",
       "      <td>10.000000</td>\n",
       "    </tr>\n",
       "    <tr>\n",
       "      <th>11</th>\n",
       "      <td>Бугульма</td>\n",
       "      <td>3.000000</td>\n",
       "    </tr>\n",
       "    <tr>\n",
       "      <th>12</th>\n",
       "      <td>Владивосток</td>\n",
       "      <td>3.000000</td>\n",
       "    </tr>\n",
       "    <tr>\n",
       "      <th>13</th>\n",
       "      <td>Владикавказ</td>\n",
       "      <td>2.000000</td>\n",
       "    </tr>\n",
       "    <tr>\n",
       "      <th>14</th>\n",
       "      <td>Волгоград</td>\n",
       "      <td>5.129032</td>\n",
       "    </tr>\n",
       "    <tr>\n",
       "      <th>15</th>\n",
       "      <td>Воркута</td>\n",
       "      <td>4.580645</td>\n",
       "    </tr>\n",
       "    <tr>\n",
       "      <th>16</th>\n",
       "      <td>Воронеж</td>\n",
       "      <td>2.000000</td>\n",
       "    </tr>\n",
       "    <tr>\n",
       "      <th>17</th>\n",
       "      <td>Геленджик</td>\n",
       "      <td>2.590909</td>\n",
       "    </tr>\n",
       "    <tr>\n",
       "      <th>18</th>\n",
       "      <td>Горно-Алтайск</td>\n",
       "      <td>1.387097</td>\n",
       "    </tr>\n",
       "    <tr>\n",
       "      <th>19</th>\n",
       "      <td>Грозный</td>\n",
       "      <td>1.129032</td>\n",
       "    </tr>\n",
       "  </tbody>\n",
       "</table>\n",
       "</div>"
      ],
      "text/plain": [
       "             city  average_flights\n",
       "0          Абакан         3.870968\n",
       "1         Анадырь         1.000000\n",
       "2           Анапа         2.161290\n",
       "3     Архангельск         5.354839\n",
       "4       Астрахань         2.451613\n",
       "5         Барнаул         2.612903\n",
       "6        Белгород         6.000000\n",
       "7      Белоярский         2.000000\n",
       "8    Благовещенск         1.000000\n",
       "9          Братск         1.000000\n",
       "10         Брянск        10.000000\n",
       "11       Бугульма         3.000000\n",
       "12    Владивосток         3.000000\n",
       "13    Владикавказ         2.000000\n",
       "14      Волгоград         5.129032\n",
       "15        Воркута         4.580645\n",
       "16        Воронеж         2.000000\n",
       "17      Геленджик         2.590909\n",
       "18  Горно-Алтайск         1.387097\n",
       "19        Грозный         1.129032"
      ]
     },
     "metadata": {},
     "output_type": "display_data"
    },
    {
     "name": "stdout",
     "output_type": "stream",
     "text": [
      "<class 'pandas.core.frame.DataFrame'>\n",
      "RangeIndex: 101 entries, 0 to 100\n",
      "Data columns (total 2 columns):\n",
      " #   Column           Non-Null Count  Dtype  \n",
      "---  ------           --------------  -----  \n",
      " 0   city             101 non-null    object \n",
      " 1   average_flights  101 non-null    float64\n",
      "dtypes: float64(1), object(1)\n",
      "memory usage: 1.7+ KB\n"
     ]
    }
   ],
   "source": [
    "query_3 = pd.read_csv('/datasets/query_3.csv')\n",
    "display(query_3.head(20))\n",
    "query_3.info()"
   ]
  },
  {
   "cell_type": "code",
   "execution_count": 5,
   "metadata": {},
   "outputs": [
    {
     "name": "stdout",
     "output_type": "stream",
     "text": [
      "Количество дубликатов в query_3: 0\n"
     ]
    }
   ],
   "source": [
    "#проверяем на дубликаты\n",
    "print('Количество дубликатов в query_3:', query_3.duplicated().sum())"
   ]
  },
  {
   "cell_type": "markdown",
   "metadata": {},
   "source": [
    ">* Пропуски в данных отсутствуют  \n",
    ">* Тип данных верный  \n",
    ">* Дубликатов нет  \n",
    ">* Странных или выбивающихся значений нет\n"
   ]
  },
  {
   "cell_type": "markdown",
   "metadata": {},
   "source": [
    "## Анализ данных"
   ]
  },
  {
   "cell_type": "markdown",
   "metadata": {},
   "source": [
    "### ТОП-10 городов по количеству рейсов"
   ]
  },
  {
   "cell_type": "code",
   "execution_count": 6,
   "metadata": {},
   "outputs": [
    {
     "name": "stdout",
     "output_type": "stream",
     "text": [
      "               city  average_flights\n",
      "43           Москва       129.774194\n",
      "70  Санкт-Петербург        31.161290\n",
      "54      Новосибирск        17.322581\n",
      "33       Красноярск        11.580645\n",
      "20     Екатеринбург        11.322581\n",
      "67   Ростов-на-Дону        10.193548\n",
      "63            Пермь        10.129032\n",
      "10           Брянск        10.000000\n",
      "74             Сочи         9.612903\n",
      "84        Ульяновск         9.580645\n"
     ]
    }
   ],
   "source": [
    "top_10cities_flights = query_3.sort_values(by='average_flights', ascending=False).head(10) \n",
    "print(top_10cities_flights)"
   ]
  },
  {
   "cell_type": "markdown",
   "metadata": {},
   "source": [
    "### Количество рейсов, совершаемых моделями самолетов"
   ]
  },
  {
   "cell_type": "code",
   "execution_count": 7,
   "metadata": {
    "scrolled": true
   },
   "outputs": [
    {
     "data": {
      "image/png": "[encoded data removed]",
      "text/plain": [
       "<Figure size 1080x360 with 1 Axes>"
      ]
     },
     "metadata": {
      "needs_background": "light"
     },
     "output_type": "display_data"
    }
   ],
   "source": [
    "query_1.sort_values(by='flights_amount').plot(kind = 'bar', x='model', figsize = (15,5), grid = True) #строим график\n",
    "plt.title('Количество рейсов, совершаемых моделями самолета')\n",
    "plt.xlabel('Модель самолета')\n",
    "plt.ylabel('Количество рейсов')\n",
    "plt.show()"
   ]
  },
  {
   "cell_type": "markdown",
   "metadata": {},
   "source": [
    "### Распределение количества рейсов, прибывающих в определенный город"
   ]
  },
  {
   "cell_type": "code",
   "execution_count": 8,
   "metadata": {},
   "outputs": [
    {
     "data": {
      "image/png": "[encoded data removed]",
      "text/plain": [
       "<Figure size 1800x360 with 1 Axes>"
      ]
     },
     "metadata": {
      "needs_background": "light"
     },
     "output_type": "display_data"
    }
   ],
   "source": [
    "query_3.sort_values(by='average_flights').plot(kind = 'bar', x='city', figsize = (25,5), grid = True) \n",
    "plt.title('Распределение количества рейсов по городам')\n",
    "plt.xlabel('Город')\n",
    "plt.ylabel('Количество рейсов')\n",
    "plt.show()"
   ]
  },
  {
   "cell_type": "markdown",
   "metadata": {},
   "source": [
    "### Распределение количества рейсов по ТОП-10 городам"
   ]
  },
  {
   "cell_type": "code",
   "execution_count": 9,
   "metadata": {
    "scrolled": true
   },
   "outputs": [
    {
     "data": {
      "image/png": "[encoded data removed]",
      "text/plain": [
       "<Figure size 1800x360 with 1 Axes>"
      ]
     },
     "metadata": {
      "needs_background": "light"
     },
     "output_type": "display_data"
    }
   ],
   "source": [
    "top_10cities_flights.plot(kind = 'bar', x='city', figsize = (25,5), grid = True) \n",
    "plt.title('Распределение количества рейсов по ТОП-10 городам')\n",
    "plt.xlabel('Город')\n",
    "plt.ylabel('Количество рейсов')\n",
    "plt.show()"
   ]
  },
  {
   "cell_type": "markdown",
   "metadata": {},
   "source": [
    "## Результаты исследования"
   ]
  },
  {
   "cell_type": "markdown",
   "metadata": {},
   "source": [
    "1. Модели самолетов Bombardier CRJ-200, Cessna 208 Caravan\t4557, Sukhoi SuperJet-100 совершают примерно в 4,5 раза больше рейсов, чем остальные модели самолетов. Они лидируют с большим отрывом  \n",
    "2. Москва, как город, в который прибывают рейсы, лидирует также с большим отрывом. По сравнению с другими городами (не включая Санкт-Петербург) в Москву прилетает более чем в 7,5 раза больше рейсов.  \n",
    "3. В Санкт-Петербург по сравнению с другими городами прилетает примерно в 1,82 раза больше рейсов. По сравнению с Москвой в Санкт-Петербург прилетает в 4 раза меньше рейсов. Москва является несомненым лидером.  \n",
    "4. Тройкой лидеров являются: Москва, СПб и Новосибирск. Остальные города в ТОП-10 характеризуются примерно одинаковым количеством рейсов\n"
   ]
  }
 ],
 "metadata": {
  "ExecuteTimeLog": [
   {
    "duration": 431,
    "start_time": "2021-09-12T08:53:50.770Z"
   },
   {
    "duration": 763,
    "start_time": "2021-09-12T08:54:04.430Z"
   },
   {
    "duration": 354,
    "start_time": "2021-09-12T08:54:05.195Z"
   },
   {
    "duration": 27,
    "start_time": "2021-09-12T08:54:36.031Z"
   },
   {
    "duration": 52,
    "start_time": "2021-09-12T08:55:12.852Z"
   },
   {
    "duration": 365,
    "start_time": "2021-09-12T08:55:24.347Z"
   },
   {
    "duration": 26,
    "start_time": "2021-09-12T08:55:35.290Z"
   },
   {
    "duration": 341,
    "start_time": "2021-09-12T08:55:42.035Z"
   },
   {
    "duration": 30,
    "start_time": "2021-09-12T08:56:08.803Z"
   },
   {
    "duration": 312,
    "start_time": "2021-09-12T09:03:48.764Z"
   },
   {
    "duration": 36,
    "start_time": "2021-09-12T09:04:10.777Z"
   },
   {
    "duration": 283,
    "start_time": "2021-09-12T09:04:12.649Z"
   },
   {
    "duration": 4,
    "start_time": "2021-09-12T09:04:33.119Z"
   },
   {
    "duration": 4,
    "start_time": "2021-09-12T09:04:36.919Z"
   },
   {
    "duration": 8,
    "start_time": "2021-09-12T09:04:51.720Z"
   },
   {
    "duration": 16,
    "start_time": "2021-09-12T09:05:12.242Z"
   },
   {
    "duration": 17,
    "start_time": "2021-09-12T09:12:01.216Z"
   },
   {
    "duration": 16,
    "start_time": "2021-09-12T09:12:10.986Z"
   },
   {
    "duration": 15,
    "start_time": "2021-09-12T09:12:35.283Z"
   },
   {
    "duration": 4,
    "start_time": "2021-09-12T09:13:01.527Z"
   },
   {
    "duration": 26,
    "start_time": "2021-09-12T09:13:01.714Z"
   },
   {
    "duration": 27,
    "start_time": "2021-09-12T09:13:02.411Z"
   },
   {
    "duration": 16,
    "start_time": "2021-09-12T09:13:06.947Z"
   },
   {
    "duration": 16,
    "start_time": "2021-09-12T09:13:18.215Z"
   },
   {
    "duration": 16,
    "start_time": "2021-09-12T09:14:12.916Z"
   },
   {
    "duration": 333,
    "start_time": "2021-09-12T09:17:44.687Z"
   },
   {
    "duration": 6,
    "start_time": "2021-09-12T09:18:02.362Z"
   },
   {
    "duration": 5,
    "start_time": "2021-09-12T09:18:10.215Z"
   },
   {
    "duration": 11,
    "start_time": "2021-09-12T09:18:40.367Z"
   },
   {
    "duration": 112,
    "start_time": "2021-09-12T09:20:12.184Z"
   },
   {
    "duration": 1476,
    "start_time": "2021-09-12T09:20:12.346Z"
   },
   {
    "duration": 271,
    "start_time": "2021-09-12T09:20:13.825Z"
   },
   {
    "duration": 17,
    "start_time": "2021-09-12T09:20:14.099Z"
   },
   {
    "duration": 12,
    "start_time": "2021-09-12T09:20:14.118Z"
   },
   {
    "duration": 788,
    "start_time": "2021-09-12T09:24:34.697Z"
   },
   {
    "duration": 4,
    "start_time": "2021-09-12T09:26:42.685Z"
   },
   {
    "duration": 28,
    "start_time": "2021-09-12T09:26:43.200Z"
   },
   {
    "duration": 29,
    "start_time": "2021-09-12T09:26:44.148Z"
   },
   {
    "duration": 16,
    "start_time": "2021-09-12T09:26:45.076Z"
   },
   {
    "duration": 12,
    "start_time": "2021-09-12T09:26:45.395Z"
   },
   {
    "duration": 755,
    "start_time": "2021-09-12T09:26:45.730Z"
   },
   {
    "duration": 760,
    "start_time": "2021-09-12T09:28:19.265Z"
   },
   {
    "duration": 912,
    "start_time": "2021-09-12T09:28:54.718Z"
   },
   {
    "duration": 317,
    "start_time": "2021-09-12T09:29:37.908Z"
   },
   {
    "duration": 309,
    "start_time": "2021-09-12T09:29:53.511Z"
   },
   {
    "duration": 3279,
    "start_time": "2021-09-12T09:31:51.847Z"
   },
   {
    "duration": 406,
    "start_time": "2021-09-12T09:38:08.201Z"
   },
   {
    "duration": 394,
    "start_time": "2021-09-12T09:39:09.302Z"
   },
   {
    "duration": 2361,
    "start_time": "2021-09-12T09:41:49.575Z"
   },
   {
    "duration": 2533,
    "start_time": "2021-09-12T09:42:11.209Z"
   },
   {
    "duration": 2471,
    "start_time": "2021-09-12T09:42:20.084Z"
   },
   {
    "duration": 354,
    "start_time": "2021-09-12T09:42:46.292Z"
   },
   {
    "duration": 386,
    "start_time": "2021-09-12T09:42:53.116Z"
   },
   {
    "duration": 727,
    "start_time": "2021-09-12T09:43:18.487Z"
   },
   {
    "duration": 799,
    "start_time": "2021-09-12T09:43:44.946Z"
   },
   {
    "duration": 3,
    "start_time": "2021-09-12T09:43:55.583Z"
   },
   {
    "duration": 26,
    "start_time": "2021-09-12T09:43:55.827Z"
   },
   {
    "duration": 29,
    "start_time": "2021-09-12T09:43:56.546Z"
   },
   {
    "duration": 17,
    "start_time": "2021-09-12T09:43:57.282Z"
   },
   {
    "duration": 12,
    "start_time": "2021-09-12T09:43:57.716Z"
   },
   {
    "duration": 382,
    "start_time": "2021-09-12T09:43:58.245Z"
   },
   {
    "duration": 704,
    "start_time": "2021-09-12T09:43:59.001Z"
   },
   {
    "duration": 749,
    "start_time": "2021-09-12T09:44:54.332Z"
   },
   {
    "duration": 702,
    "start_time": "2021-09-12T09:45:18.181Z"
   },
   {
    "duration": 2384,
    "start_time": "2021-09-12T09:46:25.131Z"
   },
   {
    "duration": 2487,
    "start_time": "2021-09-12T09:47:00.744Z"
   },
   {
    "duration": 341,
    "start_time": "2021-09-12T09:48:18.388Z"
   },
   {
    "duration": 362,
    "start_time": "2021-09-12T09:48:38.678Z"
   },
   {
    "duration": 349,
    "start_time": "2021-09-12T09:48:49.962Z"
   },
   {
    "duration": 598,
    "start_time": "2021-09-12T09:49:14.193Z"
   },
   {
    "duration": 1052,
    "start_time": "2021-09-12T09:49:35.663Z"
   },
   {
    "duration": 1046,
    "start_time": "2021-09-12T09:49:47.922Z"
   },
   {
    "duration": 2403,
    "start_time": "2021-09-12T09:51:55.819Z"
   },
   {
    "duration": 4,
    "start_time": "2021-09-12T09:52:36.725Z"
   },
   {
    "duration": 25,
    "start_time": "2021-09-12T09:52:36.992Z"
   },
   {
    "duration": 30,
    "start_time": "2021-09-12T09:52:37.510Z"
   },
   {
    "duration": 18,
    "start_time": "2021-09-12T09:52:38.199Z"
   },
   {
    "duration": 18,
    "start_time": "2021-09-12T09:52:38.646Z"
   },
   {
    "duration": 539,
    "start_time": "2021-09-12T09:52:39.081Z"
   },
   {
    "duration": 2813,
    "start_time": "2021-09-12T09:52:39.624Z"
   },
   {
    "duration": 2547,
    "start_time": "2021-09-12T09:52:42.440Z"
   },
   {
    "duration": 3102,
    "start_time": "2021-09-12T09:52:49.868Z"
   },
   {
    "duration": 2961,
    "start_time": "2021-09-12T09:52:52.972Z"
   },
   {
    "duration": 3136,
    "start_time": "2021-09-12T09:53:15.303Z"
   },
   {
    "duration": 5,
    "start_time": "2021-09-12T09:54:17.158Z"
   },
   {
    "duration": 1489,
    "start_time": "2021-09-12T09:54:17.323Z"
   },
   {
    "duration": 42,
    "start_time": "2021-09-12T09:54:18.815Z"
   },
   {
    "duration": 20,
    "start_time": "2021-09-12T09:54:18.861Z"
   },
   {
    "duration": 39,
    "start_time": "2021-09-12T09:54:18.883Z"
   },
   {
    "duration": 438,
    "start_time": "2021-09-12T09:54:19.009Z"
   },
   {
    "duration": 3292,
    "start_time": "2021-09-12T09:54:19.870Z"
   },
   {
    "duration": 3220,
    "start_time": "2021-09-12T09:54:25.463Z"
   },
   {
    "duration": 9,
    "start_time": "2021-09-12T09:56:24.522Z"
   },
   {
    "duration": 8,
    "start_time": "2021-09-12T09:56:33.038Z"
   },
   {
    "duration": 548,
    "start_time": "2021-09-12T09:56:33.442Z"
   },
   {
    "duration": 2497,
    "start_time": "2021-09-12T09:56:33.993Z"
   },
   {
    "duration": 532,
    "start_time": "2021-09-12T09:56:36.493Z"
   },
   {
    "duration": 3,
    "start_time": "2021-09-12T09:57:56.832Z"
   },
   {
    "duration": 403,
    "start_time": "2021-09-12T09:57:57.463Z"
   },
   {
    "duration": 2462,
    "start_time": "2021-09-12T09:57:57.961Z"
   },
   {
    "duration": 525,
    "start_time": "2021-09-12T09:58:00.426Z"
   },
   {
    "duration": 397,
    "start_time": "2021-09-12T09:58:21.756Z"
   },
   {
    "duration": 2448,
    "start_time": "2021-09-12T09:58:22.217Z"
   },
   {
    "duration": 520,
    "start_time": "2021-09-12T09:58:24.668Z"
   },
   {
    "duration": 355,
    "start_time": "2021-09-12T15:29:37.815Z"
   },
   {
    "duration": 819,
    "start_time": "2021-09-12T15:30:33.313Z"
   },
   {
    "duration": 30,
    "start_time": "2021-09-12T15:30:34.613Z"
   },
   {
    "duration": 6,
    "start_time": "2021-09-12T15:30:35.360Z"
   },
   {
    "duration": 26,
    "start_time": "2021-09-12T15:30:55.712Z"
   },
   {
    "duration": 6,
    "start_time": "2021-09-12T15:31:14.307Z"
   },
   {
    "duration": 414,
    "start_time": "2021-09-12T15:32:58.308Z"
   },
   {
    "duration": 3,
    "start_time": "2021-09-12T15:33:30.738Z"
   },
   {
    "duration": 26,
    "start_time": "2021-09-12T15:33:32.701Z"
   },
   {
    "duration": 6,
    "start_time": "2021-09-12T15:33:33.566Z"
   },
   {
    "duration": 26,
    "start_time": "2021-09-12T15:33:35.758Z"
   },
   {
    "duration": 6,
    "start_time": "2021-09-12T15:33:36.614Z"
   },
   {
    "duration": 9,
    "start_time": "2021-09-12T15:35:48.995Z"
   },
   {
    "duration": 7,
    "start_time": "2021-09-12T15:36:20.654Z"
   },
   {
    "duration": 381,
    "start_time": "2021-09-12T15:36:21.971Z"
   },
   {
    "duration": 2289,
    "start_time": "2021-09-12T15:36:24.226Z"
   },
   {
    "duration": 504,
    "start_time": "2021-09-12T15:36:32.767Z"
   },
   {
    "duration": 9,
    "start_time": "2021-09-12T15:39:18.891Z"
   },
   {
    "duration": 377,
    "start_time": "2021-09-12T15:39:19.919Z"
   },
   {
    "duration": 2184,
    "start_time": "2021-09-12T15:39:20.988Z"
   },
   {
    "duration": 489,
    "start_time": "2021-09-12T15:39:23.175Z"
   },
   {
    "duration": 1138,
    "start_time": "2022-04-08T08:05:49.147Z"
   },
   {
    "duration": 47,
    "start_time": "2022-04-08T08:06:42.124Z"
   },
   {
    "duration": 5,
    "start_time": "2022-04-08T08:07:10.485Z"
   },
   {
    "duration": 19,
    "start_time": "2022-04-08T08:10:32.839Z"
   },
   {
    "duration": 5,
    "start_time": "2022-04-08T08:10:44.783Z"
   },
   {
    "duration": 43,
    "start_time": "2022-04-08T08:14:07.529Z"
   },
   {
    "duration": 4,
    "start_time": "2022-04-08T08:14:20.595Z"
   },
   {
    "duration": 6,
    "start_time": "2022-04-08T08:18:03.101Z"
   },
   {
    "duration": 190,
    "start_time": "2022-04-08T08:23:49.806Z"
   },
   {
    "duration": 1568,
    "start_time": "2022-04-08T08:26:00.374Z"
   },
   {
    "duration": 181,
    "start_time": "2022-04-08T08:29:59.528Z"
   },
   {
    "duration": 203,
    "start_time": "2022-04-08T08:31:35.615Z"
   },
   {
    "duration": 3,
    "start_time": "2022-04-08T08:36:14.574Z"
   },
   {
    "duration": 21,
    "start_time": "2022-04-08T08:36:14.579Z"
   },
   {
    "duration": 4,
    "start_time": "2022-04-08T08:36:14.603Z"
   },
   {
    "duration": 23,
    "start_time": "2022-04-08T08:36:14.609Z"
   },
   {
    "duration": 4,
    "start_time": "2022-04-08T08:36:14.635Z"
   },
   {
    "duration": 7,
    "start_time": "2022-04-08T08:36:14.641Z"
   },
   {
    "duration": 203,
    "start_time": "2022-04-08T08:36:14.650Z"
   },
   {
    "duration": 1526,
    "start_time": "2022-04-08T08:36:14.855Z"
   },
   {
    "duration": 222,
    "start_time": "2022-04-08T08:36:16.383Z"
   },
   {
    "duration": 599,
    "start_time": "2022-04-08T08:36:45.072Z"
   },
   {
    "duration": 25,
    "start_time": "2022-04-08T08:36:45.674Z"
   },
   {
    "duration": 5,
    "start_time": "2022-04-08T08:36:45.701Z"
   },
   {
    "duration": 34,
    "start_time": "2022-04-08T08:36:45.708Z"
   },
   {
    "duration": 4,
    "start_time": "2022-04-08T08:36:45.744Z"
   },
   {
    "duration": 7,
    "start_time": "2022-04-08T08:36:45.751Z"
   },
   {
    "duration": 211,
    "start_time": "2022-04-08T08:36:45.760Z"
   },
   {
    "duration": 1583,
    "start_time": "2022-04-08T08:36:45.973Z"
   },
   {
    "duration": 234,
    "start_time": "2022-04-08T08:36:47.558Z"
   }
  ],
  "kernelspec": {
   "display_name": "Python 3 (ipykernel)",
   "language": "python",
   "name": "python3"
  },
  "language_info": {
   "codemirror_mode": {
    "name": "ipython",
    "version": 3
   },
   "file_extension": ".py",
   "mimetype": "text/x-python",
   "name": "python",
   "nbconvert_exporter": "python",
   "pygments_lexer": "ipython3",
   "version": "3.9.5"
  },
  "toc": {
   "base_numbering": 1,
   "nav_menu": {},
   "number_sections": true,
   "sideBar": true,
   "skip_h1_title": true,
   "title_cell": "Table of Contents",
   "title_sidebar": "Contents",
   "toc_cell": false,
   "toc_position": {},
   "toc_section_display": true,
   "toc_window_display": false
  }
 },
 "nbformat": 4,
 "nbformat_minor": 2
}
