{
 "cells": [
  {
   "cell_type": "markdown",
   "metadata": {},
   "source": [
    "# Исследование объявлений о продаже квартир"
   ]
  },
  {
   "cell_type": "markdown",
   "metadata": {},
   "source": [
    "## Импорт библиотек"
   ]
  },
  {
   "cell_type": "code",
   "execution_count": 1,
   "metadata": {},
   "outputs": [],
   "source": [
    "import matplotlib.pyplot as plt\n",
    "import pandas as pd"
   ]
  },
  {
   "cell_type": "markdown",
   "metadata": {},
   "source": [
    "## Изучение даннных из файла"
   ]
  },
  {
   "cell_type": "code",
   "execution_count": 2,
   "metadata": {},
   "outputs": [
    {
     "data": {
      "text/html": [
       "<div>\n",
       "<style scoped>\n",
       "    .dataframe tbody tr th:only-of-type {\n",
       "        vertical-align: middle;\n",
       "    }\n",
       "\n",
       "    .dataframe tbody tr th {\n",
       "        vertical-align: top;\n",
       "    }\n",
       "\n",
       "    .dataframe thead th {\n",
       "        text-align: right;\n",
       "    }\n",
       "</style>\n",
       "<table border=\"1\" class=\"dataframe\">\n",
       "  <thead>\n",
       "    <tr style=\"text-align: right;\">\n",
       "      <th></th>\n",
       "      <th>total_images</th>\n",
       "      <th>last_price</th>\n",
       "      <th>total_area</th>\n",
       "      <th>first_day_exposition</th>\n",
       "      <th>rooms</th>\n",
       "      <th>ceiling_height</th>\n",
       "      <th>floors_total</th>\n",
       "      <th>living_area</th>\n",
       "      <th>floor</th>\n",
       "      <th>is_apartment</th>\n",
       "      <th>...</th>\n",
       "      <th>kitchen_area</th>\n",
       "      <th>balcony</th>\n",
       "      <th>locality_name</th>\n",
       "      <th>airports_nearest</th>\n",
       "      <th>cityCenters_nearest</th>\n",
       "      <th>parks_around3000</th>\n",
       "      <th>parks_nearest</th>\n",
       "      <th>ponds_around3000</th>\n",
       "      <th>ponds_nearest</th>\n",
       "      <th>days_exposition</th>\n",
       "    </tr>\n",
       "  </thead>\n",
       "  <tbody>\n",
       "    <tr>\n",
       "      <th>0</th>\n",
       "      <td>20</td>\n",
       "      <td>13000000.0</td>\n",
       "      <td>108.00</td>\n",
       "      <td>2019-03-07T00:00:00</td>\n",
       "      <td>3</td>\n",
       "      <td>2.70</td>\n",
       "      <td>16.0</td>\n",
       "      <td>51.00</td>\n",
       "      <td>8</td>\n",
       "      <td>NaN</td>\n",
       "      <td>...</td>\n",
       "      <td>25.00</td>\n",
       "      <td>NaN</td>\n",
       "      <td>Санкт-Петербург</td>\n",
       "      <td>18863.0</td>\n",
       "      <td>16028.0</td>\n",
       "      <td>1.0</td>\n",
       "      <td>482.0</td>\n",
       "      <td>2.0</td>\n",
       "      <td>755.0</td>\n",
       "      <td>NaN</td>\n",
       "    </tr>\n",
       "    <tr>\n",
       "      <th>1</th>\n",
       "      <td>7</td>\n",
       "      <td>3350000.0</td>\n",
       "      <td>40.40</td>\n",
       "      <td>2018-12-04T00:00:00</td>\n",
       "      <td>1</td>\n",
       "      <td>NaN</td>\n",
       "      <td>11.0</td>\n",
       "      <td>18.60</td>\n",
       "      <td>1</td>\n",
       "      <td>NaN</td>\n",
       "      <td>...</td>\n",
       "      <td>11.00</td>\n",
       "      <td>2.0</td>\n",
       "      <td>посёлок Шушары</td>\n",
       "      <td>12817.0</td>\n",
       "      <td>18603.0</td>\n",
       "      <td>0.0</td>\n",
       "      <td>NaN</td>\n",
       "      <td>0.0</td>\n",
       "      <td>NaN</td>\n",
       "      <td>81.0</td>\n",
       "    </tr>\n",
       "    <tr>\n",
       "      <th>2</th>\n",
       "      <td>10</td>\n",
       "      <td>5196000.0</td>\n",
       "      <td>56.00</td>\n",
       "      <td>2015-08-20T00:00:00</td>\n",
       "      <td>2</td>\n",
       "      <td>NaN</td>\n",
       "      <td>5.0</td>\n",
       "      <td>34.30</td>\n",
       "      <td>4</td>\n",
       "      <td>NaN</td>\n",
       "      <td>...</td>\n",
       "      <td>8.30</td>\n",
       "      <td>0.0</td>\n",
       "      <td>Санкт-Петербург</td>\n",
       "      <td>21741.0</td>\n",
       "      <td>13933.0</td>\n",
       "      <td>1.0</td>\n",
       "      <td>90.0</td>\n",
       "      <td>2.0</td>\n",
       "      <td>574.0</td>\n",
       "      <td>558.0</td>\n",
       "    </tr>\n",
       "    <tr>\n",
       "      <th>3</th>\n",
       "      <td>0</td>\n",
       "      <td>64900000.0</td>\n",
       "      <td>159.00</td>\n",
       "      <td>2015-07-24T00:00:00</td>\n",
       "      <td>3</td>\n",
       "      <td>NaN</td>\n",
       "      <td>14.0</td>\n",
       "      <td>NaN</td>\n",
       "      <td>9</td>\n",
       "      <td>NaN</td>\n",
       "      <td>...</td>\n",
       "      <td>NaN</td>\n",
       "      <td>0.0</td>\n",
       "      <td>Санкт-Петербург</td>\n",
       "      <td>28098.0</td>\n",
       "      <td>6800.0</td>\n",
       "      <td>2.0</td>\n",
       "      <td>84.0</td>\n",
       "      <td>3.0</td>\n",
       "      <td>234.0</td>\n",
       "      <td>424.0</td>\n",
       "    </tr>\n",
       "    <tr>\n",
       "      <th>4</th>\n",
       "      <td>2</td>\n",
       "      <td>10000000.0</td>\n",
       "      <td>100.00</td>\n",
       "      <td>2018-06-19T00:00:00</td>\n",
       "      <td>2</td>\n",
       "      <td>3.03</td>\n",
       "      <td>14.0</td>\n",
       "      <td>32.00</td>\n",
       "      <td>13</td>\n",
       "      <td>NaN</td>\n",
       "      <td>...</td>\n",
       "      <td>41.00</td>\n",
       "      <td>NaN</td>\n",
       "      <td>Санкт-Петербург</td>\n",
       "      <td>31856.0</td>\n",
       "      <td>8098.0</td>\n",
       "      <td>2.0</td>\n",
       "      <td>112.0</td>\n",
       "      <td>1.0</td>\n",
       "      <td>48.0</td>\n",
       "      <td>121.0</td>\n",
       "    </tr>\n",
       "    <tr>\n",
       "      <th>5</th>\n",
       "      <td>10</td>\n",
       "      <td>2890000.0</td>\n",
       "      <td>30.40</td>\n",
       "      <td>2018-09-10T00:00:00</td>\n",
       "      <td>1</td>\n",
       "      <td>NaN</td>\n",
       "      <td>12.0</td>\n",
       "      <td>14.40</td>\n",
       "      <td>5</td>\n",
       "      <td>NaN</td>\n",
       "      <td>...</td>\n",
       "      <td>9.10</td>\n",
       "      <td>NaN</td>\n",
       "      <td>городской посёлок Янино-1</td>\n",
       "      <td>NaN</td>\n",
       "      <td>NaN</td>\n",
       "      <td>NaN</td>\n",
       "      <td>NaN</td>\n",
       "      <td>NaN</td>\n",
       "      <td>NaN</td>\n",
       "      <td>55.0</td>\n",
       "    </tr>\n",
       "    <tr>\n",
       "      <th>6</th>\n",
       "      <td>6</td>\n",
       "      <td>3700000.0</td>\n",
       "      <td>37.30</td>\n",
       "      <td>2017-11-02T00:00:00</td>\n",
       "      <td>1</td>\n",
       "      <td>NaN</td>\n",
       "      <td>26.0</td>\n",
       "      <td>10.60</td>\n",
       "      <td>6</td>\n",
       "      <td>NaN</td>\n",
       "      <td>...</td>\n",
       "      <td>14.40</td>\n",
       "      <td>1.0</td>\n",
       "      <td>посёлок Парголово</td>\n",
       "      <td>52996.0</td>\n",
       "      <td>19143.0</td>\n",
       "      <td>0.0</td>\n",
       "      <td>NaN</td>\n",
       "      <td>0.0</td>\n",
       "      <td>NaN</td>\n",
       "      <td>155.0</td>\n",
       "    </tr>\n",
       "    <tr>\n",
       "      <th>7</th>\n",
       "      <td>5</td>\n",
       "      <td>7915000.0</td>\n",
       "      <td>71.60</td>\n",
       "      <td>2019-04-18T00:00:00</td>\n",
       "      <td>2</td>\n",
       "      <td>NaN</td>\n",
       "      <td>24.0</td>\n",
       "      <td>NaN</td>\n",
       "      <td>22</td>\n",
       "      <td>NaN</td>\n",
       "      <td>...</td>\n",
       "      <td>18.90</td>\n",
       "      <td>2.0</td>\n",
       "      <td>Санкт-Петербург</td>\n",
       "      <td>23982.0</td>\n",
       "      <td>11634.0</td>\n",
       "      <td>0.0</td>\n",
       "      <td>NaN</td>\n",
       "      <td>0.0</td>\n",
       "      <td>NaN</td>\n",
       "      <td>NaN</td>\n",
       "    </tr>\n",
       "    <tr>\n",
       "      <th>8</th>\n",
       "      <td>20</td>\n",
       "      <td>2900000.0</td>\n",
       "      <td>33.16</td>\n",
       "      <td>2018-05-23T00:00:00</td>\n",
       "      <td>1</td>\n",
       "      <td>NaN</td>\n",
       "      <td>27.0</td>\n",
       "      <td>15.43</td>\n",
       "      <td>26</td>\n",
       "      <td>NaN</td>\n",
       "      <td>...</td>\n",
       "      <td>8.81</td>\n",
       "      <td>NaN</td>\n",
       "      <td>посёлок Мурино</td>\n",
       "      <td>NaN</td>\n",
       "      <td>NaN</td>\n",
       "      <td>NaN</td>\n",
       "      <td>NaN</td>\n",
       "      <td>NaN</td>\n",
       "      <td>NaN</td>\n",
       "      <td>189.0</td>\n",
       "    </tr>\n",
       "    <tr>\n",
       "      <th>9</th>\n",
       "      <td>18</td>\n",
       "      <td>5400000.0</td>\n",
       "      <td>61.00</td>\n",
       "      <td>2017-02-26T00:00:00</td>\n",
       "      <td>3</td>\n",
       "      <td>2.50</td>\n",
       "      <td>9.0</td>\n",
       "      <td>43.60</td>\n",
       "      <td>7</td>\n",
       "      <td>NaN</td>\n",
       "      <td>...</td>\n",
       "      <td>6.50</td>\n",
       "      <td>2.0</td>\n",
       "      <td>Санкт-Петербург</td>\n",
       "      <td>50898.0</td>\n",
       "      <td>15008.0</td>\n",
       "      <td>0.0</td>\n",
       "      <td>NaN</td>\n",
       "      <td>0.0</td>\n",
       "      <td>NaN</td>\n",
       "      <td>289.0</td>\n",
       "    </tr>\n",
       "  </tbody>\n",
       "</table>\n",
       "<p>10 rows × 22 columns</p>\n",
       "</div>"
      ],
      "text/plain": [
       "   total_images  last_price  total_area first_day_exposition  rooms  \\\n",
       "0            20  13000000.0      108.00  2019-03-07T00:00:00      3   \n",
       "1             7   3350000.0       40.40  2018-12-04T00:00:00      1   \n",
       "2            10   5196000.0       56.00  2015-08-20T00:00:00      2   \n",
       "3             0  64900000.0      159.00  2015-07-24T00:00:00      3   \n",
       "4             2  10000000.0      100.00  2018-06-19T00:00:00      2   \n",
       "5            10   2890000.0       30.40  2018-09-10T00:00:00      1   \n",
       "6             6   3700000.0       37.30  2017-11-02T00:00:00      1   \n",
       "7             5   7915000.0       71.60  2019-04-18T00:00:00      2   \n",
       "8            20   2900000.0       33.16  2018-05-23T00:00:00      1   \n",
       "9            18   5400000.0       61.00  2017-02-26T00:00:00      3   \n",
       "\n",
       "   ceiling_height  floors_total  living_area  floor is_apartment  ...  \\\n",
       "0            2.70          16.0        51.00      8          NaN  ...   \n",
       "1             NaN          11.0        18.60      1          NaN  ...   \n",
       "2             NaN           5.0        34.30      4          NaN  ...   \n",
       "3             NaN          14.0          NaN      9          NaN  ...   \n",
       "4            3.03          14.0        32.00     13          NaN  ...   \n",
       "5             NaN          12.0        14.40      5          NaN  ...   \n",
       "6             NaN          26.0        10.60      6          NaN  ...   \n",
       "7             NaN          24.0          NaN     22          NaN  ...   \n",
       "8             NaN          27.0        15.43     26          NaN  ...   \n",
       "9            2.50           9.0        43.60      7          NaN  ...   \n",
       "\n",
       "   kitchen_area  balcony              locality_name  airports_nearest  \\\n",
       "0         25.00      NaN            Санкт-Петербург           18863.0   \n",
       "1         11.00      2.0             посёлок Шушары           12817.0   \n",
       "2          8.30      0.0            Санкт-Петербург           21741.0   \n",
       "3           NaN      0.0            Санкт-Петербург           28098.0   \n",
       "4         41.00      NaN            Санкт-Петербург           31856.0   \n",
       "5          9.10      NaN  городской посёлок Янино-1               NaN   \n",
       "6         14.40      1.0          посёлок Парголово           52996.0   \n",
       "7         18.90      2.0            Санкт-Петербург           23982.0   \n",
       "8          8.81      NaN             посёлок Мурино               NaN   \n",
       "9          6.50      2.0            Санкт-Петербург           50898.0   \n",
       "\n",
       "  cityCenters_nearest  parks_around3000  parks_nearest  ponds_around3000  \\\n",
       "0             16028.0               1.0          482.0               2.0   \n",
       "1             18603.0               0.0            NaN               0.0   \n",
       "2             13933.0               1.0           90.0               2.0   \n",
       "3              6800.0               2.0           84.0               3.0   \n",
       "4              8098.0               2.0          112.0               1.0   \n",
       "5                 NaN               NaN            NaN               NaN   \n",
       "6             19143.0               0.0            NaN               0.0   \n",
       "7             11634.0               0.0            NaN               0.0   \n",
       "8                 NaN               NaN            NaN               NaN   \n",
       "9             15008.0               0.0            NaN               0.0   \n",
       "\n",
       "   ponds_nearest  days_exposition  \n",
       "0          755.0              NaN  \n",
       "1            NaN             81.0  \n",
       "2          574.0            558.0  \n",
       "3          234.0            424.0  \n",
       "4           48.0            121.0  \n",
       "5            NaN             55.0  \n",
       "6            NaN            155.0  \n",
       "7            NaN              NaN  \n",
       "8            NaN            189.0  \n",
       "9            NaN            289.0  \n",
       "\n",
       "[10 rows x 22 columns]"
      ]
     },
     "execution_count": 2,
     "metadata": {},
     "output_type": "execute_result"
    }
   ],
   "source": [
    "real_estate_data = pd.read_csv('/datasets/real_estate_data.csv', sep='\\t')\n",
    "real_estate_data.head(10)"
   ]
  },
  {
   "cell_type": "code",
   "execution_count": 3,
   "metadata": {},
   "outputs": [
    {
     "name": "stdout",
     "output_type": "stream",
     "text": [
      "<class 'pandas.core.frame.DataFrame'>\n",
      "RangeIndex: 23699 entries, 0 to 23698\n",
      "Data columns (total 22 columns):\n",
      " #   Column                Non-Null Count  Dtype  \n",
      "---  ------                --------------  -----  \n",
      " 0   total_images          23699 non-null  int64  \n",
      " 1   last_price            23699 non-null  float64\n",
      " 2   total_area            23699 non-null  float64\n",
      " 3   first_day_exposition  23699 non-null  object \n",
      " 4   rooms                 23699 non-null  int64  \n",
      " 5   ceiling_height        14504 non-null  float64\n",
      " 6   floors_total          23613 non-null  float64\n",
      " 7   living_area           21796 non-null  float64\n",
      " 8   floor                 23699 non-null  int64  \n",
      " 9   is_apartment          2775 non-null   object \n",
      " 10  studio                23699 non-null  bool   \n",
      " 11  open_plan             23699 non-null  bool   \n",
      " 12  kitchen_area          21421 non-null  float64\n",
      " 13  balcony               12180 non-null  float64\n",
      " 14  locality_name         23650 non-null  object \n",
      " 15  airports_nearest      18157 non-null  float64\n",
      " 16  cityCenters_nearest   18180 non-null  float64\n",
      " 17  parks_around3000      18181 non-null  float64\n",
      " 18  parks_nearest         8079 non-null   float64\n",
      " 19  ponds_around3000      18181 non-null  float64\n",
      " 20  ponds_nearest         9110 non-null   float64\n",
      " 21  days_exposition       20518 non-null  float64\n",
      "dtypes: bool(2), float64(14), int64(3), object(3)\n",
      "memory usage: 3.7+ MB\n"
     ]
    }
   ],
   "source": [
    "real_estate_data.info()"
   ]
  },
  {
   "cell_type": "markdown",
   "metadata": {},
   "source": [
    ">1. Есть пропущенные значения во многих столбцах. Для решения задачи из столбцов, с пропущенными значениями, нам интересны только: ceiling_height, floors_total, living_area, kitchen_area, balcony, locality_name, cityCenters_nearest, days_exposition. Посмотрим на количество пропущенных значений в этих столбцах\n",
    ">2. Разберемся с пропусками в нужных столбцах, заменим их, остальные можно не трогать для экономии времени\n",
    ">3. Поищем дубликаты\n",
    ">4. Стоит присвоить целочисленные значения столбцам: floors_total, balcony, days_exposition\n",
    ">5. Приведем стоимость в рублях к млн. рублей\n",
    ">6. Приведем удаленность от центра в метрах к километрам\n",
    ">7. Присвоим временной формат данных столбцу first_day_exposition"
   ]
  },
  {
   "cell_type": "markdown",
   "metadata": {},
   "source": [
    "## Предобработка данных"
   ]
  },
  {
   "cell_type": "markdown",
   "metadata": {},
   "source": [
    "###  Изучение количества пропусков"
   ]
  },
  {
   "cell_type": "code",
   "execution_count": 4,
   "metadata": {},
   "outputs": [
    {
     "data": {
      "text/plain": [
       "total_images                0\n",
       "last_price                  0\n",
       "total_area                  0\n",
       "first_day_exposition        0\n",
       "rooms                       0\n",
       "ceiling_height           9195\n",
       "floors_total               86\n",
       "living_area              1903\n",
       "floor                       0\n",
       "is_apartment            20924\n",
       "studio                      0\n",
       "open_plan                   0\n",
       "kitchen_area             2278\n",
       "balcony                 11519\n",
       "locality_name              49\n",
       "airports_nearest         5542\n",
       "cityCenters_nearest      5519\n",
       "parks_around3000         5518\n",
       "parks_nearest           15620\n",
       "ponds_around3000         5518\n",
       "ponds_nearest           14589\n",
       "days_exposition          3181\n",
       "dtype: int64"
      ]
     },
     "execution_count": 4,
     "metadata": {},
     "output_type": "execute_result"
    }
   ],
   "source": [
    "real_estate_data.isnull().sum()"
   ]
  },
  {
   "cell_type": "markdown",
   "metadata": {},
   "source": [
    ">\n",
    ">**ceiling_height** - почти 39% значений пропущено. С этим, конечно, хотелось бы что-то сделать. Но во-первых, этот параметр нам нужно анализировать только для центра Санкт-Петербурга и скорее всего после всех манипуляций, процент отсутствующих данных значительно сократиться и никак не повлияет на выводы, а во вторых, высоту потолков мы все равно никак заменить не сможем  \n",
    ">\n",
    ">**floors_total** - 0,36% значений пропущено. Можем оставить пропуски, на общие выводы их отсутствие никак не повлияет  \n",
    ">\n",
    ">**living_area** - 8% значений пропущено. Можем оставить этот столбец, как есть. В любом случае жилую площадь никак не рассчитать  \n",
    ">\n",
    ">**kitchen_area** - 9,6% значений пропущено. Оставляем пустые данные. Процент пропусков небольшой  \n",
    ">\n",
    ">**balcony** - почти 49% значений пропущено. Здесь можем заменить пропущенные значения на 0, поскольку, вероятнее всего, отсутствие данных означает отсутствие балкона в принципе  \n",
    ">\n",
    ">**locality_name** - всего 0,2% данных пропущено. Отсутствие этих данных никак не повлияет на выводы  \n",
    ">\n",
    ">**cityCenters_nearest** - 23% данных отсутствуют. Для решения задачи нас интересует только удаленность от центра в Санкт-Петербурге, поскольку точной локации в СПб не указано, посмотрим сколько пропущенных значений именно в СПб и повлияют ли они на принятие решения   > \n",
    ">**days_exposition** - 13% данных отсутствует. Для решения задачи, на мой взгляд, можно оставить как есть"
   ]
  },
  {
   "cell_type": "markdown",
   "metadata": {},
   "source": [
    "### Замена пропущенных данных в balcony"
   ]
  },
  {
   "cell_type": "code",
   "execution_count": 5,
   "metadata": {},
   "outputs": [],
   "source": [
    "real_estate_data['balcony'] = real_estate_data['balcony'].fillna(0)\n",
    "#real_estate_data.info() #проверяем"
   ]
  },
  {
   "cell_type": "markdown",
   "metadata": {},
   "source": [
    "### Проверка количества пропущенных данных в cityCenters_nearest по СПб"
   ]
  },
  {
   "cell_type": "code",
   "execution_count": 6,
   "metadata": {},
   "outputs": [
    {
     "data": {
      "text/plain": [
       "Санкт-Петербург    61\n",
       "Name: locality_name, dtype: int64"
      ]
     },
     "execution_count": 6,
     "metadata": {},
     "output_type": "execute_result"
    }
   ],
   "source": [
    "real_estate_data[(real_estate_data['cityCenters_nearest'].isnull() == True) & (real_estate_data['locality_name'] == 'Санкт-Петербург')]['locality_name'].value_counts()\n"
   ]
  },
  {
   "cell_type": "markdown",
   "metadata": {},
   "source": [
    "> Даных пропущено немного"
   ]
  },
  {
   "cell_type": "markdown",
   "metadata": {},
   "source": [
    "### Поиcк дубликатов"
   ]
  },
  {
   "cell_type": "code",
   "execution_count": 7,
   "metadata": {},
   "outputs": [
    {
     "data": {
      "text/plain": [
       "0"
      ]
     },
     "execution_count": 7,
     "metadata": {},
     "output_type": "execute_result"
    }
   ],
   "source": [
    "real_estate_data.duplicated().sum()"
   ]
  },
  {
   "cell_type": "markdown",
   "metadata": {},
   "source": [
    "> Дубликатов не найдено"
   ]
  },
  {
   "cell_type": "markdown",
   "metadata": {},
   "source": [
    "### Изменение типов данных"
   ]
  },
  {
   "cell_type": "code",
   "execution_count": 8,
   "metadata": {},
   "outputs": [
    {
     "name": "stdout",
     "output_type": "stream",
     "text": [
      "<class 'pandas.core.frame.DataFrame'>\n",
      "RangeIndex: 23699 entries, 0 to 23698\n",
      "Data columns (total 22 columns):\n",
      " #   Column                Non-Null Count  Dtype  \n",
      "---  ------                --------------  -----  \n",
      " 0   total_images          23699 non-null  int64  \n",
      " 1   last_price            23699 non-null  float64\n",
      " 2   total_area            23699 non-null  float64\n",
      " 3   first_day_exposition  23699 non-null  object \n",
      " 4   rooms                 23699 non-null  int64  \n",
      " 5   ceiling_height        14504 non-null  float64\n",
      " 6   floors_total          23613 non-null  float64\n",
      " 7   living_area           21796 non-null  float64\n",
      " 8   floor                 23699 non-null  int64  \n",
      " 9   is_apartment          2775 non-null   object \n",
      " 10  studio                23699 non-null  bool   \n",
      " 11  open_plan             23699 non-null  bool   \n",
      " 12  kitchen_area          21421 non-null  float64\n",
      " 13  balcony               23699 non-null  int64  \n",
      " 14  locality_name         23650 non-null  object \n",
      " 15  airports_nearest      18157 non-null  float64\n",
      " 16  cityCenters_nearest   18180 non-null  float64\n",
      " 17  parks_around3000      18181 non-null  float64\n",
      " 18  parks_nearest         8079 non-null   float64\n",
      " 19  ponds_around3000      18181 non-null  float64\n",
      " 20  ponds_nearest         9110 non-null   float64\n",
      " 21  days_exposition       20518 non-null  float64\n",
      "dtypes: bool(2), float64(13), int64(4), object(3)\n",
      "memory usage: 3.7+ MB\n"
     ]
    }
   ],
   "source": [
    "#Присвоим целочисленное значение столбцу balcony\n",
    "real_estate_data['balcony'] = real_estate_data['balcony'].astype(int) \n",
    "real_estate_data.info()"
   ]
  },
  {
   "cell_type": "code",
   "execution_count": 9,
   "metadata": {},
   "outputs": [],
   "source": [
    "#Присвоим временной формат данных столбцу first_day_exposition\n",
    "real_estate_data['first_day_exposition'] = pd.to_datetime(real_estate_data['first_day_exposition'], format='%Y-%m-%dT%H:%M:%S')\n",
    "#real_estate_data.info()"
   ]
  },
  {
   "cell_type": "markdown",
   "metadata": {},
   "source": [
    "### Корректировка данных"
   ]
  },
  {
   "cell_type": "markdown",
   "metadata": {},
   "source": [
    "**Заменим стоимость в рубл. на стоимость в млн. рубл**"
   ]
  },
  {
   "cell_type": "code",
   "execution_count": 10,
   "metadata": {},
   "outputs": [],
   "source": [
    "real_estate_data['last_price'] = real_estate_data['last_price'] / 1000000"
   ]
  },
  {
   "cell_type": "markdown",
   "metadata": {},
   "source": [
    "**Заменим метры в удаленности от центра в километры**"
   ]
  },
  {
   "cell_type": "code",
   "execution_count": 11,
   "metadata": {},
   "outputs": [],
   "source": [
    "real_estate_data['cityCenters_nearest'] = real_estate_data['cityCenters_nearest'] / 1000"
   ]
  },
  {
   "cell_type": "code",
   "execution_count": 12,
   "metadata": {},
   "outputs": [
    {
     "data": {
      "text/plain": [
       "0    16.028\n",
       "1    18.603\n",
       "2    13.933\n",
       "3     6.800\n",
       "4     8.098\n",
       "5       NaN\n",
       "6    19.143\n",
       "7    11.634\n",
       "8       NaN\n",
       "9    15.008\n",
       "Name: cityCenters_nearest, dtype: float64"
      ]
     },
     "execution_count": 12,
     "metadata": {},
     "output_type": "execute_result"
    }
   ],
   "source": [
    "#проверяем что получилось\n",
    "real_estate_data['cityCenters_nearest'].head(10)"
   ]
  },
  {
   "cell_type": "markdown",
   "metadata": {},
   "source": [
    "## Расчёты и добавление результатов в таблицу"
   ]
  },
  {
   "cell_type": "markdown",
   "metadata": {},
   "source": [
    "Считаем и добавляем цену квадратного метра"
   ]
  },
  {
   "cell_type": "code",
   "execution_count": 13,
   "metadata": {},
   "outputs": [],
   "source": [
    "real_estate_data['m2_cost'] = real_estate_data['last_price'] / real_estate_data['total_area']*1000000\n",
    "#real_estate_data.head(10)"
   ]
  },
  {
   "cell_type": "markdown",
   "metadata": {},
   "source": [
    "Добавляем день недели, месяц и год публикации объявления"
   ]
  },
  {
   "cell_type": "code",
   "execution_count": 14,
   "metadata": {},
   "outputs": [],
   "source": [
    "real_estate_data['weekday'] = real_estate_data['first_day_exposition'].dt.weekday\n",
    "real_estate_data['month'] = real_estate_data['first_day_exposition'].dt.month\n",
    "real_estate_data['year'] = real_estate_data['first_day_exposition'].dt.year\n",
    "#real_estate_data.head(10)"
   ]
  },
  {
   "cell_type": "markdown",
   "metadata": {},
   "source": [
    "Добавляем тип этажа квартиры"
   ]
  },
  {
   "cell_type": "code",
   "execution_count": 15,
   "metadata": {},
   "outputs": [],
   "source": [
    "def floor_type(row):\n",
    "    floor = row['floor']\n",
    "    total = row['floors_total']\n",
    "    if floor == 1:\n",
    "        return 'первый'\n",
    "    elif floor == total:\n",
    "        return 'последний'\n",
    "    else:\n",
    "        return 'другой'\n",
    "real_estate_data['floor_type'] = real_estate_data.apply(floor_type, axis=1)\n",
    "#print(real_estate_data['floor_type'].unique())"
   ]
  },
  {
   "cell_type": "markdown",
   "metadata": {},
   "source": [
    "Добавляем соотношение жилой и общей площади"
   ]
  },
  {
   "cell_type": "code",
   "execution_count": 16,
   "metadata": {},
   "outputs": [],
   "source": [
    "real_estate_data['living_total_ratio'] = real_estate_data['living_area'] / real_estate_data['total_area']\n",
    "#real_estate_data.head(10)"
   ]
  },
  {
   "cell_type": "markdown",
   "metadata": {},
   "source": [
    "Добавляем соотношение площади кухни к общей площади"
   ]
  },
  {
   "cell_type": "code",
   "execution_count": 17,
   "metadata": {},
   "outputs": [],
   "source": [
    "real_estate_data['kitchen_total_ratio'] = real_estate_data['kitchen_area'] / real_estate_data['total_area']\n",
    "#real_estate_data.head(10)\n",
    "                                                                                              "
   ]
  },
  {
   "cell_type": "markdown",
   "metadata": {},
   "source": [
    "## Исследовательский анализ данных"
   ]
  },
  {
   "cell_type": "markdown",
   "metadata": {},
   "source": [
    "### Изучение параметров: площадь, цена, число комнат, высота потолков. Построение гистограммы для каждого параметра."
   ]
  },
  {
   "cell_type": "markdown",
   "metadata": {},
   "source": [
    "#### Площадь"
   ]
  },
  {
   "cell_type": "code",
   "execution_count": 18,
   "metadata": {},
   "outputs": [
    {
     "data": {
      "text/plain": [
       "count    23699.000000\n",
       "mean        60.348651\n",
       "std         35.654083\n",
       "min         12.000000\n",
       "25%         40.000000\n",
       "50%         52.000000\n",
       "75%         69.900000\n",
       "max        900.000000\n",
       "Name: total_area, dtype: float64"
      ]
     },
     "execution_count": 18,
     "metadata": {},
     "output_type": "execute_result"
    }
   ],
   "source": [
    "real_estate_data['total_area'].describe()"
   ]
  },
  {
   "cell_type": "code",
   "execution_count": 19,
   "metadata": {},
   "outputs": [
    {
     "data": {
      "image/png": "[encoded data removed]",
      "text/plain": [
       "<Figure size 432x288 with 1 Axes>"
      ]
     },
     "metadata": {
      "needs_background": "light"
     },
     "output_type": "display_data"
    }
   ],
   "source": [
    "real_estate_data['total_area'].hist(bins=10, range=(0, 150))\n",
    "plt.title('Гистограмма распределения площадей')\n",
    "plt.xlabel('площадь квартиры, кв.м.')\n",
    "plt.ylabel('количество квартир, шт.')\n",
    "plt.show()"
   ]
  },
  {
   "cell_type": "markdown",
   "metadata": {},
   "source": [
    "> Ограничили гистограмму наиболее стандартной площадью квартир. Все, что больше 150 кв.м., скорее всего будет относится к 4х комнатным квартирам или квартирам \"премиального\" класса, их частота будет встречаться меньше. Как видно на графике, пик наблюдается в районе 30-45 квадртаных метров. Это похоже на реальность, т.к. это однокомнатные квартиры. Второй пик на стандартных двухкомнатных и далее. До 30 кв. метров наблюдается спад, что тоже похоже на правду. Распределение нормальное."
   ]
  },
  {
   "cell_type": "markdown",
   "metadata": {},
   "source": [
    "#### Цена"
   ]
  },
  {
   "cell_type": "code",
   "execution_count": 20,
   "metadata": {},
   "outputs": [
    {
     "data": {
      "text/plain": [
       "count    23699.000000\n",
       "mean         6.541549\n",
       "std         10.887013\n",
       "min          0.012190\n",
       "25%          3.400000\n",
       "50%          4.650000\n",
       "75%          6.800000\n",
       "max        763.000000\n",
       "Name: last_price, dtype: float64"
      ]
     },
     "execution_count": 20,
     "metadata": {},
     "output_type": "execute_result"
    }
   ],
   "source": [
    "real_estate_data['last_price'].describe()"
   ]
  },
  {
   "cell_type": "code",
   "execution_count": 21,
   "metadata": {},
   "outputs": [
    {
     "data": {
      "image/png": "[encoded data removed]",
      "text/plain": [
       "<Figure size 432x288 with 1 Axes>"
      ]
     },
     "metadata": {
      "needs_background": "light"
     },
     "output_type": "display_data"
    }
   ],
   "source": [
    "real_estate_data['last_price'].hist(bins=20, range=(0, 30))\n",
    "plt.title('Гистограмма распределения цен на недвижимость')\n",
    "plt.xlabel('стоимость квартиры, млн.руб.')\n",
    "plt.ylabel('количество квартир, шт.')\n",
    "plt.show()"
   ]
  },
  {
   "cell_type": "markdown",
   "metadata": {},
   "source": [
    "> Распределение выглядит как нормальное. Ограничили стоимость квартиры 30 млн, исходя из предыдущих данных и максимального метража в 150 квадратов. Как видно на графике - пик наблюдается примерно в отметке 3-4,5 млн. Второй пик - 4,5 - 6 млн, что также логично соответствует разбросу и в площадях квартир. Длинный хвост тянется уже после 15 млн.  Интересно также, что сразу видно, что мы работаем с устаревшими данными. Если бы мы работали с данными, актуальными на сегодняшнюю дату, разброс цен был бы абсолютно другим "
   ]
  },
  {
   "cell_type": "markdown",
   "metadata": {},
   "source": [
    "#### Число комнат"
   ]
  },
  {
   "cell_type": "code",
   "execution_count": 22,
   "metadata": {},
   "outputs": [
    {
     "data": {
      "text/plain": [
       "count    23699.000000\n",
       "mean         2.070636\n",
       "std          1.078405\n",
       "min          0.000000\n",
       "25%          1.000000\n",
       "50%          2.000000\n",
       "75%          3.000000\n",
       "max         19.000000\n",
       "Name: rooms, dtype: float64"
      ]
     },
     "execution_count": 22,
     "metadata": {},
     "output_type": "execute_result"
    }
   ],
   "source": [
    "real_estate_data['rooms'].describe()"
   ]
  },
  {
   "cell_type": "code",
   "execution_count": 23,
   "metadata": {},
   "outputs": [
    {
     "data": {
      "image/png": "[encoded data removed]",
      "text/plain": [
       "<Figure size 432x288 with 1 Axes>"
      ]
     },
     "metadata": {
      "needs_background": "light"
     },
     "output_type": "display_data"
    }
   ],
   "source": [
    "real_estate_data['rooms'].hist(bins=6, range=(0, 10))\n",
    "plt.title('Гистограмма распределения количества комнат')\n",
    "plt.xlabel('количество комнат в квартире, шт')\n",
    "plt.ylabel('количество квартир, шт.')\n",
    "plt.show()"
   ]
  },
  {
   "cell_type": "markdown",
   "metadata": {},
   "source": [
    "> Все довольно логично, если сравнивать с предыдущими графиками. Популярны 1-2 комнатные квартиры, второй пик - 3х комнатные и далее уже идут квартиры с бОльшим количеством комнат"
   ]
  },
  {
   "cell_type": "markdown",
   "metadata": {},
   "source": [
    "#### Высота потолков"
   ]
  },
  {
   "cell_type": "code",
   "execution_count": 24,
   "metadata": {},
   "outputs": [
    {
     "data": {
      "text/plain": [
       "count    14504.000000\n",
       "mean         2.771499\n",
       "std          1.261056\n",
       "min          1.000000\n",
       "25%          2.520000\n",
       "50%          2.650000\n",
       "75%          2.800000\n",
       "max        100.000000\n",
       "Name: ceiling_height, dtype: float64"
      ]
     },
     "execution_count": 24,
     "metadata": {},
     "output_type": "execute_result"
    }
   ],
   "source": [
    "real_estate_data['ceiling_height'].describe()"
   ]
  },
  {
   "cell_type": "code",
   "execution_count": 25,
   "metadata": {},
   "outputs": [
    {
     "data": {
      "image/png": "[encoded data removed]",
      "text/plain": [
       "<Figure size 432x288 with 1 Axes>"
      ]
     },
     "metadata": {
      "needs_background": "light"
     },
     "output_type": "display_data"
    }
   ],
   "source": [
    "real_estate_data['ceiling_height'].hist(bins=5, range=(0, 6))\n",
    "plt.title('Гистограмма распределения высоты потолков')\n",
    "plt.xlabel('высота потолков в квартире, м.')\n",
    "plt.ylabel('количество квартир, шт.')\n",
    "plt.show()"
   ]
  },
  {
   "cell_type": "markdown",
   "metadata": {},
   "source": [
    ">Стандартная ситуация - потолки 2,3-3,7 метра преобладают. После 3,7 наблюдается спад. Сейчас в новостройках уже другое соотношение высоты потолков, и высота 4-5 метров встречается гораздо чаще. 100 метровые потолки больше похоже на ошибку. Возможно, имелось ввиду 10 метров, что вполне возможно для элитного жилья, в котором есть два уровня. Это редкость, но может встречаться"
   ]
  },
  {
   "cell_type": "markdown",
   "metadata": {},
   "source": [
    "### Изучение времени продажи квартир"
   ]
  },
  {
   "cell_type": "code",
   "execution_count": 26,
   "metadata": {},
   "outputs": [
    {
     "data": {
      "text/plain": [
       "count    20518.000000\n",
       "mean       180.888634\n",
       "std        219.727988\n",
       "min          1.000000\n",
       "25%         45.000000\n",
       "50%         95.000000\n",
       "75%        232.000000\n",
       "max       1580.000000\n",
       "Name: days_exposition, dtype: float64"
      ]
     },
     "execution_count": 26,
     "metadata": {},
     "output_type": "execute_result"
    }
   ],
   "source": [
    "real_estate_data['days_exposition'].describe()"
   ]
  },
  {
   "cell_type": "markdown",
   "metadata": {},
   "source": [
    ">Среднее время продажи квартиры - 180 дней, т.е. 6 месяцев. Медиана составляет 95 дней, то есть порядка 3х месяцев. Стандартное отклонение 219, предполагаю, что разброс большой, поскольку в датафрейме у нас присутствуют очень дорогие элитные квартиры, время продажи которых точно составляет более чем полгода. Построим гистограмму, поделив ее на месяцы, так будет удобнее"
   ]
  },
  {
   "cell_type": "code",
   "execution_count": 27,
   "metadata": {},
   "outputs": [
    {
     "data": {
      "text/plain": [
       "<AxesSubplot:>"
      ]
     },
     "execution_count": 27,
     "metadata": {},
     "output_type": "execute_result"
    },
    {
     "data": {
      "image/png": "[encoded data removed]",
      "text/plain": [
       "<Figure size 432x288 with 1 Axes>"
      ]
     },
     "metadata": {
      "needs_background": "light"
     },
     "output_type": "display_data"
    }
   ],
   "source": [
    "real_estate_data['days_exposition'].hist(bins=20, range=(0, 36))"
   ]
  },
  {
   "cell_type": "markdown",
   "metadata": {},
   "source": [
    ">Пики наблюдаются на отрезке от 4 до 7 месяцев. Но наблюдаются и другие пики. Например, на отрезке от 11 до 14 месяцев, от 17 до 22 месяцев. Скорее всего это обсуловлено тем, что у нас есть квартиры, которые выбиваются из средней стоимости. Например, элитные квартиры, квартиры с очень большим количеством комнат (16), квартиры высокого класса, где, например, 1 комната, но стоимость значительно выше средней однушки и так далее. Соответствено и продаются они дольше. Отсюда же и большое стандартное отклонение. Хорошо бы не учитывать такие редкие значения.  \n",
    ">\n",
    ">Быстрой продажой можно считать проажу до 3,5 месяцев. А вот насчет аномально долгой, лучще построить еще один график"
   ]
  },
  {
   "cell_type": "code",
   "execution_count": 28,
   "metadata": {},
   "outputs": [
    {
     "data": {
      "text/plain": [
       "<AxesSubplot:>"
      ]
     },
     "execution_count": 28,
     "metadata": {},
     "output_type": "execute_result"
    },
    {
     "data": {
      "image/png": "[encoded data removed]",
      "text/plain": [
       "<Figure size 432x288 with 1 Axes>"
      ]
     },
     "metadata": {
      "needs_background": "light"
     },
     "output_type": "display_data"
    }
   ],
   "source": [
    "real_estate_data['days_exposition'].hist(bins=5)"
   ]
  },
  {
   "cell_type": "markdown",
   "metadata": {},
   "source": [
    ">К **аномально долгой продаже** можно отнести все, что больше 3,5 лет.   \n",
    ">К **очень долгой**, от 2,5 до 3,5 лет.   \n",
    ">К **долгой** - от года до 2,5  \n",
    ">\n",
    ">В среднем все квартиры продаются за 1 год, что вполне соответствует норме"
   ]
  },
  {
   "cell_type": "markdown",
   "metadata": {},
   "source": [
    "### Редкие и выбивающиеся значения"
   ]
  },
  {
   "cell_type": "markdown",
   "metadata": {},
   "source": [
    "Разберемся, что убирать.   \n",
    "\n",
    "1. **Площадь.** Исходя из гистограммы, думаю, что стоит убрать слишком маленькую площадь квартир (до 30 кв м) и большую после 105 кв.м\n",
    "2. **Цена.** Ограничим данные стоимостью от 2 до 15 млн.\n",
    "3. **Число комнат.** Ограничим от 1 комнаты до 6 комнат\n",
    "5. **Высота потолков.** От 2,3 метров до 3,7 метров\n",
    "6. **Время продажи.** Возьмем отрезок от 60 до 700 дней"
   ]
  },
  {
   "cell_type": "code",
   "execution_count": 29,
   "metadata": {},
   "outputs": [
    {
     "data": {
      "text/html": [
       "<div>\n",
       "<style scoped>\n",
       "    .dataframe tbody tr th:only-of-type {\n",
       "        vertical-align: middle;\n",
       "    }\n",
       "\n",
       "    .dataframe tbody tr th {\n",
       "        vertical-align: top;\n",
       "    }\n",
       "\n",
       "    .dataframe thead th {\n",
       "        text-align: right;\n",
       "    }\n",
       "</style>\n",
       "<table border=\"1\" class=\"dataframe\">\n",
       "  <thead>\n",
       "    <tr style=\"text-align: right;\">\n",
       "      <th></th>\n",
       "      <th>total_images</th>\n",
       "      <th>last_price</th>\n",
       "      <th>total_area</th>\n",
       "      <th>first_day_exposition</th>\n",
       "      <th>rooms</th>\n",
       "      <th>ceiling_height</th>\n",
       "      <th>floors_total</th>\n",
       "      <th>living_area</th>\n",
       "      <th>floor</th>\n",
       "      <th>is_apartment</th>\n",
       "      <th>...</th>\n",
       "      <th>ponds_around3000</th>\n",
       "      <th>ponds_nearest</th>\n",
       "      <th>days_exposition</th>\n",
       "      <th>m2_cost</th>\n",
       "      <th>weekday</th>\n",
       "      <th>month</th>\n",
       "      <th>year</th>\n",
       "      <th>floor_type</th>\n",
       "      <th>living_total_ratio</th>\n",
       "      <th>kitchen_total_ratio</th>\n",
       "    </tr>\n",
       "  </thead>\n",
       "  <tbody>\n",
       "    <tr>\n",
       "      <th>1</th>\n",
       "      <td>7</td>\n",
       "      <td>3.350</td>\n",
       "      <td>40.40</td>\n",
       "      <td>2018-12-04</td>\n",
       "      <td>1</td>\n",
       "      <td>NaN</td>\n",
       "      <td>11.0</td>\n",
       "      <td>18.60</td>\n",
       "      <td>1</td>\n",
       "      <td>NaN</td>\n",
       "      <td>...</td>\n",
       "      <td>0.0</td>\n",
       "      <td>NaN</td>\n",
       "      <td>81.0</td>\n",
       "      <td>82920.792079</td>\n",
       "      <td>1</td>\n",
       "      <td>12</td>\n",
       "      <td>2018</td>\n",
       "      <td>первый</td>\n",
       "      <td>0.460396</td>\n",
       "      <td>0.272277</td>\n",
       "    </tr>\n",
       "    <tr>\n",
       "      <th>2</th>\n",
       "      <td>10</td>\n",
       "      <td>5.196</td>\n",
       "      <td>56.00</td>\n",
       "      <td>2015-08-20</td>\n",
       "      <td>2</td>\n",
       "      <td>NaN</td>\n",
       "      <td>5.0</td>\n",
       "      <td>34.30</td>\n",
       "      <td>4</td>\n",
       "      <td>NaN</td>\n",
       "      <td>...</td>\n",
       "      <td>2.0</td>\n",
       "      <td>574.0</td>\n",
       "      <td>558.0</td>\n",
       "      <td>92785.714286</td>\n",
       "      <td>3</td>\n",
       "      <td>8</td>\n",
       "      <td>2015</td>\n",
       "      <td>другой</td>\n",
       "      <td>0.612500</td>\n",
       "      <td>0.148214</td>\n",
       "    </tr>\n",
       "    <tr>\n",
       "      <th>4</th>\n",
       "      <td>2</td>\n",
       "      <td>10.000</td>\n",
       "      <td>100.00</td>\n",
       "      <td>2018-06-19</td>\n",
       "      <td>2</td>\n",
       "      <td>3.03</td>\n",
       "      <td>14.0</td>\n",
       "      <td>32.00</td>\n",
       "      <td>13</td>\n",
       "      <td>NaN</td>\n",
       "      <td>...</td>\n",
       "      <td>1.0</td>\n",
       "      <td>48.0</td>\n",
       "      <td>121.0</td>\n",
       "      <td>100000.000000</td>\n",
       "      <td>1</td>\n",
       "      <td>6</td>\n",
       "      <td>2018</td>\n",
       "      <td>другой</td>\n",
       "      <td>0.320000</td>\n",
       "      <td>0.410000</td>\n",
       "    </tr>\n",
       "    <tr>\n",
       "      <th>6</th>\n",
       "      <td>6</td>\n",
       "      <td>3.700</td>\n",
       "      <td>37.30</td>\n",
       "      <td>2017-11-02</td>\n",
       "      <td>1</td>\n",
       "      <td>NaN</td>\n",
       "      <td>26.0</td>\n",
       "      <td>10.60</td>\n",
       "      <td>6</td>\n",
       "      <td>NaN</td>\n",
       "      <td>...</td>\n",
       "      <td>0.0</td>\n",
       "      <td>NaN</td>\n",
       "      <td>155.0</td>\n",
       "      <td>99195.710456</td>\n",
       "      <td>3</td>\n",
       "      <td>11</td>\n",
       "      <td>2017</td>\n",
       "      <td>другой</td>\n",
       "      <td>0.284182</td>\n",
       "      <td>0.386059</td>\n",
       "    </tr>\n",
       "    <tr>\n",
       "      <th>7</th>\n",
       "      <td>5</td>\n",
       "      <td>7.915</td>\n",
       "      <td>71.60</td>\n",
       "      <td>2019-04-18</td>\n",
       "      <td>2</td>\n",
       "      <td>NaN</td>\n",
       "      <td>24.0</td>\n",
       "      <td>NaN</td>\n",
       "      <td>22</td>\n",
       "      <td>NaN</td>\n",
       "      <td>...</td>\n",
       "      <td>0.0</td>\n",
       "      <td>NaN</td>\n",
       "      <td>NaN</td>\n",
       "      <td>110544.692737</td>\n",
       "      <td>3</td>\n",
       "      <td>4</td>\n",
       "      <td>2019</td>\n",
       "      <td>другой</td>\n",
       "      <td>NaN</td>\n",
       "      <td>0.263966</td>\n",
       "    </tr>\n",
       "    <tr>\n",
       "      <th>8</th>\n",
       "      <td>20</td>\n",
       "      <td>2.900</td>\n",
       "      <td>33.16</td>\n",
       "      <td>2018-05-23</td>\n",
       "      <td>1</td>\n",
       "      <td>NaN</td>\n",
       "      <td>27.0</td>\n",
       "      <td>15.43</td>\n",
       "      <td>26</td>\n",
       "      <td>NaN</td>\n",
       "      <td>...</td>\n",
       "      <td>NaN</td>\n",
       "      <td>NaN</td>\n",
       "      <td>189.0</td>\n",
       "      <td>87454.764777</td>\n",
       "      <td>2</td>\n",
       "      <td>5</td>\n",
       "      <td>2018</td>\n",
       "      <td>другой</td>\n",
       "      <td>0.465320</td>\n",
       "      <td>0.265682</td>\n",
       "    </tr>\n",
       "    <tr>\n",
       "      <th>9</th>\n",
       "      <td>18</td>\n",
       "      <td>5.400</td>\n",
       "      <td>61.00</td>\n",
       "      <td>2017-02-26</td>\n",
       "      <td>3</td>\n",
       "      <td>2.50</td>\n",
       "      <td>9.0</td>\n",
       "      <td>43.60</td>\n",
       "      <td>7</td>\n",
       "      <td>NaN</td>\n",
       "      <td>...</td>\n",
       "      <td>0.0</td>\n",
       "      <td>NaN</td>\n",
       "      <td>289.0</td>\n",
       "      <td>88524.590164</td>\n",
       "      <td>6</td>\n",
       "      <td>2</td>\n",
       "      <td>2017</td>\n",
       "      <td>другой</td>\n",
       "      <td>0.714754</td>\n",
       "      <td>0.106557</td>\n",
       "    </tr>\n",
       "    <tr>\n",
       "      <th>10</th>\n",
       "      <td>5</td>\n",
       "      <td>5.050</td>\n",
       "      <td>39.60</td>\n",
       "      <td>2017-11-16</td>\n",
       "      <td>1</td>\n",
       "      <td>2.67</td>\n",
       "      <td>12.0</td>\n",
       "      <td>20.30</td>\n",
       "      <td>3</td>\n",
       "      <td>NaN</td>\n",
       "      <td>...</td>\n",
       "      <td>2.0</td>\n",
       "      <td>553.0</td>\n",
       "      <td>137.0</td>\n",
       "      <td>127525.252525</td>\n",
       "      <td>3</td>\n",
       "      <td>11</td>\n",
       "      <td>2017</td>\n",
       "      <td>другой</td>\n",
       "      <td>0.512626</td>\n",
       "      <td>0.214646</td>\n",
       "    </tr>\n",
       "    <tr>\n",
       "      <th>12</th>\n",
       "      <td>10</td>\n",
       "      <td>3.890</td>\n",
       "      <td>54.00</td>\n",
       "      <td>2016-06-30</td>\n",
       "      <td>2</td>\n",
       "      <td>NaN</td>\n",
       "      <td>5.0</td>\n",
       "      <td>30.00</td>\n",
       "      <td>5</td>\n",
       "      <td>NaN</td>\n",
       "      <td>...</td>\n",
       "      <td>NaN</td>\n",
       "      <td>NaN</td>\n",
       "      <td>90.0</td>\n",
       "      <td>72037.037037</td>\n",
       "      <td>3</td>\n",
       "      <td>6</td>\n",
       "      <td>2016</td>\n",
       "      <td>последний</td>\n",
       "      <td>0.555556</td>\n",
       "      <td>0.166667</td>\n",
       "    </tr>\n",
       "    <tr>\n",
       "      <th>13</th>\n",
       "      <td>20</td>\n",
       "      <td>3.550</td>\n",
       "      <td>42.80</td>\n",
       "      <td>2017-07-01</td>\n",
       "      <td>2</td>\n",
       "      <td>2.56</td>\n",
       "      <td>5.0</td>\n",
       "      <td>27.00</td>\n",
       "      <td>5</td>\n",
       "      <td>NaN</td>\n",
       "      <td>...</td>\n",
       "      <td>3.0</td>\n",
       "      <td>298.0</td>\n",
       "      <td>366.0</td>\n",
       "      <td>82943.925234</td>\n",
       "      <td>5</td>\n",
       "      <td>7</td>\n",
       "      <td>2017</td>\n",
       "      <td>последний</td>\n",
       "      <td>0.630841</td>\n",
       "      <td>0.121495</td>\n",
       "    </tr>\n",
       "  </tbody>\n",
       "</table>\n",
       "<p>10 rows × 29 columns</p>\n",
       "</div>"
      ],
      "text/plain": [
       "    total_images  last_price  total_area first_day_exposition  rooms  \\\n",
       "1              7       3.350       40.40           2018-12-04      1   \n",
       "2             10       5.196       56.00           2015-08-20      2   \n",
       "4              2      10.000      100.00           2018-06-19      2   \n",
       "6              6       3.700       37.30           2017-11-02      1   \n",
       "7              5       7.915       71.60           2019-04-18      2   \n",
       "8             20       2.900       33.16           2018-05-23      1   \n",
       "9             18       5.400       61.00           2017-02-26      3   \n",
       "10             5       5.050       39.60           2017-11-16      1   \n",
       "12            10       3.890       54.00           2016-06-30      2   \n",
       "13            20       3.550       42.80           2017-07-01      2   \n",
       "\n",
       "    ceiling_height  floors_total  living_area  floor is_apartment  ...  \\\n",
       "1              NaN          11.0        18.60      1          NaN  ...   \n",
       "2              NaN           5.0        34.30      4          NaN  ...   \n",
       "4             3.03          14.0        32.00     13          NaN  ...   \n",
       "6              NaN          26.0        10.60      6          NaN  ...   \n",
       "7              NaN          24.0          NaN     22          NaN  ...   \n",
       "8              NaN          27.0        15.43     26          NaN  ...   \n",
       "9             2.50           9.0        43.60      7          NaN  ...   \n",
       "10            2.67          12.0        20.30      3          NaN  ...   \n",
       "12             NaN           5.0        30.00      5          NaN  ...   \n",
       "13            2.56           5.0        27.00      5          NaN  ...   \n",
       "\n",
       "    ponds_around3000  ponds_nearest  days_exposition        m2_cost weekday  \\\n",
       "1                0.0            NaN             81.0   82920.792079       1   \n",
       "2                2.0          574.0            558.0   92785.714286       3   \n",
       "4                1.0           48.0            121.0  100000.000000       1   \n",
       "6                0.0            NaN            155.0   99195.710456       3   \n",
       "7                0.0            NaN              NaN  110544.692737       3   \n",
       "8                NaN            NaN            189.0   87454.764777       2   \n",
       "9                0.0            NaN            289.0   88524.590164       6   \n",
       "10               2.0          553.0            137.0  127525.252525       3   \n",
       "12               NaN            NaN             90.0   72037.037037       3   \n",
       "13               3.0          298.0            366.0   82943.925234       5   \n",
       "\n",
       "    month  year  floor_type  living_total_ratio  kitchen_total_ratio  \n",
       "1      12  2018      первый            0.460396             0.272277  \n",
       "2       8  2015      другой            0.612500             0.148214  \n",
       "4       6  2018      другой            0.320000             0.410000  \n",
       "6      11  2017      другой            0.284182             0.386059  \n",
       "7       4  2019      другой                 NaN             0.263966  \n",
       "8       5  2018      другой            0.465320             0.265682  \n",
       "9       2  2017      другой            0.714754             0.106557  \n",
       "10     11  2017      другой            0.512626             0.214646  \n",
       "12      6  2016   последний            0.555556             0.166667  \n",
       "13      7  2017   последний            0.630841             0.121495  \n",
       "\n",
       "[10 rows x 29 columns]"
      ]
     },
     "execution_count": 29,
     "metadata": {},
     "output_type": "execute_result"
    }
   ],
   "source": [
    "real_estate_final = real_estate_data.query('30 <= total_area <= 105 \\\n",
    "    and 1 < last_price <= 15 \\\n",
    "    and 1 <= rooms < 6 \\\n",
    "    and (2.3 <= ceiling_height <= 3.7 or ceiling_height.isna()) \\\n",
    "    and (60 < days_exposition < 700 or days_exposition.isna())')\n",
    "\n",
    "real_estate_final.head(10)"
   ]
  },
  {
   "cell_type": "code",
   "execution_count": 30,
   "metadata": {},
   "outputs": [
    {
     "name": "stdout",
     "output_type": "stream",
     "text": [
      "Осталось 18632 строк из прошлых 23699\n"
     ]
    }
   ],
   "source": [
    "print('Осталось 18632 строк из прошлых', len(real_estate_data))"
   ]
  },
  {
   "cell_type": "markdown",
   "metadata": {},
   "source": [
    ">Избавились от 21% выбросов"
   ]
  },
  {
   "cell_type": "markdown",
   "metadata": {},
   "source": [
    "### Зависимости"
   ]
  },
  {
   "cell_type": "markdown",
   "metadata": {},
   "source": [
    "#### Зависимость цены от площади, числа комнат, удаленности от центра"
   ]
  },
  {
   "cell_type": "code",
   "execution_count": 31,
   "metadata": {},
   "outputs": [
    {
     "name": "stdout",
     "output_type": "stream",
     "text": [
      "Коэффициент корреляции между ценой и площадью: 0.7057485313774354\n",
      "Коэффициент корреляции между ценой и количеством комнат: 0.40157843129331533\n",
      "Коэффициент корреляции между ценой и удаленностью от центра: -0.35692038330309533\n"
     ]
    }
   ],
   "source": [
    "print('Коэффициент корреляции между ценой и площадью:', real_estate_final['last_price'].corr(real_estate_final['total_area']))\n",
    "print('Коэффициент корреляции между ценой и количеством комнат:', real_estate_final['last_price'].corr(real_estate_final['rooms']))\n",
    "print('Коэффициент корреляции между ценой и удаленностью от центра:', real_estate_final['last_price'].corr(real_estate_final['cityCenters_nearest']))\n",
    "\n",
    "\n",
    "\n"
   ]
  },
  {
   "cell_type": "markdown",
   "metadata": {},
   "source": [
    ">Высокий показатель между площадью квартиры и ее ценой. Логично, что чем больше площадь квартиры, тем выше и ее цена.  \n",
    ">\n",
    ">Связь между стоимостью квартиры и количеством комнат есть, однако не сильная. Стоит предположить, что есть ситуации, когда цена растет при увеличении количества комнат и наоборот, но так бывает далеко не всегда. Легко могут быть ситуации, когда большая площадь не говорит о наличии большего количества комнат.  \n",
    ">\n",
    ">С увеличением удаленности квартиры от центра *иногда* ее стоимость уменьшается. Но также есть элитные нецентральные районы, малоэтажные постройки и так далее, в которых стоимость квартир гораздо выше центральных. Исходя из полученного коэффициента я бы не делала выводов по уменьшению стоимости в связи с удаленностью от центра."
   ]
  },
  {
   "cell_type": "markdown",
   "metadata": {},
   "source": [
    "#### Зависимость цены от этажа, на котором расположена квартира"
   ]
  },
  {
   "cell_type": "code",
   "execution_count": 32,
   "metadata": {},
   "outputs": [
    {
     "data": {
      "text/html": [
       "<div>\n",
       "<style scoped>\n",
       "    .dataframe tbody tr th:only-of-type {\n",
       "        vertical-align: middle;\n",
       "    }\n",
       "\n",
       "    .dataframe tbody tr th {\n",
       "        vertical-align: top;\n",
       "    }\n",
       "\n",
       "    .dataframe thead th {\n",
       "        text-align: right;\n",
       "    }\n",
       "</style>\n",
       "<table border=\"1\" class=\"dataframe\">\n",
       "  <thead>\n",
       "    <tr style=\"text-align: right;\">\n",
       "      <th></th>\n",
       "      <th>floor_type</th>\n",
       "      <th>last_price</th>\n",
       "    </tr>\n",
       "  </thead>\n",
       "  <tbody>\n",
       "    <tr>\n",
       "      <th>0</th>\n",
       "      <td>другой</td>\n",
       "      <td>5.453187</td>\n",
       "    </tr>\n",
       "    <tr>\n",
       "      <th>1</th>\n",
       "      <td>первый</td>\n",
       "      <td>4.400903</td>\n",
       "    </tr>\n",
       "    <tr>\n",
       "      <th>2</th>\n",
       "      <td>последний</td>\n",
       "      <td>4.848205</td>\n",
       "    </tr>\n",
       "  </tbody>\n",
       "</table>\n",
       "</div>"
      ],
      "text/plain": [
       "  floor_type  last_price\n",
       "0     другой    5.453187\n",
       "1     первый    4.400903\n",
       "2  последний    4.848205"
      ]
     },
     "execution_count": 32,
     "metadata": {},
     "output_type": "execute_result"
    }
   ],
   "source": [
    "real_estate_final.pivot_table(index='floor_type', values='last_price').reset_index()\n"
   ]
  },
  {
   "cell_type": "markdown",
   "metadata": {},
   "source": [
    ">Квартиры на **первом** этаже дешевле, чем квартиры на других этажах  \n",
    ">Квартиры на **последнем** этаже дороже всего."
   ]
  },
  {
   "cell_type": "markdown",
   "metadata": {},
   "source": [
    "#### Зависимость цены от даты размещения"
   ]
  },
  {
   "cell_type": "code",
   "execution_count": 33,
   "metadata": {},
   "outputs": [
    {
     "data": {
      "text/html": [
       "<div>\n",
       "<style scoped>\n",
       "    .dataframe tbody tr th:only-of-type {\n",
       "        vertical-align: middle;\n",
       "    }\n",
       "\n",
       "    .dataframe tbody tr th {\n",
       "        vertical-align: top;\n",
       "    }\n",
       "\n",
       "    .dataframe thead th {\n",
       "        text-align: right;\n",
       "    }\n",
       "</style>\n",
       "<table border=\"1\" class=\"dataframe\">\n",
       "  <thead>\n",
       "    <tr style=\"text-align: right;\">\n",
       "      <th></th>\n",
       "      <th>weekday</th>\n",
       "      <th>last_price</th>\n",
       "    </tr>\n",
       "  </thead>\n",
       "  <tbody>\n",
       "    <tr>\n",
       "      <th>0</th>\n",
       "      <td>5</td>\n",
       "      <td>5.114476</td>\n",
       "    </tr>\n",
       "    <tr>\n",
       "      <th>1</th>\n",
       "      <td>4</td>\n",
       "      <td>5.151842</td>\n",
       "    </tr>\n",
       "    <tr>\n",
       "      <th>2</th>\n",
       "      <td>0</td>\n",
       "      <td>5.202427</td>\n",
       "    </tr>\n",
       "    <tr>\n",
       "      <th>3</th>\n",
       "      <td>3</td>\n",
       "      <td>5.212100</td>\n",
       "    </tr>\n",
       "    <tr>\n",
       "      <th>4</th>\n",
       "      <td>6</td>\n",
       "      <td>5.214142</td>\n",
       "    </tr>\n",
       "    <tr>\n",
       "      <th>5</th>\n",
       "      <td>2</td>\n",
       "      <td>5.282953</td>\n",
       "    </tr>\n",
       "    <tr>\n",
       "      <th>6</th>\n",
       "      <td>1</td>\n",
       "      <td>5.315020</td>\n",
       "    </tr>\n",
       "  </tbody>\n",
       "</table>\n",
       "</div>"
      ],
      "text/plain": [
       "   weekday  last_price\n",
       "0        5    5.114476\n",
       "1        4    5.151842\n",
       "2        0    5.202427\n",
       "3        3    5.212100\n",
       "4        6    5.214142\n",
       "5        2    5.282953\n",
       "6        1    5.315020"
      ]
     },
     "execution_count": 33,
     "metadata": {},
     "output_type": "execute_result"
    }
   ],
   "source": [
    "#зависимость от дня размещения\n",
    "real_estate_final.pivot_table(index='weekday', values='last_price').sort_values(by = 'last_price').reset_index()"
   ]
  },
  {
   "cell_type": "markdown",
   "metadata": {},
   "source": [
    ">Сильной зависимости цены от дня размещения объявления я не наблюдаю. Думаю, что нет особенного влияния на конечную стоимость квартиры то, в какой день было размещено объявление. Самая высокая конечная стоимость у объявлений, размещенных в четверг и субботу. Низкие в воскресенье, понедельник, пятницу. Думаю, если связь и есть, то она зависит от алгоритмов площадок на которых было размещено каждое объявление. "
   ]
  },
  {
   "cell_type": "code",
   "execution_count": 34,
   "metadata": {},
   "outputs": [
    {
     "data": {
      "text/html": [
       "<div>\n",
       "<style scoped>\n",
       "    .dataframe tbody tr th:only-of-type {\n",
       "        vertical-align: middle;\n",
       "    }\n",
       "\n",
       "    .dataframe tbody tr th {\n",
       "        vertical-align: top;\n",
       "    }\n",
       "\n",
       "    .dataframe thead th {\n",
       "        text-align: right;\n",
       "    }\n",
       "</style>\n",
       "<table border=\"1\" class=\"dataframe\">\n",
       "  <thead>\n",
       "    <tr style=\"text-align: right;\">\n",
       "      <th></th>\n",
       "      <th>month</th>\n",
       "      <th>last_price</th>\n",
       "    </tr>\n",
       "  </thead>\n",
       "  <tbody>\n",
       "    <tr>\n",
       "      <th>0</th>\n",
       "      <td>6</td>\n",
       "      <td>5.038423</td>\n",
       "    </tr>\n",
       "    <tr>\n",
       "      <th>1</th>\n",
       "      <td>5</td>\n",
       "      <td>5.083318</td>\n",
       "    </tr>\n",
       "    <tr>\n",
       "      <th>2</th>\n",
       "      <td>7</td>\n",
       "      <td>5.203325</td>\n",
       "    </tr>\n",
       "    <tr>\n",
       "      <th>3</th>\n",
       "      <td>3</td>\n",
       "      <td>5.203724</td>\n",
       "    </tr>\n",
       "    <tr>\n",
       "      <th>4</th>\n",
       "      <td>8</td>\n",
       "      <td>5.204113</td>\n",
       "    </tr>\n",
       "    <tr>\n",
       "      <th>5</th>\n",
       "      <td>10</td>\n",
       "      <td>5.230783</td>\n",
       "    </tr>\n",
       "    <tr>\n",
       "      <th>6</th>\n",
       "      <td>2</td>\n",
       "      <td>5.241058</td>\n",
       "    </tr>\n",
       "    <tr>\n",
       "      <th>7</th>\n",
       "      <td>4</td>\n",
       "      <td>5.245473</td>\n",
       "    </tr>\n",
       "    <tr>\n",
       "      <th>8</th>\n",
       "      <td>11</td>\n",
       "      <td>5.274425</td>\n",
       "    </tr>\n",
       "    <tr>\n",
       "      <th>9</th>\n",
       "      <td>9</td>\n",
       "      <td>5.281820</td>\n",
       "    </tr>\n",
       "    <tr>\n",
       "      <th>10</th>\n",
       "      <td>1</td>\n",
       "      <td>5.318858</td>\n",
       "    </tr>\n",
       "    <tr>\n",
       "      <th>11</th>\n",
       "      <td>12</td>\n",
       "      <td>5.319131</td>\n",
       "    </tr>\n",
       "  </tbody>\n",
       "</table>\n",
       "</div>"
      ],
      "text/plain": [
       "    month  last_price\n",
       "0       6    5.038423\n",
       "1       5    5.083318\n",
       "2       7    5.203325\n",
       "3       3    5.203724\n",
       "4       8    5.204113\n",
       "5      10    5.230783\n",
       "6       2    5.241058\n",
       "7       4    5.245473\n",
       "8      11    5.274425\n",
       "9       9    5.281820\n",
       "10      1    5.318858\n",
       "11     12    5.319131"
      ]
     },
     "execution_count": 34,
     "metadata": {},
     "output_type": "execute_result"
    }
   ],
   "source": [
    "#зависимость от месяца размещения\n",
    "real_estate_final.pivot_table(index='month', values='last_price').sort_values(by = 'last_price').reset_index()\n"
   ]
  },
  {
   "cell_type": "markdown",
   "metadata": {},
   "source": [
    ">В **мае и августе** размещаются самые **дешевые** квартиры.  \n",
    ">В **декабре и январе** - самые **дорогие** квартиры.   \n",
    ">Есть логика в сезонности\n"
   ]
  },
  {
   "cell_type": "code",
   "execution_count": 35,
   "metadata": {},
   "outputs": [
    {
     "data": {
      "text/html": [
       "<div>\n",
       "<style scoped>\n",
       "    .dataframe tbody tr th:only-of-type {\n",
       "        vertical-align: middle;\n",
       "    }\n",
       "\n",
       "    .dataframe tbody tr th {\n",
       "        vertical-align: top;\n",
       "    }\n",
       "\n",
       "    .dataframe thead th {\n",
       "        text-align: right;\n",
       "    }\n",
       "</style>\n",
       "<table border=\"1\" class=\"dataframe\">\n",
       "  <thead>\n",
       "    <tr style=\"text-align: right;\">\n",
       "      <th></th>\n",
       "      <th>year</th>\n",
       "      <th>last_price</th>\n",
       "    </tr>\n",
       "  </thead>\n",
       "  <tbody>\n",
       "    <tr>\n",
       "      <th>0</th>\n",
       "      <td>2016</td>\n",
       "      <td>4.980409</td>\n",
       "    </tr>\n",
       "    <tr>\n",
       "      <th>1</th>\n",
       "      <td>2017</td>\n",
       "      <td>5.082396</td>\n",
       "    </tr>\n",
       "    <tr>\n",
       "      <th>2</th>\n",
       "      <td>2015</td>\n",
       "      <td>5.295948</td>\n",
       "    </tr>\n",
       "    <tr>\n",
       "      <th>3</th>\n",
       "      <td>2018</td>\n",
       "      <td>5.326137</td>\n",
       "    </tr>\n",
       "    <tr>\n",
       "      <th>4</th>\n",
       "      <td>2019</td>\n",
       "      <td>5.552952</td>\n",
       "    </tr>\n",
       "    <tr>\n",
       "      <th>5</th>\n",
       "      <td>2014</td>\n",
       "      <td>6.870131</td>\n",
       "    </tr>\n",
       "  </tbody>\n",
       "</table>\n",
       "</div>"
      ],
      "text/plain": [
       "   year  last_price\n",
       "0  2016    4.980409\n",
       "1  2017    5.082396\n",
       "2  2015    5.295948\n",
       "3  2018    5.326137\n",
       "4  2019    5.552952\n",
       "5  2014    6.870131"
      ]
     },
     "execution_count": 35,
     "metadata": {},
     "output_type": "execute_result"
    }
   ],
   "source": [
    "#зависимость от года размещения\n",
    "real_estate_final.pivot_table(index='year', values='last_price').sort_values(by = 'last_price').reset_index()"
   ]
  },
  {
   "cell_type": "markdown",
   "metadata": {},
   "source": [
    ">Средняя стоимость за квартиры, объявления которых были размещены в 2014 году, самая высокая. В 2015 резкий спад, в 2016 легкий спад и далее идет ровное увеличение в цене вплоть до 2019 года. Возможно, это связано с кризисом 2014 года"
   ]
  },
  {
   "cell_type": "markdown",
   "metadata": {},
   "source": [
    "#### Зависимость цены от населенного пункта"
   ]
  },
  {
   "cell_type": "code",
   "execution_count": 36,
   "metadata": {},
   "outputs": [
    {
     "data": {
      "text/html": [
       "<div>\n",
       "<style scoped>\n",
       "    .dataframe tbody tr th:only-of-type {\n",
       "        vertical-align: middle;\n",
       "    }\n",
       "\n",
       "    .dataframe tbody tr th {\n",
       "        vertical-align: top;\n",
       "    }\n",
       "\n",
       "    .dataframe thead th {\n",
       "        text-align: right;\n",
       "    }\n",
       "</style>\n",
       "<table border=\"1\" class=\"dataframe\">\n",
       "  <thead>\n",
       "    <tr style=\"text-align: right;\">\n",
       "      <th></th>\n",
       "      <th>Количество объявлений</th>\n",
       "      <th>Средняя цена за м2</th>\n",
       "      <th>Средняя цена жилья</th>\n",
       "    </tr>\n",
       "    <tr>\n",
       "      <th>locality_name</th>\n",
       "      <th></th>\n",
       "      <th></th>\n",
       "      <th></th>\n",
       "    </tr>\n",
       "  </thead>\n",
       "  <tbody>\n",
       "    <tr>\n",
       "      <th>Санкт-Петербург</th>\n",
       "      <td>8481</td>\n",
       "      <td>108119.963765</td>\n",
       "      <td>6.135778</td>\n",
       "    </tr>\n",
       "    <tr>\n",
       "      <th>Пушкин</th>\n",
       "      <td>237</td>\n",
       "      <td>101011.670919</td>\n",
       "      <td>5.587169</td>\n",
       "    </tr>\n",
       "    <tr>\n",
       "      <th>посёлок Парголово</th>\n",
       "      <td>185</td>\n",
       "      <td>90450.134204</td>\n",
       "      <td>4.612790</td>\n",
       "    </tr>\n",
       "    <tr>\n",
       "      <th>деревня Кудрово</th>\n",
       "      <td>135</td>\n",
       "      <td>91052.085555</td>\n",
       "      <td>4.289835</td>\n",
       "    </tr>\n",
       "    <tr>\n",
       "      <th>посёлок Шушары</th>\n",
       "      <td>253</td>\n",
       "      <td>77771.077149</td>\n",
       "      <td>4.140765</td>\n",
       "    </tr>\n",
       "    <tr>\n",
       "      <th>Колпино</th>\n",
       "      <td>187</td>\n",
       "      <td>75774.538459</td>\n",
       "      <td>4.039509</td>\n",
       "    </tr>\n",
       "    <tr>\n",
       "      <th>Всеволожск</th>\n",
       "      <td>263</td>\n",
       "      <td>67396.894272</td>\n",
       "      <td>3.862635</td>\n",
       "    </tr>\n",
       "    <tr>\n",
       "      <th>посёлок Мурино</th>\n",
       "      <td>255</td>\n",
       "      <td>83516.707369</td>\n",
       "      <td>3.829534</td>\n",
       "    </tr>\n",
       "    <tr>\n",
       "      <th>Гатчина</th>\n",
       "      <td>186</td>\n",
       "      <td>68623.961988</td>\n",
       "      <td>3.492873</td>\n",
       "    </tr>\n",
       "    <tr>\n",
       "      <th>Выборг</th>\n",
       "      <td>127</td>\n",
       "      <td>58503.476993</td>\n",
       "      <td>3.086283</td>\n",
       "    </tr>\n",
       "  </tbody>\n",
       "</table>\n",
       "</div>"
      ],
      "text/plain": [
       "                   Количество объявлений  Средняя цена за м2  \\\n",
       "locality_name                                                  \n",
       "Санкт-Петербург                     8481       108119.963765   \n",
       "Пушкин                               237       101011.670919   \n",
       "посёлок Парголово                    185        90450.134204   \n",
       "деревня Кудрово                      135        91052.085555   \n",
       "посёлок Шушары                       253        77771.077149   \n",
       "Колпино                              187        75774.538459   \n",
       "Всеволожск                           263        67396.894272   \n",
       "посёлок Мурино                       255        83516.707369   \n",
       "Гатчина                              186        68623.961988   \n",
       "Выборг                               127        58503.476993   \n",
       "\n",
       "                   Средняя цена жилья  \n",
       "locality_name                          \n",
       "Санкт-Петербург              6.135778  \n",
       "Пушкин                       5.587169  \n",
       "посёлок Парголово            4.612790  \n",
       "деревня Кудрово              4.289835  \n",
       "посёлок Шушары               4.140765  \n",
       "Колпино                      4.039509  \n",
       "Всеволожск                   3.862635  \n",
       "посёлок Мурино               3.829534  \n",
       "Гатчина                      3.492873  \n",
       "Выборг                       3.086283  "
      ]
     },
     "execution_count": 36,
     "metadata": {},
     "output_type": "execute_result"
    }
   ],
   "source": [
    "real_estate_10 = real_estate_final.groupby('locality_name').agg({'m2_cost': ['count', 'mean'], 'last_price': ['mean']})\n",
    "real_estate_10.columns = ['Количество объявлений', 'Средняя цена за м2', 'Средняя цена жилья']\n",
    "real_estate_10.sort_values(by = 'Количество объявлений', ascending = False).head(10).sort_values(by = 'Средняя цена жилья', ascending = False)\n",
    "\n"
   ]
  },
  {
   "cell_type": "markdown",
   "metadata": {},
   "source": [
    "> Самая высокая стоимость жилья в Санкт-Петербурге. Дальше идут Пушкин и поселок Парголово. Самые недорогие квартиры расположены во Всеволожске, Гатчине и Выборге"
   ]
  },
  {
   "cell_type": "markdown",
   "metadata": {},
   "source": [
    "#### Зависимость цены от удаленности от центра"
   ]
  },
  {
   "cell_type": "code",
   "execution_count": 37,
   "metadata": {},
   "outputs": [
    {
     "name": "stdout",
     "output_type": "stream",
     "text": [
      "<class 'pandas.core.frame.DataFrame'>\n",
      "Int64Index: 8481 entries, 2 to 23697\n",
      "Data columns (total 29 columns):\n",
      " #   Column                Non-Null Count  Dtype         \n",
      "---  ------                --------------  -----         \n",
      " 0   total_images          8481 non-null   int64         \n",
      " 1   last_price            8481 non-null   float64       \n",
      " 2   total_area            8481 non-null   float64       \n",
      " 3   first_day_exposition  8481 non-null   datetime64[ns]\n",
      " 4   rooms                 8481 non-null   int64         \n",
      " 5   ceiling_height        5601 non-null   float64       \n",
      " 6   floors_total          8443 non-null   float64       \n",
      " 7   living_area           8042 non-null   float64       \n",
      " 8   floor                 8481 non-null   int64         \n",
      " 9   is_apartment          1071 non-null   object        \n",
      " 10  studio                8481 non-null   bool          \n",
      " 11  open_plan             8481 non-null   bool          \n",
      " 12  kitchen_area          7966 non-null   float64       \n",
      " 13  balcony               8481 non-null   int64         \n",
      " 14  locality_name         8481 non-null   object        \n",
      " 15  airports_nearest      8440 non-null   float64       \n",
      " 16  cityCenters_nearest   8449 non-null   float64       \n",
      " 17  parks_around3000      8449 non-null   float64       \n",
      " 18  parks_nearest         3822 non-null   float64       \n",
      " 19  ponds_around3000      8449 non-null   float64       \n",
      " 20  ponds_nearest         4170 non-null   float64       \n",
      " 21  days_exposition       6893 non-null   float64       \n",
      " 22  m2_cost               8481 non-null   float64       \n",
      " 23  weekday               8481 non-null   int64         \n",
      " 24  month                 8481 non-null   int64         \n",
      " 25  year                  8481 non-null   int64         \n",
      " 26  floor_type            8481 non-null   object        \n",
      " 27  living_total_ratio    8042 non-null   float64       \n",
      " 28  kitchen_total_ratio   7966 non-null   float64       \n",
      "dtypes: bool(2), datetime64[ns](1), float64(16), int64(7), object(3)\n",
      "memory usage: 1.8+ MB\n"
     ]
    }
   ],
   "source": [
    "#Делаем срез, в котором останется только Санкт-Петербург\n",
    "real_estate_spb = real_estate_final.query('locality_name == \"Санкт-Петербург\"')\n",
    "real_estate_spb.info()"
   ]
  },
  {
   "cell_type": "markdown",
   "metadata": {},
   "source": [
    "В столбце с расстоянием до центра остались пустые значения. Их всего 4. Для решения задачи удалим их"
   ]
  },
  {
   "cell_type": "code",
   "execution_count": 38,
   "metadata": {},
   "outputs": [
    {
     "name": "stdout",
     "output_type": "stream",
     "text": [
      "<class 'pandas.core.frame.DataFrame'>\n",
      "Int64Index: 8449 entries, 2 to 23697\n",
      "Data columns (total 29 columns):\n",
      " #   Column                Non-Null Count  Dtype         \n",
      "---  ------                --------------  -----         \n",
      " 0   total_images          8449 non-null   int64         \n",
      " 1   last_price            8449 non-null   float64       \n",
      " 2   total_area            8449 non-null   float64       \n",
      " 3   first_day_exposition  8449 non-null   datetime64[ns]\n",
      " 4   rooms                 8449 non-null   int64         \n",
      " 5   ceiling_height        5583 non-null   float64       \n",
      " 6   floors_total          8412 non-null   float64       \n",
      " 7   living_area           8019 non-null   float64       \n",
      " 8   floor                 8449 non-null   int64         \n",
      " 9   is_apartment          1069 non-null   object        \n",
      " 10  studio                8449 non-null   bool          \n",
      " 11  open_plan             8449 non-null   bool          \n",
      " 12  kitchen_area          7941 non-null   float64       \n",
      " 13  balcony               8449 non-null   int64         \n",
      " 14  locality_name         8449 non-null   object        \n",
      " 15  airports_nearest      8440 non-null   float64       \n",
      " 16  cityCenters_nearest   8449 non-null   float64       \n",
      " 17  parks_around3000      8449 non-null   float64       \n",
      " 18  parks_nearest         3822 non-null   float64       \n",
      " 19  ponds_around3000      8449 non-null   float64       \n",
      " 20  ponds_nearest         4170 non-null   float64       \n",
      " 21  days_exposition       6886 non-null   float64       \n",
      " 22  m2_cost               8449 non-null   float64       \n",
      " 23  weekday               8449 non-null   int64         \n",
      " 24  month                 8449 non-null   int64         \n",
      " 25  year                  8449 non-null   int64         \n",
      " 26  floor_type            8449 non-null   object        \n",
      " 27  living_total_ratio    8019 non-null   float64       \n",
      " 28  kitchen_total_ratio   7941 non-null   float64       \n",
      "dtypes: bool(2), datetime64[ns](1), float64(16), int64(7), object(3)\n",
      "memory usage: 1.8+ MB\n"
     ]
    }
   ],
   "source": [
    "real_estate_spb = real_estate_spb.dropna(subset = ['cityCenters_nearest'])\n",
    "real_estate_spb.info()"
   ]
  },
  {
   "cell_type": "markdown",
   "metadata": {},
   "source": [
    "Создадим столбец с округленным расстоянием до центра в км"
   ]
  },
  {
   "cell_type": "code",
   "execution_count": 39,
   "metadata": {},
   "outputs": [],
   "source": [
    "real_estate_spb['cityCenters_nearest_km'] = real_estate_spb['cityCenters_nearest'].astype(int)\n",
    "#real_estate_spb.head(10)"
   ]
  },
  {
   "cell_type": "markdown",
   "metadata": {},
   "source": [
    "Считаем среднюю цену для каждой удаленности"
   ]
  },
  {
   "cell_type": "code",
   "execution_count": 40,
   "metadata": {},
   "outputs": [],
   "source": [
    "real_estate_spb_price_distance = real_estate_spb.pivot_table(index='cityCenters_nearest_km', values=['last_price'], aggfunc=['mean'])\n",
    "real_estate_spb_price_distance.columns = ['price_distance']\n",
    "#display(real_estate_spb_price_distance)\n",
    "\n"
   ]
  },
  {
   "cell_type": "markdown",
   "metadata": {},
   "source": [
    "Построим график зависимости цены от удаленности от центра"
   ]
  },
  {
   "cell_type": "code",
   "execution_count": 41,
   "metadata": {},
   "outputs": [
    {
     "data": {
      "text/plain": [
       "<AxesSubplot:xlabel='cityCenters_nearest_km'>"
      ]
     },
     "execution_count": 41,
     "metadata": {},
     "output_type": "execute_result"
    },
    {
     "data": {
      "image/png": "[encoded data removed]",
      "text/plain": [
       "<Figure size 432x288 with 1 Axes>"
      ]
     },
     "metadata": {
      "needs_background": "light"
     },
     "output_type": "display_data"
    }
   ],
   "source": [
    "real_estate_spb_price_distance.plot(y=['price_distance'], style='-', grid=True)\n"
   ]
  },
  {
   "cell_type": "markdown",
   "metadata": {},
   "source": [
    ">На отрезке 0-5 км - стоимость держится примерно в одном секторе, после 5 км стоимость идет вниз, поэтому будет логично ограничить центр 5 км."
   ]
  },
  {
   "cell_type": "markdown",
   "metadata": {},
   "source": [
    "#### Выявление зависимостей у квартир, расположенных в центре Спб"
   ]
  },
  {
   "cell_type": "markdown",
   "metadata": {},
   "source": [
    "Выделяем сегмент квартир в центре"
   ]
  },
  {
   "cell_type": "code",
   "execution_count": 42,
   "metadata": {},
   "outputs": [],
   "source": [
    "real_estate_spb_centre = real_estate_spb.query('cityCenters_nearest_km <= 5')\n",
    "#real_estate_spb_centre.head()"
   ]
  },
  {
   "cell_type": "markdown",
   "metadata": {},
   "source": [
    "##### Высота потолков в центре. Сравнение с городом"
   ]
  },
  {
   "cell_type": "code",
   "execution_count": 43,
   "metadata": {},
   "outputs": [
    {
     "data": {
      "image/png": "[encoded data removed]",
      "text/plain": [
       "<Figure size 432x288 with 1 Axes>"
      ]
     },
     "metadata": {
      "needs_background": "light"
     },
     "output_type": "display_data"
    }
   ],
   "source": [
    "real_estate_spb_centre['ceiling_height'].hist(bins=5, range=(0, 5), label='высота потолков в центре')\n",
    "real_estate_spb['ceiling_height'].hist(bins=5, range=(0, 5), alpha=0.3, label='высота потолков в городе')\n",
    "plt.title('Сравнение высоты потолков в центре СПб со всем городом')\n",
    "plt.xlabel('высота потолков в квартире, м.')\n",
    "plt.ylabel('количество квартир, шт.')\n",
    "plt.legend()\n",
    "plt.show()"
   ]
  },
  {
   "cell_type": "markdown",
   "metadata": {},
   "source": [
    ">В центре преобладает высота потолков от 3 до 4 метров, когда как, например, по всему СПб преобладающее значение 2-3 метра"
   ]
  },
  {
   "cell_type": "markdown",
   "metadata": {},
   "source": [
    "##### Площадь квартир в центре. Сравнение с городом"
   ]
  },
  {
   "cell_type": "code",
   "execution_count": 44,
   "metadata": {},
   "outputs": [
    {
     "data": {
      "image/png": "[encoded data removed]",
      "text/plain": [
       "<Figure size 432x288 with 1 Axes>"
      ]
     },
     "metadata": {
      "needs_background": "light"
     },
     "output_type": "display_data"
    }
   ],
   "source": [
    "real_estate_spb_centre['total_area'].hist(bins=10, range=(0, 120), label='площадь квартир в центре')\n",
    "real_estate_spb['total_area'].hist(bins=10, range=(0, 120), alpha=0.3, label='площадь квартир в городе')\n",
    "plt.title('Сравнение площади квартир в центре СПб со всем городом')\n",
    "plt.xlabel('площадь квартиры, м.кв.')\n",
    "plt.ylabel('количество квартир, шт.')\n",
    "plt.legend()\n",
    "plt.show()"
   ]
  },
  {
   "cell_type": "markdown",
   "metadata": {},
   "source": [
    ">В центре преобладает площадь в 60-73 квадратных метров, на втором месте с небольшим отрывом от 73 до 83.  \n",
    ">По городу показатель в 37-48 квадратных метров сильно выбивается в лидеры.  "
   ]
  },
  {
   "cell_type": "markdown",
   "metadata": {},
   "source": [
    "##### Цена квартир в центре. Сравнение с городом"
   ]
  },
  {
   "cell_type": "code",
   "execution_count": 45,
   "metadata": {},
   "outputs": [
    {
     "data": {
      "image/png": "[encoded data removed]",
      "text/plain": [
       "<Figure size 432x288 with 1 Axes>"
      ]
     },
     "metadata": {
      "needs_background": "light"
     },
     "output_type": "display_data"
    }
   ],
   "source": [
    "real_estate_spb_centre['last_price'].hist(bins=20, range=(0, 15), label='цена квартир в центре')\n",
    "real_estate_spb['last_price'].hist(bins=20, range=(0, 15), alpha=0.3, label='цена квартир в городе')\n",
    "plt.title('Сравнение стоимости квартир в центре СПб со всем городом')\n",
    "plt.xlabel('стоимость квартиры, млн.руб.')\n",
    "plt.ylabel('количество квартир, шт.')\n",
    "plt.legend()\n",
    "plt.show()"
   ]
  },
  {
   "cell_type": "markdown",
   "metadata": {},
   "source": [
    ">В центре преобладает стоимость квартир 6-9 млн. На втором месте стоимость в 5.2 - 6 млн.   \n",
    ">По СПб мы наблюдаем пик стоимости на 2х отрезках с очень незначительным разрывом (3.8 млн до 5.2 млн)  \n",
    ">В центре квартиры в принципе дороже."
   ]
  },
  {
   "cell_type": "markdown",
   "metadata": {},
   "source": [
    "##### Число комнат в центре. Сравнение с городом"
   ]
  },
  {
   "cell_type": "code",
   "execution_count": 46,
   "metadata": {},
   "outputs": [
    {
     "data": {
      "image/png": "[encoded data removed]",
      "text/plain": [
       "<Figure size 432x288 with 1 Axes>"
      ]
     },
     "metadata": {
      "needs_background": "light"
     },
     "output_type": "display_data"
    }
   ],
   "source": [
    "real_estate_spb_centre['rooms'].hist(bins=6, range=(0, 6), label='число комнат в центре')\n",
    "real_estate_spb['rooms'].hist(bins=6, range=(0, 6), alpha=0.3, label='число комнат по городу')\n",
    "plt.title('Сравнение числа комнат в квартирах в центре СПб со всем городом')\n",
    "plt.xlabel('число комнат, шт.')\n",
    "plt.ylabel('количество квартир, шт.')\n",
    "plt.legend()\n",
    "plt.show()"
   ]
  },
  {
   "cell_type": "markdown",
   "metadata": {},
   "source": [
    ">В центре лидируют 2х и 3х комнатные квартиры  \n",
    ">В городе - преобладают двухкомнатные квартиры и с небольшим отрывом - однокомнатные   \n",
    ">Значит ли это, что в центральных квартирах изначально больше комнат, а однокомнатных квартир меньше?"
   ]
  },
  {
   "cell_type": "markdown",
   "metadata": {},
   "source": [
    "##### Зависимость стоимости квартиры в центре от числа комнат. Сравнение с городом"
   ]
  },
  {
   "cell_type": "code",
   "execution_count": 47,
   "metadata": {},
   "outputs": [
    {
     "data": {
      "text/html": [
       "<div>\n",
       "<style scoped>\n",
       "    .dataframe tbody tr th:only-of-type {\n",
       "        vertical-align: middle;\n",
       "    }\n",
       "\n",
       "    .dataframe tbody tr th {\n",
       "        vertical-align: top;\n",
       "    }\n",
       "\n",
       "    .dataframe thead th {\n",
       "        text-align: right;\n",
       "    }\n",
       "</style>\n",
       "<table border=\"1\" class=\"dataframe\">\n",
       "  <thead>\n",
       "    <tr style=\"text-align: right;\">\n",
       "      <th></th>\n",
       "      <th>rooms</th>\n",
       "      <th>last_price</th>\n",
       "    </tr>\n",
       "  </thead>\n",
       "  <tbody>\n",
       "    <tr>\n",
       "      <th>0</th>\n",
       "      <td>1</td>\n",
       "      <td>6.366962</td>\n",
       "    </tr>\n",
       "    <tr>\n",
       "      <th>1</th>\n",
       "      <td>2</td>\n",
       "      <td>8.204700</td>\n",
       "    </tr>\n",
       "    <tr>\n",
       "      <th>2</th>\n",
       "      <td>3</td>\n",
       "      <td>8.791989</td>\n",
       "    </tr>\n",
       "    <tr>\n",
       "      <th>3</th>\n",
       "      <td>4</td>\n",
       "      <td>9.211587</td>\n",
       "    </tr>\n",
       "    <tr>\n",
       "      <th>4</th>\n",
       "      <td>5</td>\n",
       "      <td>9.942667</td>\n",
       "    </tr>\n",
       "  </tbody>\n",
       "</table>\n",
       "</div>"
      ],
      "text/plain": [
       "   rooms  last_price\n",
       "0      1    6.366962\n",
       "1      2    8.204700\n",
       "2      3    8.791989\n",
       "3      4    9.211587\n",
       "4      5    9.942667"
      ]
     },
     "execution_count": 47,
     "metadata": {},
     "output_type": "execute_result"
    }
   ],
   "source": [
    "#центр\n",
    "real_estate_spb_centre.pivot_table(index='rooms', values='last_price').reset_index()\n",
    "\n",
    "                                                                                                             "
   ]
  },
  {
   "cell_type": "code",
   "execution_count": 48,
   "metadata": {},
   "outputs": [
    {
     "data": {
      "text/html": [
       "<div>\n",
       "<style scoped>\n",
       "    .dataframe tbody tr th:only-of-type {\n",
       "        vertical-align: middle;\n",
       "    }\n",
       "\n",
       "    .dataframe tbody tr th {\n",
       "        vertical-align: top;\n",
       "    }\n",
       "\n",
       "    .dataframe thead th {\n",
       "        text-align: right;\n",
       "    }\n",
       "</style>\n",
       "<table border=\"1\" class=\"dataframe\">\n",
       "  <thead>\n",
       "    <tr style=\"text-align: right;\">\n",
       "      <th></th>\n",
       "      <th>rooms</th>\n",
       "      <th>last_price</th>\n",
       "    </tr>\n",
       "  </thead>\n",
       "  <tbody>\n",
       "    <tr>\n",
       "      <th>0</th>\n",
       "      <td>1</td>\n",
       "      <td>4.547068</td>\n",
       "    </tr>\n",
       "    <tr>\n",
       "      <th>1</th>\n",
       "      <td>2</td>\n",
       "      <td>6.336142</td>\n",
       "    </tr>\n",
       "    <tr>\n",
       "      <th>2</th>\n",
       "      <td>3</td>\n",
       "      <td>7.432427</td>\n",
       "    </tr>\n",
       "    <tr>\n",
       "      <th>3</th>\n",
       "      <td>4</td>\n",
       "      <td>7.664320</td>\n",
       "    </tr>\n",
       "    <tr>\n",
       "      <th>4</th>\n",
       "      <td>5</td>\n",
       "      <td>8.571613</td>\n",
       "    </tr>\n",
       "  </tbody>\n",
       "</table>\n",
       "</div>"
      ],
      "text/plain": [
       "   rooms  last_price\n",
       "0      1    4.547068\n",
       "1      2    6.336142\n",
       "2      3    7.432427\n",
       "3      4    7.664320\n",
       "4      5    8.571613"
      ]
     },
     "execution_count": 48,
     "metadata": {},
     "output_type": "execute_result"
    }
   ],
   "source": [
    "#город\n",
    "real_estate_spb.pivot_table(index='rooms', values='last_price').sort_values(by='last_price').reset_index()"
   ]
  },
  {
   "cell_type": "markdown",
   "metadata": {},
   "source": [
    ">1-3х комнатные квартиры в центре увеличиваются в цене с увеличением количества комнат. Однако 4х комнатные квартиры дороже 5ти комнатных. Хотя в  городе, наоборот, стоимость квартиры растет с увеличением комнат."
   ]
  },
  {
   "cell_type": "markdown",
   "metadata": {},
   "source": [
    "##### Зависимость стоимости квартиры от этажа"
   ]
  },
  {
   "cell_type": "code",
   "execution_count": 49,
   "metadata": {},
   "outputs": [
    {
     "data": {
      "text/html": [
       "<div>\n",
       "<style scoped>\n",
       "    .dataframe tbody tr th:only-of-type {\n",
       "        vertical-align: middle;\n",
       "    }\n",
       "\n",
       "    .dataframe tbody tr th {\n",
       "        vertical-align: top;\n",
       "    }\n",
       "\n",
       "    .dataframe thead th {\n",
       "        text-align: right;\n",
       "    }\n",
       "</style>\n",
       "<table border=\"1\" class=\"dataframe\">\n",
       "  <thead>\n",
       "    <tr style=\"text-align: right;\">\n",
       "      <th></th>\n",
       "      <th>floor_type</th>\n",
       "      <th>last_price</th>\n",
       "    </tr>\n",
       "  </thead>\n",
       "  <tbody>\n",
       "    <tr>\n",
       "      <th>0</th>\n",
       "      <td>первый</td>\n",
       "      <td>6.894440</td>\n",
       "    </tr>\n",
       "    <tr>\n",
       "      <th>1</th>\n",
       "      <td>последний</td>\n",
       "      <td>8.430434</td>\n",
       "    </tr>\n",
       "    <tr>\n",
       "      <th>2</th>\n",
       "      <td>другой</td>\n",
       "      <td>8.446428</td>\n",
       "    </tr>\n",
       "  </tbody>\n",
       "</table>\n",
       "</div>"
      ],
      "text/plain": [
       "  floor_type  last_price\n",
       "0     первый    6.894440\n",
       "1  последний    8.430434\n",
       "2     другой    8.446428"
      ]
     },
     "execution_count": 49,
     "metadata": {},
     "output_type": "execute_result"
    }
   ],
   "source": [
    "#центр\n",
    "real_estate_spb_centre.pivot_table(index='floor_type', values='last_price').sort_values(by='last_price').reset_index()\n",
    "                                                                                                             "
   ]
  },
  {
   "cell_type": "code",
   "execution_count": 50,
   "metadata": {},
   "outputs": [
    {
     "data": {
      "text/html": [
       "<div>\n",
       "<style scoped>\n",
       "    .dataframe tbody tr th:only-of-type {\n",
       "        vertical-align: middle;\n",
       "    }\n",
       "\n",
       "    .dataframe tbody tr th {\n",
       "        vertical-align: top;\n",
       "    }\n",
       "\n",
       "    .dataframe thead th {\n",
       "        text-align: right;\n",
       "    }\n",
       "</style>\n",
       "<table border=\"1\" class=\"dataframe\">\n",
       "  <thead>\n",
       "    <tr style=\"text-align: right;\">\n",
       "      <th></th>\n",
       "      <th>floor_type</th>\n",
       "      <th>last_price</th>\n",
       "    </tr>\n",
       "  </thead>\n",
       "  <tbody>\n",
       "    <tr>\n",
       "      <th>0</th>\n",
       "      <td>первый</td>\n",
       "      <td>5.357344</td>\n",
       "    </tr>\n",
       "    <tr>\n",
       "      <th>1</th>\n",
       "      <td>последний</td>\n",
       "      <td>6.128385</td>\n",
       "    </tr>\n",
       "    <tr>\n",
       "      <th>2</th>\n",
       "      <td>другой</td>\n",
       "      <td>6.250799</td>\n",
       "    </tr>\n",
       "  </tbody>\n",
       "</table>\n",
       "</div>"
      ],
      "text/plain": [
       "  floor_type  last_price\n",
       "0     первый    5.357344\n",
       "1  последний    6.128385\n",
       "2     другой    6.250799"
      ]
     },
     "execution_count": 50,
     "metadata": {},
     "output_type": "execute_result"
    }
   ],
   "source": [
    "#город\n",
    "real_estate_spb.pivot_table(index='floor_type', values='last_price').sort_values(by='last_price').reset_index()"
   ]
  },
  {
   "cell_type": "markdown",
   "metadata": {},
   "source": [
    ">И в центре, и в городе самые недорогие квартиры на первом этаже, а самые дорогие на последнем. "
   ]
  },
  {
   "cell_type": "markdown",
   "metadata": {},
   "source": [
    "##### Зависимость стоимости квартиры от удаленности от центра"
   ]
  },
  {
   "cell_type": "code",
   "execution_count": 51,
   "metadata": {},
   "outputs": [
    {
     "data": {
      "text/html": [
       "<div>\n",
       "<style scoped>\n",
       "    .dataframe tbody tr th:only-of-type {\n",
       "        vertical-align: middle;\n",
       "    }\n",
       "\n",
       "    .dataframe tbody tr th {\n",
       "        vertical-align: top;\n",
       "    }\n",
       "\n",
       "    .dataframe thead th {\n",
       "        text-align: right;\n",
       "    }\n",
       "</style>\n",
       "<table border=\"1\" class=\"dataframe\">\n",
       "  <thead>\n",
       "    <tr style=\"text-align: right;\">\n",
       "      <th></th>\n",
       "      <th>cityCenters_nearest_km</th>\n",
       "      <th>last_price</th>\n",
       "    </tr>\n",
       "  </thead>\n",
       "  <tbody>\n",
       "    <tr>\n",
       "      <th>0</th>\n",
       "      <td>5</td>\n",
       "      <td>7.856074</td>\n",
       "    </tr>\n",
       "    <tr>\n",
       "      <th>1</th>\n",
       "      <td>3</td>\n",
       "      <td>7.914676</td>\n",
       "    </tr>\n",
       "    <tr>\n",
       "      <th>2</th>\n",
       "      <td>2</td>\n",
       "      <td>8.136650</td>\n",
       "    </tr>\n",
       "    <tr>\n",
       "      <th>3</th>\n",
       "      <td>4</td>\n",
       "      <td>8.463447</td>\n",
       "    </tr>\n",
       "    <tr>\n",
       "      <th>4</th>\n",
       "      <td>0</td>\n",
       "      <td>8.972808</td>\n",
       "    </tr>\n",
       "    <tr>\n",
       "      <th>5</th>\n",
       "      <td>1</td>\n",
       "      <td>9.023327</td>\n",
       "    </tr>\n",
       "  </tbody>\n",
       "</table>\n",
       "</div>"
      ],
      "text/plain": [
       "   cityCenters_nearest_km  last_price\n",
       "0                       5    7.856074\n",
       "1                       3    7.914676\n",
       "2                       2    8.136650\n",
       "3                       4    8.463447\n",
       "4                       0    8.972808\n",
       "5                       1    9.023327"
      ]
     },
     "execution_count": 51,
     "metadata": {},
     "output_type": "execute_result"
    }
   ],
   "source": [
    "#центр\n",
    "real_estate_spb_centre.pivot_table(index='cityCenters_nearest_km', values='last_price').sort_values(by='last_price').reset_index()\n"
   ]
  },
  {
   "cell_type": "markdown",
   "metadata": {},
   "source": [
    ">Самые дорогие квартиры в центре и в 1 км от центра. Далее идут районы с удаленностью 4 - 5 км от центра. А вот самый недорогой в 3х км. Скорее всего это \"старые, неблагополучные\", т.е. не очень популярные для жизни центральные районы города, без красивых видов, в убитых зданиях и так далее"
   ]
  },
  {
   "cell_type": "code",
   "execution_count": 52,
   "metadata": {},
   "outputs": [
    {
     "data": {
      "text/html": [
       "<div>\n",
       "<style scoped>\n",
       "    .dataframe tbody tr th:only-of-type {\n",
       "        vertical-align: middle;\n",
       "    }\n",
       "\n",
       "    .dataframe tbody tr th {\n",
       "        vertical-align: top;\n",
       "    }\n",
       "\n",
       "    .dataframe thead th {\n",
       "        text-align: right;\n",
       "    }\n",
       "</style>\n",
       "<table border=\"1\" class=\"dataframe\">\n",
       "  <thead>\n",
       "    <tr style=\"text-align: right;\">\n",
       "      <th></th>\n",
       "      <th>cityCenters_nearest_km</th>\n",
       "      <th>last_price</th>\n",
       "    </tr>\n",
       "  </thead>\n",
       "  <tbody>\n",
       "    <tr>\n",
       "      <th>0</th>\n",
       "      <td>23</td>\n",
       "      <td>3.907714</td>\n",
       "    </tr>\n",
       "    <tr>\n",
       "      <th>1</th>\n",
       "      <td>26</td>\n",
       "      <td>3.975000</td>\n",
       "    </tr>\n",
       "    <tr>\n",
       "      <th>2</th>\n",
       "      <td>25</td>\n",
       "      <td>4.111129</td>\n",
       "    </tr>\n",
       "    <tr>\n",
       "      <th>3</th>\n",
       "      <td>24</td>\n",
       "      <td>4.225667</td>\n",
       "    </tr>\n",
       "    <tr>\n",
       "      <th>4</th>\n",
       "      <td>28</td>\n",
       "      <td>4.405000</td>\n",
       "    </tr>\n",
       "    <tr>\n",
       "      <th>5</th>\n",
       "      <td>29</td>\n",
       "      <td>4.525000</td>\n",
       "    </tr>\n",
       "    <tr>\n",
       "      <th>6</th>\n",
       "      <td>19</td>\n",
       "      <td>4.752850</td>\n",
       "    </tr>\n",
       "    <tr>\n",
       "      <th>7</th>\n",
       "      <td>17</td>\n",
       "      <td>4.894364</td>\n",
       "    </tr>\n",
       "    <tr>\n",
       "      <th>8</th>\n",
       "      <td>18</td>\n",
       "      <td>5.208640</td>\n",
       "    </tr>\n",
       "    <tr>\n",
       "      <th>9</th>\n",
       "      <td>16</td>\n",
       "      <td>5.271581</td>\n",
       "    </tr>\n",
       "    <tr>\n",
       "      <th>10</th>\n",
       "      <td>22</td>\n",
       "      <td>5.360978</td>\n",
       "    </tr>\n",
       "    <tr>\n",
       "      <th>11</th>\n",
       "      <td>21</td>\n",
       "      <td>5.428242</td>\n",
       "    </tr>\n",
       "    <tr>\n",
       "      <th>12</th>\n",
       "      <td>15</td>\n",
       "      <td>5.459318</td>\n",
       "    </tr>\n",
       "    <tr>\n",
       "      <th>13</th>\n",
       "      <td>14</td>\n",
       "      <td>5.565537</td>\n",
       "    </tr>\n",
       "    <tr>\n",
       "      <th>14</th>\n",
       "      <td>11</td>\n",
       "      <td>5.714527</td>\n",
       "    </tr>\n",
       "    <tr>\n",
       "      <th>15</th>\n",
       "      <td>12</td>\n",
       "      <td>5.806430</td>\n",
       "    </tr>\n",
       "    <tr>\n",
       "      <th>16</th>\n",
       "      <td>9</td>\n",
       "      <td>5.856058</td>\n",
       "    </tr>\n",
       "    <tr>\n",
       "      <th>17</th>\n",
       "      <td>10</td>\n",
       "      <td>5.866912</td>\n",
       "    </tr>\n",
       "    <tr>\n",
       "      <th>18</th>\n",
       "      <td>13</td>\n",
       "      <td>5.909605</td>\n",
       "    </tr>\n",
       "    <tr>\n",
       "      <th>19</th>\n",
       "      <td>20</td>\n",
       "      <td>6.510081</td>\n",
       "    </tr>\n",
       "    <tr>\n",
       "      <th>20</th>\n",
       "      <td>8</td>\n",
       "      <td>6.917635</td>\n",
       "    </tr>\n",
       "    <tr>\n",
       "      <th>21</th>\n",
       "      <td>7</td>\n",
       "      <td>7.612867</td>\n",
       "    </tr>\n",
       "    <tr>\n",
       "      <th>22</th>\n",
       "      <td>6</td>\n",
       "      <td>7.823028</td>\n",
       "    </tr>\n",
       "    <tr>\n",
       "      <th>23</th>\n",
       "      <td>5</td>\n",
       "      <td>7.856074</td>\n",
       "    </tr>\n",
       "    <tr>\n",
       "      <th>24</th>\n",
       "      <td>3</td>\n",
       "      <td>7.914676</td>\n",
       "    </tr>\n",
       "    <tr>\n",
       "      <th>25</th>\n",
       "      <td>2</td>\n",
       "      <td>8.136650</td>\n",
       "    </tr>\n",
       "    <tr>\n",
       "      <th>26</th>\n",
       "      <td>27</td>\n",
       "      <td>8.300000</td>\n",
       "    </tr>\n",
       "    <tr>\n",
       "      <th>27</th>\n",
       "      <td>4</td>\n",
       "      <td>8.463447</td>\n",
       "    </tr>\n",
       "    <tr>\n",
       "      <th>28</th>\n",
       "      <td>0</td>\n",
       "      <td>8.972808</td>\n",
       "    </tr>\n",
       "    <tr>\n",
       "      <th>29</th>\n",
       "      <td>1</td>\n",
       "      <td>9.023327</td>\n",
       "    </tr>\n",
       "  </tbody>\n",
       "</table>\n",
       "</div>"
      ],
      "text/plain": [
       "    cityCenters_nearest_km  last_price\n",
       "0                       23    3.907714\n",
       "1                       26    3.975000\n",
       "2                       25    4.111129\n",
       "3                       24    4.225667\n",
       "4                       28    4.405000\n",
       "5                       29    4.525000\n",
       "6                       19    4.752850\n",
       "7                       17    4.894364\n",
       "8                       18    5.208640\n",
       "9                       16    5.271581\n",
       "10                      22    5.360978\n",
       "11                      21    5.428242\n",
       "12                      15    5.459318\n",
       "13                      14    5.565537\n",
       "14                      11    5.714527\n",
       "15                      12    5.806430\n",
       "16                       9    5.856058\n",
       "17                      10    5.866912\n",
       "18                      13    5.909605\n",
       "19                      20    6.510081\n",
       "20                       8    6.917635\n",
       "21                       7    7.612867\n",
       "22                       6    7.823028\n",
       "23                       5    7.856074\n",
       "24                       3    7.914676\n",
       "25                       2    8.136650\n",
       "26                      27    8.300000\n",
       "27                       4    8.463447\n",
       "28                       0    8.972808\n",
       "29                       1    9.023327"
      ]
     },
     "execution_count": 52,
     "metadata": {},
     "output_type": "execute_result"
    }
   ],
   "source": [
    "#город\n",
    "real_estate_spb.pivot_table(index='cityCenters_nearest_km', values='last_price').sort_values(by='last_price').reset_index()\n"
   ]
  },
  {
   "cell_type": "markdown",
   "metadata": {},
   "source": [
    ">По городу показатели также скачут. Но в целом показывают тенденцию убывания в зависимости от удаленности. Остальные районы идут в принципе довольно логично, разница может быть в пару километров (например, 3 километр дешевле, чем 7) вполне возможно, что на 7 километре более интересный район (курортный, городского типа, коттеджи)"
   ]
  },
  {
   "cell_type": "markdown",
   "metadata": {},
   "source": [
    "##### Зависимость стоимости квартиры от даты размещения объявления"
   ]
  },
  {
   "cell_type": "code",
   "execution_count": 53,
   "metadata": {},
   "outputs": [
    {
     "data": {
      "text/html": [
       "<div>\n",
       "<style scoped>\n",
       "    .dataframe tbody tr th:only-of-type {\n",
       "        vertical-align: middle;\n",
       "    }\n",
       "\n",
       "    .dataframe tbody tr th {\n",
       "        vertical-align: top;\n",
       "    }\n",
       "\n",
       "    .dataframe thead th {\n",
       "        text-align: right;\n",
       "    }\n",
       "</style>\n",
       "<table border=\"1\" class=\"dataframe\">\n",
       "  <thead>\n",
       "    <tr style=\"text-align: right;\">\n",
       "      <th></th>\n",
       "      <th>year</th>\n",
       "      <th>last_price</th>\n",
       "    </tr>\n",
       "  </thead>\n",
       "  <tbody>\n",
       "    <tr>\n",
       "      <th>0</th>\n",
       "      <td>2014</td>\n",
       "      <td>8.830000</td>\n",
       "    </tr>\n",
       "    <tr>\n",
       "      <th>1</th>\n",
       "      <td>2015</td>\n",
       "      <td>7.844912</td>\n",
       "    </tr>\n",
       "    <tr>\n",
       "      <th>2</th>\n",
       "      <td>2016</td>\n",
       "      <td>7.835104</td>\n",
       "    </tr>\n",
       "    <tr>\n",
       "      <th>3</th>\n",
       "      <td>2017</td>\n",
       "      <td>8.055069</td>\n",
       "    </tr>\n",
       "    <tr>\n",
       "      <th>4</th>\n",
       "      <td>2018</td>\n",
       "      <td>8.432312</td>\n",
       "    </tr>\n",
       "    <tr>\n",
       "      <th>5</th>\n",
       "      <td>2019</td>\n",
       "      <td>8.903210</td>\n",
       "    </tr>\n",
       "  </tbody>\n",
       "</table>\n",
       "</div>"
      ],
      "text/plain": [
       "   year  last_price\n",
       "0  2014    8.830000\n",
       "1  2015    7.844912\n",
       "2  2016    7.835104\n",
       "3  2017    8.055069\n",
       "4  2018    8.432312\n",
       "5  2019    8.903210"
      ]
     },
     "execution_count": 53,
     "metadata": {},
     "output_type": "execute_result"
    }
   ],
   "source": [
    "#центр\n",
    "real_estate_spb_centre.pivot_table(index='year', values='last_price').sort_values(by='year').reset_index()\n"
   ]
  },
  {
   "cell_type": "markdown",
   "metadata": {},
   "source": [
    ">Стоимость зависит от определенного года. В 2014 самая высокая стоимость на жилье в центре. В 2015 она резко падает и продолжает падать до 2018 года. В 2019 стоимость растет, но не превышает показатель 2014 года. Возможно, это связано с активной застройкой спальных районов города и в приницпе трендом жизни загородом"
   ]
  },
  {
   "cell_type": "code",
   "execution_count": 54,
   "metadata": {},
   "outputs": [
    {
     "data": {
      "text/html": [
       "<div>\n",
       "<style scoped>\n",
       "    .dataframe tbody tr th:only-of-type {\n",
       "        vertical-align: middle;\n",
       "    }\n",
       "\n",
       "    .dataframe tbody tr th {\n",
       "        vertical-align: top;\n",
       "    }\n",
       "\n",
       "    .dataframe thead th {\n",
       "        text-align: right;\n",
       "    }\n",
       "</style>\n",
       "<table border=\"1\" class=\"dataframe\">\n",
       "  <thead>\n",
       "    <tr style=\"text-align: right;\">\n",
       "      <th></th>\n",
       "      <th>year</th>\n",
       "      <th>last_price</th>\n",
       "    </tr>\n",
       "  </thead>\n",
       "  <tbody>\n",
       "    <tr>\n",
       "      <th>0</th>\n",
       "      <td>2014</td>\n",
       "      <td>8.148708</td>\n",
       "    </tr>\n",
       "    <tr>\n",
       "      <th>1</th>\n",
       "      <td>2015</td>\n",
       "      <td>6.036053</td>\n",
       "    </tr>\n",
       "    <tr>\n",
       "      <th>2</th>\n",
       "      <td>2016</td>\n",
       "      <td>5.717127</td>\n",
       "    </tr>\n",
       "    <tr>\n",
       "      <th>3</th>\n",
       "      <td>2017</td>\n",
       "      <td>5.948132</td>\n",
       "    </tr>\n",
       "    <tr>\n",
       "      <th>4</th>\n",
       "      <td>2018</td>\n",
       "      <td>6.369288</td>\n",
       "    </tr>\n",
       "    <tr>\n",
       "      <th>5</th>\n",
       "      <td>2019</td>\n",
       "      <td>6.530732</td>\n",
       "    </tr>\n",
       "  </tbody>\n",
       "</table>\n",
       "</div>"
      ],
      "text/plain": [
       "   year  last_price\n",
       "0  2014    8.148708\n",
       "1  2015    6.036053\n",
       "2  2016    5.717127\n",
       "3  2017    5.948132\n",
       "4  2018    6.369288\n",
       "5  2019    6.530732"
      ]
     },
     "execution_count": 54,
     "metadata": {},
     "output_type": "execute_result"
    }
   ],
   "source": [
    "#город\n",
    "real_estate_spb.pivot_table(index='year', values='last_price').sort_values(by='year').reset_index()\n"
   ]
  },
  {
   "cell_type": "markdown",
   "metadata": {},
   "source": [
    ">Данные по городу отличаются от данных по центру. Самая высокая цена по СПб в 2014 году, стоимость падает вплоть до 2017 года, в 2018 незначительно подрастает, а в 2019 сильно растет  \n",
    ">\n",
    ">Если сравнивать показатели, то появляется 2015-2017 год, когда стоимость недвижимости падает везде. В 2018 году в центре нелживижимость все еще падает, а в 2018 по городу стоимость незначительно подрастает. В 2019 году стоимость жилья везде опять растет"
   ]
  },
  {
   "cell_type": "markdown",
   "metadata": {},
   "source": [
    "##  Результаты исследования"
   ]
  },
  {
   "cell_type": "markdown",
   "metadata": {},
   "source": [
    "**1. Санкт-Петербург и Ленинградская область**\n",
    "\n",
    "* 52% квартир продаются за 3-6 млн. руб.  \n",
    "* 92% всего рынка составляют 1-2 комнатные квартиры. Двухкомнатных квартир в продаже больше почти на 70%, чем однокомнатных \n",
    "* Самые часто встречающиеся плоащди от 30 до 60 квадратных метров (около 60%)\n",
    "* Наиболее часто встречающаяся высота потолков: 2,3-3,7 метров   \n",
    "* Время продажи квартир:   \n",
    "Среднее время продажи квартиры - 6 месяцев - 1 год  \n",
    "Быстрая продажа -  менее 3,5 месяцев  \n",
    "Аномально долгая продажа - 3,5 лет и более.    \n",
    "Очень долгая продажа - от 2,5 до 3,5 лет.    \n",
    "Долгая продажа - от 1 года до 2,5 лет.  \n",
    "\n",
    "*Параметры, влияющие на стоимость квартир в СПб и Ленобласти:*  \n",
    "\n",
    "* **Площадь.** Чем больше площадь квартиры, тем выше ее стоимость. (Коэффициент корреляции между ценой и площадью недвижимости составляет 0.67)\n",
    "* **Количество комнат.** Связь между стоимостью квартиры и количеством комнат есть, однако, не сильная. Стоит предположить, что есть ситуации, когда цена растет при увеличении количества комнат и наоборот, но так бывает далеко не всегда. Легко могут быть ситуации, когда большая площадь не говорит о наличии большего количества комнат.\n",
    "* **Удаленность от центра.** С увеличением удаленности квартиры от центра только иногда ее стоимость уменьшается. Также есть элитные нецентральные районы в пригородах, малоэтажные постройки и так далее. Связь слабая (-0,23), не всегда удаленность от центра предполагает низкую стоимость жилья.  \n",
    "* **Удаленность квартир от центра в Санкт-Петербурге.** На отрезке 0-5 км от центра стоимость квартир выше и колеблется от 12 до 18 млн. рублей. С удаленностью 5-10 км, стоимость квартиры составляет от 6 до 12 млн.\n",
    "* **Этаж.** Квартиры на первом этаже дешевле, чем квартиры на других этажах. Квартиры на последнем этаже дороже всего.\n",
    "* **Дата размещения объявления.**\n",
    "День размещения не влияет на стоимость квартиры\n",
    "Месяц размещения. В мае и августе самая низкая стоимость на квартиры. Самые дорогие квартиры размещены в декабре и январе. Исходя из среднего врмени продажи квартир можно говорить о сезонности. \n",
    "Год размещения. Стоимость квартиры зависит от года продажи и связано с экономической ситуацией в определенное время  \n",
    "* **Населенный пункт.** Стоимость квартиры зависит от населенного пункта. Самая высокая стоимость жилья в Санкт-Петербурге. Дальше идут Пушкин и поселок Парголово. Самые недорогие квартиры расположены во Всеволожске, Гатчине и Выборге  \n",
    "\n",
    "**2. Санкт-Петербург и центр Санкт-Петербурга**\n",
    "\n",
    "* **Высота потолков.** В центре преобладает высота потолков от 3 до 4 метров, когда как, например, по всему СПб преобладающее значение 2-3 метра  \n",
    "* **Площадь.** В центре преобладает площадь в 60-73 квадратных метров, на втором месте с небольшим отрывом от 73 до 83. По городу показатель в 37-48 квадратных метров сильно выбивается в лидеры.  \n",
    "* **Стоимость.** В центре преобладает стоимость квартир 6-9 млн. На втором месте стоимость в 5.2 - 6 млн.\n",
    "По СПб стоимость колеблется от 3.8 млн до 5.2 млн. В центре Санкт-Петербурга квартиры дороже.  \n",
    "* **Число комнат.** В центре лидируют 2х и 3х комнатные квартиры. В городе преобладают двухкомнатные квартиры и с небольшим отрывом - однокомнатные.  \n",
    "\n",
    "*Параметры, влияющие на стоимость квартир в Санкт-Петербурге и центре Санкт-Петербурга*  \n",
    "\n",
    "* **Количество комнат.** 1-3х комнатные квартиры в центре увеличиваются в цене с увеличением количества комнат. Однако 4х комнатные квартиры дороже 5ти комнатных. В городе, наоборот, стоимость квартиры растет с увеличением комнат.  \n",
    "* **Этаж.** И в центре, и в городе самые недорогие квартиры на первом этаже, а самые дорогие на последнем.  \n",
    "* **Удаленность от центра.** Самые дорогие квартиры в центре (радиус до 5 км) и в 1 км от центра. Далее идут районы с удаленностью 4 - 5 км от центра. А вот самый недорогой в 3х км. Скорее всего это \"старые, неблагополучные\", т.е. не очень популярные для жизни центральные районы города, без красивых видов, в убитых зданиях и так далее. По городу показатели показывают тенденцию убывания в зависимости от удаленности. Остальные районы идут в принципе довольно логично, разница может быть в пару километров (например, 3 километр дешевле, чем 7) вполне возможно, что на 7 километре более интересный район (курортный, городского типа, коттеджи)  \n",
    "* **Дата размещения объявления.** Стоимость зависит от определенного года\n",
    "\n",
    "\n"
   ]
  }
 ],
 "metadata": {
  "ExecuteTimeLog": [
   {
    "duration": 959,
    "start_time": "2021-08-01T12:47:48.349Z"
   },
   {
    "duration": 139,
    "start_time": "2021-08-01T12:48:53.968Z"
   },
   {
    "duration": 42,
    "start_time": "2021-08-01T12:54:16.114Z"
   },
   {
    "duration": 16,
    "start_time": "2021-08-01T13:01:21.454Z"
   },
   {
    "duration": 12,
    "start_time": "2021-08-01T13:28:54.764Z"
   },
   {
    "duration": 39,
    "start_time": "2021-08-01T13:30:21.584Z"
   },
   {
    "duration": 8253,
    "start_time": "2021-08-01T13:44:49.638Z"
   },
   {
    "duration": 326,
    "start_time": "2021-08-01T13:45:29.764Z"
   },
   {
    "duration": 385,
    "start_time": "2021-08-01T13:46:13.182Z"
   },
   {
    "duration": 7845,
    "start_time": "2021-08-01T13:49:29.185Z"
   },
   {
    "duration": 358,
    "start_time": "2021-08-01T13:49:52.465Z"
   },
   {
    "duration": 12,
    "start_time": "2021-08-01T13:51:29.518Z"
   },
   {
    "duration": 325,
    "start_time": "2021-08-01T13:53:10.883Z"
   },
   {
    "duration": 348,
    "start_time": "2021-08-01T13:53:22.323Z"
   },
   {
    "duration": 12,
    "start_time": "2021-08-01T14:07:28.205Z"
   },
   {
    "duration": 14,
    "start_time": "2021-08-01T14:49:33.873Z"
   },
   {
    "duration": 16,
    "start_time": "2021-08-01T14:52:53.131Z"
   },
   {
    "duration": 15,
    "start_time": "2021-08-01T14:54:05.303Z"
   },
   {
    "duration": 33,
    "start_time": "2021-08-01T15:09:48.011Z"
   },
   {
    "duration": 46,
    "start_time": "2021-08-01T15:12:39.852Z"
   },
   {
    "duration": 13,
    "start_time": "2021-08-01T15:18:06.712Z"
   },
   {
    "duration": 7,
    "start_time": "2021-08-01T15:18:29.641Z"
   },
   {
    "duration": 141,
    "start_time": "2021-08-01T15:18:40.744Z"
   },
   {
    "duration": 15,
    "start_time": "2021-08-01T15:18:45.053Z"
   },
   {
    "duration": 14,
    "start_time": "2021-08-01T15:18:52.579Z"
   },
   {
    "duration": 1672,
    "start_time": "2021-08-01T15:19:03.775Z"
   },
   {
    "duration": 1653,
    "start_time": "2021-08-01T15:19:38.471Z"
   },
   {
    "duration": 319,
    "start_time": "2021-08-01T15:23:42.987Z"
   },
   {
    "duration": 1665,
    "start_time": "2021-08-01T15:23:52.139Z"
   },
   {
    "duration": 13,
    "start_time": "2021-08-01T15:34:13.364Z"
   },
   {
    "duration": 15,
    "start_time": "2021-08-01T15:53:00.362Z"
   },
   {
    "duration": 5,
    "start_time": "2021-08-01T16:04:42.165Z"
   },
   {
    "duration": 37,
    "start_time": "2021-08-01T16:05:03.448Z"
   },
   {
    "duration": 5,
    "start_time": "2021-08-01T16:05:34.096Z"
   },
   {
    "duration": 17,
    "start_time": "2021-08-01T16:05:55.697Z"
   },
   {
    "duration": 14,
    "start_time": "2021-08-01T16:06:41.191Z"
   },
   {
    "duration": 9,
    "start_time": "2021-08-01T16:09:31.500Z"
   },
   {
    "duration": 24,
    "start_time": "2021-08-01T16:09:54.306Z"
   },
   {
    "duration": 313,
    "start_time": "2021-08-01T16:15:06.817Z"
   },
   {
    "duration": 23,
    "start_time": "2021-08-01T16:15:15.030Z"
   },
   {
    "duration": 23,
    "start_time": "2021-08-01T16:21:11.764Z"
   },
   {
    "duration": 5,
    "start_time": "2021-08-01T16:21:51.262Z"
   },
   {
    "duration": 19,
    "start_time": "2021-08-01T16:21:58.335Z"
   },
   {
    "duration": 16,
    "start_time": "2021-08-01T16:24:32.555Z"
   },
   {
    "duration": 315,
    "start_time": "2021-08-01T16:25:18.441Z"
   },
   {
    "duration": 20,
    "start_time": "2021-08-01T16:25:53.529Z"
   },
   {
    "duration": 16,
    "start_time": "2021-08-01T16:26:02.300Z"
   },
   {
    "duration": 8338,
    "start_time": "2021-08-01T16:28:13.497Z"
   },
   {
    "duration": 5,
    "start_time": "2021-08-01T16:29:09.506Z"
   },
   {
    "duration": 5,
    "start_time": "2021-08-01T16:29:24.619Z"
   },
   {
    "duration": 5,
    "start_time": "2021-08-01T16:29:31.582Z"
   },
   {
    "duration": 52,
    "start_time": "2021-08-01T16:29:35.117Z"
   },
   {
    "duration": 71,
    "start_time": "2021-08-01T16:30:09.055Z"
   },
   {
    "duration": 141,
    "start_time": "2021-08-01T16:33:24.657Z"
   },
   {
    "duration": 22,
    "start_time": "2021-08-01T16:33:29.050Z"
   },
   {
    "duration": 17,
    "start_time": "2021-08-01T16:33:35.744Z"
   },
   {
    "duration": 16,
    "start_time": "2021-08-01T16:33:41.344Z"
   },
   {
    "duration": 19,
    "start_time": "2021-08-01T16:33:46.651Z"
   },
   {
    "duration": 51,
    "start_time": "2021-08-01T16:33:49.073Z"
   },
   {
    "duration": 25,
    "start_time": "2021-08-01T16:33:53.275Z"
   },
   {
    "duration": 5,
    "start_time": "2021-08-01T16:34:06.965Z"
   },
   {
    "duration": 6,
    "start_time": "2021-08-01T16:34:08.594Z"
   },
   {
    "duration": 69,
    "start_time": "2021-08-01T16:34:10.616Z"
   },
   {
    "duration": 432,
    "start_time": "2021-08-01T18:09:57.942Z"
   },
   {
    "duration": 972,
    "start_time": "2021-08-01T18:10:22.302Z"
   },
   {
    "duration": 17,
    "start_time": "2021-08-01T18:10:26.474Z"
   },
   {
    "duration": 11,
    "start_time": "2021-08-01T18:10:29.574Z"
   },
   {
    "duration": 16,
    "start_time": "2021-08-01T18:10:31.392Z"
   },
   {
    "duration": 14,
    "start_time": "2021-08-01T18:10:33.169Z"
   },
   {
    "duration": 37,
    "start_time": "2021-08-01T18:10:35.716Z"
   },
   {
    "duration": 19,
    "start_time": "2021-08-01T18:10:36.369Z"
   },
   {
    "duration": 9,
    "start_time": "2021-08-01T18:10:38.704Z"
   },
   {
    "duration": 5,
    "start_time": "2021-08-01T18:10:39.781Z"
   },
   {
    "duration": 67,
    "start_time": "2021-08-01T18:10:41.125Z"
   },
   {
    "duration": 5,
    "start_time": "2021-08-01T18:10:46.285Z"
   },
   {
    "duration": 77,
    "start_time": "2021-08-01T18:11:27.140Z"
   },
   {
    "duration": 1321,
    "start_time": "2021-08-01T18:20:01.917Z"
   },
   {
    "duration": 92,
    "start_time": "2021-08-01T18:26:35.597Z"
   },
   {
    "duration": 99,
    "start_time": "2021-08-01T18:27:07.064Z"
   },
   {
    "duration": 40,
    "start_time": "2021-08-01T18:27:36.989Z"
   },
   {
    "duration": 88,
    "start_time": "2021-08-01T18:27:50.289Z"
   },
   {
    "duration": 55,
    "start_time": "2021-08-01T18:27:59.932Z"
   },
   {
    "duration": 107,
    "start_time": "2021-08-01T18:29:20.970Z"
   },
   {
    "duration": 88,
    "start_time": "2021-08-01T18:41:45.655Z"
   },
   {
    "duration": 1199,
    "start_time": "2021-08-01T18:42:14.916Z"
   },
   {
    "duration": 62,
    "start_time": "2021-08-01T18:48:09.507Z"
   },
   {
    "duration": 62,
    "start_time": "2021-08-01T18:48:37.352Z"
   },
   {
    "duration": 60,
    "start_time": "2021-08-01T18:50:54.513Z"
   },
   {
    "duration": 315,
    "start_time": "2021-08-02T10:00:53.455Z"
   },
   {
    "duration": 711,
    "start_time": "2021-08-02T10:01:04.714Z"
   },
   {
    "duration": 12,
    "start_time": "2021-08-02T10:01:10.973Z"
   },
   {
    "duration": 9,
    "start_time": "2021-08-02T10:01:14.087Z"
   },
   {
    "duration": 13,
    "start_time": "2021-08-02T10:01:15.667Z"
   },
   {
    "duration": 10,
    "start_time": "2021-08-02T10:01:17.209Z"
   },
   {
    "duration": 25,
    "start_time": "2021-08-02T10:01:18.397Z"
   },
   {
    "duration": 13,
    "start_time": "2021-08-02T10:01:19.696Z"
   },
   {
    "duration": 5,
    "start_time": "2021-08-02T10:01:20.706Z"
   },
   {
    "duration": 4,
    "start_time": "2021-08-02T10:01:21.549Z"
   },
   {
    "duration": 45,
    "start_time": "2021-08-02T10:01:22.454Z"
   },
   {
    "duration": 16,
    "start_time": "2021-08-02T10:01:23.555Z"
   },
   {
    "duration": 45,
    "start_time": "2021-08-02T10:01:25.605Z"
   },
   {
    "duration": 48,
    "start_time": "2021-08-02T10:01:27.279Z"
   },
   {
    "duration": 452,
    "start_time": "2021-08-02T10:01:29.300Z"
   },
   {
    "duration": 38,
    "start_time": "2021-08-02T10:01:31.829Z"
   },
   {
    "duration": 38,
    "start_time": "2021-08-02T10:01:32.943Z"
   },
   {
    "duration": 9,
    "start_time": "2021-08-02T10:01:35.692Z"
   },
   {
    "duration": 213,
    "start_time": "2021-08-02T10:06:33.189Z"
   },
   {
    "duration": 431,
    "start_time": "2021-08-02T10:06:53.814Z"
   },
   {
    "duration": 194,
    "start_time": "2021-08-02T10:08:15.776Z"
   },
   {
    "duration": 278,
    "start_time": "2021-08-02T10:09:17.484Z"
   },
   {
    "duration": 455,
    "start_time": "2021-08-02T10:30:47.857Z"
   },
   {
    "duration": 510,
    "start_time": "2021-08-02T10:30:55.943Z"
   },
   {
    "duration": 292,
    "start_time": "2021-08-02T10:31:05.679Z"
   },
   {
    "duration": 254,
    "start_time": "2021-08-02T10:41:35.901Z"
   },
   {
    "duration": 266,
    "start_time": "2021-08-02T10:41:52.090Z"
   },
   {
    "duration": 183,
    "start_time": "2021-08-02T10:42:14.105Z"
   },
   {
    "duration": 176,
    "start_time": "2021-08-02T10:42:22.447Z"
   },
   {
    "duration": 247,
    "start_time": "2021-08-02T10:43:19.771Z"
   },
   {
    "duration": 172,
    "start_time": "2021-08-02T10:43:44.202Z"
   },
   {
    "duration": 183,
    "start_time": "2021-08-02T10:44:20.490Z"
   },
   {
    "duration": 263,
    "start_time": "2021-08-02T10:45:38.568Z"
   },
   {
    "duration": 187,
    "start_time": "2021-08-02T10:48:16.982Z"
   },
   {
    "duration": 258,
    "start_time": "2021-08-02T10:48:34.250Z"
   },
   {
    "duration": 218,
    "start_time": "2021-08-02T10:48:45.893Z"
   },
   {
    "duration": 221,
    "start_time": "2021-08-02T10:49:22.852Z"
   },
   {
    "duration": 246,
    "start_time": "2021-08-02T10:49:38.795Z"
   },
   {
    "duration": 189,
    "start_time": "2021-08-02T10:49:45.505Z"
   },
   {
    "duration": 174,
    "start_time": "2021-08-02T10:59:15.605Z"
   },
   {
    "duration": 203,
    "start_time": "2021-08-02T10:59:43.149Z"
   },
   {
    "duration": 253,
    "start_time": "2021-08-02T10:59:58.173Z"
   },
   {
    "duration": 244,
    "start_time": "2021-08-02T11:00:08.078Z"
   },
   {
    "duration": 278,
    "start_time": "2021-08-02T11:00:25.321Z"
   },
   {
    "duration": 181,
    "start_time": "2021-08-02T11:00:37.961Z"
   },
   {
    "duration": 208,
    "start_time": "2021-08-02T11:01:01.420Z"
   },
   {
    "duration": 207,
    "start_time": "2021-08-02T11:01:18.934Z"
   },
   {
    "duration": 183,
    "start_time": "2021-08-02T11:01:37.010Z"
   },
   {
    "duration": 9,
    "start_time": "2021-08-02T11:09:19.167Z"
   },
   {
    "duration": 179,
    "start_time": "2021-08-02T11:11:35.877Z"
   },
   {
    "duration": 238,
    "start_time": "2021-08-02T11:11:46.167Z"
   },
   {
    "duration": 268,
    "start_time": "2021-08-02T11:12:00.472Z"
   },
   {
    "duration": 220,
    "start_time": "2021-08-02T11:12:19.465Z"
   },
   {
    "duration": 219,
    "start_time": "2021-08-02T11:12:36.276Z"
   },
   {
    "duration": 227,
    "start_time": "2021-08-02T11:12:54.826Z"
   },
   {
    "duration": 211,
    "start_time": "2021-08-02T11:14:14.949Z"
   },
   {
    "duration": 8,
    "start_time": "2021-08-02T11:19:25.067Z"
   },
   {
    "duration": 293,
    "start_time": "2021-08-02T11:20:18.726Z"
   },
   {
    "duration": 180,
    "start_time": "2021-08-02T11:21:01.517Z"
   },
   {
    "duration": 179,
    "start_time": "2021-08-02T11:21:09.300Z"
   },
   {
    "duration": 180,
    "start_time": "2021-08-02T11:21:22.048Z"
   },
   {
    "duration": 181,
    "start_time": "2021-08-02T11:21:58.663Z"
   },
   {
    "duration": 180,
    "start_time": "2021-08-02T11:22:19.859Z"
   },
   {
    "duration": 9,
    "start_time": "2021-08-02T11:25:12.402Z"
   },
   {
    "duration": 185,
    "start_time": "2021-08-02T11:26:05.759Z"
   },
   {
    "duration": 9,
    "start_time": "2021-08-02T11:39:42.371Z"
   },
   {
    "duration": 9,
    "start_time": "2021-08-02T11:40:08.693Z"
   },
   {
    "duration": 5,
    "start_time": "2021-08-02T11:40:52.026Z"
   },
   {
    "duration": 182,
    "start_time": "2021-08-02T11:45:35.404Z"
   },
   {
    "duration": 170,
    "start_time": "2021-08-02T11:46:15.472Z"
   },
   {
    "duration": 170,
    "start_time": "2021-08-02T11:46:31.998Z"
   },
   {
    "duration": 172,
    "start_time": "2021-08-02T11:46:42.125Z"
   },
   {
    "duration": 177,
    "start_time": "2021-08-02T11:46:52.310Z"
   },
   {
    "duration": 174,
    "start_time": "2021-08-02T11:47:06.057Z"
   },
   {
    "duration": 183,
    "start_time": "2021-08-02T11:49:23.344Z"
   },
   {
    "duration": 173,
    "start_time": "2021-08-02T11:49:45.233Z"
   },
   {
    "duration": 182,
    "start_time": "2021-08-02T11:52:47.186Z"
   },
   {
    "duration": 184,
    "start_time": "2021-08-02T11:54:43.369Z"
   },
   {
    "duration": 175,
    "start_time": "2021-08-02T11:55:07.138Z"
   },
   {
    "duration": 168,
    "start_time": "2021-08-02T11:56:35.292Z"
   },
   {
    "duration": 174,
    "start_time": "2021-08-02T11:56:54.715Z"
   },
   {
    "duration": 166,
    "start_time": "2021-08-02T11:57:04.815Z"
   },
   {
    "duration": 327,
    "start_time": "2021-08-02T11:57:39.440Z"
   },
   {
    "duration": 187,
    "start_time": "2021-08-02T11:58:00.430Z"
   },
   {
    "duration": 191,
    "start_time": "2021-08-02T11:58:49.666Z"
   },
   {
    "duration": 6,
    "start_time": "2021-08-02T12:07:28.700Z"
   },
   {
    "duration": 189,
    "start_time": "2021-08-02T12:07:33.844Z"
   },
   {
    "duration": 255,
    "start_time": "2021-08-02T12:08:42.743Z"
   },
   {
    "duration": 215,
    "start_time": "2021-08-02T12:09:05.981Z"
   },
   {
    "duration": 200,
    "start_time": "2021-08-02T12:10:22.746Z"
   },
   {
    "duration": 173,
    "start_time": "2021-08-02T12:30:52.974Z"
   },
   {
    "duration": 185,
    "start_time": "2021-08-02T12:31:44.881Z"
   },
   {
    "duration": 181,
    "start_time": "2021-08-02T12:32:16.857Z"
   },
   {
    "duration": 254,
    "start_time": "2021-08-02T12:51:24.647Z"
   },
   {
    "duration": 207,
    "start_time": "2021-08-02T12:51:35.900Z"
   },
   {
    "duration": 185,
    "start_time": "2021-08-02T12:51:58.211Z"
   },
   {
    "duration": 194,
    "start_time": "2021-08-02T12:52:06.612Z"
   },
   {
    "duration": 190,
    "start_time": "2021-08-02T12:59:20.382Z"
   },
   {
    "duration": 107,
    "start_time": "2021-08-02T12:59:45.570Z"
   },
   {
    "duration": 11,
    "start_time": "2021-08-02T12:59:46.742Z"
   },
   {
    "duration": 10,
    "start_time": "2021-08-02T12:59:48.965Z"
   },
   {
    "duration": 12,
    "start_time": "2021-08-02T12:59:49.945Z"
   },
   {
    "duration": 10,
    "start_time": "2021-08-02T12:59:50.886Z"
   },
   {
    "duration": 24,
    "start_time": "2021-08-02T12:59:51.560Z"
   },
   {
    "duration": 13,
    "start_time": "2021-08-02T12:59:52.306Z"
   },
   {
    "duration": 4,
    "start_time": "2021-08-02T12:59:52.756Z"
   },
   {
    "duration": 4,
    "start_time": "2021-08-02T12:59:53.184Z"
   },
   {
    "duration": 38,
    "start_time": "2021-08-02T12:59:53.537Z"
   },
   {
    "duration": 16,
    "start_time": "2021-08-02T12:59:53.893Z"
   },
   {
    "duration": 38,
    "start_time": "2021-08-02T12:59:54.528Z"
   },
   {
    "duration": 43,
    "start_time": "2021-08-02T12:59:55.025Z"
   },
   {
    "duration": 603,
    "start_time": "2021-08-02T12:59:55.487Z"
   },
   {
    "duration": 38,
    "start_time": "2021-08-02T12:59:56.092Z"
   },
   {
    "duration": 38,
    "start_time": "2021-08-02T12:59:56.492Z"
   },
   {
    "duration": 8,
    "start_time": "2021-08-02T12:59:58.229Z"
   },
   {
    "duration": 197,
    "start_time": "2021-08-02T12:59:58.661Z"
   },
   {
    "duration": 10,
    "start_time": "2021-08-02T12:59:59.592Z"
   },
   {
    "duration": 210,
    "start_time": "2021-08-02T12:59:59.831Z"
   },
   {
    "duration": 9,
    "start_time": "2021-08-02T13:00:00.819Z"
   },
   {
    "duration": 171,
    "start_time": "2021-08-02T13:00:00.982Z"
   },
   {
    "duration": 10,
    "start_time": "2021-08-02T13:00:01.516Z"
   },
   {
    "duration": 183,
    "start_time": "2021-08-02T13:00:01.697Z"
   },
   {
    "duration": 10,
    "start_time": "2021-08-02T13:00:02.424Z"
   },
   {
    "duration": 210,
    "start_time": "2021-08-02T13:00:02.753Z"
   },
   {
    "duration": 199,
    "start_time": "2021-08-02T13:00:03.154Z"
   },
   {
    "duration": 227,
    "start_time": "2021-08-02T13:00:04.468Z"
   },
   {
    "duration": 214,
    "start_time": "2021-08-02T13:00:30.651Z"
   },
   {
    "duration": 185,
    "start_time": "2021-08-02T13:01:28.311Z"
   },
   {
    "duration": 45,
    "start_time": "2021-08-02T13:02:38.776Z"
   },
   {
    "duration": 3,
    "start_time": "2021-08-02T13:04:24.723Z"
   },
   {
    "duration": 330,
    "start_time": "2021-08-02T13:21:45.755Z"
   },
   {
    "duration": 374,
    "start_time": "2021-08-02T13:26:43.823Z"
   },
   {
    "duration": 41,
    "start_time": "2021-08-02T13:27:11.534Z"
   },
   {
    "duration": 4,
    "start_time": "2021-08-02T13:33:24.723Z"
   },
   {
    "duration": 8,
    "start_time": "2021-08-02T13:34:44.485Z"
   },
   {
    "duration": 3,
    "start_time": "2021-08-02T13:45:47.356Z"
   },
   {
    "duration": 558,
    "start_time": "2021-08-02T13:47:58.045Z"
   },
   {
    "duration": 13,
    "start_time": "2021-08-02T13:49:10.620Z"
   },
   {
    "duration": 20,
    "start_time": "2021-08-02T13:53:53.411Z"
   },
   {
    "duration": 13,
    "start_time": "2021-08-02T13:55:01.995Z"
   },
   {
    "duration": 22,
    "start_time": "2021-08-02T13:55:56.925Z"
   },
   {
    "duration": 28,
    "start_time": "2021-08-02T13:56:42.438Z"
   },
   {
    "duration": 13,
    "start_time": "2021-08-02T13:59:10.794Z"
   },
   {
    "duration": 14,
    "start_time": "2021-08-02T13:59:21.005Z"
   },
   {
    "duration": 12,
    "start_time": "2021-08-02T13:59:33.593Z"
   },
   {
    "duration": 211,
    "start_time": "2021-08-02T14:13:51.432Z"
   },
   {
    "duration": 211,
    "start_time": "2021-08-02T14:13:59.673Z"
   },
   {
    "duration": 178,
    "start_time": "2021-08-02T14:14:19.612Z"
   },
   {
    "duration": 14,
    "start_time": "2021-08-02T14:16:23.755Z"
   },
   {
    "duration": 13,
    "start_time": "2021-08-02T14:16:45.611Z"
   },
   {
    "duration": 15,
    "start_time": "2021-08-02T14:25:22.136Z"
   },
   {
    "duration": 49,
    "start_time": "2021-08-02T14:30:17.796Z"
   },
   {
    "duration": 4,
    "start_time": "2021-08-02T14:30:19.728Z"
   },
   {
    "duration": 3,
    "start_time": "2021-08-02T14:30:31.146Z"
   },
   {
    "duration": 8,
    "start_time": "2021-08-02T14:30:34.554Z"
   },
   {
    "duration": 13,
    "start_time": "2021-08-02T14:30:45.533Z"
   },
   {
    "duration": 15,
    "start_time": "2021-08-02T14:31:43.770Z"
   },
   {
    "duration": 14,
    "start_time": "2021-08-02T14:32:44.844Z"
   },
   {
    "duration": 40,
    "start_time": "2021-08-02T14:33:18.809Z"
   },
   {
    "duration": 4,
    "start_time": "2021-08-02T14:33:20.517Z"
   },
   {
    "duration": 3,
    "start_time": "2021-08-02T14:33:30.629Z"
   },
   {
    "duration": 6,
    "start_time": "2021-08-02T14:33:32.982Z"
   },
   {
    "duration": 12,
    "start_time": "2021-08-02T14:33:33.837Z"
   },
   {
    "duration": 12,
    "start_time": "2021-08-02T14:33:34.682Z"
   },
   {
    "duration": 13,
    "start_time": "2021-08-02T14:33:35.392Z"
   },
   {
    "duration": 12,
    "start_time": "2021-08-02T14:33:37.623Z"
   },
   {
    "duration": 272,
    "start_time": "2021-08-03T08:06:22.049Z"
   },
   {
    "duration": 732,
    "start_time": "2021-08-03T08:06:36.956Z"
   },
   {
    "duration": 10,
    "start_time": "2021-08-03T08:06:38.148Z"
   },
   {
    "duration": 16,
    "start_time": "2021-08-03T08:06:39.800Z"
   },
   {
    "duration": 11,
    "start_time": "2021-08-03T08:06:40.674Z"
   },
   {
    "duration": 9,
    "start_time": "2021-08-03T08:06:41.445Z"
   },
   {
    "duration": 25,
    "start_time": "2021-08-03T08:06:42.350Z"
   },
   {
    "duration": 17,
    "start_time": "2021-08-03T08:06:43.071Z"
   },
   {
    "duration": 5,
    "start_time": "2021-08-03T08:06:43.458Z"
   },
   {
    "duration": 4,
    "start_time": "2021-08-03T08:06:44.091Z"
   },
   {
    "duration": 54,
    "start_time": "2021-08-03T08:06:44.658Z"
   },
   {
    "duration": 16,
    "start_time": "2021-08-03T08:06:45.029Z"
   },
   {
    "duration": 60,
    "start_time": "2021-08-03T08:06:45.781Z"
   },
   {
    "duration": 61,
    "start_time": "2021-08-03T08:06:46.739Z"
   },
   {
    "duration": 552,
    "start_time": "2021-08-03T08:06:46.857Z"
   },
   {
    "duration": 46,
    "start_time": "2021-08-03T08:06:47.469Z"
   },
   {
    "duration": 36,
    "start_time": "2021-08-03T08:06:47.941Z"
   },
   {
    "duration": 8,
    "start_time": "2021-08-03T08:06:48.729Z"
   },
   {
    "duration": 207,
    "start_time": "2021-08-03T08:06:48.942Z"
   },
   {
    "duration": 9,
    "start_time": "2021-08-03T08:06:49.934Z"
   },
   {
    "duration": 266,
    "start_time": "2021-08-03T08:06:50.180Z"
   },
   {
    "duration": 23,
    "start_time": "2021-08-03T08:06:50.782Z"
   },
   {
    "duration": 195,
    "start_time": "2021-08-03T08:06:50.986Z"
   },
   {
    "duration": 9,
    "start_time": "2021-08-03T08:06:51.625Z"
   },
   {
    "duration": 198,
    "start_time": "2021-08-03T08:06:51.821Z"
   },
   {
    "duration": 10,
    "start_time": "2021-08-03T08:06:52.424Z"
   },
   {
    "duration": 238,
    "start_time": "2021-08-03T08:06:52.855Z"
   },
   {
    "duration": 231,
    "start_time": "2021-08-03T08:06:53.207Z"
   },
   {
    "duration": 53,
    "start_time": "2021-08-03T08:06:54.098Z"
   },
   {
    "duration": 3,
    "start_time": "2021-08-03T08:06:54.276Z"
   },
   {
    "duration": 7,
    "start_time": "2021-08-03T08:06:55.673Z"
   },
   {
    "duration": 13,
    "start_time": "2021-08-03T08:06:56.376Z"
   },
   {
    "duration": 12,
    "start_time": "2021-08-03T08:06:57.144Z"
   },
   {
    "duration": 13,
    "start_time": "2021-08-03T08:06:57.666Z"
   },
   {
    "duration": 13,
    "start_time": "2021-08-03T08:06:58.127Z"
   },
   {
    "duration": 19,
    "start_time": "2021-08-03T08:06:58.812Z"
   },
   {
    "duration": 27,
    "start_time": "2021-08-03T08:08:13.700Z"
   },
   {
    "duration": 233,
    "start_time": "2021-08-03T08:09:12.162Z"
   },
   {
    "duration": 21,
    "start_time": "2021-08-03T08:10:07.947Z"
   },
   {
    "duration": 4,
    "start_time": "2021-08-03T08:13:58.595Z"
   },
   {
    "duration": 7,
    "start_time": "2021-08-03T08:14:03.703Z"
   },
   {
    "duration": 3,
    "start_time": "2021-08-03T08:14:17.621Z"
   },
   {
    "duration": 7,
    "start_time": "2021-08-03T08:14:28.318Z"
   },
   {
    "duration": 11,
    "start_time": "2021-08-03T08:19:42.824Z"
   },
   {
    "duration": 188,
    "start_time": "2021-08-03T08:20:56.757Z"
   },
   {
    "duration": 191,
    "start_time": "2021-08-03T08:21:05.334Z"
   },
   {
    "duration": 14,
    "start_time": "2021-08-03T08:21:13.993Z"
   },
   {
    "duration": 15,
    "start_time": "2021-08-03T08:23:48.228Z"
   },
   {
    "duration": 175,
    "start_time": "2021-08-03T08:25:31.407Z"
   },
   {
    "duration": 9,
    "start_time": "2021-08-03T08:25:41.278Z"
   },
   {
    "duration": 25,
    "start_time": "2021-08-03T08:26:08.482Z"
   },
   {
    "duration": 54,
    "start_time": "2021-08-03T08:30:27.022Z"
   },
   {
    "duration": 196,
    "start_time": "2021-08-03T08:30:41.626Z"
   },
   {
    "duration": 14,
    "start_time": "2021-08-03T08:32:15.559Z"
   },
   {
    "duration": 15,
    "start_time": "2021-08-03T08:32:34.261Z"
   },
   {
    "duration": 208,
    "start_time": "2021-08-03T08:33:21.942Z"
   },
   {
    "duration": 15,
    "start_time": "2021-08-03T08:33:27.245Z"
   },
   {
    "duration": 8,
    "start_time": "2021-08-03T08:38:22.631Z"
   },
   {
    "duration": 11,
    "start_time": "2021-08-03T08:39:36.053Z"
   },
   {
    "duration": 728,
    "start_time": "2021-08-03T08:40:40.966Z"
   },
   {
    "duration": 13,
    "start_time": "2021-08-03T08:40:50.096Z"
   },
   {
    "duration": 17,
    "start_time": "2021-08-03T08:41:21.092Z"
   },
   {
    "duration": 19,
    "start_time": "2021-08-03T08:41:48.689Z"
   },
   {
    "duration": 14,
    "start_time": "2021-08-03T08:42:25.831Z"
   },
   {
    "duration": 14,
    "start_time": "2021-08-03T08:43:41.955Z"
   },
   {
    "duration": 18,
    "start_time": "2021-08-03T08:43:47.584Z"
   },
   {
    "duration": 14,
    "start_time": "2021-08-03T08:44:01.746Z"
   },
   {
    "duration": 70,
    "start_time": "2021-08-03T08:45:00.738Z"
   },
   {
    "duration": 59,
    "start_time": "2021-08-03T08:45:18.079Z"
   },
   {
    "duration": 694,
    "start_time": "2021-08-03T08:46:41.467Z"
   },
   {
    "duration": 15,
    "start_time": "2021-08-03T08:47:08.632Z"
   },
   {
    "duration": 188,
    "start_time": "2021-08-03T08:51:25.093Z"
   },
   {
    "duration": 15,
    "start_time": "2021-08-03T08:52:55.197Z"
   },
   {
    "duration": 187,
    "start_time": "2021-08-03T08:53:18.435Z"
   },
   {
    "duration": 15,
    "start_time": "2021-08-03T08:53:26.634Z"
   },
   {
    "duration": 16,
    "start_time": "2021-08-03T08:54:16.176Z"
   },
   {
    "duration": 17,
    "start_time": "2021-08-03T09:02:40.045Z"
   },
   {
    "duration": 19,
    "start_time": "2021-08-03T09:03:58.155Z"
   },
   {
    "duration": 11,
    "start_time": "2021-08-03T09:05:19.074Z"
   },
   {
    "duration": 17,
    "start_time": "2021-08-03T09:05:38.856Z"
   },
   {
    "duration": 13,
    "start_time": "2021-08-03T09:06:47.585Z"
   },
   {
    "duration": 16,
    "start_time": "2021-08-03T09:06:53.361Z"
   },
   {
    "duration": 4,
    "start_time": "2021-08-03T09:10:49.737Z"
   },
   {
    "duration": 233,
    "start_time": "2021-08-03T09:16:26.304Z"
   },
   {
    "duration": 37,
    "start_time": "2021-08-03T09:16:35.531Z"
   },
   {
    "duration": 22,
    "start_time": "2021-08-03T09:20:55.297Z"
   },
   {
    "duration": 12,
    "start_time": "2021-08-03T09:25:47.491Z"
   },
   {
    "duration": 182,
    "start_time": "2021-08-03T09:27:34.660Z"
   },
   {
    "duration": 61,
    "start_time": "2021-08-03T09:28:58.234Z"
   },
   {
    "duration": 12,
    "start_time": "2021-08-03T09:30:58.670Z"
   },
   {
    "duration": 11,
    "start_time": "2021-08-03T09:35:25.260Z"
   },
   {
    "duration": 12,
    "start_time": "2021-08-03T09:36:24.436Z"
   },
   {
    "duration": 34,
    "start_time": "2021-08-03T09:40:17.436Z"
   },
   {
    "duration": 33,
    "start_time": "2021-08-03T09:45:37.348Z"
   },
   {
    "duration": 15,
    "start_time": "2021-08-03T09:53:25.745Z"
   },
   {
    "duration": 15,
    "start_time": "2021-08-03T09:58:22.149Z"
   },
   {
    "duration": 11,
    "start_time": "2021-08-03T10:06:00.886Z"
   },
   {
    "duration": 16,
    "start_time": "2021-08-03T10:06:19.489Z"
   },
   {
    "duration": 4180,
    "start_time": "2021-08-03T10:08:44.122Z"
   },
   {
    "duration": 741,
    "start_time": "2021-08-03T10:09:38.897Z"
   },
   {
    "duration": 14,
    "start_time": "2021-08-03T10:10:02.029Z"
   },
   {
    "duration": 16,
    "start_time": "2021-08-03T10:11:56.632Z"
   },
   {
    "duration": 15,
    "start_time": "2021-08-03T10:12:46.089Z"
   },
   {
    "duration": 15,
    "start_time": "2021-08-03T10:13:39.077Z"
   },
   {
    "duration": 209,
    "start_time": "2021-08-03T10:13:53.560Z"
   },
   {
    "duration": 201,
    "start_time": "2021-08-03T10:14:14.939Z"
   },
   {
    "duration": 193,
    "start_time": "2021-08-03T10:17:52.987Z"
   },
   {
    "duration": 182,
    "start_time": "2021-08-03T10:19:47.477Z"
   },
   {
    "duration": 62,
    "start_time": "2021-08-03T10:22:28.572Z"
   },
   {
    "duration": 176,
    "start_time": "2021-08-03T10:22:40.639Z"
   },
   {
    "duration": 169,
    "start_time": "2021-08-03T10:24:36.550Z"
   },
   {
    "duration": 3,
    "start_time": "2021-08-03T10:30:01.265Z"
   },
   {
    "duration": 10,
    "start_time": "2021-08-03T10:32:19.497Z"
   },
   {
    "duration": 88,
    "start_time": "2021-08-03T10:32:47.476Z"
   },
   {
    "duration": 3,
    "start_time": "2021-08-03T10:33:41.224Z"
   },
   {
    "duration": 16,
    "start_time": "2021-08-03T10:33:43.712Z"
   },
   {
    "duration": 179,
    "start_time": "2021-08-03T10:33:45.600Z"
   },
   {
    "duration": 224,
    "start_time": "2021-08-03T10:41:44.965Z"
   },
   {
    "duration": 197,
    "start_time": "2021-08-03T10:41:54.306Z"
   },
   {
    "duration": 353,
    "start_time": "2021-08-03T10:42:19.141Z"
   },
   {
    "duration": 6,
    "start_time": "2021-08-03T10:43:11.559Z"
   },
   {
    "duration": 37,
    "start_time": "2021-08-03T10:43:28.405Z"
   },
   {
    "duration": 372,
    "start_time": "2021-08-03T10:43:37.714Z"
   },
   {
    "duration": 13,
    "start_time": "2021-08-03T10:46:08.683Z"
   },
   {
    "duration": 12,
    "start_time": "2021-08-03T10:47:09.126Z"
   },
   {
    "duration": 13,
    "start_time": "2021-08-03T10:51:02.742Z"
   },
   {
    "duration": 21,
    "start_time": "2021-08-03T10:56:08.251Z"
   },
   {
    "duration": 12,
    "start_time": "2021-08-03T10:56:18.283Z"
   },
   {
    "duration": 15,
    "start_time": "2021-08-03T10:56:28.829Z"
   },
   {
    "duration": 203,
    "start_time": "2021-08-03T10:57:36.189Z"
   },
   {
    "duration": 13,
    "start_time": "2021-08-03T10:59:52.100Z"
   },
   {
    "duration": 13,
    "start_time": "2021-08-03T11:00:15.130Z"
   },
   {
    "duration": 2,
    "start_time": "2021-08-03T11:02:48.476Z"
   },
   {
    "duration": 12,
    "start_time": "2021-08-03T11:03:53.486Z"
   },
   {
    "duration": 13,
    "start_time": "2021-08-03T11:04:35.107Z"
   },
   {
    "duration": 15,
    "start_time": "2021-08-03T11:05:08.001Z"
   },
   {
    "duration": 17,
    "start_time": "2021-08-03T11:14:01.006Z"
   },
   {
    "duration": 18,
    "start_time": "2021-08-03T11:14:25.976Z"
   },
   {
    "duration": 14,
    "start_time": "2021-08-03T11:14:47.117Z"
   },
   {
    "duration": 14,
    "start_time": "2021-08-03T11:15:11.368Z"
   },
   {
    "duration": 13,
    "start_time": "2021-08-03T11:16:04.891Z"
   },
   {
    "duration": 13,
    "start_time": "2021-08-03T11:18:33.347Z"
   },
   {
    "duration": 13,
    "start_time": "2021-08-03T11:18:39.089Z"
   },
   {
    "duration": 13,
    "start_time": "2021-08-03T11:21:20.605Z"
   },
   {
    "duration": 12,
    "start_time": "2021-08-03T11:21:29.566Z"
   },
   {
    "duration": 35,
    "start_time": "2021-08-03T11:32:31.298Z"
   },
   {
    "duration": 36,
    "start_time": "2021-08-03T11:34:54.291Z"
   },
   {
    "duration": 17,
    "start_time": "2021-08-03T11:37:25.949Z"
   },
   {
    "duration": 197,
    "start_time": "2021-08-03T11:44:58.221Z"
   },
   {
    "duration": 188,
    "start_time": "2021-08-03T11:45:38.742Z"
   },
   {
    "duration": 175,
    "start_time": "2021-08-03T11:49:45.949Z"
   },
   {
    "duration": 175,
    "start_time": "2021-08-03T11:51:29.327Z"
   },
   {
    "duration": 200,
    "start_time": "2021-08-03T11:53:13.772Z"
   },
   {
    "duration": 201,
    "start_time": "2021-08-03T11:54:07.313Z"
   },
   {
    "duration": 201,
    "start_time": "2021-08-03T11:58:29.753Z"
   },
   {
    "duration": 195,
    "start_time": "2021-08-03T11:59:59.292Z"
   },
   {
    "duration": 303,
    "start_time": "2021-08-03T12:01:44.998Z"
   },
   {
    "duration": 243,
    "start_time": "2021-08-03T12:06:58.460Z"
   },
   {
    "duration": 199,
    "start_time": "2021-08-03T12:11:59.888Z"
   },
   {
    "duration": 198,
    "start_time": "2021-08-03T12:12:35.575Z"
   },
   {
    "duration": 111,
    "start_time": "2021-08-03T14:46:18.498Z"
   },
   {
    "duration": 12,
    "start_time": "2021-08-03T14:46:19.585Z"
   },
   {
    "duration": 10,
    "start_time": "2021-08-03T14:46:21.111Z"
   },
   {
    "duration": 12,
    "start_time": "2021-08-03T14:46:22.024Z"
   },
   {
    "duration": 10,
    "start_time": "2021-08-03T14:46:22.855Z"
   },
   {
    "duration": 24,
    "start_time": "2021-08-03T14:46:23.551Z"
   },
   {
    "duration": 13,
    "start_time": "2021-08-03T14:46:24.330Z"
   },
   {
    "duration": 4,
    "start_time": "2021-08-03T14:46:24.670Z"
   },
   {
    "duration": 4,
    "start_time": "2021-08-03T14:46:25.032Z"
   },
   {
    "duration": 39,
    "start_time": "2021-08-03T14:46:25.371Z"
   },
   {
    "duration": 18,
    "start_time": "2021-08-03T14:46:25.687Z"
   },
   {
    "duration": 40,
    "start_time": "2021-08-03T14:46:26.149Z"
   },
   {
    "duration": 46,
    "start_time": "2021-08-03T14:46:26.505Z"
   },
   {
    "duration": 462,
    "start_time": "2021-08-03T14:46:26.850Z"
   },
   {
    "duration": 39,
    "start_time": "2021-08-03T14:46:27.387Z"
   },
   {
    "duration": 38,
    "start_time": "2021-08-03T14:46:27.863Z"
   },
   {
    "duration": 12,
    "start_time": "2021-08-03T14:46:28.664Z"
   },
   {
    "duration": 191,
    "start_time": "2021-08-03T14:46:28.862Z"
   },
   {
    "duration": 9,
    "start_time": "2021-08-03T14:46:29.462Z"
   },
   {
    "duration": 199,
    "start_time": "2021-08-03T14:46:29.653Z"
   },
   {
    "duration": 9,
    "start_time": "2021-08-03T14:46:30.195Z"
   },
   {
    "duration": 178,
    "start_time": "2021-08-03T14:46:30.382Z"
   },
   {
    "duration": 9,
    "start_time": "2021-08-03T14:46:30.995Z"
   },
   {
    "duration": 180,
    "start_time": "2021-08-03T14:46:31.180Z"
   },
   {
    "duration": 9,
    "start_time": "2021-08-03T14:46:31.804Z"
   },
   {
    "duration": 281,
    "start_time": "2021-08-03T14:46:32.168Z"
   },
   {
    "duration": 180,
    "start_time": "2021-08-03T14:46:32.616Z"
   },
   {
    "duration": 45,
    "start_time": "2021-08-03T14:46:33.430Z"
   },
   {
    "duration": 3,
    "start_time": "2021-08-03T14:46:33.662Z"
   },
   {
    "duration": 10,
    "start_time": "2021-08-03T14:46:34.582Z"
   },
   {
    "duration": 13,
    "start_time": "2021-08-03T14:46:35.208Z"
   },
   {
    "duration": 15,
    "start_time": "2021-08-03T14:46:36.017Z"
   },
   {
    "duration": 13,
    "start_time": "2021-08-03T14:46:36.439Z"
   },
   {
    "duration": 13,
    "start_time": "2021-08-03T14:46:36.950Z"
   },
   {
    "duration": 17,
    "start_time": "2021-08-03T14:46:37.564Z"
   },
   {
    "duration": 12,
    "start_time": "2021-08-03T14:46:38.488Z"
   },
   {
    "duration": 12,
    "start_time": "2021-08-03T14:46:38.869Z"
   },
   {
    "duration": 5,
    "start_time": "2021-08-03T14:46:39.263Z"
   },
   {
    "duration": 15,
    "start_time": "2021-08-03T14:46:39.672Z"
   },
   {
    "duration": 179,
    "start_time": "2021-08-03T14:46:40.130Z"
   },
   {
    "duration": 35,
    "start_time": "2021-08-03T14:46:41.032Z"
   },
   {
    "duration": 183,
    "start_time": "2021-08-03T14:46:41.532Z"
   },
   {
    "duration": 197,
    "start_time": "2021-08-03T14:46:42.316Z"
   },
   {
    "duration": 240,
    "start_time": "2021-08-03T14:46:43.229Z"
   },
   {
    "duration": 223,
    "start_time": "2021-08-03T14:46:44.832Z"
   },
   {
    "duration": 13,
    "start_time": "2021-08-03T14:46:45.962Z"
   },
   {
    "duration": 12,
    "start_time": "2021-08-03T14:46:46.548Z"
   },
   {
    "duration": 182,
    "start_time": "2021-08-03T14:46:47.157Z"
   },
   {
    "duration": 13,
    "start_time": "2021-08-03T14:46:47.793Z"
   },
   {
    "duration": 12,
    "start_time": "2021-08-03T14:46:48.135Z"
   },
   {
    "duration": 12,
    "start_time": "2021-08-03T14:46:49.005Z"
   },
   {
    "duration": 16,
    "start_time": "2021-08-03T14:46:49.450Z"
   },
   {
    "duration": 12,
    "start_time": "2021-08-03T14:46:50.412Z"
   },
   {
    "duration": 13,
    "start_time": "2021-08-03T14:46:51.095Z"
   },
   {
    "duration": 1115,
    "start_time": "2021-08-04T10:17:36.542Z"
   },
   {
    "duration": 22,
    "start_time": "2021-08-04T10:17:37.660Z"
   },
   {
    "duration": 12,
    "start_time": "2021-08-04T10:17:37.686Z"
   },
   {
    "duration": 18,
    "start_time": "2021-08-04T10:17:37.701Z"
   },
   {
    "duration": 51,
    "start_time": "2021-08-04T10:17:37.722Z"
   },
   {
    "duration": 42,
    "start_time": "2021-08-04T10:17:37.775Z"
   },
   {
    "duration": 50,
    "start_time": "2021-08-04T10:17:37.819Z"
   },
   {
    "duration": 8,
    "start_time": "2021-08-04T10:17:37.874Z"
   },
   {
    "duration": 8,
    "start_time": "2021-08-04T10:17:37.887Z"
   },
   {
    "duration": 108,
    "start_time": "2021-08-04T10:17:37.898Z"
   },
   {
    "duration": 23,
    "start_time": "2021-08-04T10:17:38.009Z"
   },
   {
    "duration": 89,
    "start_time": "2021-08-04T10:17:38.034Z"
   },
   {
    "duration": 96,
    "start_time": "2021-08-04T10:17:38.125Z"
   },
   {
    "duration": 887,
    "start_time": "2021-08-04T10:17:38.224Z"
   },
   {
    "duration": 82,
    "start_time": "2021-08-04T10:17:39.113Z"
   },
   {
    "duration": 86,
    "start_time": "2021-08-04T10:17:39.197Z"
   },
   {
    "duration": 14,
    "start_time": "2021-08-04T10:17:39.287Z"
   },
   {
    "duration": 392,
    "start_time": "2021-08-04T10:17:39.304Z"
   },
   {
    "duration": 11,
    "start_time": "2021-08-04T10:17:39.698Z"
   },
   {
    "duration": 439,
    "start_time": "2021-08-04T10:17:39.711Z"
   },
   {
    "duration": 16,
    "start_time": "2021-08-04T10:17:40.159Z"
   },
   {
    "duration": 335,
    "start_time": "2021-08-04T10:17:40.179Z"
   },
   {
    "duration": 13,
    "start_time": "2021-08-04T10:17:40.522Z"
   },
   {
    "duration": 324,
    "start_time": "2021-08-04T10:17:40.561Z"
   },
   {
    "duration": 13,
    "start_time": "2021-08-04T10:17:40.889Z"
   },
   {
    "duration": 398,
    "start_time": "2021-08-04T10:17:40.905Z"
   },
   {
    "duration": 336,
    "start_time": "2021-08-04T10:17:41.306Z"
   },
   {
    "duration": 89,
    "start_time": "2021-08-04T10:17:41.646Z"
   },
   {
    "duration": 24,
    "start_time": "2021-08-04T10:17:41.738Z"
   },
   {
    "duration": 13,
    "start_time": "2021-08-04T10:17:41.767Z"
   },
   {
    "duration": 20,
    "start_time": "2021-08-04T10:17:41.786Z"
   },
   {
    "duration": 50,
    "start_time": "2021-08-04T10:17:41.808Z"
   },
   {
    "duration": 26,
    "start_time": "2021-08-04T10:17:41.861Z"
   },
   {
    "duration": 19,
    "start_time": "2021-08-04T10:17:41.890Z"
   },
   {
    "duration": 64,
    "start_time": "2021-08-04T10:17:41.911Z"
   },
   {
    "duration": 22,
    "start_time": "2021-08-04T10:17:41.978Z"
   },
   {
    "duration": 18,
    "start_time": "2021-08-04T10:17:42.003Z"
   },
   {
    "duration": 45,
    "start_time": "2021-08-04T10:17:42.024Z"
   },
   {
    "duration": 27,
    "start_time": "2021-08-04T10:17:42.072Z"
   },
   {
    "duration": 321,
    "start_time": "2021-08-04T10:17:42.101Z"
   },
   {
    "duration": 75,
    "start_time": "2021-08-04T10:17:42.425Z"
   },
   {
    "duration": 337,
    "start_time": "2021-08-04T10:17:42.503Z"
   },
   {
    "duration": 478,
    "start_time": "2021-08-04T10:17:42.842Z"
   },
   {
    "duration": 458,
    "start_time": "2021-08-04T10:17:43.322Z"
   },
   {
    "duration": 357,
    "start_time": "2021-08-04T10:17:43.783Z"
   },
   {
    "duration": 31,
    "start_time": "2021-08-04T10:17:44.143Z"
   },
   {
    "duration": 29,
    "start_time": "2021-08-04T10:17:44.178Z"
   },
   {
    "duration": 18,
    "start_time": "2021-08-04T10:17:44.210Z"
   },
   {
    "duration": 24,
    "start_time": "2021-08-04T10:17:44.256Z"
   },
   {
    "duration": 23,
    "start_time": "2021-08-04T10:17:44.282Z"
   },
   {
    "duration": 62,
    "start_time": "2021-08-04T10:17:44.308Z"
   },
   {
    "duration": 24,
    "start_time": "2021-08-04T10:17:44.372Z"
   },
   {
    "duration": 19,
    "start_time": "2021-08-04T10:17:44.399Z"
   },
   {
    "duration": 9,
    "start_time": "2021-08-04T10:40:46.818Z"
   },
   {
    "duration": 392,
    "start_time": "2021-08-04T10:40:59.068Z"
   },
   {
    "duration": 43,
    "start_time": "2021-08-04T10:41:05.567Z"
   },
   {
    "duration": 11,
    "start_time": "2021-08-04T10:41:30.697Z"
   },
   {
    "duration": 17,
    "start_time": "2021-08-04T10:55:32.189Z"
   },
   {
    "duration": 348,
    "start_time": "2021-08-04T10:55:37.077Z"
   },
   {
    "duration": 14,
    "start_time": "2021-08-04T10:55:41.105Z"
   },
   {
    "duration": 245,
    "start_time": "2021-08-04T17:22:27.195Z"
   },
   {
    "duration": 213,
    "start_time": "2021-08-04T17:22:34.271Z"
   },
   {
    "duration": 279,
    "start_time": "2021-08-04T17:22:40.263Z"
   },
   {
    "duration": 74,
    "start_time": "2021-08-04T17:22:50.468Z"
   },
   {
    "duration": 214,
    "start_time": "2021-08-04T17:22:58.698Z"
   },
   {
    "duration": 697,
    "start_time": "2021-08-04T17:23:11.795Z"
   },
   {
    "duration": 11,
    "start_time": "2021-08-04T17:23:12.494Z"
   },
   {
    "duration": 10,
    "start_time": "2021-08-04T17:23:13.814Z"
   },
   {
    "duration": 11,
    "start_time": "2021-08-04T17:23:15.611Z"
   },
   {
    "duration": 10,
    "start_time": "2021-08-04T17:23:16.993Z"
   },
   {
    "duration": 24,
    "start_time": "2021-08-04T17:23:18.080Z"
   },
   {
    "duration": 12,
    "start_time": "2021-08-04T17:23:18.612Z"
   },
   {
    "duration": 7,
    "start_time": "2021-08-04T17:23:19.154Z"
   },
   {
    "duration": 4,
    "start_time": "2021-08-04T17:23:20.034Z"
   },
   {
    "duration": 43,
    "start_time": "2021-08-04T17:23:20.559Z"
   },
   {
    "duration": 15,
    "start_time": "2021-08-04T17:23:20.953Z"
   },
   {
    "duration": 39,
    "start_time": "2021-08-04T17:23:22.673Z"
   },
   {
    "duration": 43,
    "start_time": "2021-08-04T17:23:23.967Z"
   },
   {
    "duration": 423,
    "start_time": "2021-08-04T17:23:25.337Z"
   },
   {
    "duration": 35,
    "start_time": "2021-08-04T17:23:26.155Z"
   },
   {
    "duration": 35,
    "start_time": "2021-08-04T17:23:27.568Z"
   },
   {
    "duration": 8,
    "start_time": "2021-08-04T17:23:30.385Z"
   },
   {
    "duration": 170,
    "start_time": "2021-08-04T17:23:31.047Z"
   },
   {
    "duration": 1041,
    "start_time": "2021-08-05T13:15:46.250Z"
   },
   {
    "duration": 17,
    "start_time": "2021-08-05T13:15:47.294Z"
   },
   {
    "duration": 12,
    "start_time": "2021-08-05T13:15:47.314Z"
   },
   {
    "duration": 16,
    "start_time": "2021-08-05T13:15:47.354Z"
   },
   {
    "duration": 12,
    "start_time": "2021-08-05T13:15:47.373Z"
   },
   {
    "duration": 69,
    "start_time": "2021-08-05T13:15:47.388Z"
   },
   {
    "duration": 18,
    "start_time": "2021-08-05T13:15:47.459Z"
   },
   {
    "duration": 6,
    "start_time": "2021-08-05T13:15:47.481Z"
   },
   {
    "duration": 10,
    "start_time": "2021-08-05T13:15:47.490Z"
   },
   {
    "duration": 102,
    "start_time": "2021-08-05T13:15:47.503Z"
   },
   {
    "duration": 23,
    "start_time": "2021-08-05T13:15:47.607Z"
   },
   {
    "duration": 83,
    "start_time": "2021-08-05T13:15:47.632Z"
   },
   {
    "duration": 98,
    "start_time": "2021-08-05T13:15:47.718Z"
   },
   {
    "duration": 844,
    "start_time": "2021-08-05T13:15:47.818Z"
   },
   {
    "duration": 61,
    "start_time": "2021-08-05T13:15:48.664Z"
   },
   {
    "duration": 84,
    "start_time": "2021-08-05T13:15:48.728Z"
   },
   {
    "duration": 12,
    "start_time": "2021-08-05T13:15:48.814Z"
   },
   {
    "duration": 357,
    "start_time": "2021-08-05T13:15:48.828Z"
   },
   {
    "duration": 13,
    "start_time": "2021-08-05T13:15:49.187Z"
   },
   {
    "duration": 496,
    "start_time": "2021-08-05T13:15:49.202Z"
   },
   {
    "duration": 10,
    "start_time": "2021-08-05T13:15:49.701Z"
   },
   {
    "duration": 294,
    "start_time": "2021-08-05T13:15:49.714Z"
   },
   {
    "duration": 11,
    "start_time": "2021-08-05T13:15:50.016Z"
   },
   {
    "duration": 319,
    "start_time": "2021-08-05T13:15:50.030Z"
   },
   {
    "duration": 12,
    "start_time": "2021-08-05T13:15:50.355Z"
   },
   {
    "duration": 368,
    "start_time": "2021-08-05T13:15:50.370Z"
   },
   {
    "duration": 437,
    "start_time": "2021-08-05T13:15:50.740Z"
   },
   {
    "duration": 115,
    "start_time": "2021-08-05T13:15:51.180Z"
   },
   {
    "duration": 5,
    "start_time": "2021-08-05T13:15:51.298Z"
   },
   {
    "duration": 25,
    "start_time": "2021-08-05T13:15:51.305Z"
   },
   {
    "duration": 36,
    "start_time": "2021-08-05T13:15:51.333Z"
   },
   {
    "duration": 19,
    "start_time": "2021-08-05T13:15:51.372Z"
   },
   {
    "duration": 26,
    "start_time": "2021-08-05T13:15:51.394Z"
   },
   {
    "duration": 51,
    "start_time": "2021-08-05T13:15:51.423Z"
   },
   {
    "duration": 29,
    "start_time": "2021-08-05T13:15:51.477Z"
   },
   {
    "duration": 55,
    "start_time": "2021-08-05T13:15:51.509Z"
   },
   {
    "duration": 20,
    "start_time": "2021-08-05T13:15:51.568Z"
   },
   {
    "duration": 6,
    "start_time": "2021-08-05T13:15:51.591Z"
   },
   {
    "duration": 63,
    "start_time": "2021-08-05T13:15:51.600Z"
   },
   {
    "duration": 327,
    "start_time": "2021-08-05T13:15:51.666Z"
   },
   {
    "duration": 76,
    "start_time": "2021-08-05T13:15:51.996Z"
   },
   {
    "duration": 317,
    "start_time": "2021-08-05T13:15:52.075Z"
   },
   {
    "duration": 351,
    "start_time": "2021-08-05T13:15:52.395Z"
   },
   {
    "duration": 410,
    "start_time": "2021-08-05T13:15:52.748Z"
   },
   {
    "duration": 434,
    "start_time": "2021-08-05T13:15:53.160Z"
   },
   {
    "duration": 19,
    "start_time": "2021-08-05T13:15:53.596Z"
   },
   {
    "duration": 49,
    "start_time": "2021-08-05T13:15:53.617Z"
   },
   {
    "duration": 37,
    "start_time": "2021-08-05T13:15:53.668Z"
   },
   {
    "duration": 18,
    "start_time": "2021-08-05T13:15:53.708Z"
   },
   {
    "duration": 43,
    "start_time": "2021-08-05T13:15:53.728Z"
   },
   {
    "duration": 38,
    "start_time": "2021-08-05T13:15:53.774Z"
   },
   {
    "duration": 18,
    "start_time": "2021-08-05T13:15:53.815Z"
   },
   {
    "duration": 36,
    "start_time": "2021-08-05T13:15:53.835Z"
   },
   {
    "duration": 376,
    "start_time": "2021-08-05T13:33:24.306Z"
   },
   {
    "duration": 373,
    "start_time": "2021-08-05T13:33:29.272Z"
   },
   {
    "duration": 64,
    "start_time": "2021-08-05T13:37:44.028Z"
   },
   {
    "duration": 14,
    "start_time": "2021-08-05T13:37:51.715Z"
   },
   {
    "duration": 16,
    "start_time": "2021-08-05T13:38:04.193Z"
   },
   {
    "duration": 890,
    "start_time": "2021-08-06T07:38:55.498Z"
   },
   {
    "duration": 15,
    "start_time": "2021-08-06T07:38:56.457Z"
   },
   {
    "duration": 12,
    "start_time": "2021-08-06T07:38:59.682Z"
   },
   {
    "duration": 11,
    "start_time": "2021-08-06T07:39:33.936Z"
   },
   {
    "duration": 9,
    "start_time": "2021-08-06T07:39:36.391Z"
   },
   {
    "duration": 23,
    "start_time": "2021-08-06T07:39:37.862Z"
   },
   {
    "duration": 12,
    "start_time": "2021-08-06T07:39:39.383Z"
   },
   {
    "duration": 7,
    "start_time": "2021-08-06T07:39:40.884Z"
   },
   {
    "duration": 4,
    "start_time": "2021-08-06T07:39:41.817Z"
   },
   {
    "duration": 42,
    "start_time": "2021-08-06T07:39:43.059Z"
   },
   {
    "duration": 16,
    "start_time": "2021-08-06T07:41:40.638Z"
   },
   {
    "duration": 40,
    "start_time": "2021-08-06T07:41:43.146Z"
   },
   {
    "duration": 45,
    "start_time": "2021-08-06T07:41:44.061Z"
   },
   {
    "duration": 431,
    "start_time": "2021-08-06T07:41:45.419Z"
   },
   {
    "duration": 35,
    "start_time": "2021-08-06T07:41:47.522Z"
   },
   {
    "duration": 34,
    "start_time": "2021-08-06T07:41:47.570Z"
   },
   {
    "duration": 8,
    "start_time": "2021-08-06T07:41:49.706Z"
   },
   {
    "duration": 165,
    "start_time": "2021-08-06T07:41:50.543Z"
   },
   {
    "duration": 228,
    "start_time": "2021-08-06T07:45:28.435Z"
   },
   {
    "duration": 173,
    "start_time": "2021-08-06T07:46:51.133Z"
   },
   {
    "duration": 175,
    "start_time": "2021-08-06T07:49:57.678Z"
   },
   {
    "duration": 187,
    "start_time": "2021-08-06T07:50:51.661Z"
   },
   {
    "duration": 160,
    "start_time": "2021-08-06T07:55:32.126Z"
   },
   {
    "duration": 165,
    "start_time": "2021-08-06T07:59:17.192Z"
   },
   {
    "duration": 189,
    "start_time": "2021-08-06T08:00:00.672Z"
   },
   {
    "duration": 49,
    "start_time": "2021-08-06T08:05:48.266Z"
   },
   {
    "duration": 3,
    "start_time": "2021-08-06T08:08:52.839Z"
   },
   {
    "duration": 41,
    "start_time": "2021-08-06T08:10:08.651Z"
   },
   {
    "duration": 41,
    "start_time": "2021-08-06T08:11:27.551Z"
   },
   {
    "duration": 40,
    "start_time": "2021-08-06T08:13:15.478Z"
   },
   {
    "duration": 3,
    "start_time": "2021-08-06T08:14:35.024Z"
   },
   {
    "duration": 49,
    "start_time": "2021-08-06T08:18:12.935Z"
   },
   {
    "duration": 3,
    "start_time": "2021-08-06T08:18:28.770Z"
   },
   {
    "duration": 9,
    "start_time": "2021-08-06T08:22:56.145Z"
   },
   {
    "duration": 13,
    "start_time": "2021-08-06T08:26:56.424Z"
   },
   {
    "duration": 16,
    "start_time": "2021-08-06T08:28:36.204Z"
   },
   {
    "duration": 12,
    "start_time": "2021-08-06T08:30:25.918Z"
   },
   {
    "duration": 3,
    "start_time": "2021-08-06T08:37:52.963Z"
   },
   {
    "duration": 7,
    "start_time": "2021-08-06T08:37:55.804Z"
   },
   {
    "duration": 12,
    "start_time": "2021-08-06T08:37:58.857Z"
   },
   {
    "duration": 13,
    "start_time": "2021-08-06T08:38:01.768Z"
   },
   {
    "duration": 13,
    "start_time": "2021-08-06T08:38:20.087Z"
   },
   {
    "duration": 13,
    "start_time": "2021-08-06T08:39:31.956Z"
   },
   {
    "duration": 12,
    "start_time": "2021-08-06T08:40:07.188Z"
   },
   {
    "duration": 14,
    "start_time": "2021-08-06T08:42:53.075Z"
   },
   {
    "duration": 13,
    "start_time": "2021-08-06T08:42:55.861Z"
   },
   {
    "duration": 18,
    "start_time": "2021-08-06T08:42:58.869Z"
   },
   {
    "duration": 14,
    "start_time": "2021-08-06T08:43:59.576Z"
   },
   {
    "duration": 14,
    "start_time": "2021-08-06T08:44:02.654Z"
   },
   {
    "duration": 4,
    "start_time": "2021-08-06T08:44:09.287Z"
   },
   {
    "duration": 14,
    "start_time": "2021-08-06T08:44:13.199Z"
   },
   {
    "duration": 156,
    "start_time": "2021-08-06T08:44:21.417Z"
   },
   {
    "duration": 34,
    "start_time": "2021-08-06T08:45:08.264Z"
   },
   {
    "duration": 160,
    "start_time": "2021-08-06T08:45:12.128Z"
   },
   {
    "duration": 186,
    "start_time": "2021-08-06T08:47:06.477Z"
   },
   {
    "duration": 181,
    "start_time": "2021-08-06T08:49:03.595Z"
   },
   {
    "duration": 251,
    "start_time": "2021-08-06T08:49:14.854Z"
   },
   {
    "duration": 176,
    "start_time": "2021-08-06T08:49:19.817Z"
   },
   {
    "duration": 186,
    "start_time": "2021-08-06T08:50:30.598Z"
   },
   {
    "duration": 198,
    "start_time": "2021-08-06T08:51:38.731Z"
   },
   {
    "duration": 246,
    "start_time": "2021-08-06T08:54:57.831Z"
   },
   {
    "duration": 244,
    "start_time": "2021-08-06T08:58:22.876Z"
   },
   {
    "duration": 210,
    "start_time": "2021-08-06T09:03:10.952Z"
   },
   {
    "duration": 206,
    "start_time": "2021-08-06T09:03:45.181Z"
   },
   {
    "duration": 13,
    "start_time": "2021-08-06T09:04:20.415Z"
   },
   {
    "duration": 13,
    "start_time": "2021-08-06T09:04:28.577Z"
   },
   {
    "duration": 45,
    "start_time": "2021-08-06T09:06:34.115Z"
   },
   {
    "duration": 3,
    "start_time": "2021-08-06T09:06:36.363Z"
   },
   {
    "duration": 7,
    "start_time": "2021-08-06T09:06:37.902Z"
   },
   {
    "duration": 13,
    "start_time": "2021-08-06T09:06:39.492Z"
   },
   {
    "duration": 13,
    "start_time": "2021-08-06T09:06:40.386Z"
   },
   {
    "duration": 13,
    "start_time": "2021-08-06T09:06:41.485Z"
   },
   {
    "duration": 14,
    "start_time": "2021-08-06T09:06:42.124Z"
   },
   {
    "duration": 17,
    "start_time": "2021-08-06T09:06:43.424Z"
   },
   {
    "duration": 15,
    "start_time": "2021-08-06T09:06:45.824Z"
   },
   {
    "duration": 15,
    "start_time": "2021-08-06T09:06:46.467Z"
   },
   {
    "duration": 4,
    "start_time": "2021-08-06T09:06:46.973Z"
   },
   {
    "duration": 14,
    "start_time": "2021-08-06T09:06:47.657Z"
   },
   {
    "duration": 162,
    "start_time": "2021-08-06T09:06:48.152Z"
   },
   {
    "duration": 35,
    "start_time": "2021-08-06T09:06:50.052Z"
   },
   {
    "duration": 199,
    "start_time": "2021-08-06T09:06:53.656Z"
   },
   {
    "duration": 215,
    "start_time": "2021-08-06T09:06:55.420Z"
   },
   {
    "duration": 386,
    "start_time": "2021-08-06T09:06:56.132Z"
   },
   {
    "duration": 205,
    "start_time": "2021-08-06T09:06:56.863Z"
   },
   {
    "duration": 13,
    "start_time": "2021-08-06T09:06:58.503Z"
   },
   {
    "duration": 13,
    "start_time": "2021-08-06T09:06:58.987Z"
   },
   {
    "duration": 17,
    "start_time": "2021-08-06T09:06:59.924Z"
   },
   {
    "duration": 17,
    "start_time": "2021-08-06T09:07:00.402Z"
   },
   {
    "duration": 18,
    "start_time": "2021-08-06T09:07:01.601Z"
   },
   {
    "duration": 18,
    "start_time": "2021-08-06T09:07:02.426Z"
   },
   {
    "duration": 21,
    "start_time": "2021-08-06T09:08:27.219Z"
   },
   {
    "duration": 15,
    "start_time": "2021-08-06T09:08:28.351Z"
   },
   {
    "duration": 4,
    "start_time": "2021-08-06T09:08:28.663Z"
   },
   {
    "duration": 14,
    "start_time": "2021-08-06T09:08:28.986Z"
   },
   {
    "duration": 170,
    "start_time": "2021-08-06T09:08:29.281Z"
   },
   {
    "duration": 34,
    "start_time": "2021-08-06T09:08:30.147Z"
   },
   {
    "duration": 441,
    "start_time": "2021-08-06T09:08:30.706Z"
   },
   {
    "duration": 403,
    "start_time": "2021-08-06T09:08:31.496Z"
   },
   {
    "duration": 304,
    "start_time": "2021-08-06T09:08:31.980Z"
   },
   {
    "duration": 321,
    "start_time": "2021-08-06T09:08:32.463Z"
   },
   {
    "duration": 18,
    "start_time": "2021-08-06T09:08:33.105Z"
   },
   {
    "duration": 18,
    "start_time": "2021-08-06T09:08:33.460Z"
   },
   {
    "duration": 18,
    "start_time": "2021-08-06T09:08:42.152Z"
   },
   {
    "duration": 33,
    "start_time": "2021-08-06T09:10:03.174Z"
   },
   {
    "duration": 104,
    "start_time": "2021-08-06T09:10:29.989Z"
   },
   {
    "duration": 10,
    "start_time": "2021-08-06T09:10:30.376Z"
   },
   {
    "duration": 9,
    "start_time": "2021-08-06T09:10:31.783Z"
   },
   {
    "duration": 18,
    "start_time": "2021-08-06T09:10:33.845Z"
   },
   {
    "duration": 15,
    "start_time": "2021-08-06T09:10:34.643Z"
   },
   {
    "duration": 37,
    "start_time": "2021-08-06T09:10:35.284Z"
   },
   {
    "duration": 21,
    "start_time": "2021-08-06T09:10:36.217Z"
   },
   {
    "duration": 5,
    "start_time": "2021-08-06T09:10:36.594Z"
   },
   {
    "duration": 5,
    "start_time": "2021-08-06T09:10:36.996Z"
   },
   {
    "duration": 68,
    "start_time": "2021-08-06T09:10:37.341Z"
   },
   {
    "duration": 17,
    "start_time": "2021-08-06T09:10:37.932Z"
   },
   {
    "duration": 39,
    "start_time": "2021-08-06T09:10:39.011Z"
   },
   {
    "duration": 41,
    "start_time": "2021-08-06T09:10:39.379Z"
   },
   {
    "duration": 438,
    "start_time": "2021-08-06T09:10:39.745Z"
   },
   {
    "duration": 35,
    "start_time": "2021-08-06T09:10:40.292Z"
   },
   {
    "duration": 36,
    "start_time": "2021-08-06T09:10:40.708Z"
   },
   {
    "duration": 8,
    "start_time": "2021-08-06T09:10:41.899Z"
   },
   {
    "duration": 176,
    "start_time": "2021-08-06T09:10:42.099Z"
   },
   {
    "duration": 9,
    "start_time": "2021-08-06T09:10:44.071Z"
   },
   {
    "duration": 271,
    "start_time": "2021-08-06T09:10:44.397Z"
   },
   {
    "duration": 8,
    "start_time": "2021-08-06T09:10:45.430Z"
   },
   {
    "duration": 162,
    "start_time": "2021-08-06T09:10:45.668Z"
   },
   {
    "duration": 8,
    "start_time": "2021-08-06T09:10:46.324Z"
   },
   {
    "duration": 164,
    "start_time": "2021-08-06T09:10:46.588Z"
   },
   {
    "duration": 9,
    "start_time": "2021-08-06T09:10:47.695Z"
   },
   {
    "duration": 172,
    "start_time": "2021-08-06T09:10:48.114Z"
   },
   {
    "duration": 157,
    "start_time": "2021-08-06T09:10:48.568Z"
   },
   {
    "duration": 47,
    "start_time": "2021-08-06T09:10:49.550Z"
   },
   {
    "duration": 3,
    "start_time": "2021-08-06T09:10:51.415Z"
   },
   {
    "duration": 8,
    "start_time": "2021-08-06T09:10:52.589Z"
   },
   {
    "duration": 12,
    "start_time": "2021-08-06T09:10:54.043Z"
   },
   {
    "duration": 11,
    "start_time": "2021-08-06T09:10:54.820Z"
   },
   {
    "duration": 13,
    "start_time": "2021-08-06T09:10:55.625Z"
   },
   {
    "duration": 12,
    "start_time": "2021-08-06T09:10:56.645Z"
   },
   {
    "duration": 16,
    "start_time": "2021-08-06T09:10:59.419Z"
   },
   {
    "duration": 14,
    "start_time": "2021-08-06T09:11:01.672Z"
   },
   {
    "duration": 13,
    "start_time": "2021-08-06T09:11:02.218Z"
   },
   {
    "duration": 4,
    "start_time": "2021-08-06T09:11:02.713Z"
   },
   {
    "duration": 14,
    "start_time": "2021-08-06T09:11:03.625Z"
   },
   {
    "duration": 175,
    "start_time": "2021-08-06T09:11:04.590Z"
   },
   {
    "duration": 31,
    "start_time": "2021-08-06T09:11:06.556Z"
   },
   {
    "duration": 199,
    "start_time": "2021-08-06T09:11:09.053Z"
   },
   {
    "duration": 207,
    "start_time": "2021-08-06T09:11:10.920Z"
   },
   {
    "duration": 248,
    "start_time": "2021-08-06T09:11:12.406Z"
   },
   {
    "duration": 196,
    "start_time": "2021-08-06T09:11:13.590Z"
   },
   {
    "duration": 13,
    "start_time": "2021-08-06T09:11:20.256Z"
   },
   {
    "duration": 12,
    "start_time": "2021-08-06T09:11:30.564Z"
   },
   {
    "duration": 12,
    "start_time": "2021-08-06T09:15:13.928Z"
   },
   {
    "duration": 12,
    "start_time": "2021-08-06T09:15:27.615Z"
   },
   {
    "duration": 12,
    "start_time": "2021-08-06T09:15:35.187Z"
   },
   {
    "duration": 12,
    "start_time": "2021-08-06T09:15:40.473Z"
   },
   {
    "duration": 12,
    "start_time": "2021-08-06T09:16:05.046Z"
   },
   {
    "duration": 14,
    "start_time": "2021-08-06T09:17:50.792Z"
   },
   {
    "duration": 14,
    "start_time": "2021-08-06T09:18:47.813Z"
   },
   {
    "duration": 12,
    "start_time": "2021-08-06T09:18:52.182Z"
   },
   {
    "duration": 12,
    "start_time": "2021-08-06T09:18:53.781Z"
   },
   {
    "duration": 12,
    "start_time": "2021-08-06T09:18:56.405Z"
   },
   {
    "duration": 13,
    "start_time": "2021-08-06T09:18:58.629Z"
   },
   {
    "duration": 13,
    "start_time": "2021-08-06T09:20:58.580Z"
   },
   {
    "duration": 14,
    "start_time": "2021-08-06T09:23:28.718Z"
   },
   {
    "duration": 12,
    "start_time": "2021-08-06T09:37:24.903Z"
   },
   {
    "duration": 13,
    "start_time": "2021-08-06T09:39:32.709Z"
   },
   {
    "duration": 12,
    "start_time": "2021-08-06T09:42:55.557Z"
   },
   {
    "duration": 46,
    "start_time": "2021-08-06T09:45:10.490Z"
   },
   {
    "duration": 3,
    "start_time": "2021-08-06T09:45:12.021Z"
   },
   {
    "duration": 7,
    "start_time": "2021-08-06T09:45:13.362Z"
   },
   {
    "duration": 12,
    "start_time": "2021-08-06T09:45:14.070Z"
   },
   {
    "duration": 12,
    "start_time": "2021-08-06T09:45:14.593Z"
   },
   {
    "duration": 13,
    "start_time": "2021-08-06T09:45:15.117Z"
   },
   {
    "duration": 12,
    "start_time": "2021-08-06T09:45:15.456Z"
   },
   {
    "duration": 16,
    "start_time": "2021-08-06T09:45:16.142Z"
   },
   {
    "duration": 14,
    "start_time": "2021-08-06T09:45:17.384Z"
   },
   {
    "duration": 14,
    "start_time": "2021-08-06T09:45:17.734Z"
   },
   {
    "duration": 5,
    "start_time": "2021-08-06T09:45:18.092Z"
   },
   {
    "duration": 14,
    "start_time": "2021-08-06T09:45:19.215Z"
   },
   {
    "duration": 156,
    "start_time": "2021-08-06T09:45:19.611Z"
   },
   {
    "duration": 32,
    "start_time": "2021-08-06T09:45:20.637Z"
   },
   {
    "duration": 269,
    "start_time": "2021-08-06T09:45:20.995Z"
   },
   {
    "duration": 211,
    "start_time": "2021-08-06T09:45:22.700Z"
   },
   {
    "duration": 263,
    "start_time": "2021-08-06T09:45:23.292Z"
   },
   {
    "duration": 203,
    "start_time": "2021-08-06T09:45:23.960Z"
   },
   {
    "duration": 12,
    "start_time": "2021-08-06T09:45:24.861Z"
   },
   {
    "duration": 12,
    "start_time": "2021-08-06T09:45:26.812Z"
   },
   {
    "duration": 1018,
    "start_time": "2021-08-07T07:26:47.820Z"
   },
   {
    "duration": 14,
    "start_time": "2021-08-07T07:26:48.840Z"
   },
   {
    "duration": 30,
    "start_time": "2021-08-07T07:26:48.857Z"
   },
   {
    "duration": 17,
    "start_time": "2021-08-07T07:26:48.890Z"
   },
   {
    "duration": 11,
    "start_time": "2021-08-07T07:26:48.910Z"
   },
   {
    "duration": 64,
    "start_time": "2021-08-07T07:26:48.924Z"
   },
   {
    "duration": 17,
    "start_time": "2021-08-07T07:26:48.991Z"
   },
   {
    "duration": 5,
    "start_time": "2021-08-07T07:26:49.012Z"
   },
   {
    "duration": 4,
    "start_time": "2021-08-07T07:26:49.020Z"
   },
   {
    "duration": 100,
    "start_time": "2021-08-07T07:26:49.026Z"
   },
   {
    "duration": 20,
    "start_time": "2021-08-07T07:26:49.129Z"
   },
   {
    "duration": 82,
    "start_time": "2021-08-07T07:26:49.151Z"
   },
   {
    "duration": 74,
    "start_time": "2021-08-07T07:26:49.236Z"
   },
   {
    "duration": 796,
    "start_time": "2021-08-07T07:26:49.312Z"
   },
   {
    "duration": 55,
    "start_time": "2021-08-07T07:26:50.111Z"
   },
   {
    "duration": 84,
    "start_time": "2021-08-07T07:26:50.169Z"
   },
   {
    "duration": 41,
    "start_time": "2021-08-07T07:26:50.256Z"
   },
   {
    "duration": 341,
    "start_time": "2021-08-07T07:26:50.300Z"
   },
   {
    "duration": 12,
    "start_time": "2021-08-07T07:26:50.644Z"
   },
   {
    "duration": 417,
    "start_time": "2021-08-07T07:26:50.658Z"
   },
   {
    "duration": 14,
    "start_time": "2021-08-07T07:26:51.077Z"
   },
   {
    "duration": 322,
    "start_time": "2021-08-07T07:26:51.094Z"
   },
   {
    "duration": 11,
    "start_time": "2021-08-07T07:26:51.422Z"
   },
   {
    "duration": 337,
    "start_time": "2021-08-07T07:26:51.436Z"
   },
   {
    "duration": 20,
    "start_time": "2021-08-07T07:26:51.775Z"
   },
   {
    "duration": 361,
    "start_time": "2021-08-07T07:26:51.798Z"
   },
   {
    "duration": 331,
    "start_time": "2021-08-07T07:26:52.161Z"
   },
   {
    "duration": 75,
    "start_time": "2021-08-07T07:26:52.495Z"
   },
   {
    "duration": 22,
    "start_time": "2021-08-07T07:26:52.572Z"
   },
   {
    "duration": 14,
    "start_time": "2021-08-07T07:26:52.596Z"
   },
   {
    "duration": 18,
    "start_time": "2021-08-07T07:26:52.613Z"
   },
   {
    "duration": 16,
    "start_time": "2021-08-07T07:26:52.633Z"
   },
   {
    "duration": 25,
    "start_time": "2021-08-07T07:26:52.687Z"
   },
   {
    "duration": 19,
    "start_time": "2021-08-07T07:26:52.715Z"
   },
   {
    "duration": 54,
    "start_time": "2021-08-07T07:26:52.737Z"
   },
   {
    "duration": 30,
    "start_time": "2021-08-07T07:26:52.794Z"
   },
   {
    "duration": 19,
    "start_time": "2021-08-07T07:26:52.826Z"
   },
   {
    "duration": 5,
    "start_time": "2021-08-07T07:26:52.847Z"
   },
   {
    "duration": 27,
    "start_time": "2021-08-07T07:26:52.887Z"
   },
   {
    "duration": 319,
    "start_time": "2021-08-07T07:26:52.916Z"
   },
   {
    "duration": 70,
    "start_time": "2021-08-07T07:26:53.238Z"
   },
   {
    "duration": 349,
    "start_time": "2021-08-07T07:26:53.311Z"
   },
   {
    "duration": 412,
    "start_time": "2021-08-07T07:26:53.662Z"
   },
   {
    "duration": 473,
    "start_time": "2021-08-07T07:26:54.076Z"
   },
   {
    "duration": 362,
    "start_time": "2021-08-07T07:26:54.551Z"
   },
   {
    "duration": 19,
    "start_time": "2021-08-07T07:26:54.916Z"
   },
   {
    "duration": 17,
    "start_time": "2021-08-07T07:26:54.937Z"
   },
   {
    "duration": 20,
    "start_time": "2021-08-07T07:26:54.991Z"
   },
   {
    "duration": 18,
    "start_time": "2021-08-07T07:26:55.013Z"
   },
   {
    "duration": 16,
    "start_time": "2021-08-07T07:26:55.033Z"
   },
   {
    "duration": 62,
    "start_time": "2021-08-07T07:26:55.052Z"
   },
   {
    "duration": 17,
    "start_time": "2021-08-07T07:26:55.117Z"
   },
   {
    "duration": 18,
    "start_time": "2021-08-07T07:26:55.136Z"
   },
   {
    "duration": 82,
    "start_time": "2021-08-07T07:43:59.733Z"
   },
   {
    "duration": 5,
    "start_time": "2021-08-07T07:50:31.057Z"
   },
   {
    "duration": 6,
    "start_time": "2021-08-07T07:51:30.672Z"
   },
   {
    "duration": 78,
    "start_time": "2021-08-07T07:53:13.925Z"
   },
   {
    "duration": 71,
    "start_time": "2021-08-07T07:54:18.391Z"
   },
   {
    "duration": 86,
    "start_time": "2021-08-07T07:54:24.446Z"
   },
   {
    "duration": 27,
    "start_time": "2021-08-07T07:54:53.831Z"
   },
   {
    "duration": 1280,
    "start_time": "2022-04-06T13:14:01.582Z"
   },
   {
    "duration": 136,
    "start_time": "2022-04-06T13:14:09.264Z"
   },
   {
    "duration": 4,
    "start_time": "2022-04-06T13:15:15.548Z"
   },
   {
    "duration": 128,
    "start_time": "2022-04-06T13:15:23.651Z"
   },
   {
    "duration": 4,
    "start_time": "2022-04-06T13:15:43.694Z"
   },
   {
    "duration": 157,
    "start_time": "2022-04-06T13:15:48.023Z"
   },
   {
    "duration": 21,
    "start_time": "2022-04-06T13:19:39.544Z"
   },
   {
    "duration": 109,
    "start_time": "2022-04-06T13:19:50.989Z"
   },
   {
    "duration": 141,
    "start_time": "2022-04-06T13:19:56.581Z"
   },
   {
    "duration": 23,
    "start_time": "2022-04-06T13:19:59.213Z"
   },
   {
    "duration": 4,
    "start_time": "2022-04-06T15:34:21.589Z"
   },
   {
    "duration": 148,
    "start_time": "2022-04-06T15:34:24.633Z"
   },
   {
    "duration": 720,
    "start_time": "2022-04-07T07:51:37.295Z"
   },
   {
    "duration": 99,
    "start_time": "2022-04-07T07:51:40.158Z"
   },
   {
    "duration": 17,
    "start_time": "2022-04-07T07:51:45.176Z"
   },
   {
    "duration": 9,
    "start_time": "2022-04-07T07:55:26.759Z"
   },
   {
    "duration": 9,
    "start_time": "2022-04-07T08:00:01.931Z"
   },
   {
    "duration": 14,
    "start_time": "2022-04-07T08:01:06.527Z"
   },
   {
    "duration": 15,
    "start_time": "2022-04-07T08:11:55.481Z"
   },
   {
    "duration": 16,
    "start_time": "2022-04-07T08:12:35.801Z"
   },
   {
    "duration": 16,
    "start_time": "2022-04-07T08:16:46.251Z"
   },
   {
    "duration": 15,
    "start_time": "2022-04-07T08:17:37.326Z"
   },
   {
    "duration": 4,
    "start_time": "2022-04-07T08:18:47.909Z"
   },
   {
    "duration": 27,
    "start_time": "2022-04-07T08:19:37.080Z"
   },
   {
    "duration": 2,
    "start_time": "2022-04-07T08:20:04.895Z"
   },
   {
    "duration": 18,
    "start_time": "2022-04-07T08:20:35.933Z"
   },
   {
    "duration": 11,
    "start_time": "2022-04-07T08:21:00.000Z"
   },
   {
    "duration": 26,
    "start_time": "2022-04-07T08:21:02.175Z"
   },
   {
    "duration": 15,
    "start_time": "2022-04-07T08:21:03.505Z"
   },
   {
    "duration": 11,
    "start_time": "2022-04-07T08:21:04.164Z"
   },
   {
    "duration": 3,
    "start_time": "2022-04-07T08:21:36.237Z"
   },
   {
    "duration": 28,
    "start_time": "2022-04-07T08:23:47.756Z"
   },
   {
    "duration": 3,
    "start_time": "2022-04-07T08:23:51.687Z"
   },
   {
    "duration": 4,
    "start_time": "2022-04-07T08:24:46.595Z"
   },
   {
    "duration": 11,
    "start_time": "2022-04-07T08:25:17.841Z"
   },
   {
    "duration": 254,
    "start_time": "2022-04-07T08:25:38.367Z"
   },
   {
    "duration": 5,
    "start_time": "2022-04-07T08:26:02.334Z"
   },
   {
    "duration": 27,
    "start_time": "2022-04-07T08:28:19.531Z"
   },
   {
    "duration": 3,
    "start_time": "2022-04-07T08:28:27.579Z"
   },
   {
    "duration": 9,
    "start_time": "2022-04-07T08:30:02.010Z"
   },
   {
    "duration": 202,
    "start_time": "2022-04-07T08:30:03.702Z"
   },
   {
    "duration": 10,
    "start_time": "2022-04-07T08:33:22.038Z"
   },
   {
    "duration": 145,
    "start_time": "2022-04-07T08:33:23.180Z"
   },
   {
    "duration": 9,
    "start_time": "2022-04-07T08:34:18.019Z"
   },
   {
    "duration": 137,
    "start_time": "2022-04-07T08:34:19.039Z"
   },
   {
    "duration": 10,
    "start_time": "2022-04-07T08:34:37.928Z"
   },
   {
    "duration": 129,
    "start_time": "2022-04-07T08:34:38.880Z"
   },
   {
    "duration": 10,
    "start_time": "2022-04-07T08:36:54.949Z"
   },
   {
    "duration": 134,
    "start_time": "2022-04-07T08:37:25.474Z"
   },
   {
    "duration": 159,
    "start_time": "2022-04-07T08:39:02.675Z"
   },
   {
    "duration": 40,
    "start_time": "2022-04-07T08:41:56.975Z"
   },
   {
    "duration": 15,
    "start_time": "2022-04-07T08:42:00.582Z"
   },
   {
    "duration": 16,
    "start_time": "2022-04-07T08:43:01.910Z"
   },
   {
    "duration": 35,
    "start_time": "2022-04-07T08:44:55.364Z"
   },
   {
    "duration": 3,
    "start_time": "2022-04-07T08:45:13.761Z"
   },
   {
    "duration": 46,
    "start_time": "2022-04-07T08:45:31.587Z"
   },
   {
    "duration": 43,
    "start_time": "2022-04-07T08:45:40.467Z"
   },
   {
    "duration": 45,
    "start_time": "2022-04-07T08:45:52.990Z"
   },
   {
    "duration": 37,
    "start_time": "2022-04-07T08:46:03.694Z"
   },
   {
    "duration": 3,
    "start_time": "2022-04-07T08:46:12.448Z"
   },
   {
    "duration": 4,
    "start_time": "2022-04-07T08:48:35.389Z"
   },
   {
    "duration": 8,
    "start_time": "2022-04-07T08:49:18.040Z"
   },
   {
    "duration": 13,
    "start_time": "2022-04-07T08:52:36.355Z"
   },
   {
    "duration": 14,
    "start_time": "2022-04-07T08:53:04.172Z"
   },
   {
    "duration": 12,
    "start_time": "2022-04-07T08:54:05.144Z"
   },
   {
    "duration": 14,
    "start_time": "2022-04-07T08:55:45.169Z"
   },
   {
    "duration": 12,
    "start_time": "2022-04-07T09:00:49.633Z"
   },
   {
    "duration": 15,
    "start_time": "2022-04-07T09:00:59.592Z"
   },
   {
    "duration": 18,
    "start_time": "2022-04-07T09:02:34.530Z"
   },
   {
    "duration": 18,
    "start_time": "2022-04-07T09:03:40.967Z"
   },
   {
    "duration": 20,
    "start_time": "2022-04-07T09:03:56.925Z"
   },
   {
    "duration": 17,
    "start_time": "2022-04-07T09:05:04.917Z"
   },
   {
    "duration": 4,
    "start_time": "2022-04-07T09:05:21.267Z"
   },
   {
    "duration": 67,
    "start_time": "2022-04-07T09:06:04.625Z"
   },
   {
    "duration": 16,
    "start_time": "2022-04-07T09:06:15.096Z"
   },
   {
    "duration": 154,
    "start_time": "2022-04-07T09:06:25.141Z"
   },
   {
    "duration": 18,
    "start_time": "2022-04-07T09:06:40.610Z"
   },
   {
    "duration": 17,
    "start_time": "2022-04-07T09:06:42.183Z"
   },
   {
    "duration": 4,
    "start_time": "2022-04-07T09:06:45.547Z"
   },
   {
    "duration": 17,
    "start_time": "2022-04-07T09:06:47.917Z"
   },
   {
    "duration": 3,
    "start_time": "2022-04-07T09:09:34.899Z"
   },
   {
    "duration": 96,
    "start_time": "2022-04-07T09:09:35.846Z"
   },
   {
    "duration": 16,
    "start_time": "2022-04-07T09:09:36.203Z"
   },
   {
    "duration": 10,
    "start_time": "2022-04-07T09:09:37.479Z"
   },
   {
    "duration": 4,
    "start_time": "2022-04-07T09:09:38.257Z"
   },
   {
    "duration": 8,
    "start_time": "2022-04-07T09:09:39.155Z"
   },
   {
    "duration": 24,
    "start_time": "2022-04-07T09:09:40.197Z"
   },
   {
    "duration": 16,
    "start_time": "2022-04-07T09:09:40.961Z"
   },
   {
    "duration": 8,
    "start_time": "2022-04-07T09:09:41.249Z"
   },
   {
    "duration": 4,
    "start_time": "2022-04-07T09:09:42.337Z"
   },
   {
    "duration": 4,
    "start_time": "2022-04-07T09:09:42.864Z"
   },
   {
    "duration": 3,
    "start_time": "2022-04-07T09:09:43.311Z"
   },
   {
    "duration": 5,
    "start_time": "2022-04-07T09:09:44.276Z"
   },
   {
    "duration": 12,
    "start_time": "2022-04-07T09:09:45.226Z"
   },
   {
    "duration": 249,
    "start_time": "2022-04-07T09:09:47.152Z"
   },
   {
    "duration": 3,
    "start_time": "2022-04-07T09:09:47.649Z"
   },
   {
    "duration": 4,
    "start_time": "2022-04-07T09:09:48.202Z"
   },
   {
    "duration": 9,
    "start_time": "2022-04-07T09:09:49.389Z"
   },
   {
    "duration": 137,
    "start_time": "2022-04-07T09:09:49.659Z"
   },
   {
    "duration": 9,
    "start_time": "2022-04-07T09:09:51.127Z"
   },
   {
    "duration": 215,
    "start_time": "2022-04-07T09:09:51.339Z"
   },
   {
    "duration": 8,
    "start_time": "2022-04-07T09:09:52.029Z"
   },
   {
    "duration": 130,
    "start_time": "2022-04-07T09:09:52.359Z"
   },
   {
    "duration": 9,
    "start_time": "2022-04-07T09:09:53.108Z"
   },
   {
    "duration": 136,
    "start_time": "2022-04-07T09:09:53.376Z"
   },
   {
    "duration": 11,
    "start_time": "2022-04-07T09:09:54.258Z"
   },
   {
    "duration": 131,
    "start_time": "2022-04-07T09:09:54.820Z"
   },
   {
    "duration": 134,
    "start_time": "2022-04-07T09:09:55.732Z"
   },
   {
    "duration": 37,
    "start_time": "2022-04-07T09:09:59.768Z"
   },
   {
    "duration": 4,
    "start_time": "2022-04-07T09:10:00.814Z"
   },
   {
    "duration": 9,
    "start_time": "2022-04-07T09:10:02.955Z"
   },
   {
    "duration": 15,
    "start_time": "2022-04-07T09:10:14.091Z"
   },
   {
    "duration": 14,
    "start_time": "2022-04-07T09:10:21.184Z"
   },
   {
    "duration": 14,
    "start_time": "2022-04-07T09:10:27.218Z"
   },
   {
    "duration": 13,
    "start_time": "2022-04-07T09:10:32.732Z"
   },
   {
    "duration": 13,
    "start_time": "2022-04-07T09:10:57.581Z"
   },
   {
    "duration": 17,
    "start_time": "2022-04-07T09:11:05.989Z"
   },
   {
    "duration": 18,
    "start_time": "2022-04-07T09:11:38.810Z"
   },
   {
    "duration": 19,
    "start_time": "2022-04-07T09:12:36.045Z"
   },
   {
    "duration": 17,
    "start_time": "2022-04-07T09:13:04.571Z"
   },
   {
    "duration": 5,
    "start_time": "2022-04-07T09:13:23.558Z"
   },
   {
    "duration": 26,
    "start_time": "2022-04-07T09:13:41.131Z"
   },
   {
    "duration": 34,
    "start_time": "2022-04-07T09:13:50.946Z"
   },
   {
    "duration": 4,
    "start_time": "2022-04-07T09:14:20.146Z"
   },
   {
    "duration": 16,
    "start_time": "2022-04-07T09:14:41.307Z"
   },
   {
    "duration": 4,
    "start_time": "2022-04-07T09:14:53.519Z"
   },
   {
    "duration": 15,
    "start_time": "2022-04-07T09:14:54.666Z"
   },
   {
    "duration": 16,
    "start_time": "2022-04-07T09:15:19.956Z"
   },
   {
    "duration": 28,
    "start_time": "2022-04-07T09:17:07.230Z"
   },
   {
    "duration": 26,
    "start_time": "2022-04-07T09:20:19.973Z"
   },
   {
    "duration": 5,
    "start_time": "2022-04-07T09:20:56.026Z"
   },
   {
    "duration": 3,
    "start_time": "2022-04-07T09:21:10.150Z"
   },
   {
    "duration": 4,
    "start_time": "2022-04-07T09:21:12.086Z"
   },
   {
    "duration": 5,
    "start_time": "2022-04-07T09:21:15.096Z"
   },
   {
    "duration": 5,
    "start_time": "2022-04-07T09:21:16.165Z"
   },
   {
    "duration": 12,
    "start_time": "2022-04-07T09:21:16.816Z"
   },
   {
    "duration": 257,
    "start_time": "2022-04-07T09:21:17.284Z"
   },
   {
    "duration": 4,
    "start_time": "2022-04-07T09:21:17.735Z"
   },
   {
    "duration": 4,
    "start_time": "2022-04-07T09:21:18.496Z"
   },
   {
    "duration": 10,
    "start_time": "2022-04-07T09:21:19.438Z"
   },
   {
    "duration": 152,
    "start_time": "2022-04-07T09:21:19.643Z"
   },
   {
    "duration": 9,
    "start_time": "2022-04-07T09:21:20.276Z"
   },
   {
    "duration": 160,
    "start_time": "2022-04-07T09:21:20.540Z"
   },
   {
    "duration": 9,
    "start_time": "2022-04-07T09:21:21.141Z"
   },
   {
    "duration": 133,
    "start_time": "2022-04-07T09:21:21.346Z"
   },
   {
    "duration": 10,
    "start_time": "2022-04-07T09:21:21.955Z"
   },
   {
    "duration": 210,
    "start_time": "2022-04-07T09:21:22.134Z"
   },
   {
    "duration": 10,
    "start_time": "2022-04-07T09:21:22.881Z"
   },
   {
    "duration": 140,
    "start_time": "2022-04-07T09:21:23.599Z"
   },
   {
    "duration": 132,
    "start_time": "2022-04-07T09:21:24.191Z"
   },
   {
    "duration": 36,
    "start_time": "2022-04-07T09:21:25.853Z"
   },
   {
    "duration": 4,
    "start_time": "2022-04-07T09:21:26.507Z"
   },
   {
    "duration": 8,
    "start_time": "2022-04-07T09:21:28.048Z"
   },
   {
    "duration": 14,
    "start_time": "2022-04-07T09:21:28.792Z"
   },
   {
    "duration": 14,
    "start_time": "2022-04-07T09:21:29.781Z"
   },
   {
    "duration": 13,
    "start_time": "2022-04-07T09:21:30.419Z"
   },
   {
    "duration": 15,
    "start_time": "2022-04-07T09:21:31.626Z"
   },
   {
    "duration": 18,
    "start_time": "2022-04-07T09:21:33.035Z"
   },
   {
    "duration": 18,
    "start_time": "2022-04-07T09:21:34.793Z"
   },
   {
    "duration": 19,
    "start_time": "2022-04-07T09:21:35.885Z"
   },
   {
    "duration": 26,
    "start_time": "2022-04-07T09:21:37.342Z"
   },
   {
    "duration": 16,
    "start_time": "2022-04-07T09:21:39.593Z"
   },
   {
    "duration": 6,
    "start_time": "2022-04-07T09:24:13.727Z"
   },
   {
    "duration": 34,
    "start_time": "2022-04-07T09:27:50.257Z"
   },
   {
    "duration": 37,
    "start_time": "2022-04-07T09:27:54.859Z"
   },
   {
    "duration": 3,
    "start_time": "2022-04-07T09:27:55.280Z"
   },
   {
    "duration": 8,
    "start_time": "2022-04-07T09:27:56.103Z"
   },
   {
    "duration": 14,
    "start_time": "2022-04-07T09:27:56.932Z"
   },
   {
    "duration": 14,
    "start_time": "2022-04-07T09:27:57.600Z"
   },
   {
    "duration": 13,
    "start_time": "2022-04-07T09:27:57.864Z"
   },
   {
    "duration": 13,
    "start_time": "2022-04-07T09:27:58.220Z"
   },
   {
    "duration": 18,
    "start_time": "2022-04-07T09:27:58.751Z"
   },
   {
    "duration": 18,
    "start_time": "2022-04-07T09:28:00.137Z"
   },
   {
    "duration": 38,
    "start_time": "2022-04-07T09:28:00.722Z"
   },
   {
    "duration": 17,
    "start_time": "2022-04-07T09:28:42.669Z"
   },
   {
    "duration": 6,
    "start_time": "2022-04-07T09:28:44.679Z"
   },
   {
    "duration": 27,
    "start_time": "2022-04-07T09:28:51.262Z"
   },
   {
    "duration": 4,
    "start_time": "2022-04-07T09:29:08.917Z"
   },
   {
    "duration": 14,
    "start_time": "2022-04-07T09:29:10.695Z"
   },
   {
    "duration": 15,
    "start_time": "2022-04-07T09:30:35.861Z"
   },
   {
    "duration": 10,
    "start_time": "2022-04-07T09:30:42.969Z"
   },
   {
    "duration": 137,
    "start_time": "2022-04-07T09:30:44.878Z"
   },
   {
    "duration": 129,
    "start_time": "2022-04-07T09:30:57.416Z"
   },
   {
    "duration": 11,
    "start_time": "2022-04-07T09:32:01.831Z"
   },
   {
    "duration": 142,
    "start_time": "2022-04-07T09:32:03.731Z"
   },
   {
    "duration": 39,
    "start_time": "2022-04-07T09:33:23.232Z"
   },
   {
    "duration": 25,
    "start_time": "2022-04-07T09:33:36.303Z"
   },
   {
    "duration": 6,
    "start_time": "2022-04-07T09:33:44.945Z"
   },
   {
    "duration": 169,
    "start_time": "2022-04-07T09:33:47.833Z"
   },
   {
    "duration": 186,
    "start_time": "2022-04-07T09:34:13.113Z"
   },
   {
    "duration": 225,
    "start_time": "2022-04-07T09:34:51.566Z"
   },
   {
    "duration": 182,
    "start_time": "2022-04-07T09:35:09.979Z"
   },
   {
    "duration": 152,
    "start_time": "2022-04-07T09:37:27.262Z"
   },
   {
    "duration": 260,
    "start_time": "2022-04-07T09:37:38.800Z"
   },
   {
    "duration": 175,
    "start_time": "2022-04-07T09:37:45.243Z"
   },
   {
    "duration": 218,
    "start_time": "2022-04-07T09:37:47.842Z"
   },
   {
    "duration": 166,
    "start_time": "2022-04-07T09:37:49.568Z"
   },
   {
    "duration": 12,
    "start_time": "2022-04-07T09:38:36.926Z"
   },
   {
    "duration": 13,
    "start_time": "2022-04-07T09:39:45.290Z"
   },
   {
    "duration": 13,
    "start_time": "2022-04-07T09:39:46.692Z"
   },
   {
    "duration": 14,
    "start_time": "2022-04-07T09:40:58.606Z"
   },
   {
    "duration": 15,
    "start_time": "2022-04-07T09:41:13.243Z"
   },
   {
    "duration": 14,
    "start_time": "2022-04-07T09:41:28.593Z"
   },
   {
    "duration": 15,
    "start_time": "2022-04-07T09:41:35.076Z"
   },
   {
    "duration": 15,
    "start_time": "2022-04-07T09:42:30.188Z"
   },
   {
    "duration": 14,
    "start_time": "2022-04-07T09:42:39.414Z"
   },
   {
    "duration": 14,
    "start_time": "2022-04-07T09:42:43.949Z"
   },
   {
    "duration": 17,
    "start_time": "2022-04-07T09:43:27.041Z"
   },
   {
    "duration": 16,
    "start_time": "2022-04-07T09:44:01.112Z"
   },
   {
    "duration": 14,
    "start_time": "2022-04-07T09:44:22.387Z"
   },
   {
    "duration": 14,
    "start_time": "2022-04-07T09:44:25.762Z"
   },
   {
    "duration": 15,
    "start_time": "2022-04-07T09:44:31.889Z"
   },
   {
    "duration": 14,
    "start_time": "2022-04-07T09:53:02.400Z"
   },
   {
    "duration": 13,
    "start_time": "2022-04-07T09:53:06.581Z"
   },
   {
    "duration": 14,
    "start_time": "2022-04-07T09:53:11.905Z"
   },
   {
    "duration": 14,
    "start_time": "2022-04-07T09:53:16.638Z"
   },
   {
    "duration": 20,
    "start_time": "2022-04-07T09:53:32.156Z"
   },
   {
    "duration": 19,
    "start_time": "2022-04-07T09:53:35.150Z"
   },
   {
    "duration": 3,
    "start_time": "2022-04-07T09:53:51.577Z"
   },
   {
    "duration": 106,
    "start_time": "2022-04-07T09:53:51.582Z"
   },
   {
    "duration": 16,
    "start_time": "2022-04-07T09:53:51.690Z"
   },
   {
    "duration": 37,
    "start_time": "2022-04-07T09:53:51.708Z"
   },
   {
    "duration": 4,
    "start_time": "2022-04-07T09:53:51.747Z"
   },
   {
    "duration": 15,
    "start_time": "2022-04-07T09:53:51.752Z"
   },
   {
    "duration": 31,
    "start_time": "2022-04-07T09:53:51.769Z"
   },
   {
    "duration": 45,
    "start_time": "2022-04-07T09:53:51.802Z"
   },
   {
    "duration": 7,
    "start_time": "2022-04-07T09:53:51.850Z"
   },
   {
    "duration": 7,
    "start_time": "2022-04-07T09:53:51.859Z"
   },
   {
    "duration": 6,
    "start_time": "2022-04-07T09:53:51.868Z"
   },
   {
    "duration": 8,
    "start_time": "2022-04-07T09:53:51.875Z"
   },
   {
    "duration": 6,
    "start_time": "2022-04-07T09:53:51.885Z"
   },
   {
    "duration": 48,
    "start_time": "2022-04-07T09:53:51.892Z"
   },
   {
    "duration": 270,
    "start_time": "2022-04-07T09:53:51.942Z"
   },
   {
    "duration": 5,
    "start_time": "2022-04-07T09:53:52.214Z"
   },
   {
    "duration": 17,
    "start_time": "2022-04-07T09:53:52.221Z"
   },
   {
    "duration": 24,
    "start_time": "2022-04-07T09:53:52.240Z"
   },
   {
    "duration": 168,
    "start_time": "2022-04-07T09:53:52.266Z"
   },
   {
    "duration": 11,
    "start_time": "2022-04-07T09:53:52.436Z"
   },
   {
    "duration": 178,
    "start_time": "2022-04-07T09:53:52.449Z"
   },
   {
    "duration": 15,
    "start_time": "2022-04-07T09:53:52.639Z"
   },
   {
    "duration": 144,
    "start_time": "2022-04-07T09:53:52.656Z"
   },
   {
    "duration": 10,
    "start_time": "2022-04-07T09:53:52.804Z"
   },
   {
    "duration": 165,
    "start_time": "2022-04-07T09:53:52.816Z"
   },
   {
    "duration": 9,
    "start_time": "2022-04-07T09:53:52.983Z"
   },
   {
    "duration": 267,
    "start_time": "2022-04-07T09:53:52.994Z"
   },
   {
    "duration": 147,
    "start_time": "2022-04-07T09:53:53.263Z"
   },
   {
    "duration": 51,
    "start_time": "2022-04-07T09:53:53.412Z"
   },
   {
    "duration": 3,
    "start_time": "2022-04-07T09:53:53.464Z"
   },
   {
    "duration": 15,
    "start_time": "2022-04-07T09:53:53.469Z"
   },
   {
    "duration": 14,
    "start_time": "2022-04-07T09:53:53.485Z"
   },
   {
    "duration": 45,
    "start_time": "2022-04-07T09:53:53.501Z"
   },
   {
    "duration": 15,
    "start_time": "2022-04-07T09:53:53.548Z"
   },
   {
    "duration": 14,
    "start_time": "2022-04-07T09:53:53.565Z"
   },
   {
    "duration": 20,
    "start_time": "2022-04-07T09:53:53.581Z"
   },
   {
    "duration": 46,
    "start_time": "2022-04-07T09:53:53.603Z"
   },
   {
    "duration": 18,
    "start_time": "2022-04-07T09:53:53.651Z"
   },
   {
    "duration": 4,
    "start_time": "2022-04-07T09:53:53.671Z"
   },
   {
    "duration": 22,
    "start_time": "2022-04-07T09:53:53.677Z"
   },
   {
    "duration": 157,
    "start_time": "2022-04-07T09:53:53.702Z"
   },
   {
    "duration": 8,
    "start_time": "2022-04-07T09:53:53.862Z"
   },
   {
    "duration": 189,
    "start_time": "2022-04-07T09:53:53.872Z"
   },
   {
    "duration": 202,
    "start_time": "2022-04-07T09:53:54.063Z"
   },
   {
    "duration": 236,
    "start_time": "2022-04-07T09:53:54.267Z"
   },
   {
    "duration": 195,
    "start_time": "2022-04-07T09:53:54.506Z"
   },
   {
    "duration": 15,
    "start_time": "2022-04-07T09:53:54.704Z"
   },
   {
    "duration": 32,
    "start_time": "2022-04-07T09:53:54.721Z"
   },
   {
    "duration": 15,
    "start_time": "2022-04-07T09:53:54.755Z"
   },
   {
    "duration": 15,
    "start_time": "2022-04-07T09:53:54.771Z"
   },
   {
    "duration": 13,
    "start_time": "2022-04-07T09:53:54.787Z"
   },
   {
    "duration": 46,
    "start_time": "2022-04-07T09:53:54.802Z"
   },
   {
    "duration": 13,
    "start_time": "2022-04-07T09:53:54.850Z"
   },
   {
    "duration": 20,
    "start_time": "2022-04-07T09:53:54.864Z"
   },
   {
    "duration": 5,
    "start_time": "2022-04-07T10:10:06.324Z"
   },
   {
    "duration": 3,
    "start_time": "2022-04-07T10:10:24.499Z"
   },
   {
    "duration": 108,
    "start_time": "2022-04-07T10:10:24.504Z"
   },
   {
    "duration": 14,
    "start_time": "2022-04-07T10:10:24.614Z"
   },
   {
    "duration": 14,
    "start_time": "2022-04-07T10:10:24.630Z"
   },
   {
    "duration": 6,
    "start_time": "2022-04-07T10:10:24.647Z"
   },
   {
    "duration": 12,
    "start_time": "2022-04-07T10:10:24.655Z"
   },
   {
    "duration": 25,
    "start_time": "2022-04-07T10:10:24.670Z"
   },
   {
    "duration": 47,
    "start_time": "2022-04-07T10:10:24.697Z"
   },
   {
    "duration": 8,
    "start_time": "2022-04-07T10:10:24.746Z"
   },
   {
    "duration": 10,
    "start_time": "2022-04-07T10:10:24.756Z"
   },
   {
    "duration": 6,
    "start_time": "2022-04-07T10:10:24.768Z"
   },
   {
    "duration": 7,
    "start_time": "2022-04-07T10:10:24.776Z"
   },
   {
    "duration": 6,
    "start_time": "2022-04-07T10:10:24.785Z"
   },
   {
    "duration": 12,
    "start_time": "2022-04-07T10:10:24.851Z"
   },
   {
    "duration": 260,
    "start_time": "2022-04-07T10:10:25.112Z"
   },
   {
    "duration": 5,
    "start_time": "2022-04-07T10:10:25.418Z"
   },
   {
    "duration": 4,
    "start_time": "2022-04-07T10:10:25.661Z"
   },
   {
    "duration": 17,
    "start_time": "2022-04-07T10:10:25.667Z"
   },
   {
    "duration": 157,
    "start_time": "2022-04-07T10:10:25.686Z"
   },
   {
    "duration": 9,
    "start_time": "2022-04-07T10:10:25.845Z"
   },
   {
    "duration": 269,
    "start_time": "2022-04-07T10:10:25.856Z"
   },
   {
    "duration": 14,
    "start_time": "2022-04-07T10:10:26.126Z"
   },
   {
    "duration": 147,
    "start_time": "2022-04-07T10:10:26.142Z"
   },
   {
    "duration": 11,
    "start_time": "2022-04-07T10:10:26.292Z"
   },
   {
    "duration": 162,
    "start_time": "2022-04-07T10:10:26.304Z"
   },
   {
    "duration": 10,
    "start_time": "2022-04-07T10:10:26.469Z"
   },
   {
    "duration": 171,
    "start_time": "2022-04-07T10:10:26.481Z"
   },
   {
    "duration": 158,
    "start_time": "2022-04-07T10:10:26.654Z"
   },
   {
    "duration": 49,
    "start_time": "2022-04-07T10:10:26.815Z"
   },
   {
    "duration": 4,
    "start_time": "2022-04-07T10:10:26.866Z"
   },
   {
    "duration": 9,
    "start_time": "2022-04-07T10:10:26.872Z"
   },
   {
    "duration": 15,
    "start_time": "2022-04-07T10:10:26.883Z"
   },
   {
    "duration": 43,
    "start_time": "2022-04-07T10:10:26.900Z"
   },
   {
    "duration": 15,
    "start_time": "2022-04-07T10:10:26.945Z"
   },
   {
    "duration": 14,
    "start_time": "2022-04-07T10:10:26.962Z"
   },
   {
    "duration": 16,
    "start_time": "2022-04-07T10:10:26.979Z"
   },
   {
    "duration": 50,
    "start_time": "2022-04-07T10:10:26.997Z"
   },
   {
    "duration": 15,
    "start_time": "2022-04-07T10:10:27.049Z"
   },
   {
    "duration": 3,
    "start_time": "2022-04-07T10:10:27.066Z"
   },
   {
    "duration": 16,
    "start_time": "2022-04-07T10:10:27.071Z"
   },
   {
    "duration": 154,
    "start_time": "2022-04-07T10:10:27.089Z"
   },
   {
    "duration": 8,
    "start_time": "2022-04-07T10:10:27.245Z"
   },
   {
    "duration": 176,
    "start_time": "2022-04-07T10:10:27.254Z"
   },
   {
    "duration": 201,
    "start_time": "2022-04-07T10:10:27.432Z"
   },
   {
    "duration": 224,
    "start_time": "2022-04-07T10:10:27.638Z"
   },
   {
    "duration": 192,
    "start_time": "2022-04-07T10:10:27.864Z"
   },
   {
    "duration": 14,
    "start_time": "2022-04-07T10:10:28.058Z"
   },
   {
    "duration": 14,
    "start_time": "2022-04-07T10:10:28.074Z"
   },
   {
    "duration": 13,
    "start_time": "2022-04-07T10:10:28.090Z"
   },
   {
    "duration": 44,
    "start_time": "2022-04-07T10:10:28.105Z"
   },
   {
    "duration": 13,
    "start_time": "2022-04-07T10:10:28.151Z"
   },
   {
    "duration": 14,
    "start_time": "2022-04-07T10:10:28.166Z"
   },
   {
    "duration": 14,
    "start_time": "2022-04-07T10:10:28.181Z"
   },
   {
    "duration": 48,
    "start_time": "2022-04-07T10:10:28.196Z"
   },
   {
    "duration": 651,
    "start_time": "2022-04-07T10:11:37.429Z"
   },
   {
    "duration": 108,
    "start_time": "2022-04-07T10:11:43.099Z"
   },
   {
    "duration": 18,
    "start_time": "2022-04-07T10:11:43.902Z"
   },
   {
    "duration": 11,
    "start_time": "2022-04-07T10:11:45.023Z"
   },
   {
    "duration": 4,
    "start_time": "2022-04-07T10:11:45.655Z"
   },
   {
    "duration": 11,
    "start_time": "2022-04-07T10:11:46.104Z"
   },
   {
    "duration": 24,
    "start_time": "2022-04-07T10:11:46.725Z"
   },
   {
    "duration": 17,
    "start_time": "2022-04-07T10:11:47.748Z"
   },
   {
    "duration": 8,
    "start_time": "2022-04-07T10:11:48.175Z"
   },
   {
    "duration": 4,
    "start_time": "2022-04-07T10:11:48.999Z"
   },
   {
    "duration": 4,
    "start_time": "2022-04-07T10:11:49.400Z"
   },
   {
    "duration": 6,
    "start_time": "2022-04-07T10:11:49.577Z"
   },
   {
    "duration": 5,
    "start_time": "2022-04-07T10:11:50.787Z"
   },
   {
    "duration": 12,
    "start_time": "2022-04-07T10:11:51.532Z"
   },
   {
    "duration": 277,
    "start_time": "2022-04-07T10:11:51.884Z"
   },
   {
    "duration": 4,
    "start_time": "2022-04-07T10:11:52.319Z"
   },
   {
    "duration": 5,
    "start_time": "2022-04-07T10:11:52.711Z"
   },
   {
    "duration": 9,
    "start_time": "2022-04-07T10:11:53.521Z"
   },
   {
    "duration": 160,
    "start_time": "2022-04-07T10:11:53.741Z"
   },
   {
    "duration": 9,
    "start_time": "2022-04-07T10:11:54.308Z"
   },
   {
    "duration": 200,
    "start_time": "2022-04-07T10:11:54.469Z"
   },
   {
    "duration": 9,
    "start_time": "2022-04-07T10:11:55.038Z"
   },
   {
    "duration": 134,
    "start_time": "2022-04-07T10:11:55.335Z"
   },
   {
    "duration": 10,
    "start_time": "2022-04-07T10:11:56.024Z"
   },
   {
    "duration": 132,
    "start_time": "2022-04-07T10:11:56.216Z"
   },
   {
    "duration": 11,
    "start_time": "2022-04-07T10:11:57.126Z"
   },
   {
    "duration": 144,
    "start_time": "2022-04-07T10:11:57.482Z"
   },
   {
    "duration": 136,
    "start_time": "2022-04-07T10:11:57.932Z"
   },
   {
    "duration": 41,
    "start_time": "2022-04-07T10:11:59.028Z"
   },
   {
    "duration": 3,
    "start_time": "2022-04-07T10:11:59.333Z"
   },
   {
    "duration": 9,
    "start_time": "2022-04-07T10:12:00.556Z"
   },
   {
    "duration": 16,
    "start_time": "2022-04-07T10:12:01.225Z"
   },
   {
    "duration": 16,
    "start_time": "2022-04-07T10:12:01.929Z"
   },
   {
    "duration": 15,
    "start_time": "2022-04-07T10:12:02.397Z"
   },
   {
    "duration": 15,
    "start_time": "2022-04-07T10:12:02.804Z"
   },
   {
    "duration": 18,
    "start_time": "2022-04-07T10:12:03.885Z"
   },
   {
    "duration": 18,
    "start_time": "2022-04-07T10:12:04.681Z"
   },
   {
    "duration": 17,
    "start_time": "2022-04-07T10:12:05.264Z"
   },
   {
    "duration": 5,
    "start_time": "2022-04-07T10:12:05.902Z"
   },
   {
    "duration": 10,
    "start_time": "2022-04-07T10:12:06.900Z"
   },
   {
    "duration": 138,
    "start_time": "2022-04-07T10:12:07.520Z"
   },
   {
    "duration": 7,
    "start_time": "2022-04-07T10:12:09.646Z"
   },
   {
    "duration": 157,
    "start_time": "2022-04-07T10:12:10.508Z"
   },
   {
    "duration": 183,
    "start_time": "2022-04-07T10:12:11.764Z"
   },
   {
    "duration": 222,
    "start_time": "2022-04-07T10:12:12.977Z"
   },
   {
    "duration": 171,
    "start_time": "2022-04-07T10:12:14.292Z"
   },
   {
    "duration": 13,
    "start_time": "2022-04-07T10:12:15.414Z"
   },
   {
    "duration": 15,
    "start_time": "2022-04-07T10:12:15.791Z"
   },
   {
    "duration": 15,
    "start_time": "2022-04-07T10:12:16.974Z"
   },
   {
    "duration": 15,
    "start_time": "2022-04-07T10:12:17.305Z"
   },
   {
    "duration": 14,
    "start_time": "2022-04-07T10:12:18.042Z"
   },
   {
    "duration": 16,
    "start_time": "2022-04-07T10:12:18.498Z"
   },
   {
    "duration": 15,
    "start_time": "2022-04-07T10:12:19.322Z"
   },
   {
    "duration": 14,
    "start_time": "2022-04-07T10:12:19.844Z"
   },
   {
    "duration": 1115,
    "start_time": "2022-04-07T14:33:24.422Z"
   },
   {
    "duration": 143,
    "start_time": "2022-04-07T14:33:25.540Z"
   },
   {
    "duration": 22,
    "start_time": "2022-04-07T14:33:25.685Z"
   },
   {
    "duration": 36,
    "start_time": "2022-04-07T14:33:25.709Z"
   },
   {
    "duration": 5,
    "start_time": "2022-04-07T14:33:25.748Z"
   },
   {
    "duration": 15,
    "start_time": "2022-04-07T14:33:25.755Z"
   },
   {
    "duration": 33,
    "start_time": "2022-04-07T14:33:25.771Z"
   },
   {
    "duration": 51,
    "start_time": "2022-04-07T14:33:25.806Z"
   },
   {
    "duration": 10,
    "start_time": "2022-04-07T14:33:25.859Z"
   },
   {
    "duration": 7,
    "start_time": "2022-04-07T14:33:25.871Z"
   },
   {
    "duration": 5,
    "start_time": "2022-04-07T14:33:25.880Z"
   },
   {
    "duration": 9,
    "start_time": "2022-04-07T14:33:25.888Z"
   },
   {
    "duration": 44,
    "start_time": "2022-04-07T14:33:25.899Z"
   },
   {
    "duration": 17,
    "start_time": "2022-04-07T14:33:25.947Z"
   },
   {
    "duration": 456,
    "start_time": "2022-04-07T14:33:25.966Z"
   },
   {
    "duration": 5,
    "start_time": "2022-04-07T14:33:26.424Z"
   },
   {
    "duration": 15,
    "start_time": "2022-04-07T14:33:26.431Z"
   },
   {
    "duration": 14,
    "start_time": "2022-04-07T14:33:26.448Z"
   },
   {
    "duration": 273,
    "start_time": "2022-04-07T14:33:26.464Z"
   },
   {
    "duration": 12,
    "start_time": "2022-04-07T14:33:26.742Z"
   },
   {
    "duration": 306,
    "start_time": "2022-04-07T14:33:26.756Z"
   },
   {
    "duration": 11,
    "start_time": "2022-04-07T14:33:27.064Z"
   },
   {
    "duration": 237,
    "start_time": "2022-04-07T14:33:27.077Z"
   },
   {
    "duration": 26,
    "start_time": "2022-04-07T14:33:27.318Z"
   },
   {
    "duration": 234,
    "start_time": "2022-04-07T14:33:27.347Z"
   },
   {
    "duration": 14,
    "start_time": "2022-04-07T14:33:27.584Z"
   },
   {
    "duration": 270,
    "start_time": "2022-04-07T14:33:27.601Z"
   },
   {
    "duration": 244,
    "start_time": "2022-04-07T14:33:27.874Z"
   },
   {
    "duration": 71,
    "start_time": "2022-04-07T14:33:28.120Z"
   },
   {
    "duration": 5,
    "start_time": "2022-04-07T14:33:28.194Z"
   },
   {
    "duration": 16,
    "start_time": "2022-04-07T14:33:28.202Z"
   },
   {
    "duration": 23,
    "start_time": "2022-04-07T14:33:28.243Z"
   },
   {
    "duration": 20,
    "start_time": "2022-04-07T14:33:28.268Z"
   },
   {
    "duration": 56,
    "start_time": "2022-04-07T14:33:28.290Z"
   },
   {
    "duration": 19,
    "start_time": "2022-04-07T14:33:28.348Z"
   },
   {
    "duration": 22,
    "start_time": "2022-04-07T14:33:28.369Z"
   },
   {
    "duration": 58,
    "start_time": "2022-04-07T14:33:28.394Z"
   },
   {
    "duration": 24,
    "start_time": "2022-04-07T14:33:28.454Z"
   },
   {
    "duration": 5,
    "start_time": "2022-04-07T14:33:28.480Z"
   },
   {
    "duration": 20,
    "start_time": "2022-04-07T14:33:28.488Z"
   },
   {
    "duration": 259,
    "start_time": "2022-04-07T14:33:28.514Z"
   },
   {
    "duration": 9,
    "start_time": "2022-04-07T14:33:28.776Z"
   },
   {
    "duration": 253,
    "start_time": "2022-04-07T14:33:28.787Z"
   },
   {
    "duration": 278,
    "start_time": "2022-04-07T14:33:29.043Z"
   },
   {
    "duration": 347,
    "start_time": "2022-04-07T14:33:29.324Z"
   },
   {
    "duration": 276,
    "start_time": "2022-04-07T14:33:29.674Z"
   },
   {
    "duration": 18,
    "start_time": "2022-04-07T14:33:29.952Z"
   },
   {
    "duration": 22,
    "start_time": "2022-04-07T14:33:29.972Z"
   },
   {
    "duration": 48,
    "start_time": "2022-04-07T14:33:29.996Z"
   },
   {
    "duration": 20,
    "start_time": "2022-04-07T14:33:30.046Z"
   },
   {
    "duration": 19,
    "start_time": "2022-04-07T14:33:30.068Z"
   },
   {
    "duration": 22,
    "start_time": "2022-04-07T14:33:30.089Z"
   },
   {
    "duration": 19,
    "start_time": "2022-04-07T14:33:30.144Z"
   },
   {
    "duration": 26,
    "start_time": "2022-04-07T14:33:30.165Z"
   }
  ],
  "kernelspec": {
   "display_name": "Python 3 (ipykernel)",
   "language": "python",
   "name": "python3"
  },
  "language_info": {
   "codemirror_mode": {
    "name": "ipython",
    "version": 3
   },
   "file_extension": ".py",
   "mimetype": "text/x-python",
   "name": "python",
   "nbconvert_exporter": "python",
   "pygments_lexer": "ipython3",
   "version": "3.9.12"
  },
  "toc": {
   "base_numbering": 1,
   "nav_menu": {},
   "number_sections": true,
   "sideBar": true,
   "skip_h1_title": true,
   "title_cell": "Содержание",
   "title_sidebar": "Contents",
   "toc_cell": true,
   "toc_position": {
    "height": "calc(100% - 180px)",
    "left": "10px",
    "top": "150px",
    "width": "290px"
   },
   "toc_section_display": true,
   "toc_window_display": false
  }
 },
 "nbformat": 4,
 "nbformat_minor": 4
}
