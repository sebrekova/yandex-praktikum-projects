{
 "cells": [
  {
   "cell_type": "markdown",
   "metadata": {},
   "source": [
    "# Исследование надёжности заёмщиков для кредитного отдела банка"
   ]
  },
  {
   "cell_type": "markdown",
   "metadata": {},
   "source": [
    "## Импорт библиотек"
   ]
  },
  {
   "cell_type": "code",
   "execution_count": 1,
   "metadata": {},
   "outputs": [],
   "source": [
    "import pandas as pd\n",
    "from pymystem3 import Mystem\n",
    "from collections import Counter"
   ]
  },
  {
   "cell_type": "markdown",
   "metadata": {},
   "source": [
    "## Изучение данных"
   ]
  },
  {
   "cell_type": "code",
   "execution_count": 2,
   "metadata": {},
   "outputs": [
    {
     "data": {
      "text/html": [
       "<div>\n",
       "<style scoped>\n",
       "    .dataframe tbody tr th:only-of-type {\n",
       "        vertical-align: middle;\n",
       "    }\n",
       "\n",
       "    .dataframe tbody tr th {\n",
       "        vertical-align: top;\n",
       "    }\n",
       "\n",
       "    .dataframe thead th {\n",
       "        text-align: right;\n",
       "    }\n",
       "</style>\n",
       "<table border=\"1\" class=\"dataframe\">\n",
       "  <thead>\n",
       "    <tr style=\"text-align: right;\">\n",
       "      <th></th>\n",
       "      <th>children</th>\n",
       "      <th>days_employed</th>\n",
       "      <th>dob_years</th>\n",
       "      <th>education</th>\n",
       "      <th>education_id</th>\n",
       "      <th>family_status</th>\n",
       "      <th>family_status_id</th>\n",
       "      <th>gender</th>\n",
       "      <th>income_type</th>\n",
       "      <th>debt</th>\n",
       "      <th>total_income</th>\n",
       "      <th>purpose</th>\n",
       "    </tr>\n",
       "  </thead>\n",
       "  <tbody>\n",
       "    <tr>\n",
       "      <th>0</th>\n",
       "      <td>1</td>\n",
       "      <td>-8437.673028</td>\n",
       "      <td>42</td>\n",
       "      <td>высшее</td>\n",
       "      <td>0</td>\n",
       "      <td>женат / замужем</td>\n",
       "      <td>0</td>\n",
       "      <td>F</td>\n",
       "      <td>сотрудник</td>\n",
       "      <td>0</td>\n",
       "      <td>253875.639453</td>\n",
       "      <td>покупка жилья</td>\n",
       "    </tr>\n",
       "    <tr>\n",
       "      <th>1</th>\n",
       "      <td>1</td>\n",
       "      <td>-4024.803754</td>\n",
       "      <td>36</td>\n",
       "      <td>среднее</td>\n",
       "      <td>1</td>\n",
       "      <td>женат / замужем</td>\n",
       "      <td>0</td>\n",
       "      <td>F</td>\n",
       "      <td>сотрудник</td>\n",
       "      <td>0</td>\n",
       "      <td>112080.014102</td>\n",
       "      <td>приобретение автомобиля</td>\n",
       "    </tr>\n",
       "    <tr>\n",
       "      <th>2</th>\n",
       "      <td>0</td>\n",
       "      <td>-5623.422610</td>\n",
       "      <td>33</td>\n",
       "      <td>Среднее</td>\n",
       "      <td>1</td>\n",
       "      <td>женат / замужем</td>\n",
       "      <td>0</td>\n",
       "      <td>M</td>\n",
       "      <td>сотрудник</td>\n",
       "      <td>0</td>\n",
       "      <td>145885.952297</td>\n",
       "      <td>покупка жилья</td>\n",
       "    </tr>\n",
       "    <tr>\n",
       "      <th>3</th>\n",
       "      <td>3</td>\n",
       "      <td>-4124.747207</td>\n",
       "      <td>32</td>\n",
       "      <td>среднее</td>\n",
       "      <td>1</td>\n",
       "      <td>женат / замужем</td>\n",
       "      <td>0</td>\n",
       "      <td>M</td>\n",
       "      <td>сотрудник</td>\n",
       "      <td>0</td>\n",
       "      <td>267628.550329</td>\n",
       "      <td>дополнительное образование</td>\n",
       "    </tr>\n",
       "    <tr>\n",
       "      <th>4</th>\n",
       "      <td>0</td>\n",
       "      <td>340266.072047</td>\n",
       "      <td>53</td>\n",
       "      <td>среднее</td>\n",
       "      <td>1</td>\n",
       "      <td>гражданский брак</td>\n",
       "      <td>1</td>\n",
       "      <td>F</td>\n",
       "      <td>пенсионер</td>\n",
       "      <td>0</td>\n",
       "      <td>158616.077870</td>\n",
       "      <td>сыграть свадьбу</td>\n",
       "    </tr>\n",
       "    <tr>\n",
       "      <th>5</th>\n",
       "      <td>0</td>\n",
       "      <td>-926.185831</td>\n",
       "      <td>27</td>\n",
       "      <td>высшее</td>\n",
       "      <td>0</td>\n",
       "      <td>гражданский брак</td>\n",
       "      <td>1</td>\n",
       "      <td>M</td>\n",
       "      <td>компаньон</td>\n",
       "      <td>0</td>\n",
       "      <td>255763.565419</td>\n",
       "      <td>покупка жилья</td>\n",
       "    </tr>\n",
       "    <tr>\n",
       "      <th>6</th>\n",
       "      <td>0</td>\n",
       "      <td>-2879.202052</td>\n",
       "      <td>43</td>\n",
       "      <td>высшее</td>\n",
       "      <td>0</td>\n",
       "      <td>женат / замужем</td>\n",
       "      <td>0</td>\n",
       "      <td>F</td>\n",
       "      <td>компаньон</td>\n",
       "      <td>0</td>\n",
       "      <td>240525.971920</td>\n",
       "      <td>операции с жильем</td>\n",
       "    </tr>\n",
       "    <tr>\n",
       "      <th>7</th>\n",
       "      <td>0</td>\n",
       "      <td>-152.779569</td>\n",
       "      <td>50</td>\n",
       "      <td>СРЕДНЕЕ</td>\n",
       "      <td>1</td>\n",
       "      <td>женат / замужем</td>\n",
       "      <td>0</td>\n",
       "      <td>M</td>\n",
       "      <td>сотрудник</td>\n",
       "      <td>0</td>\n",
       "      <td>135823.934197</td>\n",
       "      <td>образование</td>\n",
       "    </tr>\n",
       "    <tr>\n",
       "      <th>8</th>\n",
       "      <td>2</td>\n",
       "      <td>-6929.865299</td>\n",
       "      <td>35</td>\n",
       "      <td>ВЫСШЕЕ</td>\n",
       "      <td>0</td>\n",
       "      <td>гражданский брак</td>\n",
       "      <td>1</td>\n",
       "      <td>F</td>\n",
       "      <td>сотрудник</td>\n",
       "      <td>0</td>\n",
       "      <td>95856.832424</td>\n",
       "      <td>на проведение свадьбы</td>\n",
       "    </tr>\n",
       "    <tr>\n",
       "      <th>9</th>\n",
       "      <td>0</td>\n",
       "      <td>-2188.756445</td>\n",
       "      <td>41</td>\n",
       "      <td>среднее</td>\n",
       "      <td>1</td>\n",
       "      <td>женат / замужем</td>\n",
       "      <td>0</td>\n",
       "      <td>M</td>\n",
       "      <td>сотрудник</td>\n",
       "      <td>0</td>\n",
       "      <td>144425.938277</td>\n",
       "      <td>покупка жилья для семьи</td>\n",
       "    </tr>\n",
       "    <tr>\n",
       "      <th>10</th>\n",
       "      <td>2</td>\n",
       "      <td>-4171.483647</td>\n",
       "      <td>36</td>\n",
       "      <td>высшее</td>\n",
       "      <td>0</td>\n",
       "      <td>женат / замужем</td>\n",
       "      <td>0</td>\n",
       "      <td>M</td>\n",
       "      <td>компаньон</td>\n",
       "      <td>0</td>\n",
       "      <td>113943.491460</td>\n",
       "      <td>покупка недвижимости</td>\n",
       "    </tr>\n",
       "    <tr>\n",
       "      <th>11</th>\n",
       "      <td>0</td>\n",
       "      <td>-792.701887</td>\n",
       "      <td>40</td>\n",
       "      <td>среднее</td>\n",
       "      <td>1</td>\n",
       "      <td>женат / замужем</td>\n",
       "      <td>0</td>\n",
       "      <td>F</td>\n",
       "      <td>сотрудник</td>\n",
       "      <td>0</td>\n",
       "      <td>77069.234271</td>\n",
       "      <td>покупка коммерческой недвижимости</td>\n",
       "    </tr>\n",
       "    <tr>\n",
       "      <th>12</th>\n",
       "      <td>0</td>\n",
       "      <td>NaN</td>\n",
       "      <td>65</td>\n",
       "      <td>среднее</td>\n",
       "      <td>1</td>\n",
       "      <td>гражданский брак</td>\n",
       "      <td>1</td>\n",
       "      <td>M</td>\n",
       "      <td>пенсионер</td>\n",
       "      <td>0</td>\n",
       "      <td>NaN</td>\n",
       "      <td>сыграть свадьбу</td>\n",
       "    </tr>\n",
       "    <tr>\n",
       "      <th>13</th>\n",
       "      <td>0</td>\n",
       "      <td>-1846.641941</td>\n",
       "      <td>54</td>\n",
       "      <td>неоконченное высшее</td>\n",
       "      <td>2</td>\n",
       "      <td>женат / замужем</td>\n",
       "      <td>0</td>\n",
       "      <td>F</td>\n",
       "      <td>сотрудник</td>\n",
       "      <td>0</td>\n",
       "      <td>130458.228857</td>\n",
       "      <td>приобретение автомобиля</td>\n",
       "    </tr>\n",
       "    <tr>\n",
       "      <th>14</th>\n",
       "      <td>0</td>\n",
       "      <td>-1844.956182</td>\n",
       "      <td>56</td>\n",
       "      <td>высшее</td>\n",
       "      <td>0</td>\n",
       "      <td>гражданский брак</td>\n",
       "      <td>1</td>\n",
       "      <td>F</td>\n",
       "      <td>компаньон</td>\n",
       "      <td>1</td>\n",
       "      <td>165127.911772</td>\n",
       "      <td>покупка жилой недвижимости</td>\n",
       "    </tr>\n",
       "  </tbody>\n",
       "</table>\n",
       "</div>"
      ],
      "text/plain": [
       "    children  days_employed  dob_years            education  education_id  \\\n",
       "0          1   -8437.673028         42               высшее             0   \n",
       "1          1   -4024.803754         36              среднее             1   \n",
       "2          0   -5623.422610         33              Среднее             1   \n",
       "3          3   -4124.747207         32              среднее             1   \n",
       "4          0  340266.072047         53              среднее             1   \n",
       "5          0    -926.185831         27               высшее             0   \n",
       "6          0   -2879.202052         43               высшее             0   \n",
       "7          0    -152.779569         50              СРЕДНЕЕ             1   \n",
       "8          2   -6929.865299         35               ВЫСШЕЕ             0   \n",
       "9          0   -2188.756445         41              среднее             1   \n",
       "10         2   -4171.483647         36               высшее             0   \n",
       "11         0    -792.701887         40              среднее             1   \n",
       "12         0            NaN         65              среднее             1   \n",
       "13         0   -1846.641941         54  неоконченное высшее             2   \n",
       "14         0   -1844.956182         56               высшее             0   \n",
       "\n",
       "       family_status  family_status_id gender income_type  debt  \\\n",
       "0    женат / замужем                 0      F   сотрудник     0   \n",
       "1    женат / замужем                 0      F   сотрудник     0   \n",
       "2    женат / замужем                 0      M   сотрудник     0   \n",
       "3    женат / замужем                 0      M   сотрудник     0   \n",
       "4   гражданский брак                 1      F   пенсионер     0   \n",
       "5   гражданский брак                 1      M   компаньон     0   \n",
       "6    женат / замужем                 0      F   компаньон     0   \n",
       "7    женат / замужем                 0      M   сотрудник     0   \n",
       "8   гражданский брак                 1      F   сотрудник     0   \n",
       "9    женат / замужем                 0      M   сотрудник     0   \n",
       "10   женат / замужем                 0      M   компаньон     0   \n",
       "11   женат / замужем                 0      F   сотрудник     0   \n",
       "12  гражданский брак                 1      M   пенсионер     0   \n",
       "13   женат / замужем                 0      F   сотрудник     0   \n",
       "14  гражданский брак                 1      F   компаньон     1   \n",
       "\n",
       "     total_income                            purpose  \n",
       "0   253875.639453                      покупка жилья  \n",
       "1   112080.014102            приобретение автомобиля  \n",
       "2   145885.952297                      покупка жилья  \n",
       "3   267628.550329         дополнительное образование  \n",
       "4   158616.077870                    сыграть свадьбу  \n",
       "5   255763.565419                      покупка жилья  \n",
       "6   240525.971920                  операции с жильем  \n",
       "7   135823.934197                        образование  \n",
       "8    95856.832424              на проведение свадьбы  \n",
       "9   144425.938277            покупка жилья для семьи  \n",
       "10  113943.491460               покупка недвижимости  \n",
       "11   77069.234271  покупка коммерческой недвижимости  \n",
       "12            NaN                    сыграть свадьбу  \n",
       "13  130458.228857            приобретение автомобиля  \n",
       "14  165127.911772         покупка жилой недвижимости  "
      ]
     },
     "execution_count": 2,
     "metadata": {},
     "output_type": "execute_result"
    }
   ],
   "source": [
    "clients_solvency = pd.read_csv('/datasets/data.csv')\n",
    "clients_solvency.head(15)"
   ]
  },
  {
   "cell_type": "code",
   "execution_count": 3,
   "metadata": {},
   "outputs": [
    {
     "name": "stdout",
     "output_type": "stream",
     "text": [
      "<class 'pandas.core.frame.DataFrame'>\n",
      "RangeIndex: 21525 entries, 0 to 21524\n",
      "Data columns (total 12 columns):\n",
      " #   Column            Non-Null Count  Dtype  \n",
      "---  ------            --------------  -----  \n",
      " 0   children          21525 non-null  int64  \n",
      " 1   days_employed     19351 non-null  float64\n",
      " 2   dob_years         21525 non-null  int64  \n",
      " 3   education         21525 non-null  object \n",
      " 4   education_id      21525 non-null  int64  \n",
      " 5   family_status     21525 non-null  object \n",
      " 6   family_status_id  21525 non-null  int64  \n",
      " 7   gender            21525 non-null  object \n",
      " 8   income_type       21525 non-null  object \n",
      " 9   debt              21525 non-null  int64  \n",
      " 10  total_income      19351 non-null  float64\n",
      " 11  purpose           21525 non-null  object \n",
      "dtypes: float64(2), int64(5), object(5)\n",
      "memory usage: 2.0+ MB\n"
     ]
    }
   ],
   "source": [
    "clients_solvency.info()"
   ]
  },
  {
   "cell_type": "markdown",
   "metadata": {},
   "source": [
    ">1. В таблице есть пропущенные значения типа NaN\n",
    ">1. Смущает минусовой стаж и стаж в 4 строке не выглядит, как стаж в днях. Скорее всего, это ошибка. Для выполнения задания нам столбец со стажем не нужен, но возникает сомнение, что ошибки будут и в \"нужных\" нам столбцах. Стоит проверить столбцы children, family_status, total_income, purpose\n",
    ">1. Есть разный регистр в столбце education\n",
    ">1. Названия столбцов корректны и понятны, в исправлениях, считаю, что не нуждаются\n",
    ">1. Значения отсутствуют только в столбцах days_employed и total_income. \n",
    ">1. Также данным в столбце total_income лучше присвоить целочисленное значение. Столбцу days_employed в принципе тоже не мешало бы, но т.к. он нам не нужен для решения задачи, не будем его трогать"
   ]
  },
  {
   "cell_type": "markdown",
   "metadata": {},
   "source": [
    "## Предобработка данных"
   ]
  },
  {
   "cell_type": "markdown",
   "metadata": {},
   "source": [
    "### Обработка пропусков"
   ]
  },
  {
   "cell_type": "code",
   "execution_count": 4,
   "metadata": {},
   "outputs": [
    {
     "data": {
      "text/plain": [
       "children               0\n",
       "days_employed       2174\n",
       "dob_years              0\n",
       "education              0\n",
       "education_id           0\n",
       "family_status          0\n",
       "family_status_id       0\n",
       "gender                 0\n",
       "income_type            0\n",
       "debt                   0\n",
       "total_income        2174\n",
       "purpose                0\n",
       "dtype: int64"
      ]
     },
     "execution_count": 4,
     "metadata": {},
     "output_type": "execute_result"
    }
   ],
   "source": [
    "# Посмотрим на количество пустых значений в каждом столбце\n",
    "clients_solvency.isnull().sum()"
   ]
  },
  {
   "cell_type": "markdown",
   "metadata": {},
   "source": [
    ">Количество пропущенных значений в столбце days_employed равно количеству пропущенных значений в столбце total_income. Можно предположить, что это напрямую связано с тем, что при отсутствии стажа отсутствует также и доход. Это могут быть пенсионеры или студенты, не получающие доход и не работающие. Но это могут быть и люди других профессий, чей доход или стаж не указан по какой-либо определенной причине. Также стоит предположить, что даже если человек является пенсионером или студентом и не получает доход в качестве заработной платы, это не значит, что у него отсутствует доход в принципе. Пенсионеры получают пенсию, студенты могут получать стипендию или же помощь от родственников, также часть людей может работать неофициально. Следовательно, для решения задачи будет не верным заменить отсутствие дохода нулевым значением, поскольку по факту доход все равно присутствует. В этом случае было бы правильным заменить пропуски средним или медианой."
   ]
  },
  {
   "cell_type": "code",
   "execution_count": 5,
   "metadata": {},
   "outputs": [
    {
     "data": {
      "text/plain": [
       "сотрудник          1105\n",
       "компаньон           508\n",
       "пенсионер           413\n",
       "госслужащий         147\n",
       "предприниматель       1\n",
       "Name: income_type, dtype: int64"
      ]
     },
     "execution_count": 5,
     "metadata": {},
     "output_type": "execute_result"
    }
   ],
   "source": [
    "# проверим к каким типам занятости принадлежат пропуски\n",
    "clients_solvency[(clients_solvency['total_income'].isnull() == True) & (clients_solvency['days_employed'].isnull() == True)]['income_type'].value_counts()"
   ]
  },
  {
   "cell_type": "markdown",
   "metadata": {},
   "source": [
    "> Пропуски относятся к разным типам занятости и пропуск данных скорее всего является ошибкой и может повлиять на решение задачи. Чтобы заменить пропуски, стоит посчитать среднее или медиану по каждой группе"
   ]
  },
  {
   "cell_type": "code",
   "execution_count": 6,
   "metadata": {},
   "outputs": [
    {
     "data": {
      "text/html": [
       "<div>\n",
       "<style scoped>\n",
       "    .dataframe tbody tr th:only-of-type {\n",
       "        vertical-align: middle;\n",
       "    }\n",
       "\n",
       "    .dataframe tbody tr th {\n",
       "        vertical-align: top;\n",
       "    }\n",
       "\n",
       "    .dataframe thead tr th {\n",
       "        text-align: left;\n",
       "    }\n",
       "</style>\n",
       "<table border=\"1\" class=\"dataframe\">\n",
       "  <thead>\n",
       "    <tr>\n",
       "      <th></th>\n",
       "      <th>income_type</th>\n",
       "      <th colspan=\"2\" halign=\"left\">total_income</th>\n",
       "    </tr>\n",
       "    <tr>\n",
       "      <th></th>\n",
       "      <th></th>\n",
       "      <th>min</th>\n",
       "      <th>max</th>\n",
       "    </tr>\n",
       "  </thead>\n",
       "  <tbody>\n",
       "    <tr>\n",
       "      <th>0</th>\n",
       "      <td>безработный</td>\n",
       "      <td>59956.991984</td>\n",
       "      <td>2.027225e+05</td>\n",
       "    </tr>\n",
       "    <tr>\n",
       "      <th>1</th>\n",
       "      <td>в декрете</td>\n",
       "      <td>53829.130729</td>\n",
       "      <td>5.382913e+04</td>\n",
       "    </tr>\n",
       "    <tr>\n",
       "      <th>2</th>\n",
       "      <td>госслужащий</td>\n",
       "      <td>29200.077193</td>\n",
       "      <td>9.104515e+05</td>\n",
       "    </tr>\n",
       "    <tr>\n",
       "      <th>3</th>\n",
       "      <td>компаньон</td>\n",
       "      <td>28702.812889</td>\n",
       "      <td>2.265604e+06</td>\n",
       "    </tr>\n",
       "    <tr>\n",
       "      <th>4</th>\n",
       "      <td>пенсионер</td>\n",
       "      <td>20667.263793</td>\n",
       "      <td>7.351033e+05</td>\n",
       "    </tr>\n",
       "    <tr>\n",
       "      <th>5</th>\n",
       "      <td>предприниматель</td>\n",
       "      <td>499163.144947</td>\n",
       "      <td>4.991631e+05</td>\n",
       "    </tr>\n",
       "    <tr>\n",
       "      <th>6</th>\n",
       "      <td>сотрудник</td>\n",
       "      <td>21367.648356</td>\n",
       "      <td>1.726276e+06</td>\n",
       "    </tr>\n",
       "    <tr>\n",
       "      <th>7</th>\n",
       "      <td>студент</td>\n",
       "      <td>98201.625314</td>\n",
       "      <td>9.820163e+04</td>\n",
       "    </tr>\n",
       "  </tbody>\n",
       "</table>\n",
       "</div>"
      ],
      "text/plain": [
       "       income_type   total_income              \n",
       "                              min           max\n",
       "0      безработный   59956.991984  2.027225e+05\n",
       "1        в декрете   53829.130729  5.382913e+04\n",
       "2      госслужащий   29200.077193  9.104515e+05\n",
       "3        компаньон   28702.812889  2.265604e+06\n",
       "4        пенсионер   20667.263793  7.351033e+05\n",
       "5  предприниматель  499163.144947  4.991631e+05\n",
       "6        сотрудник   21367.648356  1.726276e+06\n",
       "7          студент   98201.625314  9.820163e+04"
      ]
     },
     "metadata": {},
     "output_type": "display_data"
    }
   ],
   "source": [
    "# Проверим min и max по каждой группе в столбце total_income, чтобы понять заменять средним или медианой\n",
    "clients_solvency_min_max = clients_solvency.groupby('income_type').agg({'total_income': ['min', 'max']}).reset_index()\n",
    "display(clients_solvency_min_max)"
   ]
  },
  {
   "cell_type": "markdown",
   "metadata": {},
   "source": [
    ">Данные по доходу очень разнятся, поэтому не совсем верно будет заменять пропущенные значения средним. В этом случае заменим пропущенные значения медианой по каждой нужной нам группе: сотрудник, компаньон, пенсионер, госслужащий, предприниматель"
   ]
  },
  {
   "cell_type": "code",
   "execution_count": 7,
   "metadata": {},
   "outputs": [
    {
     "name": "stdout",
     "output_type": "stream",
     "text": [
      "<class 'pandas.core.frame.DataFrame'>\n",
      "RangeIndex: 21525 entries, 0 to 21524\n",
      "Data columns (total 12 columns):\n",
      " #   Column            Non-Null Count  Dtype  \n",
      "---  ------            --------------  -----  \n",
      " 0   children          21525 non-null  int64  \n",
      " 1   days_employed     19351 non-null  float64\n",
      " 2   dob_years         21525 non-null  int64  \n",
      " 3   education         21525 non-null  object \n",
      " 4   education_id      21525 non-null  int64  \n",
      " 5   family_status     21525 non-null  object \n",
      " 6   family_status_id  21525 non-null  int64  \n",
      " 7   gender            21525 non-null  object \n",
      " 8   income_type       21525 non-null  object \n",
      " 9   debt              21525 non-null  int64  \n",
      " 10  total_income      21525 non-null  float64\n",
      " 11  purpose           21525 non-null  object \n",
      "dtypes: float64(2), int64(5), object(5)\n",
      "memory usage: 2.0+ MB\n"
     ]
    }
   ],
   "source": [
    "clients_solvency['total_income'] = clients_solvency.groupby('income_type')['total_income'].transform(lambda x: x.fillna(x.median()))\n",
    "clients_solvency.info()"
   ]
  },
  {
   "cell_type": "markdown",
   "metadata": {},
   "source": [
    "> **Вывод:**   \n",
    "избавились от пропущенных значений в столбце total_income. Теперь нужные нам столбцы пропущенных данных не содержат. С таблицей можно работать дальше"
   ]
  },
  {
   "cell_type": "markdown",
   "metadata": {},
   "source": [
    "### Поиск и обработка странных значений"
   ]
  },
  {
   "cell_type": "markdown",
   "metadata": {},
   "source": [
    "Выше мы планировали поискать странности в нужных нам столбцах: children, family_status, total_income, purpose. Вдруг там тоже будут ошибки по примеру ошибок в столбце со стажем"
   ]
  },
  {
   "cell_type": "markdown",
   "metadata": {},
   "source": [
    "В столбце children числовые значения, поэтому если говорить о странностях можно предположить, что опять будут минусовые значения или же некорретные (кто-то мог проставить лишние цифры). Поищем странности"
   ]
  },
  {
   "cell_type": "code",
   "execution_count": 8,
   "metadata": {},
   "outputs": [
    {
     "name": "stdout",
     "output_type": "stream",
     "text": [
      "[ 1  0  3  2 -1  4 20  5]\n"
     ]
    }
   ],
   "source": [
    "print(clients_solvency['children'].unique())"
   ]
  },
  {
   "cell_type": "markdown",
   "metadata": {},
   "source": [
    ">Странными выглядят значения -1 и 20. Остальное выглядит верным."
   ]
  },
  {
   "cell_type": "code",
   "execution_count": 9,
   "metadata": {},
   "outputs": [
    {
     "name": "stdout",
     "output_type": "stream",
     "text": [
      "['женат / замужем' 'гражданский брак' 'вдовец / вдова' 'в разводе'\n",
      " 'Не женат / не замужем']\n"
     ]
    }
   ],
   "source": [
    "# Посмотрим столбец family_status\n",
    "print(clients_solvency['family_status'].unique())"
   ]
  },
  {
   "cell_type": "markdown",
   "metadata": {},
   "source": [
    ">В целом все хорошо, кроме регистра Н в последней категории. Приведем все к нижнему регистру"
   ]
  },
  {
   "cell_type": "code",
   "execution_count": 10,
   "metadata": {},
   "outputs": [],
   "source": [
    "clients_solvency['family_status'] = clients_solvency['family_status'].str.lower()"
   ]
  },
  {
   "cell_type": "code",
   "execution_count": 11,
   "metadata": {},
   "outputs": [
    {
     "name": "stdout",
     "output_type": "stream",
     "text": [
      "['женат / замужем' 'гражданский брак' 'вдовец / вдова' 'в разводе'\n",
      " 'не женат / не замужем']\n"
     ]
    }
   ],
   "source": [
    "print(clients_solvency['family_status'].unique())"
   ]
  },
  {
   "cell_type": "markdown",
   "metadata": {},
   "source": [
    ">Min и max по total_income считали ранее. В этом столбце все ок."
   ]
  },
  {
   "cell_type": "code",
   "execution_count": 12,
   "metadata": {},
   "outputs": [
    {
     "name": "stdout",
     "output_type": "stream",
     "text": [
      "['покупка жилья' 'приобретение автомобиля' 'дополнительное образование'\n",
      " 'сыграть свадьбу' 'операции с жильем' 'образование'\n",
      " 'на проведение свадьбы' 'покупка жилья для семьи' 'покупка недвижимости'\n",
      " 'покупка коммерческой недвижимости' 'покупка жилой недвижимости'\n",
      " 'строительство собственной недвижимости' 'недвижимость'\n",
      " 'строительство недвижимости' 'на покупку подержанного автомобиля'\n",
      " 'на покупку своего автомобиля' 'операции с коммерческой недвижимостью'\n",
      " 'строительство жилой недвижимости' 'жилье'\n",
      " 'операции со своей недвижимостью' 'автомобили' 'заняться образованием'\n",
      " 'сделка с подержанным автомобилем' 'получение образования' 'автомобиль'\n",
      " 'свадьба' 'получение дополнительного образования' 'покупка своего жилья'\n",
      " 'операции с недвижимостью' 'получение высшего образования'\n",
      " 'свой автомобиль' 'сделка с автомобилем' 'профильное образование'\n",
      " 'высшее образование' 'покупка жилья для сдачи' 'на покупку автомобиля'\n",
      " 'ремонт жилью' 'заняться высшим образованием']\n"
     ]
    }
   ],
   "source": [
    "print(clients_solvency['purpose'].unique())"
   ]
  },
  {
   "cell_type": "markdown",
   "metadata": {},
   "source": [
    ">Каких-то ошибок или странностей нет, есть категории, которые скорее всего одни и те же и их надо объединить в одну."
   ]
  },
  {
   "cell_type": "markdown",
   "metadata": {},
   "source": [
    ">**Итого:** две явные странности - количество детей -1 и 20. Посчитаем количество таких странностей, чтобы понять влияют ли они на статистику"
   ]
  },
  {
   "cell_type": "code",
   "execution_count": 13,
   "metadata": {},
   "outputs": [
    {
     "name": "stdout",
     "output_type": "stream",
     "text": [
      "Количество 'children' -1 - 47\n",
      "Количество 'children' 20 - 76\n"
     ]
    }
   ],
   "source": [
    "print(\"Количество 'children' -1 -\", clients_solvency[clients_solvency['children'] == -1].count()[0])\n",
    "print(\"Количество 'children' 20 -\", clients_solvency[clients_solvency['children'] == 20].count()[0])"
   ]
  },
  {
   "cell_type": "markdown",
   "metadata": {},
   "source": [
    ">Заемщиков со странностями = 123 человека. Это всего 0,57% от общего количества. Можно, конечно, предположить, что -1  - это лишний минус в начале и на самом деле у заемщика 1 ребенок. Сложнее предположить, что имелось ввиду под \"20\" - 2 или 0. А это принципиально для решения задачи. Поскольку суммарный процент заемщиков со \"странным\" количеством детей очень мал относительно всей базы, предлагаю просто не учитывать эти данные в выводах по детям. Считаю, что на статистику ошибочные данные не повлияют"
   ]
  },
  {
   "cell_type": "markdown",
   "metadata": {},
   "source": [
    "### Замена типа данных"
   ]
  },
  {
   "cell_type": "markdown",
   "metadata": {},
   "source": [
    "Заменим тип смущающий нас в самом начале тип данных в столбце total_income на целочисленный"
   ]
  },
  {
   "cell_type": "code",
   "execution_count": 14,
   "metadata": {},
   "outputs": [
    {
     "name": "stdout",
     "output_type": "stream",
     "text": [
      "<class 'pandas.core.frame.DataFrame'>\n",
      "RangeIndex: 21525 entries, 0 to 21524\n",
      "Data columns (total 12 columns):\n",
      " #   Column            Non-Null Count  Dtype  \n",
      "---  ------            --------------  -----  \n",
      " 0   children          21525 non-null  int64  \n",
      " 1   days_employed     19351 non-null  float64\n",
      " 2   dob_years         21525 non-null  int64  \n",
      " 3   education         21525 non-null  object \n",
      " 4   education_id      21525 non-null  int64  \n",
      " 5   family_status     21525 non-null  object \n",
      " 6   family_status_id  21525 non-null  int64  \n",
      " 7   gender            21525 non-null  object \n",
      " 8   income_type       21525 non-null  object \n",
      " 9   debt              21525 non-null  int64  \n",
      " 10  total_income      21525 non-null  int64  \n",
      " 11  purpose           21525 non-null  object \n",
      "dtypes: float64(1), int64(6), object(5)\n",
      "memory usage: 2.0+ MB\n"
     ]
    }
   ],
   "source": [
    "clients_solvency['total_income'] = clients_solvency['total_income'].astype('int')\n",
    "clients_solvency.info()"
   ]
  },
  {
   "cell_type": "markdown",
   "metadata": {},
   "source": [
    ">**Вывод**:  \n",
    "заменили данные в столбце total_income на целочисленные. Можно было бы заменить данные также и в столбце days_employed, однако этот столбец нас не интересует в решении. Поэтому не будем терять на него время"
   ]
  },
  {
   "cell_type": "markdown",
   "metadata": {},
   "source": [
    "### Обработка дубликатов"
   ]
  },
  {
   "cell_type": "code",
   "execution_count": 15,
   "metadata": {},
   "outputs": [
    {
     "data": {
      "text/plain": [
       "54"
      ]
     },
     "execution_count": 15,
     "metadata": {},
     "output_type": "execute_result"
    }
   ],
   "source": [
    "# Поищем дубликаты\n",
    "clients_solvency.duplicated().sum()"
   ]
  },
  {
   "cell_type": "code",
   "execution_count": 16,
   "metadata": {},
   "outputs": [
    {
     "data": {
      "text/html": [
       "<div>\n",
       "<style scoped>\n",
       "    .dataframe tbody tr th:only-of-type {\n",
       "        vertical-align: middle;\n",
       "    }\n",
       "\n",
       "    .dataframe tbody tr th {\n",
       "        vertical-align: top;\n",
       "    }\n",
       "\n",
       "    .dataframe thead th {\n",
       "        text-align: right;\n",
       "    }\n",
       "</style>\n",
       "<table border=\"1\" class=\"dataframe\">\n",
       "  <thead>\n",
       "    <tr style=\"text-align: right;\">\n",
       "      <th></th>\n",
       "      <th>children</th>\n",
       "      <th>days_employed</th>\n",
       "      <th>dob_years</th>\n",
       "      <th>education</th>\n",
       "      <th>education_id</th>\n",
       "      <th>family_status</th>\n",
       "      <th>family_status_id</th>\n",
       "      <th>gender</th>\n",
       "      <th>income_type</th>\n",
       "      <th>debt</th>\n",
       "      <th>total_income</th>\n",
       "      <th>purpose</th>\n",
       "    </tr>\n",
       "  </thead>\n",
       "  <tbody>\n",
       "    <tr>\n",
       "      <th>2849</th>\n",
       "      <td>0</td>\n",
       "      <td>NaN</td>\n",
       "      <td>41</td>\n",
       "      <td>среднее</td>\n",
       "      <td>1</td>\n",
       "      <td>женат / замужем</td>\n",
       "      <td>0</td>\n",
       "      <td>F</td>\n",
       "      <td>сотрудник</td>\n",
       "      <td>0</td>\n",
       "      <td>142594</td>\n",
       "      <td>покупка жилья для семьи</td>\n",
       "    </tr>\n",
       "    <tr>\n",
       "      <th>4182</th>\n",
       "      <td>1</td>\n",
       "      <td>NaN</td>\n",
       "      <td>34</td>\n",
       "      <td>ВЫСШЕЕ</td>\n",
       "      <td>0</td>\n",
       "      <td>гражданский брак</td>\n",
       "      <td>1</td>\n",
       "      <td>F</td>\n",
       "      <td>сотрудник</td>\n",
       "      <td>0</td>\n",
       "      <td>142594</td>\n",
       "      <td>свадьба</td>\n",
       "    </tr>\n",
       "    <tr>\n",
       "      <th>4851</th>\n",
       "      <td>0</td>\n",
       "      <td>NaN</td>\n",
       "      <td>60</td>\n",
       "      <td>среднее</td>\n",
       "      <td>1</td>\n",
       "      <td>гражданский брак</td>\n",
       "      <td>1</td>\n",
       "      <td>F</td>\n",
       "      <td>пенсионер</td>\n",
       "      <td>0</td>\n",
       "      <td>118514</td>\n",
       "      <td>свадьба</td>\n",
       "    </tr>\n",
       "    <tr>\n",
       "      <th>5557</th>\n",
       "      <td>0</td>\n",
       "      <td>NaN</td>\n",
       "      <td>58</td>\n",
       "      <td>среднее</td>\n",
       "      <td>1</td>\n",
       "      <td>гражданский брак</td>\n",
       "      <td>1</td>\n",
       "      <td>F</td>\n",
       "      <td>пенсионер</td>\n",
       "      <td>0</td>\n",
       "      <td>118514</td>\n",
       "      <td>сыграть свадьбу</td>\n",
       "    </tr>\n",
       "    <tr>\n",
       "      <th>7808</th>\n",
       "      <td>0</td>\n",
       "      <td>NaN</td>\n",
       "      <td>57</td>\n",
       "      <td>среднее</td>\n",
       "      <td>1</td>\n",
       "      <td>гражданский брак</td>\n",
       "      <td>1</td>\n",
       "      <td>F</td>\n",
       "      <td>пенсионер</td>\n",
       "      <td>0</td>\n",
       "      <td>118514</td>\n",
       "      <td>на проведение свадьбы</td>\n",
       "    </tr>\n",
       "    <tr>\n",
       "      <th>8583</th>\n",
       "      <td>0</td>\n",
       "      <td>NaN</td>\n",
       "      <td>58</td>\n",
       "      <td>высшее</td>\n",
       "      <td>0</td>\n",
       "      <td>не женат / не замужем</td>\n",
       "      <td>4</td>\n",
       "      <td>F</td>\n",
       "      <td>пенсионер</td>\n",
       "      <td>0</td>\n",
       "      <td>118514</td>\n",
       "      <td>дополнительное образование</td>\n",
       "    </tr>\n",
       "    <tr>\n",
       "      <th>9238</th>\n",
       "      <td>2</td>\n",
       "      <td>NaN</td>\n",
       "      <td>34</td>\n",
       "      <td>среднее</td>\n",
       "      <td>1</td>\n",
       "      <td>женат / замужем</td>\n",
       "      <td>0</td>\n",
       "      <td>F</td>\n",
       "      <td>сотрудник</td>\n",
       "      <td>0</td>\n",
       "      <td>142594</td>\n",
       "      <td>покупка жилья для сдачи</td>\n",
       "    </tr>\n",
       "    <tr>\n",
       "      <th>9528</th>\n",
       "      <td>0</td>\n",
       "      <td>NaN</td>\n",
       "      <td>66</td>\n",
       "      <td>среднее</td>\n",
       "      <td>1</td>\n",
       "      <td>вдовец / вдова</td>\n",
       "      <td>2</td>\n",
       "      <td>F</td>\n",
       "      <td>пенсионер</td>\n",
       "      <td>0</td>\n",
       "      <td>118514</td>\n",
       "      <td>операции со своей недвижимостью</td>\n",
       "    </tr>\n",
       "    <tr>\n",
       "      <th>9627</th>\n",
       "      <td>0</td>\n",
       "      <td>NaN</td>\n",
       "      <td>56</td>\n",
       "      <td>среднее</td>\n",
       "      <td>1</td>\n",
       "      <td>женат / замужем</td>\n",
       "      <td>0</td>\n",
       "      <td>F</td>\n",
       "      <td>пенсионер</td>\n",
       "      <td>0</td>\n",
       "      <td>118514</td>\n",
       "      <td>операции со своей недвижимостью</td>\n",
       "    </tr>\n",
       "    <tr>\n",
       "      <th>10462</th>\n",
       "      <td>0</td>\n",
       "      <td>NaN</td>\n",
       "      <td>62</td>\n",
       "      <td>среднее</td>\n",
       "      <td>1</td>\n",
       "      <td>женат / замужем</td>\n",
       "      <td>0</td>\n",
       "      <td>F</td>\n",
       "      <td>пенсионер</td>\n",
       "      <td>0</td>\n",
       "      <td>118514</td>\n",
       "      <td>покупка коммерческой недвижимости</td>\n",
       "    </tr>\n",
       "  </tbody>\n",
       "</table>\n",
       "</div>"
      ],
      "text/plain": [
       "       children  days_employed  dob_years education  education_id  \\\n",
       "2849          0            NaN         41   среднее             1   \n",
       "4182          1            NaN         34    ВЫСШЕЕ             0   \n",
       "4851          0            NaN         60   среднее             1   \n",
       "5557          0            NaN         58   среднее             1   \n",
       "7808          0            NaN         57   среднее             1   \n",
       "8583          0            NaN         58    высшее             0   \n",
       "9238          2            NaN         34   среднее             1   \n",
       "9528          0            NaN         66   среднее             1   \n",
       "9627          0            NaN         56   среднее             1   \n",
       "10462         0            NaN         62   среднее             1   \n",
       "\n",
       "               family_status  family_status_id gender income_type  debt  \\\n",
       "2849         женат / замужем                 0      F   сотрудник     0   \n",
       "4182        гражданский брак                 1      F   сотрудник     0   \n",
       "4851        гражданский брак                 1      F   пенсионер     0   \n",
       "5557        гражданский брак                 1      F   пенсионер     0   \n",
       "7808        гражданский брак                 1      F   пенсионер     0   \n",
       "8583   не женат / не замужем                 4      F   пенсионер     0   \n",
       "9238         женат / замужем                 0      F   сотрудник     0   \n",
       "9528          вдовец / вдова                 2      F   пенсионер     0   \n",
       "9627         женат / замужем                 0      F   пенсионер     0   \n",
       "10462        женат / замужем                 0      F   пенсионер     0   \n",
       "\n",
       "       total_income                            purpose  \n",
       "2849         142594            покупка жилья для семьи  \n",
       "4182         142594                            свадьба  \n",
       "4851         118514                            свадьба  \n",
       "5557         118514                    сыграть свадьбу  \n",
       "7808         118514              на проведение свадьбы  \n",
       "8583         118514         дополнительное образование  \n",
       "9238         142594            покупка жилья для сдачи  \n",
       "9528         118514    операции со своей недвижимостью  \n",
       "9627         118514    операции со своей недвижимостью  \n",
       "10462        118514  покупка коммерческой недвижимости  "
      ]
     },
     "execution_count": 16,
     "metadata": {},
     "output_type": "execute_result"
    }
   ],
   "source": [
    "#Посмотрим на эти дубликаты\n",
    "clients_solvency[clients_solvency.duplicated()].head(10)"
   ]
  },
  {
   "cell_type": "markdown",
   "metadata": {},
   "source": [
    ">**Вывод:**  \n",
    "У нас нет ФИО заемщика или его идентификатора, столбец total_income (который мог бы, действительно, сильно разнится) в большинстве своем  - медиана, заполнившая пропуски, поэтому быть на 100% уверенными, что эти данные дублируются, мы не можем. Маловероятно, но, возможно, что часть из них, действительно, разные люди. В нашей ситуации потенциальных дубликатов всего 54 единицы. Думаю их удаление или не удаление не повлияют на выводы. Поэтому удалять в этом случае не будем."
   ]
  },
  {
   "cell_type": "markdown",
   "metadata": {},
   "source": [
    "### Лемматизация"
   ]
  },
  {
   "cell_type": "markdown",
   "metadata": {},
   "source": [
    "Выше мы уже обратили внимание на то, что далеко не все цели кредита в столбце purpose являются на самом деле уникальными. Многие из них просто записаны по разному, что создаст путаницу в выборке и выводах. Надо разобраться с этим моментом"
   ]
  },
  {
   "cell_type": "code",
   "execution_count": 17,
   "metadata": {},
   "outputs": [],
   "source": [
    "m = Mystem()\n",
    "lemmas = []\n",
    "for element in clients_solvency['purpose']:\n",
    "    lemma = m.lemmatize(element)\n",
    "    lemmas.extend(lemma)\n",
    "#print(lemmas)"
   ]
  },
  {
   "cell_type": "code",
   "execution_count": 18,
   "metadata": {},
   "outputs": [
    {
     "name": "stdout",
     "output_type": "stream",
     "text": [
      "Counter({' ': 33677, '\\n': 21525, 'недвижимость': 6367, 'покупка': 5912, 'жилье': 4473, 'автомобиль': 4315, 'образование': 4022, 'с': 2924, 'операция': 2610, 'свадьба': 2348, 'свой': 2235, 'на': 2233, 'строительство': 1881, 'высокий': 1375, 'получение': 1316, 'коммерческий': 1315, 'для': 1294, 'жилой': 1233, 'сделка': 944, 'дополнительный': 909, 'заниматься': 908, 'проведение': 777, 'сыграть': 774, 'сдача': 653, 'семья': 641, 'собственный': 635, 'со': 630, 'ремонт': 612, 'подержанный': 489, 'подержать': 479, 'приобретение': 462, 'профильный': 436})\n"
     ]
    }
   ],
   "source": [
    "print(Counter(lemmas))"
   ]
  },
  {
   "cell_type": "markdown",
   "metadata": {},
   "source": [
    ">Итого получилось:  \n",
    ">\n",
    ">**цель 1**  - недвижимость (включая операции с ней)  \n",
    ">**цель 2** - автомобиль  \n",
    ">**цель 3** - образование  \n",
    ">**цель 4** - свадьба  \n",
    "\n"
   ]
  },
  {
   "cell_type": "code",
   "execution_count": 19,
   "metadata": {},
   "outputs": [
    {
     "data": {
      "text/html": [
       "<div>\n",
       "<style scoped>\n",
       "    .dataframe tbody tr th:only-of-type {\n",
       "        vertical-align: middle;\n",
       "    }\n",
       "\n",
       "    .dataframe tbody tr th {\n",
       "        vertical-align: top;\n",
       "    }\n",
       "\n",
       "    .dataframe thead th {\n",
       "        text-align: right;\n",
       "    }\n",
       "</style>\n",
       "<table border=\"1\" class=\"dataframe\">\n",
       "  <thead>\n",
       "    <tr style=\"text-align: right;\">\n",
       "      <th></th>\n",
       "      <th>children</th>\n",
       "      <th>days_employed</th>\n",
       "      <th>dob_years</th>\n",
       "      <th>education</th>\n",
       "      <th>education_id</th>\n",
       "      <th>family_status</th>\n",
       "      <th>family_status_id</th>\n",
       "      <th>gender</th>\n",
       "      <th>income_type</th>\n",
       "      <th>debt</th>\n",
       "      <th>total_income</th>\n",
       "      <th>purpose</th>\n",
       "      <th>purpose_lemma</th>\n",
       "    </tr>\n",
       "  </thead>\n",
       "  <tbody>\n",
       "    <tr>\n",
       "      <th>0</th>\n",
       "      <td>1</td>\n",
       "      <td>-8437.673028</td>\n",
       "      <td>42</td>\n",
       "      <td>высшее</td>\n",
       "      <td>0</td>\n",
       "      <td>женат / замужем</td>\n",
       "      <td>0</td>\n",
       "      <td>F</td>\n",
       "      <td>сотрудник</td>\n",
       "      <td>0</td>\n",
       "      <td>253875</td>\n",
       "      <td>покупка жилья</td>\n",
       "      <td>[покупка,  , жилье, \\n]</td>\n",
       "    </tr>\n",
       "    <tr>\n",
       "      <th>1</th>\n",
       "      <td>1</td>\n",
       "      <td>-4024.803754</td>\n",
       "      <td>36</td>\n",
       "      <td>среднее</td>\n",
       "      <td>1</td>\n",
       "      <td>женат / замужем</td>\n",
       "      <td>0</td>\n",
       "      <td>F</td>\n",
       "      <td>сотрудник</td>\n",
       "      <td>0</td>\n",
       "      <td>112080</td>\n",
       "      <td>приобретение автомобиля</td>\n",
       "      <td>[приобретение,  , автомобиль, \\n]</td>\n",
       "    </tr>\n",
       "    <tr>\n",
       "      <th>2</th>\n",
       "      <td>0</td>\n",
       "      <td>-5623.422610</td>\n",
       "      <td>33</td>\n",
       "      <td>Среднее</td>\n",
       "      <td>1</td>\n",
       "      <td>женат / замужем</td>\n",
       "      <td>0</td>\n",
       "      <td>M</td>\n",
       "      <td>сотрудник</td>\n",
       "      <td>0</td>\n",
       "      <td>145885</td>\n",
       "      <td>покупка жилья</td>\n",
       "      <td>[покупка,  , жилье, \\n]</td>\n",
       "    </tr>\n",
       "    <tr>\n",
       "      <th>3</th>\n",
       "      <td>3</td>\n",
       "      <td>-4124.747207</td>\n",
       "      <td>32</td>\n",
       "      <td>среднее</td>\n",
       "      <td>1</td>\n",
       "      <td>женат / замужем</td>\n",
       "      <td>0</td>\n",
       "      <td>M</td>\n",
       "      <td>сотрудник</td>\n",
       "      <td>0</td>\n",
       "      <td>267628</td>\n",
       "      <td>дополнительное образование</td>\n",
       "      <td>[дополнительный,  , образование, \\n]</td>\n",
       "    </tr>\n",
       "    <tr>\n",
       "      <th>4</th>\n",
       "      <td>0</td>\n",
       "      <td>340266.072047</td>\n",
       "      <td>53</td>\n",
       "      <td>среднее</td>\n",
       "      <td>1</td>\n",
       "      <td>гражданский брак</td>\n",
       "      <td>1</td>\n",
       "      <td>F</td>\n",
       "      <td>пенсионер</td>\n",
       "      <td>0</td>\n",
       "      <td>158616</td>\n",
       "      <td>сыграть свадьбу</td>\n",
       "      <td>[сыграть,  , свадьба, \\n]</td>\n",
       "    </tr>\n",
       "  </tbody>\n",
       "</table>\n",
       "</div>"
      ],
      "text/plain": [
       "   children  days_employed  dob_years education  education_id  \\\n",
       "0         1   -8437.673028         42    высшее             0   \n",
       "1         1   -4024.803754         36   среднее             1   \n",
       "2         0   -5623.422610         33   Среднее             1   \n",
       "3         3   -4124.747207         32   среднее             1   \n",
       "4         0  340266.072047         53   среднее             1   \n",
       "\n",
       "      family_status  family_status_id gender income_type  debt  total_income  \\\n",
       "0   женат / замужем                 0      F   сотрудник     0        253875   \n",
       "1   женат / замужем                 0      F   сотрудник     0        112080   \n",
       "2   женат / замужем                 0      M   сотрудник     0        145885   \n",
       "3   женат / замужем                 0      M   сотрудник     0        267628   \n",
       "4  гражданский брак                 1      F   пенсионер     0        158616   \n",
       "\n",
       "                      purpose                         purpose_lemma  \n",
       "0               покупка жилья               [покупка,  , жилье, \\n]  \n",
       "1     приобретение автомобиля     [приобретение,  , автомобиль, \\n]  \n",
       "2               покупка жилья               [покупка,  , жилье, \\n]  \n",
       "3  дополнительное образование  [дополнительный,  , образование, \\n]  \n",
       "4             сыграть свадьбу             [сыграть,  , свадьба, \\n]  "
      ]
     },
     "execution_count": 19,
     "metadata": {},
     "output_type": "execute_result"
    }
   ],
   "source": [
    "clients_solvency['purpose_lemma'] = clients_solvency['purpose'].apply(m.lemmatize)\n",
    "clients_solvency.head()\n",
    "    "
   ]
  },
  {
   "cell_type": "code",
   "execution_count": 20,
   "metadata": {},
   "outputs": [
    {
     "data": {
      "text/html": [
       "<div>\n",
       "<style scoped>\n",
       "    .dataframe tbody tr th:only-of-type {\n",
       "        vertical-align: middle;\n",
       "    }\n",
       "\n",
       "    .dataframe tbody tr th {\n",
       "        vertical-align: top;\n",
       "    }\n",
       "\n",
       "    .dataframe thead th {\n",
       "        text-align: right;\n",
       "    }\n",
       "</style>\n",
       "<table border=\"1\" class=\"dataframe\">\n",
       "  <thead>\n",
       "    <tr style=\"text-align: right;\">\n",
       "      <th></th>\n",
       "      <th>children</th>\n",
       "      <th>days_employed</th>\n",
       "      <th>dob_years</th>\n",
       "      <th>education</th>\n",
       "      <th>education_id</th>\n",
       "      <th>family_status</th>\n",
       "      <th>family_status_id</th>\n",
       "      <th>gender</th>\n",
       "      <th>income_type</th>\n",
       "      <th>debt</th>\n",
       "      <th>total_income</th>\n",
       "      <th>purpose</th>\n",
       "      <th>purpose_lemma</th>\n",
       "      <th>purpose_grouped</th>\n",
       "    </tr>\n",
       "  </thead>\n",
       "  <tbody>\n",
       "    <tr>\n",
       "      <th>0</th>\n",
       "      <td>1</td>\n",
       "      <td>-8437.673028</td>\n",
       "      <td>42</td>\n",
       "      <td>высшее</td>\n",
       "      <td>0</td>\n",
       "      <td>женат / замужем</td>\n",
       "      <td>0</td>\n",
       "      <td>F</td>\n",
       "      <td>сотрудник</td>\n",
       "      <td>0</td>\n",
       "      <td>253875</td>\n",
       "      <td>покупка жилья</td>\n",
       "      <td>[покупка,  , жилье, \\n]</td>\n",
       "      <td>недвижимость</td>\n",
       "    </tr>\n",
       "    <tr>\n",
       "      <th>1</th>\n",
       "      <td>1</td>\n",
       "      <td>-4024.803754</td>\n",
       "      <td>36</td>\n",
       "      <td>среднее</td>\n",
       "      <td>1</td>\n",
       "      <td>женат / замужем</td>\n",
       "      <td>0</td>\n",
       "      <td>F</td>\n",
       "      <td>сотрудник</td>\n",
       "      <td>0</td>\n",
       "      <td>112080</td>\n",
       "      <td>приобретение автомобиля</td>\n",
       "      <td>[приобретение,  , автомобиль, \\n]</td>\n",
       "      <td>автомобиль</td>\n",
       "    </tr>\n",
       "    <tr>\n",
       "      <th>2</th>\n",
       "      <td>0</td>\n",
       "      <td>-5623.422610</td>\n",
       "      <td>33</td>\n",
       "      <td>Среднее</td>\n",
       "      <td>1</td>\n",
       "      <td>женат / замужем</td>\n",
       "      <td>0</td>\n",
       "      <td>M</td>\n",
       "      <td>сотрудник</td>\n",
       "      <td>0</td>\n",
       "      <td>145885</td>\n",
       "      <td>покупка жилья</td>\n",
       "      <td>[покупка,  , жилье, \\n]</td>\n",
       "      <td>недвижимость</td>\n",
       "    </tr>\n",
       "    <tr>\n",
       "      <th>3</th>\n",
       "      <td>3</td>\n",
       "      <td>-4124.747207</td>\n",
       "      <td>32</td>\n",
       "      <td>среднее</td>\n",
       "      <td>1</td>\n",
       "      <td>женат / замужем</td>\n",
       "      <td>0</td>\n",
       "      <td>M</td>\n",
       "      <td>сотрудник</td>\n",
       "      <td>0</td>\n",
       "      <td>267628</td>\n",
       "      <td>дополнительное образование</td>\n",
       "      <td>[дополнительный,  , образование, \\n]</td>\n",
       "      <td>образование</td>\n",
       "    </tr>\n",
       "    <tr>\n",
       "      <th>4</th>\n",
       "      <td>0</td>\n",
       "      <td>340266.072047</td>\n",
       "      <td>53</td>\n",
       "      <td>среднее</td>\n",
       "      <td>1</td>\n",
       "      <td>гражданский брак</td>\n",
       "      <td>1</td>\n",
       "      <td>F</td>\n",
       "      <td>пенсионер</td>\n",
       "      <td>0</td>\n",
       "      <td>158616</td>\n",
       "      <td>сыграть свадьбу</td>\n",
       "      <td>[сыграть,  , свадьба, \\n]</td>\n",
       "      <td>свадьба</td>\n",
       "    </tr>\n",
       "  </tbody>\n",
       "</table>\n",
       "</div>"
      ],
      "text/plain": [
       "   children  days_employed  dob_years education  education_id  \\\n",
       "0         1   -8437.673028         42    высшее             0   \n",
       "1         1   -4024.803754         36   среднее             1   \n",
       "2         0   -5623.422610         33   Среднее             1   \n",
       "3         3   -4124.747207         32   среднее             1   \n",
       "4         0  340266.072047         53   среднее             1   \n",
       "\n",
       "      family_status  family_status_id gender income_type  debt  total_income  \\\n",
       "0   женат / замужем                 0      F   сотрудник     0        253875   \n",
       "1   женат / замужем                 0      F   сотрудник     0        112080   \n",
       "2   женат / замужем                 0      M   сотрудник     0        145885   \n",
       "3   женат / замужем                 0      M   сотрудник     0        267628   \n",
       "4  гражданский брак                 1      F   пенсионер     0        158616   \n",
       "\n",
       "                      purpose                         purpose_lemma  \\\n",
       "0               покупка жилья               [покупка,  , жилье, \\n]   \n",
       "1     приобретение автомобиля     [приобретение,  , автомобиль, \\n]   \n",
       "2               покупка жилья               [покупка,  , жилье, \\n]   \n",
       "3  дополнительное образование  [дополнительный,  , образование, \\n]   \n",
       "4             сыграть свадьбу             [сыграть,  , свадьба, \\n]   \n",
       "\n",
       "  purpose_grouped  \n",
       "0    недвижимость  \n",
       "1      автомобиль  \n",
       "2    недвижимость  \n",
       "3     образование  \n",
       "4         свадьба  "
      ]
     },
     "execution_count": 20,
     "metadata": {},
     "output_type": "execute_result"
    }
   ],
   "source": [
    "def purpose_grouped(row):\n",
    "    if 'недвижимость' in row:\n",
    "        return 'недвижимость'\n",
    "    elif 'жилье' in row:\n",
    "        return 'недвижимость'\n",
    "    elif 'автомобиль' in row:\n",
    "        return 'автомобиль'\n",
    "    elif 'образование' in row:\n",
    "        return 'образование'\n",
    "    elif 'свадьба' in row:\n",
    "        return 'свадьба'\n",
    "    elif 'жилой' in row:\n",
    "        return 'недвижимость'\n",
    "\n",
    "clients_solvency['purpose_grouped'] = clients_solvency['purpose_lemma'].apply(purpose_grouped)\n",
    "clients_solvency.head()\n",
    "    "
   ]
  },
  {
   "cell_type": "code",
   "execution_count": 21,
   "metadata": {},
   "outputs": [
    {
     "data": {
      "text/plain": [
       "0"
      ]
     },
     "execution_count": 21,
     "metadata": {},
     "output_type": "execute_result"
    }
   ],
   "source": [
    "clients_solvency['purpose_grouped'].isnull().sum() # проверяем не появились ли пропуски"
   ]
  },
  {
   "cell_type": "markdown",
   "metadata": {},
   "source": [
    ">**Вывод**  \n",
    "Провели лемматизацию и выявили основные цели кредита"
   ]
  },
  {
   "cell_type": "markdown",
   "metadata": {},
   "source": [
    "### Категоризация данных"
   ]
  },
  {
   "cell_type": "markdown",
   "metadata": {},
   "source": [
    "Проведем категоризацию по столбцу children, чтобы ответить на вопрос: есть ли зависимость между наличием детей и возвратом кредита в срок"
   ]
  },
  {
   "cell_type": "code",
   "execution_count": 22,
   "metadata": {},
   "outputs": [
    {
     "data": {
      "text/html": [
       "<div>\n",
       "<style scoped>\n",
       "    .dataframe tbody tr th:only-of-type {\n",
       "        vertical-align: middle;\n",
       "    }\n",
       "\n",
       "    .dataframe tbody tr th {\n",
       "        vertical-align: top;\n",
       "    }\n",
       "\n",
       "    .dataframe thead th {\n",
       "        text-align: right;\n",
       "    }\n",
       "</style>\n",
       "<table border=\"1\" class=\"dataframe\">\n",
       "  <thead>\n",
       "    <tr style=\"text-align: right;\">\n",
       "      <th></th>\n",
       "      <th>children</th>\n",
       "      <th>days_employed</th>\n",
       "      <th>dob_years</th>\n",
       "      <th>education</th>\n",
       "      <th>education_id</th>\n",
       "      <th>family_status</th>\n",
       "      <th>family_status_id</th>\n",
       "      <th>gender</th>\n",
       "      <th>income_type</th>\n",
       "      <th>debt</th>\n",
       "      <th>total_income</th>\n",
       "      <th>purpose</th>\n",
       "      <th>purpose_lemma</th>\n",
       "      <th>purpose_grouped</th>\n",
       "      <th>children_grouped</th>\n",
       "    </tr>\n",
       "  </thead>\n",
       "  <tbody>\n",
       "    <tr>\n",
       "      <th>0</th>\n",
       "      <td>1</td>\n",
       "      <td>-8437.673028</td>\n",
       "      <td>42</td>\n",
       "      <td>высшее</td>\n",
       "      <td>0</td>\n",
       "      <td>женат / замужем</td>\n",
       "      <td>0</td>\n",
       "      <td>F</td>\n",
       "      <td>сотрудник</td>\n",
       "      <td>0</td>\n",
       "      <td>253875</td>\n",
       "      <td>покупка жилья</td>\n",
       "      <td>[покупка,  , жилье, \\n]</td>\n",
       "      <td>недвижимость</td>\n",
       "      <td>есть дети</td>\n",
       "    </tr>\n",
       "    <tr>\n",
       "      <th>1</th>\n",
       "      <td>1</td>\n",
       "      <td>-4024.803754</td>\n",
       "      <td>36</td>\n",
       "      <td>среднее</td>\n",
       "      <td>1</td>\n",
       "      <td>женат / замужем</td>\n",
       "      <td>0</td>\n",
       "      <td>F</td>\n",
       "      <td>сотрудник</td>\n",
       "      <td>0</td>\n",
       "      <td>112080</td>\n",
       "      <td>приобретение автомобиля</td>\n",
       "      <td>[приобретение,  , автомобиль, \\n]</td>\n",
       "      <td>автомобиль</td>\n",
       "      <td>есть дети</td>\n",
       "    </tr>\n",
       "    <tr>\n",
       "      <th>2</th>\n",
       "      <td>0</td>\n",
       "      <td>-5623.422610</td>\n",
       "      <td>33</td>\n",
       "      <td>Среднее</td>\n",
       "      <td>1</td>\n",
       "      <td>женат / замужем</td>\n",
       "      <td>0</td>\n",
       "      <td>M</td>\n",
       "      <td>сотрудник</td>\n",
       "      <td>0</td>\n",
       "      <td>145885</td>\n",
       "      <td>покупка жилья</td>\n",
       "      <td>[покупка,  , жилье, \\n]</td>\n",
       "      <td>недвижимость</td>\n",
       "      <td>нет детей</td>\n",
       "    </tr>\n",
       "    <tr>\n",
       "      <th>3</th>\n",
       "      <td>3</td>\n",
       "      <td>-4124.747207</td>\n",
       "      <td>32</td>\n",
       "      <td>среднее</td>\n",
       "      <td>1</td>\n",
       "      <td>женат / замужем</td>\n",
       "      <td>0</td>\n",
       "      <td>M</td>\n",
       "      <td>сотрудник</td>\n",
       "      <td>0</td>\n",
       "      <td>267628</td>\n",
       "      <td>дополнительное образование</td>\n",
       "      <td>[дополнительный,  , образование, \\n]</td>\n",
       "      <td>образование</td>\n",
       "      <td>есть дети</td>\n",
       "    </tr>\n",
       "    <tr>\n",
       "      <th>4</th>\n",
       "      <td>0</td>\n",
       "      <td>340266.072047</td>\n",
       "      <td>53</td>\n",
       "      <td>среднее</td>\n",
       "      <td>1</td>\n",
       "      <td>гражданский брак</td>\n",
       "      <td>1</td>\n",
       "      <td>F</td>\n",
       "      <td>пенсионер</td>\n",
       "      <td>0</td>\n",
       "      <td>158616</td>\n",
       "      <td>сыграть свадьбу</td>\n",
       "      <td>[сыграть,  , свадьба, \\n]</td>\n",
       "      <td>свадьба</td>\n",
       "      <td>нет детей</td>\n",
       "    </tr>\n",
       "  </tbody>\n",
       "</table>\n",
       "</div>"
      ],
      "text/plain": [
       "   children  days_employed  dob_years education  education_id  \\\n",
       "0         1   -8437.673028         42    высшее             0   \n",
       "1         1   -4024.803754         36   среднее             1   \n",
       "2         0   -5623.422610         33   Среднее             1   \n",
       "3         3   -4124.747207         32   среднее             1   \n",
       "4         0  340266.072047         53   среднее             1   \n",
       "\n",
       "      family_status  family_status_id gender income_type  debt  total_income  \\\n",
       "0   женат / замужем                 0      F   сотрудник     0        253875   \n",
       "1   женат / замужем                 0      F   сотрудник     0        112080   \n",
       "2   женат / замужем                 0      M   сотрудник     0        145885   \n",
       "3   женат / замужем                 0      M   сотрудник     0        267628   \n",
       "4  гражданский брак                 1      F   пенсионер     0        158616   \n",
       "\n",
       "                      purpose                         purpose_lemma  \\\n",
       "0               покупка жилья               [покупка,  , жилье, \\n]   \n",
       "1     приобретение автомобиля     [приобретение,  , автомобиль, \\n]   \n",
       "2               покупка жилья               [покупка,  , жилье, \\n]   \n",
       "3  дополнительное образование  [дополнительный,  , образование, \\n]   \n",
       "4             сыграть свадьбу             [сыграть,  , свадьба, \\n]   \n",
       "\n",
       "  purpose_grouped children_grouped  \n",
       "0    недвижимость        есть дети  \n",
       "1      автомобиль        есть дети  \n",
       "2    недвижимость        нет детей  \n",
       "3     образование        есть дети  \n",
       "4         свадьба        нет детей  "
      ]
     },
     "execution_count": 22,
     "metadata": {},
     "output_type": "execute_result"
    }
   ],
   "source": [
    "def children_grouped(row):\n",
    "    children = row['children']\n",
    "    if children == 0:\n",
    "        return 'нет детей'\n",
    "    elif 1 <= children <= 20: \n",
    "        return 'есть дети'\n",
    "    \n",
    "clients_solvency['children_grouped'] = clients_solvency.apply(children_grouped, axis=1)\n",
    "clients_solvency.head()\n",
    "        "
   ]
  },
  {
   "cell_type": "markdown",
   "metadata": {},
   "source": [
    "Категоризация по столбцу family_status, для ответа о взаимосвязи возврата кредита и семейного положения не требуется. В нем все понятно"
   ]
  },
  {
   "cell_type": "markdown",
   "metadata": {},
   "source": [
    "Проведем категоризацию по столбцу total_income, чтобы ответить на вопрос про влияние уровня дохода на возврат кредита в срок\n",
    "Какими данными о заработной плате пользоваться непонятно, т.к. не указан город банка, не указано чьи именно данные брать для категоризации людей по доходу и тп. Если это регионы - уровень заработной платы будет одним, если Москва - абсолютно другим. Поэтому возьмем примерные данные по рынку и данные Росстата"
   ]
  },
  {
   "cell_type": "code",
   "execution_count": 23,
   "metadata": {},
   "outputs": [
    {
     "data": {
      "text/plain": [
       "count    21525.000000\n",
       "mean       165.224816\n",
       "std         98.043668\n",
       "min         20.667000\n",
       "25%        107.798000\n",
       "50%        142.594000\n",
       "75%        195.549000\n",
       "max       2265.604000\n",
       "Name: total_income, dtype: float64"
      ]
     },
     "execution_count": 23,
     "metadata": {},
     "output_type": "execute_result"
    }
   ],
   "source": [
    "clients_solvency['total_income'] = clients_solvency['total_income'] / 1000\n",
    "clients_solvency['total_income'].describe()"
   ]
  },
  {
   "cell_type": "code",
   "execution_count": 24,
   "metadata": {},
   "outputs": [
    {
     "data": {
      "text/html": [
       "<div>\n",
       "<style scoped>\n",
       "    .dataframe tbody tr th:only-of-type {\n",
       "        vertical-align: middle;\n",
       "    }\n",
       "\n",
       "    .dataframe tbody tr th {\n",
       "        vertical-align: top;\n",
       "    }\n",
       "\n",
       "    .dataframe thead th {\n",
       "        text-align: right;\n",
       "    }\n",
       "</style>\n",
       "<table border=\"1\" class=\"dataframe\">\n",
       "  <thead>\n",
       "    <tr style=\"text-align: right;\">\n",
       "      <th></th>\n",
       "      <th>children</th>\n",
       "      <th>days_employed</th>\n",
       "      <th>dob_years</th>\n",
       "      <th>education</th>\n",
       "      <th>education_id</th>\n",
       "      <th>family_status</th>\n",
       "      <th>family_status_id</th>\n",
       "      <th>gender</th>\n",
       "      <th>income_type</th>\n",
       "      <th>debt</th>\n",
       "      <th>total_income</th>\n",
       "      <th>purpose</th>\n",
       "      <th>purpose_lemma</th>\n",
       "      <th>purpose_grouped</th>\n",
       "      <th>children_grouped</th>\n",
       "      <th>total_income_grouped</th>\n",
       "    </tr>\n",
       "  </thead>\n",
       "  <tbody>\n",
       "    <tr>\n",
       "      <th>0</th>\n",
       "      <td>1</td>\n",
       "      <td>-8437.673028</td>\n",
       "      <td>42</td>\n",
       "      <td>высшее</td>\n",
       "      <td>0</td>\n",
       "      <td>женат / замужем</td>\n",
       "      <td>0</td>\n",
       "      <td>F</td>\n",
       "      <td>сотрудник</td>\n",
       "      <td>0</td>\n",
       "      <td>253.875</td>\n",
       "      <td>покупка жилья</td>\n",
       "      <td>[покупка,  , жилье, \\n]</td>\n",
       "      <td>недвижимость</td>\n",
       "      <td>есть дети</td>\n",
       "      <td>высокий доход</td>\n",
       "    </tr>\n",
       "    <tr>\n",
       "      <th>1</th>\n",
       "      <td>1</td>\n",
       "      <td>-4024.803754</td>\n",
       "      <td>36</td>\n",
       "      <td>среднее</td>\n",
       "      <td>1</td>\n",
       "      <td>женат / замужем</td>\n",
       "      <td>0</td>\n",
       "      <td>F</td>\n",
       "      <td>сотрудник</td>\n",
       "      <td>0</td>\n",
       "      <td>112.080</td>\n",
       "      <td>приобретение автомобиля</td>\n",
       "      <td>[приобретение,  , автомобиль, \\n]</td>\n",
       "      <td>автомобиль</td>\n",
       "      <td>есть дети</td>\n",
       "      <td>ниже среднего</td>\n",
       "    </tr>\n",
       "    <tr>\n",
       "      <th>2</th>\n",
       "      <td>0</td>\n",
       "      <td>-5623.422610</td>\n",
       "      <td>33</td>\n",
       "      <td>Среднее</td>\n",
       "      <td>1</td>\n",
       "      <td>женат / замужем</td>\n",
       "      <td>0</td>\n",
       "      <td>M</td>\n",
       "      <td>сотрудник</td>\n",
       "      <td>0</td>\n",
       "      <td>145.885</td>\n",
       "      <td>покупка жилья</td>\n",
       "      <td>[покупка,  , жилье, \\n]</td>\n",
       "      <td>недвижимость</td>\n",
       "      <td>нет детей</td>\n",
       "      <td>средний доход</td>\n",
       "    </tr>\n",
       "    <tr>\n",
       "      <th>3</th>\n",
       "      <td>3</td>\n",
       "      <td>-4124.747207</td>\n",
       "      <td>32</td>\n",
       "      <td>среднее</td>\n",
       "      <td>1</td>\n",
       "      <td>женат / замужем</td>\n",
       "      <td>0</td>\n",
       "      <td>M</td>\n",
       "      <td>сотрудник</td>\n",
       "      <td>0</td>\n",
       "      <td>267.628</td>\n",
       "      <td>дополнительное образование</td>\n",
       "      <td>[дополнительный,  , образование, \\n]</td>\n",
       "      <td>образование</td>\n",
       "      <td>есть дети</td>\n",
       "      <td>высокий доход</td>\n",
       "    </tr>\n",
       "    <tr>\n",
       "      <th>4</th>\n",
       "      <td>0</td>\n",
       "      <td>340266.072047</td>\n",
       "      <td>53</td>\n",
       "      <td>среднее</td>\n",
       "      <td>1</td>\n",
       "      <td>гражданский брак</td>\n",
       "      <td>1</td>\n",
       "      <td>F</td>\n",
       "      <td>пенсионер</td>\n",
       "      <td>0</td>\n",
       "      <td>158.616</td>\n",
       "      <td>сыграть свадьбу</td>\n",
       "      <td>[сыграть,  , свадьба, \\n]</td>\n",
       "      <td>свадьба</td>\n",
       "      <td>нет детей</td>\n",
       "      <td>средний доход</td>\n",
       "    </tr>\n",
       "  </tbody>\n",
       "</table>\n",
       "</div>"
      ],
      "text/plain": [
       "   children  days_employed  dob_years education  education_id  \\\n",
       "0         1   -8437.673028         42    высшее             0   \n",
       "1         1   -4024.803754         36   среднее             1   \n",
       "2         0   -5623.422610         33   Среднее             1   \n",
       "3         3   -4124.747207         32   среднее             1   \n",
       "4         0  340266.072047         53   среднее             1   \n",
       "\n",
       "      family_status  family_status_id gender income_type  debt  total_income  \\\n",
       "0   женат / замужем                 0      F   сотрудник     0       253.875   \n",
       "1   женат / замужем                 0      F   сотрудник     0       112.080   \n",
       "2   женат / замужем                 0      M   сотрудник     0       145.885   \n",
       "3   женат / замужем                 0      M   сотрудник     0       267.628   \n",
       "4  гражданский брак                 1      F   пенсионер     0       158.616   \n",
       "\n",
       "                      purpose                         purpose_lemma  \\\n",
       "0               покупка жилья               [покупка,  , жилье, \\n]   \n",
       "1     приобретение автомобиля     [приобретение,  , автомобиль, \\n]   \n",
       "2               покупка жилья               [покупка,  , жилье, \\n]   \n",
       "3  дополнительное образование  [дополнительный,  , образование, \\n]   \n",
       "4             сыграть свадьбу             [сыграть,  , свадьба, \\n]   \n",
       "\n",
       "  purpose_grouped children_grouped total_income_grouped  \n",
       "0    недвижимость        есть дети        высокий доход  \n",
       "1      автомобиль        есть дети        ниже среднего  \n",
       "2    недвижимость        нет детей        средний доход  \n",
       "3     образование        есть дети        высокий доход  \n",
       "4         свадьба        нет детей        средний доход  "
      ]
     },
     "execution_count": 24,
     "metadata": {},
     "output_type": "execute_result"
    }
   ],
   "source": [
    "def total_income_grouped(row):\n",
    "    total_income = row['total_income']\n",
    "    if total_income < 107.798:\n",
    "        return 'низкий доход'\n",
    "    elif 107.798 <= total_income < 142.594:\n",
    "        return 'ниже среднего'\n",
    "    elif 142.594 <= total_income < 195.549:\n",
    "        return 'средний доход'\n",
    "    elif total_income >= 195.549:\n",
    "        return 'высокий доход'\n",
    "    \n",
    "clients_solvency['total_income_grouped'] = clients_solvency.apply(total_income_grouped, axis=1)\n",
    "clients_solvency.head()\n",
    "    \n",
    "    "
   ]
  },
  {
   "cell_type": "markdown",
   "metadata": {},
   "source": [
    ">**Вывод**  \n",
    "Данные категоризированы "
   ]
  },
  {
   "cell_type": "markdown",
   "metadata": {},
   "source": [
    "## Определение зависимостей"
   ]
  },
  {
   "cell_type": "markdown",
   "metadata": {},
   "source": [
    "### Зависимость между наличием детей и возвратом кредита в срок"
   ]
  },
  {
   "cell_type": "code",
   "execution_count": 25,
   "metadata": {},
   "outputs": [
    {
     "data": {
      "text/html": [
       "<div>\n",
       "<style scoped>\n",
       "    .dataframe tbody tr th:only-of-type {\n",
       "        vertical-align: middle;\n",
       "    }\n",
       "\n",
       "    .dataframe tbody tr th {\n",
       "        vertical-align: top;\n",
       "    }\n",
       "\n",
       "    .dataframe thead th {\n",
       "        text-align: right;\n",
       "    }\n",
       "</style>\n",
       "<table border=\"1\" class=\"dataframe\">\n",
       "  <thead>\n",
       "    <tr style=\"text-align: right;\">\n",
       "      <th></th>\n",
       "      <th>count</th>\n",
       "      <th>sum</th>\n",
       "      <th>ratio</th>\n",
       "    </tr>\n",
       "    <tr>\n",
       "      <th>children_grouped</th>\n",
       "      <th></th>\n",
       "      <th></th>\n",
       "      <th></th>\n",
       "    </tr>\n",
       "  </thead>\n",
       "  <tbody>\n",
       "    <tr>\n",
       "      <th>есть дети</th>\n",
       "      <td>7329</td>\n",
       "      <td>677</td>\n",
       "      <td>9.237277</td>\n",
       "    </tr>\n",
       "    <tr>\n",
       "      <th>нет детей</th>\n",
       "      <td>14149</td>\n",
       "      <td>1063</td>\n",
       "      <td>7.512898</td>\n",
       "    </tr>\n",
       "  </tbody>\n",
       "</table>\n",
       "</div>"
      ],
      "text/plain": [
       "                  count   sum     ratio\n",
       "children_grouped                       \n",
       "есть дети          7329   677  9.237277\n",
       "нет детей         14149  1063  7.512898"
      ]
     },
     "metadata": {},
     "output_type": "display_data"
    }
   ],
   "source": [
    "pivot1 = clients_solvency.groupby('children_grouped').agg({'debt': ['count', 'sum']})\n",
    "pivot1.columns = ['count', 'sum']\n",
    "pivot1['ratio'] = pivot1['sum']/pivot1['count'] * 100\n",
    "display(pivot1)"
   ]
  },
  {
   "cell_type": "markdown",
   "metadata": {},
   "source": [
    ">**Вывод**  \n",
    "Зависимость есть. Заемщики без детей возвращают кредиты лучше"
   ]
  },
  {
   "cell_type": "markdown",
   "metadata": {},
   "source": [
    "### Зависимость между семейным положением и возвратом кредита в срок"
   ]
  },
  {
   "cell_type": "code",
   "execution_count": 26,
   "metadata": {},
   "outputs": [
    {
     "data": {
      "text/html": [
       "<div>\n",
       "<style scoped>\n",
       "    .dataframe tbody tr th:only-of-type {\n",
       "        vertical-align: middle;\n",
       "    }\n",
       "\n",
       "    .dataframe tbody tr th {\n",
       "        vertical-align: top;\n",
       "    }\n",
       "\n",
       "    .dataframe thead th {\n",
       "        text-align: right;\n",
       "    }\n",
       "</style>\n",
       "<table border=\"1\" class=\"dataframe\">\n",
       "  <thead>\n",
       "    <tr style=\"text-align: right;\">\n",
       "      <th></th>\n",
       "      <th>count</th>\n",
       "      <th>sum</th>\n",
       "      <th>ratio</th>\n",
       "    </tr>\n",
       "    <tr>\n",
       "      <th>family_status</th>\n",
       "      <th></th>\n",
       "      <th></th>\n",
       "      <th></th>\n",
       "    </tr>\n",
       "  </thead>\n",
       "  <tbody>\n",
       "    <tr>\n",
       "      <th>в разводе</th>\n",
       "      <td>1195</td>\n",
       "      <td>85</td>\n",
       "      <td>7.112971</td>\n",
       "    </tr>\n",
       "    <tr>\n",
       "      <th>вдовец / вдова</th>\n",
       "      <td>960</td>\n",
       "      <td>63</td>\n",
       "      <td>6.562500</td>\n",
       "    </tr>\n",
       "    <tr>\n",
       "      <th>гражданский брак</th>\n",
       "      <td>4177</td>\n",
       "      <td>388</td>\n",
       "      <td>9.288963</td>\n",
       "    </tr>\n",
       "    <tr>\n",
       "      <th>женат / замужем</th>\n",
       "      <td>12380</td>\n",
       "      <td>931</td>\n",
       "      <td>7.520194</td>\n",
       "    </tr>\n",
       "    <tr>\n",
       "      <th>не женат / не замужем</th>\n",
       "      <td>2813</td>\n",
       "      <td>274</td>\n",
       "      <td>9.740491</td>\n",
       "    </tr>\n",
       "  </tbody>\n",
       "</table>\n",
       "</div>"
      ],
      "text/plain": [
       "                       count  sum     ratio\n",
       "family_status                              \n",
       "в разводе               1195   85  7.112971\n",
       "вдовец / вдова           960   63  6.562500\n",
       "гражданский брак        4177  388  9.288963\n",
       "женат / замужем        12380  931  7.520194\n",
       "не женат / не замужем   2813  274  9.740491"
      ]
     },
     "metadata": {},
     "output_type": "display_data"
    }
   ],
   "source": [
    "pivot2 = clients_solvency.groupby('family_status').agg({'debt': ['count', 'sum']})\n",
    "pivot2.columns = ['count', 'sum']\n",
    "pivot2['ratio'] = pivot2['sum']/pivot2['count'] * 100\n",
    "display(pivot2)"
   ]
  },
  {
   "cell_type": "markdown",
   "metadata": {},
   "source": [
    ">**Вывод**  \n",
    ">\n",
    ">Самый большой % людей с долгами - несостоящие в браке и состоящие в гражданском браке. Эти категории в принципе похожи между собой, поскольку понятие \"гражданский брак\" не имеет четких границ в определении. Лучше всего возвращают кредиты вдовцы. Интересно, что разведенные люди и вдовцы надежнее тех, кто состоит в браке."
   ]
  },
  {
   "cell_type": "markdown",
   "metadata": {},
   "source": [
    "### Зависимость между уровнем дохода и возвратом кредита в срок"
   ]
  },
  {
   "cell_type": "code",
   "execution_count": 27,
   "metadata": {},
   "outputs": [
    {
     "data": {
      "text/html": [
       "<div>\n",
       "<style scoped>\n",
       "    .dataframe tbody tr th:only-of-type {\n",
       "        vertical-align: middle;\n",
       "    }\n",
       "\n",
       "    .dataframe tbody tr th {\n",
       "        vertical-align: top;\n",
       "    }\n",
       "\n",
       "    .dataframe thead th {\n",
       "        text-align: right;\n",
       "    }\n",
       "</style>\n",
       "<table border=\"1\" class=\"dataframe\">\n",
       "  <thead>\n",
       "    <tr style=\"text-align: right;\">\n",
       "      <th></th>\n",
       "      <th>count</th>\n",
       "      <th>sum</th>\n",
       "      <th>ratio</th>\n",
       "    </tr>\n",
       "    <tr>\n",
       "      <th>total_income_grouped</th>\n",
       "      <th></th>\n",
       "      <th></th>\n",
       "      <th></th>\n",
       "    </tr>\n",
       "  </thead>\n",
       "  <tbody>\n",
       "    <tr>\n",
       "      <th>высокий доход</th>\n",
       "      <td>5382</td>\n",
       "      <td>386</td>\n",
       "      <td>7.172055</td>\n",
       "    </tr>\n",
       "    <tr>\n",
       "      <th>ниже среднего</th>\n",
       "      <td>4419</td>\n",
       "      <td>385</td>\n",
       "      <td>8.712378</td>\n",
       "    </tr>\n",
       "    <tr>\n",
       "      <th>низкий доход</th>\n",
       "      <td>5381</td>\n",
       "      <td>427</td>\n",
       "      <td>7.935328</td>\n",
       "    </tr>\n",
       "    <tr>\n",
       "      <th>средний доход</th>\n",
       "      <td>6343</td>\n",
       "      <td>543</td>\n",
       "      <td>8.560618</td>\n",
       "    </tr>\n",
       "  </tbody>\n",
       "</table>\n",
       "</div>"
      ],
      "text/plain": [
       "                      count  sum     ratio\n",
       "total_income_grouped                      \n",
       "высокий доход          5382  386  7.172055\n",
       "ниже среднего          4419  385  8.712378\n",
       "низкий доход           5381  427  7.935328\n",
       "средний доход          6343  543  8.560618"
      ]
     },
     "metadata": {},
     "output_type": "display_data"
    }
   ],
   "source": [
    "pivot3 = clients_solvency.groupby('total_income_grouped').agg({'debt': ['count', 'sum']})\n",
    "pivot3.columns = ['count', 'sum']\n",
    "pivot3['ratio'] = pivot3['sum']/pivot3['count'] * 100\n",
    "display(pivot3)"
   ]
  },
  {
   "cell_type": "markdown",
   "metadata": {},
   "source": [
    ">**Вывод**  \n",
    "Лучший показатель по возвращаемости кредитов у людей с высоким доходом, худший - у людей со средним доходом и ниже среднего. "
   ]
  },
  {
   "cell_type": "markdown",
   "metadata": {},
   "source": [
    "### Зависимость между целями кредита и его возвратом в срок"
   ]
  },
  {
   "cell_type": "code",
   "execution_count": 28,
   "metadata": {},
   "outputs": [
    {
     "data": {
      "text/html": [
       "<div>\n",
       "<style scoped>\n",
       "    .dataframe tbody tr th:only-of-type {\n",
       "        vertical-align: middle;\n",
       "    }\n",
       "\n",
       "    .dataframe tbody tr th {\n",
       "        vertical-align: top;\n",
       "    }\n",
       "\n",
       "    .dataframe thead th {\n",
       "        text-align: right;\n",
       "    }\n",
       "</style>\n",
       "<table border=\"1\" class=\"dataframe\">\n",
       "  <thead>\n",
       "    <tr style=\"text-align: right;\">\n",
       "      <th></th>\n",
       "      <th>count</th>\n",
       "      <th>sum</th>\n",
       "      <th>ratio</th>\n",
       "    </tr>\n",
       "    <tr>\n",
       "      <th>purpose_grouped</th>\n",
       "      <th></th>\n",
       "      <th></th>\n",
       "      <th></th>\n",
       "    </tr>\n",
       "  </thead>\n",
       "  <tbody>\n",
       "    <tr>\n",
       "      <th>автомобиль</th>\n",
       "      <td>4315</td>\n",
       "      <td>403</td>\n",
       "      <td>9.339513</td>\n",
       "    </tr>\n",
       "    <tr>\n",
       "      <th>недвижимость</th>\n",
       "      <td>10840</td>\n",
       "      <td>782</td>\n",
       "      <td>7.214022</td>\n",
       "    </tr>\n",
       "    <tr>\n",
       "      <th>образование</th>\n",
       "      <td>4022</td>\n",
       "      <td>370</td>\n",
       "      <td>9.199403</td>\n",
       "    </tr>\n",
       "    <tr>\n",
       "      <th>свадьба</th>\n",
       "      <td>2348</td>\n",
       "      <td>186</td>\n",
       "      <td>7.921635</td>\n",
       "    </tr>\n",
       "  </tbody>\n",
       "</table>\n",
       "</div>"
      ],
      "text/plain": [
       "                 count  sum     ratio\n",
       "purpose_grouped                      \n",
       "автомобиль        4315  403  9.339513\n",
       "недвижимость     10840  782  7.214022\n",
       "образование       4022  370  9.199403\n",
       "свадьба           2348  186  7.921635"
      ]
     },
     "metadata": {},
     "output_type": "display_data"
    }
   ],
   "source": [
    "pivot4 = clients_solvency.groupby('purpose_grouped').agg({'debt': ['count', 'sum']})\n",
    "pivot4.columns = ['count', 'sum']\n",
    "pivot4['ratio'] = pivot4['sum']/pivot4['count'] * 100\n",
    "display(pivot4)"
   ]
  },
  {
   "cell_type": "markdown",
   "metadata": {},
   "source": [
    ">**Вывод**  \n",
    ">\n",
    ">Кредиты на недвижимость и все операции с ней самые возвращаемые. Практически рядом идут кредиты на свадьбу. Самый высокий процент должников, взявших кредит на автомобиль. Плюс стоит отметить, что чаще всего люди действительно берут кредиты на недвижимость, операции с ней и улучшение жилищных условий. "
   ]
  },
  {
   "cell_type": "markdown",
   "metadata": {},
   "source": [
    "## Результаты исследования"
   ]
  },
  {
   "cell_type": "markdown",
   "metadata": {},
   "source": [
    "1. Люди с детьми возвращают кредиты хуже, чем люди, не имеющие детей.\n",
    "2. Самый большой % людей с долгами - несостоящие в браке и состоящие в гражданском браке. \n",
    "3. Лучше всего возвращают кредиты вдовцы. Однако и по численности эта категория не велика. \n",
    "4. Говоря о семейном положении, стоит больше преимуществ отдавать людям, которые состоят в браке, нежели чем которые не состоят (если не включать сюда вдовцов и разведенных людей)  \n",
    "5. Кредиты на недвижимость и все операции с ней - самые возвращаемые. Практически рядом идут кредиты на свадьбу. Самый высокий процент должников, взявших кредит на автомобиль. \n",
    "6. Лучший показатель по возвращаемости кредитов у людей с высоким доходом, худший - у людей со средним доходом и ниже среднего.\n"
   ]
  }
 ],
 "metadata": {
  "ExecuteTimeLog": [
   {
    "duration": 94,
    "start_time": "2021-06-09T18:30:26.323Z"
   },
   {
    "duration": 320,
    "start_time": "2021-06-09T18:32:26.275Z"
   },
   {
    "duration": 286,
    "start_time": "2021-06-09T18:33:39.163Z"
   },
   {
    "duration": 440,
    "start_time": "2021-06-09T18:38:44.218Z"
   },
   {
    "duration": 265,
    "start_time": "2021-06-09T18:39:37.807Z"
   },
   {
    "duration": 263,
    "start_time": "2021-06-09T18:40:19.629Z"
   },
   {
    "duration": 280,
    "start_time": "2021-06-09T18:40:24.862Z"
   },
   {
    "duration": 842,
    "start_time": "2021-06-09T18:40:42.829Z"
   },
   {
    "duration": 31,
    "start_time": "2021-06-09T18:40:49.657Z"
   },
   {
    "duration": 14,
    "start_time": "2021-06-09T18:40:54.408Z"
   },
   {
    "duration": 13,
    "start_time": "2021-06-09T18:41:00.252Z"
   },
   {
    "duration": 18,
    "start_time": "2021-06-09T18:41:06.176Z"
   },
   {
    "duration": 406,
    "start_time": "2021-06-09T18:41:50.208Z"
   },
   {
    "duration": 11,
    "start_time": "2021-06-09T18:42:09.071Z"
   },
   {
    "duration": 15,
    "start_time": "2021-06-09T18:47:30.870Z"
   },
   {
    "duration": 14,
    "start_time": "2021-06-09T18:49:59.417Z"
   },
   {
    "duration": 14,
    "start_time": "2021-06-09T18:51:07.749Z"
   },
   {
    "duration": 6,
    "start_time": "2021-06-09T19:00:43.719Z"
   },
   {
    "duration": 9,
    "start_time": "2021-06-09T19:08:33.805Z"
   },
   {
    "duration": 325,
    "start_time": "2021-06-09T19:10:41.050Z"
   },
   {
    "duration": 347,
    "start_time": "2021-06-09T19:11:24.962Z"
   },
   {
    "duration": 8,
    "start_time": "2021-06-09T19:15:34.185Z"
   },
   {
    "duration": 22,
    "start_time": "2021-06-09T19:16:52.763Z"
   },
   {
    "duration": 13,
    "start_time": "2021-06-09T19:28:20.320Z"
   },
   {
    "duration": 7,
    "start_time": "2021-06-09T19:28:36.419Z"
   },
   {
    "duration": 24,
    "start_time": "2021-06-09T19:30:53.919Z"
   },
   {
    "duration": 95,
    "start_time": "2021-06-09T19:42:04.233Z"
   },
   {
    "duration": 11,
    "start_time": "2021-06-09T19:42:32.895Z"
   },
   {
    "duration": 11,
    "start_time": "2021-06-09T19:42:36.954Z"
   },
   {
    "duration": 11,
    "start_time": "2021-06-09T19:42:52.306Z"
   },
   {
    "duration": 12,
    "start_time": "2021-06-09T19:42:54.966Z"
   },
   {
    "duration": 13,
    "start_time": "2021-06-09T19:43:05.751Z"
   },
   {
    "duration": 11,
    "start_time": "2021-06-09T19:43:48.757Z"
   },
   {
    "duration": 14,
    "start_time": "2021-06-09T19:44:07.210Z"
   },
   {
    "duration": 13,
    "start_time": "2021-06-09T19:49:40.183Z"
   },
   {
    "duration": 1913,
    "start_time": "2021-06-09T19:50:07.469Z"
   },
   {
    "duration": 281,
    "start_time": "2021-06-09T19:50:25.723Z"
   },
   {
    "duration": 271,
    "start_time": "2021-06-09T19:51:18.756Z"
   },
   {
    "duration": 342,
    "start_time": "2021-06-09T19:54:16.537Z"
   },
   {
    "duration": 307,
    "start_time": "2021-06-09T19:54:40.775Z"
   },
   {
    "duration": 289,
    "start_time": "2021-06-09T19:55:05.931Z"
   },
   {
    "duration": 298,
    "start_time": "2021-06-09T19:55:12.428Z"
   },
   {
    "duration": 304,
    "start_time": "2021-06-09T19:56:23.982Z"
   },
   {
    "duration": 8,
    "start_time": "2021-06-09T20:06:26.644Z"
   },
   {
    "duration": 37,
    "start_time": "2021-06-09T20:13:37.148Z"
   },
   {
    "duration": 49,
    "start_time": "2021-06-09T20:16:07.531Z"
   },
   {
    "duration": 11,
    "start_time": "2021-06-09T20:18:39.284Z"
   },
   {
    "duration": 278,
    "start_time": "2021-06-09T20:26:09.395Z"
   },
   {
    "duration": 275,
    "start_time": "2021-06-09T20:28:49.582Z"
   },
   {
    "duration": 76,
    "start_time": "2021-06-09T20:29:08.089Z"
   },
   {
    "duration": 21,
    "start_time": "2021-06-09T20:29:08.168Z"
   },
   {
    "duration": 36,
    "start_time": "2021-06-09T20:29:08.192Z"
   },
   {
    "duration": 11,
    "start_time": "2021-06-09T20:29:08.231Z"
   },
   {
    "duration": 13,
    "start_time": "2021-06-09T20:29:08.245Z"
   },
   {
    "duration": 10,
    "start_time": "2021-06-09T20:29:08.260Z"
   },
   {
    "duration": 322,
    "start_time": "2021-06-09T20:29:08.272Z"
   },
   {
    "duration": 73,
    "start_time": "2021-06-09T20:31:38.567Z"
   },
   {
    "duration": 20,
    "start_time": "2021-06-09T20:31:38.642Z"
   },
   {
    "duration": 16,
    "start_time": "2021-06-09T20:31:38.665Z"
   },
   {
    "duration": 12,
    "start_time": "2021-06-09T20:31:38.683Z"
   },
   {
    "duration": 12,
    "start_time": "2021-06-09T20:31:38.725Z"
   },
   {
    "duration": 16,
    "start_time": "2021-06-09T20:31:38.739Z"
   },
   {
    "duration": 270,
    "start_time": "2021-06-09T20:31:38.758Z"
   },
   {
    "duration": 74,
    "start_time": "2021-06-09T20:33:10.170Z"
   },
   {
    "duration": 21,
    "start_time": "2021-06-09T20:33:10.247Z"
   },
   {
    "duration": 19,
    "start_time": "2021-06-09T20:33:10.271Z"
   },
   {
    "duration": 38,
    "start_time": "2021-06-09T20:33:10.292Z"
   },
   {
    "duration": 12,
    "start_time": "2021-06-09T20:33:10.332Z"
   },
   {
    "duration": 10,
    "start_time": "2021-06-09T20:33:10.346Z"
   },
   {
    "duration": 282,
    "start_time": "2021-06-09T20:33:10.358Z"
   },
   {
    "duration": 74,
    "start_time": "2021-06-09T20:34:34.180Z"
   },
   {
    "duration": 21,
    "start_time": "2021-06-09T20:34:34.256Z"
   },
   {
    "duration": 16,
    "start_time": "2021-06-09T20:34:34.279Z"
   },
   {
    "duration": 33,
    "start_time": "2021-06-09T20:34:34.298Z"
   },
   {
    "duration": 13,
    "start_time": "2021-06-09T20:34:34.333Z"
   },
   {
    "duration": 11,
    "start_time": "2021-06-09T20:34:34.349Z"
   },
   {
    "duration": 265,
    "start_time": "2021-06-09T20:34:34.363Z"
   },
   {
    "duration": 74,
    "start_time": "2021-06-09T20:35:44.667Z"
   },
   {
    "duration": 21,
    "start_time": "2021-06-09T20:35:44.743Z"
   },
   {
    "duration": 14,
    "start_time": "2021-06-09T20:35:44.767Z"
   },
   {
    "duration": 40,
    "start_time": "2021-06-09T20:35:44.784Z"
   },
   {
    "duration": 12,
    "start_time": "2021-06-09T20:35:44.827Z"
   },
   {
    "duration": 10,
    "start_time": "2021-06-09T20:35:44.842Z"
   },
   {
    "duration": 174,
    "start_time": "2021-06-09T20:35:44.854Z"
   },
   {
    "duration": 86,
    "start_time": "2021-06-09T20:36:25.396Z"
   },
   {
    "duration": 72,
    "start_time": "2021-06-09T20:36:34.502Z"
   },
   {
    "duration": 19,
    "start_time": "2021-06-09T20:36:34.577Z"
   },
   {
    "duration": 29,
    "start_time": "2021-06-09T20:36:34.599Z"
   },
   {
    "duration": 12,
    "start_time": "2021-06-09T20:36:34.631Z"
   },
   {
    "duration": 12,
    "start_time": "2021-06-09T20:36:34.645Z"
   },
   {
    "duration": 11,
    "start_time": "2021-06-09T20:36:34.659Z"
   },
   {
    "duration": 98,
    "start_time": "2021-06-09T20:36:34.672Z"
   },
   {
    "duration": 14,
    "start_time": "2021-06-09T20:37:14.808Z"
   },
   {
    "duration": 88,
    "start_time": "2021-06-09T20:37:19.615Z"
   },
   {
    "duration": 21,
    "start_time": "2021-06-09T20:37:32.784Z"
   },
   {
    "duration": 14,
    "start_time": "2021-06-09T20:37:39.457Z"
   },
   {
    "duration": 13,
    "start_time": "2021-06-09T20:37:45.215Z"
   },
   {
    "duration": 12,
    "start_time": "2021-06-09T20:37:49.137Z"
   },
   {
    "duration": 14,
    "start_time": "2021-06-09T20:37:57.066Z"
   },
   {
    "duration": 86,
    "start_time": "2021-06-09T20:37:59.343Z"
   },
   {
    "duration": 15,
    "start_time": "2021-06-09T20:38:11.263Z"
   },
   {
    "duration": 12,
    "start_time": "2021-06-09T20:38:49.272Z"
   },
   {
    "duration": 286,
    "start_time": "2021-06-09T20:46:24.466Z"
   },
   {
    "duration": 11,
    "start_time": "2021-06-09T20:46:30.103Z"
   },
   {
    "duration": 16,
    "start_time": "2021-06-09T20:47:21.055Z"
   },
   {
    "duration": 20,
    "start_time": "2021-06-09T20:47:54.971Z"
   },
   {
    "duration": 27,
    "start_time": "2021-06-09T20:48:41.031Z"
   },
   {
    "duration": 30,
    "start_time": "2021-06-09T20:49:14.239Z"
   },
   {
    "duration": 21,
    "start_time": "2021-06-09T20:50:21.602Z"
   },
   {
    "duration": 21,
    "start_time": "2021-06-09T20:50:23.896Z"
   },
   {
    "duration": 132,
    "start_time": "2021-06-09T20:50:43.360Z"
   },
   {
    "duration": 21,
    "start_time": "2021-06-09T20:51:07.960Z"
   },
   {
    "duration": 33,
    "start_time": "2021-06-09T20:52:08.703Z"
   },
   {
    "duration": 30,
    "start_time": "2021-06-09T20:52:29.318Z"
   },
   {
    "duration": 303,
    "start_time": "2021-06-10T17:46:46.785Z"
   },
   {
    "duration": 792,
    "start_time": "2021-06-10T17:47:00.275Z"
   },
   {
    "duration": 29,
    "start_time": "2021-06-10T17:47:08.245Z"
   },
   {
    "duration": 15,
    "start_time": "2021-06-10T17:47:11.169Z"
   },
   {
    "duration": 12,
    "start_time": "2021-06-10T17:47:16.320Z"
   },
   {
    "duration": 13,
    "start_time": "2021-06-10T17:47:19.922Z"
   },
   {
    "duration": 12,
    "start_time": "2021-06-10T17:47:23.659Z"
   },
   {
    "duration": 14,
    "start_time": "2021-06-10T17:47:26.327Z"
   },
   {
    "duration": 29,
    "start_time": "2021-06-10T17:47:29.187Z"
   },
   {
    "duration": 450,
    "start_time": "2021-06-10T17:47:32.988Z"
   },
   {
    "duration": 16,
    "start_time": "2021-06-10T17:48:16.319Z"
   },
   {
    "duration": 3,
    "start_time": "2021-06-10T17:54:40.801Z"
   },
   {
    "duration": 7,
    "start_time": "2021-06-10T18:03:01.640Z"
   },
   {
    "duration": 6,
    "start_time": "2021-06-10T18:05:22.623Z"
   },
   {
    "duration": 6,
    "start_time": "2021-06-10T18:05:29.505Z"
   },
   {
    "duration": 6,
    "start_time": "2021-06-10T18:05:42.549Z"
   },
   {
    "duration": 27,
    "start_time": "2021-06-10T18:08:53.451Z"
   },
   {
    "duration": 6,
    "start_time": "2021-06-10T18:15:03.780Z"
   },
   {
    "duration": 7,
    "start_time": "2021-06-10T18:20:29.101Z"
   },
   {
    "duration": 23,
    "start_time": "2021-06-10T18:41:39.601Z"
   },
   {
    "duration": 20,
    "start_time": "2021-06-10T18:41:56.926Z"
   },
   {
    "duration": 27,
    "start_time": "2021-06-10T18:42:52.275Z"
   },
   {
    "duration": 5,
    "start_time": "2021-06-10T18:45:47.028Z"
   },
   {
    "duration": 5,
    "start_time": "2021-06-10T19:00:13.199Z"
   },
   {
    "duration": 19,
    "start_time": "2021-06-10T19:00:25.872Z"
   },
   {
    "duration": 324,
    "start_time": "2021-06-12T10:16:12.101Z"
   },
   {
    "duration": 804,
    "start_time": "2021-06-12T10:16:21.546Z"
   },
   {
    "duration": 28,
    "start_time": "2021-06-12T10:16:27.123Z"
   },
   {
    "duration": 23,
    "start_time": "2021-06-12T10:16:31.035Z"
   },
   {
    "duration": 13,
    "start_time": "2021-06-12T10:16:34.062Z"
   },
   {
    "duration": 18,
    "start_time": "2021-06-12T10:16:37.045Z"
   },
   {
    "duration": 6,
    "start_time": "2021-06-12T10:16:42.825Z"
   },
   {
    "duration": 6,
    "start_time": "2021-06-12T10:16:47.720Z"
   },
   {
    "duration": 17,
    "start_time": "2021-06-12T10:16:50.348Z"
   },
   {
    "duration": 10,
    "start_time": "2021-06-12T10:16:52.518Z"
   },
   {
    "duration": 25,
    "start_time": "2021-06-12T10:20:38.446Z"
   },
   {
    "duration": 25,
    "start_time": "2021-06-12T10:21:25.758Z"
   },
   {
    "duration": 46,
    "start_time": "2021-06-12T10:28:54.806Z"
   },
   {
    "duration": 294,
    "start_time": "2021-06-12T10:32:08.700Z"
   },
   {
    "duration": 30,
    "start_time": "2021-06-12T10:32:43.997Z"
   },
   {
    "duration": 5,
    "start_time": "2021-06-12T10:38:56.850Z"
   },
   {
    "duration": 33,
    "start_time": "2021-06-12T10:43:11.482Z"
   },
   {
    "duration": 5,
    "start_time": "2021-06-12T10:43:20.719Z"
   },
   {
    "duration": 36,
    "start_time": "2021-06-12T10:43:46.921Z"
   },
   {
    "duration": 22,
    "start_time": "2021-06-12T10:44:03.156Z"
   },
   {
    "duration": 388,
    "start_time": "2021-06-12T11:08:23.617Z"
   },
   {
    "duration": 4878,
    "start_time": "2021-06-12T11:13:34.724Z"
   },
   {
    "duration": 16,
    "start_time": "2021-06-12T11:18:13.191Z"
   },
   {
    "duration": 269,
    "start_time": "2021-06-12T11:22:18.521Z"
   },
   {
    "duration": 3674,
    "start_time": "2021-06-12T11:22:28.006Z"
   },
   {
    "duration": 3615,
    "start_time": "2021-06-12T11:27:44.849Z"
   },
   {
    "duration": 4404,
    "start_time": "2021-06-12T11:33:33.896Z"
   },
   {
    "duration": 4,
    "start_time": "2021-06-12T11:36:40.212Z"
   },
   {
    "duration": 23,
    "start_time": "2021-06-12T11:37:15.899Z"
   },
   {
    "duration": 20,
    "start_time": "2021-06-12T11:39:05.770Z"
   },
   {
    "duration": 17,
    "start_time": "2021-06-12T11:39:18.774Z"
   },
   {
    "duration": 21,
    "start_time": "2021-06-12T11:47:01.814Z"
   },
   {
    "duration": 14,
    "start_time": "2021-06-12T11:48:42.996Z"
   },
   {
    "duration": 22,
    "start_time": "2021-06-12T11:48:58.233Z"
   },
   {
    "duration": 26,
    "start_time": "2021-06-12T11:54:40.164Z"
   },
   {
    "duration": 32,
    "start_time": "2021-06-12T11:56:56.918Z"
   },
   {
    "duration": 552,
    "start_time": "2021-06-12T12:17:45.168Z"
   },
   {
    "duration": 94,
    "start_time": "2021-06-12T12:18:10.577Z"
   },
   {
    "duration": 97,
    "start_time": "2021-06-12T12:18:21.080Z"
   },
   {
    "duration": 505,
    "start_time": "2021-06-12T12:18:49.320Z"
   },
   {
    "duration": 475,
    "start_time": "2021-06-12T12:18:56.098Z"
   },
   {
    "duration": 519,
    "start_time": "2021-06-12T12:20:25.392Z"
   },
   {
    "duration": 478,
    "start_time": "2021-06-12T12:21:32.143Z"
   },
   {
    "duration": 405,
    "start_time": "2021-06-12T12:22:21.119Z"
   },
   {
    "duration": 405,
    "start_time": "2021-06-12T12:54:19.735Z"
   },
   {
    "duration": 21,
    "start_time": "2021-06-12T17:01:26.368Z"
   },
   {
    "duration": 17,
    "start_time": "2021-06-12T17:02:15.042Z"
   },
   {
    "duration": 20,
    "start_time": "2021-06-12T17:07:20.717Z"
   },
   {
    "duration": 109,
    "start_time": "2021-06-12T17:09:52.463Z"
   },
   {
    "duration": 24,
    "start_time": "2021-06-12T17:10:02.735Z"
   },
   {
    "duration": 264,
    "start_time": "2021-06-12T17:13:24.561Z"
   },
   {
    "duration": 13,
    "start_time": "2021-06-12T17:13:47.645Z"
   },
   {
    "duration": 15,
    "start_time": "2021-06-12T17:27:21.054Z"
   },
   {
    "duration": 31,
    "start_time": "2021-06-12T17:27:56.838Z"
   },
   {
    "duration": 19,
    "start_time": "2021-06-12T17:30:05.885Z"
   },
   {
    "duration": 25,
    "start_time": "2021-06-12T17:42:25.838Z"
   },
   {
    "duration": 5,
    "start_time": "2021-06-12T17:44:28.266Z"
   },
   {
    "duration": 6,
    "start_time": "2021-06-12T17:45:14.486Z"
   },
   {
    "duration": 5,
    "start_time": "2021-06-12T17:49:44.719Z"
   },
   {
    "duration": 5,
    "start_time": "2021-06-12T17:50:25.737Z"
   },
   {
    "duration": 20,
    "start_time": "2021-06-12T17:52:49.049Z"
   },
   {
    "duration": 6,
    "start_time": "2021-06-12T17:55:00.990Z"
   },
   {
    "duration": 19,
    "start_time": "2021-06-12T18:00:33.378Z"
   },
   {
    "duration": 424,
    "start_time": "2021-06-12T18:05:06.247Z"
   },
   {
    "duration": 418,
    "start_time": "2021-06-12T18:05:31.744Z"
   },
   {
    "duration": 25,
    "start_time": "2021-06-12T18:05:46.616Z"
   },
   {
    "duration": 12,
    "start_time": "2021-06-12T18:07:22.789Z"
   },
   {
    "duration": 18,
    "start_time": "2021-06-12T18:10:11.245Z"
   },
   {
    "duration": 31,
    "start_time": "2021-06-12T18:15:33.368Z"
   },
   {
    "duration": 18,
    "start_time": "2021-06-12T18:15:45.930Z"
   },
   {
    "duration": 32,
    "start_time": "2021-06-12T18:16:09.650Z"
   },
   {
    "duration": 35,
    "start_time": "2021-06-12T18:17:03.308Z"
   },
   {
    "duration": 19,
    "start_time": "2021-06-12T18:17:16.233Z"
   },
   {
    "duration": 5,
    "start_time": "2021-06-12T18:25:12.343Z"
   },
   {
    "duration": 105,
    "start_time": "2021-06-12T20:39:20.761Z"
   },
   {
    "duration": 90,
    "start_time": "2021-06-12T20:58:35.950Z"
   },
   {
    "duration": 816,
    "start_time": "2021-06-14T14:40:09.783Z"
   },
   {
    "duration": 72,
    "start_time": "2021-06-14T14:40:25.248Z"
   },
   {
    "duration": 85,
    "start_time": "2021-06-14T14:40:36.478Z"
   },
   {
    "duration": 83,
    "start_time": "2021-06-14T14:42:56.646Z"
   },
   {
    "duration": 15,
    "start_time": "2021-06-14T14:50:40.520Z"
   },
   {
    "duration": 335,
    "start_time": "2021-06-14T14:51:17.274Z"
   },
   {
    "duration": 87,
    "start_time": "2021-06-14T14:51:40.977Z"
   },
   {
    "duration": 243,
    "start_time": "2021-06-14T14:51:56.695Z"
   },
   {
    "duration": 83,
    "start_time": "2021-06-14T14:52:41.908Z"
   },
   {
    "duration": 20,
    "start_time": "2021-06-14T14:52:45.763Z"
   },
   {
    "duration": 15,
    "start_time": "2021-06-14T14:52:48.534Z"
   },
   {
    "duration": 12,
    "start_time": "2021-06-14T14:52:52.724Z"
   },
   {
    "duration": 12,
    "start_time": "2021-06-14T14:52:55.970Z"
   },
   {
    "duration": 17,
    "start_time": "2021-06-14T14:52:59.801Z"
   },
   {
    "duration": 5,
    "start_time": "2021-06-14T14:53:04.842Z"
   },
   {
    "duration": 6,
    "start_time": "2021-06-14T14:53:07.255Z"
   },
   {
    "duration": 6,
    "start_time": "2021-06-14T14:53:13.263Z"
   },
   {
    "duration": 17,
    "start_time": "2021-06-14T14:53:15.999Z"
   },
   {
    "duration": 292,
    "start_time": "2021-06-14T14:53:17.161Z"
   },
   {
    "duration": 254,
    "start_time": "2021-06-14T14:53:58.502Z"
   },
   {
    "duration": 17,
    "start_time": "2021-06-14T14:54:50.187Z"
   },
   {
    "duration": 257,
    "start_time": "2021-06-14T14:54:51.742Z"
   },
   {
    "duration": 72,
    "start_time": "2021-06-14T14:55:27.477Z"
   },
   {
    "duration": 238,
    "start_time": "2021-06-14T14:55:41.598Z"
   },
   {
    "duration": 286,
    "start_time": "2021-06-14T15:01:46.055Z"
   },
   {
    "duration": 92,
    "start_time": "2021-06-14T15:02:44.179Z"
   },
   {
    "duration": 82,
    "start_time": "2021-06-14T15:03:59.900Z"
   },
   {
    "duration": 259,
    "start_time": "2021-06-14T15:04:13.418Z"
   },
   {
    "duration": 419,
    "start_time": "2021-06-15T09:25:52.019Z"
   },
   {
    "duration": 823,
    "start_time": "2021-06-15T09:25:58.458Z"
   },
   {
    "duration": 28,
    "start_time": "2021-06-15T09:25:59.284Z"
   },
   {
    "duration": 16,
    "start_time": "2021-06-15T09:25:59.315Z"
   },
   {
    "duration": 12,
    "start_time": "2021-06-15T09:25:59.333Z"
   },
   {
    "duration": 13,
    "start_time": "2021-06-15T09:25:59.348Z"
   },
   {
    "duration": 50,
    "start_time": "2021-06-15T09:25:59.363Z"
   },
   {
    "duration": 31,
    "start_time": "2021-06-15T09:25:59.415Z"
   },
   {
    "duration": 5,
    "start_time": "2021-06-15T09:25:59.448Z"
   },
   {
    "duration": 44,
    "start_time": "2021-06-15T09:25:59.457Z"
   },
   {
    "duration": 17,
    "start_time": "2021-06-15T09:25:59.504Z"
   },
   {
    "duration": 297,
    "start_time": "2021-06-15T09:25:59.524Z"
   },
   {
    "duration": 9898,
    "start_time": "2021-06-15T09:25:49.925Z"
   },
   {
    "duration": 9897,
    "start_time": "2021-06-15T09:25:49.928Z"
   },
   {
    "duration": 9894,
    "start_time": "2021-06-15T09:25:49.933Z"
   },
   {
    "duration": 9872,
    "start_time": "2021-06-15T09:25:49.956Z"
   },
   {
    "duration": 9869,
    "start_time": "2021-06-15T09:25:49.961Z"
   },
   {
    "duration": 9864,
    "start_time": "2021-06-15T09:25:49.967Z"
   },
   {
    "duration": 9863,
    "start_time": "2021-06-15T09:25:49.970Z"
   },
   {
    "duration": 9858,
    "start_time": "2021-06-15T09:25:49.977Z"
   },
   {
    "duration": 9857,
    "start_time": "2021-06-15T09:25:49.979Z"
   },
   {
    "duration": 9854,
    "start_time": "2021-06-15T09:25:49.984Z"
   },
   {
    "duration": 9854,
    "start_time": "2021-06-15T09:25:49.985Z"
   },
   {
    "duration": 9845,
    "start_time": "2021-06-15T09:25:49.996Z"
   },
   {
    "duration": 9838,
    "start_time": "2021-06-15T09:25:50.004Z"
   },
   {
    "duration": 9837,
    "start_time": "2021-06-15T09:25:50.007Z"
   },
   {
    "duration": 9828,
    "start_time": "2021-06-15T09:25:50.017Z"
   },
   {
    "duration": 9820,
    "start_time": "2021-06-15T09:25:50.027Z"
   },
   {
    "duration": 9803,
    "start_time": "2021-06-15T09:25:50.045Z"
   },
   {
    "duration": 9800,
    "start_time": "2021-06-15T09:25:50.050Z"
   },
   {
    "duration": 9789,
    "start_time": "2021-06-15T09:25:50.062Z"
   },
   {
    "duration": 9785,
    "start_time": "2021-06-15T09:25:50.068Z"
   },
   {
    "duration": 9,
    "start_time": "2021-06-15T09:26:45.871Z"
   },
   {
    "duration": 7,
    "start_time": "2021-06-15T09:26:45.883Z"
   },
   {
    "duration": 29,
    "start_time": "2021-06-15T09:26:45.893Z"
   },
   {
    "duration": 19,
    "start_time": "2021-06-15T09:26:45.926Z"
   },
   {
    "duration": 61,
    "start_time": "2021-06-15T09:26:45.948Z"
   },
   {
    "duration": 34,
    "start_time": "2021-06-15T09:26:46.012Z"
   },
   {
    "duration": 4271,
    "start_time": "2021-06-15T09:26:46.048Z"
   },
   {
    "duration": 17,
    "start_time": "2021-06-15T09:26:50.323Z"
   },
   {
    "duration": 6613,
    "start_time": "2021-06-15T09:26:50.343Z"
   },
   {
    "duration": 9808,
    "start_time": "2021-06-15T09:26:47.151Z"
   },
   {
    "duration": 9803,
    "start_time": "2021-06-15T09:26:47.158Z"
   },
   {
    "duration": 9800,
    "start_time": "2021-06-15T09:26:47.162Z"
   },
   {
    "duration": 9798,
    "start_time": "2021-06-15T09:26:47.166Z"
   },
   {
    "duration": 9797,
    "start_time": "2021-06-15T09:26:47.169Z"
   },
   {
    "duration": 9795,
    "start_time": "2021-06-15T09:26:47.172Z"
   },
   {
    "duration": 9791,
    "start_time": "2021-06-15T09:26:47.178Z"
   },
   {
    "duration": 9790,
    "start_time": "2021-06-15T09:26:47.180Z"
   },
   {
    "duration": 9789,
    "start_time": "2021-06-15T09:26:47.182Z"
   },
   {
    "duration": 9789,
    "start_time": "2021-06-15T09:26:47.183Z"
   },
   {
    "duration": 9789,
    "start_time": "2021-06-15T09:26:47.185Z"
   },
   {
    "duration": 127,
    "start_time": "2021-06-15T09:29:51.503Z"
   },
   {
    "duration": 106,
    "start_time": "2021-06-15T09:36:41.391Z"
   },
   {
    "duration": 14,
    "start_time": "2021-06-15T09:36:57.310Z"
   },
   {
    "duration": 12,
    "start_time": "2021-06-15T09:38:07.747Z"
   },
   {
    "duration": 266,
    "start_time": "2021-06-15T09:38:25.770Z"
   },
   {
    "duration": 17,
    "start_time": "2021-06-15T09:38:36.119Z"
   },
   {
    "duration": 13,
    "start_time": "2021-06-15T09:39:16.057Z"
   },
   {
    "duration": 13,
    "start_time": "2021-06-15T09:44:42.588Z"
   },
   {
    "duration": 90,
    "start_time": "2021-06-15T09:47:38.090Z"
   },
   {
    "duration": 384,
    "start_time": "2021-06-15T17:58:35.274Z"
   },
   {
    "duration": 329,
    "start_time": "2021-06-15T17:58:53.987Z"
   },
   {
    "duration": 891,
    "start_time": "2021-06-15T17:59:05.168Z"
   },
   {
    "duration": 20,
    "start_time": "2021-06-15T17:59:11.466Z"
   },
   {
    "duration": 15,
    "start_time": "2021-06-15T18:00:28.704Z"
   },
   {
    "duration": 13,
    "start_time": "2021-06-15T18:00:34.647Z"
   },
   {
    "duration": 12,
    "start_time": "2021-06-15T18:00:45.214Z"
   },
   {
    "duration": 16,
    "start_time": "2021-06-15T18:00:51.107Z"
   },
   {
    "duration": 31,
    "start_time": "2021-06-15T18:00:54.653Z"
   },
   {
    "duration": 5,
    "start_time": "2021-06-15T18:01:00.789Z"
   },
   {
    "duration": 8,
    "start_time": "2021-06-15T18:01:05.074Z"
   },
   {
    "duration": 18,
    "start_time": "2021-06-15T18:01:08.652Z"
   },
   {
    "duration": 345,
    "start_time": "2021-06-15T18:01:10.134Z"
   },
   {
    "duration": 9,
    "start_time": "2021-06-15T18:02:58.171Z"
   },
   {
    "duration": 7,
    "start_time": "2021-06-15T18:03:01.965Z"
   },
   {
    "duration": 32,
    "start_time": "2021-06-15T18:03:10.079Z"
   },
   {
    "duration": 18,
    "start_time": "2021-06-15T18:03:13.886Z"
   },
   {
    "duration": 24,
    "start_time": "2021-06-15T18:03:27.121Z"
   },
   {
    "duration": 35,
    "start_time": "2021-06-15T18:03:31.794Z"
   },
   {
    "duration": 4546,
    "start_time": "2021-06-15T18:03:37.028Z"
   },
   {
    "duration": 17,
    "start_time": "2021-06-15T18:03:41.577Z"
   },
   {
    "duration": 8709,
    "start_time": "2021-06-15T18:03:44.083Z"
   },
   {
    "duration": 429,
    "start_time": "2021-06-15T18:07:22.484Z"
   },
   {
    "duration": 14,
    "start_time": "2021-06-15T18:08:09.748Z"
   },
   {
    "duration": 4745,
    "start_time": "2021-06-15T18:08:13.359Z"
   },
   {
    "duration": 30,
    "start_time": "2021-06-15T18:08:18.108Z"
   },
   {
    "duration": 459,
    "start_time": "2021-06-15T18:08:23.298Z"
   },
   {
    "duration": 3602,
    "start_time": "2021-06-15T18:11:48.423Z"
   },
   {
    "duration": 33,
    "start_time": "2021-06-15T18:12:13.759Z"
   },
   {
    "duration": 22,
    "start_time": "2021-06-15T18:15:09.470Z"
   },
   {
    "duration": 325,
    "start_time": "2021-06-25T17:44:40.470Z"
   },
   {
    "duration": 739,
    "start_time": "2021-06-25T17:44:49.506Z"
   },
   {
    "duration": 19,
    "start_time": "2021-06-25T17:44:50.247Z"
   },
   {
    "duration": 17,
    "start_time": "2021-06-25T17:44:50.269Z"
   },
   {
    "duration": 11,
    "start_time": "2021-06-25T17:44:50.289Z"
   },
   {
    "duration": 14,
    "start_time": "2021-06-25T17:44:50.303Z"
   },
   {
    "duration": 46,
    "start_time": "2021-06-25T17:44:50.320Z"
   },
   {
    "duration": 30,
    "start_time": "2021-06-25T17:44:50.368Z"
   },
   {
    "duration": 5,
    "start_time": "2021-06-25T17:44:50.401Z"
   },
   {
    "duration": 8,
    "start_time": "2021-06-25T17:44:50.408Z"
   },
   {
    "duration": 49,
    "start_time": "2021-06-25T17:44:50.419Z"
   },
   {
    "duration": 15,
    "start_time": "2021-06-25T17:44:50.471Z"
   },
   {
    "duration": 8,
    "start_time": "2021-06-25T17:44:50.488Z"
   },
   {
    "duration": 58,
    "start_time": "2021-06-25T17:44:50.498Z"
   },
   {
    "duration": 18,
    "start_time": "2021-06-25T17:44:50.559Z"
   },
   {
    "duration": 25,
    "start_time": "2021-06-25T17:44:50.580Z"
   },
   {
    "duration": 74,
    "start_time": "2021-06-25T17:44:50.608Z"
   },
   {
    "duration": 4251,
    "start_time": "2021-06-25T17:44:50.685Z"
   },
   {
    "duration": 24,
    "start_time": "2021-06-25T17:44:54.939Z"
   },
   {
    "duration": 3612,
    "start_time": "2021-06-25T17:44:54.965Z"
   },
   {
    "duration": 29,
    "start_time": "2021-06-25T17:44:58.579Z"
   },
   {
    "duration": 41,
    "start_time": "2021-06-25T17:44:58.610Z"
   },
   {
    "duration": 387,
    "start_time": "2021-06-25T17:44:58.657Z"
   },
   {
    "duration": 12,
    "start_time": "2021-06-25T17:44:59.056Z"
   },
   {
    "duration": 421,
    "start_time": "2021-06-25T17:44:59.071Z"
   },
   {
    "duration": 20,
    "start_time": "2021-06-25T17:44:59.495Z"
   },
   {
    "duration": 5,
    "start_time": "2021-06-25T17:44:59.518Z"
   },
   {
    "duration": 47,
    "start_time": "2021-06-25T17:44:59.525Z"
   },
   {
    "duration": 7,
    "start_time": "2021-06-25T17:44:59.574Z"
   },
   {
    "duration": 19,
    "start_time": "2021-06-25T17:44:59.583Z"
   },
   {
    "duration": 6,
    "start_time": "2021-06-25T17:44:59.604Z"
   },
   {
    "duration": 50,
    "start_time": "2021-06-25T17:44:59.612Z"
   },
   {
    "duration": 18,
    "start_time": "2021-06-25T17:44:59.664Z"
   },
   {
    "duration": 6,
    "start_time": "2021-06-25T17:44:59.684Z"
   },
   {
    "duration": 18,
    "start_time": "2021-06-25T17:47:03.746Z"
   },
   {
    "duration": 389,
    "start_time": "2021-06-25T17:49:08.738Z"
   },
   {
    "duration": 99,
    "start_time": "2021-06-25T17:50:14.896Z"
   },
   {
    "duration": 23,
    "start_time": "2021-06-25T17:50:20.190Z"
   },
   {
    "duration": 14,
    "start_time": "2021-06-25T17:50:23.443Z"
   },
   {
    "duration": 88,
    "start_time": "2021-06-25T17:51:37.637Z"
   },
   {
    "duration": 44,
    "start_time": "2021-06-25T17:51:37.727Z"
   },
   {
    "duration": 14,
    "start_time": "2021-06-25T17:51:37.774Z"
   },
   {
    "duration": 11,
    "start_time": "2021-06-25T17:51:37.791Z"
   },
   {
    "duration": 53,
    "start_time": "2021-06-25T17:51:37.804Z"
   },
   {
    "duration": 16,
    "start_time": "2021-06-25T17:51:37.859Z"
   },
   {
    "duration": 27,
    "start_time": "2021-06-25T17:51:37.877Z"
   },
   {
    "duration": 5,
    "start_time": "2021-06-25T17:51:37.908Z"
   },
   {
    "duration": 45,
    "start_time": "2021-06-25T17:51:37.915Z"
   },
   {
    "duration": 17,
    "start_time": "2021-06-25T17:51:37.962Z"
   },
   {
    "duration": 16,
    "start_time": "2021-06-25T17:51:37.981Z"
   },
   {
    "duration": 8,
    "start_time": "2021-06-25T17:51:37.999Z"
   },
   {
    "duration": 62,
    "start_time": "2021-06-25T17:51:38.009Z"
   },
   {
    "duration": 17,
    "start_time": "2021-06-25T17:51:38.074Z"
   },
   {
    "duration": 20,
    "start_time": "2021-06-25T17:51:38.093Z"
   },
   {
    "duration": 64,
    "start_time": "2021-06-25T17:51:38.115Z"
   },
   {
    "duration": 4375,
    "start_time": "2021-06-25T17:51:38.181Z"
   },
   {
    "duration": 16,
    "start_time": "2021-06-25T17:51:42.558Z"
   },
   {
    "duration": 3460,
    "start_time": "2021-06-25T17:51:42.577Z"
   },
   {
    "duration": 43,
    "start_time": "2021-06-25T17:51:46.040Z"
   },
   {
    "duration": 25,
    "start_time": "2021-06-25T17:51:46.085Z"
   },
   {
    "duration": 427,
    "start_time": "2021-06-25T17:51:46.113Z"
   },
   {
    "duration": 22,
    "start_time": "2021-06-25T17:51:46.544Z"
   },
   {
    "duration": 407,
    "start_time": "2021-06-25T17:51:46.569Z"
   },
   {
    "duration": 24,
    "start_time": "2021-06-25T17:51:46.978Z"
   },
   {
    "duration": 6,
    "start_time": "2021-06-25T17:51:47.004Z"
   },
   {
    "duration": 54,
    "start_time": "2021-06-25T17:51:47.012Z"
   },
   {
    "duration": 7,
    "start_time": "2021-06-25T17:51:47.068Z"
   },
   {
    "duration": 22,
    "start_time": "2021-06-25T17:51:47.077Z"
   },
   {
    "duration": 5,
    "start_time": "2021-06-25T17:51:47.102Z"
   },
   {
    "duration": 54,
    "start_time": "2021-06-25T17:51:47.110Z"
   },
   {
    "duration": 19,
    "start_time": "2021-06-25T17:51:47.167Z"
   },
   {
    "duration": 7,
    "start_time": "2021-06-25T17:51:47.189Z"
   },
   {
    "duration": 83,
    "start_time": "2021-06-25T17:52:15.904Z"
   },
   {
    "duration": 393,
    "start_time": "2021-06-25T17:52:37.424Z"
   },
   {
    "duration": 393,
    "start_time": "2021-06-25T17:54:45.867Z"
   },
   {
    "duration": 18,
    "start_time": "2021-06-25T17:54:52.521Z"
   },
   {
    "duration": 5,
    "start_time": "2021-06-25T17:55:04.586Z"
   },
   {
    "duration": 26,
    "start_time": "2021-06-25T17:55:07.585Z"
   },
   {
    "duration": 17,
    "start_time": "2021-06-25T17:55:11.081Z"
   },
   {
    "duration": 13,
    "start_time": "2021-06-25T17:55:54.679Z"
   },
   {
    "duration": 12,
    "start_time": "2021-06-25T17:56:17.250Z"
   },
   {
    "duration": 15,
    "start_time": "2021-06-25T17:56:26.994Z"
   },
   {
    "duration": 7054,
    "start_time": "2021-06-25T17:58:09.355Z"
   },
   {
    "duration": -132,
    "start_time": "2021-06-25T17:58:25.153Z"
   },
   {
    "duration": 6027,
    "start_time": "2021-06-25T17:58:37.078Z"
   },
   {
    "duration": -94,
    "start_time": "2021-06-25T17:59:06.842Z"
   },
   {
    "duration": -88,
    "start_time": "2021-06-25T17:59:30.596Z"
   },
   {
    "duration": 104,
    "start_time": "2021-06-25T17:59:34.857Z"
   },
   {
    "duration": 21,
    "start_time": "2021-06-25T17:59:34.964Z"
   },
   {
    "duration": 15,
    "start_time": "2021-06-25T17:59:34.987Z"
   },
   {
    "duration": 56,
    "start_time": "2021-06-25T17:59:35.005Z"
   },
   {
    "duration": 13,
    "start_time": "2021-06-25T17:59:35.063Z"
   },
   {
    "duration": 14,
    "start_time": "2021-06-25T17:59:35.078Z"
   },
   {
    "duration": 28,
    "start_time": "2021-06-25T17:59:35.094Z"
   },
   {
    "duration": 5,
    "start_time": "2021-06-25T17:59:35.157Z"
   },
   {
    "duration": 7,
    "start_time": "2021-06-25T17:59:35.165Z"
   },
   {
    "duration": 19,
    "start_time": "2021-06-25T17:59:35.174Z"
   },
   {
    "duration": 16,
    "start_time": "2021-06-25T17:59:35.195Z"
   },
   {
    "duration": 13,
    "start_time": "2021-06-25T17:59:35.214Z"
   },
   {
    "duration": 27,
    "start_time": "2021-06-25T17:59:35.256Z"
   },
   {
    "duration": 15,
    "start_time": "2021-06-25T17:59:35.286Z"
   },
   {
    "duration": 53,
    "start_time": "2021-06-25T17:59:35.304Z"
   },
   {
    "duration": 35,
    "start_time": "2021-06-25T17:59:35.359Z"
   },
   {
    "duration": 4409,
    "start_time": "2021-06-25T17:59:35.396Z"
   },
   {
    "duration": 16,
    "start_time": "2021-06-25T17:59:39.808Z"
   },
   {
    "duration": 3586,
    "start_time": "2021-06-25T17:59:39.827Z"
   },
   {
    "duration": 43,
    "start_time": "2021-06-25T17:59:43.416Z"
   },
   {
    "duration": 29,
    "start_time": "2021-06-25T17:59:43.461Z"
   },
   {
    "duration": 414,
    "start_time": "2021-06-25T17:59:43.492Z"
   },
   {
    "duration": 14,
    "start_time": "2021-06-25T17:59:43.910Z"
   },
   {
    "duration": 416,
    "start_time": "2021-06-25T17:59:43.926Z"
   },
   {
    "duration": 29,
    "start_time": "2021-06-25T17:59:44.344Z"
   },
   {
    "duration": 5,
    "start_time": "2021-06-25T17:59:44.375Z"
   },
   {
    "duration": 22,
    "start_time": "2021-06-25T17:59:44.382Z"
   },
   {
    "duration": 7,
    "start_time": "2021-06-25T17:59:44.407Z"
   },
   {
    "duration": 52,
    "start_time": "2021-06-25T17:59:44.417Z"
   },
   {
    "duration": 13,
    "start_time": "2021-06-25T17:59:44.471Z"
   },
   {
    "duration": 6295,
    "start_time": "2021-06-25T17:59:44.487Z"
   },
   {
    "duration": -94,
    "start_time": "2021-06-25T17:59:50.878Z"
   },
   {
    "duration": -96,
    "start_time": "2021-06-25T17:59:50.882Z"
   },
   {
    "duration": -112,
    "start_time": "2021-06-25T17:59:50.899Z"
   },
   {
    "duration": 5995,
    "start_time": "2021-06-25T18:01:02.709Z"
   },
   {
    "duration": 6151,
    "start_time": "2021-06-25T18:01:50.098Z"
   },
   {
    "duration": 5898,
    "start_time": "2021-06-25T18:02:08.671Z"
   },
   {
    "duration": 14,
    "start_time": "2021-06-25T18:04:25.274Z"
   },
   {
    "duration": 16,
    "start_time": "2021-06-25T18:04:40.862Z"
   },
   {
    "duration": -28,
    "start_time": "2021-06-25T18:05:38.984Z"
   },
   {
    "duration": -64,
    "start_time": "2021-06-25T18:05:48.229Z"
   },
   {
    "duration": -104,
    "start_time": "2021-06-25T18:05:55.711Z"
   },
   {
    "duration": 6404,
    "start_time": "2021-06-25T18:05:59.267Z"
   },
   {
    "duration": 18,
    "start_time": "2021-06-25T18:09:18.064Z"
   },
   {
    "duration": 5,
    "start_time": "2021-06-25T18:09:34.148Z"
   },
   {
    "duration": 7,
    "start_time": "2021-06-25T18:09:47.280Z"
   },
   {
    "duration": 8,
    "start_time": "2021-06-25T18:11:21.560Z"
   },
   {
    "duration": 87,
    "start_time": "2021-06-25T18:11:45.900Z"
   },
   {
    "duration": 8,
    "start_time": "2021-06-25T18:11:56.063Z"
   },
   {
    "duration": 1054,
    "start_time": "2021-06-25T18:21:01.275Z"
   },
   {
    "duration": 15,
    "start_time": "2021-06-25T18:21:25.283Z"
   },
   {
    "duration": 8,
    "start_time": "2021-06-25T18:21:45.916Z"
   },
   {
    "duration": 979,
    "start_time": "2021-06-25T18:23:41.693Z"
   },
   {
    "duration": 961,
    "start_time": "2021-06-25T18:23:53.254Z"
   },
   {
    "duration": 17,
    "start_time": "2021-06-25T18:24:04.625Z"
   },
   {
    "duration": 17,
    "start_time": "2021-06-25T18:24:55.935Z"
   },
   {
    "duration": 16,
    "start_time": "2021-06-25T18:25:39.214Z"
   },
   {
    "duration": 18,
    "start_time": "2021-06-25T18:26:42.619Z"
   },
   {
    "duration": 18,
    "start_time": "2021-06-25T18:27:42.406Z"
   },
   {
    "duration": 16,
    "start_time": "2021-06-25T18:27:57.466Z"
   },
   {
    "duration": 16,
    "start_time": "2021-06-25T18:29:58.517Z"
   },
   {
    "duration": 381,
    "start_time": "2021-06-25T18:35:58.291Z"
   },
   {
    "duration": 92,
    "start_time": "2021-06-25T18:36:13.914Z"
   },
   {
    "duration": 48,
    "start_time": "2021-06-25T18:36:14.009Z"
   },
   {
    "duration": 16,
    "start_time": "2021-06-25T18:36:14.061Z"
   },
   {
    "duration": 11,
    "start_time": "2021-06-25T18:36:14.079Z"
   },
   {
    "duration": 22,
    "start_time": "2021-06-25T18:36:14.093Z"
   },
   {
    "duration": 45,
    "start_time": "2021-06-25T18:36:14.117Z"
   },
   {
    "duration": 30,
    "start_time": "2021-06-25T18:36:14.164Z"
   },
   {
    "duration": 4,
    "start_time": "2021-06-25T18:36:14.197Z"
   },
   {
    "duration": 8,
    "start_time": "2021-06-25T18:36:14.205Z"
   },
   {
    "duration": 50,
    "start_time": "2021-06-25T18:36:14.215Z"
   },
   {
    "duration": 9,
    "start_time": "2021-06-25T18:36:14.268Z"
   },
   {
    "duration": 14,
    "start_time": "2021-06-25T18:36:14.280Z"
   },
   {
    "duration": 27,
    "start_time": "2021-06-25T18:36:14.297Z"
   },
   {
    "duration": 17,
    "start_time": "2021-06-25T18:36:14.355Z"
   },
   {
    "duration": 21,
    "start_time": "2021-06-25T18:36:14.375Z"
   },
   {
    "duration": 58,
    "start_time": "2021-06-25T18:36:14.398Z"
   },
   {
    "duration": 4323,
    "start_time": "2021-06-25T18:36:14.458Z"
   },
   {
    "duration": 16,
    "start_time": "2021-06-25T18:36:18.784Z"
   },
   {
    "duration": 3425,
    "start_time": "2021-06-25T18:36:18.802Z"
   },
   {
    "duration": 44,
    "start_time": "2021-06-25T18:36:22.229Z"
   },
   {
    "duration": 26,
    "start_time": "2021-06-25T18:36:22.276Z"
   },
   {
    "duration": 398,
    "start_time": "2021-06-25T18:36:22.305Z"
   },
   {
    "duration": 12,
    "start_time": "2021-06-25T18:36:22.708Z"
   },
   {
    "duration": 503,
    "start_time": "2021-06-25T18:36:22.723Z"
   },
   {
    "duration": 32,
    "start_time": "2021-06-25T18:36:23.229Z"
   },
   {
    "duration": 16,
    "start_time": "2021-06-25T18:36:23.263Z"
   },
   {
    "duration": 16,
    "start_time": "2021-06-25T18:36:23.281Z"
   },
   {
    "duration": 14,
    "start_time": "2021-06-25T18:36:23.299Z"
   },
   {
    "duration": 52,
    "start_time": "2021-06-25T18:36:23.315Z"
   },
   {
    "duration": 115,
    "start_time": "2021-06-25T18:38:19.141Z"
   },
   {
    "duration": 21,
    "start_time": "2021-06-25T18:38:19.258Z"
   },
   {
    "duration": 22,
    "start_time": "2021-06-25T18:38:19.281Z"
   },
   {
    "duration": 12,
    "start_time": "2021-06-25T18:38:19.305Z"
   },
   {
    "duration": 44,
    "start_time": "2021-06-25T18:38:19.319Z"
   },
   {
    "duration": 14,
    "start_time": "2021-06-25T18:38:19.366Z"
   },
   {
    "duration": 29,
    "start_time": "2021-06-25T18:38:19.382Z"
   },
   {
    "duration": 5,
    "start_time": "2021-06-25T18:38:19.415Z"
   },
   {
    "duration": 6,
    "start_time": "2021-06-25T18:38:19.457Z"
   },
   {
    "duration": 18,
    "start_time": "2021-06-25T18:38:19.465Z"
   },
   {
    "duration": 9,
    "start_time": "2021-06-25T18:38:19.485Z"
   },
   {
    "duration": 12,
    "start_time": "2021-06-25T18:38:19.496Z"
   },
   {
    "duration": 64,
    "start_time": "2021-06-25T18:38:19.510Z"
   },
   {
    "duration": 15,
    "start_time": "2021-06-25T18:38:19.577Z"
   },
   {
    "duration": 20,
    "start_time": "2021-06-25T18:38:19.594Z"
   },
   {
    "duration": 59,
    "start_time": "2021-06-25T18:38:19.617Z"
   },
   {
    "duration": 4297,
    "start_time": "2021-06-25T18:38:19.679Z"
   },
   {
    "duration": 17,
    "start_time": "2021-06-25T18:38:23.978Z"
   },
   {
    "duration": 3686,
    "start_time": "2021-06-25T18:38:23.997Z"
   },
   {
    "duration": 30,
    "start_time": "2021-06-25T18:38:27.686Z"
   },
   {
    "duration": 51,
    "start_time": "2021-06-25T18:38:27.719Z"
   },
   {
    "duration": 396,
    "start_time": "2021-06-25T18:38:27.773Z"
   },
   {
    "duration": 13,
    "start_time": "2021-06-25T18:38:28.173Z"
   },
   {
    "duration": 428,
    "start_time": "2021-06-25T18:38:28.189Z"
   },
   {
    "duration": 21,
    "start_time": "2021-06-25T18:38:28.619Z"
   },
   {
    "duration": 16,
    "start_time": "2021-06-25T18:38:28.657Z"
   },
   {
    "duration": 15,
    "start_time": "2021-06-25T18:38:28.676Z"
   },
   {
    "duration": 11,
    "start_time": "2021-06-25T18:38:28.693Z"
   },
   {
    "duration": 56,
    "start_time": "2021-06-25T18:38:28.706Z"
   },
   {
    "duration": 851,
    "start_time": "2021-06-25T20:28:54.954Z"
   },
   {
    "duration": 21,
    "start_time": "2021-06-25T20:28:55.807Z"
   },
   {
    "duration": 41,
    "start_time": "2021-06-25T20:28:55.830Z"
   },
   {
    "duration": 14,
    "start_time": "2021-06-25T20:28:55.875Z"
   },
   {
    "duration": 15,
    "start_time": "2021-06-25T20:28:55.892Z"
   },
   {
    "duration": 59,
    "start_time": "2021-06-25T20:28:55.910Z"
   },
   {
    "duration": 31,
    "start_time": "2021-06-25T20:28:55.973Z"
   },
   {
    "duration": 5,
    "start_time": "2021-06-25T20:28:56.008Z"
   },
   {
    "duration": 39,
    "start_time": "2021-06-25T20:28:56.016Z"
   },
   {
    "duration": 22,
    "start_time": "2021-06-25T20:28:56.059Z"
   },
   {
    "duration": 18,
    "start_time": "2021-06-25T20:28:56.083Z"
   },
   {
    "duration": 12,
    "start_time": "2021-06-25T20:28:56.103Z"
   },
   {
    "duration": 63,
    "start_time": "2021-06-25T20:28:56.118Z"
   },
   {
    "duration": 17,
    "start_time": "2021-06-25T20:28:56.183Z"
   },
   {
    "duration": 22,
    "start_time": "2021-06-25T20:28:56.203Z"
   },
   {
    "duration": 65,
    "start_time": "2021-06-25T20:28:56.227Z"
   },
   {
    "duration": 4849,
    "start_time": "2021-06-25T20:28:56.295Z"
   },
   {
    "duration": 29,
    "start_time": "2021-06-25T20:29:01.146Z"
   },
   {
    "duration": 3838,
    "start_time": "2021-06-25T20:29:01.178Z"
   },
   {
    "duration": 49,
    "start_time": "2021-06-25T20:29:05.018Z"
   },
   {
    "duration": 28,
    "start_time": "2021-06-25T20:29:05.070Z"
   },
   {
    "duration": 429,
    "start_time": "2021-06-25T20:29:05.100Z"
   },
   {
    "duration": 29,
    "start_time": "2021-06-25T20:29:05.533Z"
   },
   {
    "duration": 548,
    "start_time": "2021-06-25T20:29:05.566Z"
   },
   {
    "duration": 38,
    "start_time": "2021-06-25T20:29:06.117Z"
   },
   {
    "duration": 23,
    "start_time": "2021-06-25T20:29:06.158Z"
   },
   {
    "duration": 17,
    "start_time": "2021-06-25T20:29:06.184Z"
   },
   {
    "duration": 12,
    "start_time": "2021-06-25T20:29:06.203Z"
   },
   {
    "duration": 24,
    "start_time": "2021-06-25T20:29:06.256Z"
   },
   {
    "duration": 84,
    "start_time": "2021-06-25T20:33:32.119Z"
   },
   {
    "duration": 457,
    "start_time": "2022-04-12T12:38:14.417Z"
   },
   {
    "duration": 3,
    "start_time": "2022-04-12T12:38:19.256Z"
   },
   {
    "duration": 97,
    "start_time": "2022-04-12T12:38:37.798Z"
   },
   {
    "duration": 18,
    "start_time": "2022-04-12T12:39:27.485Z"
   },
   {
    "duration": 17,
    "start_time": "2022-04-12T12:42:47.257Z"
   },
   {
    "duration": 12,
    "start_time": "2022-04-12T12:43:25.284Z"
   },
   {
    "duration": 11,
    "start_time": "2022-04-12T12:45:14.580Z"
   },
   {
    "duration": 12,
    "start_time": "2022-04-12T12:46:19.501Z"
   },
   {
    "duration": 16,
    "start_time": "2022-04-12T12:46:36.242Z"
   },
   {
    "duration": 25,
    "start_time": "2022-04-12T12:46:52.162Z"
   },
   {
    "duration": 20,
    "start_time": "2022-04-12T12:47:06.422Z"
   },
   {
    "duration": 25,
    "start_time": "2022-04-12T12:47:14.149Z"
   },
   {
    "duration": 41,
    "start_time": "2022-04-12T12:48:03.774Z"
   },
   {
    "duration": 4,
    "start_time": "2022-04-12T12:49:35.433Z"
   },
   {
    "duration": 5,
    "start_time": "2022-04-12T12:50:11.224Z"
   },
   {
    "duration": 15,
    "start_time": "2022-04-12T12:50:37.867Z"
   },
   {
    "duration": 5,
    "start_time": "2022-04-12T12:51:23.690Z"
   },
   {
    "duration": 11,
    "start_time": "2022-04-12T12:52:39.573Z"
   },
   {
    "duration": 17,
    "start_time": "2022-04-12T12:53:15.381Z"
   },
   {
    "duration": 22,
    "start_time": "2022-04-12T12:54:27.021Z"
   },
   {
    "duration": 26,
    "start_time": "2022-04-12T12:54:42.366Z"
   },
   {
    "duration": 37,
    "start_time": "2022-04-12T12:55:14.243Z"
   },
   {
    "duration": 26,
    "start_time": "2022-04-12T12:57:07.984Z"
   },
   {
    "duration": 3934,
    "start_time": "2022-04-12T12:57:24.124Z"
   },
   {
    "duration": 13,
    "start_time": "2022-04-12T12:57:28.061Z"
   },
   {
    "duration": 3,
    "start_time": "2022-04-12T12:57:49.316Z"
   },
   {
    "duration": 75,
    "start_time": "2022-04-12T12:57:52.338Z"
   },
   {
    "duration": 17,
    "start_time": "2022-04-12T12:57:52.575Z"
   },
   {
    "duration": 12,
    "start_time": "2022-04-12T12:57:53.708Z"
   },
   {
    "duration": 9,
    "start_time": "2022-04-12T12:57:54.189Z"
   },
   {
    "duration": 19,
    "start_time": "2022-04-12T12:57:54.882Z"
   },
   {
    "duration": 26,
    "start_time": "2022-04-12T12:57:55.477Z"
   },
   {
    "duration": 4,
    "start_time": "2022-04-12T12:57:57.202Z"
   },
   {
    "duration": 7,
    "start_time": "2022-04-12T12:57:58.149Z"
   },
   {
    "duration": 21,
    "start_time": "2022-04-12T12:57:59.090Z"
   },
   {
    "duration": 11,
    "start_time": "2022-04-12T12:57:59.425Z"
   },
   {
    "duration": 7,
    "start_time": "2022-04-12T12:57:59.981Z"
   },
   {
    "duration": 15,
    "start_time": "2022-04-12T12:58:01.061Z"
   },
   {
    "duration": 28,
    "start_time": "2022-04-12T12:58:04.251Z"
   },
   {
    "duration": 20,
    "start_time": "2022-04-12T12:58:05.092Z"
   },
   {
    "duration": 29,
    "start_time": "2022-04-12T12:58:05.591Z"
   },
   {
    "duration": 3667,
    "start_time": "2022-04-12T12:58:07.900Z"
   },
   {
    "duration": 3,
    "start_time": "2022-04-12T12:58:48.193Z"
   },
   {
    "duration": 77,
    "start_time": "2022-04-12T12:58:49.115Z"
   },
   {
    "duration": 17,
    "start_time": "2022-04-12T12:58:49.335Z"
   },
   {
    "duration": 12,
    "start_time": "2022-04-12T12:58:50.384Z"
   },
   {
    "duration": 11,
    "start_time": "2022-04-12T12:58:50.892Z"
   },
   {
    "duration": 17,
    "start_time": "2022-04-12T12:58:51.380Z"
   },
   {
    "duration": 27,
    "start_time": "2022-04-12T12:58:51.794Z"
   },
   {
    "duration": 4,
    "start_time": "2022-04-12T12:58:53.359Z"
   },
   {
    "duration": 8,
    "start_time": "2022-04-12T12:58:54.133Z"
   },
   {
    "duration": 20,
    "start_time": "2022-04-12T12:58:54.698Z"
   },
   {
    "duration": 7,
    "start_time": "2022-04-12T12:58:55.079Z"
   },
   {
    "duration": 5,
    "start_time": "2022-04-12T12:58:55.637Z"
   },
   {
    "duration": 12,
    "start_time": "2022-04-12T12:58:56.589Z"
   },
   {
    "duration": 18,
    "start_time": "2022-04-12T12:58:57.791Z"
   },
   {
    "duration": 19,
    "start_time": "2022-04-12T12:58:59.013Z"
   },
   {
    "duration": 28,
    "start_time": "2022-04-12T12:58:59.196Z"
   },
   {
    "duration": 3586,
    "start_time": "2022-04-12T12:59:01.063Z"
   },
   {
    "duration": 12,
    "start_time": "2022-04-12T12:59:05.875Z"
   },
   {
    "duration": 2987,
    "start_time": "2022-04-12T13:00:38.953Z"
   },
   {
    "duration": 3082,
    "start_time": "2022-04-12T13:00:47.299Z"
   },
   {
    "duration": 26,
    "start_time": "2022-04-12T13:01:01.246Z"
   },
   {
    "duration": 21,
    "start_time": "2022-04-12T13:01:14.277Z"
   },
   {
    "duration": 15,
    "start_time": "2022-04-12T13:02:47.407Z"
   },
   {
    "duration": 6,
    "start_time": "2022-04-12T13:03:25.468Z"
   },
   {
    "duration": 167,
    "start_time": "2022-04-12T13:03:49.256Z"
   },
   {
    "duration": 11,
    "start_time": "2022-04-12T13:04:16.822Z"
   },
   {
    "duration": 159,
    "start_time": "2022-04-12T13:04:24.195Z"
   },
   {
    "duration": 15,
    "start_time": "2022-04-12T13:06:05.086Z"
   },
   {
    "duration": 608,
    "start_time": "2022-04-12T13:06:30.711Z"
   },
   {
    "duration": 18,
    "start_time": "2022-04-12T13:06:40.543Z"
   },
   {
    "duration": 16,
    "start_time": "2022-04-12T13:06:50.224Z"
   },
   {
    "duration": 15,
    "start_time": "2022-04-12T13:07:45.161Z"
   },
   {
    "duration": 13,
    "start_time": "2022-04-12T13:09:30.190Z"
   },
   {
    "duration": 16,
    "start_time": "2022-04-12T13:09:37.097Z"
   },
   {
    "duration": 16,
    "start_time": "2022-04-12T13:10:59.317Z"
   },
   {
    "duration": 420,
    "start_time": "2022-04-12T13:13:08.345Z"
   },
   {
    "duration": 91,
    "start_time": "2022-04-12T13:13:08.767Z"
   },
   {
    "duration": 17,
    "start_time": "2022-04-12T13:13:08.860Z"
   },
   {
    "duration": 11,
    "start_time": "2022-04-12T13:13:08.879Z"
   },
   {
    "duration": 9,
    "start_time": "2022-04-12T13:13:08.892Z"
   },
   {
    "duration": 43,
    "start_time": "2022-04-12T13:13:08.903Z"
   },
   {
    "duration": 26,
    "start_time": "2022-04-12T13:13:08.948Z"
   },
   {
    "duration": 4,
    "start_time": "2022-04-12T13:13:08.976Z"
   },
   {
    "duration": 9,
    "start_time": "2022-04-12T13:13:08.982Z"
   },
   {
    "duration": 41,
    "start_time": "2022-04-12T13:13:08.994Z"
   },
   {
    "duration": 7,
    "start_time": "2022-04-12T13:13:09.038Z"
   },
   {
    "duration": 8,
    "start_time": "2022-04-12T13:13:09.047Z"
   },
   {
    "duration": 21,
    "start_time": "2022-04-12T13:13:09.057Z"
   },
   {
    "duration": 20,
    "start_time": "2022-04-12T13:13:09.080Z"
   },
   {
    "duration": 40,
    "start_time": "2022-04-12T13:13:09.102Z"
   },
   {
    "duration": 28,
    "start_time": "2022-04-12T13:13:09.144Z"
   },
   {
    "duration": 3849,
    "start_time": "2022-04-12T13:13:09.173Z"
   },
   {
    "duration": 14,
    "start_time": "2022-04-12T13:13:13.034Z"
   },
   {
    "duration": 3130,
    "start_time": "2022-04-12T13:13:13.050Z"
   },
   {
    "duration": 27,
    "start_time": "2022-04-12T13:13:16.181Z"
   },
   {
    "duration": 26,
    "start_time": "2022-04-12T13:13:16.210Z"
   },
   {
    "duration": 168,
    "start_time": "2022-04-12T13:13:16.238Z"
   },
   {
    "duration": 27,
    "start_time": "2022-04-12T13:13:16.408Z"
   },
   {
    "duration": 175,
    "start_time": "2022-04-12T13:13:16.436Z"
   },
   {
    "duration": 25,
    "start_time": "2022-04-12T13:13:16.612Z"
   },
   {
    "duration": 15,
    "start_time": "2022-04-12T13:13:16.640Z"
   },
   {
    "duration": 14,
    "start_time": "2022-04-12T13:13:16.657Z"
   },
   {
    "duration": 14,
    "start_time": "2022-04-12T13:13:16.674Z"
   }
  ],
  "kernelspec": {
   "display_name": "Python 3 (ipykernel)",
   "language": "python",
   "name": "python3"
  },
  "language_info": {
   "codemirror_mode": {
    "name": "ipython",
    "version": 3
   },
   "file_extension": ".py",
   "mimetype": "text/x-python",
   "name": "python",
   "nbconvert_exporter": "python",
   "pygments_lexer": "ipython3",
   "version": "3.9.12"
  },
  "toc": {
   "base_numbering": 1,
   "nav_menu": {},
   "number_sections": true,
   "sideBar": true,
   "skip_h1_title": true,
   "title_cell": "Table of Contents",
   "title_sidebar": "Contents",
   "toc_cell": false,
   "toc_position": {},
   "toc_section_display": true,
   "toc_window_display": true
  }
 },
 "nbformat": 4,
 "nbformat_minor": 4
}
