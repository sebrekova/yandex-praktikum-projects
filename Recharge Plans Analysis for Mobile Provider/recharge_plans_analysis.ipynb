{
 "cells": [
  {
   "cell_type": "markdown",
   "metadata": {},
   "source": [
    "# Определение перспективного тарифа для федерального оператора сотовой связи"
   ]
  },
  {
   "cell_type": "markdown",
   "metadata": {},
   "source": [
    "## Импорт библиотек"
   ]
  },
  {
   "cell_type": "code",
   "execution_count": 1,
   "metadata": {},
   "outputs": [],
   "source": [
    "import pandas as pd\n",
    "import numpy as np\n",
    "import matplotlib.pyplot as plt\n",
    "from scipy import stats as st\n",
    "import warnings\n",
    "warnings.filterwarnings('ignore')"
   ]
  },
  {
   "cell_type": "markdown",
   "metadata": {},
   "source": [
    "## Изучение данных "
   ]
  },
  {
   "cell_type": "markdown",
   "metadata": {},
   "source": [
    "### Датасет users"
   ]
  },
  {
   "cell_type": "code",
   "execution_count": 2,
   "metadata": {},
   "outputs": [
    {
     "data": {
      "text/html": [
       "<div>\n",
       "<style scoped>\n",
       "    .dataframe tbody tr th:only-of-type {\n",
       "        vertical-align: middle;\n",
       "    }\n",
       "\n",
       "    .dataframe tbody tr th {\n",
       "        vertical-align: top;\n",
       "    }\n",
       "\n",
       "    .dataframe thead th {\n",
       "        text-align: right;\n",
       "    }\n",
       "</style>\n",
       "<table border=\"1\" class=\"dataframe\">\n",
       "  <thead>\n",
       "    <tr style=\"text-align: right;\">\n",
       "      <th></th>\n",
       "      <th>user_id</th>\n",
       "      <th>age</th>\n",
       "      <th>churn_date</th>\n",
       "      <th>city</th>\n",
       "      <th>first_name</th>\n",
       "      <th>last_name</th>\n",
       "      <th>reg_date</th>\n",
       "      <th>tariff</th>\n",
       "    </tr>\n",
       "  </thead>\n",
       "  <tbody>\n",
       "    <tr>\n",
       "      <th>0</th>\n",
       "      <td>1000</td>\n",
       "      <td>52</td>\n",
       "      <td>NaN</td>\n",
       "      <td>Краснодар</td>\n",
       "      <td>Рафаил</td>\n",
       "      <td>Верещагин</td>\n",
       "      <td>2018-05-25</td>\n",
       "      <td>ultra</td>\n",
       "    </tr>\n",
       "    <tr>\n",
       "      <th>1</th>\n",
       "      <td>1001</td>\n",
       "      <td>41</td>\n",
       "      <td>NaN</td>\n",
       "      <td>Москва</td>\n",
       "      <td>Иван</td>\n",
       "      <td>Ежов</td>\n",
       "      <td>2018-11-01</td>\n",
       "      <td>smart</td>\n",
       "    </tr>\n",
       "    <tr>\n",
       "      <th>2</th>\n",
       "      <td>1002</td>\n",
       "      <td>59</td>\n",
       "      <td>NaN</td>\n",
       "      <td>Стерлитамак</td>\n",
       "      <td>Евгений</td>\n",
       "      <td>Абрамович</td>\n",
       "      <td>2018-06-17</td>\n",
       "      <td>smart</td>\n",
       "    </tr>\n",
       "    <tr>\n",
       "      <th>3</th>\n",
       "      <td>1003</td>\n",
       "      <td>23</td>\n",
       "      <td>NaN</td>\n",
       "      <td>Москва</td>\n",
       "      <td>Белла</td>\n",
       "      <td>Белякова</td>\n",
       "      <td>2018-08-17</td>\n",
       "      <td>ultra</td>\n",
       "    </tr>\n",
       "    <tr>\n",
       "      <th>4</th>\n",
       "      <td>1004</td>\n",
       "      <td>68</td>\n",
       "      <td>NaN</td>\n",
       "      <td>Новокузнецк</td>\n",
       "      <td>Татьяна</td>\n",
       "      <td>Авдеенко</td>\n",
       "      <td>2018-05-14</td>\n",
       "      <td>ultra</td>\n",
       "    </tr>\n",
       "    <tr>\n",
       "      <th>5</th>\n",
       "      <td>1005</td>\n",
       "      <td>67</td>\n",
       "      <td>NaN</td>\n",
       "      <td>Набережные Челны</td>\n",
       "      <td>Афанасий</td>\n",
       "      <td>Горлов</td>\n",
       "      <td>2018-01-25</td>\n",
       "      <td>smart</td>\n",
       "    </tr>\n",
       "    <tr>\n",
       "      <th>6</th>\n",
       "      <td>1006</td>\n",
       "      <td>21</td>\n",
       "      <td>NaN</td>\n",
       "      <td>Ульяновск</td>\n",
       "      <td>Леонид</td>\n",
       "      <td>Ермолаев</td>\n",
       "      <td>2018-02-26</td>\n",
       "      <td>smart</td>\n",
       "    </tr>\n",
       "    <tr>\n",
       "      <th>7</th>\n",
       "      <td>1007</td>\n",
       "      <td>65</td>\n",
       "      <td>NaN</td>\n",
       "      <td>Москва</td>\n",
       "      <td>Юна</td>\n",
       "      <td>Березина</td>\n",
       "      <td>2018-04-19</td>\n",
       "      <td>smart</td>\n",
       "    </tr>\n",
       "    <tr>\n",
       "      <th>8</th>\n",
       "      <td>1008</td>\n",
       "      <td>63</td>\n",
       "      <td>NaN</td>\n",
       "      <td>Челябинск</td>\n",
       "      <td>Рустэм</td>\n",
       "      <td>Пономарёв</td>\n",
       "      <td>2018-12-19</td>\n",
       "      <td>smart</td>\n",
       "    </tr>\n",
       "    <tr>\n",
       "      <th>9</th>\n",
       "      <td>1009</td>\n",
       "      <td>24</td>\n",
       "      <td>NaN</td>\n",
       "      <td>Пермь</td>\n",
       "      <td>Василиса</td>\n",
       "      <td>Блинова</td>\n",
       "      <td>2018-03-22</td>\n",
       "      <td>smart</td>\n",
       "    </tr>\n",
       "  </tbody>\n",
       "</table>\n",
       "</div>"
      ],
      "text/plain": [
       "   user_id  age churn_date              city first_name  last_name  \\\n",
       "0     1000   52        NaN         Краснодар     Рафаил  Верещагин   \n",
       "1     1001   41        NaN            Москва       Иван       Ежов   \n",
       "2     1002   59        NaN       Стерлитамак    Евгений  Абрамович   \n",
       "3     1003   23        NaN            Москва      Белла   Белякова   \n",
       "4     1004   68        NaN       Новокузнецк    Татьяна   Авдеенко   \n",
       "5     1005   67        NaN  Набережные Челны   Афанасий     Горлов   \n",
       "6     1006   21        NaN         Ульяновск     Леонид   Ермолаев   \n",
       "7     1007   65        NaN            Москва        Юна   Березина   \n",
       "8     1008   63        NaN         Челябинск     Рустэм  Пономарёв   \n",
       "9     1009   24        NaN             Пермь   Василиса    Блинова   \n",
       "\n",
       "     reg_date tariff  \n",
       "0  2018-05-25  ultra  \n",
       "1  2018-11-01  smart  \n",
       "2  2018-06-17  smart  \n",
       "3  2018-08-17  ultra  \n",
       "4  2018-05-14  ultra  \n",
       "5  2018-01-25  smart  \n",
       "6  2018-02-26  smart  \n",
       "7  2018-04-19  smart  \n",
       "8  2018-12-19  smart  \n",
       "9  2018-03-22  smart  "
      ]
     },
     "execution_count": 2,
     "metadata": {},
     "output_type": "execute_result"
    }
   ],
   "source": [
    "users = pd.read_csv('/datasets/users.csv')\n",
    "users.head(10)"
   ]
  },
  {
   "cell_type": "code",
   "execution_count": 3,
   "metadata": {},
   "outputs": [
    {
     "name": "stdout",
     "output_type": "stream",
     "text": [
      "<class 'pandas.core.frame.DataFrame'>\n",
      "RangeIndex: 500 entries, 0 to 499\n",
      "Data columns (total 8 columns):\n",
      " #   Column      Non-Null Count  Dtype \n",
      "---  ------      --------------  ----- \n",
      " 0   user_id     500 non-null    int64 \n",
      " 1   age         500 non-null    int64 \n",
      " 2   churn_date  38 non-null     object\n",
      " 3   city        500 non-null    object\n",
      " 4   first_name  500 non-null    object\n",
      " 5   last_name   500 non-null    object\n",
      " 6   reg_date    500 non-null    object\n",
      " 7   tariff      500 non-null    object\n",
      "dtypes: int64(2), object(6)\n",
      "memory usage: 31.4+ KB\n"
     ]
    }
   ],
   "source": [
    "users.info()"
   ]
  },
  {
   "cell_type": "code",
   "execution_count": 4,
   "metadata": {},
   "outputs": [
    {
     "data": {
      "text/html": [
       "<div>\n",
       "<style scoped>\n",
       "    .dataframe tbody tr th:only-of-type {\n",
       "        vertical-align: middle;\n",
       "    }\n",
       "\n",
       "    .dataframe tbody tr th {\n",
       "        vertical-align: top;\n",
       "    }\n",
       "\n",
       "    .dataframe thead th {\n",
       "        text-align: right;\n",
       "    }\n",
       "</style>\n",
       "<table border=\"1\" class=\"dataframe\">\n",
       "  <thead>\n",
       "    <tr style=\"text-align: right;\">\n",
       "      <th></th>\n",
       "      <th>user_id</th>\n",
       "      <th>age</th>\n",
       "    </tr>\n",
       "  </thead>\n",
       "  <tbody>\n",
       "    <tr>\n",
       "      <th>count</th>\n",
       "      <td>500.000000</td>\n",
       "      <td>500.00000</td>\n",
       "    </tr>\n",
       "    <tr>\n",
       "      <th>mean</th>\n",
       "      <td>1249.500000</td>\n",
       "      <td>46.58800</td>\n",
       "    </tr>\n",
       "    <tr>\n",
       "      <th>std</th>\n",
       "      <td>144.481833</td>\n",
       "      <td>16.66763</td>\n",
       "    </tr>\n",
       "    <tr>\n",
       "      <th>min</th>\n",
       "      <td>1000.000000</td>\n",
       "      <td>18.00000</td>\n",
       "    </tr>\n",
       "    <tr>\n",
       "      <th>25%</th>\n",
       "      <td>1124.750000</td>\n",
       "      <td>32.00000</td>\n",
       "    </tr>\n",
       "    <tr>\n",
       "      <th>50%</th>\n",
       "      <td>1249.500000</td>\n",
       "      <td>46.00000</td>\n",
       "    </tr>\n",
       "    <tr>\n",
       "      <th>75%</th>\n",
       "      <td>1374.250000</td>\n",
       "      <td>62.00000</td>\n",
       "    </tr>\n",
       "    <tr>\n",
       "      <th>max</th>\n",
       "      <td>1499.000000</td>\n",
       "      <td>75.00000</td>\n",
       "    </tr>\n",
       "  </tbody>\n",
       "</table>\n",
       "</div>"
      ],
      "text/plain": [
       "           user_id        age\n",
       "count   500.000000  500.00000\n",
       "mean   1249.500000   46.58800\n",
       "std     144.481833   16.66763\n",
       "min    1000.000000   18.00000\n",
       "25%    1124.750000   32.00000\n",
       "50%    1249.500000   46.00000\n",
       "75%    1374.250000   62.00000\n",
       "max    1499.000000   75.00000"
      ]
     },
     "execution_count": 4,
     "metadata": {},
     "output_type": "execute_result"
    }
   ],
   "source": [
    "users.describe()"
   ]
  },
  {
   "cell_type": "code",
   "execution_count": 5,
   "metadata": {},
   "outputs": [
    {
     "data": {
      "text/plain": [
       "user_id         0\n",
       "age             0\n",
       "churn_date    462\n",
       "city            0\n",
       "first_name      0\n",
       "last_name       0\n",
       "reg_date        0\n",
       "tariff          0\n",
       "dtype: int64"
      ]
     },
     "execution_count": 5,
     "metadata": {},
     "output_type": "execute_result"
    }
   ],
   "source": [
    "#посмотрим на пропуски\n",
    "users.isnull().sum()"
   ]
  },
  {
   "cell_type": "markdown",
   "metadata": {},
   "source": [
    ">1. Датасет содержит 500 строк c id пользователей. Исходя из условия, у нас в распоряжении как раз должно быть 500 клиентов. Но стоит все равно проверить данные на дубликаты    \n",
    ">2. Пропуски содержит только признак churn_date. Но по условию здесь у нас указана дата прекращения пользования тарифом, соответственно пропуски - это нормально и тариф действовал на момент выгрузки. С этим признаком ничего не делаем.  \n",
    ">3. Типы данных. Стоило бы привести признаки churn_date и reg_date к временному типу данных, но они не влияют на решение задачи, поэтому для экономии времени опустим этот момент\n",
    ">4. Названия признаков корректные и понятные  \n",
    ">5. Ошибок и других странностей нет  \n",
    ">6. С этим датасетом в предобработке ничего не нужно делать"
   ]
  },
  {
   "cell_type": "code",
   "execution_count": 6,
   "metadata": {},
   "outputs": [
    {
     "name": "stdout",
     "output_type": "stream",
     "text": [
      "Количество дубликатов id пользователей равно 0\n"
     ]
    }
   ],
   "source": [
    "print('Количество дубликатов id пользователей равно', users['user_id'].duplicated().sum())"
   ]
  },
  {
   "cell_type": "markdown",
   "metadata": {},
   "source": [
    "### Датасет calls"
   ]
  },
  {
   "cell_type": "code",
   "execution_count": 7,
   "metadata": {},
   "outputs": [
    {
     "data": {
      "text/html": [
       "<div>\n",
       "<style scoped>\n",
       "    .dataframe tbody tr th:only-of-type {\n",
       "        vertical-align: middle;\n",
       "    }\n",
       "\n",
       "    .dataframe tbody tr th {\n",
       "        vertical-align: top;\n",
       "    }\n",
       "\n",
       "    .dataframe thead th {\n",
       "        text-align: right;\n",
       "    }\n",
       "</style>\n",
       "<table border=\"1\" class=\"dataframe\">\n",
       "  <thead>\n",
       "    <tr style=\"text-align: right;\">\n",
       "      <th></th>\n",
       "      <th>id</th>\n",
       "      <th>call_date</th>\n",
       "      <th>duration</th>\n",
       "      <th>user_id</th>\n",
       "    </tr>\n",
       "  </thead>\n",
       "  <tbody>\n",
       "    <tr>\n",
       "      <th>0</th>\n",
       "      <td>1000_0</td>\n",
       "      <td>2018-07-25</td>\n",
       "      <td>0.00</td>\n",
       "      <td>1000</td>\n",
       "    </tr>\n",
       "    <tr>\n",
       "      <th>1</th>\n",
       "      <td>1000_1</td>\n",
       "      <td>2018-08-17</td>\n",
       "      <td>0.00</td>\n",
       "      <td>1000</td>\n",
       "    </tr>\n",
       "    <tr>\n",
       "      <th>2</th>\n",
       "      <td>1000_2</td>\n",
       "      <td>2018-06-11</td>\n",
       "      <td>2.85</td>\n",
       "      <td>1000</td>\n",
       "    </tr>\n",
       "    <tr>\n",
       "      <th>3</th>\n",
       "      <td>1000_3</td>\n",
       "      <td>2018-09-21</td>\n",
       "      <td>13.80</td>\n",
       "      <td>1000</td>\n",
       "    </tr>\n",
       "    <tr>\n",
       "      <th>4</th>\n",
       "      <td>1000_4</td>\n",
       "      <td>2018-12-15</td>\n",
       "      <td>5.18</td>\n",
       "      <td>1000</td>\n",
       "    </tr>\n",
       "    <tr>\n",
       "      <th>5</th>\n",
       "      <td>1000_5</td>\n",
       "      <td>2018-11-02</td>\n",
       "      <td>0.00</td>\n",
       "      <td>1000</td>\n",
       "    </tr>\n",
       "    <tr>\n",
       "      <th>6</th>\n",
       "      <td>1000_6</td>\n",
       "      <td>2018-10-18</td>\n",
       "      <td>0.00</td>\n",
       "      <td>1000</td>\n",
       "    </tr>\n",
       "    <tr>\n",
       "      <th>7</th>\n",
       "      <td>1000_7</td>\n",
       "      <td>2018-08-22</td>\n",
       "      <td>18.31</td>\n",
       "      <td>1000</td>\n",
       "    </tr>\n",
       "    <tr>\n",
       "      <th>8</th>\n",
       "      <td>1000_8</td>\n",
       "      <td>2018-09-15</td>\n",
       "      <td>18.44</td>\n",
       "      <td>1000</td>\n",
       "    </tr>\n",
       "    <tr>\n",
       "      <th>9</th>\n",
       "      <td>1000_9</td>\n",
       "      <td>2018-08-15</td>\n",
       "      <td>0.00</td>\n",
       "      <td>1000</td>\n",
       "    </tr>\n",
       "  </tbody>\n",
       "</table>\n",
       "</div>"
      ],
      "text/plain": [
       "       id   call_date  duration  user_id\n",
       "0  1000_0  2018-07-25      0.00     1000\n",
       "1  1000_1  2018-08-17      0.00     1000\n",
       "2  1000_2  2018-06-11      2.85     1000\n",
       "3  1000_3  2018-09-21     13.80     1000\n",
       "4  1000_4  2018-12-15      5.18     1000\n",
       "5  1000_5  2018-11-02      0.00     1000\n",
       "6  1000_6  2018-10-18      0.00     1000\n",
       "7  1000_7  2018-08-22     18.31     1000\n",
       "8  1000_8  2018-09-15     18.44     1000\n",
       "9  1000_9  2018-08-15      0.00     1000"
      ]
     },
     "execution_count": 7,
     "metadata": {},
     "output_type": "execute_result"
    }
   ],
   "source": [
    "calls = pd.read_csv('/datasets/calls.csv')\n",
    "calls.head(10)\n"
   ]
  },
  {
   "cell_type": "code",
   "execution_count": 8,
   "metadata": {},
   "outputs": [
    {
     "name": "stdout",
     "output_type": "stream",
     "text": [
      "<class 'pandas.core.frame.DataFrame'>\n",
      "RangeIndex: 202607 entries, 0 to 202606\n",
      "Data columns (total 4 columns):\n",
      " #   Column     Non-Null Count   Dtype  \n",
      "---  ------     --------------   -----  \n",
      " 0   id         202607 non-null  object \n",
      " 1   call_date  202607 non-null  object \n",
      " 2   duration   202607 non-null  float64\n",
      " 3   user_id    202607 non-null  int64  \n",
      "dtypes: float64(1), int64(1), object(2)\n",
      "memory usage: 6.2+ MB\n"
     ]
    }
   ],
   "source": [
    "calls.info()"
   ]
  },
  {
   "cell_type": "code",
   "execution_count": 9,
   "metadata": {},
   "outputs": [
    {
     "data": {
      "text/html": [
       "<div>\n",
       "<style scoped>\n",
       "    .dataframe tbody tr th:only-of-type {\n",
       "        vertical-align: middle;\n",
       "    }\n",
       "\n",
       "    .dataframe tbody tr th {\n",
       "        vertical-align: top;\n",
       "    }\n",
       "\n",
       "    .dataframe thead th {\n",
       "        text-align: right;\n",
       "    }\n",
       "</style>\n",
       "<table border=\"1\" class=\"dataframe\">\n",
       "  <thead>\n",
       "    <tr style=\"text-align: right;\">\n",
       "      <th></th>\n",
       "      <th>duration</th>\n",
       "      <th>user_id</th>\n",
       "    </tr>\n",
       "  </thead>\n",
       "  <tbody>\n",
       "    <tr>\n",
       "      <th>count</th>\n",
       "      <td>202607.000000</td>\n",
       "      <td>202607.000000</td>\n",
       "    </tr>\n",
       "    <tr>\n",
       "      <th>mean</th>\n",
       "      <td>6.755887</td>\n",
       "      <td>1253.940619</td>\n",
       "    </tr>\n",
       "    <tr>\n",
       "      <th>std</th>\n",
       "      <td>5.843365</td>\n",
       "      <td>144.722751</td>\n",
       "    </tr>\n",
       "    <tr>\n",
       "      <th>min</th>\n",
       "      <td>0.000000</td>\n",
       "      <td>1000.000000</td>\n",
       "    </tr>\n",
       "    <tr>\n",
       "      <th>25%</th>\n",
       "      <td>1.300000</td>\n",
       "      <td>1126.000000</td>\n",
       "    </tr>\n",
       "    <tr>\n",
       "      <th>50%</th>\n",
       "      <td>6.000000</td>\n",
       "      <td>1260.000000</td>\n",
       "    </tr>\n",
       "    <tr>\n",
       "      <th>75%</th>\n",
       "      <td>10.700000</td>\n",
       "      <td>1379.000000</td>\n",
       "    </tr>\n",
       "    <tr>\n",
       "      <th>max</th>\n",
       "      <td>38.000000</td>\n",
       "      <td>1499.000000</td>\n",
       "    </tr>\n",
       "  </tbody>\n",
       "</table>\n",
       "</div>"
      ],
      "text/plain": [
       "            duration        user_id\n",
       "count  202607.000000  202607.000000\n",
       "mean        6.755887    1253.940619\n",
       "std         5.843365     144.722751\n",
       "min         0.000000    1000.000000\n",
       "25%         1.300000    1126.000000\n",
       "50%         6.000000    1260.000000\n",
       "75%        10.700000    1379.000000\n",
       "max        38.000000    1499.000000"
      ]
     },
     "execution_count": 9,
     "metadata": {},
     "output_type": "execute_result"
    }
   ],
   "source": [
    "calls.describe()"
   ]
  },
  {
   "cell_type": "code",
   "execution_count": 10,
   "metadata": {},
   "outputs": [
    {
     "data": {
      "text/plain": [
       "id           0\n",
       "call_date    0\n",
       "duration     0\n",
       "user_id      0\n",
       "dtype: int64"
      ]
     },
     "execution_count": 10,
     "metadata": {},
     "output_type": "execute_result"
    }
   ],
   "source": [
    "calls.isnull().sum()"
   ]
  },
  {
   "cell_type": "markdown",
   "metadata": {},
   "source": [
    "> 1. В датасете calls количество строк значительно превышает количество уникальных пользователей из предыдущего датасета и сразу видны дубликаты в user_id. Это логично, большинство пользователей за период выполняют больше, чем 1 звонок.  \n",
    ">2.  Call_date  - нужно привести к временному типу данных, т.к. необходимо выделить расход каждого пользователя по месяцам  \n",
    ">3. Duration - округлим до большего целого числа, т.к. в условии указано, что оператор округляет продолжительность звонка в большую сторону, поменяем тип данных на int  \n",
    ">4. В условии задачи было указано, что нули в duration не являются ошибкой  \n",
    ">5. Пропусков нет.  "
   ]
  },
  {
   "cell_type": "markdown",
   "metadata": {},
   "source": [
    "### Датасет internet"
   ]
  },
  {
   "cell_type": "code",
   "execution_count": 11,
   "metadata": {},
   "outputs": [
    {
     "data": {
      "text/html": [
       "<div>\n",
       "<style scoped>\n",
       "    .dataframe tbody tr th:only-of-type {\n",
       "        vertical-align: middle;\n",
       "    }\n",
       "\n",
       "    .dataframe tbody tr th {\n",
       "        vertical-align: top;\n",
       "    }\n",
       "\n",
       "    .dataframe thead th {\n",
       "        text-align: right;\n",
       "    }\n",
       "</style>\n",
       "<table border=\"1\" class=\"dataframe\">\n",
       "  <thead>\n",
       "    <tr style=\"text-align: right;\">\n",
       "      <th></th>\n",
       "      <th>Unnamed: 0</th>\n",
       "      <th>id</th>\n",
       "      <th>mb_used</th>\n",
       "      <th>session_date</th>\n",
       "      <th>user_id</th>\n",
       "    </tr>\n",
       "  </thead>\n",
       "  <tbody>\n",
       "    <tr>\n",
       "      <th>0</th>\n",
       "      <td>0</td>\n",
       "      <td>1000_0</td>\n",
       "      <td>112.95</td>\n",
       "      <td>2018-11-25</td>\n",
       "      <td>1000</td>\n",
       "    </tr>\n",
       "    <tr>\n",
       "      <th>1</th>\n",
       "      <td>1</td>\n",
       "      <td>1000_1</td>\n",
       "      <td>1052.81</td>\n",
       "      <td>2018-09-07</td>\n",
       "      <td>1000</td>\n",
       "    </tr>\n",
       "    <tr>\n",
       "      <th>2</th>\n",
       "      <td>2</td>\n",
       "      <td>1000_2</td>\n",
       "      <td>1197.26</td>\n",
       "      <td>2018-06-25</td>\n",
       "      <td>1000</td>\n",
       "    </tr>\n",
       "    <tr>\n",
       "      <th>3</th>\n",
       "      <td>3</td>\n",
       "      <td>1000_3</td>\n",
       "      <td>550.27</td>\n",
       "      <td>2018-08-22</td>\n",
       "      <td>1000</td>\n",
       "    </tr>\n",
       "    <tr>\n",
       "      <th>4</th>\n",
       "      <td>4</td>\n",
       "      <td>1000_4</td>\n",
       "      <td>302.56</td>\n",
       "      <td>2018-09-24</td>\n",
       "      <td>1000</td>\n",
       "    </tr>\n",
       "    <tr>\n",
       "      <th>5</th>\n",
       "      <td>5</td>\n",
       "      <td>1000_5</td>\n",
       "      <td>399.97</td>\n",
       "      <td>2018-10-02</td>\n",
       "      <td>1000</td>\n",
       "    </tr>\n",
       "    <tr>\n",
       "      <th>6</th>\n",
       "      <td>6</td>\n",
       "      <td>1000_6</td>\n",
       "      <td>540.08</td>\n",
       "      <td>2018-09-07</td>\n",
       "      <td>1000</td>\n",
       "    </tr>\n",
       "    <tr>\n",
       "      <th>7</th>\n",
       "      <td>7</td>\n",
       "      <td>1000_7</td>\n",
       "      <td>415.70</td>\n",
       "      <td>2018-07-11</td>\n",
       "      <td>1000</td>\n",
       "    </tr>\n",
       "    <tr>\n",
       "      <th>8</th>\n",
       "      <td>8</td>\n",
       "      <td>1000_8</td>\n",
       "      <td>505.40</td>\n",
       "      <td>2018-10-08</td>\n",
       "      <td>1000</td>\n",
       "    </tr>\n",
       "    <tr>\n",
       "      <th>9</th>\n",
       "      <td>9</td>\n",
       "      <td>1000_9</td>\n",
       "      <td>345.54</td>\n",
       "      <td>2018-09-03</td>\n",
       "      <td>1000</td>\n",
       "    </tr>\n",
       "  </tbody>\n",
       "</table>\n",
       "</div>"
      ],
      "text/plain": [
       "   Unnamed: 0      id  mb_used session_date  user_id\n",
       "0           0  1000_0   112.95   2018-11-25     1000\n",
       "1           1  1000_1  1052.81   2018-09-07     1000\n",
       "2           2  1000_2  1197.26   2018-06-25     1000\n",
       "3           3  1000_3   550.27   2018-08-22     1000\n",
       "4           4  1000_4   302.56   2018-09-24     1000\n",
       "5           5  1000_5   399.97   2018-10-02     1000\n",
       "6           6  1000_6   540.08   2018-09-07     1000\n",
       "7           7  1000_7   415.70   2018-07-11     1000\n",
       "8           8  1000_8   505.40   2018-10-08     1000\n",
       "9           9  1000_9   345.54   2018-09-03     1000"
      ]
     },
     "execution_count": 11,
     "metadata": {},
     "output_type": "execute_result"
    }
   ],
   "source": [
    "internet = pd.read_csv('/datasets/internet.csv')\n",
    "internet.head(10)\n"
   ]
  },
  {
   "cell_type": "code",
   "execution_count": 12,
   "metadata": {},
   "outputs": [
    {
     "name": "stdout",
     "output_type": "stream",
     "text": [
      "<class 'pandas.core.frame.DataFrame'>\n",
      "RangeIndex: 149396 entries, 0 to 149395\n",
      "Data columns (total 5 columns):\n",
      " #   Column        Non-Null Count   Dtype  \n",
      "---  ------        --------------   -----  \n",
      " 0   Unnamed: 0    149396 non-null  int64  \n",
      " 1   id            149396 non-null  object \n",
      " 2   mb_used       149396 non-null  float64\n",
      " 3   session_date  149396 non-null  object \n",
      " 4   user_id       149396 non-null  int64  \n",
      "dtypes: float64(1), int64(2), object(2)\n",
      "memory usage: 5.7+ MB\n"
     ]
    }
   ],
   "source": [
    "internet.info()"
   ]
  },
  {
   "cell_type": "code",
   "execution_count": 13,
   "metadata": {},
   "outputs": [
    {
     "data": {
      "text/html": [
       "<div>\n",
       "<style scoped>\n",
       "    .dataframe tbody tr th:only-of-type {\n",
       "        vertical-align: middle;\n",
       "    }\n",
       "\n",
       "    .dataframe tbody tr th {\n",
       "        vertical-align: top;\n",
       "    }\n",
       "\n",
       "    .dataframe thead th {\n",
       "        text-align: right;\n",
       "    }\n",
       "</style>\n",
       "<table border=\"1\" class=\"dataframe\">\n",
       "  <thead>\n",
       "    <tr style=\"text-align: right;\">\n",
       "      <th></th>\n",
       "      <th>Unnamed: 0</th>\n",
       "      <th>mb_used</th>\n",
       "      <th>user_id</th>\n",
       "    </tr>\n",
       "  </thead>\n",
       "  <tbody>\n",
       "    <tr>\n",
       "      <th>count</th>\n",
       "      <td>149396.000000</td>\n",
       "      <td>149396.000000</td>\n",
       "      <td>149396.000000</td>\n",
       "    </tr>\n",
       "    <tr>\n",
       "      <th>mean</th>\n",
       "      <td>74697.500000</td>\n",
       "      <td>370.192426</td>\n",
       "      <td>1252.099842</td>\n",
       "    </tr>\n",
       "    <tr>\n",
       "      <th>std</th>\n",
       "      <td>43127.054745</td>\n",
       "      <td>278.300951</td>\n",
       "      <td>144.050823</td>\n",
       "    </tr>\n",
       "    <tr>\n",
       "      <th>min</th>\n",
       "      <td>0.000000</td>\n",
       "      <td>0.000000</td>\n",
       "      <td>1000.000000</td>\n",
       "    </tr>\n",
       "    <tr>\n",
       "      <th>25%</th>\n",
       "      <td>37348.750000</td>\n",
       "      <td>138.187500</td>\n",
       "      <td>1130.000000</td>\n",
       "    </tr>\n",
       "    <tr>\n",
       "      <th>50%</th>\n",
       "      <td>74697.500000</td>\n",
       "      <td>348.015000</td>\n",
       "      <td>1251.000000</td>\n",
       "    </tr>\n",
       "    <tr>\n",
       "      <th>75%</th>\n",
       "      <td>112046.250000</td>\n",
       "      <td>559.552500</td>\n",
       "      <td>1380.000000</td>\n",
       "    </tr>\n",
       "    <tr>\n",
       "      <th>max</th>\n",
       "      <td>149395.000000</td>\n",
       "      <td>1724.830000</td>\n",
       "      <td>1499.000000</td>\n",
       "    </tr>\n",
       "  </tbody>\n",
       "</table>\n",
       "</div>"
      ],
      "text/plain": [
       "          Unnamed: 0        mb_used        user_id\n",
       "count  149396.000000  149396.000000  149396.000000\n",
       "mean    74697.500000     370.192426    1252.099842\n",
       "std     43127.054745     278.300951     144.050823\n",
       "min         0.000000       0.000000    1000.000000\n",
       "25%     37348.750000     138.187500    1130.000000\n",
       "50%     74697.500000     348.015000    1251.000000\n",
       "75%    112046.250000     559.552500    1380.000000\n",
       "max    149395.000000    1724.830000    1499.000000"
      ]
     },
     "execution_count": 13,
     "metadata": {},
     "output_type": "execute_result"
    }
   ],
   "source": [
    "internet.describe()"
   ]
  },
  {
   "cell_type": "code",
   "execution_count": 14,
   "metadata": {},
   "outputs": [
    {
     "data": {
      "text/plain": [
       "Unnamed: 0      0\n",
       "id              0\n",
       "mb_used         0\n",
       "session_date    0\n",
       "user_id         0\n",
       "dtype: int64"
      ]
     },
     "execution_count": 14,
     "metadata": {},
     "output_type": "execute_result"
    }
   ],
   "source": [
    "internet.isnull().sum()"
   ]
  },
  {
   "cell_type": "markdown",
   "metadata": {},
   "source": [
    ">1. В internet аналогичная ситуация с user_id (как и в calls), что тоже логично, т.к. пользователь часто выполняет больше одной сессии за период\n",
    ">2. Mb_used - по условию интернет-трафик тоже округляется в большую сторону до Гб, однако уже после завершения периода действия тарифа. Соответственно, округлим уже при подсчете трафика по месяцам. Тип данных пока соответствует действительности. После округления логично привести к типу int\n",
    ">3. Session_date - аналогичная ситуация, как и с call_date - приведем данные к временному типу\n",
    ">4. Пропущенные значения отсутствуют  \n",
    ">5. Здесь еще смущает название признака id. Предполагается, что это id - уникальный номер сессии. Однако название признака полностью совпадает с названием уникального номера звонка в датасете calls. Для решения задачи нам эти признаки не нужны, поэтому позволим себе не переименовывать их. Если бы ситуация была противоположной, нужно было бы дать более корректные названия."
   ]
  },
  {
   "cell_type": "markdown",
   "metadata": {},
   "source": [
    "### Датасет messages"
   ]
  },
  {
   "cell_type": "code",
   "execution_count": 15,
   "metadata": {},
   "outputs": [
    {
     "data": {
      "text/html": [
       "<div>\n",
       "<style scoped>\n",
       "    .dataframe tbody tr th:only-of-type {\n",
       "        vertical-align: middle;\n",
       "    }\n",
       "\n",
       "    .dataframe tbody tr th {\n",
       "        vertical-align: top;\n",
       "    }\n",
       "\n",
       "    .dataframe thead th {\n",
       "        text-align: right;\n",
       "    }\n",
       "</style>\n",
       "<table border=\"1\" class=\"dataframe\">\n",
       "  <thead>\n",
       "    <tr style=\"text-align: right;\">\n",
       "      <th></th>\n",
       "      <th>id</th>\n",
       "      <th>message_date</th>\n",
       "      <th>user_id</th>\n",
       "    </tr>\n",
       "  </thead>\n",
       "  <tbody>\n",
       "    <tr>\n",
       "      <th>0</th>\n",
       "      <td>1000_0</td>\n",
       "      <td>2018-06-27</td>\n",
       "      <td>1000</td>\n",
       "    </tr>\n",
       "    <tr>\n",
       "      <th>1</th>\n",
       "      <td>1000_1</td>\n",
       "      <td>2018-10-08</td>\n",
       "      <td>1000</td>\n",
       "    </tr>\n",
       "    <tr>\n",
       "      <th>2</th>\n",
       "      <td>1000_2</td>\n",
       "      <td>2018-08-04</td>\n",
       "      <td>1000</td>\n",
       "    </tr>\n",
       "    <tr>\n",
       "      <th>3</th>\n",
       "      <td>1000_3</td>\n",
       "      <td>2018-06-16</td>\n",
       "      <td>1000</td>\n",
       "    </tr>\n",
       "    <tr>\n",
       "      <th>4</th>\n",
       "      <td>1000_4</td>\n",
       "      <td>2018-12-05</td>\n",
       "      <td>1000</td>\n",
       "    </tr>\n",
       "    <tr>\n",
       "      <th>5</th>\n",
       "      <td>1000_5</td>\n",
       "      <td>2018-06-20</td>\n",
       "      <td>1000</td>\n",
       "    </tr>\n",
       "    <tr>\n",
       "      <th>6</th>\n",
       "      <td>1000_6</td>\n",
       "      <td>2018-11-19</td>\n",
       "      <td>1000</td>\n",
       "    </tr>\n",
       "    <tr>\n",
       "      <th>7</th>\n",
       "      <td>1000_7</td>\n",
       "      <td>2018-10-29</td>\n",
       "      <td>1000</td>\n",
       "    </tr>\n",
       "    <tr>\n",
       "      <th>8</th>\n",
       "      <td>1000_8</td>\n",
       "      <td>2018-06-25</td>\n",
       "      <td>1000</td>\n",
       "    </tr>\n",
       "    <tr>\n",
       "      <th>9</th>\n",
       "      <td>1000_9</td>\n",
       "      <td>2018-12-18</td>\n",
       "      <td>1000</td>\n",
       "    </tr>\n",
       "  </tbody>\n",
       "</table>\n",
       "</div>"
      ],
      "text/plain": [
       "       id message_date  user_id\n",
       "0  1000_0   2018-06-27     1000\n",
       "1  1000_1   2018-10-08     1000\n",
       "2  1000_2   2018-08-04     1000\n",
       "3  1000_3   2018-06-16     1000\n",
       "4  1000_4   2018-12-05     1000\n",
       "5  1000_5   2018-06-20     1000\n",
       "6  1000_6   2018-11-19     1000\n",
       "7  1000_7   2018-10-29     1000\n",
       "8  1000_8   2018-06-25     1000\n",
       "9  1000_9   2018-12-18     1000"
      ]
     },
     "execution_count": 15,
     "metadata": {},
     "output_type": "execute_result"
    }
   ],
   "source": [
    "messages = pd.read_csv('/datasets/messages.csv')\n",
    "messages.head(10)\n"
   ]
  },
  {
   "cell_type": "code",
   "execution_count": 16,
   "metadata": {},
   "outputs": [
    {
     "name": "stdout",
     "output_type": "stream",
     "text": [
      "<class 'pandas.core.frame.DataFrame'>\n",
      "RangeIndex: 123036 entries, 0 to 123035\n",
      "Data columns (total 3 columns):\n",
      " #   Column        Non-Null Count   Dtype \n",
      "---  ------        --------------   ----- \n",
      " 0   id            123036 non-null  object\n",
      " 1   message_date  123036 non-null  object\n",
      " 2   user_id       123036 non-null  int64 \n",
      "dtypes: int64(1), object(2)\n",
      "memory usage: 2.8+ MB\n"
     ]
    }
   ],
   "source": [
    "messages.info()"
   ]
  },
  {
   "cell_type": "code",
   "execution_count": 17,
   "metadata": {},
   "outputs": [
    {
     "data": {
      "text/plain": [
       "id              0\n",
       "message_date    0\n",
       "user_id         0\n",
       "dtype: int64"
      ]
     },
     "execution_count": 17,
     "metadata": {},
     "output_type": "execute_result"
    }
   ],
   "source": [
    "messages.isnull().sum()"
   ]
  },
  {
   "cell_type": "markdown",
   "metadata": {},
   "source": [
    ">1. В messages аналогичная ситуация с users_id (как и в calls, internet). Логикак такая же, так что в этом нет ничего страшного \n",
    ">2. Message_date - привeдем к временному типу\n",
    ">3. Пропущенные значения отсутствуют  \n",
    ">4. Смущает также название признака id. Переименовывать не будем, как и в варианте с internet"
   ]
  },
  {
   "cell_type": "markdown",
   "metadata": {},
   "source": [
    "### Датасет tariffs"
   ]
  },
  {
   "cell_type": "code",
   "execution_count": 18,
   "metadata": {},
   "outputs": [
    {
     "data": {
      "text/html": [
       "<div>\n",
       "<style scoped>\n",
       "    .dataframe tbody tr th:only-of-type {\n",
       "        vertical-align: middle;\n",
       "    }\n",
       "\n",
       "    .dataframe tbody tr th {\n",
       "        vertical-align: top;\n",
       "    }\n",
       "\n",
       "    .dataframe thead th {\n",
       "        text-align: right;\n",
       "    }\n",
       "</style>\n",
       "<table border=\"1\" class=\"dataframe\">\n",
       "  <thead>\n",
       "    <tr style=\"text-align: right;\">\n",
       "      <th></th>\n",
       "      <th>messages_included</th>\n",
       "      <th>mb_per_month_included</th>\n",
       "      <th>minutes_included</th>\n",
       "      <th>rub_monthly_fee</th>\n",
       "      <th>rub_per_gb</th>\n",
       "      <th>rub_per_message</th>\n",
       "      <th>rub_per_minute</th>\n",
       "      <th>tariff_name</th>\n",
       "    </tr>\n",
       "  </thead>\n",
       "  <tbody>\n",
       "    <tr>\n",
       "      <th>0</th>\n",
       "      <td>50</td>\n",
       "      <td>15360</td>\n",
       "      <td>500</td>\n",
       "      <td>550</td>\n",
       "      <td>200</td>\n",
       "      <td>3</td>\n",
       "      <td>3</td>\n",
       "      <td>smart</td>\n",
       "    </tr>\n",
       "    <tr>\n",
       "      <th>1</th>\n",
       "      <td>1000</td>\n",
       "      <td>30720</td>\n",
       "      <td>3000</td>\n",
       "      <td>1950</td>\n",
       "      <td>150</td>\n",
       "      <td>1</td>\n",
       "      <td>1</td>\n",
       "      <td>ultra</td>\n",
       "    </tr>\n",
       "  </tbody>\n",
       "</table>\n",
       "</div>"
      ],
      "text/plain": [
       "   messages_included  mb_per_month_included  minutes_included  \\\n",
       "0                 50                  15360               500   \n",
       "1               1000                  30720              3000   \n",
       "\n",
       "   rub_monthly_fee  rub_per_gb  rub_per_message  rub_per_minute tariff_name  \n",
       "0              550         200                3               3       smart  \n",
       "1             1950         150                1               1       ultra  "
      ]
     },
     "execution_count": 18,
     "metadata": {},
     "output_type": "execute_result"
    }
   ],
   "source": [
    "tariffs = pd.read_csv('/datasets/tariffs.csv')\n",
    "tariffs.head()\n"
   ]
  },
  {
   "cell_type": "code",
   "execution_count": 19,
   "metadata": {},
   "outputs": [
    {
     "name": "stdout",
     "output_type": "stream",
     "text": [
      "<class 'pandas.core.frame.DataFrame'>\n",
      "RangeIndex: 2 entries, 0 to 1\n",
      "Data columns (total 8 columns):\n",
      " #   Column                 Non-Null Count  Dtype \n",
      "---  ------                 --------------  ----- \n",
      " 0   messages_included      2 non-null      int64 \n",
      " 1   mb_per_month_included  2 non-null      int64 \n",
      " 2   minutes_included       2 non-null      int64 \n",
      " 3   rub_monthly_fee        2 non-null      int64 \n",
      " 4   rub_per_gb             2 non-null      int64 \n",
      " 5   rub_per_message        2 non-null      int64 \n",
      " 6   rub_per_minute         2 non-null      int64 \n",
      " 7   tariff_name            2 non-null      object\n",
      "dtypes: int64(7), object(1)\n",
      "memory usage: 256.0+ bytes\n"
     ]
    }
   ],
   "source": [
    "tariffs.info()"
   ]
  },
  {
   "cell_type": "markdown",
   "metadata": {},
   "source": [
    ">1. Удобная таблица с информацией по всем тарифам.  \n",
    ">2. При присоединении таблицы скорее всего потребуется перименовать столбец tariff_name  \n",
    ">3. Стоит перевести mb_per_month_included в гб.  \n",
    ">4. Дубликаты и пропуски отсутствуют (это видно и визуально)"
   ]
  },
  {
   "cell_type": "markdown",
   "metadata": {},
   "source": [
    "## Подготовка данных"
   ]
  },
  {
   "cell_type": "markdown",
   "metadata": {},
   "source": [
    "### Количество звонков и израсходованных минут"
   ]
  },
  {
   "cell_type": "code",
   "execution_count": 20,
   "metadata": {},
   "outputs": [],
   "source": [
    "#округляем duration\n",
    "calls['duration'] = calls['duration'].apply(np.ceil).astype(int)\n",
    "\n",
    "# приводим call_date к нужному типу данных\n",
    "calls['call_date'] = pd.to_datetime(calls['call_date'], format='%Y-%m-%dT%H:%M:%S')\n",
    "#calls.head()\n",
    "#calls.info()"
   ]
  },
  {
   "cell_type": "code",
   "execution_count": 21,
   "metadata": {},
   "outputs": [],
   "source": [
    "#добавляем столбец с месяцем\n",
    "calls['month'] = calls['call_date'].dt.month\n",
    "#calls.head()"
   ]
  },
  {
   "cell_type": "markdown",
   "metadata": {},
   "source": [
    "Посчитаем для каждого пользователя количество сделанных звонков и израсходованных минут разговора по месяцам"
   ]
  },
  {
   "cell_type": "code",
   "execution_count": 22,
   "metadata": {},
   "outputs": [],
   "source": [
    "calls_grouped = calls.groupby(['user_id', 'month']).agg({'duration': ['count', 'sum']}).reset_index()\n",
    "#calls_grouped.head()"
   ]
  },
  {
   "cell_type": "code",
   "execution_count": 23,
   "metadata": {},
   "outputs": [],
   "source": [
    "#переименовываем столбцы\n",
    "calls_grouped.columns = ['user_id', 'month', 'calls_number', 'calls_duration']\n",
    "#calls_grouped.info()\n",
    "#calls_grouped.head()"
   ]
  },
  {
   "cell_type": "markdown",
   "metadata": {},
   "source": [
    "### Объем израсходованного интернет-трафика по месяцам"
   ]
  },
  {
   "cell_type": "code",
   "execution_count": 24,
   "metadata": {},
   "outputs": [],
   "source": [
    "#привели данные в session_date к временному типу\n",
    "internet['session_date'] = pd.to_datetime(internet['session_date'], format='%Y-%m-%dT%H:%M:%S')\n",
    "#internet.info()"
   ]
  },
  {
   "cell_type": "code",
   "execution_count": 25,
   "metadata": {},
   "outputs": [],
   "source": [
    "#добавим столбец с месяцем\n",
    "internet['month'] = internet['session_date'].dt.month\n",
    "#internet.head(10)"
   ]
  },
  {
   "cell_type": "code",
   "execution_count": 26,
   "metadata": {},
   "outputs": [],
   "source": [
    "# считаем для каждого пользователя объем израсходованного трафика по месяцам\n",
    "internet_grouped = internet.groupby(['user_id','month']).agg({'mb_used': 'sum'}).reset_index()\n",
    "\n",
    "# переводим в Гб и переименовываем колонку\n",
    "internet_grouped['mb_used'] = internet_grouped['mb_used'] / 1024 \n",
    "internet_grouped = internet_grouped.rename(columns={'mb_used': 'gb_used'})\n",
    "\n",
    "# округляем до целых в большую сторону\n",
    "internet_grouped['gb_used'] = internet_grouped['gb_used'].apply(np.ceil).astype(int)\n",
    "\n",
    "#internet_grouped.head()\n",
    "#internet_grouped.info()\n"
   ]
  },
  {
   "cell_type": "markdown",
   "metadata": {},
   "source": [
    "### Количество отправленных сообщений по месяцам"
   ]
  },
  {
   "cell_type": "code",
   "execution_count": 27,
   "metadata": {},
   "outputs": [],
   "source": [
    "#Приводим нужный столбец к временному типу данных\n",
    "messages['message_date'] = pd.to_datetime(messages['message_date'], format='%Y-%m-%dT%H:%M:%S')\n",
    "#messages.info()"
   ]
  },
  {
   "cell_type": "code",
   "execution_count": 28,
   "metadata": {},
   "outputs": [],
   "source": [
    "#добавим месяц\n",
    "messages['month'] = messages['message_date'].dt.month\n",
    "#messages.head()"
   ]
  },
  {
   "cell_type": "code",
   "execution_count": 29,
   "metadata": {},
   "outputs": [],
   "source": [
    "#считаем для каждого пользователя количество отправленных сообщений по месяцам\n",
    "messages_grouped = messages.groupby(['user_id','month']).agg({'id': 'count'}).reset_index()\n",
    "\n",
    "#переименуем столбцы\n",
    "messages_grouped = messages_grouped.rename(columns={'id': 'messages'})\n",
    "\n",
    "#messages_grouped.head()"
   ]
  },
  {
   "cell_type": "markdown",
   "metadata": {},
   "source": [
    "### Датасет с тарифами"
   ]
  },
  {
   "cell_type": "code",
   "execution_count": 30,
   "metadata": {},
   "outputs": [],
   "source": [
    "#Переименуем столбец tariff_name в tariff, чтобы потом склеить\n",
    "tariffs = tariffs.rename(columns={'tariff_name': 'tariff'})\n",
    "\n",
    "#Переведем mb_per_month_included в gb и переименуем столбец\n",
    "\n",
    "tariffs['mb_per_month_included'] = tariffs['mb_per_month_included'] / 1024\n",
    "tariffs = tariffs.rename(columns={'mb_per_month_included': 'gb_per_month_included'})\n",
    "tariffs['gb_per_month_included'] = tariffs['gb_per_month_included'].astype(int)\n",
    "#display(tariffs)"
   ]
  },
  {
   "cell_type": "markdown",
   "metadata": {},
   "source": [
    "### Помесячная выручка с каждого пользователя"
   ]
  },
  {
   "cell_type": "markdown",
   "metadata": {},
   "source": [
    "Объединим все наши таблицы в одну, чтобы рассчитать помесячную выручку с каждого пользователя"
   ]
  },
  {
   "cell_type": "code",
   "execution_count": 31,
   "metadata": {},
   "outputs": [],
   "source": [
    "users_1 = calls_grouped.merge(internet_grouped, on = ['user_id', 'month'], how = 'outer').merge(messages_grouped, on = ['user_id', 'month'], how = 'outer').fillna(0)\n",
    "#display(users_1)\n",
    "#users_1.info()\n",
    "users_2 = users_1.merge(users, on = 'user_id', how = 'left')\n",
    "#display(users_2)\n",
    "users_final = users_2.merge(tariffs, on = 'tariff', how = 'left')\n",
    "#users_final.head()\n",
    "#users_final.info()\n"
   ]
  },
  {
   "cell_type": "code",
   "execution_count": 32,
   "metadata": {},
   "outputs": [],
   "source": [
    "#вернем изменившийся при слиянии тип данных в столбцах обратно на int\n",
    "users_final['gb_used'] = users_final['gb_used'].astype(int)\n",
    "users_final['messages'] = users_final['messages'].astype(int)\n",
    "users_final['calls_number'] = users_final['calls_number'].astype(int)\n",
    "users_final['calls_duration'] = users_final['calls_duration'].astype(int)\n",
    "#users_final.info()"
   ]
  },
  {
   "cell_type": "code",
   "execution_count": 33,
   "metadata": {},
   "outputs": [
    {
     "data": {
      "text/html": [
       "<div>\n",
       "<style scoped>\n",
       "    .dataframe tbody tr th:only-of-type {\n",
       "        vertical-align: middle;\n",
       "    }\n",
       "\n",
       "    .dataframe tbody tr th {\n",
       "        vertical-align: top;\n",
       "    }\n",
       "\n",
       "    .dataframe thead th {\n",
       "        text-align: right;\n",
       "    }\n",
       "</style>\n",
       "<table border=\"1\" class=\"dataframe\">\n",
       "  <thead>\n",
       "    <tr style=\"text-align: right;\">\n",
       "      <th></th>\n",
       "      <th>user_id</th>\n",
       "      <th>month</th>\n",
       "      <th>calls_number</th>\n",
       "      <th>calls_duration</th>\n",
       "      <th>gb_used</th>\n",
       "      <th>messages</th>\n",
       "      <th>age</th>\n",
       "      <th>churn_date</th>\n",
       "      <th>city</th>\n",
       "      <th>first_name</th>\n",
       "      <th>...</th>\n",
       "      <th>reg_date</th>\n",
       "      <th>tariff</th>\n",
       "      <th>messages_included</th>\n",
       "      <th>gb_per_month_included</th>\n",
       "      <th>minutes_included</th>\n",
       "      <th>rub_monthly_fee</th>\n",
       "      <th>rub_per_gb</th>\n",
       "      <th>rub_per_message</th>\n",
       "      <th>rub_per_minute</th>\n",
       "      <th>income_per_user</th>\n",
       "    </tr>\n",
       "  </thead>\n",
       "  <tbody>\n",
       "    <tr>\n",
       "      <th>0</th>\n",
       "      <td>1000</td>\n",
       "      <td>5</td>\n",
       "      <td>22</td>\n",
       "      <td>159</td>\n",
       "      <td>3</td>\n",
       "      <td>22</td>\n",
       "      <td>52</td>\n",
       "      <td>NaN</td>\n",
       "      <td>Краснодар</td>\n",
       "      <td>Рафаил</td>\n",
       "      <td>...</td>\n",
       "      <td>2018-05-25</td>\n",
       "      <td>ultra</td>\n",
       "      <td>1000</td>\n",
       "      <td>30</td>\n",
       "      <td>3000</td>\n",
       "      <td>1950</td>\n",
       "      <td>150</td>\n",
       "      <td>1</td>\n",
       "      <td>1</td>\n",
       "      <td>1950</td>\n",
       "    </tr>\n",
       "    <tr>\n",
       "      <th>1</th>\n",
       "      <td>1000</td>\n",
       "      <td>6</td>\n",
       "      <td>43</td>\n",
       "      <td>172</td>\n",
       "      <td>23</td>\n",
       "      <td>60</td>\n",
       "      <td>52</td>\n",
       "      <td>NaN</td>\n",
       "      <td>Краснодар</td>\n",
       "      <td>Рафаил</td>\n",
       "      <td>...</td>\n",
       "      <td>2018-05-25</td>\n",
       "      <td>ultra</td>\n",
       "      <td>1000</td>\n",
       "      <td>30</td>\n",
       "      <td>3000</td>\n",
       "      <td>1950</td>\n",
       "      <td>150</td>\n",
       "      <td>1</td>\n",
       "      <td>1</td>\n",
       "      <td>1950</td>\n",
       "    </tr>\n",
       "    <tr>\n",
       "      <th>2</th>\n",
       "      <td>1000</td>\n",
       "      <td>7</td>\n",
       "      <td>47</td>\n",
       "      <td>340</td>\n",
       "      <td>14</td>\n",
       "      <td>75</td>\n",
       "      <td>52</td>\n",
       "      <td>NaN</td>\n",
       "      <td>Краснодар</td>\n",
       "      <td>Рафаил</td>\n",
       "      <td>...</td>\n",
       "      <td>2018-05-25</td>\n",
       "      <td>ultra</td>\n",
       "      <td>1000</td>\n",
       "      <td>30</td>\n",
       "      <td>3000</td>\n",
       "      <td>1950</td>\n",
       "      <td>150</td>\n",
       "      <td>1</td>\n",
       "      <td>1</td>\n",
       "      <td>1950</td>\n",
       "    </tr>\n",
       "    <tr>\n",
       "      <th>3</th>\n",
       "      <td>1000</td>\n",
       "      <td>8</td>\n",
       "      <td>52</td>\n",
       "      <td>408</td>\n",
       "      <td>14</td>\n",
       "      <td>81</td>\n",
       "      <td>52</td>\n",
       "      <td>NaN</td>\n",
       "      <td>Краснодар</td>\n",
       "      <td>Рафаил</td>\n",
       "      <td>...</td>\n",
       "      <td>2018-05-25</td>\n",
       "      <td>ultra</td>\n",
       "      <td>1000</td>\n",
       "      <td>30</td>\n",
       "      <td>3000</td>\n",
       "      <td>1950</td>\n",
       "      <td>150</td>\n",
       "      <td>1</td>\n",
       "      <td>1</td>\n",
       "      <td>1950</td>\n",
       "    </tr>\n",
       "    <tr>\n",
       "      <th>4</th>\n",
       "      <td>1000</td>\n",
       "      <td>9</td>\n",
       "      <td>58</td>\n",
       "      <td>466</td>\n",
       "      <td>15</td>\n",
       "      <td>57</td>\n",
       "      <td>52</td>\n",
       "      <td>NaN</td>\n",
       "      <td>Краснодар</td>\n",
       "      <td>Рафаил</td>\n",
       "      <td>...</td>\n",
       "      <td>2018-05-25</td>\n",
       "      <td>ultra</td>\n",
       "      <td>1000</td>\n",
       "      <td>30</td>\n",
       "      <td>3000</td>\n",
       "      <td>1950</td>\n",
       "      <td>150</td>\n",
       "      <td>1</td>\n",
       "      <td>1</td>\n",
       "      <td>1950</td>\n",
       "    </tr>\n",
       "    <tr>\n",
       "      <th>5</th>\n",
       "      <td>1000</td>\n",
       "      <td>10</td>\n",
       "      <td>57</td>\n",
       "      <td>350</td>\n",
       "      <td>15</td>\n",
       "      <td>73</td>\n",
       "      <td>52</td>\n",
       "      <td>NaN</td>\n",
       "      <td>Краснодар</td>\n",
       "      <td>Рафаил</td>\n",
       "      <td>...</td>\n",
       "      <td>2018-05-25</td>\n",
       "      <td>ultra</td>\n",
       "      <td>1000</td>\n",
       "      <td>30</td>\n",
       "      <td>3000</td>\n",
       "      <td>1950</td>\n",
       "      <td>150</td>\n",
       "      <td>1</td>\n",
       "      <td>1</td>\n",
       "      <td>1950</td>\n",
       "    </tr>\n",
       "    <tr>\n",
       "      <th>6</th>\n",
       "      <td>1000</td>\n",
       "      <td>11</td>\n",
       "      <td>43</td>\n",
       "      <td>338</td>\n",
       "      <td>15</td>\n",
       "      <td>58</td>\n",
       "      <td>52</td>\n",
       "      <td>NaN</td>\n",
       "      <td>Краснодар</td>\n",
       "      <td>Рафаил</td>\n",
       "      <td>...</td>\n",
       "      <td>2018-05-25</td>\n",
       "      <td>ultra</td>\n",
       "      <td>1000</td>\n",
       "      <td>30</td>\n",
       "      <td>3000</td>\n",
       "      <td>1950</td>\n",
       "      <td>150</td>\n",
       "      <td>1</td>\n",
       "      <td>1</td>\n",
       "      <td>1950</td>\n",
       "    </tr>\n",
       "    <tr>\n",
       "      <th>7</th>\n",
       "      <td>1000</td>\n",
       "      <td>12</td>\n",
       "      <td>46</td>\n",
       "      <td>333</td>\n",
       "      <td>10</td>\n",
       "      <td>70</td>\n",
       "      <td>52</td>\n",
       "      <td>NaN</td>\n",
       "      <td>Краснодар</td>\n",
       "      <td>Рафаил</td>\n",
       "      <td>...</td>\n",
       "      <td>2018-05-25</td>\n",
       "      <td>ultra</td>\n",
       "      <td>1000</td>\n",
       "      <td>30</td>\n",
       "      <td>3000</td>\n",
       "      <td>1950</td>\n",
       "      <td>150</td>\n",
       "      <td>1</td>\n",
       "      <td>1</td>\n",
       "      <td>1950</td>\n",
       "    </tr>\n",
       "    <tr>\n",
       "      <th>8</th>\n",
       "      <td>1001</td>\n",
       "      <td>11</td>\n",
       "      <td>59</td>\n",
       "      <td>430</td>\n",
       "      <td>18</td>\n",
       "      <td>0</td>\n",
       "      <td>41</td>\n",
       "      <td>NaN</td>\n",
       "      <td>Москва</td>\n",
       "      <td>Иван</td>\n",
       "      <td>...</td>\n",
       "      <td>2018-11-01</td>\n",
       "      <td>smart</td>\n",
       "      <td>50</td>\n",
       "      <td>15</td>\n",
       "      <td>500</td>\n",
       "      <td>550</td>\n",
       "      <td>200</td>\n",
       "      <td>3</td>\n",
       "      <td>3</td>\n",
       "      <td>1150</td>\n",
       "    </tr>\n",
       "    <tr>\n",
       "      <th>9</th>\n",
       "      <td>1001</td>\n",
       "      <td>12</td>\n",
       "      <td>63</td>\n",
       "      <td>414</td>\n",
       "      <td>14</td>\n",
       "      <td>0</td>\n",
       "      <td>41</td>\n",
       "      <td>NaN</td>\n",
       "      <td>Москва</td>\n",
       "      <td>Иван</td>\n",
       "      <td>...</td>\n",
       "      <td>2018-11-01</td>\n",
       "      <td>smart</td>\n",
       "      <td>50</td>\n",
       "      <td>15</td>\n",
       "      <td>500</td>\n",
       "      <td>550</td>\n",
       "      <td>200</td>\n",
       "      <td>3</td>\n",
       "      <td>3</td>\n",
       "      <td>550</td>\n",
       "    </tr>\n",
       "  </tbody>\n",
       "</table>\n",
       "<p>10 rows × 21 columns</p>\n",
       "</div>"
      ],
      "text/plain": [
       "   user_id  month  calls_number  calls_duration  gb_used  messages  age  \\\n",
       "0     1000      5            22             159        3        22   52   \n",
       "1     1000      6            43             172       23        60   52   \n",
       "2     1000      7            47             340       14        75   52   \n",
       "3     1000      8            52             408       14        81   52   \n",
       "4     1000      9            58             466       15        57   52   \n",
       "5     1000     10            57             350       15        73   52   \n",
       "6     1000     11            43             338       15        58   52   \n",
       "7     1000     12            46             333       10        70   52   \n",
       "8     1001     11            59             430       18         0   41   \n",
       "9     1001     12            63             414       14         0   41   \n",
       "\n",
       "  churn_date       city first_name  ...    reg_date tariff messages_included  \\\n",
       "0        NaN  Краснодар     Рафаил  ...  2018-05-25  ultra              1000   \n",
       "1        NaN  Краснодар     Рафаил  ...  2018-05-25  ultra              1000   \n",
       "2        NaN  Краснодар     Рафаил  ...  2018-05-25  ultra              1000   \n",
       "3        NaN  Краснодар     Рафаил  ...  2018-05-25  ultra              1000   \n",
       "4        NaN  Краснодар     Рафаил  ...  2018-05-25  ultra              1000   \n",
       "5        NaN  Краснодар     Рафаил  ...  2018-05-25  ultra              1000   \n",
       "6        NaN  Краснодар     Рафаил  ...  2018-05-25  ultra              1000   \n",
       "7        NaN  Краснодар     Рафаил  ...  2018-05-25  ultra              1000   \n",
       "8        NaN     Москва       Иван  ...  2018-11-01  smart                50   \n",
       "9        NaN     Москва       Иван  ...  2018-11-01  smart                50   \n",
       "\n",
       "   gb_per_month_included  minutes_included  rub_monthly_fee  rub_per_gb  \\\n",
       "0                     30              3000             1950         150   \n",
       "1                     30              3000             1950         150   \n",
       "2                     30              3000             1950         150   \n",
       "3                     30              3000             1950         150   \n",
       "4                     30              3000             1950         150   \n",
       "5                     30              3000             1950         150   \n",
       "6                     30              3000             1950         150   \n",
       "7                     30              3000             1950         150   \n",
       "8                     15               500              550         200   \n",
       "9                     15               500              550         200   \n",
       "\n",
       "   rub_per_message  rub_per_minute  income_per_user  \n",
       "0                1               1             1950  \n",
       "1                1               1             1950  \n",
       "2                1               1             1950  \n",
       "3                1               1             1950  \n",
       "4                1               1             1950  \n",
       "5                1               1             1950  \n",
       "6                1               1             1950  \n",
       "7                1               1             1950  \n",
       "8                3               3             1150  \n",
       "9                3               3              550  \n",
       "\n",
       "[10 rows x 21 columns]"
      ]
     },
     "execution_count": 33,
     "metadata": {},
     "output_type": "execute_result"
    }
   ],
   "source": [
    "#Посчитаем выручку\n",
    "users_final['income_per_user'] = (\n",
    "    np.maximum((users_final['calls_duration'] - users_final['minutes_included']),0) * users_final['rub_per_minute']\n",
    "    + np.maximum((users_final['messages'] - users_final['messages_included']),0) * users_final['rub_per_message']\n",
    "    + np.maximum((users_final['gb_used'] - users_final['gb_per_month_included']),0) * users_final['rub_per_gb']\n",
    "    + users_final['rub_monthly_fee']\n",
    ")\n",
    "\n",
    "users_final.head(10)"
   ]
  },
  {
   "cell_type": "markdown",
   "metadata": {},
   "source": [
    "## Анализ данных\n",
    "\n",
    "1. Описать поведение клиентов оператора, исходя из выборки.\n",
    "2. Проанализироать сколько минут разговора, сколько сообщений и какой объём интернет-трафика требуется пользователям каждого тарифа в месяц\n",
    "3. Посчитать среднее количество, дисперсию и стандартное отклонение.\n",
    "4. Построить гистограммы.\n",
    "5. Описать распределения."
   ]
  },
  {
   "cell_type": "markdown",
   "metadata": {},
   "source": [
    "### Сводное"
   ]
  },
  {
   "cell_type": "markdown",
   "metadata": {},
   "source": [
    "#### Выведем сводную таблицу"
   ]
  },
  {
   "cell_type": "code",
   "execution_count": 34,
   "metadata": {},
   "outputs": [
    {
     "data": {
      "text/html": [
       "<div>\n",
       "<style scoped>\n",
       "    .dataframe tbody tr th:only-of-type {\n",
       "        vertical-align: middle;\n",
       "    }\n",
       "\n",
       "    .dataframe tbody tr th {\n",
       "        vertical-align: top;\n",
       "    }\n",
       "\n",
       "    .dataframe thead th {\n",
       "        text-align: right;\n",
       "    }\n",
       "</style>\n",
       "<table border=\"1\" class=\"dataframe\">\n",
       "  <thead>\n",
       "    <tr style=\"text-align: right;\">\n",
       "      <th></th>\n",
       "      <th></th>\n",
       "      <th></th>\n",
       "      <th>calls_duration</th>\n",
       "      <th>gb_used</th>\n",
       "      <th>income_per_user</th>\n",
       "      <th>messages</th>\n",
       "    </tr>\n",
       "    <tr>\n",
       "      <th>tariff</th>\n",
       "      <th>user_id</th>\n",
       "      <th>month</th>\n",
       "      <th></th>\n",
       "      <th></th>\n",
       "      <th></th>\n",
       "      <th></th>\n",
       "    </tr>\n",
       "  </thead>\n",
       "  <tbody>\n",
       "    <tr>\n",
       "      <th rowspan=\"15\" valign=\"top\">smart</th>\n",
       "      <th rowspan=\"2\" valign=\"top\">1001</th>\n",
       "      <th>11</th>\n",
       "      <td>430</td>\n",
       "      <td>18</td>\n",
       "      <td>1150</td>\n",
       "      <td>0</td>\n",
       "    </tr>\n",
       "    <tr>\n",
       "      <th>12</th>\n",
       "      <td>414</td>\n",
       "      <td>14</td>\n",
       "      <td>550</td>\n",
       "      <td>0</td>\n",
       "    </tr>\n",
       "    <tr>\n",
       "      <th rowspan=\"7\" valign=\"top\">1002</th>\n",
       "      <th>6</th>\n",
       "      <td>117</td>\n",
       "      <td>11</td>\n",
       "      <td>550</td>\n",
       "      <td>4</td>\n",
       "    </tr>\n",
       "    <tr>\n",
       "      <th>7</th>\n",
       "      <td>214</td>\n",
       "      <td>18</td>\n",
       "      <td>1150</td>\n",
       "      <td>11</td>\n",
       "    </tr>\n",
       "    <tr>\n",
       "      <th>8</th>\n",
       "      <td>289</td>\n",
       "      <td>20</td>\n",
       "      <td>1550</td>\n",
       "      <td>13</td>\n",
       "    </tr>\n",
       "    <tr>\n",
       "      <th>9</th>\n",
       "      <td>206</td>\n",
       "      <td>17</td>\n",
       "      <td>950</td>\n",
       "      <td>4</td>\n",
       "    </tr>\n",
       "    <tr>\n",
       "      <th>10</th>\n",
       "      <td>212</td>\n",
       "      <td>14</td>\n",
       "      <td>550</td>\n",
       "      <td>10</td>\n",
       "    </tr>\n",
       "    <tr>\n",
       "      <th>11</th>\n",
       "      <td>243</td>\n",
       "      <td>19</td>\n",
       "      <td>1350</td>\n",
       "      <td>16</td>\n",
       "    </tr>\n",
       "    <tr>\n",
       "      <th>12</th>\n",
       "      <td>236</td>\n",
       "      <td>18</td>\n",
       "      <td>1150</td>\n",
       "      <td>12</td>\n",
       "    </tr>\n",
       "    <tr>\n",
       "      <th rowspan=\"6\" valign=\"top\">1005</th>\n",
       "      <th>1</th>\n",
       "      <td>95</td>\n",
       "      <td>3</td>\n",
       "      <td>550</td>\n",
       "      <td>7</td>\n",
       "    </tr>\n",
       "    <tr>\n",
       "      <th>2</th>\n",
       "      <td>456</td>\n",
       "      <td>8</td>\n",
       "      <td>550</td>\n",
       "      <td>38</td>\n",
       "    </tr>\n",
       "    <tr>\n",
       "      <th>3</th>\n",
       "      <td>606</td>\n",
       "      <td>11</td>\n",
       "      <td>886</td>\n",
       "      <td>56</td>\n",
       "    </tr>\n",
       "    <tr>\n",
       "      <th>4</th>\n",
       "      <td>712</td>\n",
       "      <td>10</td>\n",
       "      <td>1186</td>\n",
       "      <td>41</td>\n",
       "    </tr>\n",
       "    <tr>\n",
       "      <th>5</th>\n",
       "      <td>595</td>\n",
       "      <td>8</td>\n",
       "      <td>835</td>\n",
       "      <td>42</td>\n",
       "    </tr>\n",
       "    <tr>\n",
       "      <th>6</th>\n",
       "      <td>612</td>\n",
       "      <td>10</td>\n",
       "      <td>886</td>\n",
       "      <td>47</td>\n",
       "    </tr>\n",
       "  </tbody>\n",
       "</table>\n",
       "</div>"
      ],
      "text/plain": [
       "                      calls_duration  gb_used  income_per_user  messages\n",
       "tariff user_id month                                                    \n",
       "smart  1001    11                430       18             1150         0\n",
       "               12                414       14              550         0\n",
       "       1002    6                 117       11              550         4\n",
       "               7                 214       18             1150        11\n",
       "               8                 289       20             1550        13\n",
       "               9                 206       17              950         4\n",
       "               10                212       14              550        10\n",
       "               11                243       19             1350        16\n",
       "               12                236       18             1150        12\n",
       "       1005    1                  95        3              550         7\n",
       "               2                 456        8              550        38\n",
       "               3                 606       11              886        56\n",
       "               4                 712       10             1186        41\n",
       "               5                 595        8              835        42\n",
       "               6                 612       10              886        47"
      ]
     },
     "execution_count": 34,
     "metadata": {},
     "output_type": "execute_result"
    }
   ],
   "source": [
    "users_tarif = users_final.pivot_table(index = ['tariff', 'user_id', 'month'], values = ['calls_duration', 'gb_used', 'messages', 'income_per_user'])\n",
    "users_tarif.head(15)"
   ]
  },
  {
   "cell_type": "code",
   "execution_count": 35,
   "metadata": {},
   "outputs": [],
   "source": [
    "# сделаем таблицу среднего расхода звонков каждого уникального пользователя в месяц\n",
    "users_tarif_mean_per_user = users_tarif.pivot_table(index = ['tariff', 'user_id'], values = ['calls_duration', 'gb_used', 'messages', 'income_per_user'], aggfunc = 'mean')\n",
    "#users_tarif_mean_per_user.head()\n",
    "#users_tarif_mean_per_user.tail()"
   ]
  },
  {
   "cell_type": "code",
   "execution_count": 36,
   "metadata": {},
   "outputs": [
    {
     "data": {
      "text/html": [
       "<div>\n",
       "<style scoped>\n",
       "    .dataframe tbody tr th:only-of-type {\n",
       "        vertical-align: middle;\n",
       "    }\n",
       "\n",
       "    .dataframe tbody tr th {\n",
       "        vertical-align: top;\n",
       "    }\n",
       "\n",
       "    .dataframe thead tr th {\n",
       "        text-align: left;\n",
       "    }\n",
       "\n",
       "    .dataframe thead tr:last-of-type th {\n",
       "        text-align: right;\n",
       "    }\n",
       "</style>\n",
       "<table border=\"1\" class=\"dataframe\">\n",
       "  <thead>\n",
       "    <tr>\n",
       "      <th></th>\n",
       "      <th colspan=\"8\" halign=\"left\">calls_duration</th>\n",
       "      <th colspan=\"2\" halign=\"left\">gb_used</th>\n",
       "      <th>...</th>\n",
       "      <th colspan=\"2\" halign=\"left\">income_per_user</th>\n",
       "      <th colspan=\"8\" halign=\"left\">messages</th>\n",
       "    </tr>\n",
       "    <tr>\n",
       "      <th></th>\n",
       "      <th>count</th>\n",
       "      <th>mean</th>\n",
       "      <th>std</th>\n",
       "      <th>min</th>\n",
       "      <th>25%</th>\n",
       "      <th>50%</th>\n",
       "      <th>75%</th>\n",
       "      <th>max</th>\n",
       "      <th>count</th>\n",
       "      <th>mean</th>\n",
       "      <th>...</th>\n",
       "      <th>75%</th>\n",
       "      <th>max</th>\n",
       "      <th>count</th>\n",
       "      <th>mean</th>\n",
       "      <th>std</th>\n",
       "      <th>min</th>\n",
       "      <th>25%</th>\n",
       "      <th>50%</th>\n",
       "      <th>75%</th>\n",
       "      <th>max</th>\n",
       "    </tr>\n",
       "    <tr>\n",
       "      <th>tariff</th>\n",
       "      <th></th>\n",
       "      <th></th>\n",
       "      <th></th>\n",
       "      <th></th>\n",
       "      <th></th>\n",
       "      <th></th>\n",
       "      <th></th>\n",
       "      <th></th>\n",
       "      <th></th>\n",
       "      <th></th>\n",
       "      <th></th>\n",
       "      <th></th>\n",
       "      <th></th>\n",
       "      <th></th>\n",
       "      <th></th>\n",
       "      <th></th>\n",
       "      <th></th>\n",
       "      <th></th>\n",
       "      <th></th>\n",
       "      <th></th>\n",
       "      <th></th>\n",
       "    </tr>\n",
       "  </thead>\n",
       "  <tbody>\n",
       "    <tr>\n",
       "      <th>smart</th>\n",
       "      <td>350.0</td>\n",
       "      <td>419.634803</td>\n",
       "      <td>145.031543</td>\n",
       "      <td>0.0</td>\n",
       "      <td>316.886364</td>\n",
       "      <td>425.062500</td>\n",
       "      <td>519.508333</td>\n",
       "      <td>891.500000</td>\n",
       "      <td>350.0</td>\n",
       "      <td>16.308519</td>\n",
       "      <td>...</td>\n",
       "      <td>1667.250</td>\n",
       "      <td>4333.333333</td>\n",
       "      <td>350.0</td>\n",
       "      <td>32.352078</td>\n",
       "      <td>26.512448</td>\n",
       "      <td>0.0</td>\n",
       "      <td>11.0</td>\n",
       "      <td>27.75</td>\n",
       "      <td>48.00</td>\n",
       "      <td>118.0</td>\n",
       "    </tr>\n",
       "    <tr>\n",
       "      <th>ultra</th>\n",
       "      <td>148.0</td>\n",
       "      <td>527.821819</td>\n",
       "      <td>281.786359</td>\n",
       "      <td>0.0</td>\n",
       "      <td>325.437500</td>\n",
       "      <td>514.541667</td>\n",
       "      <td>746.972222</td>\n",
       "      <td>1179.363636</td>\n",
       "      <td>148.0</td>\n",
       "      <td>19.588446</td>\n",
       "      <td>...</td>\n",
       "      <td>1990.625</td>\n",
       "      <td>3225.000000</td>\n",
       "      <td>148.0</td>\n",
       "      <td>54.030743</td>\n",
       "      <td>46.366246</td>\n",
       "      <td>0.0</td>\n",
       "      <td>17.0</td>\n",
       "      <td>45.50</td>\n",
       "      <td>84.25</td>\n",
       "      <td>192.0</td>\n",
       "    </tr>\n",
       "  </tbody>\n",
       "</table>\n",
       "<p>2 rows × 32 columns</p>\n",
       "</div>"
      ],
      "text/plain": [
       "       calls_duration                                                       \\\n",
       "                count        mean         std  min         25%         50%   \n",
       "tariff                                                                       \n",
       "smart           350.0  419.634803  145.031543  0.0  316.886364  425.062500   \n",
       "ultra           148.0  527.821819  281.786359  0.0  325.437500  514.541667   \n",
       "\n",
       "                                gb_used             ... income_per_user  \\\n",
       "               75%          max   count       mean  ...             75%   \n",
       "tariff                                              ...                   \n",
       "smart   519.508333   891.500000   350.0  16.308519  ...        1667.250   \n",
       "ultra   746.972222  1179.363636   148.0  19.588446  ...        1990.625   \n",
       "\n",
       "                    messages                                                 \\\n",
       "                max    count       mean        std  min   25%    50%    75%   \n",
       "tariff                                                                        \n",
       "smart   4333.333333    350.0  32.352078  26.512448  0.0  11.0  27.75  48.00   \n",
       "ultra   3225.000000    148.0  54.030743  46.366246  0.0  17.0  45.50  84.25   \n",
       "\n",
       "               \n",
       "          max  \n",
       "tariff         \n",
       "smart   118.0  \n",
       "ultra   192.0  \n",
       "\n",
       "[2 rows x 32 columns]"
      ]
     },
     "execution_count": 36,
     "metadata": {},
     "output_type": "execute_result"
    }
   ],
   "source": [
    "users_tarif_mean_per_user.groupby('tariff').describe()"
   ]
  },
  {
   "cell_type": "markdown",
   "metadata": {},
   "source": [
    "> Тариф **smart** популярней **ultra** более чем в 2 раза. Экономить хотят большинство. Посмотрим, как обстоят дела на самом деле"
   ]
  },
  {
   "cell_type": "code",
   "execution_count": 37,
   "metadata": {},
   "outputs": [
    {
     "data": {
      "text/html": [
       "<div>\n",
       "<style scoped>\n",
       "    .dataframe tbody tr th:only-of-type {\n",
       "        vertical-align: middle;\n",
       "    }\n",
       "\n",
       "    .dataframe tbody tr th {\n",
       "        vertical-align: top;\n",
       "    }\n",
       "\n",
       "    .dataframe thead th {\n",
       "        text-align: right;\n",
       "    }\n",
       "</style>\n",
       "<table border=\"1\" class=\"dataframe\">\n",
       "  <thead>\n",
       "    <tr style=\"text-align: right;\">\n",
       "      <th></th>\n",
       "      <th>calls_duration</th>\n",
       "      <th>gb_used</th>\n",
       "      <th>messages</th>\n",
       "    </tr>\n",
       "    <tr>\n",
       "      <th>tariff</th>\n",
       "      <th></th>\n",
       "      <th></th>\n",
       "      <th></th>\n",
       "    </tr>\n",
       "  </thead>\n",
       "  <tbody>\n",
       "    <tr>\n",
       "      <th>smart</th>\n",
       "      <td>422</td>\n",
       "      <td>17</td>\n",
       "      <td>28</td>\n",
       "    </tr>\n",
       "    <tr>\n",
       "      <th>ultra</th>\n",
       "      <td>518</td>\n",
       "      <td>19</td>\n",
       "      <td>38</td>\n",
       "    </tr>\n",
       "  </tbody>\n",
       "</table>\n",
       "</div>"
      ],
      "text/plain": [
       "        calls_duration  gb_used  messages\n",
       "tariff                                   \n",
       "smart              422       17        28\n",
       "ultra              518       19        38"
      ]
     },
     "metadata": {},
     "output_type": "display_data"
    }
   ],
   "source": [
    "users_tarif_mean_total = users_tarif.pivot_table(index = ['tariff'], values = ['calls_duration', 'gb_used', 'messages'], aggfunc = 'median')\n",
    "display(users_tarif_mean_total)\n",
    "                                                "
   ]
  },
  {
   "cell_type": "code",
   "execution_count": 38,
   "metadata": {},
   "outputs": [
    {
     "name": "stdout",
     "output_type": "stream",
     "text": [
      "В среднем каждому пользователю на тарифе smart требуется: 422 минут, 17 гигабайт и 28 сообщения.\n",
      "В среднем каждому пользователю на тарифе ultra требуется: 518 минут, 19 гигабайт и 38 сообщений.\n"
     ]
    }
   ],
   "source": [
    "print('В среднем каждому пользователю на тарифе smart требуется:', users_tarif_mean_total.loc['smart', 'calls_duration'], 'минут,', users_tarif_mean_total.loc['smart', 'gb_used'], 'гигабайт и', users_tarif_mean_total.loc['smart', 'messages'], 'сообщения.')\n",
    "print('В среднем каждому пользователю на тарифе ultra требуется:', users_tarif_mean_total.loc['ultra', 'calls_duration'], 'минут,', users_tarif_mean_total.loc['ultra', 'gb_used'], 'гигабайт и', users_tarif_mean_total.loc['ultra', 'messages'], 'сообщений.')\n"
   ]
  },
  {
   "cell_type": "markdown",
   "metadata": {},
   "source": [
    "#### Дисперсия"
   ]
  },
  {
   "cell_type": "code",
   "execution_count": 39,
   "metadata": {},
   "outputs": [
    {
     "data": {
      "text/html": [
       "<div>\n",
       "<style scoped>\n",
       "    .dataframe tbody tr th:only-of-type {\n",
       "        vertical-align: middle;\n",
       "    }\n",
       "\n",
       "    .dataframe tbody tr th {\n",
       "        vertical-align: top;\n",
       "    }\n",
       "\n",
       "    .dataframe thead th {\n",
       "        text-align: right;\n",
       "    }\n",
       "</style>\n",
       "<table border=\"1\" class=\"dataframe\">\n",
       "  <thead>\n",
       "    <tr style=\"text-align: right;\">\n",
       "      <th></th>\n",
       "      <th>tariff</th>\n",
       "      <th>calls_duration</th>\n",
       "      <th>gb_used</th>\n",
       "      <th>messages</th>\n",
       "    </tr>\n",
       "  </thead>\n",
       "  <tbody>\n",
       "    <tr>\n",
       "      <th>0</th>\n",
       "      <td>smart</td>\n",
       "      <td>21034.148607</td>\n",
       "      <td>12.261503</td>\n",
       "      <td>702.909910</td>\n",
       "    </tr>\n",
       "    <tr>\n",
       "      <th>1</th>\n",
       "      <td>ultra</td>\n",
       "      <td>79403.551850</td>\n",
       "      <td>65.871402</td>\n",
       "      <td>2149.828793</td>\n",
       "    </tr>\n",
       "  </tbody>\n",
       "</table>\n",
       "</div>"
      ],
      "text/plain": [
       "  tariff  calls_duration    gb_used     messages\n",
       "0  smart    21034.148607  12.261503   702.909910\n",
       "1  ultra    79403.551850  65.871402  2149.828793"
      ]
     },
     "execution_count": 39,
     "metadata": {},
     "output_type": "execute_result"
    }
   ],
   "source": [
    "users_tarif_variance = users_tarif_mean_per_user.groupby('tariff')['calls_duration', 'gb_used', 'messages'].var().reset_index()\n",
    "users_tarif_variance\n"
   ]
  },
  {
   "cell_type": "markdown",
   "metadata": {},
   "source": [
    "#### Стандартное отклонение"
   ]
  },
  {
   "cell_type": "code",
   "execution_count": 40,
   "metadata": {},
   "outputs": [
    {
     "data": {
      "text/html": [
       "<div>\n",
       "<style scoped>\n",
       "    .dataframe tbody tr th:only-of-type {\n",
       "        vertical-align: middle;\n",
       "    }\n",
       "\n",
       "    .dataframe tbody tr th {\n",
       "        vertical-align: top;\n",
       "    }\n",
       "\n",
       "    .dataframe thead th {\n",
       "        text-align: right;\n",
       "    }\n",
       "</style>\n",
       "<table border=\"1\" class=\"dataframe\">\n",
       "  <thead>\n",
       "    <tr style=\"text-align: right;\">\n",
       "      <th></th>\n",
       "      <th>tariff</th>\n",
       "      <th>calls_duration</th>\n",
       "      <th>gb_used</th>\n",
       "      <th>messages</th>\n",
       "    </tr>\n",
       "  </thead>\n",
       "  <tbody>\n",
       "    <tr>\n",
       "      <th>0</th>\n",
       "      <td>smart</td>\n",
       "      <td>145.031543</td>\n",
       "      <td>3.501643</td>\n",
       "      <td>26.512448</td>\n",
       "    </tr>\n",
       "    <tr>\n",
       "      <th>1</th>\n",
       "      <td>ultra</td>\n",
       "      <td>281.786359</td>\n",
       "      <td>8.116120</td>\n",
       "      <td>46.366246</td>\n",
       "    </tr>\n",
       "  </tbody>\n",
       "</table>\n",
       "</div>"
      ],
      "text/plain": [
       "  tariff  calls_duration   gb_used   messages\n",
       "0  smart      145.031543  3.501643  26.512448\n",
       "1  ultra      281.786359  8.116120  46.366246"
      ]
     },
     "execution_count": 40,
     "metadata": {},
     "output_type": "execute_result"
    }
   ],
   "source": [
    "users_tarif_std = users_tarif_mean_per_user.groupby('tariff')['calls_duration', 'gb_used', 'messages'].std().reset_index()\n",
    "users_tarif_std"
   ]
  },
  {
   "cell_type": "markdown",
   "metadata": {},
   "source": [
    "### Анализ ежемесячного расходования услуг пользователями по каждому тарифу"
   ]
  },
  {
   "cell_type": "markdown",
   "metadata": {},
   "source": [
    "#### Анализ ежемесячного расходования минут "
   ]
  },
  {
   "cell_type": "code",
   "execution_count": 41,
   "metadata": {},
   "outputs": [
    {
     "data": {
      "text/html": [
       "<div>\n",
       "<style scoped>\n",
       "    .dataframe tbody tr th:only-of-type {\n",
       "        vertical-align: middle;\n",
       "    }\n",
       "\n",
       "    .dataframe tbody tr th {\n",
       "        vertical-align: top;\n",
       "    }\n",
       "\n",
       "    .dataframe thead th {\n",
       "        text-align: right;\n",
       "    }\n",
       "</style>\n",
       "<table border=\"1\" class=\"dataframe\">\n",
       "  <thead>\n",
       "    <tr style=\"text-align: right;\">\n",
       "      <th></th>\n",
       "      <th>count</th>\n",
       "      <th>mean</th>\n",
       "      <th>std</th>\n",
       "      <th>min</th>\n",
       "      <th>25%</th>\n",
       "      <th>50%</th>\n",
       "      <th>75%</th>\n",
       "      <th>max</th>\n",
       "    </tr>\n",
       "    <tr>\n",
       "      <th>tariff</th>\n",
       "      <th></th>\n",
       "      <th></th>\n",
       "      <th></th>\n",
       "      <th></th>\n",
       "      <th></th>\n",
       "      <th></th>\n",
       "      <th></th>\n",
       "      <th></th>\n",
       "    </tr>\n",
       "  </thead>\n",
       "  <tbody>\n",
       "    <tr>\n",
       "      <th>smart</th>\n",
       "      <td>350.0</td>\n",
       "      <td>419.634803</td>\n",
       "      <td>145.031543</td>\n",
       "      <td>0.0</td>\n",
       "      <td>316.886364</td>\n",
       "      <td>425.062500</td>\n",
       "      <td>519.508333</td>\n",
       "      <td>891.500000</td>\n",
       "    </tr>\n",
       "    <tr>\n",
       "      <th>ultra</th>\n",
       "      <td>148.0</td>\n",
       "      <td>527.821819</td>\n",
       "      <td>281.786359</td>\n",
       "      <td>0.0</td>\n",
       "      <td>325.437500</td>\n",
       "      <td>514.541667</td>\n",
       "      <td>746.972222</td>\n",
       "      <td>1179.363636</td>\n",
       "    </tr>\n",
       "  </tbody>\n",
       "</table>\n",
       "</div>"
      ],
      "text/plain": [
       "        count        mean         std  min         25%         50%  \\\n",
       "tariff                                                               \n",
       "smart   350.0  419.634803  145.031543  0.0  316.886364  425.062500   \n",
       "ultra   148.0  527.821819  281.786359  0.0  325.437500  514.541667   \n",
       "\n",
       "               75%          max  \n",
       "tariff                           \n",
       "smart   519.508333   891.500000  \n",
       "ultra   746.972222  1179.363636  "
      ]
     },
     "execution_count": 41,
     "metadata": {},
     "output_type": "execute_result"
    }
   ],
   "source": [
    "users_tarif_mean_per_user.groupby('tariff')['calls_duration'].describe()"
   ]
  },
  {
   "cell_type": "code",
   "execution_count": 42,
   "metadata": {},
   "outputs": [
    {
     "data": {
      "image/png": "[encoded data removed]",
      "text/plain": [
       "<Figure size 432x288 with 1 Axes>"
      ]
     },
     "metadata": {
      "needs_background": "light"
     },
     "output_type": "display_data"
    }
   ],
   "source": [
    "users_tarif_mean_per_user.groupby('tariff')['calls_duration'].hist(bins=10, range=(0, 1200), alpha=0.3)\n",
    "plt.title('Гистограмма распределения расхода минут пользователей в месяц по каждому тарифу')\n",
    "plt.xlabel('расход минут в месяц, шт.')\n",
    "plt.ylabel('количество пользователей, чел.')\n",
    "plt.legend(['Smart', 'Ultra'])\n",
    "plt.show()\n"
   ]
  },
  {
   "cell_type": "markdown",
   "metadata": {},
   "source": [
    ">1. Около 34% пользователей тарифа **smart** \"переговаривают\" свой тариф, а вот пользователи **ultra** в тариф укладываются на 100%\n",
    ">2. На тарифе **smart** большинство пользователей (почти 45%) расходуют в месяц от 400 до 480 минут.\n",
    ">3. Около 65% пользователей **smart** в тариф по звонкам укладываются\n",
    ">4. На тарифе **ultra** пользователи в основном тратят от 500 до 600 минут в месяц, а также от 300 до 500 минут. Как видно, в среднем все не только укладываются в пакет, но и не \"договаривают\" почти 60% минут, за которые заплачено.\n",
    ">5. 30% пользователей **ultra** переплачивают за звонки, поскольку на самом деле укладываются в пакет **smart**, который в 3,5 раза дороже. Но судить рано, посмотрим, как обстоят дела с другими услугами"
   ]
  },
  {
   "cell_type": "markdown",
   "metadata": {},
   "source": [
    "#### Анализ ежемесячного расходования интренет-трафика"
   ]
  },
  {
   "cell_type": "code",
   "execution_count": 43,
   "metadata": {},
   "outputs": [
    {
     "data": {
      "text/html": [
       "<div>\n",
       "<style scoped>\n",
       "    .dataframe tbody tr th:only-of-type {\n",
       "        vertical-align: middle;\n",
       "    }\n",
       "\n",
       "    .dataframe tbody tr th {\n",
       "        vertical-align: top;\n",
       "    }\n",
       "\n",
       "    .dataframe thead th {\n",
       "        text-align: right;\n",
       "    }\n",
       "</style>\n",
       "<table border=\"1\" class=\"dataframe\">\n",
       "  <thead>\n",
       "    <tr style=\"text-align: right;\">\n",
       "      <th></th>\n",
       "      <th>count</th>\n",
       "      <th>mean</th>\n",
       "      <th>std</th>\n",
       "      <th>min</th>\n",
       "      <th>25%</th>\n",
       "      <th>50%</th>\n",
       "      <th>75%</th>\n",
       "      <th>max</th>\n",
       "    </tr>\n",
       "    <tr>\n",
       "      <th>tariff</th>\n",
       "      <th></th>\n",
       "      <th></th>\n",
       "      <th></th>\n",
       "      <th></th>\n",
       "      <th></th>\n",
       "      <th></th>\n",
       "      <th></th>\n",
       "      <th></th>\n",
       "    </tr>\n",
       "  </thead>\n",
       "  <tbody>\n",
       "    <tr>\n",
       "      <th>smart</th>\n",
       "      <td>350.0</td>\n",
       "      <td>16.308519</td>\n",
       "      <td>3.501643</td>\n",
       "      <td>5.727273</td>\n",
       "      <td>14.000000</td>\n",
       "      <td>16.333333</td>\n",
       "      <td>18.691667</td>\n",
       "      <td>27.25</td>\n",
       "    </tr>\n",
       "    <tr>\n",
       "      <th>ultra</th>\n",
       "      <td>148.0</td>\n",
       "      <td>19.588446</td>\n",
       "      <td>8.116120</td>\n",
       "      <td>0.000000</td>\n",
       "      <td>14.727273</td>\n",
       "      <td>18.775000</td>\n",
       "      <td>25.687500</td>\n",
       "      <td>38.50</td>\n",
       "    </tr>\n",
       "  </tbody>\n",
       "</table>\n",
       "</div>"
      ],
      "text/plain": [
       "        count       mean       std       min        25%        50%        75%  \\\n",
       "tariff                                                                          \n",
       "smart   350.0  16.308519  3.501643  5.727273  14.000000  16.333333  18.691667   \n",
       "ultra   148.0  19.588446  8.116120  0.000000  14.727273  18.775000  25.687500   \n",
       "\n",
       "          max  \n",
       "tariff         \n",
       "smart   27.25  \n",
       "ultra   38.50  "
      ]
     },
     "execution_count": 43,
     "metadata": {},
     "output_type": "execute_result"
    }
   ],
   "source": [
    "users_tarif_mean_per_user.groupby('tariff')['gb_used'].describe()"
   ]
  },
  {
   "cell_type": "code",
   "execution_count": 44,
   "metadata": {},
   "outputs": [
    {
     "data": {
      "image/png": "[encoded data removed]",
      "text/plain": [
       "<Figure size 432x288 with 1 Axes>"
      ]
     },
     "metadata": {
      "needs_background": "light"
     },
     "output_type": "display_data"
    }
   ],
   "source": [
    "users_tarif_mean_per_user.groupby('tariff')['gb_used'].hist(bins=5, range=(0, 40), alpha=0.3)\n",
    "plt.title('Гистограмма распределения расхода интернет-трафика пользователей в месяц по каждому тарифу')\n",
    "plt.xlabel('расход трафика в месяц, Гб.')\n",
    "plt.ylabel('количество пользователей, чел.')\n",
    "plt.legend(['Smart', 'Ultra'])\n",
    "plt.show()"
   ]
  },
  {
   "cell_type": "markdown",
   "metadata": {},
   "source": [
    ">1. На обоих тарифах в основном тратят от 16 до 24 гб\n",
    ">2. На тарифе **smart** больше половины людей (около 60%) расходует трафик сверх своего пакета.\n",
    ">3. На тарифе **ultra** не укладываются в свой пакет 14% пользователей. А остальный 86% в пакет укладываются.\n",
    ">4. Порядка 37% пользователей тарифа **ultra** укладываются в дешевый пакет **smart** по количеству расходуемого интернета. Остальные 49% укладываются именно в свой тариф, а 14% (как было упомянуто в п.3.) дорогой тариф вообще превышают.\n",
    ">5. На ультре все 25-30 Гб расходуют меньше 20% пользователей. \n",
    ">6. Пока что реальное преимущество ультры для пользователя только в количестве Гб"
   ]
  },
  {
   "cell_type": "markdown",
   "metadata": {},
   "source": [
    "#### Анализ ежемесячного количества отправленных сообщений"
   ]
  },
  {
   "cell_type": "code",
   "execution_count": 45,
   "metadata": {},
   "outputs": [
    {
     "data": {
      "text/html": [
       "<div>\n",
       "<style scoped>\n",
       "    .dataframe tbody tr th:only-of-type {\n",
       "        vertical-align: middle;\n",
       "    }\n",
       "\n",
       "    .dataframe tbody tr th {\n",
       "        vertical-align: top;\n",
       "    }\n",
       "\n",
       "    .dataframe thead th {\n",
       "        text-align: right;\n",
       "    }\n",
       "</style>\n",
       "<table border=\"1\" class=\"dataframe\">\n",
       "  <thead>\n",
       "    <tr style=\"text-align: right;\">\n",
       "      <th></th>\n",
       "      <th>count</th>\n",
       "      <th>mean</th>\n",
       "      <th>std</th>\n",
       "      <th>min</th>\n",
       "      <th>25%</th>\n",
       "      <th>50%</th>\n",
       "      <th>75%</th>\n",
       "      <th>max</th>\n",
       "    </tr>\n",
       "    <tr>\n",
       "      <th>tariff</th>\n",
       "      <th></th>\n",
       "      <th></th>\n",
       "      <th></th>\n",
       "      <th></th>\n",
       "      <th></th>\n",
       "      <th></th>\n",
       "      <th></th>\n",
       "      <th></th>\n",
       "    </tr>\n",
       "  </thead>\n",
       "  <tbody>\n",
       "    <tr>\n",
       "      <th>smart</th>\n",
       "      <td>350.0</td>\n",
       "      <td>32.352078</td>\n",
       "      <td>26.512448</td>\n",
       "      <td>0.0</td>\n",
       "      <td>11.0</td>\n",
       "      <td>27.75</td>\n",
       "      <td>48.00</td>\n",
       "      <td>118.0</td>\n",
       "    </tr>\n",
       "    <tr>\n",
       "      <th>ultra</th>\n",
       "      <td>148.0</td>\n",
       "      <td>54.030743</td>\n",
       "      <td>46.366246</td>\n",
       "      <td>0.0</td>\n",
       "      <td>17.0</td>\n",
       "      <td>45.50</td>\n",
       "      <td>84.25</td>\n",
       "      <td>192.0</td>\n",
       "    </tr>\n",
       "  </tbody>\n",
       "</table>\n",
       "</div>"
      ],
      "text/plain": [
       "        count       mean        std  min   25%    50%    75%    max\n",
       "tariff                                                             \n",
       "smart   350.0  32.352078  26.512448  0.0  11.0  27.75  48.00  118.0\n",
       "ultra   148.0  54.030743  46.366246  0.0  17.0  45.50  84.25  192.0"
      ]
     },
     "execution_count": 45,
     "metadata": {},
     "output_type": "execute_result"
    }
   ],
   "source": [
    "users_tarif_mean_per_user.groupby('tariff')['messages'].describe()"
   ]
  },
  {
   "cell_type": "code",
   "execution_count": 46,
   "metadata": {},
   "outputs": [
    {
     "data": {
      "image/png": "[encoded data removed]",
      "text/plain": [
       "<Figure size 432x288 with 1 Axes>"
      ]
     },
     "metadata": {
      "needs_background": "light"
     },
     "output_type": "display_data"
    }
   ],
   "source": [
    "users_tarif_mean_per_user.groupby('tariff')['messages'].hist(bins=10, range=(0, 200), alpha=0.3)\n",
    "plt.title('Гистограмма распределения количества отправленных сообщений пользователем в месяц по каждому тарифу')\n",
    "plt.xlabel('количество сообщений в месяц, Гб.')\n",
    "plt.ylabel('количество пользователей, чел.')\n",
    "plt.legend(['Smart', 'Ultra'])\n",
    "plt.show()"
   ]
  },
  {
   "cell_type": "markdown",
   "metadata": {},
   "source": [
    ">1. На обоих тарифах в лидеры выбивается до 20 сообщений в месяц. Это 37% на тарифе **smart** и 27% на **ultra**\n",
    ">2. Больше 70% людей укладываются в положенный лимит в 50 сообщений. Остальные 30 его превышают. На тарифе **smart** примерно трети людей свойственно превышение лимита по своему тарифу\n",
    ">3. **Ультра** молодцы. Укладываются на 100% в свои 3000 сообщений. Однако максимальное количество сообщений по выборке это 192. То есть на самом деле используется менее 6,4 % от всего количества сообщений. \n",
    ">4. Около 55% пользователей тарифа **Ultra** укладываются по сообщениям в дешевый тариф. 35% отправляют до 100 сообщений в месяц, и только порядка 10% могут похвастаться количеством сообщений после 100. Однако их число очень невелико. "
   ]
  },
  {
   "cell_type": "markdown",
   "metadata": {},
   "source": [
    ">Пока кажется, что за тариф ультра люди переплачивают, не используя все услуги, которые включены в пакет.  \n",
    ">\n",
    ">На тарифе ультра \"Мегалайн\" несет меньший фактический расход за предоставление услуг, которые в пакет включены. Опцию 30 Гб интернет-трафика используют довольно активно, но на 100% все равно всего около 15%. Соответственно за остальные Гб компании платить не надо. Смс не расходуются практически на 96%, а звонки на 60%. Довольно неплохо для компании. Пользователь платит в 3,5 раза больше, а фактических затрат на него не сильно больше, чем на самом простом тарифе за 550 рублей."
   ]
  },
  {
   "cell_type": "markdown",
   "metadata": {},
   "source": [
    "## Гипотезы"
   ]
  },
  {
   "cell_type": "markdown",
   "metadata": {},
   "source": [
    "Проверим гипотезы:\n",
    "1. Средняя выручка пользователей тарифов «Ультра» и «Смарт» различаются;\n",
    "2. Средняя выручка пользователи из Москвы отличается от выручки пользователей из других регионов.  \n",
    "\n",
    "Будем использовать метод ttest_ind, т.к в обоих случаях нам надо проверить гипотезу о равенстве средних двух генеральных совокупностей"
   ]
  },
  {
   "cell_type": "markdown",
   "metadata": {},
   "source": [
    "#### Гипотеза №1 - Средняя выручка пользователей тарифов \"Ультра\" и \"Смарт\" различаются"
   ]
  },
  {
   "cell_type": "markdown",
   "metadata": {},
   "source": [
    "За нулевую гипотезу (Н0) принимаем форумлировку: \"средняя выручка пользователей тарифов \"Ультра\" и \"Смарт\" равна.  \n",
    "Альтернативная гипотеза (H1): \"средняя выручка пользователей тарифов \"Ультра\" и \"Смарт\" различаются.  "
   ]
  },
  {
   "cell_type": "code",
   "execution_count": 47,
   "metadata": {},
   "outputs": [
    {
     "name": "stdout",
     "output_type": "stream",
     "text": [
      "Средняя выручка по пользователю тарифа Smart: 1177.1166666666668\n",
      "Средняя выручка по пользователю тарифа Ultra: 1950.0\n",
      "p-значение: 2.084961899583595e-59\n",
      "Отвергаем нулевую гипотезу\n"
     ]
    }
   ],
   "source": [
    "\n",
    "smart_income = users_tarif_mean_per_user.query('tariff == \"smart\"')['income_per_user']\n",
    "ultra_income = users_tarif_mean_per_user.query('tariff == \"ultra\"')['income_per_user']\n",
    "\n",
    "#smart_income.describe()\n",
    "#ultra_income.describe()\n",
    "\n",
    "print('Средняя выручка по пользователю тарифа Smart:', smart_income.median())\n",
    "print('Средняя выручка по пользователю тарифа Ultra:', ultra_income.median())\n",
    "\n",
    "alpha = 0.05\n",
    "\n",
    "results = st.ttest_ind(smart_income, ultra_income, equal_var = False) #добавим параметр equal_var = False, т.к. средние отклонения сильно различаются\n",
    "print('p-значение:', results.pvalue)\n",
    "\n",
    "if results.pvalue < alpha:\n",
    "    print(\"Отвергаем нулевую гипотезу\")\n",
    "else:\n",
    "    print(\"Не получилось отвергнуть нулевую гипотезу\")\n",
    "\n"
   ]
  },
  {
   "cell_type": "markdown",
   "metadata": {},
   "source": [
    "#### Гипотеза №2 - Средняя выручка пользователя из Москвы отличается от выручки пользователей из других регионов.\n",
    "\n",
    "\n"
   ]
  },
  {
   "cell_type": "markdown",
   "metadata": {},
   "source": [
    "За нулевую гипотезу (Н0) принимаем форумлировку: \"средняя выручка пользователей из Москвы равна выручке пользователей из других регионов\"  \n",
    "Альтернативная гипотеза (H1): \"средняя выручка пользователей из Москвы и выручка пользователей из других регионов отличаются\" "
   ]
  },
  {
   "cell_type": "code",
   "execution_count": 48,
   "metadata": {},
   "outputs": [],
   "source": [
    "moscow = users_final.query('city == \"Москва\"')\n",
    "moscow_income_per_user = moscow.pivot_table(index = ['user_id'], values = ['income_per_user'], aggfunc = 'median')\n",
    "#display(moscow_income_per_user)\n",
    "#moscow_income_per_user.describe()"
   ]
  },
  {
   "cell_type": "code",
   "execution_count": 49,
   "metadata": {},
   "outputs": [],
   "source": [
    "region = users_final.query('city != \"Москва\"')\n",
    "region_income_per_user = region.pivot_table(index = ['user_id'], values = ['income_per_user'], aggfunc = 'median')\n",
    "#display(region_income_per_user)\n",
    "#region_income_per_user.describe()"
   ]
  },
  {
   "cell_type": "code",
   "execution_count": 50,
   "metadata": {},
   "outputs": [
    {
     "name": "stdout",
     "output_type": "stream",
     "text": [
      "Средняя выручка по пользователю из Москвы: income_per_user    1559.0\n",
      "dtype: float64\n",
      "Средняя выручка по пользователю из регионов: income_per_user    1550.0\n",
      "dtype: float64\n",
      "p-значение: [0.32359779]\n",
      "Не получилось отвергнуть нулевую гипотезу\n"
     ]
    }
   ],
   "source": [
    "print('Средняя выручка по пользователю из Москвы:', moscow_income_per_user.median())\n",
    "print('Средняя выручка по пользователю из регионов:', region_income_per_user.median()) \n",
    "\n",
    "alpha = 0.05\n",
    "\n",
    "results = st.ttest_ind(moscow_income_per_user, region_income_per_user) #убираем параметр equal_var = False, т.к. средние отклонения не сильно различаются\n",
    "print('p-значение:', results.pvalue)\n",
    "\n",
    "if results.pvalue < alpha:\n",
    "    print(\"Отвергаем нулевую гипотезу\")\n",
    "else:\n",
    "    print(\"Не получилось отвергнуть нулевую гипотезу\")"
   ]
  },
  {
   "cell_type": "markdown",
   "metadata": {},
   "source": [
    "## Результаты исследования"
   ]
  },
  {
   "cell_type": "markdown",
   "metadata": {},
   "source": [
    "1. Тариф Смарт пользуется большей популярностью у людей. Его выбирают более чем в 2 раза чаще, чем тариф Ультра\n",
    "2. В среднем около 30% пользователей тарифа Смарт расходуют большее количество услуг смс и звонков. И более 60% превышают количество Гб\n",
    "3. Пользователи тарифа Ультра в пакет укладываются практически в 100% случаях. Более того - 60% не расходует пакет звонков, а более 90% не расходует пакет смс.\n",
    "4. Средняя выручка на пользователя по тарифу Ультра составляет 1950 рублей. Пользователи пакета Ультра редко выходит за рамки базовой ежемесячной платы и сверх почти не тратят.\n",
    "5. Средняя выручка на пользователя по тарифу смарт составляет 1177 рублей, что на 2,14 раз превышает покупку базового пакета в 550 рублей. \n",
    "6. В среднем все пользователи тарифа Смарт за один период времени принесут оператору около 411 950 рублей, а пользователи Ультра 288 600, что в 1,5 раза ниже. \n",
    "7. Есть преимущества - тариф Ультра не используется на 100%, соответственно оператор существенно экономит на предоставляемых услугах. А тариф Смарт дает сверхприбыль более чем в 2 раза от своего тарифа\n",
    "8. Если мы узнаем затраты оператора на предоставляемые услуги связи, а также затраты на привлечение клиента по обоим тарифам, мы сможем определить, какой тариф будет более выгодным для компании. Ведь экономия на Ультре может быть и равна сверхприбыли от Смарта, средний САС по смарту существенно ниже Ультры. В итоге и маржинальность также будет отличаться.\n",
    "9. Перспективней именно для развития на данный момент выглядит тариф Ультра - существенная экономия на расходах, нет претензий от людей \"я переплатил\" и выше средний чек. Но придется вложиться в продвижение. Пока что тариф не такой популярный, как Смарт. \n",
    "10. Итоговой выручки по всем клиентам сейчас приносит больше Смарт, а средняя выручка на пользователя выше у Ультра. Однако опять же, мы не знаем всех затрат, а видим только выручку по клиенту, что является неверной трактовкой для определения перспективности развития того или иного тарифа.\n",
    "11. Возможно, также стоит задуматься и о третьем тарифе (среднее между Смарт и Ультра), чтобы с одной стороны увеличить средний чек, снизить нагрузку на отдел по работе с клиентами (предполагаю, что вопросов по переплате у смартовцев много), создать среднюю экономию на затратах, с другой стороны снизить затраты на продвижение не сильно популярного тарифа, включить в тариф большее количество Гб интернета (а может быть сделать его безлимитным. Привлекательно для продажи, по фактическим затратам, как показывает наше исследование, мало кто тратит много) сделать сообщения безлимитными (ими все равно никто не пользуется), и определить наиболее выгодный порог для звонков. Также в среднем тарифе можно легко увеличить стоимость за сверхуслуги. Сейчас между стоимостями как самих пакетов, так и сверхуслуг очень большой разрыв. Но все это можно планировать только после п.8\n"
   ]
  }
 ],
 "metadata": {
  "ExecuteTimeLog": [
   {
    "duration": 83,
    "start_time": "2021-08-08T14:41:16.712Z"
   },
   {
    "duration": 70,
    "start_time": "2021-08-08T14:41:46.051Z"
   },
   {
    "duration": 80,
    "start_time": "2021-08-08T14:42:36.367Z"
   },
   {
    "duration": 78,
    "start_time": "2021-08-08T14:43:09.240Z"
   },
   {
    "duration": 74,
    "start_time": "2021-08-08T14:45:15.444Z"
   },
   {
    "duration": 81,
    "start_time": "2021-08-08T14:45:32.987Z"
   },
   {
    "duration": 712,
    "start_time": "2021-08-08T14:45:57.512Z"
   },
   {
    "duration": 411,
    "start_time": "2021-08-08T14:49:00.564Z"
   },
   {
    "duration": 143,
    "start_time": "2021-08-08T14:49:12.910Z"
   },
   {
    "duration": 382,
    "start_time": "2021-08-08T14:54:23.378Z"
   },
   {
    "duration": 73,
    "start_time": "2021-08-08T15:06:31.929Z"
   },
   {
    "duration": 73,
    "start_time": "2021-08-08T15:08:15.798Z"
   },
   {
    "duration": 245,
    "start_time": "2021-08-08T15:08:52.048Z"
   },
   {
    "duration": 208,
    "start_time": "2021-08-08T15:15:48.185Z"
   },
   {
    "duration": 944,
    "start_time": "2021-08-08T15:16:21.085Z"
   },
   {
    "duration": 60,
    "start_time": "2021-08-08T15:16:22.331Z"
   },
   {
    "duration": 278,
    "start_time": "2021-08-08T15:16:40.305Z"
   },
   {
    "duration": 216,
    "start_time": "2021-08-08T15:23:05.653Z"
   },
   {
    "duration": 244,
    "start_time": "2021-08-08T15:23:11.426Z"
   },
   {
    "duration": 210,
    "start_time": "2021-08-08T15:25:51.621Z"
   },
   {
    "duration": 209,
    "start_time": "2021-08-08T15:27:54.615Z"
   },
   {
    "duration": 216,
    "start_time": "2021-08-08T15:28:04.935Z"
   },
   {
    "duration": 231,
    "start_time": "2021-08-08T15:28:12.202Z"
   },
   {
    "duration": 221,
    "start_time": "2021-08-08T15:28:16.179Z"
   },
   {
    "duration": 295,
    "start_time": "2021-08-08T15:28:20.082Z"
   },
   {
    "duration": 284,
    "start_time": "2021-08-08T15:28:57.932Z"
   },
   {
    "duration": 949,
    "start_time": "2021-08-08T15:29:06.894Z"
   },
   {
    "duration": 61,
    "start_time": "2021-08-08T15:29:09.556Z"
   },
   {
    "duration": 256,
    "start_time": "2021-08-08T15:29:29.401Z"
   },
   {
    "duration": 263,
    "start_time": "2021-08-08T15:34:20.931Z"
   },
   {
    "duration": 226,
    "start_time": "2021-08-08T15:34:26.984Z"
   },
   {
    "duration": 1048,
    "start_time": "2021-08-08T15:34:34.963Z"
   },
   {
    "duration": 59,
    "start_time": "2021-08-08T15:34:38.526Z"
   },
   {
    "duration": 72,
    "start_time": "2021-08-09T09:13:05.284Z"
   },
   {
    "duration": 10,
    "start_time": "2021-08-09T09:19:20.646Z"
   },
   {
    "duration": 6,
    "start_time": "2021-08-09T09:36:20.594Z"
   },
   {
    "duration": 361,
    "start_time": "2021-08-09T09:39:31.735Z"
   },
   {
    "duration": 6,
    "start_time": "2021-08-09T09:40:37.828Z"
   },
   {
    "duration": 217,
    "start_time": "2021-08-09T09:55:40.086Z"
   },
   {
    "duration": 142,
    "start_time": "2021-08-09T10:14:55.141Z"
   },
   {
    "duration": 32,
    "start_time": "2021-08-09T10:17:59.835Z"
   },
   {
    "duration": 75,
    "start_time": "2021-08-09T10:20:09.411Z"
   },
   {
    "duration": 9,
    "start_time": "2021-08-09T10:20:09.900Z"
   },
   {
    "duration": 5,
    "start_time": "2021-08-09T10:20:10.532Z"
   },
   {
    "duration": 244,
    "start_time": "2021-08-09T10:20:10.718Z"
   },
   {
    "duration": 199,
    "start_time": "2021-08-09T10:20:11.735Z"
   },
   {
    "duration": 151,
    "start_time": "2021-08-09T10:20:12.877Z"
   },
   {
    "duration": 30,
    "start_time": "2021-08-09T10:20:14.289Z"
   },
   {
    "duration": 206,
    "start_time": "2021-08-09T10:21:36.147Z"
   },
   {
    "duration": 143,
    "start_time": "2021-08-09T10:21:37.276Z"
   },
   {
    "duration": 32,
    "start_time": "2021-08-09T10:21:38.186Z"
   },
   {
    "duration": 390,
    "start_time": "2021-08-10T07:01:08.008Z"
   },
   {
    "duration": 812,
    "start_time": "2021-08-10T07:01:23.702Z"
   },
   {
    "duration": 13,
    "start_time": "2021-08-10T07:01:24.517Z"
   },
   {
    "duration": 6,
    "start_time": "2021-08-10T07:01:26.371Z"
   },
   {
    "duration": 229,
    "start_time": "2021-08-10T07:01:27.460Z"
   },
   {
    "duration": 207,
    "start_time": "2021-08-10T07:01:28.904Z"
   },
   {
    "duration": 137,
    "start_time": "2021-08-10T07:01:29.696Z"
   },
   {
    "duration": 33,
    "start_time": "2021-08-10T07:01:30.377Z"
   },
   {
    "duration": 18,
    "start_time": "2021-08-10T07:01:32.545Z"
   },
   {
    "duration": 325,
    "start_time": "2021-08-10T07:03:15.370Z"
   },
   {
    "duration": 323,
    "start_time": "2021-08-10T07:05:11.588Z"
   },
   {
    "duration": 47,
    "start_time": "2021-08-10T07:13:45.732Z"
   },
   {
    "duration": 9,
    "start_time": "2021-08-10T07:13:45.901Z"
   },
   {
    "duration": 6,
    "start_time": "2021-08-10T07:13:46.232Z"
   },
   {
    "duration": 243,
    "start_time": "2021-08-10T07:13:46.384Z"
   },
   {
    "duration": 195,
    "start_time": "2021-08-10T07:13:46.697Z"
   },
   {
    "duration": 146,
    "start_time": "2021-08-10T07:13:47.000Z"
   },
   {
    "duration": 32,
    "start_time": "2021-08-10T07:13:47.356Z"
   },
   {
    "duration": 266,
    "start_time": "2021-08-10T07:13:49.614Z"
   },
   {
    "duration": 268,
    "start_time": "2021-08-10T07:15:26.607Z"
   },
   {
    "duration": 266,
    "start_time": "2021-08-10T07:16:16.876Z"
   },
   {
    "duration": 275,
    "start_time": "2021-08-10T07:17:20.552Z"
   },
   {
    "duration": 341,
    "start_time": "2021-08-10T07:17:35.560Z"
   },
   {
    "duration": 44,
    "start_time": "2021-08-10T07:17:46.993Z"
   },
   {
    "duration": 11,
    "start_time": "2021-08-10T07:17:47.216Z"
   },
   {
    "duration": 6,
    "start_time": "2021-08-10T07:17:47.676Z"
   },
   {
    "duration": 236,
    "start_time": "2021-08-10T07:17:47.879Z"
   },
   {
    "duration": 209,
    "start_time": "2021-08-10T07:17:48.296Z"
   },
   {
    "duration": 144,
    "start_time": "2021-08-10T07:17:48.968Z"
   },
   {
    "duration": 32,
    "start_time": "2021-08-10T07:17:49.476Z"
   },
   {
    "duration": 259,
    "start_time": "2021-08-10T07:17:51.673Z"
   },
   {
    "duration": 86,
    "start_time": "2021-08-10T07:29:29.380Z"
   },
   {
    "duration": 17,
    "start_time": "2021-08-10T07:29:34.899Z"
   },
   {
    "duration": 43,
    "start_time": "2021-08-10T07:30:42.713Z"
   },
   {
    "duration": 290,
    "start_time": "2021-08-10T07:36:55.275Z"
   },
   {
    "duration": 66,
    "start_time": "2021-08-10T07:39:06.684Z"
   },
   {
    "duration": 45,
    "start_time": "2021-08-10T07:39:20.183Z"
   },
   {
    "duration": 50,
    "start_time": "2021-08-10T07:40:15.112Z"
   },
   {
    "duration": 264,
    "start_time": "2021-08-10T07:47:16.428Z"
   },
   {
    "duration": 284,
    "start_time": "2021-08-10T07:47:29.355Z"
   },
   {
    "duration": 32,
    "start_time": "2021-08-10T07:48:23.267Z"
   },
   {
    "duration": 43,
    "start_time": "2021-08-10T07:49:04.074Z"
   },
   {
    "duration": 13,
    "start_time": "2021-08-10T07:49:04.259Z"
   },
   {
    "duration": 7,
    "start_time": "2021-08-10T07:49:04.709Z"
   },
   {
    "duration": 227,
    "start_time": "2021-08-10T07:49:04.931Z"
   },
   {
    "duration": 207,
    "start_time": "2021-08-10T07:49:05.366Z"
   },
   {
    "duration": 142,
    "start_time": "2021-08-10T07:49:05.819Z"
   },
   {
    "duration": 33,
    "start_time": "2021-08-10T07:49:06.295Z"
   },
   {
    "duration": 72,
    "start_time": "2021-08-10T07:49:07.394Z"
   },
   {
    "duration": 48,
    "start_time": "2021-08-10T07:49:08.522Z"
   },
   {
    "duration": 28,
    "start_time": "2021-08-10T07:49:09.228Z"
   },
   {
    "duration": 46,
    "start_time": "2021-08-10T07:49:48.038Z"
   },
   {
    "duration": 26,
    "start_time": "2021-08-10T07:49:56.587Z"
   },
   {
    "duration": 284,
    "start_time": "2021-08-10T07:51:53.608Z"
   },
   {
    "duration": 315,
    "start_time": "2021-08-10T07:52:04.299Z"
   },
   {
    "duration": 318,
    "start_time": "2021-08-10T07:54:24.656Z"
   },
   {
    "duration": 309,
    "start_time": "2021-08-10T07:54:33.627Z"
   },
   {
    "duration": 19,
    "start_time": "2021-08-10T07:55:24.149Z"
   },
   {
    "duration": 285,
    "start_time": "2021-08-10T07:56:37.729Z"
   },
   {
    "duration": 277,
    "start_time": "2021-08-10T07:57:48.604Z"
   },
   {
    "duration": 253,
    "start_time": "2021-08-10T07:58:38.238Z"
   },
   {
    "duration": 327,
    "start_time": "2021-08-10T07:59:42.129Z"
   },
   {
    "duration": 266,
    "start_time": "2021-08-10T08:01:34.474Z"
   },
   {
    "duration": 288,
    "start_time": "2021-08-10T08:03:34.181Z"
   },
   {
    "duration": 283,
    "start_time": "2021-08-10T08:03:46.697Z"
   },
   {
    "duration": 41,
    "start_time": "2021-08-10T08:04:03.932Z"
   },
   {
    "duration": 30,
    "start_time": "2021-08-10T08:06:35.319Z"
   },
   {
    "duration": 32,
    "start_time": "2021-08-10T08:11:53.283Z"
   },
   {
    "duration": 84,
    "start_time": "2021-08-10T08:12:51.412Z"
   },
   {
    "duration": 36,
    "start_time": "2021-08-10T08:13:26.382Z"
   },
   {
    "duration": 74,
    "start_time": "2021-08-10T08:15:28.170Z"
   },
   {
    "duration": 10,
    "start_time": "2021-08-10T08:15:28.649Z"
   },
   {
    "duration": 6,
    "start_time": "2021-08-10T08:15:29.163Z"
   },
   {
    "duration": 223,
    "start_time": "2021-08-10T08:15:29.348Z"
   },
   {
    "duration": 198,
    "start_time": "2021-08-10T08:15:29.693Z"
   },
   {
    "duration": 135,
    "start_time": "2021-08-10T08:15:30.205Z"
   },
   {
    "duration": 33,
    "start_time": "2021-08-10T08:15:30.589Z"
   },
   {
    "duration": 71,
    "start_time": "2021-08-10T08:15:31.602Z"
   },
   {
    "duration": 45,
    "start_time": "2021-08-10T08:15:33.572Z"
   },
   {
    "duration": 40,
    "start_time": "2021-08-10T08:15:34.207Z"
   },
   {
    "duration": 46,
    "start_time": "2021-08-10T08:19:02.931Z"
   },
   {
    "duration": 43,
    "start_time": "2021-08-10T08:19:42.692Z"
   },
   {
    "duration": 37,
    "start_time": "2021-08-10T08:20:00.289Z"
   },
   {
    "duration": 24,
    "start_time": "2021-08-10T08:20:01.756Z"
   },
   {
    "duration": 44,
    "start_time": "2021-08-10T08:21:22.863Z"
   },
   {
    "duration": 64,
    "start_time": "2021-08-10T08:22:26.835Z"
   },
   {
    "duration": 8,
    "start_time": "2021-08-10T08:22:26.901Z"
   },
   {
    "duration": 8,
    "start_time": "2021-08-10T08:22:26.912Z"
   },
   {
    "duration": 235,
    "start_time": "2021-08-10T08:22:26.922Z"
   },
   {
    "duration": 210,
    "start_time": "2021-08-10T08:22:27.160Z"
   },
   {
    "duration": 137,
    "start_time": "2021-08-10T08:22:27.372Z"
   },
   {
    "duration": 29,
    "start_time": "2021-08-10T08:22:27.511Z"
   },
   {
    "duration": 81,
    "start_time": "2021-08-10T08:22:27.543Z"
   },
   {
    "duration": 44,
    "start_time": "2021-08-10T08:22:27.628Z"
   },
   {
    "duration": 61,
    "start_time": "2021-08-10T08:22:27.675Z"
   },
   {
    "duration": 62,
    "start_time": "2021-08-10T08:22:27.739Z"
   },
   {
    "duration": 43,
    "start_time": "2021-08-10T08:22:27.804Z"
   },
   {
    "duration": 113,
    "start_time": "2021-08-10T08:25:25.525Z"
   },
   {
    "duration": 33,
    "start_time": "2021-08-10T08:26:54.798Z"
   },
   {
    "duration": 24,
    "start_time": "2021-08-10T08:29:51.825Z"
   },
   {
    "duration": 95,
    "start_time": "2021-08-10T08:36:30.496Z"
   },
   {
    "duration": 80,
    "start_time": "2021-08-10T08:36:49.022Z"
   },
   {
    "duration": 6990,
    "start_time": "2021-08-10T08:37:11.376Z"
   },
   {
    "duration": 7418,
    "start_time": "2021-08-10T08:38:49.121Z"
   },
   {
    "duration": 28,
    "start_time": "2021-08-10T08:39:34.656Z"
   },
   {
    "duration": 55,
    "start_time": "2021-08-10T08:39:47.192Z"
   },
   {
    "duration": 9,
    "start_time": "2021-08-10T08:39:47.250Z"
   },
   {
    "duration": 9,
    "start_time": "2021-08-10T08:39:47.262Z"
   },
   {
    "duration": 239,
    "start_time": "2021-08-10T08:39:47.274Z"
   },
   {
    "duration": 213,
    "start_time": "2021-08-10T08:39:47.516Z"
   },
   {
    "duration": 139,
    "start_time": "2021-08-10T08:39:47.732Z"
   },
   {
    "duration": 30,
    "start_time": "2021-08-10T08:39:47.873Z"
   },
   {
    "duration": 67,
    "start_time": "2021-08-10T08:39:47.906Z"
   },
   {
    "duration": 64,
    "start_time": "2021-08-10T08:39:47.977Z"
   },
   {
    "duration": 67,
    "start_time": "2021-08-10T08:39:48.045Z"
   },
   {
    "duration": 41,
    "start_time": "2021-08-10T08:39:48.114Z"
   },
   {
    "duration": 59,
    "start_time": "2021-08-10T08:39:48.158Z"
   },
   {
    "duration": 32,
    "start_time": "2021-08-10T08:39:48.220Z"
   },
   {
    "duration": 29,
    "start_time": "2021-08-10T08:40:52.336Z"
   },
   {
    "duration": 20,
    "start_time": "2021-08-10T08:41:53.677Z"
   },
   {
    "duration": 20,
    "start_time": "2021-08-10T08:43:10.662Z"
   },
   {
    "duration": 6378,
    "start_time": "2021-08-10T08:44:32.958Z"
   },
   {
    "duration": 7443,
    "start_time": "2021-08-10T08:45:26.787Z"
   },
   {
    "duration": 7170,
    "start_time": "2021-08-10T08:46:37.002Z"
   },
   {
    "duration": 43,
    "start_time": "2021-08-10T08:48:07.082Z"
   },
   {
    "duration": 18,
    "start_time": "2021-08-10T08:48:22.306Z"
   },
   {
    "duration": 27,
    "start_time": "2021-08-10T08:49:11.523Z"
   },
   {
    "duration": 21,
    "start_time": "2021-08-10T08:50:16.346Z"
   },
   {
    "duration": 56,
    "start_time": "2021-08-10T08:54:32.380Z"
   },
   {
    "duration": 9,
    "start_time": "2021-08-10T08:54:32.586Z"
   },
   {
    "duration": 7,
    "start_time": "2021-08-10T08:54:32.997Z"
   },
   {
    "duration": 355,
    "start_time": "2021-08-10T08:54:33.197Z"
   },
   {
    "duration": 333,
    "start_time": "2021-08-10T08:54:33.559Z"
   },
   {
    "duration": 206,
    "start_time": "2021-08-10T08:54:33.933Z"
   },
   {
    "duration": 891,
    "start_time": "2021-08-10T08:54:34.519Z"
   },
   {
    "duration": 115,
    "start_time": "2021-08-10T08:54:35.714Z"
   },
   {
    "duration": 56,
    "start_time": "2021-08-10T08:54:36.381Z"
   },
   {
    "duration": 43,
    "start_time": "2021-08-10T08:54:36.807Z"
   },
   {
    "duration": 48,
    "start_time": "2021-08-10T08:54:37.215Z"
   },
   {
    "duration": 58,
    "start_time": "2021-08-10T08:54:38.141Z"
   },
   {
    "duration": 31,
    "start_time": "2021-08-10T08:54:39.009Z"
   },
   {
    "duration": 20,
    "start_time": "2021-08-10T08:54:39.991Z"
   },
   {
    "duration": 21,
    "start_time": "2021-08-10T08:56:22.545Z"
   },
   {
    "duration": 251,
    "start_time": "2021-08-10T08:57:47.310Z"
   },
   {
    "duration": 8,
    "start_time": "2021-08-10T08:57:54.823Z"
   },
   {
    "duration": 19,
    "start_time": "2021-08-10T08:59:57.544Z"
   },
   {
    "duration": 8,
    "start_time": "2021-08-10T09:00:41.172Z"
   },
   {
    "duration": 36,
    "start_time": "2021-08-10T09:06:04.139Z"
   },
   {
    "duration": 34,
    "start_time": "2021-08-10T09:07:14.006Z"
   },
   {
    "duration": 38,
    "start_time": "2021-08-10T09:09:39.402Z"
   },
   {
    "duration": 31,
    "start_time": "2021-08-10T09:12:20.680Z"
   },
   {
    "duration": 21,
    "start_time": "2021-08-10T09:14:46.498Z"
   },
   {
    "duration": 21,
    "start_time": "2021-08-10T09:15:25.155Z"
   },
   {
    "duration": 55,
    "start_time": "2021-08-10T09:15:33.771Z"
   },
   {
    "duration": 11,
    "start_time": "2021-08-10T09:15:33.829Z"
   },
   {
    "duration": 7,
    "start_time": "2021-08-10T09:15:33.844Z"
   },
   {
    "duration": 265,
    "start_time": "2021-08-10T09:15:33.854Z"
   },
   {
    "duration": 195,
    "start_time": "2021-08-10T09:15:34.122Z"
   },
   {
    "duration": 130,
    "start_time": "2021-08-10T09:15:34.319Z"
   },
   {
    "duration": 31,
    "start_time": "2021-08-10T09:15:34.451Z"
   },
   {
    "duration": 80,
    "start_time": "2021-08-10T09:15:34.486Z"
   },
   {
    "duration": 63,
    "start_time": "2021-08-10T09:15:34.569Z"
   },
   {
    "duration": 41,
    "start_time": "2021-08-10T09:15:34.635Z"
   },
   {
    "duration": 59,
    "start_time": "2021-08-10T09:15:34.679Z"
   },
   {
    "duration": 61,
    "start_time": "2021-08-10T09:15:34.741Z"
   },
   {
    "duration": 32,
    "start_time": "2021-08-10T09:15:34.805Z"
   },
   {
    "duration": 20,
    "start_time": "2021-08-10T09:15:34.839Z"
   },
   {
    "duration": 55,
    "start_time": "2021-08-10T09:15:34.861Z"
   },
   {
    "duration": 20,
    "start_time": "2021-08-10T09:15:34.918Z"
   },
   {
    "duration": 10,
    "start_time": "2021-08-10T09:15:34.940Z"
   },
   {
    "duration": 69,
    "start_time": "2021-08-10T09:15:34.952Z"
   },
   {
    "duration": 31,
    "start_time": "2021-08-10T09:15:35.023Z"
   },
   {
    "duration": 53,
    "start_time": "2021-08-10T09:15:35.056Z"
   },
   {
    "duration": 18,
    "start_time": "2021-08-10T09:15:35.111Z"
   },
   {
    "duration": 24,
    "start_time": "2021-08-10T09:18:59.488Z"
   },
   {
    "duration": 67,
    "start_time": "2021-08-10T09:37:29.336Z"
   },
   {
    "duration": 10,
    "start_time": "2021-08-10T09:37:29.511Z"
   },
   {
    "duration": 7,
    "start_time": "2021-08-10T09:37:30.051Z"
   },
   {
    "duration": 250,
    "start_time": "2021-08-10T09:37:30.273Z"
   },
   {
    "duration": 202,
    "start_time": "2021-08-10T09:37:30.768Z"
   },
   {
    "duration": 138,
    "start_time": "2021-08-10T09:37:31.110Z"
   },
   {
    "duration": 33,
    "start_time": "2021-08-10T09:37:31.531Z"
   },
   {
    "duration": 75,
    "start_time": "2021-08-10T09:37:32.934Z"
   },
   {
    "duration": 45,
    "start_time": "2021-08-10T09:37:33.613Z"
   },
   {
    "duration": 39,
    "start_time": "2021-08-10T09:37:34.175Z"
   },
   {
    "duration": 27,
    "start_time": "2021-08-10T09:37:34.930Z"
   },
   {
    "duration": 64,
    "start_time": "2021-08-10T09:37:36.026Z"
   },
   {
    "duration": 56,
    "start_time": "2021-08-10T09:37:37.139Z"
   },
   {
    "duration": 46,
    "start_time": "2021-08-10T09:37:38.264Z"
   },
   {
    "duration": 27,
    "start_time": "2021-08-10T09:37:48.028Z"
   },
   {
    "duration": 6496,
    "start_time": "2021-08-10T09:37:51.466Z"
   },
   {
    "duration": -69,
    "start_time": "2021-08-10T09:37:58.033Z"
   },
   {
    "duration": 22,
    "start_time": "2021-08-10T09:38:10.032Z"
   },
   {
    "duration": 21,
    "start_time": "2021-08-10T09:38:11.201Z"
   },
   {
    "duration": 30,
    "start_time": "2021-08-10T09:38:23.515Z"
   },
   {
    "duration": 23,
    "start_time": "2021-08-10T09:38:25.586Z"
   },
   {
    "duration": 21,
    "start_time": "2021-08-10T09:38:26.349Z"
   },
   {
    "duration": 27,
    "start_time": "2021-08-10T09:38:38.275Z"
   },
   {
    "duration": 19,
    "start_time": "2021-08-10T09:38:51.957Z"
   },
   {
    "duration": 21,
    "start_time": "2021-08-10T09:39:02.797Z"
   },
   {
    "duration": 19,
    "start_time": "2021-08-10T09:39:06.033Z"
   },
   {
    "duration": 61,
    "start_time": "2021-08-10T09:39:25.599Z"
   },
   {
    "duration": 8,
    "start_time": "2021-08-10T09:39:25.788Z"
   },
   {
    "duration": 7,
    "start_time": "2021-08-10T09:39:26.270Z"
   },
   {
    "duration": 237,
    "start_time": "2021-08-10T09:39:26.484Z"
   },
   {
    "duration": 205,
    "start_time": "2021-08-10T09:39:26.965Z"
   },
   {
    "duration": 134,
    "start_time": "2021-08-10T09:39:27.426Z"
   },
   {
    "duration": 32,
    "start_time": "2021-08-10T09:39:27.887Z"
   },
   {
    "duration": 70,
    "start_time": "2021-08-10T09:39:29.257Z"
   },
   {
    "duration": 44,
    "start_time": "2021-08-10T09:39:30.255Z"
   },
   {
    "duration": 41,
    "start_time": "2021-08-10T09:39:30.944Z"
   },
   {
    "duration": 24,
    "start_time": "2021-08-10T09:39:31.570Z"
   },
   {
    "duration": 43,
    "start_time": "2021-08-10T09:39:32.275Z"
   },
   {
    "duration": 40,
    "start_time": "2021-08-10T09:39:32.951Z"
   },
   {
    "duration": 32,
    "start_time": "2021-08-10T09:39:34.619Z"
   },
   {
    "duration": 20,
    "start_time": "2021-08-10T09:39:35.307Z"
   },
   {
    "duration": 20,
    "start_time": "2021-08-10T09:39:37.382Z"
   },
   {
    "duration": 20,
    "start_time": "2021-08-10T09:39:42.377Z"
   },
   {
    "duration": 11,
    "start_time": "2021-08-10T09:39:45.856Z"
   },
   {
    "duration": 36,
    "start_time": "2021-08-10T09:39:47.293Z"
   },
   {
    "duration": 36,
    "start_time": "2021-08-10T09:39:48.696Z"
   },
   {
    "duration": 34,
    "start_time": "2021-08-10T09:39:50.133Z"
   },
   {
    "duration": 21,
    "start_time": "2021-08-10T09:39:52.186Z"
   },
   {
    "duration": 29,
    "start_time": "2021-08-10T09:51:56.548Z"
   },
   {
    "duration": 44,
    "start_time": "2021-08-10T09:52:22.987Z"
   },
   {
    "duration": 104,
    "start_time": "2021-08-10T09:58:24.301Z"
   },
   {
    "duration": 1370,
    "start_time": "2021-08-10T09:59:44.990Z"
   },
   {
    "duration": 107,
    "start_time": "2021-08-10T10:01:48.512Z"
   },
   {
    "duration": 404,
    "start_time": "2021-08-10T10:02:03.752Z"
   },
   {
    "duration": 100,
    "start_time": "2021-08-10T10:02:19.633Z"
   },
   {
    "duration": 116,
    "start_time": "2021-08-10T10:04:35.888Z"
   },
   {
    "duration": 109,
    "start_time": "2021-08-10T10:04:48.416Z"
   },
   {
    "duration": 48,
    "start_time": "2021-08-10T10:05:57.562Z"
   },
   {
    "duration": 43,
    "start_time": "2021-08-10T10:08:07.388Z"
   },
   {
    "duration": 26,
    "start_time": "2021-08-10T10:09:32.298Z"
   },
   {
    "duration": 24,
    "start_time": "2021-08-10T10:09:39.500Z"
   },
   {
    "duration": 47,
    "start_time": "2021-08-10T10:09:48.174Z"
   },
   {
    "duration": 25,
    "start_time": "2021-08-10T10:10:14.256Z"
   },
   {
    "duration": 25,
    "start_time": "2021-08-10T10:10:39.661Z"
   },
   {
    "duration": 308,
    "start_time": "2021-08-10T10:16:05.147Z"
   },
   {
    "duration": 106,
    "start_time": "2021-08-10T10:16:31.239Z"
   },
   {
    "duration": 461,
    "start_time": "2021-08-10T10:17:06.566Z"
   },
   {
    "duration": 68,
    "start_time": "2021-08-10T10:17:45.082Z"
   },
   {
    "duration": 63,
    "start_time": "2021-08-10T10:22:11.867Z"
   },
   {
    "duration": 54,
    "start_time": "2021-08-10T10:22:41.604Z"
   },
   {
    "duration": 8,
    "start_time": "2021-08-10T10:22:41.661Z"
   },
   {
    "duration": 20,
    "start_time": "2021-08-10T10:22:41.672Z"
   },
   {
    "duration": 255,
    "start_time": "2021-08-10T10:22:41.696Z"
   },
   {
    "duration": 205,
    "start_time": "2021-08-10T10:22:41.954Z"
   },
   {
    "duration": 161,
    "start_time": "2021-08-10T10:22:42.162Z"
   },
   {
    "duration": 34,
    "start_time": "2021-08-10T10:22:42.326Z"
   },
   {
    "duration": 97,
    "start_time": "2021-08-10T10:22:42.363Z"
   },
   {
    "duration": 64,
    "start_time": "2021-08-10T10:22:42.466Z"
   },
   {
    "duration": 43,
    "start_time": "2021-08-10T10:22:42.533Z"
   },
   {
    "duration": 40,
    "start_time": "2021-08-10T10:22:42.578Z"
   },
   {
    "duration": 72,
    "start_time": "2021-08-10T10:22:42.620Z"
   },
   {
    "duration": 41,
    "start_time": "2021-08-10T10:22:42.694Z"
   },
   {
    "duration": 32,
    "start_time": "2021-08-10T10:22:42.739Z"
   },
   {
    "duration": 41,
    "start_time": "2021-08-10T10:22:42.773Z"
   },
   {
    "duration": 29,
    "start_time": "2021-08-10T10:22:42.816Z"
   },
   {
    "duration": 26,
    "start_time": "2021-08-10T10:22:42.848Z"
   },
   {
    "duration": 26,
    "start_time": "2021-08-10T10:22:42.876Z"
   },
   {
    "duration": 50,
    "start_time": "2021-08-10T10:22:42.905Z"
   },
   {
    "duration": 43,
    "start_time": "2021-08-10T10:22:42.957Z"
   },
   {
    "duration": 31,
    "start_time": "2021-08-10T10:22:43.003Z"
   },
   {
    "duration": 17,
    "start_time": "2021-08-10T10:22:43.037Z"
   },
   {
    "duration": 89,
    "start_time": "2021-08-10T10:22:43.056Z"
   },
   {
    "duration": 56,
    "start_time": "2021-08-10T10:23:02.405Z"
   },
   {
    "duration": 11,
    "start_time": "2021-08-10T10:27:07.384Z"
   },
   {
    "duration": 15,
    "start_time": "2021-08-10T10:27:36.859Z"
   },
   {
    "duration": 13,
    "start_time": "2021-08-10T10:27:50.594Z"
   },
   {
    "duration": 60,
    "start_time": "2021-08-10T10:27:55.260Z"
   },
   {
    "duration": 9,
    "start_time": "2021-08-10T10:27:55.322Z"
   },
   {
    "duration": 10,
    "start_time": "2021-08-10T10:27:55.334Z"
   },
   {
    "duration": 253,
    "start_time": "2021-08-10T10:27:55.347Z"
   },
   {
    "duration": 198,
    "start_time": "2021-08-10T10:27:55.603Z"
   },
   {
    "duration": 124,
    "start_time": "2021-08-10T10:27:55.803Z"
   },
   {
    "duration": 31,
    "start_time": "2021-08-10T10:27:55.930Z"
   },
   {
    "duration": 85,
    "start_time": "2021-08-10T10:27:55.965Z"
   },
   {
    "duration": 63,
    "start_time": "2021-08-10T10:27:56.055Z"
   },
   {
    "duration": 41,
    "start_time": "2021-08-10T10:27:56.121Z"
   },
   {
    "duration": 47,
    "start_time": "2021-08-10T10:27:56.165Z"
   },
   {
    "duration": 46,
    "start_time": "2021-08-10T10:27:56.214Z"
   },
   {
    "duration": 64,
    "start_time": "2021-08-10T10:27:56.263Z"
   },
   {
    "duration": 30,
    "start_time": "2021-08-10T10:27:56.330Z"
   },
   {
    "duration": 52,
    "start_time": "2021-08-10T10:27:56.363Z"
   },
   {
    "duration": 27,
    "start_time": "2021-08-10T10:27:56.418Z"
   },
   {
    "duration": 25,
    "start_time": "2021-08-10T10:27:56.448Z"
   },
   {
    "duration": 31,
    "start_time": "2021-08-10T10:27:56.475Z"
   },
   {
    "duration": 37,
    "start_time": "2021-08-10T10:27:56.509Z"
   },
   {
    "duration": 71,
    "start_time": "2021-08-10T10:27:56.550Z"
   },
   {
    "duration": 36,
    "start_time": "2021-08-10T10:27:56.624Z"
   },
   {
    "duration": 46,
    "start_time": "2021-08-10T10:27:56.663Z"
   },
   {
    "duration": 15,
    "start_time": "2021-08-10T10:27:56.715Z"
   },
   {
    "duration": 305,
    "start_time": "2021-08-10T10:27:56.732Z"
   },
   {
    "duration": 14,
    "start_time": "2021-08-10T10:28:27.664Z"
   },
   {
    "duration": 3,
    "start_time": "2021-08-10T10:28:52.838Z"
   },
   {
    "duration": 65,
    "start_time": "2021-08-10T10:31:02.282Z"
   },
   {
    "duration": 309,
    "start_time": "2021-08-10T10:33:30.011Z"
   },
   {
    "duration": 64,
    "start_time": "2021-08-10T10:33:44.993Z"
   },
   {
    "duration": 48,
    "start_time": "2021-08-10T10:34:32.853Z"
   },
   {
    "duration": 80,
    "start_time": "2021-08-10T10:35:03.093Z"
   },
   {
    "duration": 71,
    "start_time": "2021-08-10T10:35:12.412Z"
   },
   {
    "duration": 43,
    "start_time": "2021-08-10T10:36:11.687Z"
   },
   {
    "duration": 73,
    "start_time": "2021-08-10T10:36:47.412Z"
   },
   {
    "duration": 68,
    "start_time": "2021-08-10T10:36:57.269Z"
   },
   {
    "duration": 52,
    "start_time": "2021-08-10T10:37:12.609Z"
   },
   {
    "duration": 53,
    "start_time": "2021-08-10T10:37:59.231Z"
   },
   {
    "duration": 28,
    "start_time": "2021-08-10T10:39:13.120Z"
   },
   {
    "duration": 27,
    "start_time": "2021-08-10T10:39:36.080Z"
   },
   {
    "duration": 35,
    "start_time": "2021-08-10T10:39:56.012Z"
   },
   {
    "duration": 43,
    "start_time": "2021-08-10T10:40:22.207Z"
   },
   {
    "duration": 70,
    "start_time": "2021-08-10T10:40:37.054Z"
   },
   {
    "duration": 52,
    "start_time": "2021-08-10T10:40:40.470Z"
   },
   {
    "duration": 38,
    "start_time": "2021-08-10T10:41:10.107Z"
   },
   {
    "duration": 30,
    "start_time": "2021-08-10T10:42:50.539Z"
   },
   {
    "duration": 52,
    "start_time": "2021-08-10T10:43:21.487Z"
   },
   {
    "duration": 10,
    "start_time": "2021-08-10T10:43:21.542Z"
   },
   {
    "duration": 9,
    "start_time": "2021-08-10T10:43:21.555Z"
   },
   {
    "duration": 244,
    "start_time": "2021-08-10T10:43:21.567Z"
   },
   {
    "duration": 205,
    "start_time": "2021-08-10T10:43:21.813Z"
   },
   {
    "duration": 131,
    "start_time": "2021-08-10T10:43:22.021Z"
   },
   {
    "duration": 33,
    "start_time": "2021-08-10T10:43:22.154Z"
   },
   {
    "duration": 71,
    "start_time": "2021-08-10T10:43:22.201Z"
   },
   {
    "duration": 60,
    "start_time": "2021-08-10T10:43:22.277Z"
   },
   {
    "duration": 62,
    "start_time": "2021-08-10T10:43:22.340Z"
   },
   {
    "duration": 21,
    "start_time": "2021-08-10T10:43:22.405Z"
   },
   {
    "duration": 72,
    "start_time": "2021-08-10T10:43:22.429Z"
   },
   {
    "duration": 41,
    "start_time": "2021-08-10T10:43:22.504Z"
   },
   {
    "duration": 60,
    "start_time": "2021-08-10T10:43:22.548Z"
   },
   {
    "duration": 16,
    "start_time": "2021-08-10T10:43:22.611Z"
   },
   {
    "duration": 25,
    "start_time": "2021-08-10T10:43:22.630Z"
   },
   {
    "duration": 45,
    "start_time": "2021-08-10T10:43:22.659Z"
   },
   {
    "duration": 11,
    "start_time": "2021-08-10T10:43:22.708Z"
   },
   {
    "duration": 49,
    "start_time": "2021-08-10T10:43:22.722Z"
   },
   {
    "duration": 54,
    "start_time": "2021-08-10T10:43:22.774Z"
   },
   {
    "duration": 33,
    "start_time": "2021-08-10T10:43:22.831Z"
   },
   {
    "duration": 44,
    "start_time": "2021-08-10T10:43:22.867Z"
   },
   {
    "duration": 23,
    "start_time": "2021-08-10T10:43:22.913Z"
   },
   {
    "duration": 36,
    "start_time": "2021-08-10T10:43:22.939Z"
   },
   {
    "duration": 27,
    "start_time": "2021-08-10T10:46:19.915Z"
   },
   {
    "duration": 21,
    "start_time": "2021-08-10T10:46:21.126Z"
   },
   {
    "duration": 21,
    "start_time": "2021-08-10T10:46:21.556Z"
   },
   {
    "duration": 22,
    "start_time": "2021-08-10T10:46:22.021Z"
   },
   {
    "duration": 12,
    "start_time": "2021-08-10T10:46:22.251Z"
   },
   {
    "duration": 21,
    "start_time": "2021-08-10T10:46:22.787Z"
   },
   {
    "duration": 32,
    "start_time": "2021-08-10T10:46:23.471Z"
   },
   {
    "duration": 45,
    "start_time": "2021-08-10T10:46:24.114Z"
   },
   {
    "duration": 16,
    "start_time": "2021-08-10T10:46:24.877Z"
   },
   {
    "duration": 14,
    "start_time": "2021-08-10T10:46:26.838Z"
   },
   {
    "duration": 44,
    "start_time": "2021-08-10T10:46:27.929Z"
   },
   {
    "duration": 30,
    "start_time": "2021-08-10T10:46:38.385Z"
   },
   {
    "duration": 32,
    "start_time": "2021-08-10T10:46:46.855Z"
   },
   {
    "duration": 276,
    "start_time": "2021-08-10T10:49:24.637Z"
   },
   {
    "duration": 57,
    "start_time": "2021-08-10T10:49:58.351Z"
   },
   {
    "duration": 9,
    "start_time": "2021-08-10T10:49:58.411Z"
   },
   {
    "duration": 7,
    "start_time": "2021-08-10T10:49:58.423Z"
   },
   {
    "duration": 249,
    "start_time": "2021-08-10T10:49:58.433Z"
   },
   {
    "duration": 208,
    "start_time": "2021-08-10T10:49:58.685Z"
   },
   {
    "duration": 142,
    "start_time": "2021-08-10T10:49:58.899Z"
   },
   {
    "duration": 31,
    "start_time": "2021-08-10T10:49:59.044Z"
   },
   {
    "duration": 89,
    "start_time": "2021-08-10T10:49:59.079Z"
   },
   {
    "duration": 56,
    "start_time": "2021-08-10T10:49:59.171Z"
   },
   {
    "duration": 41,
    "start_time": "2021-08-10T10:49:59.230Z"
   },
   {
    "duration": 39,
    "start_time": "2021-08-10T10:49:59.274Z"
   },
   {
    "duration": 44,
    "start_time": "2021-08-10T10:49:59.316Z"
   },
   {
    "duration": 68,
    "start_time": "2021-08-10T10:49:59.362Z"
   },
   {
    "duration": 28,
    "start_time": "2021-08-10T10:49:59.433Z"
   },
   {
    "duration": 38,
    "start_time": "2021-08-10T10:49:59.463Z"
   },
   {
    "duration": 15,
    "start_time": "2021-08-10T10:49:59.503Z"
   },
   {
    "duration": 14,
    "start_time": "2021-08-10T10:49:59.521Z"
   },
   {
    "duration": 10,
    "start_time": "2021-08-10T10:49:59.538Z"
   },
   {
    "duration": 78,
    "start_time": "2021-08-10T10:49:59.550Z"
   },
   {
    "duration": 32,
    "start_time": "2021-08-10T10:49:59.631Z"
   },
   {
    "duration": 59,
    "start_time": "2021-08-10T10:49:59.665Z"
   },
   {
    "duration": 13,
    "start_time": "2021-08-10T10:49:59.726Z"
   },
   {
    "duration": 16,
    "start_time": "2021-08-10T10:49:59.744Z"
   },
   {
    "duration": 322,
    "start_time": "2021-08-10T10:49:59.762Z"
   },
   {
    "duration": 31,
    "start_time": "2021-08-10T10:50:09.786Z"
   },
   {
    "duration": 14,
    "start_time": "2021-08-10T10:51:33.402Z"
   },
   {
    "duration": 46,
    "start_time": "2021-08-10T10:52:56.406Z"
   },
   {
    "duration": 57,
    "start_time": "2021-08-10T10:53:01.833Z"
   },
   {
    "duration": 56,
    "start_time": "2021-08-10T10:53:09.498Z"
   },
   {
    "duration": 29,
    "start_time": "2021-08-10T10:53:11.642Z"
   },
   {
    "duration": 16,
    "start_time": "2021-08-10T10:53:12.910Z"
   },
   {
    "duration": 13,
    "start_time": "2021-08-10T10:53:42.680Z"
   },
   {
    "duration": 13,
    "start_time": "2021-08-10T10:54:09.051Z"
   },
   {
    "duration": 56,
    "start_time": "2021-08-10T10:54:55.891Z"
   },
   {
    "duration": 15,
    "start_time": "2021-08-10T10:55:00.225Z"
   },
   {
    "duration": 56,
    "start_time": "2021-08-10T10:55:23.979Z"
   },
   {
    "duration": 16,
    "start_time": "2021-08-10T10:55:26.760Z"
   },
   {
    "duration": 61,
    "start_time": "2021-08-10T10:55:51.597Z"
   },
   {
    "duration": 13,
    "start_time": "2021-08-10T10:55:51.661Z"
   },
   {
    "duration": 27,
    "start_time": "2021-08-10T10:55:51.678Z"
   },
   {
    "duration": 246,
    "start_time": "2021-08-10T10:55:51.708Z"
   },
   {
    "duration": 229,
    "start_time": "2021-08-10T10:55:51.956Z"
   },
   {
    "duration": 195,
    "start_time": "2021-08-10T10:55:52.188Z"
   },
   {
    "duration": 34,
    "start_time": "2021-08-10T10:55:52.386Z"
   },
   {
    "duration": 132,
    "start_time": "2021-08-10T10:55:52.423Z"
   },
   {
    "duration": 73,
    "start_time": "2021-08-10T10:55:52.561Z"
   },
   {
    "duration": 70,
    "start_time": "2021-08-10T10:55:52.638Z"
   },
   {
    "duration": 16,
    "start_time": "2021-08-10T10:55:52.711Z"
   },
   {
    "duration": 88,
    "start_time": "2021-08-10T10:55:52.731Z"
   },
   {
    "duration": 56,
    "start_time": "2021-08-10T10:55:52.823Z"
   },
   {
    "duration": 58,
    "start_time": "2021-08-10T10:55:52.882Z"
   },
   {
    "duration": 18,
    "start_time": "2021-08-10T10:55:52.943Z"
   },
   {
    "duration": 52,
    "start_time": "2021-08-10T10:55:52.964Z"
   },
   {
    "duration": 20,
    "start_time": "2021-08-10T10:55:53.019Z"
   },
   {
    "duration": 9,
    "start_time": "2021-08-10T10:55:53.042Z"
   },
   {
    "duration": 79,
    "start_time": "2021-08-10T10:55:53.053Z"
   },
   {
    "duration": 33,
    "start_time": "2021-08-10T10:55:53.135Z"
   },
   {
    "duration": 56,
    "start_time": "2021-08-10T10:55:53.171Z"
   },
   {
    "duration": 18,
    "start_time": "2021-08-10T10:55:53.230Z"
   },
   {
    "duration": 18,
    "start_time": "2021-08-10T10:55:53.251Z"
   },
   {
    "duration": 32,
    "start_time": "2021-08-10T10:55:53.302Z"
   },
   {
    "duration": 14,
    "start_time": "2021-08-10T10:58:43.685Z"
   },
   {
    "duration": 15,
    "start_time": "2021-08-10T10:59:07.574Z"
   },
   {
    "duration": 40,
    "start_time": "2021-08-10T10:59:33.090Z"
   },
   {
    "duration": 10,
    "start_time": "2021-08-10T10:59:59.438Z"
   },
   {
    "duration": 28,
    "start_time": "2021-08-10T11:00:17.140Z"
   },
   {
    "duration": 730,
    "start_time": "2021-08-10T11:01:25.011Z"
   },
   {
    "duration": 803,
    "start_time": "2021-08-10T11:01:48.126Z"
   },
   {
    "duration": 680,
    "start_time": "2021-08-10T11:02:00.210Z"
   },
   {
    "duration": 32,
    "start_time": "2021-08-10T11:02:19.824Z"
   },
   {
    "duration": 51,
    "start_time": "2021-08-10T11:04:17.047Z"
   },
   {
    "duration": 49,
    "start_time": "2021-08-10T11:05:28.332Z"
   },
   {
    "duration": 39,
    "start_time": "2021-08-10T11:06:33.396Z"
   },
   {
    "duration": 38,
    "start_time": "2021-08-10T11:06:53.513Z"
   },
   {
    "duration": 39,
    "start_time": "2021-08-10T11:07:25.201Z"
   },
   {
    "duration": 49,
    "start_time": "2021-08-10T11:08:09.846Z"
   },
   {
    "duration": 58,
    "start_time": "2021-08-10T11:09:59.204Z"
   },
   {
    "duration": 67,
    "start_time": "2021-08-10T11:10:35.944Z"
   },
   {
    "duration": 6409,
    "start_time": "2021-08-10T11:14:28.605Z"
   },
   {
    "duration": 392,
    "start_time": "2021-08-10T11:15:36.672Z"
   },
   {
    "duration": 273,
    "start_time": "2021-08-10T11:15:59.847Z"
   },
   {
    "duration": 266,
    "start_time": "2021-08-10T11:16:18.951Z"
   },
   {
    "duration": 3725,
    "start_time": "2021-08-10T11:16:32.619Z"
   },
   {
    "duration": 3468,
    "start_time": "2021-08-10T11:16:43.284Z"
   },
   {
    "duration": 3468,
    "start_time": "2021-08-10T11:17:23.574Z"
   },
   {
    "duration": 70,
    "start_time": "2021-08-10T11:17:37.778Z"
   },
   {
    "duration": 12,
    "start_time": "2021-08-10T11:17:37.851Z"
   },
   {
    "duration": 15,
    "start_time": "2021-08-10T11:17:37.866Z"
   },
   {
    "duration": 224,
    "start_time": "2021-08-10T11:17:37.884Z"
   },
   {
    "duration": 207,
    "start_time": "2021-08-10T11:17:38.110Z"
   },
   {
    "duration": 132,
    "start_time": "2021-08-10T11:17:38.320Z"
   },
   {
    "duration": 31,
    "start_time": "2021-08-10T11:17:38.454Z"
   },
   {
    "duration": 67,
    "start_time": "2021-08-10T11:17:38.500Z"
   },
   {
    "duration": 60,
    "start_time": "2021-08-10T11:17:38.570Z"
   },
   {
    "duration": 41,
    "start_time": "2021-08-10T11:17:38.632Z"
   },
   {
    "duration": 31,
    "start_time": "2021-08-10T11:17:38.676Z"
   },
   {
    "duration": 22,
    "start_time": "2021-08-10T11:17:38.710Z"
   },
   {
    "duration": 48,
    "start_time": "2021-08-10T11:17:38.735Z"
   },
   {
    "duration": 39,
    "start_time": "2021-08-10T11:17:38.801Z"
   },
   {
    "duration": 28,
    "start_time": "2021-08-10T11:17:38.843Z"
   },
   {
    "duration": 41,
    "start_time": "2021-08-10T11:17:38.873Z"
   },
   {
    "duration": 18,
    "start_time": "2021-08-10T11:17:38.917Z"
   },
   {
    "duration": 15,
    "start_time": "2021-08-10T11:17:38.938Z"
   },
   {
    "duration": 14,
    "start_time": "2021-08-10T11:17:38.955Z"
   },
   {
    "duration": 36,
    "start_time": "2021-08-10T11:17:39.001Z"
   },
   {
    "duration": 33,
    "start_time": "2021-08-10T11:17:39.039Z"
   },
   {
    "duration": 30,
    "start_time": "2021-08-10T11:17:39.100Z"
   },
   {
    "duration": 13,
    "start_time": "2021-08-10T11:17:39.135Z"
   },
   {
    "duration": 12,
    "start_time": "2021-08-10T11:17:39.151Z"
   },
   {
    "duration": 66,
    "start_time": "2021-08-10T11:17:39.200Z"
   },
   {
    "duration": 13,
    "start_time": "2021-08-10T11:17:39.269Z"
   },
   {
    "duration": 6791,
    "start_time": "2021-08-10T11:19:33.739Z"
   },
   {
    "duration": 279,
    "start_time": "2021-08-10T11:25:26.313Z"
   },
   {
    "duration": 5,
    "start_time": "2021-08-10T11:26:21.336Z"
   },
   {
    "duration": 13,
    "start_time": "2021-08-10T11:26:35.597Z"
   },
   {
    "duration": 14,
    "start_time": "2021-08-10T11:27:02.746Z"
   },
   {
    "duration": 8591,
    "start_time": "2021-08-10T11:27:42.033Z"
   },
   {
    "duration": 6650,
    "start_time": "2021-08-10T11:27:58.875Z"
   },
   {
    "duration": 6761,
    "start_time": "2021-08-10T11:28:45.514Z"
   },
   {
    "duration": 17,
    "start_time": "2021-08-10T11:29:06.540Z"
   },
   {
    "duration": 26,
    "start_time": "2021-08-10T11:31:33.381Z"
   },
   {
    "duration": 24,
    "start_time": "2021-08-10T11:31:47.022Z"
   },
   {
    "duration": 85,
    "start_time": "2021-08-10T11:31:53.172Z"
   },
   {
    "duration": 8,
    "start_time": "2021-08-10T11:31:53.260Z"
   },
   {
    "duration": 7,
    "start_time": "2021-08-10T11:31:53.271Z"
   },
   {
    "duration": 226,
    "start_time": "2021-08-10T11:31:53.281Z"
   },
   {
    "duration": 198,
    "start_time": "2021-08-10T11:31:53.509Z"
   },
   {
    "duration": 123,
    "start_time": "2021-08-10T11:31:53.710Z"
   },
   {
    "duration": 32,
    "start_time": "2021-08-10T11:31:53.836Z"
   },
   {
    "duration": 89,
    "start_time": "2021-08-10T11:31:53.870Z"
   },
   {
    "duration": 56,
    "start_time": "2021-08-10T11:31:53.963Z"
   },
   {
    "duration": 39,
    "start_time": "2021-08-10T11:31:54.022Z"
   },
   {
    "duration": 11,
    "start_time": "2021-08-10T11:31:54.064Z"
   },
   {
    "duration": 25,
    "start_time": "2021-08-10T11:31:54.102Z"
   },
   {
    "duration": 47,
    "start_time": "2021-08-10T11:31:54.129Z"
   },
   {
    "duration": 61,
    "start_time": "2021-08-10T11:31:54.178Z"
   },
   {
    "duration": 28,
    "start_time": "2021-08-10T11:31:54.241Z"
   },
   {
    "duration": 40,
    "start_time": "2021-08-10T11:31:54.272Z"
   },
   {
    "duration": 13,
    "start_time": "2021-08-10T11:31:54.314Z"
   },
   {
    "duration": 13,
    "start_time": "2021-08-10T11:31:54.330Z"
   },
   {
    "duration": 12,
    "start_time": "2021-08-10T11:31:54.345Z"
   },
   {
    "duration": 68,
    "start_time": "2021-08-10T11:31:54.360Z"
   },
   {
    "duration": 32,
    "start_time": "2021-08-10T11:31:54.431Z"
   },
   {
    "duration": 57,
    "start_time": "2021-08-10T11:31:54.465Z"
   },
   {
    "duration": 13,
    "start_time": "2021-08-10T11:31:54.525Z"
   },
   {
    "duration": 15,
    "start_time": "2021-08-10T11:31:54.540Z"
   },
   {
    "duration": 90,
    "start_time": "2021-08-10T11:31:54.557Z"
   },
   {
    "duration": 16,
    "start_time": "2021-08-10T11:31:54.650Z"
   },
   {
    "duration": 8128,
    "start_time": "2021-08-10T11:32:51.232Z"
   },
   {
    "duration": 14,
    "start_time": "2021-08-10T11:33:34.229Z"
   },
   {
    "duration": 34,
    "start_time": "2021-08-10T11:36:38.757Z"
   },
   {
    "duration": 15,
    "start_time": "2021-08-10T11:40:16.743Z"
   },
   {
    "duration": 7398,
    "start_time": "2021-08-10T11:40:30.583Z"
   },
   {
    "duration": 7432,
    "start_time": "2021-08-10T11:40:55.040Z"
   },
   {
    "duration": 6813,
    "start_time": "2021-08-10T11:42:05.557Z"
   },
   {
    "duration": 14,
    "start_time": "2021-08-10T11:42:28.505Z"
   },
   {
    "duration": 8179,
    "start_time": "2021-08-10T11:42:35.722Z"
   },
   {
    "duration": 14,
    "start_time": "2021-08-10T11:42:59.885Z"
   },
   {
    "duration": 14,
    "start_time": "2021-08-10T11:44:01.776Z"
   },
   {
    "duration": 5,
    "start_time": "2021-08-10T11:44:13.959Z"
   },
   {
    "duration": 6872,
    "start_time": "2021-08-10T11:44:15.017Z"
   },
   {
    "duration": 59,
    "start_time": "2021-08-10T11:44:22.369Z"
   },
   {
    "duration": 9,
    "start_time": "2021-08-10T11:44:22.430Z"
   },
   {
    "duration": 7,
    "start_time": "2021-08-10T11:44:22.442Z"
   },
   {
    "duration": 239,
    "start_time": "2021-08-10T11:44:22.452Z"
   },
   {
    "duration": 196,
    "start_time": "2021-08-10T11:44:22.701Z"
   },
   {
    "duration": 126,
    "start_time": "2021-08-10T11:44:22.901Z"
   },
   {
    "duration": 30,
    "start_time": "2021-08-10T11:44:23.030Z"
   },
   {
    "duration": 84,
    "start_time": "2021-08-10T11:44:23.064Z"
   },
   {
    "duration": 57,
    "start_time": "2021-08-10T11:44:23.151Z"
   },
   {
    "duration": 41,
    "start_time": "2021-08-10T11:44:23.211Z"
   },
   {
    "duration": 10,
    "start_time": "2021-08-10T11:44:23.254Z"
   },
   {
    "duration": 51,
    "start_time": "2021-08-10T11:44:23.267Z"
   },
   {
    "duration": 48,
    "start_time": "2021-08-10T11:44:23.321Z"
   },
   {
    "duration": 65,
    "start_time": "2021-08-10T11:44:23.372Z"
   },
   {
    "duration": 29,
    "start_time": "2021-08-10T11:44:23.440Z"
   },
   {
    "duration": 36,
    "start_time": "2021-08-10T11:44:23.472Z"
   },
   {
    "duration": 34,
    "start_time": "2021-08-10T11:44:23.511Z"
   },
   {
    "duration": 15,
    "start_time": "2021-08-10T11:44:23.547Z"
   },
   {
    "duration": 18,
    "start_time": "2021-08-10T11:44:23.564Z"
   },
   {
    "duration": 45,
    "start_time": "2021-08-10T11:44:23.584Z"
   },
   {
    "duration": 33,
    "start_time": "2021-08-10T11:44:23.631Z"
   },
   {
    "duration": 58,
    "start_time": "2021-08-10T11:44:23.666Z"
   },
   {
    "duration": 13,
    "start_time": "2021-08-10T11:44:23.729Z"
   },
   {
    "duration": 23,
    "start_time": "2021-08-10T11:44:23.745Z"
   },
   {
    "duration": 32,
    "start_time": "2021-08-10T11:44:23.770Z"
   },
   {
    "duration": 81,
    "start_time": "2021-08-10T11:44:23.804Z"
   },
   {
    "duration": 21,
    "start_time": "2021-08-10T11:44:23.887Z"
   },
   {
    "duration": 6963,
    "start_time": "2021-08-10T11:44:23.911Z"
   },
   {
    "duration": 12,
    "start_time": "2021-08-10T11:59:15.260Z"
   },
   {
    "duration": 20,
    "start_time": "2021-08-10T12:00:13.173Z"
   },
   {
    "duration": 60,
    "start_time": "2021-08-10T12:00:38.782Z"
   },
   {
    "duration": 9,
    "start_time": "2021-08-10T12:00:38.845Z"
   },
   {
    "duration": 14,
    "start_time": "2021-08-10T12:00:38.859Z"
   },
   {
    "duration": 372,
    "start_time": "2021-08-10T12:00:38.877Z"
   },
   {
    "duration": 278,
    "start_time": "2021-08-10T12:00:39.252Z"
   },
   {
    "duration": 199,
    "start_time": "2021-08-10T12:00:39.533Z"
   },
   {
    "duration": 43,
    "start_time": "2021-08-10T12:00:39.735Z"
   },
   {
    "duration": 136,
    "start_time": "2021-08-10T12:00:39.781Z"
   },
   {
    "duration": 54,
    "start_time": "2021-08-10T12:00:39.922Z"
   },
   {
    "duration": 63,
    "start_time": "2021-08-10T12:00:39.980Z"
   },
   {
    "duration": 12,
    "start_time": "2021-08-10T12:00:40.046Z"
   },
   {
    "duration": 56,
    "start_time": "2021-08-10T12:00:40.061Z"
   },
   {
    "duration": 43,
    "start_time": "2021-08-10T12:00:40.120Z"
   },
   {
    "duration": 76,
    "start_time": "2021-08-10T12:00:40.167Z"
   },
   {
    "duration": 56,
    "start_time": "2021-08-10T12:00:40.246Z"
   },
   {
    "duration": 23,
    "start_time": "2021-08-10T12:00:40.305Z"
   },
   {
    "duration": 24,
    "start_time": "2021-08-10T12:00:40.331Z"
   },
   {
    "duration": 51,
    "start_time": "2021-08-10T12:00:40.358Z"
   },
   {
    "duration": 12,
    "start_time": "2021-08-10T12:00:40.412Z"
   },
   {
    "duration": 86,
    "start_time": "2021-08-10T12:00:40.427Z"
   },
   {
    "duration": 46,
    "start_time": "2021-08-10T12:00:40.516Z"
   },
   {
    "duration": 64,
    "start_time": "2021-08-10T12:00:40.565Z"
   },
   {
    "duration": 20,
    "start_time": "2021-08-10T12:00:40.632Z"
   },
   {
    "duration": 7,
    "start_time": "2021-08-10T12:00:40.655Z"
   },
   {
    "duration": 52,
    "start_time": "2021-08-10T12:00:40.665Z"
   },
   {
    "duration": 123,
    "start_time": "2021-08-10T12:00:40.721Z"
   },
   {
    "duration": 23,
    "start_time": "2021-08-10T12:00:40.852Z"
   },
   {
    "duration": 7137,
    "start_time": "2021-08-10T12:00:40.879Z"
   },
   {
    "duration": -150,
    "start_time": "2021-08-10T12:00:48.169Z"
   },
   {
    "duration": -159,
    "start_time": "2021-08-10T12:00:48.179Z"
   },
   {
    "duration": 12,
    "start_time": "2021-08-10T12:00:57.644Z"
   },
   {
    "duration": 14,
    "start_time": "2021-08-10T12:01:01.378Z"
   },
   {
    "duration": 16,
    "start_time": "2021-08-10T12:01:32.404Z"
   },
   {
    "duration": 49,
    "start_time": "2021-08-10T12:01:44.660Z"
   },
   {
    "duration": 8,
    "start_time": "2021-08-10T12:01:44.815Z"
   },
   {
    "duration": 7,
    "start_time": "2021-08-10T12:01:45.152Z"
   },
   {
    "duration": 221,
    "start_time": "2021-08-10T12:01:45.337Z"
   },
   {
    "duration": 232,
    "start_time": "2021-08-10T12:01:45.689Z"
   },
   {
    "duration": 164,
    "start_time": "2021-08-10T12:01:46.074Z"
   },
   {
    "duration": 33,
    "start_time": "2021-08-10T12:01:46.432Z"
   },
   {
    "duration": 72,
    "start_time": "2021-08-10T12:01:47.142Z"
   },
   {
    "duration": 43,
    "start_time": "2021-08-10T12:01:48.090Z"
   },
   {
    "duration": 47,
    "start_time": "2021-08-10T12:01:48.532Z"
   },
   {
    "duration": 14,
    "start_time": "2021-08-10T12:01:48.718Z"
   },
   {
    "duration": 26,
    "start_time": "2021-08-10T12:01:48.924Z"
   },
   {
    "duration": 42,
    "start_time": "2021-08-10T12:01:49.344Z"
   },
   {
    "duration": 42,
    "start_time": "2021-08-10T12:01:49.778Z"
   },
   {
    "duration": 31,
    "start_time": "2021-08-10T12:01:50.144Z"
   },
   {
    "duration": 17,
    "start_time": "2021-08-10T12:01:50.561Z"
   },
   {
    "duration": 15,
    "start_time": "2021-08-10T12:01:50.784Z"
   },
   {
    "duration": 16,
    "start_time": "2021-08-10T12:01:50.973Z"
   },
   {
    "duration": 9,
    "start_time": "2021-08-10T12:01:51.173Z"
   },
   {
    "duration": 36,
    "start_time": "2021-08-10T12:01:51.561Z"
   },
   {
    "duration": 34,
    "start_time": "2021-08-10T12:01:51.959Z"
   },
   {
    "duration": 29,
    "start_time": "2021-08-10T12:01:52.365Z"
   },
   {
    "duration": 14,
    "start_time": "2021-08-10T12:01:52.761Z"
   },
   {
    "duration": 5,
    "start_time": "2021-08-10T12:01:53.380Z"
   },
   {
    "duration": 15,
    "start_time": "2021-08-10T12:01:53.577Z"
   },
   {
    "duration": 66,
    "start_time": "2021-08-10T12:01:54.163Z"
   },
   {
    "duration": 15,
    "start_time": "2021-08-10T12:01:54.431Z"
   },
   {
    "duration": 6662,
    "start_time": "2021-08-10T12:01:54.868Z"
   },
   {
    "duration": -211,
    "start_time": "2021-08-10T12:02:01.743Z"
   },
   {
    "duration": -216,
    "start_time": "2021-08-10T12:02:01.750Z"
   },
   {
    "duration": 14,
    "start_time": "2021-08-10T12:02:05.387Z"
   },
   {
    "duration": 15,
    "start_time": "2021-08-10T12:02:08.843Z"
   },
   {
    "duration": 15,
    "start_time": "2021-08-10T12:02:30.157Z"
   },
   {
    "duration": 49,
    "start_time": "2021-08-10T12:03:41.248Z"
   },
   {
    "duration": 36,
    "start_time": "2021-08-10T12:04:01.376Z"
   },
   {
    "duration": 36,
    "start_time": "2021-08-10T12:04:12.934Z"
   },
   {
    "duration": 95,
    "start_time": "2021-08-10T12:04:28.106Z"
   },
   {
    "duration": 53,
    "start_time": "2021-08-10T12:04:33.099Z"
   },
   {
    "duration": 35,
    "start_time": "2021-08-10T12:04:45.468Z"
   },
   {
    "duration": 34,
    "start_time": "2021-08-10T12:04:49.973Z"
   },
   {
    "duration": 36,
    "start_time": "2021-08-10T12:04:54.087Z"
   },
   {
    "duration": 35,
    "start_time": "2021-08-10T12:15:00.980Z"
   },
   {
    "duration": 10,
    "start_time": "2021-08-10T12:15:06.891Z"
   },
   {
    "duration": 37,
    "start_time": "2021-08-10T12:15:26.397Z"
   },
   {
    "duration": 11,
    "start_time": "2021-08-10T12:15:31.443Z"
   },
   {
    "duration": 36,
    "start_time": "2021-08-10T12:15:50.501Z"
   },
   {
    "duration": 10,
    "start_time": "2021-08-10T12:16:12.055Z"
   },
   {
    "duration": 26,
    "start_time": "2021-08-10T12:17:13.892Z"
   },
   {
    "duration": 27,
    "start_time": "2021-08-10T12:17:22.006Z"
   },
   {
    "duration": 38,
    "start_time": "2021-08-10T12:17:46.490Z"
   },
   {
    "duration": 11,
    "start_time": "2021-08-10T12:17:54.551Z"
   },
   {
    "duration": 35,
    "start_time": "2021-08-10T12:18:20.549Z"
   },
   {
    "duration": 11,
    "start_time": "2021-08-10T12:18:23.382Z"
   },
   {
    "duration": 24,
    "start_time": "2021-08-10T12:18:49.202Z"
   },
   {
    "duration": 29,
    "start_time": "2021-08-10T12:18:50.116Z"
   },
   {
    "duration": 25,
    "start_time": "2021-08-10T12:20:12.370Z"
   },
   {
    "duration": 37,
    "start_time": "2021-08-10T12:25:35.826Z"
   },
   {
    "duration": 51,
    "start_time": "2021-08-10T13:15:31.710Z"
   },
   {
    "duration": 10,
    "start_time": "2021-08-10T13:15:31.970Z"
   },
   {
    "duration": 6,
    "start_time": "2021-08-10T13:15:33.159Z"
   },
   {
    "duration": 232,
    "start_time": "2021-08-10T13:15:33.648Z"
   },
   {
    "duration": 206,
    "start_time": "2021-08-10T13:15:35.156Z"
   },
   {
    "duration": 148,
    "start_time": "2021-08-10T13:15:35.687Z"
   },
   {
    "duration": 33,
    "start_time": "2021-08-10T13:15:36.146Z"
   },
   {
    "duration": 73,
    "start_time": "2021-08-10T13:15:38.280Z"
   },
   {
    "duration": 44,
    "start_time": "2021-08-10T13:15:40.250Z"
   },
   {
    "duration": 42,
    "start_time": "2021-08-10T13:15:41.214Z"
   },
   {
    "duration": 40,
    "start_time": "2021-08-10T13:16:20.959Z"
   },
   {
    "duration": 12,
    "start_time": "2021-08-10T13:17:59.645Z"
   },
   {
    "duration": 20,
    "start_time": "2021-08-10T13:18:31.456Z"
   },
   {
    "duration": 42,
    "start_time": "2021-08-10T13:18:59.151Z"
   },
   {
    "duration": 41,
    "start_time": "2021-08-10T13:19:00.574Z"
   },
   {
    "duration": 30,
    "start_time": "2021-08-10T13:19:01.785Z"
   },
   {
    "duration": 17,
    "start_time": "2021-08-10T13:19:03.230Z"
   },
   {
    "duration": 16,
    "start_time": "2021-08-10T13:19:03.990Z"
   },
   {
    "duration": 17,
    "start_time": "2021-08-10T13:19:04.476Z"
   },
   {
    "duration": 10,
    "start_time": "2021-08-10T13:19:05.184Z"
   },
   {
    "duration": 36,
    "start_time": "2021-08-10T13:19:06.427Z"
   },
   {
    "duration": 33,
    "start_time": "2021-08-10T13:19:07.756Z"
   },
   {
    "duration": 32,
    "start_time": "2021-08-10T13:19:08.958Z"
   },
   {
    "duration": 16,
    "start_time": "2021-08-10T13:19:10.099Z"
   },
   {
    "duration": 6,
    "start_time": "2021-08-10T13:19:11.975Z"
   },
   {
    "duration": 16,
    "start_time": "2021-08-10T13:19:12.602Z"
   },
   {
    "duration": 66,
    "start_time": "2021-08-10T13:19:17.507Z"
   },
   {
    "duration": 14,
    "start_time": "2021-08-10T13:19:18.425Z"
   },
   {
    "duration": 16,
    "start_time": "2021-08-10T13:20:15.654Z"
   },
   {
    "duration": 29,
    "start_time": "2021-08-10T13:21:31.663Z"
   },
   {
    "duration": 45,
    "start_time": "2021-08-10T13:40:21.423Z"
   },
   {
    "duration": 46,
    "start_time": "2021-08-10T13:42:05.628Z"
   },
   {
    "duration": 8,
    "start_time": "2021-08-10T13:46:21.699Z"
   },
   {
    "duration": 41,
    "start_time": "2021-08-10T13:46:40.303Z"
   },
   {
    "duration": 27,
    "start_time": "2021-08-10T13:49:35.612Z"
   },
   {
    "duration": 53,
    "start_time": "2021-08-10T13:49:42.709Z"
   },
   {
    "duration": 17,
    "start_time": "2021-08-10T13:49:42.764Z"
   },
   {
    "duration": 10,
    "start_time": "2021-08-10T13:49:42.785Z"
   },
   {
    "duration": 237,
    "start_time": "2021-08-10T13:49:42.803Z"
   },
   {
    "duration": 211,
    "start_time": "2021-08-10T13:49:43.043Z"
   },
   {
    "duration": 138,
    "start_time": "2021-08-10T13:49:43.256Z"
   },
   {
    "duration": 32,
    "start_time": "2021-08-10T13:49:43.396Z"
   },
   {
    "duration": 88,
    "start_time": "2021-08-10T13:49:43.430Z"
   },
   {
    "duration": 46,
    "start_time": "2021-08-10T13:49:43.522Z"
   },
   {
    "duration": 65,
    "start_time": "2021-08-10T13:49:43.571Z"
   },
   {
    "duration": 19,
    "start_time": "2021-08-10T13:49:43.639Z"
   },
   {
    "duration": 69,
    "start_time": "2021-08-10T13:49:43.660Z"
   },
   {
    "duration": 41,
    "start_time": "2021-08-10T13:49:43.732Z"
   },
   {
    "duration": 49,
    "start_time": "2021-08-10T13:49:43.775Z"
   },
   {
    "duration": 15,
    "start_time": "2021-08-10T13:49:43.827Z"
   },
   {
    "duration": 26,
    "start_time": "2021-08-10T13:49:43.844Z"
   },
   {
    "duration": 37,
    "start_time": "2021-08-10T13:49:43.873Z"
   },
   {
    "duration": 11,
    "start_time": "2021-08-10T13:49:43.913Z"
   },
   {
    "duration": 40,
    "start_time": "2021-08-10T13:49:43.927Z"
   },
   {
    "duration": 58,
    "start_time": "2021-08-10T13:49:43.970Z"
   },
   {
    "duration": 30,
    "start_time": "2021-08-10T13:49:44.030Z"
   },
   {
    "duration": 42,
    "start_time": "2021-08-10T13:49:44.063Z"
   },
   {
    "duration": 6,
    "start_time": "2021-08-10T13:49:44.107Z"
   },
   {
    "duration": 23,
    "start_time": "2021-08-10T13:49:44.115Z"
   },
   {
    "duration": 101,
    "start_time": "2021-08-10T13:49:44.141Z"
   },
   {
    "duration": 20,
    "start_time": "2021-08-10T13:49:44.245Z"
   },
   {
    "duration": 58,
    "start_time": "2021-08-10T13:49:44.272Z"
   },
   {
    "duration": 44,
    "start_time": "2021-08-10T13:49:44.333Z"
   },
   {
    "duration": 30,
    "start_time": "2021-08-10T13:49:44.402Z"
   },
   {
    "duration": 27,
    "start_time": "2021-08-10T13:53:33.664Z"
   },
   {
    "duration": 64,
    "start_time": "2021-08-10T13:55:30.518Z"
   },
   {
    "duration": 38,
    "start_time": "2021-08-10T13:56:23.872Z"
   },
   {
    "duration": 434,
    "start_time": "2021-08-10T14:09:42.909Z"
   },
   {
    "duration": 161,
    "start_time": "2021-08-10T14:10:35.747Z"
   },
   {
    "duration": 429,
    "start_time": "2021-08-10T14:11:11.262Z"
   },
   {
    "duration": 143,
    "start_time": "2021-08-10T14:11:30.136Z"
   },
   {
    "duration": 8513,
    "start_time": "2021-08-10T14:17:15.384Z"
   },
   {
    "duration": 136,
    "start_time": "2021-08-10T14:17:48.092Z"
   },
   {
    "duration": 132,
    "start_time": "2021-08-10T14:18:01.052Z"
   },
   {
    "duration": 146,
    "start_time": "2021-08-10T14:19:06.137Z"
   },
   {
    "duration": 141,
    "start_time": "2021-08-10T14:21:18.904Z"
   },
   {
    "duration": 33,
    "start_time": "2021-08-10T14:21:42.453Z"
   },
   {
    "duration": 206,
    "start_time": "2021-08-10T14:25:54.257Z"
   },
   {
    "duration": 198,
    "start_time": "2021-08-10T14:27:18.571Z"
   },
   {
    "duration": 14,
    "start_time": "2021-08-10T15:07:00.727Z"
   },
   {
    "duration": 685,
    "start_time": "2021-08-10T15:11:22.718Z"
   },
   {
    "duration": 274,
    "start_time": "2021-08-10T15:16:39.648Z"
   },
   {
    "duration": 50,
    "start_time": "2021-08-10T15:16:53.154Z"
   },
   {
    "duration": 9,
    "start_time": "2021-08-10T15:16:53.207Z"
   },
   {
    "duration": 7,
    "start_time": "2021-08-10T15:16:53.219Z"
   },
   {
    "duration": 266,
    "start_time": "2021-08-10T15:16:53.228Z"
   },
   {
    "duration": 199,
    "start_time": "2021-08-10T15:16:53.501Z"
   },
   {
    "duration": 128,
    "start_time": "2021-08-10T15:16:53.703Z"
   },
   {
    "duration": 33,
    "start_time": "2021-08-10T15:16:53.834Z"
   },
   {
    "duration": 86,
    "start_time": "2021-08-10T15:16:53.869Z"
   },
   {
    "duration": 57,
    "start_time": "2021-08-10T15:16:53.960Z"
   },
   {
    "duration": 38,
    "start_time": "2021-08-10T15:16:54.021Z"
   },
   {
    "duration": 39,
    "start_time": "2021-08-10T15:16:54.061Z"
   },
   {
    "duration": 43,
    "start_time": "2021-08-10T15:16:54.103Z"
   },
   {
    "duration": 69,
    "start_time": "2021-08-10T15:16:54.148Z"
   },
   {
    "duration": 31,
    "start_time": "2021-08-10T15:16:54.220Z"
   },
   {
    "duration": 17,
    "start_time": "2021-08-10T15:16:54.254Z"
   },
   {
    "duration": 18,
    "start_time": "2021-08-10T15:16:54.302Z"
   },
   {
    "duration": 17,
    "start_time": "2021-08-10T15:16:54.323Z"
   },
   {
    "duration": 21,
    "start_time": "2021-08-10T15:16:54.343Z"
   },
   {
    "duration": 65,
    "start_time": "2021-08-10T15:16:54.366Z"
   },
   {
    "duration": 32,
    "start_time": "2021-08-10T15:16:54.433Z"
   },
   {
    "duration": 53,
    "start_time": "2021-08-10T15:16:54.467Z"
   },
   {
    "duration": 13,
    "start_time": "2021-08-10T15:16:54.523Z"
   },
   {
    "duration": 4,
    "start_time": "2021-08-10T15:16:54.538Z"
   },
   {
    "duration": 16,
    "start_time": "2021-08-10T15:16:54.545Z"
   },
   {
    "duration": 95,
    "start_time": "2021-08-10T15:16:54.563Z"
   },
   {
    "duration": 15,
    "start_time": "2021-08-10T15:16:54.660Z"
   },
   {
    "duration": 30,
    "start_time": "2021-08-10T15:16:54.703Z"
   },
   {
    "duration": 156,
    "start_time": "2021-08-10T15:16:54.736Z"
   },
   {
    "duration": 151,
    "start_time": "2021-08-10T15:16:54.895Z"
   },
   {
    "duration": 137,
    "start_time": "2021-08-10T15:16:55.048Z"
   },
   {
    "duration": 40,
    "start_time": "2021-08-10T15:16:55.188Z"
   },
   {
    "duration": 200,
    "start_time": "2021-08-10T15:16:55.231Z"
   },
   {
    "duration": 333,
    "start_time": "2021-08-10T15:16:55.433Z"
   },
   {
    "duration": 50,
    "start_time": "2021-08-10T15:17:10.294Z"
   },
   {
    "duration": 10,
    "start_time": "2021-08-10T15:17:10.468Z"
   },
   {
    "duration": 6,
    "start_time": "2021-08-10T15:17:10.814Z"
   },
   {
    "duration": 214,
    "start_time": "2021-08-10T15:17:11.030Z"
   },
   {
    "duration": 203,
    "start_time": "2021-08-10T15:17:11.488Z"
   },
   {
    "duration": 138,
    "start_time": "2021-08-10T15:17:11.880Z"
   },
   {
    "duration": 33,
    "start_time": "2021-08-10T15:17:12.473Z"
   },
   {
    "duration": 69,
    "start_time": "2021-08-10T15:17:13.297Z"
   },
   {
    "duration": 42,
    "start_time": "2021-08-10T15:17:13.915Z"
   },
   {
    "duration": 40,
    "start_time": "2021-08-10T15:17:14.302Z"
   },
   {
    "duration": 18,
    "start_time": "2021-08-10T15:17:14.519Z"
   },
   {
    "duration": 48,
    "start_time": "2021-08-10T15:17:14.975Z"
   },
   {
    "duration": 40,
    "start_time": "2021-08-10T15:17:15.402Z"
   },
   {
    "duration": 29,
    "start_time": "2021-08-10T15:17:15.858Z"
   },
   {
    "duration": 15,
    "start_time": "2021-08-10T15:17:16.297Z"
   },
   {
    "duration": 16,
    "start_time": "2021-08-10T15:17:16.555Z"
   },
   {
    "duration": 17,
    "start_time": "2021-08-10T15:17:16.800Z"
   },
   {
    "duration": 11,
    "start_time": "2021-08-10T15:17:17.061Z"
   },
   {
    "duration": 34,
    "start_time": "2021-08-10T15:17:17.954Z"
   },
   {
    "duration": 33,
    "start_time": "2021-08-10T15:17:18.831Z"
   },
   {
    "duration": 30,
    "start_time": "2021-08-10T15:17:19.748Z"
   },
   {
    "duration": 15,
    "start_time": "2021-08-10T15:17:20.438Z"
   },
   {
    "duration": 5,
    "start_time": "2021-08-10T15:17:21.988Z"
   },
   {
    "duration": 17,
    "start_time": "2021-08-10T15:17:22.771Z"
   },
   {
    "duration": 69,
    "start_time": "2021-08-10T15:17:23.335Z"
   },
   {
    "duration": 17,
    "start_time": "2021-08-10T15:17:23.572Z"
   },
   {
    "duration": 30,
    "start_time": "2021-08-10T15:17:23.927Z"
   },
   {
    "duration": 143,
    "start_time": "2021-08-10T15:17:24.606Z"
   },
   {
    "duration": 142,
    "start_time": "2021-08-10T15:17:24.816Z"
   },
   {
    "duration": 140,
    "start_time": "2021-08-10T15:17:25.080Z"
   },
   {
    "duration": 33,
    "start_time": "2021-08-10T15:17:25.410Z"
   },
   {
    "duration": 201,
    "start_time": "2021-08-10T15:17:25.709Z"
   },
   {
    "duration": 425,
    "start_time": "2021-08-10T15:17:26.806Z"
   },
   {
    "duration": 270,
    "start_time": "2021-08-10T15:20:52.703Z"
   },
   {
    "duration": 358,
    "start_time": "2021-08-10T15:21:00.279Z"
   },
   {
    "duration": 39,
    "start_time": "2021-08-10T15:24:28.714Z"
   },
   {
    "duration": 7,
    "start_time": "2021-08-10T15:29:10.474Z"
   },
   {
    "duration": 22,
    "start_time": "2021-08-10T15:32:18.495Z"
   },
   {
    "duration": 26,
    "start_time": "2021-08-10T15:33:53.951Z"
   },
   {
    "duration": 13,
    "start_time": "2021-08-10T15:40:55.963Z"
   },
   {
    "duration": 12,
    "start_time": "2021-08-10T15:41:17.616Z"
   },
   {
    "duration": 13,
    "start_time": "2021-08-10T15:41:35.786Z"
   },
   {
    "duration": 262,
    "start_time": "2021-08-10T15:43:13.927Z"
   },
   {
    "duration": 268,
    "start_time": "2021-08-10T15:45:01.301Z"
   },
   {
    "duration": 8,
    "start_time": "2021-08-10T15:45:23.528Z"
   },
   {
    "duration": 86,
    "start_time": "2021-08-10T15:47:09.111Z"
   },
   {
    "duration": 87,
    "start_time": "2021-08-10T15:48:46.547Z"
   },
   {
    "duration": 80,
    "start_time": "2021-08-10T15:48:56.975Z"
   },
   {
    "duration": 270,
    "start_time": "2021-08-10T15:49:09.284Z"
   },
   {
    "duration": 307,
    "start_time": "2021-08-10T15:49:13.407Z"
   },
   {
    "duration": 5,
    "start_time": "2021-08-10T15:49:33.703Z"
   },
   {
    "duration": 6,
    "start_time": "2021-08-10T15:49:49.036Z"
   },
   {
    "duration": 7,
    "start_time": "2021-08-10T15:52:01.735Z"
   },
   {
    "duration": 6,
    "start_time": "2021-08-10T15:52:09.200Z"
   },
   {
    "duration": 10,
    "start_time": "2021-08-10T15:53:06.035Z"
   },
   {
    "duration": 9,
    "start_time": "2021-08-10T15:53:26.286Z"
   },
   {
    "duration": 4,
    "start_time": "2021-08-10T16:05:25.955Z"
   },
   {
    "duration": 7,
    "start_time": "2021-08-10T16:05:37.586Z"
   },
   {
    "duration": 8,
    "start_time": "2021-08-10T16:13:05.797Z"
   },
   {
    "duration": 6,
    "start_time": "2021-08-10T16:13:12.483Z"
   },
   {
    "duration": 11,
    "start_time": "2021-08-10T16:22:00.398Z"
   },
   {
    "duration": 12,
    "start_time": "2021-08-10T16:22:25.275Z"
   },
   {
    "duration": 12,
    "start_time": "2021-08-10T16:23:08.631Z"
   },
   {
    "duration": 11,
    "start_time": "2021-08-10T16:23:23.373Z"
   },
   {
    "duration": 12,
    "start_time": "2021-08-10T16:23:31.175Z"
   },
   {
    "duration": 11,
    "start_time": "2021-08-10T16:23:38.016Z"
   },
   {
    "duration": 11,
    "start_time": "2021-08-10T16:23:45.205Z"
   },
   {
    "duration": 13,
    "start_time": "2021-08-10T16:27:40.881Z"
   },
   {
    "duration": 11,
    "start_time": "2021-08-10T16:27:59.571Z"
   },
   {
    "duration": 13,
    "start_time": "2021-08-10T16:28:04.017Z"
   },
   {
    "duration": 460,
    "start_time": "2021-08-10T17:08:16.145Z"
   },
   {
    "duration": 71,
    "start_time": "2021-08-10T17:12:15.690Z"
   },
   {
    "duration": 710,
    "start_time": "2021-08-10T17:13:43.768Z"
   },
   {
    "duration": 31,
    "start_time": "2021-08-10T17:13:56.319Z"
   },
   {
    "duration": 53,
    "start_time": "2021-08-10T17:14:32.392Z"
   },
   {
    "duration": 9,
    "start_time": "2021-08-10T17:14:32.534Z"
   },
   {
    "duration": 5,
    "start_time": "2021-08-10T17:14:32.950Z"
   },
   {
    "duration": 218,
    "start_time": "2021-08-10T17:14:33.194Z"
   },
   {
    "duration": 192,
    "start_time": "2021-08-10T17:14:33.522Z"
   },
   {
    "duration": 128,
    "start_time": "2021-08-10T17:14:33.791Z"
   },
   {
    "duration": 32,
    "start_time": "2021-08-10T17:14:34.077Z"
   },
   {
    "duration": 71,
    "start_time": "2021-08-10T17:14:34.685Z"
   },
   {
    "duration": 43,
    "start_time": "2021-08-10T17:14:35.139Z"
   },
   {
    "duration": 39,
    "start_time": "2021-08-10T17:14:35.448Z"
   },
   {
    "duration": 21,
    "start_time": "2021-08-10T17:14:35.613Z"
   },
   {
    "duration": 44,
    "start_time": "2021-08-10T17:14:35.926Z"
   },
   {
    "duration": 43,
    "start_time": "2021-08-10T17:14:36.236Z"
   },
   {
    "duration": 30,
    "start_time": "2021-08-10T17:14:36.557Z"
   },
   {
    "duration": 16,
    "start_time": "2021-08-10T17:14:37.135Z"
   },
   {
    "duration": 15,
    "start_time": "2021-08-10T17:14:37.337Z"
   },
   {
    "duration": 16,
    "start_time": "2021-08-10T17:14:37.514Z"
   },
   {
    "duration": 9,
    "start_time": "2021-08-10T17:14:37.690Z"
   },
   {
    "duration": 35,
    "start_time": "2021-08-10T17:14:38.359Z"
   },
   {
    "duration": 31,
    "start_time": "2021-08-10T17:14:38.924Z"
   },
   {
    "duration": 30,
    "start_time": "2021-08-10T17:14:39.267Z"
   },
   {
    "duration": 13,
    "start_time": "2021-08-10T17:14:39.586Z"
   },
   {
    "duration": 5,
    "start_time": "2021-08-10T17:14:40.088Z"
   },
   {
    "duration": 15,
    "start_time": "2021-08-10T17:14:40.644Z"
   },
   {
    "duration": 70,
    "start_time": "2021-08-10T17:14:42.088Z"
   },
   {
    "duration": 17,
    "start_time": "2021-08-10T17:14:42.929Z"
   },
   {
    "duration": 29,
    "start_time": "2021-08-10T17:14:44.491Z"
   },
   {
    "duration": 132,
    "start_time": "2021-08-10T17:14:44.812Z"
   },
   {
    "duration": 135,
    "start_time": "2021-08-10T17:14:45.330Z"
   },
   {
    "duration": 129,
    "start_time": "2021-08-10T17:14:45.481Z"
   },
   {
    "duration": 35,
    "start_time": "2021-08-10T17:14:45.710Z"
   },
   {
    "duration": 200,
    "start_time": "2021-08-10T17:14:45.891Z"
   },
   {
    "duration": 38,
    "start_time": "2021-08-10T17:15:33.337Z"
   },
   {
    "duration": 24,
    "start_time": "2021-08-10T17:15:34.527Z"
   },
   {
    "duration": 14,
    "start_time": "2021-08-10T17:15:37.971Z"
   },
   {
    "duration": 9,
    "start_time": "2021-08-10T17:15:38.416Z"
   },
   {
    "duration": 13,
    "start_time": "2021-08-10T17:15:39.854Z"
   },
   {
    "duration": 13,
    "start_time": "2021-08-10T17:15:41.444Z"
   },
   {
    "duration": 256,
    "start_time": "2021-08-10T17:17:03.905Z"
   },
   {
    "duration": 26,
    "start_time": "2021-08-10T17:17:31.108Z"
   },
   {
    "duration": 448,
    "start_time": "2021-08-10T17:20:02.990Z"
   },
   {
    "duration": 368,
    "start_time": "2021-08-10T17:21:02.519Z"
   },
   {
    "duration": 378,
    "start_time": "2021-08-10T17:22:20.507Z"
   },
   {
    "duration": 991,
    "start_time": "2021-08-10T17:23:10.656Z"
   },
   {
    "duration": 393,
    "start_time": "2021-08-10T17:23:27.058Z"
   },
   {
    "duration": 441,
    "start_time": "2021-08-10T17:25:26.379Z"
   },
   {
    "duration": 351,
    "start_time": "2021-08-10T17:25:45.673Z"
   },
   {
    "duration": 346,
    "start_time": "2021-08-10T17:26:48.805Z"
   },
   {
    "duration": 682,
    "start_time": "2021-08-10T17:27:56.763Z"
   },
   {
    "duration": 572,
    "start_time": "2021-08-10T17:28:28.830Z"
   },
   {
    "duration": 370,
    "start_time": "2021-08-10T17:29:04.893Z"
   },
   {
    "duration": 358,
    "start_time": "2021-08-10T17:30:53.778Z"
   },
   {
    "duration": 127,
    "start_time": "2021-08-10T17:31:14.749Z"
   },
   {
    "duration": 119,
    "start_time": "2021-08-10T17:35:39.291Z"
   },
   {
    "duration": 340,
    "start_time": "2021-08-10T17:35:48.468Z"
   },
   {
    "duration": 353,
    "start_time": "2021-08-10T17:36:03.264Z"
   },
   {
    "duration": 674,
    "start_time": "2021-08-10T17:36:58.806Z"
   },
   {
    "duration": 580,
    "start_time": "2021-08-10T17:37:10.868Z"
   },
   {
    "duration": 582,
    "start_time": "2021-08-10T17:37:22.231Z"
   },
   {
    "duration": 432,
    "start_time": "2021-08-10T17:38:21.678Z"
   },
   {
    "duration": 344,
    "start_time": "2021-08-10T17:38:53.621Z"
   },
   {
    "duration": 26,
    "start_time": "2021-08-10T17:41:30.170Z"
   },
   {
    "duration": 27,
    "start_time": "2021-08-10T17:45:53.837Z"
   },
   {
    "duration": 34,
    "start_time": "2021-08-10T17:46:26.374Z"
   },
   {
    "duration": 36,
    "start_time": "2021-08-10T17:47:07.557Z"
   },
   {
    "duration": 32,
    "start_time": "2021-08-10T17:47:22.905Z"
   },
   {
    "duration": 387,
    "start_time": "2021-08-10T17:48:52.044Z"
   },
   {
    "duration": 406,
    "start_time": "2021-08-10T17:49:05.550Z"
   },
   {
    "duration": 27,
    "start_time": "2021-08-10T17:49:45.361Z"
   },
   {
    "duration": 76,
    "start_time": "2021-08-10T17:49:58.195Z"
   },
   {
    "duration": 271,
    "start_time": "2021-08-10T17:50:21.023Z"
   },
   {
    "duration": 409,
    "start_time": "2021-08-10T17:50:27.965Z"
   },
   {
    "duration": 362,
    "start_time": "2021-08-10T17:50:40.424Z"
   },
   {
    "duration": 426,
    "start_time": "2021-08-10T17:52:08.379Z"
   },
   {
    "duration": 387,
    "start_time": "2021-08-10T17:52:15.208Z"
   },
   {
    "duration": 471,
    "start_time": "2021-08-10T17:52:24.380Z"
   },
   {
    "duration": 419,
    "start_time": "2021-08-10T17:53:15.446Z"
   },
   {
    "duration": 34,
    "start_time": "2021-08-10T17:57:13.517Z"
   },
   {
    "duration": 35,
    "start_time": "2021-08-10T17:58:15.953Z"
   },
   {
    "duration": 22,
    "start_time": "2021-08-10T18:00:57.759Z"
   },
   {
    "duration": 30,
    "start_time": "2021-08-10T18:01:18.142Z"
   },
   {
    "duration": 83,
    "start_time": "2021-08-10T18:01:21.378Z"
   },
   {
    "duration": 13,
    "start_time": "2021-08-10T18:02:35.653Z"
   },
   {
    "duration": 22,
    "start_time": "2021-08-10T18:02:49.124Z"
   },
   {
    "duration": 12,
    "start_time": "2021-08-10T18:03:10.624Z"
   },
   {
    "duration": 25,
    "start_time": "2021-08-10T18:04:26.530Z"
   },
   {
    "duration": 33,
    "start_time": "2021-08-10T18:04:54.805Z"
   },
   {
    "duration": 14,
    "start_time": "2021-08-10T18:05:41.230Z"
   },
   {
    "duration": 305,
    "start_time": "2021-08-10T18:07:08.127Z"
   },
   {
    "duration": 23,
    "start_time": "2021-08-10T18:07:20.502Z"
   },
   {
    "duration": 19,
    "start_time": "2021-08-10T18:07:48.162Z"
   },
   {
    "duration": 10,
    "start_time": "2021-08-10T18:08:51.951Z"
   },
   {
    "duration": 13,
    "start_time": "2021-08-10T18:09:41.573Z"
   },
   {
    "duration": 18,
    "start_time": "2021-08-10T18:10:06.901Z"
   },
   {
    "duration": 466,
    "start_time": "2021-08-10T18:12:23.834Z"
   },
   {
    "duration": 509,
    "start_time": "2021-08-10T18:12:38.037Z"
   },
   {
    "duration": 439,
    "start_time": "2021-08-10T18:12:44.262Z"
   },
   {
    "duration": 453,
    "start_time": "2021-08-10T18:13:00.341Z"
   },
   {
    "duration": 84,
    "start_time": "2021-08-10T18:22:02.567Z"
   },
   {
    "duration": 305,
    "start_time": "2021-08-10T18:29:14.889Z"
   },
   {
    "duration": 26,
    "start_time": "2021-08-10T18:29:23.576Z"
   },
   {
    "duration": 37,
    "start_time": "2021-08-10T18:30:06.432Z"
   },
   {
    "duration": 375,
    "start_time": "2021-08-10T18:32:51.820Z"
   },
   {
    "duration": 31,
    "start_time": "2021-08-10T18:33:35.246Z"
   },
   {
    "duration": 389,
    "start_time": "2021-08-10T18:33:38.513Z"
   },
   {
    "duration": 28,
    "start_time": "2021-08-10T18:51:55.254Z"
   },
   {
    "duration": 17,
    "start_time": "2021-08-10T18:55:54.329Z"
   },
   {
    "duration": 8,
    "start_time": "2021-08-10T18:55:54.856Z"
   },
   {
    "duration": 11,
    "start_time": "2021-08-10T18:55:55.183Z"
   },
   {
    "duration": 12,
    "start_time": "2021-08-10T18:55:55.705Z"
   },
   {
    "duration": 28,
    "start_time": "2021-08-10T18:55:56.087Z"
   },
   {
    "duration": 389,
    "start_time": "2021-08-10T18:55:56.260Z"
   },
   {
    "duration": 250,
    "start_time": "2021-08-10T18:55:56.652Z"
   },
   {
    "duration": 28,
    "start_time": "2021-08-10T18:57:56.729Z"
   },
   {
    "duration": 280,
    "start_time": "2021-08-10T18:58:19.945Z"
   },
   {
    "duration": 76,
    "start_time": "2021-08-10T18:58:32.444Z"
   },
   {
    "duration": 17,
    "start_time": "2021-08-10T18:59:02.422Z"
   },
   {
    "duration": 8,
    "start_time": "2021-08-10T18:59:02.969Z"
   },
   {
    "duration": 14,
    "start_time": "2021-08-10T18:59:03.613Z"
   },
   {
    "duration": 12,
    "start_time": "2021-08-10T18:59:04.155Z"
   },
   {
    "duration": 29,
    "start_time": "2021-08-10T18:59:04.664Z"
   },
   {
    "duration": 412,
    "start_time": "2021-08-10T18:59:04.873Z"
   },
   {
    "duration": 11,
    "start_time": "2021-08-10T18:59:52.148Z"
   },
   {
    "duration": 32,
    "start_time": "2021-08-10T19:01:35.078Z"
   },
   {
    "duration": 42,
    "start_time": "2021-08-10T19:01:41.596Z"
   },
   {
    "duration": 75,
    "start_time": "2021-08-10T19:01:43.842Z"
   },
   {
    "duration": 17,
    "start_time": "2021-08-10T19:01:45.577Z"
   },
   {
    "duration": 8,
    "start_time": "2021-08-10T19:01:46.189Z"
   },
   {
    "duration": 11,
    "start_time": "2021-08-10T19:01:47.846Z"
   },
   {
    "duration": 11,
    "start_time": "2021-08-10T19:01:49.179Z"
   },
   {
    "duration": 34,
    "start_time": "2021-08-10T19:04:36.479Z"
   },
   {
    "duration": 443,
    "start_time": "2021-08-10T19:06:35.922Z"
   },
   {
    "duration": 411,
    "start_time": "2021-08-10T19:06:54.697Z"
   },
   {
    "duration": 389,
    "start_time": "2021-08-10T19:13:50.230Z"
   },
   {
    "duration": 400,
    "start_time": "2021-08-10T19:14:01.625Z"
   },
   {
    "duration": 31,
    "start_time": "2021-08-10T19:30:10.142Z"
   },
   {
    "duration": 535,
    "start_time": "2021-08-10T19:31:27.984Z"
   },
   {
    "duration": 281,
    "start_time": "2021-08-11T07:58:38.820Z"
   },
   {
    "duration": 910,
    "start_time": "2021-08-11T07:58:59.934Z"
   },
   {
    "duration": 7,
    "start_time": "2021-08-11T07:59:00.845Z"
   },
   {
    "duration": 25,
    "start_time": "2021-08-11T07:59:00.853Z"
   },
   {
    "duration": 186,
    "start_time": "2021-08-11T07:59:00.880Z"
   },
   {
    "duration": 144,
    "start_time": "2021-08-11T07:59:01.437Z"
   },
   {
    "duration": 105,
    "start_time": "2021-08-11T07:59:01.802Z"
   },
   {
    "duration": 24,
    "start_time": "2021-08-11T07:59:02.180Z"
   },
   {
    "duration": 52,
    "start_time": "2021-08-11T07:59:02.986Z"
   },
   {
    "duration": 27,
    "start_time": "2021-08-11T07:59:03.764Z"
   },
   {
    "duration": 29,
    "start_time": "2021-08-11T07:59:04.180Z"
   },
   {
    "duration": 13,
    "start_time": "2021-08-11T07:59:04.420Z"
   },
   {
    "duration": 29,
    "start_time": "2021-08-11T07:59:05.005Z"
   },
   {
    "duration": 26,
    "start_time": "2021-08-11T07:59:05.391Z"
   },
   {
    "duration": 21,
    "start_time": "2021-08-11T07:59:05.744Z"
   },
   {
    "duration": 16,
    "start_time": "2021-08-11T07:59:06.163Z"
   },
   {
    "duration": 11,
    "start_time": "2021-08-11T07:59:06.336Z"
   },
   {
    "duration": 10,
    "start_time": "2021-08-11T07:59:06.538Z"
   },
   {
    "duration": 6,
    "start_time": "2021-08-11T07:59:06.864Z"
   },
   {
    "duration": 24,
    "start_time": "2021-08-11T07:59:07.275Z"
   },
   {
    "duration": 21,
    "start_time": "2021-08-11T07:59:07.684Z"
   },
   {
    "duration": 21,
    "start_time": "2021-08-11T07:59:08.092Z"
   },
   {
    "duration": 9,
    "start_time": "2021-08-11T07:59:08.448Z"
   },
   {
    "duration": 4,
    "start_time": "2021-08-11T07:59:09.063Z"
   },
   {
    "duration": 9,
    "start_time": "2021-08-11T07:59:09.266Z"
   },
   {
    "duration": 37,
    "start_time": "2021-08-11T07:59:09.903Z"
   },
   {
    "duration": 11,
    "start_time": "2021-08-11T07:59:10.135Z"
   },
   {
    "duration": 16,
    "start_time": "2021-08-11T07:59:10.697Z"
   },
   {
    "duration": 74,
    "start_time": "2021-08-11T07:59:11.126Z"
   },
   {
    "duration": 70,
    "start_time": "2021-08-11T07:59:11.315Z"
   },
   {
    "duration": 72,
    "start_time": "2021-08-11T07:59:11.566Z"
   },
   {
    "duration": 18,
    "start_time": "2021-08-11T07:59:11.767Z"
   },
   {
    "duration": 104,
    "start_time": "2021-08-11T07:59:12.003Z"
   },
   {
    "duration": 17,
    "start_time": "2021-08-11T07:59:13.121Z"
   },
   {
    "duration": 275,
    "start_time": "2021-08-11T07:59:13.329Z"
   },
   {
    "duration": 42,
    "start_time": "2021-08-11T07:59:13.792Z"
   },
   {
    "duration": 11,
    "start_time": "2021-08-11T07:59:14.377Z"
   },
   {
    "duration": 18,
    "start_time": "2021-08-11T07:59:41.127Z"
   },
   {
    "duration": 40,
    "start_time": "2021-08-11T07:59:42.655Z"
   },
   {
    "duration": 10,
    "start_time": "2021-08-11T07:59:43.672Z"
   },
   {
    "duration": 5,
    "start_time": "2021-08-11T07:59:44.161Z"
   },
   {
    "duration": 6,
    "start_time": "2021-08-11T07:59:45.100Z"
   },
   {
    "duration": 7,
    "start_time": "2021-08-11T07:59:45.936Z"
   },
   {
    "duration": 17,
    "start_time": "2021-08-11T07:59:46.571Z"
   },
   {
    "duration": 283,
    "start_time": "2021-08-11T07:59:46.723Z"
   },
   {
    "duration": 17,
    "start_time": "2021-08-11T07:59:47.886Z"
   },
   {
    "duration": 216,
    "start_time": "2021-08-11T07:59:48.061Z"
   },
   {
    "duration": 19,
    "start_time": "2021-08-11T07:59:49.077Z"
   },
   {
    "duration": 227,
    "start_time": "2021-08-11T07:59:49.260Z"
   },
   {
    "duration": 13,
    "start_time": "2021-08-11T07:59:51.534Z"
   },
   {
    "duration": 20,
    "start_time": "2021-08-11T08:00:23.100Z"
   },
   {
    "duration": 510,
    "start_time": "2021-08-11T08:01:28.456Z"
   },
   {
    "duration": 14,
    "start_time": "2021-08-11T08:02:06.998Z"
   },
   {
    "duration": 65,
    "start_time": "2021-08-11T08:10:24.674Z"
   },
   {
    "duration": 236,
    "start_time": "2021-08-11T08:29:47.058Z"
   },
   {
    "duration": 10,
    "start_time": "2021-08-11T08:29:57.859Z"
   },
   {
    "duration": 7,
    "start_time": "2021-08-11T08:30:19.260Z"
   },
   {
    "duration": 7,
    "start_time": "2021-08-11T08:30:26.057Z"
   },
   {
    "duration": 346,
    "start_time": "2021-08-11T08:33:26.142Z"
   },
   {
    "duration": 8,
    "start_time": "2021-08-11T08:33:33.010Z"
   },
   {
    "duration": 7,
    "start_time": "2021-08-11T08:35:52.636Z"
   },
   {
    "duration": 7,
    "start_time": "2021-08-11T08:35:58.286Z"
   },
   {
    "duration": 17,
    "start_time": "2021-08-11T08:43:02.704Z"
   },
   {
    "duration": 141,
    "start_time": "2021-08-11T08:43:12.705Z"
   },
   {
    "duration": 356,
    "start_time": "2021-08-11T08:49:07.331Z"
   },
   {
    "duration": 36,
    "start_time": "2021-08-11T08:50:12.134Z"
   },
   {
    "duration": 8,
    "start_time": "2021-08-11T08:50:12.286Z"
   },
   {
    "duration": 4,
    "start_time": "2021-08-11T08:50:12.857Z"
   },
   {
    "duration": 168,
    "start_time": "2021-08-11T08:50:14.885Z"
   },
   {
    "duration": 142,
    "start_time": "2021-08-11T08:50:15.055Z"
   },
   {
    "duration": 96,
    "start_time": "2021-08-11T08:50:15.199Z"
   },
   {
    "duration": 26,
    "start_time": "2021-08-11T08:50:15.297Z"
   },
   {
    "duration": 56,
    "start_time": "2021-08-11T08:50:15.589Z"
   },
   {
    "duration": 28,
    "start_time": "2021-08-11T08:50:16.244Z"
   },
   {
    "duration": 39,
    "start_time": "2021-08-11T08:50:16.725Z"
   },
   {
    "duration": 17,
    "start_time": "2021-08-11T08:50:17.181Z"
   },
   {
    "duration": 29,
    "start_time": "2021-08-11T08:50:17.866Z"
   },
   {
    "duration": 26,
    "start_time": "2021-08-11T08:50:18.923Z"
   },
   {
    "duration": 22,
    "start_time": "2021-08-11T08:50:20.069Z"
   },
   {
    "duration": 13,
    "start_time": "2021-08-11T08:50:21.030Z"
   },
   {
    "duration": 11,
    "start_time": "2021-08-11T08:50:21.634Z"
   },
   {
    "duration": 11,
    "start_time": "2021-08-11T08:50:22.208Z"
   },
   {
    "duration": 7,
    "start_time": "2021-08-11T08:50:22.739Z"
   },
   {
    "duration": 24,
    "start_time": "2021-08-11T08:50:23.699Z"
   },
   {
    "duration": 22,
    "start_time": "2021-08-11T08:50:24.686Z"
   },
   {
    "duration": 21,
    "start_time": "2021-08-11T08:50:25.752Z"
   },
   {
    "duration": 9,
    "start_time": "2021-08-11T08:50:26.790Z"
   },
   {
    "duration": 4,
    "start_time": "2021-08-11T08:50:28.212Z"
   },
   {
    "duration": 10,
    "start_time": "2021-08-11T08:50:28.827Z"
   },
   {
    "duration": 58,
    "start_time": "2021-08-11T08:50:30.561Z"
   },
   {
    "duration": 11,
    "start_time": "2021-08-11T08:50:31.204Z"
   },
   {
    "duration": 17,
    "start_time": "2021-08-11T08:50:33.143Z"
   },
   {
    "duration": 71,
    "start_time": "2021-08-11T08:50:35.681Z"
   },
   {
    "duration": 73,
    "start_time": "2021-08-11T08:50:36.090Z"
   },
   {
    "duration": 74,
    "start_time": "2021-08-11T08:50:36.395Z"
   },
   {
    "duration": 21,
    "start_time": "2021-08-11T08:50:36.819Z"
   },
   {
    "duration": 107,
    "start_time": "2021-08-11T08:50:37.728Z"
   },
   {
    "duration": 21,
    "start_time": "2021-08-11T08:50:59.424Z"
   },
   {
    "duration": 23,
    "start_time": "2021-08-11T08:51:06.705Z"
   },
   {
    "duration": 47,
    "start_time": "2021-08-11T08:51:13.384Z"
   },
   {
    "duration": 16,
    "start_time": "2021-08-11T08:51:14.711Z"
   },
   {
    "duration": 7,
    "start_time": "2021-08-11T08:51:15.313Z"
   },
   {
    "duration": 8,
    "start_time": "2021-08-11T08:51:16.256Z"
   },
   {
    "duration": 8,
    "start_time": "2021-08-11T08:51:17.234Z"
   },
   {
    "duration": 18,
    "start_time": "2021-08-11T08:51:19.895Z"
   },
   {
    "duration": 225,
    "start_time": "2021-08-11T08:51:20.657Z"
   },
   {
    "duration": 17,
    "start_time": "2021-08-11T08:51:22.460Z"
   },
   {
    "duration": 222,
    "start_time": "2021-08-11T08:51:23.460Z"
   },
   {
    "duration": 18,
    "start_time": "2021-08-11T08:51:38.069Z"
   },
   {
    "duration": 244,
    "start_time": "2021-08-11T08:51:38.499Z"
   },
   {
    "duration": 12,
    "start_time": "2021-08-11T08:52:33.034Z"
   },
   {
    "duration": 20,
    "start_time": "2021-08-11T08:53:27.236Z"
   },
   {
    "duration": 19,
    "start_time": "2021-08-11T08:53:59.101Z"
   },
   {
    "duration": 19,
    "start_time": "2021-08-11T08:54:11.998Z"
   },
   {
    "duration": 262,
    "start_time": "2021-08-11T08:58:57.823Z"
   },
   {
    "duration": 253,
    "start_time": "2021-08-11T08:59:23.605Z"
   },
   {
    "duration": 11,
    "start_time": "2021-08-11T08:59:54.483Z"
   },
   {
    "duration": 270,
    "start_time": "2021-08-11T09:00:10.210Z"
   },
   {
    "duration": 251,
    "start_time": "2021-08-11T09:00:26.978Z"
   },
   {
    "duration": 6,
    "start_time": "2021-08-11T09:00:51.586Z"
   },
   {
    "duration": 23,
    "start_time": "2021-08-11T09:01:04.438Z"
   },
   {
    "duration": 18,
    "start_time": "2021-08-11T09:01:41.800Z"
   },
   {
    "duration": 18,
    "start_time": "2021-08-11T09:02:18.744Z"
   },
   {
    "duration": 354,
    "start_time": "2021-08-11T09:03:40.676Z"
   },
   {
    "duration": 261,
    "start_time": "2021-08-11T09:04:07.084Z"
   },
   {
    "duration": 264,
    "start_time": "2021-08-11T09:04:46.881Z"
   },
   {
    "duration": 627,
    "start_time": "2021-08-11T09:05:33.240Z"
   },
   {
    "duration": 8,
    "start_time": "2021-08-11T09:06:21.147Z"
   },
   {
    "duration": 8,
    "start_time": "2021-08-11T09:06:53.821Z"
   },
   {
    "duration": 8,
    "start_time": "2021-08-11T09:07:17.202Z"
   },
   {
    "duration": 20,
    "start_time": "2021-08-11T09:07:35.893Z"
   },
   {
    "duration": 21,
    "start_time": "2021-08-11T09:07:56.343Z"
   },
   {
    "duration": 16,
    "start_time": "2021-08-11T09:11:17.711Z"
   },
   {
    "duration": 17,
    "start_time": "2021-08-11T09:13:09.779Z"
   },
   {
    "duration": 18,
    "start_time": "2021-08-11T09:14:01.961Z"
   },
   {
    "duration": 27,
    "start_time": "2021-08-11T09:14:18.956Z"
   },
   {
    "duration": 10,
    "start_time": "2021-08-11T09:16:42.707Z"
   },
   {
    "duration": 12,
    "start_time": "2021-08-11T09:17:17.455Z"
   },
   {
    "duration": 12,
    "start_time": "2021-08-11T09:17:18.720Z"
   },
   {
    "duration": 10,
    "start_time": "2021-08-11T09:17:20.062Z"
   },
   {
    "duration": 43,
    "start_time": "2021-08-11T09:18:39.079Z"
   },
   {
    "duration": 8,
    "start_time": "2021-08-11T09:18:39.125Z"
   },
   {
    "duration": 5,
    "start_time": "2021-08-11T09:18:39.135Z"
   },
   {
    "duration": 163,
    "start_time": "2021-08-11T09:18:39.142Z"
   },
   {
    "duration": 148,
    "start_time": "2021-08-11T09:18:39.307Z"
   },
   {
    "duration": 97,
    "start_time": "2021-08-11T09:18:39.457Z"
   },
   {
    "duration": 23,
    "start_time": "2021-08-11T09:18:39.555Z"
   },
   {
    "duration": 56,
    "start_time": "2021-08-11T09:18:39.580Z"
   },
   {
    "duration": 28,
    "start_time": "2021-08-11T09:18:39.641Z"
   },
   {
    "duration": 26,
    "start_time": "2021-08-11T09:18:39.671Z"
   },
   {
    "duration": 11,
    "start_time": "2021-08-11T09:18:39.699Z"
   },
   {
    "duration": 56,
    "start_time": "2021-08-11T09:18:39.712Z"
   },
   {
    "duration": 25,
    "start_time": "2021-08-11T09:18:39.770Z"
   },
   {
    "duration": 18,
    "start_time": "2021-08-11T09:18:39.797Z"
   },
   {
    "duration": 33,
    "start_time": "2021-08-11T09:18:39.816Z"
   },
   {
    "duration": 19,
    "start_time": "2021-08-11T09:18:39.850Z"
   },
   {
    "duration": 21,
    "start_time": "2021-08-11T09:18:39.870Z"
   },
   {
    "duration": 10,
    "start_time": "2021-08-11T09:18:39.893Z"
   },
   {
    "duration": 25,
    "start_time": "2021-08-11T09:18:39.904Z"
   },
   {
    "duration": 30,
    "start_time": "2021-08-11T09:18:39.931Z"
   },
   {
    "duration": 20,
    "start_time": "2021-08-11T09:18:39.963Z"
   },
   {
    "duration": 8,
    "start_time": "2021-08-11T09:18:39.985Z"
   },
   {
    "duration": 4,
    "start_time": "2021-08-11T09:18:39.995Z"
   },
   {
    "duration": 13,
    "start_time": "2021-08-11T09:18:40.001Z"
   },
   {
    "duration": 43,
    "start_time": "2021-08-11T09:18:40.042Z"
   },
   {
    "duration": 12,
    "start_time": "2021-08-11T09:18:40.087Z"
   },
   {
    "duration": 47,
    "start_time": "2021-08-11T09:18:40.104Z"
   },
   {
    "duration": 76,
    "start_time": "2021-08-11T09:18:40.153Z"
   },
   {
    "duration": 75,
    "start_time": "2021-08-11T09:18:40.241Z"
   },
   {
    "duration": 88,
    "start_time": "2021-08-11T09:18:40.318Z"
   },
   {
    "duration": 19,
    "start_time": "2021-08-11T09:18:40.408Z"
   },
   {
    "duration": 115,
    "start_time": "2021-08-11T09:18:40.429Z"
   },
   {
    "duration": 20,
    "start_time": "2021-08-11T09:18:40.546Z"
   },
   {
    "duration": 23,
    "start_time": "2021-08-11T09:18:40.568Z"
   },
   {
    "duration": 73,
    "start_time": "2021-08-11T09:18:40.593Z"
   },
   {
    "duration": 12,
    "start_time": "2021-08-11T09:18:40.668Z"
   },
   {
    "duration": 5,
    "start_time": "2021-08-11T09:18:40.681Z"
   },
   {
    "duration": 13,
    "start_time": "2021-08-11T09:18:40.688Z"
   },
   {
    "duration": 9,
    "start_time": "2021-08-11T09:18:40.702Z"
   },
   {
    "duration": 38,
    "start_time": "2021-08-11T09:18:40.713Z"
   },
   {
    "duration": 242,
    "start_time": "2021-08-11T09:18:40.754Z"
   },
   {
    "duration": 17,
    "start_time": "2021-08-11T09:18:40.997Z"
   },
   {
    "duration": 298,
    "start_time": "2021-08-11T09:18:41.016Z"
   },
   {
    "duration": 32,
    "start_time": "2021-08-11T09:18:41.316Z"
   },
   {
    "duration": 248,
    "start_time": "2021-08-11T09:18:41.350Z"
   },
   {
    "duration": 11,
    "start_time": "2021-08-11T09:18:41.600Z"
   },
   {
    "duration": 32,
    "start_time": "2021-08-11T09:18:41.613Z"
   },
   {
    "duration": 16,
    "start_time": "2021-08-11T09:18:41.647Z"
   },
   {
    "duration": 10,
    "start_time": "2021-08-11T09:18:41.665Z"
   },
   {
    "duration": 35,
    "start_time": "2021-08-11T09:19:23.991Z"
   },
   {
    "duration": 7,
    "start_time": "2021-08-11T09:19:24.164Z"
   },
   {
    "duration": 4,
    "start_time": "2021-08-11T09:19:24.578Z"
   },
   {
    "duration": 162,
    "start_time": "2021-08-11T09:19:24.731Z"
   },
   {
    "duration": 139,
    "start_time": "2021-08-11T09:19:25.083Z"
   },
   {
    "duration": 105,
    "start_time": "2021-08-11T09:19:25.406Z"
   },
   {
    "duration": 26,
    "start_time": "2021-08-11T09:19:25.958Z"
   },
   {
    "duration": 69,
    "start_time": "2021-08-11T09:19:26.891Z"
   },
   {
    "duration": 28,
    "start_time": "2021-08-11T09:19:27.613Z"
   },
   {
    "duration": 27,
    "start_time": "2021-08-11T09:19:28.044Z"
   },
   {
    "duration": 12,
    "start_time": "2021-08-11T09:19:28.279Z"
   },
   {
    "duration": 30,
    "start_time": "2021-08-11T09:19:28.591Z"
   },
   {
    "duration": 25,
    "start_time": "2021-08-11T09:19:29.050Z"
   },
   {
    "duration": 20,
    "start_time": "2021-08-11T09:19:29.413Z"
   },
   {
    "duration": 10,
    "start_time": "2021-08-11T09:19:29.920Z"
   },
   {
    "duration": 11,
    "start_time": "2021-08-11T09:19:30.006Z"
   },
   {
    "duration": 11,
    "start_time": "2021-08-11T09:19:30.193Z"
   },
   {
    "duration": 6,
    "start_time": "2021-08-11T09:19:30.377Z"
   },
   {
    "duration": 25,
    "start_time": "2021-08-11T09:19:30.777Z"
   },
   {
    "duration": 22,
    "start_time": "2021-08-11T09:19:31.331Z"
   },
   {
    "duration": 21,
    "start_time": "2021-08-11T09:19:31.890Z"
   },
   {
    "duration": 9,
    "start_time": "2021-08-11T09:19:32.254Z"
   },
   {
    "duration": 4,
    "start_time": "2021-08-11T09:19:32.808Z"
   },
   {
    "duration": 10,
    "start_time": "2021-08-11T09:19:33.002Z"
   },
   {
    "duration": 41,
    "start_time": "2021-08-11T09:19:33.929Z"
   },
   {
    "duration": 11,
    "start_time": "2021-08-11T09:19:34.133Z"
   },
   {
    "duration": 18,
    "start_time": "2021-08-11T09:19:34.581Z"
   },
   {
    "duration": 72,
    "start_time": "2021-08-11T09:19:35.085Z"
   },
   {
    "duration": 74,
    "start_time": "2021-08-11T09:19:35.375Z"
   },
   {
    "duration": 71,
    "start_time": "2021-08-11T09:19:35.598Z"
   },
   {
    "duration": 19,
    "start_time": "2021-08-11T09:19:35.833Z"
   },
   {
    "duration": 108,
    "start_time": "2021-08-11T09:19:36.045Z"
   },
   {
    "duration": 20,
    "start_time": "2021-08-11T09:19:37.117Z"
   },
   {
    "duration": 22,
    "start_time": "2021-08-11T09:19:37.352Z"
   },
   {
    "duration": 46,
    "start_time": "2021-08-11T09:19:37.693Z"
   },
   {
    "duration": 12,
    "start_time": "2021-08-11T09:19:38.163Z"
   },
   {
    "duration": 6,
    "start_time": "2021-08-11T09:19:38.335Z"
   },
   {
    "duration": 8,
    "start_time": "2021-08-11T09:19:38.794Z"
   },
   {
    "duration": 7,
    "start_time": "2021-08-11T09:19:39.130Z"
   },
   {
    "duration": 17,
    "start_time": "2021-08-11T09:19:39.778Z"
   },
   {
    "duration": 230,
    "start_time": "2021-08-11T09:19:40.033Z"
   },
   {
    "duration": 18,
    "start_time": "2021-08-11T09:19:40.583Z"
   },
   {
    "duration": 226,
    "start_time": "2021-08-11T09:19:40.778Z"
   },
   {
    "duration": 18,
    "start_time": "2021-08-11T09:19:41.374Z"
   },
   {
    "duration": 251,
    "start_time": "2021-08-11T09:19:41.813Z"
   },
   {
    "duration": 11,
    "start_time": "2021-08-11T09:19:43.333Z"
   },
   {
    "duration": 20,
    "start_time": "2021-08-11T09:19:44.745Z"
   },
   {
    "duration": 17,
    "start_time": "2021-08-11T09:19:45.104Z"
   },
   {
    "duration": 12,
    "start_time": "2021-08-11T09:19:45.655Z"
   },
   {
    "duration": 12,
    "start_time": "2021-08-11T09:20:32.279Z"
   },
   {
    "duration": 12,
    "start_time": "2021-08-11T09:20:56.091Z"
   },
   {
    "duration": 11,
    "start_time": "2021-08-11T09:21:01.676Z"
   },
   {
    "duration": 12,
    "start_time": "2021-08-11T09:21:10.303Z"
   },
   {
    "duration": 9,
    "start_time": "2021-08-11T09:21:11.010Z"
   },
   {
    "duration": 11,
    "start_time": "2021-08-11T09:23:41.264Z"
   },
   {
    "duration": 12,
    "start_time": "2021-08-11T09:23:43.510Z"
   },
   {
    "duration": 14,
    "start_time": "2021-08-11T09:23:43.856Z"
   },
   {
    "duration": 10,
    "start_time": "2021-08-11T09:23:44.577Z"
   },
   {
    "duration": 36,
    "start_time": "2021-08-11T10:18:32.064Z"
   },
   {
    "duration": 5,
    "start_time": "2021-08-11T10:18:32.102Z"
   },
   {
    "duration": 13,
    "start_time": "2021-08-11T10:18:32.109Z"
   },
   {
    "duration": 161,
    "start_time": "2021-08-11T10:18:32.124Z"
   },
   {
    "duration": 138,
    "start_time": "2021-08-11T10:18:32.286Z"
   },
   {
    "duration": 103,
    "start_time": "2021-08-11T10:18:32.426Z"
   },
   {
    "duration": 26,
    "start_time": "2021-08-11T10:18:32.540Z"
   },
   {
    "duration": 49,
    "start_time": "2021-08-11T10:18:32.568Z"
   },
   {
    "duration": 37,
    "start_time": "2021-08-11T10:18:32.620Z"
   },
   {
    "duration": 27,
    "start_time": "2021-08-11T10:18:32.659Z"
   },
   {
    "duration": 10,
    "start_time": "2021-08-11T10:18:32.687Z"
   },
   {
    "duration": 52,
    "start_time": "2021-08-11T10:18:32.699Z"
   },
   {
    "duration": 25,
    "start_time": "2021-08-11T10:18:32.753Z"
   },
   {
    "duration": 18,
    "start_time": "2021-08-11T10:18:32.780Z"
   },
   {
    "duration": 14,
    "start_time": "2021-08-11T10:18:32.800Z"
   },
   {
    "duration": 29,
    "start_time": "2021-08-11T10:18:32.815Z"
   },
   {
    "duration": 13,
    "start_time": "2021-08-11T10:18:32.846Z"
   },
   {
    "duration": 16,
    "start_time": "2021-08-11T10:18:32.860Z"
   },
   {
    "duration": 35,
    "start_time": "2021-08-11T10:18:32.877Z"
   },
   {
    "duration": 24,
    "start_time": "2021-08-11T10:18:32.914Z"
   },
   {
    "duration": 20,
    "start_time": "2021-08-11T10:18:32.940Z"
   },
   {
    "duration": 7,
    "start_time": "2021-08-11T10:18:32.962Z"
   },
   {
    "duration": 6,
    "start_time": "2021-08-11T10:18:32.971Z"
   },
   {
    "duration": 14,
    "start_time": "2021-08-11T10:18:32.978Z"
   },
   {
    "duration": 55,
    "start_time": "2021-08-11T10:18:32.994Z"
   },
   {
    "duration": 10,
    "start_time": "2021-08-11T10:18:33.050Z"
   },
   {
    "duration": 34,
    "start_time": "2021-08-11T10:18:33.064Z"
   },
   {
    "duration": 83,
    "start_time": "2021-08-11T10:18:33.101Z"
   },
   {
    "duration": 77,
    "start_time": "2021-08-11T10:18:33.185Z"
   },
   {
    "duration": 80,
    "start_time": "2021-08-11T10:18:33.263Z"
   },
   {
    "duration": 19,
    "start_time": "2021-08-11T10:18:33.345Z"
   },
   {
    "duration": 112,
    "start_time": "2021-08-11T10:18:33.365Z"
   },
   {
    "duration": 18,
    "start_time": "2021-08-11T10:18:33.478Z"
   },
   {
    "duration": 26,
    "start_time": "2021-08-11T10:18:33.497Z"
   },
   {
    "duration": 56,
    "start_time": "2021-08-11T10:18:33.524Z"
   },
   {
    "duration": 13,
    "start_time": "2021-08-11T10:18:33.581Z"
   },
   {
    "duration": 39,
    "start_time": "2021-08-11T10:18:33.595Z"
   },
   {
    "duration": 29,
    "start_time": "2021-08-11T10:18:33.636Z"
   },
   {
    "duration": 31,
    "start_time": "2021-08-11T10:18:33.667Z"
   },
   {
    "duration": 36,
    "start_time": "2021-08-11T10:18:33.700Z"
   },
   {
    "duration": 225,
    "start_time": "2021-08-11T10:18:33.737Z"
   },
   {
    "duration": 16,
    "start_time": "2021-08-11T10:18:33.964Z"
   },
   {
    "duration": 235,
    "start_time": "2021-08-11T10:18:33.982Z"
   },
   {
    "duration": 23,
    "start_time": "2021-08-11T10:18:34.218Z"
   },
   {
    "duration": 242,
    "start_time": "2021-08-11T10:18:34.243Z"
   },
   {
    "duration": 12,
    "start_time": "2021-08-11T10:18:34.486Z"
   },
   {
    "duration": 27,
    "start_time": "2021-08-11T10:18:34.499Z"
   },
   {
    "duration": 37,
    "start_time": "2021-08-11T10:18:34.528Z"
   },
   {
    "duration": 16,
    "start_time": "2021-08-11T10:18:34.566Z"
   },
   {
    "duration": 64,
    "start_time": "2021-08-11T13:48:06.468Z"
   },
   {
    "duration": 65,
    "start_time": "2021-08-11T13:50:10.988Z"
   },
   {
    "duration": 56,
    "start_time": "2021-08-11T13:52:01.600Z"
   },
   {
    "duration": 588,
    "start_time": "2021-08-11T13:52:27.696Z"
   },
   {
    "duration": 6,
    "start_time": "2021-08-11T13:52:28.286Z"
   },
   {
    "duration": 4,
    "start_time": "2021-08-11T13:52:28.295Z"
   },
   {
    "duration": 182,
    "start_time": "2021-08-11T13:52:28.302Z"
   },
   {
    "duration": 153,
    "start_time": "2021-08-11T13:52:28.486Z"
   },
   {
    "duration": 109,
    "start_time": "2021-08-11T13:52:28.641Z"
   },
   {
    "duration": 25,
    "start_time": "2021-08-11T13:52:28.752Z"
   },
   {
    "duration": 59,
    "start_time": "2021-08-11T13:52:28.784Z"
   },
   {
    "duration": 46,
    "start_time": "2021-08-11T13:52:28.844Z"
   },
   {
    "duration": 29,
    "start_time": "2021-08-11T13:52:28.891Z"
   },
   {
    "duration": 10,
    "start_time": "2021-08-11T13:52:28.922Z"
   },
   {
    "duration": 51,
    "start_time": "2021-08-11T13:52:28.934Z"
   },
   {
    "duration": 26,
    "start_time": "2021-08-11T13:52:28.987Z"
   },
   {
    "duration": 23,
    "start_time": "2021-08-11T13:52:29.014Z"
   },
   {
    "duration": 14,
    "start_time": "2021-08-11T13:52:29.039Z"
   },
   {
    "duration": 30,
    "start_time": "2021-08-11T13:52:29.055Z"
   },
   {
    "duration": 8,
    "start_time": "2021-08-11T13:52:29.087Z"
   },
   {
    "duration": 8,
    "start_time": "2021-08-11T13:52:29.097Z"
   },
   {
    "duration": 27,
    "start_time": "2021-08-11T13:52:29.107Z"
   },
   {
    "duration": 22,
    "start_time": "2021-08-11T13:52:29.136Z"
   },
   {
    "duration": 44,
    "start_time": "2021-08-11T13:52:29.159Z"
   },
   {
    "duration": 9,
    "start_time": "2021-08-11T13:52:29.205Z"
   },
   {
    "duration": 4,
    "start_time": "2021-08-11T13:52:29.217Z"
   },
   {
    "duration": 11,
    "start_time": "2021-08-11T13:52:29.222Z"
   },
   {
    "duration": 68,
    "start_time": "2021-08-11T13:52:29.234Z"
   },
   {
    "duration": 10,
    "start_time": "2021-08-11T13:52:29.303Z"
   },
   {
    "duration": 17,
    "start_time": "2021-08-11T13:52:29.315Z"
   },
   {
    "duration": 96,
    "start_time": "2021-08-11T13:52:29.334Z"
   },
   {
    "duration": 82,
    "start_time": "2021-08-11T13:52:29.432Z"
   },
   {
    "duration": 83,
    "start_time": "2021-08-11T13:52:29.516Z"
   },
   {
    "duration": 20,
    "start_time": "2021-08-11T13:52:29.600Z"
   },
   {
    "duration": 117,
    "start_time": "2021-08-11T13:52:29.622Z"
   },
   {
    "duration": 18,
    "start_time": "2021-08-11T13:52:29.741Z"
   },
   {
    "duration": 42,
    "start_time": "2021-08-11T13:52:29.760Z"
   },
   {
    "duration": 48,
    "start_time": "2021-08-11T13:52:29.803Z"
   },
   {
    "duration": 11,
    "start_time": "2021-08-11T13:52:29.852Z"
   },
   {
    "duration": 22,
    "start_time": "2021-08-11T13:52:29.865Z"
   },
   {
    "duration": 10,
    "start_time": "2021-08-11T13:52:29.889Z"
   },
   {
    "duration": 8,
    "start_time": "2021-08-11T13:52:29.900Z"
   },
   {
    "duration": 20,
    "start_time": "2021-08-11T13:52:29.910Z"
   },
   {
    "duration": 342,
    "start_time": "2021-08-11T13:52:29.931Z"
   },
   {
    "duration": 26,
    "start_time": "2021-08-11T13:52:30.274Z"
   },
   {
    "duration": 267,
    "start_time": "2021-08-11T13:52:30.301Z"
   },
   {
    "duration": 28,
    "start_time": "2021-08-11T13:52:30.569Z"
   },
   {
    "duration": 280,
    "start_time": "2021-08-11T13:52:30.599Z"
   },
   {
    "duration": 394,
    "start_time": "2021-08-11T13:52:30.881Z"
   },
   {
    "duration": 16,
    "start_time": "2021-08-11T13:52:31.277Z"
   },
   {
    "duration": 15,
    "start_time": "2021-08-11T13:52:31.295Z"
   },
   {
    "duration": 13,
    "start_time": "2021-08-11T13:52:31.312Z"
   },
   {
    "duration": 54,
    "start_time": "2021-08-11T13:55:58.849Z"
   },
   {
    "duration": 137,
    "start_time": "2021-08-11T14:10:56.482Z"
   },
   {
    "duration": 8,
    "start_time": "2021-08-11T14:20:34.899Z"
   },
   {
    "duration": 7,
    "start_time": "2021-08-11T14:20:40.935Z"
   },
   {
    "duration": 12,
    "start_time": "2021-08-11T14:21:07.077Z"
   },
   {
    "duration": 12,
    "start_time": "2021-08-11T14:21:07.454Z"
   },
   {
    "duration": 9,
    "start_time": "2021-08-11T14:21:08.644Z"
   },
   {
    "duration": 8,
    "start_time": "2021-08-11T14:21:29.598Z"
   },
   {
    "duration": 8,
    "start_time": "2021-08-11T14:21:30.097Z"
   },
   {
    "duration": 12,
    "start_time": "2021-08-11T14:22:14.720Z"
   },
   {
    "duration": 14,
    "start_time": "2021-08-11T14:22:15.816Z"
   },
   {
    "duration": 9,
    "start_time": "2021-08-11T14:22:16.551Z"
   },
   {
    "duration": 13,
    "start_time": "2021-08-11T14:22:45.270Z"
   },
   {
    "duration": 14,
    "start_time": "2021-08-11T14:22:45.591Z"
   },
   {
    "duration": 9,
    "start_time": "2021-08-11T14:22:46.593Z"
   },
   {
    "duration": 261,
    "start_time": "2021-08-11T14:30:17.831Z"
   },
   {
    "duration": 53,
    "start_time": "2021-08-11T14:33:43.715Z"
   },
   {
    "duration": 177,
    "start_time": "2021-08-11T14:33:50.378Z"
   },
   {
    "duration": 9,
    "start_time": "2021-08-11T14:35:53.567Z"
   },
   {
    "duration": 9,
    "start_time": "2021-08-11T14:36:07.103Z"
   },
   {
    "duration": 10,
    "start_time": "2021-08-11T14:36:09.471Z"
   },
   {
    "duration": 13,
    "start_time": "2021-08-11T14:36:24.095Z"
   },
   {
    "duration": 15,
    "start_time": "2021-08-11T14:36:24.462Z"
   },
   {
    "duration": 12,
    "start_time": "2021-08-11T14:36:24.847Z"
   },
   {
    "duration": 9,
    "start_time": "2021-08-11T14:36:45.206Z"
   },
   {
    "duration": 158,
    "start_time": "2021-08-11T14:37:05.649Z"
   },
   {
    "duration": 180,
    "start_time": "2021-08-11T14:39:37.589Z"
   },
   {
    "duration": 786,
    "start_time": "2021-08-11T14:39:44.836Z"
   },
   {
    "duration": 184,
    "start_time": "2021-08-11T14:42:44.102Z"
   },
   {
    "duration": 4,
    "start_time": "2021-08-11T14:43:21.095Z"
   },
   {
    "duration": 13,
    "start_time": "2021-08-11T14:43:26.479Z"
   },
   {
    "duration": 13,
    "start_time": "2021-08-11T14:43:33.535Z"
   },
   {
    "duration": 13,
    "start_time": "2021-08-11T14:44:42.145Z"
   },
   {
    "duration": 12,
    "start_time": "2021-08-11T14:44:46.010Z"
   },
   {
    "duration": 12,
    "start_time": "2021-08-11T14:44:55.433Z"
   },
   {
    "duration": 9,
    "start_time": "2021-08-11T14:45:03.808Z"
   },
   {
    "duration": 175,
    "start_time": "2021-08-11T14:47:09.285Z"
   },
   {
    "duration": 217,
    "start_time": "2021-08-11T14:47:32.853Z"
   },
   {
    "duration": 54,
    "start_time": "2021-08-11T14:47:51.894Z"
   },
   {
    "duration": 61,
    "start_time": "2021-08-11T14:58:40.375Z"
   },
   {
    "duration": 55,
    "start_time": "2021-08-11T14:58:50.281Z"
   },
   {
    "duration": 62,
    "start_time": "2021-08-11T14:59:21.723Z"
   },
   {
    "duration": 1513,
    "start_time": "2021-08-11T15:00:29.459Z"
   },
   {
    "duration": 10,
    "start_time": "2021-08-11T15:00:30.975Z"
   },
   {
    "duration": 14,
    "start_time": "2021-08-11T15:00:30.989Z"
   },
   {
    "duration": 186,
    "start_time": "2021-08-11T15:00:31.006Z"
   },
   {
    "duration": 165,
    "start_time": "2021-08-11T15:00:31.194Z"
   },
   {
    "duration": 111,
    "start_time": "2021-08-11T15:00:31.361Z"
   },
   {
    "duration": 25,
    "start_time": "2021-08-11T15:00:31.474Z"
   },
   {
    "duration": 58,
    "start_time": "2021-08-11T15:00:31.502Z"
   },
   {
    "duration": 45,
    "start_time": "2021-08-11T15:00:31.562Z"
   },
   {
    "duration": 31,
    "start_time": "2021-08-11T15:00:31.609Z"
   },
   {
    "duration": 11,
    "start_time": "2021-08-11T15:00:31.642Z"
   },
   {
    "duration": 59,
    "start_time": "2021-08-11T15:00:31.655Z"
   },
   {
    "duration": 28,
    "start_time": "2021-08-11T15:00:31.716Z"
   },
   {
    "duration": 43,
    "start_time": "2021-08-11T15:00:31.746Z"
   },
   {
    "duration": 10,
    "start_time": "2021-08-11T15:00:31.791Z"
   },
   {
    "duration": 9,
    "start_time": "2021-08-11T15:00:31.802Z"
   },
   {
    "duration": 10,
    "start_time": "2021-08-11T15:00:31.813Z"
   },
   {
    "duration": 10,
    "start_time": "2021-08-11T15:00:31.825Z"
   },
   {
    "duration": 64,
    "start_time": "2021-08-11T15:00:31.837Z"
   },
   {
    "duration": 22,
    "start_time": "2021-08-11T15:00:31.902Z"
   },
   {
    "duration": 22,
    "start_time": "2021-08-11T15:00:31.926Z"
   },
   {
    "duration": 8,
    "start_time": "2021-08-11T15:00:31.950Z"
   },
   {
    "duration": 3,
    "start_time": "2021-08-11T15:00:31.986Z"
   },
   {
    "duration": 18,
    "start_time": "2021-08-11T15:00:31.991Z"
   },
   {
    "duration": 43,
    "start_time": "2021-08-11T15:00:32.011Z"
   },
   {
    "duration": 10,
    "start_time": "2021-08-11T15:00:32.056Z"
   },
   {
    "duration": 19,
    "start_time": "2021-08-11T15:00:32.085Z"
   },
   {
    "duration": 94,
    "start_time": "2021-08-11T15:00:32.106Z"
   },
   {
    "duration": 86,
    "start_time": "2021-08-11T15:00:32.202Z"
   },
   {
    "duration": 81,
    "start_time": "2021-08-11T15:00:32.290Z"
   },
   {
    "duration": 28,
    "start_time": "2021-08-11T15:00:32.373Z"
   },
   {
    "duration": 146,
    "start_time": "2021-08-11T15:00:32.403Z"
   },
   {
    "duration": 20,
    "start_time": "2021-08-11T15:00:32.550Z"
   },
   {
    "duration": 35,
    "start_time": "2021-08-11T15:00:32.584Z"
   },
   {
    "duration": 46,
    "start_time": "2021-08-11T15:00:32.621Z"
   },
   {
    "duration": 13,
    "start_time": "2021-08-11T15:00:32.685Z"
   },
   {
    "duration": 11,
    "start_time": "2021-08-11T15:00:32.700Z"
   },
   {
    "duration": 21,
    "start_time": "2021-08-11T15:00:32.713Z"
   },
   {
    "duration": 20,
    "start_time": "2021-08-11T15:00:32.736Z"
   },
   {
    "duration": 31,
    "start_time": "2021-08-11T15:00:32.757Z"
   },
   {
    "duration": 354,
    "start_time": "2021-08-11T15:00:32.790Z"
   },
   {
    "duration": 26,
    "start_time": "2021-08-11T15:00:33.146Z"
   },
   {
    "duration": 284,
    "start_time": "2021-08-11T15:00:33.184Z"
   },
   {
    "duration": 25,
    "start_time": "2021-08-11T15:00:33.471Z"
   },
   {
    "duration": 301,
    "start_time": "2021-08-11T15:00:33.498Z"
   },
   {
    "duration": 420,
    "start_time": "2021-08-11T15:00:33.802Z"
   },
   {
    "duration": 13,
    "start_time": "2021-08-11T15:00:34.223Z"
   },
   {
    "duration": 13,
    "start_time": "2021-08-11T15:00:34.238Z"
   },
   {
    "duration": 10,
    "start_time": "2021-08-11T15:00:34.252Z"
   },
   {
    "duration": 58,
    "start_time": "2021-08-11T15:01:45.934Z"
   },
   {
    "duration": 8,
    "start_time": "2021-08-11T15:02:06.897Z"
   },
   {
    "duration": 6,
    "start_time": "2021-08-11T15:02:10.713Z"
   },
   {
    "duration": 6,
    "start_time": "2021-08-11T15:02:17.536Z"
   },
   {
    "duration": 118,
    "start_time": "2021-08-11T20:33:19.172Z"
   },
   {
    "duration": 75,
    "start_time": "2021-08-11T20:34:41.383Z"
   },
   {
    "duration": 85,
    "start_time": "2021-08-11T20:35:37.060Z"
   },
   {
    "duration": 82,
    "start_time": "2021-08-11T20:37:17.917Z"
   },
   {
    "duration": 268,
    "start_time": "2021-08-11T20:37:43.997Z"
   },
   {
    "duration": 892,
    "start_time": "2021-08-11T20:37:53.125Z"
   },
   {
    "duration": 26,
    "start_time": "2021-08-11T20:37:54.019Z"
   },
   {
    "duration": 7,
    "start_time": "2021-08-11T20:37:54.047Z"
   },
   {
    "duration": 164,
    "start_time": "2021-08-11T20:37:54.055Z"
   },
   {
    "duration": 142,
    "start_time": "2021-08-11T20:37:54.221Z"
   },
   {
    "duration": 98,
    "start_time": "2021-08-11T20:37:54.365Z"
   },
   {
    "duration": 23,
    "start_time": "2021-08-11T20:37:54.464Z"
   },
   {
    "duration": 58,
    "start_time": "2021-08-11T20:37:54.490Z"
   },
   {
    "duration": 28,
    "start_time": "2021-08-11T20:37:54.550Z"
   },
   {
    "duration": 29,
    "start_time": "2021-08-11T20:37:54.579Z"
   },
   {
    "duration": 32,
    "start_time": "2021-08-11T20:37:54.610Z"
   },
   {
    "duration": 28,
    "start_time": "2021-08-11T20:37:54.643Z"
   },
   {
    "duration": 25,
    "start_time": "2021-08-11T20:37:54.673Z"
   },
   {
    "duration": 43,
    "start_time": "2021-08-11T20:37:54.699Z"
   },
   {
    "duration": 14,
    "start_time": "2021-08-11T20:37:54.743Z"
   },
   {
    "duration": 9,
    "start_time": "2021-08-11T20:37:54.758Z"
   },
   {
    "duration": 12,
    "start_time": "2021-08-11T20:37:54.768Z"
   },
   {
    "duration": 16,
    "start_time": "2021-08-11T20:37:54.782Z"
   },
   {
    "duration": 37,
    "start_time": "2021-08-11T20:37:54.800Z"
   },
   {
    "duration": 20,
    "start_time": "2021-08-11T20:37:54.841Z"
   },
   {
    "duration": 23,
    "start_time": "2021-08-11T20:37:54.863Z"
   },
   {
    "duration": 12,
    "start_time": "2021-08-11T20:37:54.888Z"
   },
   {
    "duration": 18,
    "start_time": "2021-08-11T20:37:54.903Z"
   },
   {
    "duration": 35,
    "start_time": "2021-08-11T20:37:54.923Z"
   },
   {
    "duration": 45,
    "start_time": "2021-08-11T20:37:54.959Z"
   },
   {
    "duration": 10,
    "start_time": "2021-08-11T20:37:55.005Z"
   },
   {
    "duration": 29,
    "start_time": "2021-08-11T20:37:55.017Z"
   },
   {
    "duration": 79,
    "start_time": "2021-08-11T20:37:55.048Z"
   },
   {
    "duration": 77,
    "start_time": "2021-08-11T20:37:55.129Z"
   },
   {
    "duration": 76,
    "start_time": "2021-08-11T20:37:55.207Z"
   },
   {
    "duration": 60,
    "start_time": "2021-08-11T20:37:55.285Z"
   },
   {
    "duration": 207,
    "start_time": "2021-08-11T20:37:55.347Z"
   },
   {
    "duration": 299,
    "start_time": "2021-08-11T20:37:55.556Z"
   },
   {
    "duration": 104,
    "start_time": "2021-08-11T20:37:55.753Z"
   },
   {
    "duration": 76,
    "start_time": "2021-08-11T20:37:55.782Z"
   },
   {
    "duration": 72,
    "start_time": "2021-08-11T20:37:55.787Z"
   },
   {
    "duration": 68,
    "start_time": "2021-08-11T20:37:55.792Z"
   },
   {
    "duration": 59,
    "start_time": "2021-08-11T20:37:55.802Z"
   },
   {
    "duration": 56,
    "start_time": "2021-08-11T20:37:55.806Z"
   },
   {
    "duration": 46,
    "start_time": "2021-08-11T20:37:55.817Z"
   },
   {
    "duration": 43,
    "start_time": "2021-08-11T20:37:55.821Z"
   },
   {
    "duration": 38,
    "start_time": "2021-08-11T20:37:55.827Z"
   },
   {
    "duration": 27,
    "start_time": "2021-08-11T20:37:55.839Z"
   },
   {
    "duration": 24,
    "start_time": "2021-08-11T20:37:55.844Z"
   },
   {
    "duration": 6,
    "start_time": "2021-08-11T20:37:55.862Z"
   },
   {
    "duration": 4,
    "start_time": "2021-08-11T20:37:55.865Z"
   },
   {
    "duration": -39,
    "start_time": "2021-08-11T20:37:55.909Z"
   },
   {
    "duration": -45,
    "start_time": "2021-08-11T20:37:55.916Z"
   },
   {
    "duration": -49,
    "start_time": "2021-08-11T20:37:55.921Z"
   },
   {
    "duration": -52,
    "start_time": "2021-08-11T20:37:55.925Z"
   },
   {
    "duration": 5,
    "start_time": "2021-08-11T20:38:32.920Z"
   },
   {
    "duration": 20,
    "start_time": "2021-08-11T20:39:12.244Z"
   },
   {
    "duration": 247,
    "start_time": "2021-08-11T20:40:02.331Z"
   },
   {
    "duration": 4,
    "start_time": "2021-08-11T20:46:11.196Z"
   },
   {
    "duration": 21,
    "start_time": "2021-08-11T20:46:19.884Z"
   },
   {
    "duration": 20,
    "start_time": "2021-08-11T20:46:44.322Z"
   },
   {
    "duration": 79,
    "start_time": "2021-08-11T20:48:09.713Z"
   },
   {
    "duration": 23,
    "start_time": "2021-08-11T20:49:06.748Z"
   },
   {
    "duration": 24,
    "start_time": "2021-08-11T20:50:52.987Z"
   },
   {
    "duration": 565,
    "start_time": "2021-08-11T20:52:05.192Z"
   },
   {
    "duration": 6,
    "start_time": "2021-08-11T20:52:05.759Z"
   },
   {
    "duration": 10,
    "start_time": "2021-08-11T20:52:05.766Z"
   },
   {
    "duration": 281,
    "start_time": "2021-08-11T20:52:05.777Z"
   },
   {
    "duration": 240,
    "start_time": "2021-08-11T20:52:06.060Z"
   },
   {
    "duration": 97,
    "start_time": "2021-08-11T20:52:06.302Z"
   },
   {
    "duration": 23,
    "start_time": "2021-08-11T20:52:06.401Z"
   },
   {
    "duration": 62,
    "start_time": "2021-08-11T20:52:06.426Z"
   },
   {
    "duration": 28,
    "start_time": "2021-08-11T20:52:06.490Z"
   },
   {
    "duration": 47,
    "start_time": "2021-08-11T20:52:06.519Z"
   },
   {
    "duration": 11,
    "start_time": "2021-08-11T20:52:06.567Z"
   },
   {
    "duration": 37,
    "start_time": "2021-08-11T20:52:06.579Z"
   },
   {
    "duration": 37,
    "start_time": "2021-08-11T20:52:06.618Z"
   },
   {
    "duration": 22,
    "start_time": "2021-08-11T20:52:06.657Z"
   },
   {
    "duration": 13,
    "start_time": "2021-08-11T20:52:06.680Z"
   },
   {
    "duration": 9,
    "start_time": "2021-08-11T20:52:06.694Z"
   },
   {
    "duration": 28,
    "start_time": "2021-08-11T20:52:06.704Z"
   },
   {
    "duration": 27,
    "start_time": "2021-08-11T20:52:06.733Z"
   },
   {
    "duration": 33,
    "start_time": "2021-08-11T20:52:06.762Z"
   },
   {
    "duration": 21,
    "start_time": "2021-08-11T20:52:06.797Z"
   },
   {
    "duration": 20,
    "start_time": "2021-08-11T20:52:06.819Z"
   },
   {
    "duration": 8,
    "start_time": "2021-08-11T20:52:06.840Z"
   },
   {
    "duration": 17,
    "start_time": "2021-08-11T20:52:06.851Z"
   },
   {
    "duration": 28,
    "start_time": "2021-08-11T20:52:06.869Z"
   },
   {
    "duration": 56,
    "start_time": "2021-08-11T20:52:06.899Z"
   },
   {
    "duration": 10,
    "start_time": "2021-08-11T20:52:06.956Z"
   },
   {
    "duration": 16,
    "start_time": "2021-08-11T20:52:06.967Z"
   },
   {
    "duration": 97,
    "start_time": "2021-08-11T20:52:06.984Z"
   },
   {
    "duration": 75,
    "start_time": "2021-08-11T20:52:07.083Z"
   },
   {
    "duration": 81,
    "start_time": "2021-08-11T20:52:07.160Z"
   },
   {
    "duration": 19,
    "start_time": "2021-08-11T20:52:07.242Z"
   },
   {
    "duration": 120,
    "start_time": "2021-08-11T20:52:07.262Z"
   },
   {
    "duration": 23,
    "start_time": "2021-08-11T20:52:07.383Z"
   },
   {
    "duration": 17,
    "start_time": "2021-08-11T20:52:07.407Z"
   },
   {
    "duration": 20,
    "start_time": "2021-08-11T20:52:07.441Z"
   },
   {
    "duration": 42,
    "start_time": "2021-08-11T20:52:07.462Z"
   },
   {
    "duration": 11,
    "start_time": "2021-08-11T20:52:07.505Z"
   },
   {
    "duration": 27,
    "start_time": "2021-08-11T20:52:07.517Z"
   },
   {
    "duration": 10,
    "start_time": "2021-08-11T20:52:07.546Z"
   },
   {
    "duration": 13,
    "start_time": "2021-08-11T20:52:07.558Z"
   },
   {
    "duration": 17,
    "start_time": "2021-08-11T20:52:07.573Z"
   },
   {
    "duration": 304,
    "start_time": "2021-08-11T20:52:07.592Z"
   },
   {
    "duration": 18,
    "start_time": "2021-08-11T20:52:07.898Z"
   },
   {
    "duration": 233,
    "start_time": "2021-08-11T20:52:07.918Z"
   },
   {
    "duration": 18,
    "start_time": "2021-08-11T20:52:08.153Z"
   },
   {
    "duration": 255,
    "start_time": "2021-08-11T20:52:08.173Z"
   },
   {
    "duration": 443,
    "start_time": "2021-08-11T20:52:08.430Z"
   },
   {
    "duration": 11,
    "start_time": "2021-08-11T20:52:08.875Z"
   },
   {
    "duration": 11,
    "start_time": "2021-08-11T20:52:08.887Z"
   },
   {
    "duration": 8,
    "start_time": "2021-08-11T20:52:08.900Z"
   },
   {
    "duration": 99,
    "start_time": "2021-08-11T20:53:06.974Z"
   },
   {
    "duration": 394,
    "start_time": "2022-04-09T09:39:28.439Z"
   },
   {
    "duration": 27,
    "start_time": "2022-04-09T09:40:07.415Z"
   },
   {
    "duration": 12,
    "start_time": "2022-04-09T09:40:21.699Z"
   },
   {
    "duration": 13,
    "start_time": "2022-04-09T09:42:41.792Z"
   },
   {
    "duration": 5,
    "start_time": "2022-04-09T09:43:28.964Z"
   },
   {
    "duration": 6,
    "start_time": "2022-04-09T09:45:02.943Z"
   },
   {
    "duration": 3,
    "start_time": "2022-04-09T09:46:51.668Z"
   },
   {
    "duration": 139,
    "start_time": "2022-04-09T09:48:16.224Z"
   },
   {
    "duration": 132,
    "start_time": "2022-04-09T09:48:25.877Z"
   },
   {
    "duration": 20,
    "start_time": "2022-04-09T09:48:29.909Z"
   },
   {
    "duration": 21,
    "start_time": "2022-04-09T09:48:42.825Z"
   },
   {
    "duration": 16,
    "start_time": "2022-04-09T09:48:57.170Z"
   },
   {
    "duration": 104,
    "start_time": "2022-04-09T09:52:29.472Z"
   },
   {
    "duration": 17,
    "start_time": "2022-04-09T09:52:32.538Z"
   },
   {
    "duration": 24,
    "start_time": "2022-04-09T09:52:46.333Z"
   },
   {
    "duration": 14,
    "start_time": "2022-04-09T09:53:08.368Z"
   },
   {
    "duration": 73,
    "start_time": "2022-04-09T09:57:26.420Z"
   },
   {
    "duration": 77,
    "start_time": "2022-04-09T09:57:30.842Z"
   },
   {
    "duration": 15,
    "start_time": "2022-04-09T09:57:35.930Z"
   },
   {
    "duration": 12,
    "start_time": "2022-04-09T09:57:53.068Z"
   },
   {
    "duration": 11,
    "start_time": "2022-04-09T09:58:14.121Z"
   },
   {
    "duration": 15,
    "start_time": "2022-04-09T10:00:10.676Z"
   },
   {
    "duration": 14,
    "start_time": "2022-04-09T10:00:15.141Z"
   },
   {
    "duration": 9,
    "start_time": "2022-04-09T10:00:20.662Z"
   },
   {
    "duration": 32,
    "start_time": "2022-04-09T10:04:36.727Z"
   },
   {
    "duration": 15,
    "start_time": "2022-04-09T10:04:42.507Z"
   },
   {
    "duration": 54,
    "start_time": "2022-04-09T10:05:26.762Z"
   },
   {
    "duration": 15,
    "start_time": "2022-04-09T10:05:35.428Z"
   },
   {
    "duration": 20,
    "start_time": "2022-04-09T10:05:55.741Z"
   },
   {
    "duration": 23,
    "start_time": "2022-04-09T10:06:29.845Z"
   },
   {
    "duration": 3,
    "start_time": "2022-04-09T10:07:40.349Z"
   },
   {
    "duration": 472,
    "start_time": "2022-04-11T08:35:40.595Z"
   },
   {
    "duration": 52,
    "start_time": "2022-04-11T08:35:43.385Z"
   },
   {
    "duration": 16,
    "start_time": "2022-04-11T08:35:44.013Z"
   },
   {
    "duration": 20,
    "start_time": "2022-04-11T08:35:44.472Z"
   },
   {
    "duration": 9,
    "start_time": "2022-04-11T08:35:44.754Z"
   },
   {
    "duration": 5,
    "start_time": "2022-04-11T08:35:45.458Z"
   },
   {
    "duration": 213,
    "start_time": "2022-04-11T08:35:46.020Z"
   },
   {
    "duration": 41,
    "start_time": "2022-04-11T08:35:46.424Z"
   },
   {
    "duration": 33,
    "start_time": "2022-04-11T08:35:46.760Z"
   },
   {
    "duration": 37,
    "start_time": "2022-04-11T08:35:47.324Z"
   },
   {
    "duration": 173,
    "start_time": "2022-04-11T08:35:52.475Z"
   },
   {
    "duration": 38,
    "start_time": "2022-04-11T08:35:53.536Z"
   },
   {
    "duration": 36,
    "start_time": "2022-04-11T08:35:54.796Z"
   },
   {
    "duration": 23,
    "start_time": "2022-04-11T08:35:55.474Z"
   },
   {
    "duration": 123,
    "start_time": "2022-04-11T08:35:58.860Z"
   },
   {
    "duration": 26,
    "start_time": "2022-04-11T08:35:59.856Z"
   },
   {
    "duration": 25,
    "start_time": "2022-04-11T08:36:02.541Z"
   },
   {
    "duration": 32,
    "start_time": "2022-04-11T08:36:04.420Z"
   },
   {
    "duration": 15,
    "start_time": "2022-04-11T08:36:05.322Z"
   },
   {
    "duration": 60,
    "start_time": "2022-04-11T08:36:08.105Z"
   },
   {
    "duration": 31,
    "start_time": "2022-04-11T08:36:10.067Z"
   },
   {
    "duration": 55,
    "start_time": "2022-04-11T08:36:22.659Z"
   },
   {
    "duration": 30,
    "start_time": "2022-04-11T08:36:23.581Z"
   },
   {
    "duration": 33,
    "start_time": "2022-04-11T08:40:48.783Z"
   },
   {
    "duration": 4,
    "start_time": "2022-04-11T08:40:51.336Z"
   },
   {
    "duration": 74,
    "start_time": "2022-04-11T08:40:56.231Z"
   },
   {
    "duration": 55,
    "start_time": "2022-04-11T08:41:36.719Z"
   },
   {
    "duration": 40,
    "start_time": "2022-04-11T08:41:57.441Z"
   },
   {
    "duration": 52,
    "start_time": "2022-04-11T08:42:10.032Z"
   },
   {
    "duration": 44,
    "start_time": "2022-04-11T08:43:22.928Z"
   },
   {
    "duration": 24,
    "start_time": "2022-04-11T08:43:28.969Z"
   },
   {
    "duration": 41,
    "start_time": "2022-04-11T08:47:45.525Z"
   },
   {
    "duration": 43,
    "start_time": "2022-04-11T08:48:19.152Z"
   },
   {
    "duration": 47,
    "start_time": "2022-04-11T08:49:13.669Z"
   },
   {
    "duration": 27,
    "start_time": "2022-04-11T08:49:19.073Z"
   },
   {
    "duration": 39,
    "start_time": "2022-04-11T08:49:30.908Z"
   },
   {
    "duration": 29,
    "start_time": "2022-04-11T08:49:35.369Z"
   },
   {
    "duration": 32,
    "start_time": "2022-04-11T08:50:30.304Z"
   },
   {
    "duration": 38,
    "start_time": "2022-04-11T08:50:41.378Z"
   },
   {
    "duration": 20,
    "start_time": "2022-04-11T08:52:30.292Z"
   },
   {
    "duration": 3376,
    "start_time": "2022-04-11T08:52:47.660Z"
   },
   {
    "duration": 3337,
    "start_time": "2022-04-11T08:53:07.913Z"
   },
   {
    "duration": 3442,
    "start_time": "2022-04-11T08:54:27.811Z"
   },
   {
    "duration": 4,
    "start_time": "2022-04-11T08:55:58.987Z"
   },
   {
    "duration": 3487,
    "start_time": "2022-04-11T08:56:01.573Z"
   },
   {
    "duration": 12,
    "start_time": "2022-04-11T08:56:47.168Z"
   },
   {
    "duration": 3,
    "start_time": "2022-04-11T08:58:10.036Z"
   },
   {
    "duration": 44,
    "start_time": "2022-04-11T08:58:11.121Z"
   },
   {
    "duration": 18,
    "start_time": "2022-04-11T08:58:11.343Z"
   },
   {
    "duration": 20,
    "start_time": "2022-04-11T08:58:11.681Z"
   },
   {
    "duration": 9,
    "start_time": "2022-04-11T08:58:11.921Z"
   },
   {
    "duration": 5,
    "start_time": "2022-04-11T08:58:12.453Z"
   },
   {
    "duration": 219,
    "start_time": "2022-04-11T08:58:12.877Z"
   },
   {
    "duration": 52,
    "start_time": "2022-04-11T08:58:13.217Z"
   },
   {
    "duration": 39,
    "start_time": "2022-04-11T08:58:13.839Z"
   },
   {
    "duration": 27,
    "start_time": "2022-04-11T08:58:14.113Z"
   },
   {
    "duration": 194,
    "start_time": "2022-04-11T08:58:15.069Z"
   },
   {
    "duration": 34,
    "start_time": "2022-04-11T08:58:15.318Z"
   },
   {
    "duration": 48,
    "start_time": "2022-04-11T08:58:15.775Z"
   },
   {
    "duration": 36,
    "start_time": "2022-04-11T08:58:16.016Z"
   },
   {
    "duration": 123,
    "start_time": "2022-04-11T08:58:16.698Z"
   },
   {
    "duration": 31,
    "start_time": "2022-04-11T08:58:16.947Z"
   },
   {
    "duration": 30,
    "start_time": "2022-04-11T08:58:17.301Z"
   },
   {
    "duration": 24,
    "start_time": "2022-04-11T08:58:18.166Z"
   },
   {
    "duration": 15,
    "start_time": "2022-04-11T08:58:18.420Z"
   },
   {
    "duration": 50,
    "start_time": "2022-04-11T08:58:20.862Z"
   },
   {
    "duration": 36,
    "start_time": "2022-04-11T08:58:21.155Z"
   },
   {
    "duration": 44,
    "start_time": "2022-04-11T08:58:22.267Z"
   },
   {
    "duration": 4,
    "start_time": "2022-04-11T08:58:22.861Z"
   },
   {
    "duration": 42,
    "start_time": "2022-04-11T08:58:23.975Z"
   },
   {
    "duration": 37,
    "start_time": "2022-04-11T08:58:25.031Z"
   },
   {
    "duration": 27,
    "start_time": "2022-04-11T08:58:27.087Z"
   },
   {
    "duration": 31,
    "start_time": "2022-04-11T08:58:36.185Z"
   },
   {
    "duration": 38,
    "start_time": "2022-04-11T08:58:37.723Z"
   },
   {
    "duration": 26,
    "start_time": "2022-04-11T08:58:38.373Z"
   },
   {
    "duration": 45,
    "start_time": "2022-04-11T08:58:38.846Z"
   },
   {
    "duration": 13,
    "start_time": "2022-04-11T08:58:39.668Z"
   },
   {
    "duration": 15,
    "start_time": "2022-04-11T08:58:48.987Z"
   },
   {
    "duration": 2852,
    "start_time": "2022-04-11T08:59:32.644Z"
   },
   {
    "duration": 4,
    "start_time": "2022-04-11T08:59:43.794Z"
   },
   {
    "duration": 51,
    "start_time": "2022-04-11T08:59:44.334Z"
   },
   {
    "duration": 18,
    "start_time": "2022-04-11T08:59:44.735Z"
   },
   {
    "duration": 35,
    "start_time": "2022-04-11T08:59:44.757Z"
   },
   {
    "duration": 11,
    "start_time": "2022-04-11T08:59:44.950Z"
   },
   {
    "duration": 6,
    "start_time": "2022-04-11T08:59:45.320Z"
   },
   {
    "duration": 302,
    "start_time": "2022-04-11T08:59:45.845Z"
   },
   {
    "duration": 39,
    "start_time": "2022-04-11T08:59:46.150Z"
   },
   {
    "duration": 32,
    "start_time": "2022-04-11T08:59:46.271Z"
   },
   {
    "duration": 37,
    "start_time": "2022-04-11T08:59:47.236Z"
   },
   {
    "duration": 191,
    "start_time": "2022-04-11T08:59:47.277Z"
   },
   {
    "duration": 35,
    "start_time": "2022-04-11T08:59:47.759Z"
   },
   {
    "duration": 38,
    "start_time": "2022-04-11T08:59:48.034Z"
   },
   {
    "duration": 22,
    "start_time": "2022-04-11T08:59:48.220Z"
   },
   {
    "duration": 124,
    "start_time": "2022-04-11T08:59:48.781Z"
   },
   {
    "duration": 36,
    "start_time": "2022-04-11T08:59:49.036Z"
   },
   {
    "duration": 19,
    "start_time": "2022-04-11T08:59:49.505Z"
   },
   {
    "duration": 30,
    "start_time": "2022-04-11T08:59:51.323Z"
   },
   {
    "duration": 15,
    "start_time": "2022-04-11T08:59:51.580Z"
   },
   {
    "duration": 67,
    "start_time": "2022-04-11T08:59:52.702Z"
   },
   {
    "duration": 42,
    "start_time": "2022-04-11T08:59:52.954Z"
   },
   {
    "duration": 44,
    "start_time": "2022-04-11T08:59:53.391Z"
   },
   {
    "duration": 5,
    "start_time": "2022-04-11T08:59:53.609Z"
   },
   {
    "duration": 34,
    "start_time": "2022-04-11T08:59:54.077Z"
   },
   {
    "duration": 37,
    "start_time": "2022-04-11T08:59:54.340Z"
   },
   {
    "duration": 35,
    "start_time": "2022-04-11T08:59:54.547Z"
   },
   {
    "duration": 28,
    "start_time": "2022-04-11T08:59:54.974Z"
   },
   {
    "duration": 22,
    "start_time": "2022-04-11T08:59:55.772Z"
   },
   {
    "duration": 25,
    "start_time": "2022-04-11T08:59:55.796Z"
   },
   {
    "duration": 21,
    "start_time": "2022-04-11T08:59:56.352Z"
   },
   {
    "duration": 28,
    "start_time": "2022-04-11T09:00:45.273Z"
   },
   {
    "duration": 8,
    "start_time": "2022-04-11T09:01:15.296Z"
   },
   {
    "duration": 21,
    "start_time": "2022-04-11T09:02:00.863Z"
   },
   {
    "duration": 79,
    "start_time": "2022-04-11T09:02:51.817Z"
   },
   {
    "duration": 118,
    "start_time": "2022-04-11T09:02:52.775Z"
   },
   {
    "duration": 103,
    "start_time": "2022-04-11T09:02:55.379Z"
   },
   {
    "duration": 121,
    "start_time": "2022-04-11T09:03:30.536Z"
   },
   {
    "duration": 42,
    "start_time": "2022-04-11T09:06:21.825Z"
   },
   {
    "duration": 35,
    "start_time": "2022-04-11T09:07:21.437Z"
   },
   {
    "duration": 28,
    "start_time": "2022-04-11T09:08:23.885Z"
   },
   {
    "duration": 34,
    "start_time": "2022-04-11T09:08:25.681Z"
   },
   {
    "duration": 21,
    "start_time": "2022-04-11T09:09:34.590Z"
   },
   {
    "duration": 46,
    "start_time": "2022-04-11T09:09:55.321Z"
   },
   {
    "duration": 28,
    "start_time": "2022-04-11T09:10:11.971Z"
   },
   {
    "duration": 20,
    "start_time": "2022-04-11T09:10:20.839Z"
   },
   {
    "duration": 24,
    "start_time": "2022-04-11T09:11:08.461Z"
   },
   {
    "duration": 11,
    "start_time": "2022-04-11T09:11:16.139Z"
   },
   {
    "duration": 18,
    "start_time": "2022-04-11T09:11:53.769Z"
   },
   {
    "duration": 20,
    "start_time": "2022-04-11T09:12:13.803Z"
   },
   {
    "duration": 9,
    "start_time": "2022-04-11T09:12:25.023Z"
   },
   {
    "duration": 16,
    "start_time": "2022-04-11T09:12:26.169Z"
   },
   {
    "duration": 28,
    "start_time": "2022-04-11T09:12:36.243Z"
   },
   {
    "duration": 8,
    "start_time": "2022-04-11T09:12:53.237Z"
   },
   {
    "duration": 14,
    "start_time": "2022-04-11T09:12:54.616Z"
   },
   {
    "duration": 12,
    "start_time": "2022-04-11T09:13:07.019Z"
   },
   {
    "duration": 25,
    "start_time": "2022-04-11T09:13:42.036Z"
   },
   {
    "duration": 4,
    "start_time": "2022-04-11T09:16:04.863Z"
   },
   {
    "duration": 55,
    "start_time": "2022-04-11T09:16:05.701Z"
   },
   {
    "duration": 16,
    "start_time": "2022-04-11T09:16:05.903Z"
   },
   {
    "duration": 21,
    "start_time": "2022-04-11T09:16:06.127Z"
   },
   {
    "duration": 11,
    "start_time": "2022-04-11T09:16:06.341Z"
   },
   {
    "duration": 7,
    "start_time": "2022-04-11T09:16:06.763Z"
   },
   {
    "duration": 403,
    "start_time": "2022-04-11T09:16:07.208Z"
   },
   {
    "duration": 45,
    "start_time": "2022-04-11T09:16:07.614Z"
   },
   {
    "duration": 33,
    "start_time": "2022-04-11T09:16:07.695Z"
   },
   {
    "duration": 46,
    "start_time": "2022-04-11T09:16:07.970Z"
   },
   {
    "duration": 190,
    "start_time": "2022-04-11T09:16:09.621Z"
   },
   {
    "duration": 40,
    "start_time": "2022-04-11T09:16:09.814Z"
   },
   {
    "duration": 34,
    "start_time": "2022-04-11T09:16:09.861Z"
   },
   {
    "duration": 25,
    "start_time": "2022-04-11T09:16:10.804Z"
   },
   {
    "duration": 165,
    "start_time": "2022-04-11T09:16:11.384Z"
   },
   {
    "duration": 29,
    "start_time": "2022-04-11T09:16:11.658Z"
   },
   {
    "duration": 19,
    "start_time": "2022-04-11T09:16:11.866Z"
   },
   {
    "duration": 30,
    "start_time": "2022-04-11T09:16:12.936Z"
   },
   {
    "duration": 14,
    "start_time": "2022-04-11T09:16:13.193Z"
   },
   {
    "duration": 69,
    "start_time": "2022-04-11T09:16:14.223Z"
   },
   {
    "duration": 32,
    "start_time": "2022-04-11T09:16:14.585Z"
   },
   {
    "duration": 32,
    "start_time": "2022-04-11T09:16:15.087Z"
   },
   {
    "duration": 4,
    "start_time": "2022-04-11T09:16:15.371Z"
   },
   {
    "duration": 35,
    "start_time": "2022-04-11T09:16:16.002Z"
   },
   {
    "duration": 25,
    "start_time": "2022-04-11T09:16:16.271Z"
   },
   {
    "duration": 26,
    "start_time": "2022-04-11T09:16:16.477Z"
   },
   {
    "duration": 37,
    "start_time": "2022-04-11T09:16:16.904Z"
   },
   {
    "duration": 26,
    "start_time": "2022-04-11T09:16:17.289Z"
   },
   {
    "duration": 25,
    "start_time": "2022-04-11T09:16:17.592Z"
   },
   {
    "duration": 12,
    "start_time": "2022-04-11T09:16:18.042Z"
   },
   {
    "duration": 26,
    "start_time": "2022-04-11T09:16:19.594Z"
   },
   {
    "duration": 7,
    "start_time": "2022-04-11T09:16:19.814Z"
   },
   {
    "duration": 41,
    "start_time": "2022-04-11T09:16:19.997Z"
   },
   {
    "duration": 37,
    "start_time": "2022-04-11T09:16:21.873Z"
   },
   {
    "duration": 26,
    "start_time": "2022-04-11T09:16:22.349Z"
   },
   {
    "duration": 104,
    "start_time": "2022-04-11T09:16:22.667Z"
   },
   {
    "duration": 19,
    "start_time": "2022-04-11T09:16:23.671Z"
   },
   {
    "duration": 9,
    "start_time": "2022-04-11T09:16:24.278Z"
   },
   {
    "duration": 16,
    "start_time": "2022-04-11T09:16:25.914Z"
   },
   {
    "duration": 4,
    "start_time": "2022-04-11T09:16:33.520Z"
   },
   {
    "duration": 16,
    "start_time": "2022-04-11T09:16:34.398Z"
   },
   {
    "duration": 4,
    "start_time": "2022-04-11T09:16:48.531Z"
   },
   {
    "duration": 65,
    "start_time": "2022-04-11T09:16:49.823Z"
   },
   {
    "duration": 16,
    "start_time": "2022-04-11T09:16:50.013Z"
   },
   {
    "duration": 21,
    "start_time": "2022-04-11T09:16:50.484Z"
   },
   {
    "duration": 8,
    "start_time": "2022-04-11T09:16:50.836Z"
   },
   {
    "duration": 6,
    "start_time": "2022-04-11T09:16:51.139Z"
   },
   {
    "duration": 285,
    "start_time": "2022-04-11T09:16:51.461Z"
   },
   {
    "duration": 38,
    "start_time": "2022-04-11T09:16:51.750Z"
   },
   {
    "duration": 36,
    "start_time": "2022-04-11T09:16:51.811Z"
   },
   {
    "duration": 44,
    "start_time": "2022-04-11T09:16:51.989Z"
   },
   {
    "duration": 259,
    "start_time": "2022-04-11T09:16:52.711Z"
   },
   {
    "duration": 42,
    "start_time": "2022-04-11T09:16:52.974Z"
   },
   {
    "duration": 49,
    "start_time": "2022-04-11T09:16:53.099Z"
   },
   {
    "duration": 22,
    "start_time": "2022-04-11T09:16:53.288Z"
   },
   {
    "duration": 130,
    "start_time": "2022-04-11T09:16:53.981Z"
   },
   {
    "duration": 26,
    "start_time": "2022-04-11T09:16:54.183Z"
   },
   {
    "duration": 20,
    "start_time": "2022-04-11T09:16:54.394Z"
   },
   {
    "duration": 32,
    "start_time": "2022-04-11T09:16:55.030Z"
   },
   {
    "duration": 19,
    "start_time": "2022-04-11T09:16:55.384Z"
   },
   {
    "duration": 50,
    "start_time": "2022-04-11T09:16:56.653Z"
   },
   {
    "duration": 40,
    "start_time": "2022-04-11T09:16:56.872Z"
   },
   {
    "duration": 42,
    "start_time": "2022-04-11T09:16:57.861Z"
   },
   {
    "duration": 7,
    "start_time": "2022-04-11T09:16:58.341Z"
   },
   {
    "duration": 48,
    "start_time": "2022-04-11T09:16:58.926Z"
   },
   {
    "duration": 25,
    "start_time": "2022-04-11T09:16:59.094Z"
   },
   {
    "duration": 28,
    "start_time": "2022-04-11T09:16:59.287Z"
   },
   {
    "duration": 41,
    "start_time": "2022-04-11T09:16:59.833Z"
   },
   {
    "duration": 22,
    "start_time": "2022-04-11T09:17:00.064Z"
   },
   {
    "duration": 44,
    "start_time": "2022-04-11T09:17:00.322Z"
   },
   {
    "duration": 8,
    "start_time": "2022-04-11T09:17:00.865Z"
   },
   {
    "duration": 36,
    "start_time": "2022-04-11T09:17:01.863Z"
   },
   {
    "duration": 8,
    "start_time": "2022-04-11T09:17:02.215Z"
   },
   {
    "duration": 34,
    "start_time": "2022-04-11T09:17:02.994Z"
   },
   {
    "duration": 31,
    "start_time": "2022-04-11T09:17:05.334Z"
   },
   {
    "duration": 17,
    "start_time": "2022-04-11T09:17:06.063Z"
   },
   {
    "duration": 91,
    "start_time": "2022-04-11T09:17:08.310Z"
   },
   {
    "duration": 19,
    "start_time": "2022-04-11T09:17:09.565Z"
   },
   {
    "duration": 8,
    "start_time": "2022-04-11T09:17:10.347Z"
   },
   {
    "duration": 20,
    "start_time": "2022-04-11T09:17:16.309Z"
   },
   {
    "duration": 19,
    "start_time": "2022-04-11T09:17:51.775Z"
   },
   {
    "duration": 29,
    "start_time": "2022-04-11T09:18:19.714Z"
   },
   {
    "duration": 35,
    "start_time": "2022-04-11T09:18:28.681Z"
   },
   {
    "duration": 27,
    "start_time": "2022-04-11T09:18:34.295Z"
   },
   {
    "duration": 17,
    "start_time": "2022-04-11T09:18:34.964Z"
   },
   {
    "duration": 71,
    "start_time": "2022-04-11T09:18:35.747Z"
   },
   {
    "duration": 23,
    "start_time": "2022-04-11T09:18:37.274Z"
   },
   {
    "duration": 28,
    "start_time": "2022-04-11T09:18:38.055Z"
   },
   {
    "duration": 4,
    "start_time": "2022-04-11T09:19:00.768Z"
   },
   {
    "duration": 42,
    "start_time": "2022-04-11T09:19:01.710Z"
   },
   {
    "duration": 15,
    "start_time": "2022-04-11T09:19:01.869Z"
   },
   {
    "duration": 25,
    "start_time": "2022-04-11T09:19:02.050Z"
   },
   {
    "duration": 9,
    "start_time": "2022-04-11T09:19:02.252Z"
   },
   {
    "duration": 6,
    "start_time": "2022-04-11T09:19:02.926Z"
   },
   {
    "duration": 240,
    "start_time": "2022-04-11T09:19:03.442Z"
   },
   {
    "duration": 33,
    "start_time": "2022-04-11T09:19:03.685Z"
   },
   {
    "duration": 42,
    "start_time": "2022-04-11T09:19:03.817Z"
   },
   {
    "duration": 28,
    "start_time": "2022-04-11T09:19:04.358Z"
   },
   {
    "duration": 180,
    "start_time": "2022-04-11T09:19:05.257Z"
   },
   {
    "duration": 29,
    "start_time": "2022-04-11T09:19:05.494Z"
   },
   {
    "duration": 39,
    "start_time": "2022-04-11T09:19:05.735Z"
   },
   {
    "duration": 22,
    "start_time": "2022-04-11T09:19:05.967Z"
   },
   {
    "duration": 126,
    "start_time": "2022-04-11T09:19:06.618Z"
   },
   {
    "duration": 33,
    "start_time": "2022-04-11T09:19:06.844Z"
   },
   {
    "duration": 19,
    "start_time": "2022-04-11T09:19:07.074Z"
   },
   {
    "duration": 30,
    "start_time": "2022-04-11T09:19:07.691Z"
   },
   {
    "duration": 19,
    "start_time": "2022-04-11T09:19:07.893Z"
   },
   {
    "duration": 47,
    "start_time": "2022-04-11T09:19:08.894Z"
   },
   {
    "duration": 30,
    "start_time": "2022-04-11T09:19:09.866Z"
   },
   {
    "duration": 33,
    "start_time": "2022-04-11T09:19:10.467Z"
   },
   {
    "duration": 5,
    "start_time": "2022-04-11T09:19:10.729Z"
   },
   {
    "duration": 35,
    "start_time": "2022-04-11T09:19:11.865Z"
   },
   {
    "duration": 29,
    "start_time": "2022-04-11T09:19:12.052Z"
   },
   {
    "duration": 29,
    "start_time": "2022-04-11T09:19:12.380Z"
   },
   {
    "duration": 29,
    "start_time": "2022-04-11T09:19:12.806Z"
   },
   {
    "duration": 23,
    "start_time": "2022-04-11T09:19:13.108Z"
   },
   {
    "duration": 27,
    "start_time": "2022-04-11T09:19:13.468Z"
   },
   {
    "duration": 8,
    "start_time": "2022-04-11T09:19:14.079Z"
   },
   {
    "duration": 28,
    "start_time": "2022-04-11T09:19:14.854Z"
   },
   {
    "duration": 9,
    "start_time": "2022-04-11T09:19:15.084Z"
   },
   {
    "duration": 40,
    "start_time": "2022-04-11T09:19:15.350Z"
   },
   {
    "duration": 29,
    "start_time": "2022-04-11T09:19:17.304Z"
   },
   {
    "duration": 22,
    "start_time": "2022-04-11T09:19:17.666Z"
   },
   {
    "duration": 110,
    "start_time": "2022-04-11T09:19:18.142Z"
   },
   {
    "duration": 30,
    "start_time": "2022-04-11T09:19:18.763Z"
   },
   {
    "duration": 31,
    "start_time": "2022-04-11T09:19:19.390Z"
   },
   {
    "duration": 22,
    "start_time": "2022-04-11T09:19:29.388Z"
   },
   {
    "duration": 9,
    "start_time": "2022-04-11T09:19:30.088Z"
   },
   {
    "duration": 16,
    "start_time": "2022-04-11T09:19:32.386Z"
   },
   {
    "duration": 18,
    "start_time": "2022-04-11T09:19:40.960Z"
   },
   {
    "duration": 25,
    "start_time": "2022-04-11T09:19:54.362Z"
   },
   {
    "duration": 28,
    "start_time": "2022-04-11T09:20:12.860Z"
   },
   {
    "duration": 965,
    "start_time": "2022-04-11T09:20:29.557Z"
   },
   {
    "duration": 55,
    "start_time": "2022-04-11T09:20:30.529Z"
   },
   {
    "duration": 20,
    "start_time": "2022-04-11T09:20:31.231Z"
   },
   {
    "duration": 128,
    "start_time": "2022-04-11T09:20:31.422Z"
   },
   {
    "duration": 47,
    "start_time": "2022-04-11T09:20:31.631Z"
   },
   {
    "duration": 6,
    "start_time": "2022-04-11T09:20:31.970Z"
   },
   {
    "duration": 320,
    "start_time": "2022-04-11T09:20:32.306Z"
   },
   {
    "duration": 58,
    "start_time": "2022-04-11T09:20:32.629Z"
   },
   {
    "duration": 40,
    "start_time": "2022-04-11T09:20:32.728Z"
   },
   {
    "duration": 35,
    "start_time": "2022-04-11T09:20:32.937Z"
   },
   {
    "duration": 190,
    "start_time": "2022-04-11T09:20:33.522Z"
   },
   {
    "duration": 44,
    "start_time": "2022-04-11T09:20:33.714Z"
   },
   {
    "duration": 34,
    "start_time": "2022-04-11T09:20:33.888Z"
   },
   {
    "duration": 33,
    "start_time": "2022-04-11T09:20:34.058Z"
   },
   {
    "duration": 127,
    "start_time": "2022-04-11T09:20:34.680Z"
   },
   {
    "duration": 26,
    "start_time": "2022-04-11T09:20:34.913Z"
   },
   {
    "duration": 26,
    "start_time": "2022-04-11T09:20:35.145Z"
   },
   {
    "duration": 30,
    "start_time": "2022-04-11T09:20:35.948Z"
   },
   {
    "duration": 17,
    "start_time": "2022-04-11T09:20:36.205Z"
   },
   {
    "duration": 51,
    "start_time": "2022-04-11T09:20:37.348Z"
   },
   {
    "duration": 30,
    "start_time": "2022-04-11T09:20:37.596Z"
   },
   {
    "duration": 33,
    "start_time": "2022-04-11T09:20:38.069Z"
   },
   {
    "duration": 4,
    "start_time": "2022-04-11T09:20:38.288Z"
   },
   {
    "duration": 43,
    "start_time": "2022-04-11T09:20:38.844Z"
   },
   {
    "duration": 24,
    "start_time": "2022-04-11T09:20:39.088Z"
   },
   {
    "duration": 29,
    "start_time": "2022-04-11T09:20:39.362Z"
   },
   {
    "duration": 32,
    "start_time": "2022-04-11T09:20:39.818Z"
   },
   {
    "duration": 20,
    "start_time": "2022-04-11T09:20:40.199Z"
   },
   {
    "duration": 40,
    "start_time": "2022-04-11T09:20:40.296Z"
   },
   {
    "duration": 12,
    "start_time": "2022-04-11T09:20:40.962Z"
   },
   {
    "duration": 31,
    "start_time": "2022-04-11T09:20:41.943Z"
   },
   {
    "duration": 11,
    "start_time": "2022-04-11T09:20:42.205Z"
   },
   {
    "duration": 38,
    "start_time": "2022-04-11T09:20:42.415Z"
   },
   {
    "duration": 29,
    "start_time": "2022-04-11T09:20:44.452Z"
   },
   {
    "duration": 18,
    "start_time": "2022-04-11T09:20:44.945Z"
   },
   {
    "duration": 76,
    "start_time": "2022-04-11T09:20:45.326Z"
   },
   {
    "duration": 20,
    "start_time": "2022-04-11T09:20:45.865Z"
   },
   {
    "duration": 9,
    "start_time": "2022-04-11T09:20:46.375Z"
   },
   {
    "duration": 18,
    "start_time": "2022-04-11T09:20:47.632Z"
   },
   {
    "duration": 18,
    "start_time": "2022-04-11T09:20:48.717Z"
   },
   {
    "duration": 32,
    "start_time": "2022-04-11T09:20:51.141Z"
   },
   {
    "duration": 333,
    "start_time": "2022-04-11T09:21:05.122Z"
   },
   {
    "duration": 34,
    "start_time": "2022-04-11T09:21:32.401Z"
   },
   {
    "duration": 355,
    "start_time": "2022-04-11T09:21:35.050Z"
   },
   {
    "duration": 29,
    "start_time": "2022-04-11T09:22:01.174Z"
   },
   {
    "duration": 470,
    "start_time": "2022-04-11T09:22:02.799Z"
   },
   {
    "duration": 26,
    "start_time": "2022-04-11T09:25:53.568Z"
   },
   {
    "duration": 297,
    "start_time": "2022-04-11T09:26:53.147Z"
   },
   {
    "duration": 239,
    "start_time": "2022-04-11T09:27:11.071Z"
   },
   {
    "duration": 287,
    "start_time": "2022-04-11T09:27:17.803Z"
   },
   {
    "duration": 273,
    "start_time": "2022-04-11T09:27:27.346Z"
   },
   {
    "duration": 383,
    "start_time": "2022-04-11T09:27:41.579Z"
   },
   {
    "duration": 341,
    "start_time": "2022-04-11T09:28:22.714Z"
   },
   {
    "duration": 325,
    "start_time": "2022-04-11T09:28:38.807Z"
   },
   {
    "duration": 660,
    "start_time": "2022-04-11T09:29:32.767Z"
   },
   {
    "duration": 5,
    "start_time": "2022-04-11T09:29:52.568Z"
   },
   {
    "duration": 75,
    "start_time": "2022-04-11T09:29:53.314Z"
   },
   {
    "duration": 17,
    "start_time": "2022-04-11T09:29:53.569Z"
   },
   {
    "duration": 20,
    "start_time": "2022-04-11T09:29:53.771Z"
   },
   {
    "duration": 10,
    "start_time": "2022-04-11T09:29:53.967Z"
   },
   {
    "duration": 6,
    "start_time": "2022-04-11T09:29:54.284Z"
   },
   {
    "duration": 244,
    "start_time": "2022-04-11T09:29:54.670Z"
   },
   {
    "duration": 48,
    "start_time": "2022-04-11T09:29:54.916Z"
   },
   {
    "duration": 34,
    "start_time": "2022-04-11T09:29:55.103Z"
   },
   {
    "duration": 26,
    "start_time": "2022-04-11T09:29:55.313Z"
   },
   {
    "duration": 194,
    "start_time": "2022-04-11T09:29:55.935Z"
   },
   {
    "duration": 40,
    "start_time": "2022-04-11T09:29:56.234Z"
   },
   {
    "duration": 43,
    "start_time": "2022-04-11T09:29:56.443Z"
   },
   {
    "duration": 22,
    "start_time": "2022-04-11T09:29:56.707Z"
   },
   {
    "duration": 143,
    "start_time": "2022-04-11T09:29:57.535Z"
   },
   {
    "duration": 26,
    "start_time": "2022-04-11T09:29:58.189Z"
   },
   {
    "duration": 19,
    "start_time": "2022-04-11T09:29:58.618Z"
   },
   {
    "duration": 26,
    "start_time": "2022-04-11T09:29:59.664Z"
   },
   {
    "duration": 16,
    "start_time": "2022-04-11T09:29:59.955Z"
   },
   {
    "duration": 48,
    "start_time": "2022-04-11T09:30:01.269Z"
   },
   {
    "duration": 32,
    "start_time": "2022-04-11T09:30:01.472Z"
   },
   {
    "duration": 32,
    "start_time": "2022-04-11T09:30:01.989Z"
   },
   {
    "duration": 4,
    "start_time": "2022-04-11T09:30:02.195Z"
   },
   {
    "duration": 39,
    "start_time": "2022-04-11T09:30:02.662Z"
   },
   {
    "duration": 25,
    "start_time": "2022-04-11T09:30:02.897Z"
   },
   {
    "duration": 28,
    "start_time": "2022-04-11T09:30:03.098Z"
   },
   {
    "duration": 48,
    "start_time": "2022-04-11T09:30:03.539Z"
   },
   {
    "duration": 23,
    "start_time": "2022-04-11T09:30:04.032Z"
   },
   {
    "duration": 42,
    "start_time": "2022-04-11T09:30:04.236Z"
   },
   {
    "duration": 8,
    "start_time": "2022-04-11T09:30:04.670Z"
   },
   {
    "duration": 27,
    "start_time": "2022-04-11T09:30:05.567Z"
   },
   {
    "duration": 8,
    "start_time": "2022-04-11T09:30:05.785Z"
   },
   {
    "duration": 51,
    "start_time": "2022-04-11T09:30:06.043Z"
   },
   {
    "duration": 27,
    "start_time": "2022-04-11T09:30:07.788Z"
   },
   {
    "duration": 21,
    "start_time": "2022-04-11T09:30:09.753Z"
   },
   {
    "duration": 82,
    "start_time": "2022-04-11T09:30:09.777Z"
   },
   {
    "duration": 19,
    "start_time": "2022-04-11T09:30:09.864Z"
   },
   {
    "duration": 8,
    "start_time": "2022-04-11T09:30:09.885Z"
   },
   {
    "duration": 22,
    "start_time": "2022-04-11T09:30:10.446Z"
   },
   {
    "duration": 18,
    "start_time": "2022-04-11T09:30:11.087Z"
   },
   {
    "duration": 30,
    "start_time": "2022-04-11T09:30:12.147Z"
   },
   {
    "duration": 325,
    "start_time": "2022-04-11T09:30:12.370Z"
   },
   {
    "duration": 36,
    "start_time": "2022-04-11T09:30:14.740Z"
   },
   {
    "duration": 348,
    "start_time": "2022-04-11T09:30:15.424Z"
   },
   {
    "duration": 29,
    "start_time": "2022-04-11T09:30:17.197Z"
   },
   {
    "duration": 363,
    "start_time": "2022-04-11T09:30:17.535Z"
   },
   {
    "duration": 30,
    "start_time": "2022-04-11T09:30:27.043Z"
   },
   {
    "duration": 22,
    "start_time": "2022-04-11T09:30:29.962Z"
   },
   {
    "duration": 18,
    "start_time": "2022-04-11T09:30:39.609Z"
   },
   {
    "duration": 14,
    "start_time": "2022-04-11T09:30:40.685Z"
   },
   {
    "duration": 1447,
    "start_time": "2022-04-11T09:42:18.201Z"
   },
   {
    "duration": 48,
    "start_time": "2022-04-11T09:42:19.651Z"
   },
   {
    "duration": 17,
    "start_time": "2022-04-11T09:42:19.701Z"
   },
   {
    "duration": 28,
    "start_time": "2022-04-11T09:42:19.721Z"
   },
   {
    "duration": 17,
    "start_time": "2022-04-11T09:42:19.752Z"
   },
   {
    "duration": 41,
    "start_time": "2022-04-11T09:42:19.770Z"
   },
   {
    "duration": 233,
    "start_time": "2022-04-11T09:42:19.813Z"
   },
   {
    "duration": 34,
    "start_time": "2022-04-11T09:42:20.048Z"
   },
   {
    "duration": 50,
    "start_time": "2022-04-11T09:42:20.084Z"
   },
   {
    "duration": 27,
    "start_time": "2022-04-11T09:42:20.145Z"
   },
   {
    "duration": 203,
    "start_time": "2022-04-11T09:42:20.174Z"
   },
   {
    "duration": 29,
    "start_time": "2022-04-11T09:42:20.379Z"
   },
   {
    "duration": 55,
    "start_time": "2022-04-11T09:42:20.410Z"
   },
   {
    "duration": 22,
    "start_time": "2022-04-11T09:42:20.467Z"
   },
   {
    "duration": 148,
    "start_time": "2022-04-11T09:42:20.491Z"
   },
   {
    "duration": 25,
    "start_time": "2022-04-11T09:42:20.642Z"
   },
   {
    "duration": 19,
    "start_time": "2022-04-11T09:42:20.670Z"
   },
   {
    "duration": 29,
    "start_time": "2022-04-11T09:42:20.692Z"
   },
   {
    "duration": 16,
    "start_time": "2022-04-11T09:42:20.742Z"
   },
   {
    "duration": 103,
    "start_time": "2022-04-11T09:42:20.761Z"
   },
   {
    "duration": 31,
    "start_time": "2022-04-11T09:42:20.866Z"
   },
   {
    "duration": 53,
    "start_time": "2022-04-11T09:42:20.900Z"
   },
   {
    "duration": 4,
    "start_time": "2022-04-11T09:42:20.955Z"
   },
   {
    "duration": 63,
    "start_time": "2022-04-11T09:42:20.961Z"
   },
   {
    "duration": 36,
    "start_time": "2022-04-11T09:42:21.026Z"
   },
   {
    "duration": 33,
    "start_time": "2022-04-11T09:42:21.064Z"
   },
   {
    "duration": 70,
    "start_time": "2022-04-11T09:42:21.100Z"
   },
   {
    "duration": 21,
    "start_time": "2022-04-11T09:42:21.177Z"
   },
   {
    "duration": 57,
    "start_time": "2022-04-11T09:42:21.200Z"
   },
   {
    "duration": 9,
    "start_time": "2022-04-11T09:42:21.260Z"
   },
   {
    "duration": 31,
    "start_time": "2022-04-11T09:42:21.271Z"
   },
   {
    "duration": 9,
    "start_time": "2022-04-11T09:42:21.305Z"
   },
   {
    "duration": 61,
    "start_time": "2022-04-11T09:42:21.316Z"
   },
   {
    "duration": 32,
    "start_time": "2022-04-11T09:42:21.380Z"
   },
   {
    "duration": 45,
    "start_time": "2022-04-11T09:42:21.414Z"
   },
   {
    "duration": 101,
    "start_time": "2022-04-11T09:42:21.462Z"
   },
   {
    "duration": 18,
    "start_time": "2022-04-11T09:42:21.567Z"
   },
   {
    "duration": 15,
    "start_time": "2022-04-11T09:42:21.587Z"
   },
   {
    "duration": 44,
    "start_time": "2022-04-11T09:42:21.603Z"
   },
   {
    "duration": 23,
    "start_time": "2022-04-11T09:42:21.649Z"
   },
   {
    "duration": 27,
    "start_time": "2022-04-11T09:42:21.674Z"
   },
   {
    "duration": 339,
    "start_time": "2022-04-11T09:42:21.703Z"
   },
   {
    "duration": 28,
    "start_time": "2022-04-11T09:42:22.045Z"
   },
   {
    "duration": 341,
    "start_time": "2022-04-11T09:42:22.076Z"
   },
   {
    "duration": 40,
    "start_time": "2022-04-11T09:42:22.420Z"
   },
   {
    "duration": 340,
    "start_time": "2022-04-11T09:42:22.462Z"
   },
   {
    "duration": 16,
    "start_time": "2022-04-11T09:42:22.804Z"
   },
   {
    "duration": 34,
    "start_time": "2022-04-11T09:42:22.823Z"
   },
   {
    "duration": 17,
    "start_time": "2022-04-11T09:42:22.859Z"
   },
   {
    "duration": 13,
    "start_time": "2022-04-11T09:42:22.878Z"
   }
  ],
  "kernelspec": {
   "display_name": "Python 3 (ipykernel)",
   "language": "python",
   "name": "python3"
  },
  "language_info": {
   "codemirror_mode": {
    "name": "ipython",
    "version": 3
   },
   "file_extension": ".py",
   "mimetype": "text/x-python",
   "name": "python",
   "nbconvert_exporter": "python",
   "pygments_lexer": "ipython3",
   "version": "3.9.5"
  },
  "toc": {
   "base_numbering": 1,
   "nav_menu": {},
   "number_sections": true,
   "sideBar": true,
   "skip_h1_title": true,
   "title_cell": "Table of Contents",
   "title_sidebar": "Contents",
   "toc_cell": false,
   "toc_position": {
    "height": "calc(100% - 180px)",
    "left": "10px",
    "top": "150px",
    "width": "165px"
   },
   "toc_section_display": true,
   "toc_window_display": true
  }
 },
 "nbformat": 4,
 "nbformat_minor": 2
}
